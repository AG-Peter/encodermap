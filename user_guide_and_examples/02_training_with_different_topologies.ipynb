{
 "cells": [
  {
   "cell_type": "markdown",
   "metadata": {
    "collapsed": true
   },
   "source": [
    "# Training with different topologies\n",
    "\n",
    "Int this tutorial, you will learn how to use EncoderMap's new sparse trainign feature to learn the conformations of multiple proteins with different topologies.\n",
    "\n",
    "Run this notebook on Google Colab:\n",
    "\n",
    "[![Open in Colab](https://colab.research.google.com/assets/colab-badge.svg)](https://colab.research.google.com/github/AG-Peter/encodermap/blob/main/tutorials/notebooks_intermediate/02_training_with_different_topologies.ipynb)\n",
    "\n",
    "Find the documentation of EncoderMap:\n",
    "\n",
    "https://ag-peter.github.io/encodermap\n",
    "\n",
    "## Install encodermap on Google colab\n",
    "\n",
    "If you are on Google colab, please uncomment this line and install encodermap:"
   ]
  },
  {
   "cell_type": "code",
   "execution_count": 1,
   "metadata": {
    "execution": {
     "iopub.execute_input": "2023-02-07T11:08:13.644672Z",
     "iopub.status.busy": "2023-02-07T11:08:13.644151Z",
     "iopub.status.idle": "2023-02-07T11:08:13.648579Z",
     "shell.execute_reply": "2023-02-07T11:08:13.647633Z"
    }
   },
   "outputs": [],
   "source": [
    "# !pip install \"git+https://github.com/AG-Peter/encodermap.git@main\"\n",
    "# !pip install -r pip install -r https://raw.githubusercontent.com/AG-Peter/encodermap/main/tests/test_requirements.md"
   ]
  },
  {
   "cell_type": "markdown",
   "metadata": {},
   "source": [
    "## Imports"
   ]
  },
  {
   "cell_type": "code",
   "execution_count": 2,
   "metadata": {
    "execution": {
     "iopub.execute_input": "2023-02-07T11:08:13.652507Z",
     "iopub.status.busy": "2023-02-07T11:08:13.652051Z",
     "iopub.status.idle": "2023-02-07T11:08:17.878283Z",
     "shell.execute_reply": "2023-02-07T11:08:17.877248Z"
    }
   },
   "outputs": [
    {
     "name": "stderr",
     "output_type": "stream",
     "text": [
      "2023-02-07 11:08:13.846687: I tensorflow/core/platform/cpu_feature_guard.cc:193] This TensorFlow binary is optimized with oneAPI Deep Neural Network Library (oneDNN) to use the following CPU instructions in performance-critical operations:  AVX2 AVX512F FMA\n",
      "To enable them in other operations, rebuild TensorFlow with the appropriate compiler flags.\n",
      "2023-02-07 11:08:14.013145: W tensorflow/compiler/xla/stream_executor/platform/default/dso_loader.cc:64] Could not load dynamic library 'libcudart.so.11.0'; dlerror: libcudart.so.11.0: cannot open shared object file: No such file or directory; LD_LIBRARY_PATH: /opt/hostedtoolcache/Python/3.9.16/x64/lib\n",
      "2023-02-07 11:08:14.013172: I tensorflow/compiler/xla/stream_executor/cuda/cudart_stub.cc:29] Ignore above cudart dlerror if you do not have a GPU set up on your machine.\n"
     ]
    },
    {
     "name": "stderr",
     "output_type": "stream",
     "text": [
      "2023-02-07 11:08:14.860026: W tensorflow/compiler/xla/stream_executor/platform/default/dso_loader.cc:64] Could not load dynamic library 'libnvinfer.so.7'; dlerror: libnvinfer.so.7: cannot open shared object file: No such file or directory; LD_LIBRARY_PATH: /opt/hostedtoolcache/Python/3.9.16/x64/lib\n",
      "2023-02-07 11:08:14.860121: W tensorflow/compiler/xla/stream_executor/platform/default/dso_loader.cc:64] Could not load dynamic library 'libnvinfer_plugin.so.7'; dlerror: libnvinfer_plugin.so.7: cannot open shared object file: No such file or directory; LD_LIBRARY_PATH: /opt/hostedtoolcache/Python/3.9.16/x64/lib\n",
      "2023-02-07 11:08:14.860150: W tensorflow/compiler/tf2tensorrt/utils/py_utils.cc:38] TF-TRT Warning: Cannot dlopen some TensorRT libraries. If you would like to use Nvidia GPU with TensorRT, please make sure the missing libraries mentioned above are installed properly.\n"
     ]
    },
    {
     "data": {
      "application/vnd.jupyter.widget-view+json": {
       "model_id": "d8fca91975004da8916400696e89c438",
       "version_major": 2,
       "version_minor": 0
      },
      "text/plain": []
     },
     "metadata": {},
     "output_type": "display_data"
    }
   ],
   "source": [
    "import encodermap as em\n",
    "import numpy as np\n",
    "\n",
    "%matplotlib inline\n",
    "%load_ext autoreload\n",
    "%autoreload 2\n",
    "%config Completer.use_jedi = False"
   ]
  },
  {
   "cell_type": "markdown",
   "metadata": {},
   "source": [
    "Fix tensorflow seed for reproducibility"
   ]
  },
  {
   "cell_type": "code",
   "execution_count": 3,
   "metadata": {
    "execution": {
     "iopub.execute_input": "2023-02-07T11:08:17.882965Z",
     "iopub.status.busy": "2023-02-07T11:08:17.882392Z",
     "iopub.status.idle": "2023-02-07T11:08:17.933308Z",
     "shell.execute_reply": "2023-02-07T11:08:17.932484Z"
    }
   },
   "outputs": [],
   "source": [
    "import tensorflow as tf\n",
    "tf.random.set_seed(1)"
   ]
  },
  {
   "cell_type": "markdown",
   "metadata": {},
   "source": [
    "## Load the trajectories\n",
    "\n",
    "We use EncoderMap's `TrajEnsemble` class to load the trajectories and do the feature alignment."
   ]
  },
  {
   "cell_type": "code",
   "execution_count": 4,
   "metadata": {
    "execution": {
     "iopub.execute_input": "2023-02-07T11:08:17.937657Z",
     "iopub.status.busy": "2023-02-07T11:08:17.937075Z",
     "iopub.status.idle": "2023-02-07T11:08:17.989920Z",
     "shell.execute_reply": "2023-02-07T11:08:17.989052Z"
    }
   },
   "outputs": [],
   "source": [
    "traj_files = [\"glu7.xtc\", \"asp7.xtc\"]\n",
    "top_files = [\"glu7.pdb\", \"asp7.pdb\"]\n",
    "\n",
    "trajs = em.load(traj_files, top_files)"
   ]
  },
  {
   "cell_type": "markdown",
   "metadata": {},
   "source": [
    "Load the CVs with the `ensemble=True` options."
   ]
  },
  {
   "cell_type": "code",
   "execution_count": 5,
   "metadata": {
    "execution": {
     "iopub.execute_input": "2023-02-07T11:08:17.993970Z",
     "iopub.status.busy": "2023-02-07T11:08:17.993538Z",
     "iopub.status.idle": "2023-02-07T11:08:19.557765Z",
     "shell.execute_reply": "2023-02-07T11:08:19.556956Z"
    }
   },
   "outputs": [],
   "source": [
    "trajs.load_CVs(\"all\", ensemble=True)"
   ]
  },
  {
   "cell_type": "code",
   "execution_count": 6,
   "metadata": {
    "execution": {
     "iopub.execute_input": "2023-02-07T11:08:19.562211Z",
     "iopub.status.busy": "2023-02-07T11:08:19.561907Z",
     "iopub.status.idle": "2023-02-07T11:08:20.390951Z",
     "shell.execute_reply": "2023-02-07T11:08:20.390061Z"
    }
   },
   "outputs": [
    {
     "data": {
      "text/plain": [
       "<encodermap.TrajEnsemble object. Current backend is no_load. Containing 20002 frames. CV central_distances with shape (20002, 20) loaded. CV central_dihedrals with shape (20002, 18) loaded. CV central_angles with shape (20002, 19) loaded. CV central_cartesians with shape (20002, 21, 3) loaded. CV side_dihedrals with shape (20002, 21) loaded. Object at 0x7f73e4da48b0>"
      ]
     },
     "execution_count": 6,
     "metadata": {},
     "output_type": "execute_result"
    }
   ],
   "source": [
    "trajs"
   ]
  },
  {
   "cell_type": "markdown",
   "metadata": {},
   "source": [
    "## Create the AngleDihedralCartesianEncoderMap\n",
    "\n",
    "The AngleDihedralCartesianEncoderMap tries to learn all of the geometric features of a protein. The angles (backbone angles, backbone dihedrals, sidechain dihedrals) are passed through a neuronal network autoencoder, while the distances between the backbone atoms are used to create cartesian coordinates from the learned angles. The generated cartesians and the input (true) cartesians are used to construct pairwise C$_\\alpha$ distances, which are then also weighted using sketchmap's sigmoid function. The `cartesian_cost_scale_soft_start` gradually increases the contribution of this cost function to the overall model loss."
   ]
  },
  {
   "cell_type": "code",
   "execution_count": 7,
   "metadata": {
    "execution": {
     "iopub.execute_input": "2023-02-07T11:08:20.395490Z",
     "iopub.status.busy": "2023-02-07T11:08:20.394718Z",
     "iopub.status.idle": "2023-02-07T11:08:25.732957Z",
     "shell.execute_reply": "2023-02-07T11:08:25.732251Z"
    }
   },
   "outputs": [
    {
     "name": "stdout",
     "output_type": "stream",
     "text": [
      "Output files are saved to runs/asp7_glu7_asp8/run0 as defined in 'main_path' in the parameters.\n",
      "Input contains nans. Using sparse network.\n"
     ]
    },
    {
     "name": "stderr",
     "output_type": "stream",
     "text": [
      "2023-02-07 11:08:20.661900: W tensorflow/compiler/xla/stream_executor/platform/default/dso_loader.cc:64] Could not load dynamic library 'libcuda.so.1'; dlerror: libcuda.so.1: cannot open shared object file: No such file or directory; LD_LIBRARY_PATH: /opt/hostedtoolcache/Python/3.9.16/x64/lib\n",
      "2023-02-07 11:08:20.661947: W tensorflow/compiler/xla/stream_executor/cuda/cuda_driver.cc:265] failed call to cuInit: UNKNOWN ERROR (303)\n",
      "2023-02-07 11:08:20.661972: I tensorflow/compiler/xla/stream_executor/cuda/cuda_diagnostics.cc:156] kernel driver does not appear to be running on this host (fv-az267-630): /proc/driver/nvidia/version does not exist\n",
      "2023-02-07 11:08:20.662284: I tensorflow/core/platform/cpu_feature_guard.cc:193] This TensorFlow binary is optimized with oneAPI Deep Neural Network Library (oneDNN) to use the following CPU instructions in performance-critical operations:  AVX2 AVX512F FMA\n",
      "To enable them in other operations, rebuild TensorFlow with the appropriate compiler flags.\n"
     ]
    },
    {
     "name": "stdout",
     "output_type": "stream",
     "text": [
      "input shapes are:\n",
      "{'central_distances': (20002, 20), 'central_dihedrals': (20002, 18), 'central_angles': (20002, 19), 'central_cartesians': (20002, 21, 3), 'side_dihedrals': TensorShape([20002, 21])}\n",
      "You must install pydot (`pip install pydot`) and install graphviz (see instructions at https://graphviz.gitlab.io/download/) for plot_model to work.\n"
     ]
    },
    {
     "name": "stdout",
     "output_type": "stream",
     "text": [
      "Saved a text-summary of the model and an image in runs/asp7_glu7_asp8/run0, as specified in 'main_path' in the parameters.\n"
     ]
    }
   ],
   "source": [
    "p = em.ADCParameters(use_backbone_angles=True,\n",
    "                     distance_cost_scale=1,\n",
    "                     auto_cost_scale=0.1,\n",
    "                     cartesian_cost_scale_soft_start=(50, 80),\n",
    "                     n_neurons = [500, 250, 125, 2],\n",
    "                     activation_functions = ['', 'tanh', 'tanh', 'tanh', ''],\n",
    "                     use_sidechains=True,\n",
    "                     summary_step=1,\n",
    "                     tensorboard=True,\n",
    "                     periodicity=2*np.pi,\n",
    "                     n_steps=100,\n",
    "                     checkpoint_step=1000,\n",
    "                     dist_sig_parameters = (4.5, 12, 6, 1, 2, 6),\n",
    "                     main_path=em.misc.run_path('runs/asp7_glu7_asp8'),\n",
    "                     model_api='functional',\n",
    "                    )\n",
    "emap = em.AngleDihedralCartesianEncoderMap(trajs, p)"
   ]
  },
  {
   "cell_type": "markdown",
   "metadata": {},
   "source": [
    "train"
   ]
  },
  {
   "cell_type": "code",
   "execution_count": 8,
   "metadata": {
    "execution": {
     "iopub.execute_input": "2023-02-07T11:08:25.737037Z",
     "iopub.status.busy": "2023-02-07T11:08:25.736333Z",
     "iopub.status.idle": "2023-02-07T11:09:50.684494Z",
     "shell.execute_reply": "2023-02-07T11:09:50.683444Z"
    }
   },
   "outputs": [
    {
     "name": "stderr",
     "output_type": "stream",
     "text": [
      "\r",
      "  0%|          | 0/100 [00:00<?, ?it/s]"
     ]
    },
    {
     "name": "stderr",
     "output_type": "stream",
     "text": [
      "\r",
      "  0%|          | 0/100 [00:00<?, ?it/s, Loss after step ?=?, Cartesian cost Scale=?]"
     ]
    },
    {
     "name": "stderr",
     "output_type": "stream",
     "text": [
      "\r",
      "  0%|          | 0/100 [00:32<?, ?it/s, Loss after step 1=6.76, Cartesian cost Scale=0]"
     ]
    },
    {
     "name": "stderr",
     "output_type": "stream",
     "text": [
      "\r",
      "  1%|          | 1/100 [00:32<53:37, 32.51s/it, Loss after step 1=6.76, Cartesian cost Scale=0]"
     ]
    },
    {
     "name": "stderr",
     "output_type": "stream",
     "text": [
      "\r",
      "  1%|          | 1/100 [00:32<53:37, 32.51s/it, Loss after step 2=6.12, Cartesian cost Scale=0]"
     ]
    },
    {
     "name": "stderr",
     "output_type": "stream",
     "text": [
      "\r",
      "  2%|▏         | 2/100 [00:32<21:59, 13.46s/it, Loss after step 2=6.12, Cartesian cost Scale=0]"
     ]
    },
    {
     "name": "stderr",
     "output_type": "stream",
     "text": [
      "\r",
      "  2%|▏         | 2/100 [00:32<21:59, 13.46s/it, Loss after step 3=5.48, Cartesian cost Scale=0]"
     ]
    },
    {
     "name": "stderr",
     "output_type": "stream",
     "text": [
      "\r",
      "  3%|▎         | 3/100 [00:32<11:55,  7.37s/it, Loss after step 3=5.48, Cartesian cost Scale=0]"
     ]
    },
    {
     "name": "stderr",
     "output_type": "stream",
     "text": [
      "\r",
      "  3%|▎         | 3/100 [00:32<11:55,  7.37s/it, Loss after step 4=5.13, Cartesian cost Scale=0]"
     ]
    },
    {
     "name": "stderr",
     "output_type": "stream",
     "text": [
      "\r",
      "  4%|▍         | 4/100 [00:32<07:13,  4.52s/it, Loss after step 4=5.13, Cartesian cost Scale=0]"
     ]
    },
    {
     "name": "stderr",
     "output_type": "stream",
     "text": [
      "\r",
      "  4%|▍         | 4/100 [00:33<07:13,  4.52s/it, Loss after step 5=4.83, Cartesian cost Scale=0]"
     ]
    },
    {
     "name": "stderr",
     "output_type": "stream",
     "text": [
      "\r",
      "  5%|▌         | 5/100 [00:33<04:38,  2.93s/it, Loss after step 5=4.83, Cartesian cost Scale=0]"
     ]
    },
    {
     "name": "stderr",
     "output_type": "stream",
     "text": [
      "\r",
      "  5%|▌         | 5/100 [00:33<04:38,  2.93s/it, Loss after step 6=4.62, Cartesian cost Scale=0]"
     ]
    },
    {
     "name": "stderr",
     "output_type": "stream",
     "text": [
      "\r",
      "  6%|▌         | 6/100 [00:33<03:06,  1.98s/it, Loss after step 6=4.62, Cartesian cost Scale=0]"
     ]
    },
    {
     "name": "stderr",
     "output_type": "stream",
     "text": [
      "\r",
      "  6%|▌         | 6/100 [00:33<03:06,  1.98s/it, Loss after step 7=4.58, Cartesian cost Scale=0]"
     ]
    },
    {
     "name": "stderr",
     "output_type": "stream",
     "text": [
      "\r",
      "  7%|▋         | 7/100 [00:33<02:07,  1.37s/it, Loss after step 7=4.58, Cartesian cost Scale=0]"
     ]
    },
    {
     "name": "stderr",
     "output_type": "stream",
     "text": [
      "\r",
      "  7%|▋         | 7/100 [00:33<02:07,  1.37s/it, Loss after step 8=4.42, Cartesian cost Scale=0]"
     ]
    },
    {
     "name": "stderr",
     "output_type": "stream",
     "text": [
      "\r",
      "  8%|▊         | 8/100 [00:33<01:30,  1.02it/s, Loss after step 8=4.42, Cartesian cost Scale=0]"
     ]
    },
    {
     "name": "stderr",
     "output_type": "stream",
     "text": [
      "\r",
      "  8%|▊         | 8/100 [00:33<01:30,  1.02it/s, Loss after step 9=4.33, Cartesian cost Scale=0]"
     ]
    },
    {
     "name": "stderr",
     "output_type": "stream",
     "text": [
      "\r",
      "  9%|▉         | 9/100 [00:33<01:04,  1.40it/s, Loss after step 9=4.33, Cartesian cost Scale=0]"
     ]
    },
    {
     "name": "stderr",
     "output_type": "stream",
     "text": [
      "\r",
      "  9%|▉         | 9/100 [00:33<01:04,  1.40it/s, Loss after step 10=4.26, Cartesian cost Scale=0]"
     ]
    },
    {
     "name": "stderr",
     "output_type": "stream",
     "text": [
      "\r",
      " 10%|█         | 10/100 [00:33<00:47,  1.88it/s, Loss after step 10=4.26, Cartesian cost Scale=0]"
     ]
    },
    {
     "name": "stderr",
     "output_type": "stream",
     "text": [
      "\r",
      " 10%|█         | 10/100 [00:33<00:47,  1.88it/s, Loss after step 11=4.17, Cartesian cost Scale=0]"
     ]
    },
    {
     "name": "stderr",
     "output_type": "stream",
     "text": [
      "\r",
      " 11%|█         | 11/100 [00:33<00:36,  2.44it/s, Loss after step 11=4.17, Cartesian cost Scale=0]"
     ]
    },
    {
     "name": "stderr",
     "output_type": "stream",
     "text": [
      "\r",
      " 11%|█         | 11/100 [00:33<00:36,  2.44it/s, Loss after step 12=4.13, Cartesian cost Scale=0]"
     ]
    },
    {
     "name": "stderr",
     "output_type": "stream",
     "text": [
      "\r",
      " 12%|█▏        | 12/100 [00:33<00:28,  3.09it/s, Loss after step 12=4.13, Cartesian cost Scale=0]"
     ]
    },
    {
     "name": "stderr",
     "output_type": "stream",
     "text": [
      "\r",
      " 12%|█▏        | 12/100 [00:34<00:28,  3.09it/s, Loss after step 13=4.06, Cartesian cost Scale=0]"
     ]
    },
    {
     "name": "stderr",
     "output_type": "stream",
     "text": [
      "\r",
      " 13%|█▎        | 13/100 [00:34<00:23,  3.77it/s, Loss after step 13=4.06, Cartesian cost Scale=0]"
     ]
    },
    {
     "name": "stderr",
     "output_type": "stream",
     "text": [
      "\r",
      " 13%|█▎        | 13/100 [00:34<00:23,  3.77it/s, Loss after step 14=3.99, Cartesian cost Scale=0]"
     ]
    },
    {
     "name": "stderr",
     "output_type": "stream",
     "text": [
      "\r",
      " 14%|█▍        | 14/100 [00:34<00:19,  4.46it/s, Loss after step 14=3.99, Cartesian cost Scale=0]"
     ]
    },
    {
     "name": "stderr",
     "output_type": "stream",
     "text": [
      "\r",
      " 14%|█▍        | 14/100 [00:34<00:19,  4.46it/s, Loss after step 15=4.02, Cartesian cost Scale=0]"
     ]
    },
    {
     "name": "stderr",
     "output_type": "stream",
     "text": [
      "\r",
      " 15%|█▌        | 15/100 [00:34<00:16,  5.01it/s, Loss after step 15=4.02, Cartesian cost Scale=0]"
     ]
    },
    {
     "name": "stderr",
     "output_type": "stream",
     "text": [
      "\r",
      " 15%|█▌        | 15/100 [00:34<00:16,  5.01it/s, Loss after step 16=3.93, Cartesian cost Scale=0]"
     ]
    },
    {
     "name": "stderr",
     "output_type": "stream",
     "text": [
      "\r",
      " 16%|█▌        | 16/100 [00:34<00:15,  5.57it/s, Loss after step 16=3.93, Cartesian cost Scale=0]"
     ]
    },
    {
     "name": "stderr",
     "output_type": "stream",
     "text": [
      "\r",
      " 16%|█▌        | 16/100 [00:34<00:15,  5.57it/s, Loss after step 17=3.87, Cartesian cost Scale=0]"
     ]
    },
    {
     "name": "stderr",
     "output_type": "stream",
     "text": [
      "\r",
      " 17%|█▋        | 17/100 [00:34<00:13,  5.99it/s, Loss after step 17=3.87, Cartesian cost Scale=0]"
     ]
    },
    {
     "name": "stderr",
     "output_type": "stream",
     "text": [
      "\r",
      " 17%|█▋        | 17/100 [00:34<00:13,  5.99it/s, Loss after step 18=3.81, Cartesian cost Scale=0]"
     ]
    },
    {
     "name": "stderr",
     "output_type": "stream",
     "text": [
      "\r",
      " 18%|█▊        | 18/100 [00:34<00:12,  6.38it/s, Loss after step 18=3.81, Cartesian cost Scale=0]"
     ]
    },
    {
     "name": "stderr",
     "output_type": "stream",
     "text": [
      "\r",
      " 18%|█▊        | 18/100 [00:34<00:12,  6.38it/s, Loss after step 19=3.83, Cartesian cost Scale=0]"
     ]
    },
    {
     "name": "stderr",
     "output_type": "stream",
     "text": [
      "\r",
      " 19%|█▉        | 19/100 [00:34<00:12,  6.72it/s, Loss after step 19=3.83, Cartesian cost Scale=0]"
     ]
    },
    {
     "name": "stderr",
     "output_type": "stream",
     "text": [
      "\r",
      " 19%|█▉        | 19/100 [00:35<00:12,  6.72it/s, Loss after step 20=3.76, Cartesian cost Scale=0]"
     ]
    },
    {
     "name": "stderr",
     "output_type": "stream",
     "text": [
      "\r",
      " 20%|██        | 20/100 [00:35<00:11,  6.87it/s, Loss after step 20=3.76, Cartesian cost Scale=0]"
     ]
    },
    {
     "name": "stderr",
     "output_type": "stream",
     "text": [
      "\r",
      " 20%|██        | 20/100 [00:35<00:11,  6.87it/s, Loss after step 21=3.74, Cartesian cost Scale=0]"
     ]
    },
    {
     "name": "stderr",
     "output_type": "stream",
     "text": [
      "\r",
      " 21%|██        | 21/100 [00:35<00:11,  7.02it/s, Loss after step 21=3.74, Cartesian cost Scale=0]"
     ]
    },
    {
     "name": "stderr",
     "output_type": "stream",
     "text": [
      "\r",
      " 21%|██        | 21/100 [00:35<00:11,  7.02it/s, Loss after step 22=3.74, Cartesian cost Scale=0]"
     ]
    },
    {
     "name": "stderr",
     "output_type": "stream",
     "text": [
      "\r",
      " 22%|██▏       | 22/100 [00:35<00:10,  7.19it/s, Loss after step 22=3.74, Cartesian cost Scale=0]"
     ]
    },
    {
     "name": "stderr",
     "output_type": "stream",
     "text": [
      "\r",
      " 22%|██▏       | 22/100 [00:35<00:10,  7.19it/s, Loss after step 23=3.72, Cartesian cost Scale=0]"
     ]
    },
    {
     "name": "stderr",
     "output_type": "stream",
     "text": [
      "\r",
      " 23%|██▎       | 23/100 [00:35<00:10,  7.31it/s, Loss after step 23=3.72, Cartesian cost Scale=0]"
     ]
    },
    {
     "name": "stderr",
     "output_type": "stream",
     "text": [
      "\r",
      " 23%|██▎       | 23/100 [00:35<00:10,  7.31it/s, Loss after step 24=3.75, Cartesian cost Scale=0]"
     ]
    },
    {
     "name": "stderr",
     "output_type": "stream",
     "text": [
      "\r",
      " 24%|██▍       | 24/100 [00:35<00:10,  7.34it/s, Loss after step 24=3.75, Cartesian cost Scale=0]"
     ]
    },
    {
     "name": "stderr",
     "output_type": "stream",
     "text": [
      "\r",
      " 24%|██▍       | 24/100 [00:35<00:10,  7.34it/s, Loss after step 25=3.72, Cartesian cost Scale=0]"
     ]
    },
    {
     "name": "stderr",
     "output_type": "stream",
     "text": [
      "\r",
      " 25%|██▌       | 25/100 [00:35<00:10,  7.43it/s, Loss after step 25=3.72, Cartesian cost Scale=0]"
     ]
    },
    {
     "name": "stderr",
     "output_type": "stream",
     "text": [
      "\r",
      " 25%|██▌       | 25/100 [00:35<00:10,  7.43it/s, Loss after step 26=3.66, Cartesian cost Scale=0]"
     ]
    },
    {
     "name": "stderr",
     "output_type": "stream",
     "text": [
      "\r",
      " 26%|██▌       | 26/100 [00:35<00:09,  7.57it/s, Loss after step 26=3.66, Cartesian cost Scale=0]"
     ]
    },
    {
     "name": "stderr",
     "output_type": "stream",
     "text": [
      "\r",
      " 26%|██▌       | 26/100 [00:35<00:09,  7.57it/s, Loss after step 27=3.62, Cartesian cost Scale=0]"
     ]
    },
    {
     "name": "stderr",
     "output_type": "stream",
     "text": [
      "\r",
      " 27%|██▋       | 27/100 [00:35<00:09,  7.49it/s, Loss after step 27=3.62, Cartesian cost Scale=0]"
     ]
    },
    {
     "name": "stderr",
     "output_type": "stream",
     "text": [
      "\r",
      " 27%|██▋       | 27/100 [00:36<00:09,  7.49it/s, Loss after step 28=3.58, Cartesian cost Scale=0]"
     ]
    },
    {
     "name": "stderr",
     "output_type": "stream",
     "text": [
      "\r",
      " 28%|██▊       | 28/100 [00:36<00:09,  7.43it/s, Loss after step 28=3.58, Cartesian cost Scale=0]"
     ]
    },
    {
     "name": "stderr",
     "output_type": "stream",
     "text": [
      "\r",
      " 28%|██▊       | 28/100 [00:36<00:09,  7.43it/s, Loss after step 29=3.6, Cartesian cost Scale=0] "
     ]
    },
    {
     "name": "stderr",
     "output_type": "stream",
     "text": [
      "\r",
      " 29%|██▉       | 29/100 [00:36<00:09,  7.35it/s, Loss after step 29=3.6, Cartesian cost Scale=0]"
     ]
    },
    {
     "name": "stderr",
     "output_type": "stream",
     "text": [
      "\r",
      " 29%|██▉       | 29/100 [00:36<00:09,  7.35it/s, Loss after step 30=3.64, Cartesian cost Scale=0]"
     ]
    },
    {
     "name": "stderr",
     "output_type": "stream",
     "text": [
      "\r",
      " 30%|███       | 30/100 [00:36<00:09,  7.32it/s, Loss after step 30=3.64, Cartesian cost Scale=0]"
     ]
    },
    {
     "name": "stderr",
     "output_type": "stream",
     "text": [
      "\r",
      " 30%|███       | 30/100 [00:36<00:09,  7.32it/s, Loss after step 31=3.54, Cartesian cost Scale=0]"
     ]
    },
    {
     "name": "stderr",
     "output_type": "stream",
     "text": [
      "\r",
      " 31%|███       | 31/100 [00:36<00:09,  7.41it/s, Loss after step 31=3.54, Cartesian cost Scale=0]"
     ]
    },
    {
     "name": "stderr",
     "output_type": "stream",
     "text": [
      "\r",
      " 31%|███       | 31/100 [00:36<00:09,  7.41it/s, Loss after step 32=3.57, Cartesian cost Scale=0]"
     ]
    },
    {
     "name": "stderr",
     "output_type": "stream",
     "text": [
      "\r",
      " 32%|███▏      | 32/100 [00:36<00:09,  7.50it/s, Loss after step 32=3.57, Cartesian cost Scale=0]"
     ]
    },
    {
     "name": "stderr",
     "output_type": "stream",
     "text": [
      "\r",
      " 32%|███▏      | 32/100 [00:36<00:09,  7.50it/s, Loss after step 33=3.52, Cartesian cost Scale=0]"
     ]
    },
    {
     "name": "stderr",
     "output_type": "stream",
     "text": [
      "\r",
      " 33%|███▎      | 33/100 [00:36<00:09,  7.44it/s, Loss after step 33=3.52, Cartesian cost Scale=0]"
     ]
    },
    {
     "name": "stderr",
     "output_type": "stream",
     "text": [
      "\r",
      " 33%|███▎      | 33/100 [00:36<00:09,  7.44it/s, Loss after step 34=3.53, Cartesian cost Scale=0]"
     ]
    },
    {
     "name": "stderr",
     "output_type": "stream",
     "text": [
      "\r",
      " 34%|███▍      | 34/100 [00:36<00:08,  7.48it/s, Loss after step 34=3.53, Cartesian cost Scale=0]"
     ]
    },
    {
     "name": "stderr",
     "output_type": "stream",
     "text": [
      "\r",
      " 34%|███▍      | 34/100 [00:37<00:08,  7.48it/s, Loss after step 35=3.51, Cartesian cost Scale=0]"
     ]
    },
    {
     "name": "stderr",
     "output_type": "stream",
     "text": [
      "\r",
      " 35%|███▌      | 35/100 [00:37<00:08,  7.51it/s, Loss after step 35=3.51, Cartesian cost Scale=0]"
     ]
    },
    {
     "name": "stderr",
     "output_type": "stream",
     "text": [
      "\r",
      " 35%|███▌      | 35/100 [00:37<00:08,  7.51it/s, Loss after step 36=3.48, Cartesian cost Scale=0]"
     ]
    },
    {
     "name": "stderr",
     "output_type": "stream",
     "text": [
      "\r",
      " 36%|███▌      | 36/100 [00:37<00:08,  7.45it/s, Loss after step 36=3.48, Cartesian cost Scale=0]"
     ]
    },
    {
     "name": "stderr",
     "output_type": "stream",
     "text": [
      "\r",
      " 36%|███▌      | 36/100 [00:37<00:08,  7.45it/s, Loss after step 37=3.45, Cartesian cost Scale=0]"
     ]
    },
    {
     "name": "stderr",
     "output_type": "stream",
     "text": [
      "\r",
      " 37%|███▋      | 37/100 [00:37<00:08,  7.51it/s, Loss after step 37=3.45, Cartesian cost Scale=0]"
     ]
    },
    {
     "name": "stderr",
     "output_type": "stream",
     "text": [
      "\r",
      " 37%|███▋      | 37/100 [00:37<00:08,  7.51it/s, Loss after step 38=3.44, Cartesian cost Scale=0]"
     ]
    },
    {
     "name": "stderr",
     "output_type": "stream",
     "text": [
      "\r",
      " 38%|███▊      | 38/100 [00:37<00:08,  7.56it/s, Loss after step 38=3.44, Cartesian cost Scale=0]"
     ]
    },
    {
     "name": "stderr",
     "output_type": "stream",
     "text": [
      "\r",
      " 38%|███▊      | 38/100 [00:37<00:08,  7.56it/s, Loss after step 39=3.44, Cartesian cost Scale=0]"
     ]
    },
    {
     "name": "stderr",
     "output_type": "stream",
     "text": [
      "\r",
      " 39%|███▉      | 39/100 [00:37<00:07,  7.65it/s, Loss after step 39=3.44, Cartesian cost Scale=0]"
     ]
    },
    {
     "name": "stderr",
     "output_type": "stream",
     "text": [
      "\r",
      " 39%|███▉      | 39/100 [00:37<00:07,  7.65it/s, Loss after step 40=3.41, Cartesian cost Scale=0]"
     ]
    },
    {
     "name": "stderr",
     "output_type": "stream",
     "text": [
      "\r",
      " 40%|████      | 40/100 [00:37<00:07,  7.63it/s, Loss after step 40=3.41, Cartesian cost Scale=0]"
     ]
    },
    {
     "name": "stderr",
     "output_type": "stream",
     "text": [
      "\r",
      " 40%|████      | 40/100 [00:37<00:07,  7.63it/s, Loss after step 41=3.38, Cartesian cost Scale=0]"
     ]
    },
    {
     "name": "stderr",
     "output_type": "stream",
     "text": [
      "\r",
      " 41%|████      | 41/100 [00:37<00:07,  7.86it/s, Loss after step 41=3.38, Cartesian cost Scale=0]"
     ]
    },
    {
     "name": "stderr",
     "output_type": "stream",
     "text": [
      "\r",
      " 41%|████      | 41/100 [00:37<00:07,  7.86it/s, Loss after step 42=3.37, Cartesian cost Scale=0]"
     ]
    },
    {
     "name": "stderr",
     "output_type": "stream",
     "text": [
      "\r",
      " 42%|████▏     | 42/100 [00:37<00:07,  7.85it/s, Loss after step 42=3.37, Cartesian cost Scale=0]"
     ]
    },
    {
     "name": "stderr",
     "output_type": "stream",
     "text": [
      "\r",
      " 42%|████▏     | 42/100 [00:38<00:07,  7.85it/s, Loss after step 43=3.36, Cartesian cost Scale=0]"
     ]
    },
    {
     "name": "stderr",
     "output_type": "stream",
     "text": [
      "\r",
      " 43%|████▎     | 43/100 [00:38<00:07,  7.98it/s, Loss after step 43=3.36, Cartesian cost Scale=0]"
     ]
    },
    {
     "name": "stderr",
     "output_type": "stream",
     "text": [
      "\r",
      " 43%|████▎     | 43/100 [00:38<00:07,  7.98it/s, Loss after step 44=3.37, Cartesian cost Scale=0]"
     ]
    },
    {
     "name": "stderr",
     "output_type": "stream",
     "text": [
      "\r",
      " 44%|████▍     | 44/100 [00:38<00:06,  8.02it/s, Loss after step 44=3.37, Cartesian cost Scale=0]"
     ]
    },
    {
     "name": "stderr",
     "output_type": "stream",
     "text": [
      "\r",
      " 44%|████▍     | 44/100 [00:38<00:06,  8.02it/s, Loss after step 45=3.38, Cartesian cost Scale=0]"
     ]
    },
    {
     "name": "stderr",
     "output_type": "stream",
     "text": [
      "\r",
      " 45%|████▌     | 45/100 [00:38<00:06,  7.94it/s, Loss after step 45=3.38, Cartesian cost Scale=0]"
     ]
    },
    {
     "name": "stderr",
     "output_type": "stream",
     "text": [
      "\r",
      " 45%|████▌     | 45/100 [00:38<00:06,  7.94it/s, Loss after step 46=3.35, Cartesian cost Scale=0]"
     ]
    },
    {
     "name": "stderr",
     "output_type": "stream",
     "text": [
      "\r",
      " 46%|████▌     | 46/100 [00:38<00:06,  8.04it/s, Loss after step 46=3.35, Cartesian cost Scale=0]"
     ]
    },
    {
     "name": "stderr",
     "output_type": "stream",
     "text": [
      "\r",
      " 46%|████▌     | 46/100 [00:38<00:06,  8.04it/s, Loss after step 47=3.34, Cartesian cost Scale=0]"
     ]
    },
    {
     "name": "stderr",
     "output_type": "stream",
     "text": [
      "\r",
      " 47%|████▋     | 47/100 [00:38<00:06,  7.91it/s, Loss after step 47=3.34, Cartesian cost Scale=0]"
     ]
    },
    {
     "name": "stderr",
     "output_type": "stream",
     "text": [
      "\r",
      " 47%|████▋     | 47/100 [00:38<00:06,  7.91it/s, Loss after step 48=3.29, Cartesian cost Scale=0]"
     ]
    },
    {
     "name": "stderr",
     "output_type": "stream",
     "text": [
      "\r",
      " 48%|████▊     | 48/100 [00:38<00:06,  7.85it/s, Loss after step 48=3.29, Cartesian cost Scale=0]"
     ]
    },
    {
     "name": "stderr",
     "output_type": "stream",
     "text": [
      "\r",
      " 48%|████▊     | 48/100 [00:38<00:06,  7.85it/s, Loss after step 49=3.32, Cartesian cost Scale=0]"
     ]
    },
    {
     "name": "stderr",
     "output_type": "stream",
     "text": [
      "\r",
      " 49%|████▉     | 49/100 [00:38<00:06,  7.93it/s, Loss after step 49=3.32, Cartesian cost Scale=0]"
     ]
    },
    {
     "name": "stderr",
     "output_type": "stream",
     "text": [
      "\r",
      " 49%|████▉     | 49/100 [00:38<00:06,  7.93it/s, Loss after step 50=3.29, Cartesian cost Scale=0]"
     ]
    },
    {
     "name": "stderr",
     "output_type": "stream",
     "text": [
      "\r",
      " 50%|█████     | 50/100 [00:38<00:06,  7.79it/s, Loss after step 50=3.29, Cartesian cost Scale=0]"
     ]
    },
    {
     "name": "stderr",
     "output_type": "stream",
     "text": [
      "\r",
      " 50%|█████     | 50/100 [00:39<00:06,  7.79it/s, Loss after step 51=3.3, Cartesian cost Scale=0.03]"
     ]
    },
    {
     "name": "stderr",
     "output_type": "stream",
     "text": [
      "\r",
      " 51%|█████     | 51/100 [00:39<00:06,  7.82it/s, Loss after step 51=3.3, Cartesian cost Scale=0.03]"
     ]
    },
    {
     "name": "stderr",
     "output_type": "stream",
     "text": [
      "\r",
      " 51%|█████     | 51/100 [00:39<00:06,  7.82it/s, Loss after step 52=3.27, Cartesian cost Scale=0.07]"
     ]
    },
    {
     "name": "stderr",
     "output_type": "stream",
     "text": [
      "\r",
      " 52%|█████▏    | 52/100 [00:39<00:06,  7.86it/s, Loss after step 52=3.27, Cartesian cost Scale=0.07]"
     ]
    },
    {
     "name": "stderr",
     "output_type": "stream",
     "text": [
      "\r",
      " 52%|█████▏    | 52/100 [00:39<00:06,  7.86it/s, Loss after step 53=3.27, Cartesian cost Scale=0.1] "
     ]
    },
    {
     "name": "stderr",
     "output_type": "stream",
     "text": [
      "\r",
      " 53%|█████▎    | 53/100 [00:39<00:06,  7.78it/s, Loss after step 53=3.27, Cartesian cost Scale=0.1]"
     ]
    },
    {
     "name": "stderr",
     "output_type": "stream",
     "text": [
      "\r",
      " 53%|█████▎    | 53/100 [00:39<00:06,  7.78it/s, Loss after step 54=3.22, Cartesian cost Scale=0.13]"
     ]
    },
    {
     "name": "stderr",
     "output_type": "stream",
     "text": [
      "\r",
      " 54%|█████▍    | 54/100 [00:39<00:05,  7.73it/s, Loss after step 54=3.22, Cartesian cost Scale=0.13]"
     ]
    },
    {
     "name": "stderr",
     "output_type": "stream",
     "text": [
      "\r",
      " 54%|█████▍    | 54/100 [00:39<00:05,  7.73it/s, Loss after step 55=3.25, Cartesian cost Scale=0.17]"
     ]
    },
    {
     "name": "stderr",
     "output_type": "stream",
     "text": [
      "\r",
      " 55%|█████▌    | 55/100 [00:39<00:05,  7.68it/s, Loss after step 55=3.25, Cartesian cost Scale=0.17]"
     ]
    },
    {
     "name": "stderr",
     "output_type": "stream",
     "text": [
      "\r",
      " 55%|█████▌    | 55/100 [00:39<00:05,  7.68it/s, Loss after step 56=3.2, Cartesian cost Scale=0.2]  "
     ]
    },
    {
     "name": "stderr",
     "output_type": "stream",
     "text": [
      "\r",
      " 56%|█████▌    | 56/100 [00:39<00:05,  7.73it/s, Loss after step 56=3.2, Cartesian cost Scale=0.2]"
     ]
    },
    {
     "name": "stderr",
     "output_type": "stream",
     "text": [
      "\r",
      " 56%|█████▌    | 56/100 [00:39<00:05,  7.73it/s, Loss after step 57=3.23, Cartesian cost Scale=0.23]"
     ]
    },
    {
     "name": "stderr",
     "output_type": "stream",
     "text": [
      "\r",
      " 57%|█████▋    | 57/100 [00:39<00:05,  7.63it/s, Loss after step 57=3.23, Cartesian cost Scale=0.23]"
     ]
    },
    {
     "name": "stderr",
     "output_type": "stream",
     "text": [
      "\r",
      " 57%|█████▋    | 57/100 [00:39<00:05,  7.63it/s, Loss after step 58=3.21, Cartesian cost Scale=0.27]"
     ]
    },
    {
     "name": "stderr",
     "output_type": "stream",
     "text": [
      "\r",
      " 58%|█████▊    | 58/100 [00:39<00:05,  7.56it/s, Loss after step 58=3.21, Cartesian cost Scale=0.27]"
     ]
    },
    {
     "name": "stderr",
     "output_type": "stream",
     "text": [
      "\r",
      " 58%|█████▊    | 58/100 [00:40<00:05,  7.56it/s, Loss after step 59=3.19, Cartesian cost Scale=0.3] "
     ]
    },
    {
     "name": "stderr",
     "output_type": "stream",
     "text": [
      "\r",
      " 59%|█████▉    | 59/100 [00:40<00:05,  7.67it/s, Loss after step 59=3.19, Cartesian cost Scale=0.3]"
     ]
    },
    {
     "name": "stderr",
     "output_type": "stream",
     "text": [
      "\r",
      " 59%|█████▉    | 59/100 [00:40<00:05,  7.67it/s, Loss after step 60=3.21, Cartesian cost Scale=0.33]"
     ]
    },
    {
     "name": "stderr",
     "output_type": "stream",
     "text": [
      "\r",
      " 60%|██████    | 60/100 [00:40<00:05,  7.12it/s, Loss after step 60=3.21, Cartesian cost Scale=0.33]"
     ]
    },
    {
     "name": "stderr",
     "output_type": "stream",
     "text": [
      "\r",
      " 60%|██████    | 60/100 [00:40<00:05,  7.12it/s, Loss after step 61=3.19, Cartesian cost Scale=0.37]"
     ]
    },
    {
     "name": "stderr",
     "output_type": "stream",
     "text": [
      "\r",
      " 61%|██████    | 61/100 [00:40<00:06,  6.22it/s, Loss after step 61=3.19, Cartesian cost Scale=0.37]"
     ]
    },
    {
     "name": "stderr",
     "output_type": "stream",
     "text": [
      "\r",
      " 61%|██████    | 61/100 [00:40<00:06,  6.22it/s, Loss after step 62=3.15, Cartesian cost Scale=0.4] "
     ]
    },
    {
     "name": "stderr",
     "output_type": "stream",
     "text": [
      "\r",
      " 62%|██████▏   | 62/100 [00:40<00:05,  6.52it/s, Loss after step 62=3.15, Cartesian cost Scale=0.4]"
     ]
    },
    {
     "name": "stderr",
     "output_type": "stream",
     "text": [
      "\r",
      " 62%|██████▏   | 62/100 [00:40<00:05,  6.52it/s, Loss after step 63=3.15, Cartesian cost Scale=0.43]"
     ]
    },
    {
     "name": "stderr",
     "output_type": "stream",
     "text": [
      "\r",
      " 63%|██████▎   | 63/100 [00:40<00:05,  6.88it/s, Loss after step 63=3.15, Cartesian cost Scale=0.43]"
     ]
    },
    {
     "name": "stderr",
     "output_type": "stream",
     "text": [
      "\r",
      " 63%|██████▎   | 63/100 [00:40<00:05,  6.88it/s, Loss after step 64=3.12, Cartesian cost Scale=0.47]"
     ]
    },
    {
     "name": "stderr",
     "output_type": "stream",
     "text": [
      "\r",
      " 64%|██████▍   | 64/100 [00:40<00:05,  7.19it/s, Loss after step 64=3.12, Cartesian cost Scale=0.47]"
     ]
    },
    {
     "name": "stderr",
     "output_type": "stream",
     "text": [
      "\r",
      " 64%|██████▍   | 64/100 [00:40<00:05,  7.19it/s, Loss after step 65=3.15, Cartesian cost Scale=0.5] "
     ]
    },
    {
     "name": "stderr",
     "output_type": "stream",
     "text": [
      "\r",
      " 65%|██████▌   | 65/100 [00:40<00:04,  7.32it/s, Loss after step 65=3.15, Cartesian cost Scale=0.5]"
     ]
    },
    {
     "name": "stderr",
     "output_type": "stream",
     "text": [
      "\r",
      " 65%|██████▌   | 65/100 [00:41<00:04,  7.32it/s, Loss after step 66=3.15, Cartesian cost Scale=0.53]"
     ]
    },
    {
     "name": "stderr",
     "output_type": "stream",
     "text": [
      "\r",
      " 66%|██████▌   | 66/100 [00:41<00:04,  7.46it/s, Loss after step 66=3.15, Cartesian cost Scale=0.53]"
     ]
    },
    {
     "name": "stderr",
     "output_type": "stream",
     "text": [
      "\r",
      " 66%|██████▌   | 66/100 [00:41<00:04,  7.46it/s, Loss after step 67=3.17, Cartesian cost Scale=0.57]"
     ]
    },
    {
     "name": "stderr",
     "output_type": "stream",
     "text": [
      "\r",
      " 67%|██████▋   | 67/100 [00:41<00:04,  7.52it/s, Loss after step 67=3.17, Cartesian cost Scale=0.57]"
     ]
    },
    {
     "name": "stderr",
     "output_type": "stream",
     "text": [
      "\r",
      " 67%|██████▋   | 67/100 [00:41<00:04,  7.52it/s, Loss after step 68=3.11, Cartesian cost Scale=0.6] "
     ]
    },
    {
     "name": "stderr",
     "output_type": "stream",
     "text": [
      "\r",
      " 68%|██████▊   | 68/100 [00:41<00:04,  7.64it/s, Loss after step 68=3.11, Cartesian cost Scale=0.6]"
     ]
    },
    {
     "name": "stderr",
     "output_type": "stream",
     "text": [
      "\r",
      " 68%|██████▊   | 68/100 [00:41<00:04,  7.64it/s, Loss after step 69=3.11, Cartesian cost Scale=0.63]"
     ]
    },
    {
     "name": "stderr",
     "output_type": "stream",
     "text": [
      "\r",
      " 69%|██████▉   | 69/100 [00:41<00:04,  7.67it/s, Loss after step 69=3.11, Cartesian cost Scale=0.63]"
     ]
    },
    {
     "name": "stderr",
     "output_type": "stream",
     "text": [
      "\r",
      " 69%|██████▉   | 69/100 [00:41<00:04,  7.67it/s, Loss after step 70=3.13, Cartesian cost Scale=0.67]"
     ]
    },
    {
     "name": "stderr",
     "output_type": "stream",
     "text": [
      "\r",
      " 70%|███████   | 70/100 [00:41<00:03,  7.85it/s, Loss after step 70=3.13, Cartesian cost Scale=0.67]"
     ]
    },
    {
     "name": "stderr",
     "output_type": "stream",
     "text": [
      "\r",
      " 70%|███████   | 70/100 [00:41<00:03,  7.85it/s, Loss after step 71=3.13, Cartesian cost Scale=0.7] "
     ]
    },
    {
     "name": "stderr",
     "output_type": "stream",
     "text": [
      "\r",
      " 71%|███████   | 71/100 [00:41<00:03,  7.86it/s, Loss after step 71=3.13, Cartesian cost Scale=0.7]"
     ]
    },
    {
     "name": "stderr",
     "output_type": "stream",
     "text": [
      "\r",
      " 71%|███████   | 71/100 [00:41<00:03,  7.86it/s, Loss after step 72=3.09, Cartesian cost Scale=0.73]"
     ]
    },
    {
     "name": "stderr",
     "output_type": "stream",
     "text": [
      "\r",
      " 72%|███████▏  | 72/100 [00:41<00:03,  7.93it/s, Loss after step 72=3.09, Cartesian cost Scale=0.73]"
     ]
    },
    {
     "name": "stderr",
     "output_type": "stream",
     "text": [
      "\r",
      " 72%|███████▏  | 72/100 [00:41<00:03,  7.93it/s, Loss after step 73=3.13, Cartesian cost Scale=0.77]"
     ]
    },
    {
     "name": "stderr",
     "output_type": "stream",
     "text": [
      "\r",
      " 73%|███████▎  | 73/100 [00:41<00:03,  7.87it/s, Loss after step 73=3.13, Cartesian cost Scale=0.77]"
     ]
    },
    {
     "name": "stderr",
     "output_type": "stream",
     "text": [
      "\r",
      " 73%|███████▎  | 73/100 [00:42<00:03,  7.87it/s, Loss after step 74=3.1, Cartesian cost Scale=0.8]  "
     ]
    },
    {
     "name": "stderr",
     "output_type": "stream",
     "text": [
      "\r",
      " 74%|███████▍  | 74/100 [00:42<00:03,  7.81it/s, Loss after step 74=3.1, Cartesian cost Scale=0.8]"
     ]
    },
    {
     "name": "stderr",
     "output_type": "stream",
     "text": [
      "\r",
      " 74%|███████▍  | 74/100 [00:42<00:03,  7.81it/s, Loss after step 75=3.09, Cartesian cost Scale=0.83]"
     ]
    },
    {
     "name": "stderr",
     "output_type": "stream",
     "text": [
      "\r",
      " 75%|███████▌  | 75/100 [00:42<00:03,  7.76it/s, Loss after step 75=3.09, Cartesian cost Scale=0.83]"
     ]
    },
    {
     "name": "stderr",
     "output_type": "stream",
     "text": [
      "\r",
      " 75%|███████▌  | 75/100 [00:42<00:03,  7.76it/s, Loss after step 76=3.06, Cartesian cost Scale=0.87]"
     ]
    },
    {
     "name": "stderr",
     "output_type": "stream",
     "text": [
      "\r",
      " 76%|███████▌  | 76/100 [00:42<00:03,  7.77it/s, Loss after step 76=3.06, Cartesian cost Scale=0.87]"
     ]
    },
    {
     "name": "stderr",
     "output_type": "stream",
     "text": [
      "\r",
      " 76%|███████▌  | 76/100 [00:42<00:03,  7.77it/s, Loss after step 77=3.06, Cartesian cost Scale=0.9] "
     ]
    },
    {
     "name": "stderr",
     "output_type": "stream",
     "text": [
      "\r",
      " 77%|███████▋  | 77/100 [00:42<00:02,  7.79it/s, Loss after step 77=3.06, Cartesian cost Scale=0.9]"
     ]
    },
    {
     "name": "stderr",
     "output_type": "stream",
     "text": [
      "\r",
      " 77%|███████▋  | 77/100 [00:42<00:02,  7.79it/s, Loss after step 78=3.08, Cartesian cost Scale=0.93]"
     ]
    },
    {
     "name": "stderr",
     "output_type": "stream",
     "text": [
      "\r",
      " 78%|███████▊  | 78/100 [00:42<00:02,  7.98it/s, Loss after step 78=3.08, Cartesian cost Scale=0.93]"
     ]
    },
    {
     "name": "stderr",
     "output_type": "stream",
     "text": [
      "\r",
      " 78%|███████▊  | 78/100 [00:42<00:02,  7.98it/s, Loss after step 79=3.1, Cartesian cost Scale=0.97] "
     ]
    },
    {
     "name": "stderr",
     "output_type": "stream",
     "text": [
      "\r",
      " 79%|███████▉  | 79/100 [00:42<00:02,  7.78it/s, Loss after step 79=3.1, Cartesian cost Scale=0.97]"
     ]
    },
    {
     "name": "stderr",
     "output_type": "stream",
     "text": [
      "\r",
      " 79%|███████▉  | 79/100 [00:42<00:02,  7.78it/s, Loss after step 80=3.05, Cartesian cost Scale=1]  "
     ]
    },
    {
     "name": "stderr",
     "output_type": "stream",
     "text": [
      "\r",
      " 80%|████████  | 80/100 [00:42<00:02,  7.83it/s, Loss after step 80=3.05, Cartesian cost Scale=1]"
     ]
    },
    {
     "name": "stderr",
     "output_type": "stream",
     "text": [
      "\r",
      " 80%|████████  | 80/100 [00:43<00:02,  7.83it/s, Loss after step 81=3, Cartesian cost Scale=1]   "
     ]
    },
    {
     "name": "stderr",
     "output_type": "stream",
     "text": [
      "\r",
      " 81%|████████  | 81/100 [00:43<00:02,  7.80it/s, Loss after step 81=3, Cartesian cost Scale=1]"
     ]
    },
    {
     "name": "stderr",
     "output_type": "stream",
     "text": [
      "\r",
      " 81%|████████  | 81/100 [00:43<00:02,  7.80it/s, Loss after step 82=3.02, Cartesian cost Scale=1]"
     ]
    },
    {
     "name": "stderr",
     "output_type": "stream",
     "text": [
      "\r",
      " 82%|████████▏ | 82/100 [00:43<00:02,  7.72it/s, Loss after step 82=3.02, Cartesian cost Scale=1]"
     ]
    },
    {
     "name": "stderr",
     "output_type": "stream",
     "text": [
      "\r",
      " 82%|████████▏ | 82/100 [00:43<00:02,  7.72it/s, Loss after step 83=3.03, Cartesian cost Scale=1]"
     ]
    },
    {
     "name": "stderr",
     "output_type": "stream",
     "text": [
      "\r",
      " 83%|████████▎ | 83/100 [00:43<00:02,  7.62it/s, Loss after step 83=3.03, Cartesian cost Scale=1]"
     ]
    },
    {
     "name": "stderr",
     "output_type": "stream",
     "text": [
      "\r",
      " 83%|████████▎ | 83/100 [00:43<00:02,  7.62it/s, Loss after step 84=3.06, Cartesian cost Scale=1]"
     ]
    },
    {
     "name": "stderr",
     "output_type": "stream",
     "text": [
      "\r",
      " 84%|████████▍ | 84/100 [00:43<00:02,  7.62it/s, Loss after step 84=3.06, Cartesian cost Scale=1]"
     ]
    },
    {
     "name": "stderr",
     "output_type": "stream",
     "text": [
      "\r",
      " 84%|████████▍ | 84/100 [00:43<00:02,  7.62it/s, Loss after step 85=3.01, Cartesian cost Scale=1]"
     ]
    },
    {
     "name": "stderr",
     "output_type": "stream",
     "text": [
      "\r",
      " 85%|████████▌ | 85/100 [00:43<00:01,  7.67it/s, Loss after step 85=3.01, Cartesian cost Scale=1]"
     ]
    },
    {
     "name": "stderr",
     "output_type": "stream",
     "text": [
      "\r",
      " 85%|████████▌ | 85/100 [00:43<00:01,  7.67it/s, Loss after step 86=3.04, Cartesian cost Scale=1]"
     ]
    },
    {
     "name": "stderr",
     "output_type": "stream",
     "text": [
      "\r",
      " 86%|████████▌ | 86/100 [00:43<00:01,  7.59it/s, Loss after step 86=3.04, Cartesian cost Scale=1]"
     ]
    },
    {
     "name": "stderr",
     "output_type": "stream",
     "text": [
      "\r",
      " 86%|████████▌ | 86/100 [00:43<00:01,  7.59it/s, Loss after step 87=3.06, Cartesian cost Scale=1]"
     ]
    },
    {
     "name": "stderr",
     "output_type": "stream",
     "text": [
      "\r",
      " 87%|████████▋ | 87/100 [00:43<00:01,  7.58it/s, Loss after step 87=3.06, Cartesian cost Scale=1]"
     ]
    },
    {
     "name": "stderr",
     "output_type": "stream",
     "text": [
      "\r",
      " 87%|████████▋ | 87/100 [00:43<00:01,  7.58it/s, Loss after step 88=3, Cartesian cost Scale=1]   "
     ]
    },
    {
     "name": "stderr",
     "output_type": "stream",
     "text": [
      "\r",
      " 88%|████████▊ | 88/100 [00:43<00:01,  7.67it/s, Loss after step 88=3, Cartesian cost Scale=1]"
     ]
    },
    {
     "name": "stderr",
     "output_type": "stream",
     "text": [
      "\r",
      " 88%|████████▊ | 88/100 [00:44<00:01,  7.67it/s, Loss after step 89=3.05, Cartesian cost Scale=1]"
     ]
    },
    {
     "name": "stderr",
     "output_type": "stream",
     "text": [
      "\r",
      " 89%|████████▉ | 89/100 [00:44<00:01,  7.74it/s, Loss after step 89=3.05, Cartesian cost Scale=1]"
     ]
    },
    {
     "name": "stderr",
     "output_type": "stream",
     "text": [
      "\r",
      " 89%|████████▉ | 89/100 [00:44<00:01,  7.74it/s, Loss after step 90=3.01, Cartesian cost Scale=1]"
     ]
    },
    {
     "name": "stderr",
     "output_type": "stream",
     "text": [
      "\r",
      " 90%|█████████ | 90/100 [00:44<00:01,  7.78it/s, Loss after step 90=3.01, Cartesian cost Scale=1]"
     ]
    },
    {
     "name": "stderr",
     "output_type": "stream",
     "text": [
      "\r",
      " 90%|█████████ | 90/100 [00:44<00:01,  7.78it/s, Loss after step 91=2.93, Cartesian cost Scale=1]"
     ]
    },
    {
     "name": "stderr",
     "output_type": "stream",
     "text": [
      "\r",
      " 91%|█████████ | 91/100 [00:44<00:01,  7.78it/s, Loss after step 91=2.93, Cartesian cost Scale=1]"
     ]
    },
    {
     "name": "stderr",
     "output_type": "stream",
     "text": [
      "\r",
      " 91%|█████████ | 91/100 [00:44<00:01,  7.78it/s, Loss after step 92=2.94, Cartesian cost Scale=1]"
     ]
    },
    {
     "name": "stderr",
     "output_type": "stream",
     "text": [
      "\r",
      " 92%|█████████▏| 92/100 [00:44<00:01,  7.84it/s, Loss after step 92=2.94, Cartesian cost Scale=1]"
     ]
    },
    {
     "name": "stderr",
     "output_type": "stream",
     "text": [
      "\r",
      " 92%|█████████▏| 92/100 [00:44<00:01,  7.84it/s, Loss after step 93=2.97, Cartesian cost Scale=1]"
     ]
    },
    {
     "name": "stderr",
     "output_type": "stream",
     "text": [
      "\r",
      " 93%|█████████▎| 93/100 [00:44<00:00,  7.73it/s, Loss after step 93=2.97, Cartesian cost Scale=1]"
     ]
    },
    {
     "name": "stderr",
     "output_type": "stream",
     "text": [
      "\r",
      " 93%|█████████▎| 93/100 [00:44<00:00,  7.73it/s, Loss after step 94=2.94, Cartesian cost Scale=1]"
     ]
    },
    {
     "name": "stderr",
     "output_type": "stream",
     "text": [
      "\r",
      " 94%|█████████▍| 94/100 [00:44<00:00,  7.77it/s, Loss after step 94=2.94, Cartesian cost Scale=1]"
     ]
    },
    {
     "name": "stderr",
     "output_type": "stream",
     "text": [
      "\r",
      " 94%|█████████▍| 94/100 [00:44<00:00,  7.77it/s, Loss after step 95=2.94, Cartesian cost Scale=1]"
     ]
    },
    {
     "name": "stderr",
     "output_type": "stream",
     "text": [
      "\r",
      " 95%|█████████▌| 95/100 [00:44<00:00,  7.89it/s, Loss after step 95=2.94, Cartesian cost Scale=1]"
     ]
    },
    {
     "name": "stderr",
     "output_type": "stream",
     "text": [
      "\r",
      " 95%|█████████▌| 95/100 [00:44<00:00,  7.89it/s, Loss after step 96=2.86, Cartesian cost Scale=1]"
     ]
    },
    {
     "name": "stderr",
     "output_type": "stream",
     "text": [
      "\r",
      " 96%|█████████▌| 96/100 [00:44<00:00,  7.94it/s, Loss after step 96=2.86, Cartesian cost Scale=1]"
     ]
    },
    {
     "name": "stderr",
     "output_type": "stream",
     "text": [
      "\r",
      " 96%|█████████▌| 96/100 [00:45<00:00,  7.94it/s, Loss after step 97=2.91, Cartesian cost Scale=1]"
     ]
    },
    {
     "name": "stderr",
     "output_type": "stream",
     "text": [
      "\r",
      " 97%|█████████▋| 97/100 [00:45<00:00,  7.93it/s, Loss after step 97=2.91, Cartesian cost Scale=1]"
     ]
    },
    {
     "name": "stderr",
     "output_type": "stream",
     "text": [
      "\r",
      " 97%|█████████▋| 97/100 [00:45<00:00,  7.93it/s, Loss after step 98=2.93, Cartesian cost Scale=1]"
     ]
    },
    {
     "name": "stderr",
     "output_type": "stream",
     "text": [
      "\r",
      " 98%|█████████▊| 98/100 [00:45<00:00,  7.92it/s, Loss after step 98=2.93, Cartesian cost Scale=1]"
     ]
    },
    {
     "name": "stderr",
     "output_type": "stream",
     "text": [
      "\r",
      " 98%|█████████▊| 98/100 [00:45<00:00,  7.92it/s, Loss after step 99=2.92, Cartesian cost Scale=1]"
     ]
    },
    {
     "name": "stderr",
     "output_type": "stream",
     "text": [
      "\r",
      " 99%|█████████▉| 99/100 [00:45<00:00,  7.85it/s, Loss after step 99=2.92, Cartesian cost Scale=1]"
     ]
    },
    {
     "name": "stderr",
     "output_type": "stream",
     "text": [
      "\r",
      " 99%|█████████▉| 99/100 [00:45<00:00,  7.85it/s, Loss after step 100=2.89, Cartesian cost Scale=1]"
     ]
    },
    {
     "name": "stderr",
     "output_type": "stream",
     "text": [
      "\r",
      "100%|██████████| 100/100 [00:45<00:00,  7.81it/s, Loss after step 100=2.89, Cartesian cost Scale=1]"
     ]
    },
    {
     "name": "stderr",
     "output_type": "stream",
     "text": [
      "\r",
      "100%|██████████| 100/100 [00:45<00:00,  2.20it/s, Loss after step 100=2.89, Cartesian cost Scale=1]"
     ]
    },
    {
     "name": "stderr",
     "output_type": "stream",
     "text": [
      "\n"
     ]
    },
    {
     "name": "stderr",
     "output_type": "stream",
     "text": [
      "WARNING:absl:Function `_wrapped_model` contains input name(s) args_0 with unsupported characters which will be renamed to args_0_6 in the SavedModel.\n"
     ]
    },
    {
     "name": "stderr",
     "output_type": "stream",
     "text": [
      "WARNING:absl:Found untraced functions such as _update_step_xla while saving (showing 1 of 1). These functions will not be directly callable after loading.\n"
     ]
    },
    {
     "name": "stderr",
     "output_type": "stream",
     "text": [
      "WARNING:absl:Function `_wrapped_model` contains input name(s) args_0 with unsupported characters which will be renamed to args_0_4 in the SavedModel.\n"
     ]
    },
    {
     "name": "stderr",
     "output_type": "stream",
     "text": [
      "WARNING:absl:Function `_wrapped_model` contains input name(s) Decoder_Input with unsupported characters which will be renamed to decoder_input in the SavedModel.\n"
     ]
    }
   ],
   "source": [
    "emap.train()"
   ]
  },
  {
   "cell_type": "markdown",
   "metadata": {},
   "source": [
    "## Plot the result\n",
    "\n",
    "In the result (longer training would be beneficial here), the projection area of asp7 and glu7 are separated."
   ]
  },
  {
   "cell_type": "code",
   "execution_count": 9,
   "metadata": {
    "execution": {
     "iopub.execute_input": "2023-02-07T11:09:50.689422Z",
     "iopub.status.busy": "2023-02-07T11:09:50.688833Z",
     "iopub.status.idle": "2023-02-07T11:09:51.625075Z",
     "shell.execute_reply": "2023-02-07T11:09:51.624278Z"
    }
   },
   "outputs": [
    {
     "data": {
      "text/plain": [
       "<matplotlib.legend.Legend at 0x7f7352a9a460>"
      ]
     },
     "execution_count": 9,
     "metadata": {},
     "output_type": "execute_result"
    },
    {
     "data": {
      "image/png": "[encoded data removed]",
      "text/plain": [
       "<Figure size 640x480 with 1 Axes>"
      ]
     },
     "metadata": {},
     "output_type": "display_data"
    }
   ],
   "source": [
    "import matplotlib.pyplot as plt\n",
    "\n",
    "fig, ax = plt.subplots()\n",
    "\n",
    "# generate ids, based on the names of the trajs\n",
    "ids = (trajs.name_arr == \"asp7\").astype(int)\n",
    "\n",
    "ax.scatter(*emap.encode()[ids == 0].T, label=\"glu7\")\n",
    "ax.scatter(*emap.encode()[ids == 1].T, label=\"asp7\")\n",
    "\n",
    "ax.legend()"
   ]
  },
  {
   "cell_type": "markdown",
   "metadata": {},
   "source": [
    "## Create a new trajectory\n",
    "\n",
    "Using the `InteractivePlotting` class, we can easily generate new molecular conformations by using the decoder part of the neural network. If you're running an interactive notebook, you can use the notebook or qt5 backend and play around with the InteractivePlotting."
   ]
  },
  {
   "cell_type": "code",
   "execution_count": 10,
   "metadata": {
    "execution": {
     "iopub.execute_input": "2023-02-07T11:09:51.629746Z",
     "iopub.status.busy": "2023-02-07T11:09:51.629062Z",
     "iopub.status.idle": "2023-02-07T11:09:52.145702Z",
     "shell.execute_reply": "2023-02-07T11:09:52.144975Z"
    }
   },
   "outputs": [
    {
     "name": "stdout",
     "output_type": "stream",
     "text": [
      "Using the `train_data` attribute of `autoencoder`.\n"
     ]
    },
    {
     "data": {
      "image/png": "[encoded data removed]",
      "text/plain": [
       "<Figure size 1000x800 with 3 Axes>"
      ]
     },
     "metadata": {},
     "output_type": "display_data"
    }
   ],
   "source": [
    "# %matplotlib qt5\n",
    "%matplotlib inline\n",
    "sess = em.InteractivePlotting(emap)"
   ]
  },
  {
   "cell_type": "markdown",
   "metadata": {},
   "source": [
    "For static notebooks, we load the points along the path and generate new molecular conformations from them."
   ]
  },
  {
   "cell_type": "code",
   "execution_count": 11,
   "metadata": {
    "execution": {
     "iopub.execute_input": "2023-02-07T11:09:52.149896Z",
     "iopub.status.busy": "2023-02-07T11:09:52.149136Z",
     "iopub.status.idle": "2023-02-07T11:09:53.209724Z",
     "shell.execute_reply": "2023-02-07T11:09:53.208809Z"
    }
   },
   "outputs": [
    {
     "name": "stderr",
     "output_type": "stream",
     "text": [
      "/opt/hostedtoolcache/Python/3.9.16/x64/lib/python3.9/site-packages/MDAnalysis/analysis/base.py:438: UserWarning: Reader has no dt information, set to 1.0 ps\n",
      "  self.times[i] = ts.time\n"
     ]
    }
   ],
   "source": [
    "sess.statusmenu.status = \"Bezier\"\n",
    "sess.ball_and_stick = True\n",
    "sess.path_points = np.load(\"path.npy\")\n",
    "sess.tool.ind = np.load(\"path.npy\")\n",
    "sess.set_points()"
   ]
  },
  {
   "cell_type": "markdown",
   "metadata": {},
   "source": [
    "View the generated traj:"
   ]
  },
  {
   "cell_type": "code",
   "execution_count": 12,
   "metadata": {
    "execution": {
     "iopub.execute_input": "2023-02-07T11:09:53.216229Z",
     "iopub.status.busy": "2023-02-07T11:09:53.215883Z",
     "iopub.status.idle": "2023-02-07T11:09:53.274059Z",
     "shell.execute_reply": "2023-02-07T11:09:53.273160Z"
    }
   },
   "outputs": [
    {
     "data": {
      "application/vnd.jupyter.widget-view+json": {
       "model_id": "ae08f3a0b7c14814a87ed58814824a5e",
       "version_major": 2,
       "version_minor": 0
      },
      "text/plain": [
       "NGLWidget(max_frame=199)"
      ]
     },
     "metadata": {},
     "output_type": "display_data"
    }
   ],
   "source": [
    "sess.view"
   ]
  },
  {
   "cell_type": "code",
   "execution_count": null,
   "metadata": {},
   "outputs": [],
   "source": []
  }
 ],
 "metadata": {
  "language_info": {
   "codemirror_mode": {
    "name": "ipython",
    "version": 3
   },
   "file_extension": ".py",
   "mimetype": "text/x-python",
   "name": "python",
   "nbconvert_exporter": "python",
   "pygments_lexer": "ipython3",
   "version": "3.9.16"
  },
  "widgets": {
   "application/vnd.jupyter.widget-state+json": {
    "state": {
     "0a35ad5477e34273a3c8429024d4bc91": {
      "model_module": "@jupyter-widgets/base",
      "model_module_version": "1.2.0",
      "model_name": "LayoutModel",
      "state": {
       "_model_module": "@jupyter-widgets/base",
       "_model_module_version": "1.2.0",
       "_model_name": "LayoutModel",
       "_view_count": null,
       "_view_module": "@jupyter-widgets/base",
       "_view_module_version": "1.2.0",
       "_view_name": "LayoutView",
       "align_content": null,
       "align_items": null,
       "align_self": null,
       "border": null,
       "bottom": null,
       "display": null,
       "flex": null,
       "flex_flow": null,
       "grid_area": null,
       "grid_auto_columns": null,
       "grid_auto_flow": null,
       "grid_auto_rows": null,
       "grid_column": null,
       "grid_gap": null,
       "grid_row": null,
       "grid_template_areas": null,
       "grid_template_columns": null,
       "grid_template_rows": null,
       "height": null,
       "justify_content": null,
       "justify_items": null,
       "left": null,
       "margin": null,
       "max_height": null,
       "max_width": null,
       "min_height": null,
       "min_width": null,
       "object_fit": null,
       "object_position": null,
       "order": null,
       "overflow": null,
       "overflow_x": null,
       "overflow_y": null,
       "padding": null,
       "right": null,
       "top": null,
       "visibility": null,
       "width": null
      }
     },
     "135a0bd951734ca987cd10d9315448e4": {
      "model_module": "@jupyter-widgets/base",
      "model_module_version": "1.2.0",
      "model_name": "LayoutModel",
      "state": {
       "_model_module": "@jupyter-widgets/base",
       "_model_module_version": "1.2.0",
       "_model_name": "LayoutModel",
       "_view_count": null,
       "_view_module": "@jupyter-widgets/base",
       "_view_module_version": "1.2.0",
       "_view_name": "LayoutView",
       "align_content": null,
       "align_items": null,
       "align_self": null,
       "border": null,
       "bottom": null,
       "display": null,
       "flex": null,
       "flex_flow": null,
       "grid_area": null,
       "grid_auto_columns": null,
       "grid_auto_flow": null,
       "grid_auto_rows": null,
       "grid_column": null,
       "grid_gap": null,
       "grid_row": null,
       "grid_template_areas": null,
       "grid_template_columns": null,
       "grid_template_rows": null,
       "height": null,
       "justify_content": null,
       "justify_items": null,
       "left": null,
       "margin": null,
       "max_height": null,
       "max_width": null,
       "min_height": null,
       "min_width": null,
       "object_fit": null,
       "object_position": null,
       "order": null,
       "overflow": null,
       "overflow_x": null,
       "overflow_y": null,
       "padding": null,
       "right": null,
       "top": null,
       "visibility": null,
       "width": null
      }
     },
     "138648b69a3e41aead6f926d7a3e70f5": {
      "model_module": "@jupyter-widgets/base",
      "model_module_version": "1.2.0",
      "model_name": "LayoutModel",
      "state": {
       "_model_module": "@jupyter-widgets/base",
       "_model_module_version": "1.2.0",
       "_model_name": "LayoutModel",
       "_view_count": null,
       "_view_module": "@jupyter-widgets/base",
       "_view_module_version": "1.2.0",
       "_view_name": "LayoutView",
       "align_content": null,
       "align_items": null,
       "align_self": null,
       "border": null,
       "bottom": null,
       "display": null,
       "flex": null,
       "flex_flow": null,
       "grid_area": null,
       "grid_auto_columns": null,
       "grid_auto_flow": null,
       "grid_auto_rows": null,
       "grid_column": null,
       "grid_gap": null,
       "grid_row": null,
       "grid_template_areas": null,
       "grid_template_columns": null,
       "grid_template_rows": null,
       "height": null,
       "justify_content": null,
       "justify_items": null,
       "left": null,
       "margin": null,
       "max_height": null,
       "max_width": null,
       "min_height": null,
       "min_width": null,
       "object_fit": null,
       "object_position": null,
       "order": null,
       "overflow": null,
       "overflow_x": null,
       "overflow_y": null,
       "padding": null,
       "right": null,
       "top": null,
       "visibility": null,
       "width": null
      }
     },
     "1b2d8ea39b5d492eb47149e600dd7f35": {
      "buffers": [
       {
        "data": "",
        "encoding": "base64",
        "path": [
         "value"
        ]
       }
      ],
      "model_module": "@jupyter-widgets/controls",
      "model_module_version": "1.5.0",
      "model_name": "ImageModel",
      "state": {
       "_dom_classes": [],
       "_model_module": "@jupyter-widgets/controls",
       "_model_module_version": "1.5.0",
       "_model_name": "ImageModel",
       "_view_count": null,
       "_view_module": "@jupyter-widgets/controls",
       "_view_module_version": "1.5.0",
       "_view_name": "ImageView",
       "format": "png",
       "height": "",
       "layout": "IPY_MODEL_0a35ad5477e34273a3c8429024d4bc91",
       "width": "900.0"
      }
     },
     "260ea070c4604a989cc8454c0ec12812": {
      "model_module": "@jupyter-widgets/controls",
      "model_module_version": "1.5.0",
      "model_name": "IntSliderModel",
      "state": {
       "_dom_classes": [],
       "_model_module": "@jupyter-widgets/controls",
       "_model_module_version": "1.5.0",
       "_model_name": "IntSliderModel",
       "_view_count": null,
       "_view_module": "@jupyter-widgets/controls",
       "_view_module_version": "1.5.0",
       "_view_name": "IntSliderView",
       "continuous_update": true,
       "description": "",
       "description_tooltip": null,
       "disabled": false,
       "layout": "IPY_MODEL_e855a8609b2844d9a3fcbe3b73c931e9",
       "max": 199,
       "min": 0,
       "orientation": "horizontal",
       "readout": true,
       "readout_format": "d",
       "step": 1,
       "style": "IPY_MODEL_47c8e133e72d4205a47c6567f0d89e0c",
       "value": 0
      }
     },
     "47c8e133e72d4205a47c6567f0d89e0c": {
      "model_module": "@jupyter-widgets/controls",
      "model_module_version": "1.5.0",
      "model_name": "SliderStyleModel",
      "state": {
       "_model_module": "@jupyter-widgets/controls",
       "_model_module_version": "1.5.0",
       "_model_name": "SliderStyleModel",
       "_view_count": null,
       "_view_module": "@jupyter-widgets/base",
       "_view_module_version": "1.2.0",
       "_view_name": "StyleView",
       "description_width": "",
       "handle_color": null
      }
     },
     "7475066a85f5401099355c53fde5c07c": {
      "model_module": "@jupyter-widgets/controls",
      "model_module_version": "1.5.0",
      "model_name": "LinkModel",
      "state": {
       "_model_module": "@jupyter-widgets/controls",
       "_model_module_version": "1.5.0",
       "_model_name": "LinkModel",
       "_view_count": null,
       "_view_module": "@jupyter-widgets/controls",
       "_view_module_version": "1.5.0",
       "_view_name": null,
       "source": [
        "IPY_MODEL_7d2f1ccee03843e0aa242feaf034dbf6",
        "value"
       ],
       "target": [
        "IPY_MODEL_260ea070c4604a989cc8454c0ec12812",
        "value"
       ]
      }
     },
     "785bfbce24d24a18b7ea6f8af2029a89": {
      "model_module": "@jupyter-widgets/controls",
      "model_module_version": "1.5.0",
      "model_name": "LinkModel",
      "state": {
       "_model_module": "@jupyter-widgets/controls",
       "_model_module_version": "1.5.0",
       "_model_name": "LinkModel",
       "_view_count": null,
       "_view_module": "@jupyter-widgets/controls",
       "_view_module_version": "1.5.0",
       "_view_name": null,
       "source": [
        "IPY_MODEL_7d2f1ccee03843e0aa242feaf034dbf6",
        "value"
       ],
       "target": [
        "IPY_MODEL_ae08f3a0b7c14814a87ed58814824a5e",
        "frame"
       ]
      }
     },
     "7d2f1ccee03843e0aa242feaf034dbf6": {
      "model_module": "@jupyter-widgets/controls",
      "model_module_version": "1.5.0",
      "model_name": "PlayModel",
      "state": {
       "_dom_classes": [],
       "_model_module": "@jupyter-widgets/controls",
       "_model_module_version": "1.5.0",
       "_model_name": "PlayModel",
       "_playing": false,
       "_repeat": false,
       "_view_count": null,
       "_view_module": "@jupyter-widgets/controls",
       "_view_module_version": "1.5.0",
       "_view_name": "PlayView",
       "description": "",
       "description_tooltip": null,
       "disabled": false,
       "interval": 100,
       "layout": "IPY_MODEL_135a0bd951734ca987cd10d9315448e4",
       "max": 199,
       "min": 0,
       "show_repeat": true,
       "step": 1,
       "style": "IPY_MODEL_95c1393cd73746b888d1ccce1ef9a9de",
       "value": 0
      }
     },
     "80ca9fbb4ca14be2ac5229b46733dfd7": {
      "model_module": "@jupyter-widgets/controls",
      "model_module_version": "1.5.0",
      "model_name": "ButtonStyleModel",
      "state": {
       "_model_module": "@jupyter-widgets/controls",
       "_model_module_version": "1.5.0",
       "_model_name": "ButtonStyleModel",
       "_view_count": null,
       "_view_module": "@jupyter-widgets/base",
       "_view_module_version": "1.2.0",
       "_view_name": "StyleView",
       "button_color": null,
       "font_weight": ""
      }
     },
     "95c1393cd73746b888d1ccce1ef9a9de": {
      "model_module": "@jupyter-widgets/controls",
      "model_module_version": "1.5.0",
      "model_name": "DescriptionStyleModel",
      "state": {
       "_model_module": "@jupyter-widgets/controls",
       "_model_module_version": "1.5.0",
       "_model_name": "DescriptionStyleModel",
       "_view_count": null,
       "_view_module": "@jupyter-widgets/base",
       "_view_module_version": "1.2.0",
       "_view_name": "StyleView",
       "description_width": ""
      }
     },
     "9fda2a0e556c49e58a119e33c30b7333": {
      "model_module": "@jupyter-widgets/base",
      "model_module_version": "1.2.0",
      "model_name": "LayoutModel",
      "state": {
       "_model_module": "@jupyter-widgets/base",
       "_model_module_version": "1.2.0",
       "_model_name": "LayoutModel",
       "_view_count": null,
       "_view_module": "@jupyter-widgets/base",
       "_view_module_version": "1.2.0",
       "_view_name": "LayoutView",
       "align_content": null,
       "align_items": null,
       "align_self": null,
       "border": null,
       "bottom": null,
       "display": null,
       "flex": null,
       "flex_flow": null,
       "grid_area": null,
       "grid_auto_columns": null,
       "grid_auto_flow": null,
       "grid_auto_rows": null,
       "grid_column": null,
       "grid_gap": null,
       "grid_row": null,
       "grid_template_areas": null,
       "grid_template_columns": null,
       "grid_template_rows": null,
       "height": null,
       "justify_content": null,
       "justify_items": null,
       "left": null,
       "margin": null,
       "max_height": null,
       "max_width": null,
       "min_height": null,
       "min_width": null,
       "object_fit": null,
       "object_position": null,
       "order": null,
       "overflow": null,
       "overflow_x": null,
       "overflow_y": null,
       "padding": null,
       "right": null,
       "top": null,
       "visibility": null,
       "width": "34px"
      }
     },
     "a04844a4d3fb47068b3957eeea75c2b0": {
      "model_module": "@jupyter-widgets/base",
      "model_module_version": "1.2.0",
      "model_name": "LayoutModel",
      "state": {
       "_model_module": "@jupyter-widgets/base",
       "_model_module_version": "1.2.0",
       "_model_name": "LayoutModel",
       "_view_count": null,
       "_view_module": "@jupyter-widgets/base",
       "_view_module_version": "1.2.0",
       "_view_name": "LayoutView",
       "align_content": null,
       "align_items": null,
       "align_self": null,
       "border": null,
       "bottom": null,
       "display": null,
       "flex": null,
       "flex_flow": null,
       "grid_area": null,
       "grid_auto_columns": null,
       "grid_auto_flow": null,
       "grid_auto_rows": null,
       "grid_column": null,
       "grid_gap": null,
       "grid_row": null,
       "grid_template_areas": null,
       "grid_template_columns": null,
       "grid_template_rows": null,
       "height": null,
       "justify_content": null,
       "justify_items": null,
       "left": null,
       "margin": null,
       "max_height": null,
       "max_width": null,
       "min_height": null,
       "min_width": null,
       "object_fit": null,
       "object_position": null,
       "order": null,
       "overflow": null,
       "overflow_x": null,
       "overflow_y": null,
       "padding": null,
       "right": null,
       "top": null,
       "visibility": null,
       "width": null
      }
     },
     "ae05e752ad8b4435a9d2884814b657c7": {
      "model_module": "@jupyter-widgets/base",
      "model_module_version": "1.2.0",
      "model_name": "LayoutModel",
      "state": {
       "_model_module": "@jupyter-widgets/base",
       "_model_module_version": "1.2.0",
       "_model_name": "LayoutModel",
       "_view_count": null,
       "_view_module": "@jupyter-widgets/base",
       "_view_module_version": "1.2.0",
       "_view_name": "LayoutView",
       "align_content": null,
       "align_items": null,
       "align_self": null,
       "border": null,
       "bottom": null,
       "display": null,
       "flex": null,
       "flex_flow": null,
       "grid_area": null,
       "grid_auto_columns": null,
       "grid_auto_flow": null,
       "grid_auto_rows": null,
       "grid_column": null,
       "grid_gap": null,
       "grid_row": null,
       "grid_template_areas": null,
       "grid_template_columns": null,
       "grid_template_rows": null,
       "height": null,
       "justify_content": null,
       "justify_items": null,
       "left": null,
       "margin": null,
       "max_height": null,
       "max_width": null,
       "min_height": null,
       "min_width": null,
       "object_fit": null,
       "object_position": null,
       "order": null,
       "overflow": null,
       "overflow_x": null,
       "overflow_y": null,
       "padding": null,
       "right": null,
       "top": null,
       "visibility": null,
       "width": null
      }
     },
     "ae08f3a0b7c14814a87ed58814824a5e": {
      "model_module": "nglview-js-widgets",
      "model_module_version": "3.0.1",
      "model_name": "NGLModel",
      "state": {
       "_camera_orientation": [],
       "_camera_str": "orthographic",
       "_dom_classes": [],
       "_gui_theme": null,
       "_ibtn_fullscreen": "IPY_MODEL_dcb79dacf6f649668ce6d62cc3a96440",
       "_igui": null,
       "_iplayer": "IPY_MODEL_b19b68f79f6a4df4b5de4923a0a61c51",
       "_model_module": "nglview-js-widgets",
       "_model_module_version": "3.0.1",
       "_model_name": "NGLModel",
       "_ngl_color_dict": {},
       "_ngl_coordinate_resource": {},
       "_ngl_full_stage_parameters": {},
       "_ngl_msg_archive": [
        {
         "args": [
          {
           "binary": false,
           "data": "TITLE     MDANALYSIS FRAME 0: Created by PDBWriter\nCRYST1    1.000    1.000    1.000  90.00  90.00  90.00 P 1           1\nREMARK     285 UNITARY VALUES FOR THE UNIT CELL AUTOMATICALLY SET\nREMARK     285 BY MDANALYSIS PDBWRITER BECAUSE UNIT CELL INFORMATION\nREMARK     285 WAS MISSING.\nREMARK     285 PROTEIN DATA BANK CONVENTIONS REQUIRE THAT\nREMARK     285 CRYST1 RECORD IS INCLUDED, BUT THE VALUES ON\nREMARK     285 THIS RECORD ARE MEANINGLESS.\nATOM      1  N   GLU A   1      32.450  37.400  14.970  1.00  0.00      A    N  \nATOM      2  H   GLU A   1      32.140  36.630  14.410  1.00  0.00      A    H  \nATOM      3  H2  GLU A   1      31.700  38.020  15.220  1.00  0.00      A    H  \nATOM      4  CA  GLU A   1      33.510  37.160  15.950  1.00  0.00      A    C  \nATOM      5  CB  GLU A   1      34.330  36.000  15.400  1.00  0.00      A    C  \nATOM      6  CG  GLU A   1      34.704  36.053  13.917  1.00  0.00      A    C  \nATOM      7  CD  GLU A   1      35.738  35.020  13.465  1.00  0.00      A    C  \nATOM      8  OE1 GLU A   1      36.405  34.378  14.270  1.00  0.00      A    O  \nATOM      9  OE2 GLU A   1      36.053  34.962  12.141  1.00  0.00      A    O  \nATOM     10  HE2 GLU A   1      36.874  34.404  12.033  1.00  0.00      A    H  \nATOM     11  C   GLU A   1      32.281  36.669  16.714  1.00  0.00      A    C  \nATOM     12  O   GLU A   1      32.402  36.271  17.874  1.00  0.00      A    O  \nATOM     13  N   GLU A   2      31.166  36.695  15.991  1.00  0.00      A    N  \nATOM     14  H   GLU A   2      31.043  37.486  15.388  1.00  0.00      A    H  \nATOM     15  CA  GLU A   2      30.205  35.585  15.960  1.00  0.00      A    C  \nATOM     16  CB  GLU A   2      30.558  34.662  17.131  1.00  0.00      A    C  \nATOM     17  CG  GLU A   2      31.456  35.364  18.157  1.00  0.00      A    C  \nATOM     18  CD  GLU A   2      31.913  34.332  19.185  1.00  0.00      A    C  \nATOM     19  OE1 GLU A   2      33.118  34.104  19.290  1.00  0.00      A    O  \nATOM     20  OE2 GLU A   2      31.048  33.819  20.106  1.00  0.00      A    O  \nATOM     21  HE2 GLU A   2      31.600  33.382  20.821  1.00  0.00      A    H  \nATOM     22  C   GLU A   2      31.278  35.454  14.875  1.00  0.00      A    C  \nATOM     23  O   GLU A   2      31.290  34.499  14.092  1.00  0.00      A    O  \nATOM     24  N   GLU A   3      32.128  36.463  14.786  1.00  0.00      A    N  \nATOM     25  H   GLU A   3      31.720  37.377  14.802  1.00  0.00      A    H  \nATOM     26  CA  GLU A   3      33.570  36.302  14.543  1.00  0.00      A    C  \nATOM     27  CB  GLU A   3      33.923  34.813  14.478  1.00  0.00      A    C  \nATOM     28  CG  GLU A   3      33.196  33.892  15.458  1.00  0.00      A    C  \nATOM     29  CD  GLU A   3      33.557  32.417  15.325  1.00  0.00      A    C  \nATOM     30  OE1 GLU A   3      34.705  32.060  15.075  1.00  0.00      A    O  \nATOM     31  OE2 GLU A   3      32.577  31.605  15.806  1.00  0.00      A    O  \nATOM     32  HE2 GLU A   3      32.645  30.717  15.342  1.00  0.00      A    H  \nATOM     33  C   GLU A   3      34.433  37.111  13.565  1.00  0.00      A    C  \nATOM     34  O   GLU A   3      34.159  37.126  12.371  1.00  0.00      A    O  \nATOM     35  N   GLU A   4      35.537  37.639  14.087  1.00  0.00      A    N  \nATOM     36  H   GLU A   4      35.542  38.260  14.865  1.00  0.00      A    H  \nATOM     37  CA  GLU A   4      36.843  37.391  13.465  1.00  0.00      A    C  \nATOM     38  CB  GLU A   4      36.622  36.682  12.127  1.00  0.00      A    C  \nATOM     39  CG  GLU A   4      35.175  36.876  11.662  1.00  0.00      A    C  \nATOM     40  CD  GLU A   4      34.947  36.767  10.149  1.00  0.00      A    C  \nATOM     41  OE1 GLU A   4      35.921  36.528   9.432  1.00  0.00      A    O  \nATOM     42  OE2 GLU A   4      33.661  36.897   9.735  1.00  0.00      A    O  \nATOM     43  HE2 GLU A   4      33.531  36.649   8.775  1.00  0.00      A    H  \nATOM     44  C   GLU A   4      36.557  36.383  14.590  1.00  0.00      A    C  \nATOM     45  O   GLU A   4      37.105  36.321  15.692  1.00  0.00      A    O  \nATOM     46  N   GLU A   5      35.616  35.502  14.299  1.00  0.00      A    N  \nATOM     47  H   GLU A   5      34.868  35.790  13.704  1.00  0.00      A    H  \nATOM     48  CA  GLU A   5      35.704  34.046  14.481  1.00  0.00      A    C  \nATOM     49  CB  GLU A   5      36.874  33.714  15.407  1.00  0.00      A    C  \nATOM     50  CG  GLU A   5      37.786  34.912  15.652  1.00  0.00      A    C  \nATOM     51  CD  GLU A   5      38.525  34.978  16.985  1.00  0.00      A    C  \nATOM     52  OE1 GLU A   5      39.508  35.688  17.174  1.00  0.00      A    O  \nATOM     53  OE2 GLU A   5      38.204  34.115  17.988  1.00  0.00      A    O  \nATOM     54  HE2 GLU A   5      38.666  34.416  18.823  1.00  0.00      A    H  \nATOM     55  C   GLU A   5      36.127  33.777  13.037  1.00  0.00      A    C  \nATOM     56  O   GLU A   5      35.321  33.779  12.098  1.00  0.00      A    O  \nATOM     57  N   GLU A   6      37.434  33.782  12.813  1.00  0.00      A    N  \nATOM     58  H   GLU A   6      37.968  34.500  13.253  1.00  0.00      A    H  \nATOM     59  CA  GLU A   6      38.197  32.813  12.005  1.00  0.00      A    C  \nATOM     60  CB  GLU A   6      37.377  32.111  10.927  1.00  0.00      A    C  \nATOM     61  CG  GLU A   6      35.886  31.912  11.209  1.00  0.00      A    C  \nATOM     62  CD  GLU A   6      35.311  30.863  10.249  1.00  0.00      A    C  \nATOM     63  OE1 GLU A   6      34.650  29.896  10.610  1.00  0.00      A    O  \nATOM     64  OE2 GLU A   6      35.716  31.105   8.967  1.00  0.00      A    O  \nATOM     65  HE2 GLU A   6      35.172  30.551   8.338  1.00  0.00      A    H  \nATOM     66  C   GLU A   6      39.673  32.766  11.594  1.00  0.00      A    C  \nATOM     67  O   GLU A   6      40.153  33.698  10.957  1.00  0.00      A    O  \nATOM     68  N   GLU A   7      40.448  31.805  12.087  1.00  0.00      A    N  \nATOM     69  H   GLU A   7      40.819  31.840  13.017  1.00  0.00      A    H  \nATOM     70  CA  GLU A   7      41.150  30.811  11.267  1.00  0.00      A    C  \nATOM     71  CB  GLU A   7      40.672  30.925   9.819  1.00  0.00      A    C  \nATOM     72  CG  GLU A   7      39.158  31.005   9.618  1.00  0.00      A    C  \nATOM     73  CD  GLU A   7      38.730  31.753   8.352  1.00  0.00      A    C  \nATOM     74  OE1 GLU A   7      39.417  32.626   7.817  1.00  0.00      A    O  \nATOM     75  OE2 GLU A   7      37.501  31.430   7.879  1.00  0.00      A    O  \nATOM     76  HE2 GLU A   7      37.513  32.080   7.116  1.00  0.00      A    H  \nATOM     77  C   GLU A   7      42.611  30.369  11.364  1.00  0.00      A    C  \nATOM     78  OXT GLU A   7      43.086  29.525  10.599  1.00  0.00      A    O  \nATOM     79  O   GLU A   7      43.347  30.962  12.335  1.00  0.00      A    O  \nATOM     80  HO  GLU A   7      44.247  30.554  12.181  1.00  0.00      A    H  \nEND\n",
           "type": "blob"
          }
         ],
         "kwargs": {
          "defaultRepresentation": true,
          "ext": "pdb",
          "name": "nglview.adaptor.MDAnalysisTrajectory"
         },
         "methodName": "loadFile",
         "reconstruc_color_scheme": false,
         "target": "Stage",
         "type": "call_method"
        },
        {
         "args": [],
         "component_index": 0,
         "kwargs": {},
         "methodName": "removeAllRepresentations",
         "reconstruc_color_scheme": false,
         "target": "compList",
         "type": "call_method"
        },
        {
         "args": [
          "ball+stick"
         ],
         "component_index": 0,
         "kwargs": {
          "sele": "all"
         },
         "methodName": "addRepresentation",
         "reconstruc_color_scheme": false,
         "target": "compList",
         "type": "call_method"
        }
       ],
       "_ngl_original_stage_parameters": {},
       "_ngl_repr_dict": {},
       "_ngl_serialize": false,
       "_ngl_version": "",
       "_ngl_view_id": [],
       "_player_dict": {},
       "_scene_position": {},
       "_scene_rotation": {},
       "_synced_model_ids": [],
       "_synced_repr_model_ids": [],
       "_view_count": null,
       "_view_height": "",
       "_view_module": "nglview-js-widgets",
       "_view_module_version": "3.0.1",
       "_view_name": "NGLView",
       "_view_width": "",
       "background": "white",
       "frame": 0,
       "gui_style": null,
       "layout": "IPY_MODEL_138648b69a3e41aead6f926d7a3e70f5",
       "max_frame": 199,
       "n_components": 0,
       "picked": {}
      }
     },
     "b19b68f79f6a4df4b5de4923a0a61c51": {
      "model_module": "@jupyter-widgets/controls",
      "model_module_version": "1.5.0",
      "model_name": "HBoxModel",
      "state": {
       "_dom_classes": [],
       "_model_module": "@jupyter-widgets/controls",
       "_model_module_version": "1.5.0",
       "_model_name": "HBoxModel",
       "_view_count": null,
       "_view_module": "@jupyter-widgets/controls",
       "_view_module_version": "1.5.0",
       "_view_name": "HBoxView",
       "box_style": "",
       "children": [
        "IPY_MODEL_7d2f1ccee03843e0aa242feaf034dbf6",
        "IPY_MODEL_260ea070c4604a989cc8454c0ec12812"
       ],
       "layout": "IPY_MODEL_ae05e752ad8b4435a9d2884814b657c7"
      }
     },
     "bebf81cc03a84321ab047476c5fdae3c": {
      "model_module": "@jupyter-widgets/controls",
      "model_module_version": "1.5.0",
      "model_name": "LinkModel",
      "state": {
       "_model_module": "@jupyter-widgets/controls",
       "_model_module_version": "1.5.0",
       "_model_name": "LinkModel",
       "_view_count": null,
       "_view_module": "@jupyter-widgets/controls",
       "_view_module_version": "1.5.0",
       "_view_name": null,
       "source": [
        "IPY_MODEL_7d2f1ccee03843e0aa242feaf034dbf6",
        "max"
       ],
       "target": [
        "IPY_MODEL_ae08f3a0b7c14814a87ed58814824a5e",
        "max_frame"
       ]
      }
     },
     "d163f5d73a7246ac830a81c199bd2ec8": {
      "model_module": "@jupyter-widgets/controls",
      "model_module_version": "1.5.0",
      "model_name": "LinkModel",
      "state": {
       "_model_module": "@jupyter-widgets/controls",
       "_model_module_version": "1.5.0",
       "_model_name": "LinkModel",
       "_view_count": null,
       "_view_module": "@jupyter-widgets/controls",
       "_view_module_version": "1.5.0",
       "_view_name": null,
       "source": [
        "IPY_MODEL_260ea070c4604a989cc8454c0ec12812",
        "max"
       ],
       "target": [
        "IPY_MODEL_ae08f3a0b7c14814a87ed58814824a5e",
        "max_frame"
       ]
      }
     },
     "d8fca91975004da8916400696e89c438": {
      "model_module": "nglview-js-widgets",
      "model_module_version": "3.0.1",
      "model_name": "ColormakerRegistryModel",
      "state": {
       "_dom_classes": [],
       "_model_module": "nglview-js-widgets",
       "_model_module_version": "3.0.1",
       "_model_name": "ColormakerRegistryModel",
       "_msg_ar": [],
       "_msg_q": [],
       "_ready": false,
       "_view_count": null,
       "_view_module": "nglview-js-widgets",
       "_view_module_version": "3.0.1",
       "_view_name": "ColormakerRegistryView",
       "layout": "IPY_MODEL_a04844a4d3fb47068b3957eeea75c2b0"
      }
     },
     "dcb79dacf6f649668ce6d62cc3a96440": {
      "model_module": "@jupyter-widgets/controls",
      "model_module_version": "1.5.0",
      "model_name": "ButtonModel",
      "state": {
       "_dom_classes": [],
       "_model_module": "@jupyter-widgets/controls",
       "_model_module_version": "1.5.0",
       "_model_name": "ButtonModel",
       "_view_count": null,
       "_view_module": "@jupyter-widgets/controls",
       "_view_module_version": "1.5.0",
       "_view_name": "ButtonView",
       "button_style": "",
       "description": "",
       "disabled": false,
       "icon": "compress",
       "layout": "IPY_MODEL_9fda2a0e556c49e58a119e33c30b7333",
       "style": "IPY_MODEL_80ca9fbb4ca14be2ac5229b46733dfd7",
       "tooltip": ""
      }
     },
     "e855a8609b2844d9a3fcbe3b73c931e9": {
      "model_module": "@jupyter-widgets/base",
      "model_module_version": "1.2.0",
      "model_name": "LayoutModel",
      "state": {
       "_model_module": "@jupyter-widgets/base",
       "_model_module_version": "1.2.0",
       "_model_name": "LayoutModel",
       "_view_count": null,
       "_view_module": "@jupyter-widgets/base",
       "_view_module_version": "1.2.0",
       "_view_name": "LayoutView",
       "align_content": null,
       "align_items": null,
       "align_self": null,
       "border": null,
       "bottom": null,
       "display": null,
       "flex": null,
       "flex_flow": null,
       "grid_area": null,
       "grid_auto_columns": null,
       "grid_auto_flow": null,
       "grid_auto_rows": null,
       "grid_column": null,
       "grid_gap": null,
       "grid_row": null,
       "grid_template_areas": null,
       "grid_template_columns": null,
       "grid_template_rows": null,
       "height": null,
       "justify_content": null,
       "justify_items": null,
       "left": null,
       "margin": null,
       "max_height": null,
       "max_width": null,
       "min_height": null,
       "min_width": null,
       "object_fit": null,
       "object_position": null,
       "order": null,
       "overflow": null,
       "overflow_x": null,
       "overflow_y": null,
       "padding": null,
       "right": null,
       "top": null,
       "visibility": null,
       "width": null
      }
     }
    },
    "version_major": 2,
    "version_minor": 0
   }
  }
 },
 "nbformat": 4,
 "nbformat_minor": 1
}
