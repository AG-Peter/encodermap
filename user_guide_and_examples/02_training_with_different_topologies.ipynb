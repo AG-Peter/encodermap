{
 "cells": [
  {
   "cell_type": "markdown",
   "metadata": {
    "collapsed": true
   },
   "source": [
    "# Training with different topologies\n",
    "\n",
    "Int this tutorial, you will learn how to use EncoderMap's new sparse trainign feature to learn the conformations of multiple proteins with different topologies.\n",
    "\n",
    "Run this notebook on Google Colab:\n",
    "\n",
    "[![Open in Colab](https://colab.research.google.com/assets/colab-badge.svg)](https://colab.research.google.com/github/AG-Peter/encodermap/blob/main/tutorials/notebooks_intermediate/02_training_with_different_topologies.ipynb)\n",
    "\n",
    "Find the documentation of EncoderMap:\n",
    "\n",
    "https://ag-peter.github.io/encodermap\n",
    "\n",
    "## Install encodermap on Google colab\n",
    "\n",
    "If you are on Google colab, please uncomment this line and install encodermap:"
   ]
  },
  {
   "cell_type": "code",
   "execution_count": 1,
   "metadata": {
    "execution": {
     "iopub.execute_input": "2023-02-06T10:06:28.326301Z",
     "iopub.status.busy": "2023-02-06T10:06:28.325828Z",
     "iopub.status.idle": "2023-02-06T10:06:28.330039Z",
     "shell.execute_reply": "2023-02-06T10:06:28.329208Z"
    }
   },
   "outputs": [],
   "source": [
    "# !pip install \"git+https://github.com/AG-Peter/encodermap.git@main\"\n",
    "# !pip install -r pip install -r https://raw.githubusercontent.com/AG-Peter/encodermap/main/tests/test_requirements.md"
   ]
  },
  {
   "cell_type": "markdown",
   "metadata": {},
   "source": [
    "## Imports"
   ]
  },
  {
   "cell_type": "code",
   "execution_count": 2,
   "metadata": {
    "execution": {
     "iopub.execute_input": "2023-02-06T10:06:28.334033Z",
     "iopub.status.busy": "2023-02-06T10:06:28.333532Z",
     "iopub.status.idle": "2023-02-06T10:06:32.166870Z",
     "shell.execute_reply": "2023-02-06T10:06:32.165842Z"
    }
   },
   "outputs": [
    {
     "name": "stderr",
     "output_type": "stream",
     "text": [
      "2023-02-06 10:06:28.513365: I tensorflow/core/platform/cpu_feature_guard.cc:193] This TensorFlow binary is optimized with oneAPI Deep Neural Network Library (oneDNN) to use the following CPU instructions in performance-critical operations:  AVX2 AVX512F FMA\n",
      "To enable them in other operations, rebuild TensorFlow with the appropriate compiler flags.\n",
      "2023-02-06 10:06:28.658236: W tensorflow/compiler/xla/stream_executor/platform/default/dso_loader.cc:64] Could not load dynamic library 'libcudart.so.11.0'; dlerror: libcudart.so.11.0: cannot open shared object file: No such file or directory; LD_LIBRARY_PATH: /opt/hostedtoolcache/Python/3.9.16/x64/lib\n",
      "2023-02-06 10:06:28.658261: I tensorflow/compiler/xla/stream_executor/cuda/cudart_stub.cc:29] Ignore above cudart dlerror if you do not have a GPU set up on your machine.\n"
     ]
    },
    {
     "name": "stderr",
     "output_type": "stream",
     "text": [
      "2023-02-06 10:06:29.406711: W tensorflow/compiler/xla/stream_executor/platform/default/dso_loader.cc:64] Could not load dynamic library 'libnvinfer.so.7'; dlerror: libnvinfer.so.7: cannot open shared object file: No such file or directory; LD_LIBRARY_PATH: /opt/hostedtoolcache/Python/3.9.16/x64/lib\n",
      "2023-02-06 10:06:29.406806: W tensorflow/compiler/xla/stream_executor/platform/default/dso_loader.cc:64] Could not load dynamic library 'libnvinfer_plugin.so.7'; dlerror: libnvinfer_plugin.so.7: cannot open shared object file: No such file or directory; LD_LIBRARY_PATH: /opt/hostedtoolcache/Python/3.9.16/x64/lib\n",
      "2023-02-06 10:06:29.406817: W tensorflow/compiler/tf2tensorrt/utils/py_utils.cc:38] TF-TRT Warning: Cannot dlopen some TensorRT libraries. If you would like to use Nvidia GPU with TensorRT, please make sure the missing libraries mentioned above are installed properly.\n"
     ]
    },
    {
     "data": {
      "application/vnd.jupyter.widget-view+json": {
       "model_id": "503d1f0afd6a444992a2eae69be4bc8d",
       "version_major": 2,
       "version_minor": 0
      },
      "text/plain": []
     },
     "metadata": {},
     "output_type": "display_data"
    }
   ],
   "source": [
    "import encodermap as em\n",
    "import numpy as np\n",
    "\n",
    "%matplotlib inline\n",
    "%load_ext autoreload\n",
    "%autoreload 2\n",
    "%config Completer.use_jedi = False"
   ]
  },
  {
   "cell_type": "markdown",
   "metadata": {},
   "source": [
    "Fix tensorflow seed for reproducibility"
   ]
  },
  {
   "cell_type": "code",
   "execution_count": 3,
   "metadata": {
    "execution": {
     "iopub.execute_input": "2023-02-06T10:06:32.170632Z",
     "iopub.status.busy": "2023-02-06T10:06:32.170344Z",
     "iopub.status.idle": "2023-02-06T10:06:32.218975Z",
     "shell.execute_reply": "2023-02-06T10:06:32.218110Z"
    }
   },
   "outputs": [],
   "source": [
    "import tensorflow as tf\n",
    "tf.random.set_seed(1)"
   ]
  },
  {
   "cell_type": "markdown",
   "metadata": {},
   "source": [
    "## Load the trajectories\n",
    "\n",
    "We use EncoderMap's `TrajEnsemble` class to load the trajectories and do the feature alignment."
   ]
  },
  {
   "cell_type": "code",
   "execution_count": 4,
   "metadata": {
    "execution": {
     "iopub.execute_input": "2023-02-06T10:06:32.223228Z",
     "iopub.status.busy": "2023-02-06T10:06:32.222572Z",
     "iopub.status.idle": "2023-02-06T10:06:32.272255Z",
     "shell.execute_reply": "2023-02-06T10:06:32.271413Z"
    }
   },
   "outputs": [],
   "source": [
    "traj_files = [\"glu7.xtc\", \"asp7.xtc\"]\n",
    "top_files = [\"glu7.pdb\", \"asp7.pdb\"]\n",
    "\n",
    "trajs = em.load(traj_files, top_files)"
   ]
  },
  {
   "cell_type": "markdown",
   "metadata": {},
   "source": [
    "Load the CVs with the `ensemble=True` options."
   ]
  },
  {
   "cell_type": "code",
   "execution_count": 5,
   "metadata": {
    "execution": {
     "iopub.execute_input": "2023-02-06T10:06:32.276848Z",
     "iopub.status.busy": "2023-02-06T10:06:32.276103Z",
     "iopub.status.idle": "2023-02-06T10:06:33.723481Z",
     "shell.execute_reply": "2023-02-06T10:06:33.722418Z"
    }
   },
   "outputs": [],
   "source": [
    "trajs.load_CVs(\"all\", ensemble=True)"
   ]
  },
  {
   "cell_type": "code",
   "execution_count": 6,
   "metadata": {
    "execution": {
     "iopub.execute_input": "2023-02-06T10:06:33.729019Z",
     "iopub.status.busy": "2023-02-06T10:06:33.728543Z",
     "iopub.status.idle": "2023-02-06T10:06:34.530174Z",
     "shell.execute_reply": "2023-02-06T10:06:34.529192Z"
    }
   },
   "outputs": [
    {
     "data": {
      "text/plain": [
       "<encodermap.TrajEnsemble object. Current backend is no_load. Containing 20002 frames. CV central_distances with shape (20002, 20) loaded. CV side_dihedrals with shape (20002, 21) loaded. CV central_angles with shape (20002, 19) loaded. CV central_dihedrals with shape (20002, 18) loaded. CV central_cartesians with shape (20002, 21, 3) loaded. Object at 0x7fa77c7641f0>"
      ]
     },
     "execution_count": 6,
     "metadata": {},
     "output_type": "execute_result"
    }
   ],
   "source": [
    "trajs"
   ]
  },
  {
   "cell_type": "markdown",
   "metadata": {},
   "source": [
    "## Create the AngleDihedralCartesianEncoderMap\n",
    "\n",
    "The AngleDihedralCartesianEncoderMap tries to learn all of the geometric features of a protein. The angles (backbone angles, backbone dihedrals, sidechain dihedrals) are passed through a neuronal network autoencoder, while the distances between the backbone atoms are used to create cartesian coordinates from the learned angles. The generated cartesians and the input (true) cartesians are used to construct pairwise C$_\\alpha$ distances, which are then also weighted using sketchmap's sigmoid function. The `cartesian_cost_scale_soft_start` gradually increases the contribution of this cost function to the overall model loss."
   ]
  },
  {
   "cell_type": "code",
   "execution_count": 7,
   "metadata": {
    "execution": {
     "iopub.execute_input": "2023-02-06T10:06:34.534321Z",
     "iopub.status.busy": "2023-02-06T10:06:34.533811Z",
     "iopub.status.idle": "2023-02-06T10:06:39.572766Z",
     "shell.execute_reply": "2023-02-06T10:06:39.571657Z"
    }
   },
   "outputs": [
    {
     "name": "stdout",
     "output_type": "stream",
     "text": [
      "Output files are saved to runs/asp7_glu7_asp8/run0 as defined in 'main_path' in the parameters.\n",
      "Input contains nans. Using sparse network.\n"
     ]
    },
    {
     "name": "stderr",
     "output_type": "stream",
     "text": [
      "2023-02-06 10:06:34.741524: W tensorflow/compiler/xla/stream_executor/platform/default/dso_loader.cc:64] Could not load dynamic library 'libcuda.so.1'; dlerror: libcuda.so.1: cannot open shared object file: No such file or directory; LD_LIBRARY_PATH: /opt/hostedtoolcache/Python/3.9.16/x64/lib\n",
      "2023-02-06 10:06:34.741558: W tensorflow/compiler/xla/stream_executor/cuda/cuda_driver.cc:265] failed call to cuInit: UNKNOWN ERROR (303)\n",
      "2023-02-06 10:06:34.741578: I tensorflow/compiler/xla/stream_executor/cuda/cuda_diagnostics.cc:156] kernel driver does not appear to be running on this host (fv-az175-660): /proc/driver/nvidia/version does not exist\n",
      "2023-02-06 10:06:34.741864: I tensorflow/core/platform/cpu_feature_guard.cc:193] This TensorFlow binary is optimized with oneAPI Deep Neural Network Library (oneDNN) to use the following CPU instructions in performance-critical operations:  AVX2 AVX512F FMA\n",
      "To enable them in other operations, rebuild TensorFlow with the appropriate compiler flags.\n"
     ]
    },
    {
     "name": "stdout",
     "output_type": "stream",
     "text": [
      "input shapes are:\n",
      "{'central_distances': (20002, 20), 'side_dihedrals': TensorShape([20002, 21]), 'central_angles': (20002, 19), 'central_dihedrals': (20002, 18), 'central_cartesians': (20002, 21, 3)}\n",
      "You must install pydot (`pip install pydot`) and install graphviz (see instructions at https://graphviz.gitlab.io/download/) for plot_model to work.\n"
     ]
    },
    {
     "name": "stdout",
     "output_type": "stream",
     "text": [
      "Saved a text-summary of the model and an image in runs/asp7_glu7_asp8/run0, as specified in 'main_path' in the parameters.\n"
     ]
    }
   ],
   "source": [
    "p = em.ADCParameters(use_backbone_angles=True,\n",
    "                     distance_cost_scale=1,\n",
    "                     auto_cost_scale=0.1,\n",
    "                     cartesian_cost_scale_soft_start=(50, 80),\n",
    "                     n_neurons = [500, 250, 125, 2],\n",
    "                     activation_functions = ['', 'tanh', 'tanh', 'tanh', ''],\n",
    "                     use_sidechains=True,\n",
    "                     summary_step=1,\n",
    "                     tensorboard=True,\n",
    "                     periodicity=2*np.pi,\n",
    "                     n_steps=100,\n",
    "                     checkpoint_step=1000,\n",
    "                     dist_sig_parameters = (4.5, 12, 6, 1, 2, 6),\n",
    "                     main_path=em.misc.run_path('runs/asp7_glu7_asp8'),\n",
    "                     model_api='functional',\n",
    "                    )\n",
    "emap = em.AngleDihedralCartesianEncoderMap(trajs, p)"
   ]
  },
  {
   "cell_type": "markdown",
   "metadata": {},
   "source": [
    "train"
   ]
  },
  {
   "cell_type": "code",
   "execution_count": 8,
   "metadata": {
    "execution": {
     "iopub.execute_input": "2023-02-06T10:06:39.576814Z",
     "iopub.status.busy": "2023-02-06T10:06:39.576264Z",
     "iopub.status.idle": "2023-02-06T10:07:51.343884Z",
     "shell.execute_reply": "2023-02-06T10:07:51.342450Z"
    }
   },
   "outputs": [
    {
     "name": "stderr",
     "output_type": "stream",
     "text": [
      "\r",
      "  0%|          | 0/100 [00:00<?, ?it/s]"
     ]
    },
    {
     "name": "stderr",
     "output_type": "stream",
     "text": [
      "\r",
      "  0%|          | 0/100 [00:00<?, ?it/s, Loss after step ?=?, Cartesian cost Scale=?]"
     ]
    },
    {
     "name": "stderr",
     "output_type": "stream",
     "text": [
      "\r",
      "  0%|          | 0/100 [00:29<?, ?it/s, Loss after step 1=6.62, Cartesian cost Scale=0]"
     ]
    },
    {
     "name": "stderr",
     "output_type": "stream",
     "text": [
      "\r",
      "  1%|          | 1/100 [00:29<49:21, 29.92s/it, Loss after step 1=6.62, Cartesian cost Scale=0]"
     ]
    },
    {
     "name": "stderr",
     "output_type": "stream",
     "text": [
      "\r",
      "  1%|          | 1/100 [00:30<49:21, 29.92s/it, Loss after step 2=5.85, Cartesian cost Scale=0]"
     ]
    },
    {
     "name": "stderr",
     "output_type": "stream",
     "text": [
      "\r",
      "  2%|▏         | 2/100 [00:30<20:14, 12.39s/it, Loss after step 2=5.85, Cartesian cost Scale=0]"
     ]
    },
    {
     "name": "stderr",
     "output_type": "stream",
     "text": [
      "\r",
      "  2%|▏         | 2/100 [00:30<20:14, 12.39s/it, Loss after step 3=5.38, Cartesian cost Scale=0]"
     ]
    },
    {
     "name": "stderr",
     "output_type": "stream",
     "text": [
      "\r",
      "  3%|▎         | 3/100 [00:30<10:58,  6.79s/it, Loss after step 3=5.38, Cartesian cost Scale=0]"
     ]
    },
    {
     "name": "stderr",
     "output_type": "stream",
     "text": [
      "\r",
      "  3%|▎         | 3/100 [00:30<10:58,  6.79s/it, Loss after step 4=5.13, Cartesian cost Scale=0]"
     ]
    },
    {
     "name": "stderr",
     "output_type": "stream",
     "text": [
      "\r",
      "  4%|▍         | 4/100 [00:30<06:38,  4.16s/it, Loss after step 4=5.13, Cartesian cost Scale=0]"
     ]
    },
    {
     "name": "stderr",
     "output_type": "stream",
     "text": [
      "\r",
      "  4%|▍         | 4/100 [00:30<06:38,  4.16s/it, Loss after step 5=4.91, Cartesian cost Scale=0]"
     ]
    },
    {
     "name": "stderr",
     "output_type": "stream",
     "text": [
      "\r",
      "  5%|▌         | 5/100 [00:30<04:16,  2.70s/it, Loss after step 5=4.91, Cartesian cost Scale=0]"
     ]
    },
    {
     "name": "stderr",
     "output_type": "stream",
     "text": [
      "\r",
      "  5%|▌         | 5/100 [00:30<04:16,  2.70s/it, Loss after step 6=4.71, Cartesian cost Scale=0]"
     ]
    },
    {
     "name": "stderr",
     "output_type": "stream",
     "text": [
      "\r",
      "  6%|▌         | 6/100 [00:30<02:51,  1.82s/it, Loss after step 6=4.71, Cartesian cost Scale=0]"
     ]
    },
    {
     "name": "stderr",
     "output_type": "stream",
     "text": [
      "\r",
      "  6%|▌         | 6/100 [00:30<02:51,  1.82s/it, Loss after step 7=4.63, Cartesian cost Scale=0]"
     ]
    },
    {
     "name": "stderr",
     "output_type": "stream",
     "text": [
      "\r",
      "  7%|▋         | 7/100 [00:30<01:57,  1.26s/it, Loss after step 7=4.63, Cartesian cost Scale=0]"
     ]
    },
    {
     "name": "stderr",
     "output_type": "stream",
     "text": [
      "\r",
      "  7%|▋         | 7/100 [00:30<01:57,  1.26s/it, Loss after step 8=4.48, Cartesian cost Scale=0]"
     ]
    },
    {
     "name": "stderr",
     "output_type": "stream",
     "text": [
      "\r",
      "  8%|▊         | 8/100 [00:30<01:22,  1.12it/s, Loss after step 8=4.48, Cartesian cost Scale=0]"
     ]
    },
    {
     "name": "stderr",
     "output_type": "stream",
     "text": [
      "\r",
      "  8%|▊         | 8/100 [00:30<01:22,  1.12it/s, Loss after step 9=4.35, Cartesian cost Scale=0]"
     ]
    },
    {
     "name": "stderr",
     "output_type": "stream",
     "text": [
      "\r",
      "  9%|▉         | 9/100 [00:30<00:59,  1.53it/s, Loss after step 9=4.35, Cartesian cost Scale=0]"
     ]
    },
    {
     "name": "stderr",
     "output_type": "stream",
     "text": [
      "\r",
      "  9%|▉         | 9/100 [00:30<00:59,  1.53it/s, Loss after step 10=4.2, Cartesian cost Scale=0]"
     ]
    },
    {
     "name": "stderr",
     "output_type": "stream",
     "text": [
      "\r",
      " 10%|█         | 10/100 [00:30<00:43,  2.05it/s, Loss after step 10=4.2, Cartesian cost Scale=0]"
     ]
    },
    {
     "name": "stderr",
     "output_type": "stream",
     "text": [
      "\r",
      " 10%|█         | 10/100 [00:31<00:43,  2.05it/s, Loss after step 11=4.13, Cartesian cost Scale=0]"
     ]
    },
    {
     "name": "stderr",
     "output_type": "stream",
     "text": [
      "\r",
      " 11%|█         | 11/100 [00:31<00:33,  2.68it/s, Loss after step 11=4.13, Cartesian cost Scale=0]"
     ]
    },
    {
     "name": "stderr",
     "output_type": "stream",
     "text": [
      "\r",
      " 11%|█         | 11/100 [00:31<00:33,  2.68it/s, Loss after step 12=4.04, Cartesian cost Scale=0]"
     ]
    },
    {
     "name": "stderr",
     "output_type": "stream",
     "text": [
      "\r",
      " 12%|█▏        | 12/100 [00:31<00:25,  3.39it/s, Loss after step 12=4.04, Cartesian cost Scale=0]"
     ]
    },
    {
     "name": "stderr",
     "output_type": "stream",
     "text": [
      "\r",
      " 12%|█▏        | 12/100 [00:31<00:25,  3.39it/s, Loss after step 13=3.99, Cartesian cost Scale=0]"
     ]
    },
    {
     "name": "stderr",
     "output_type": "stream",
     "text": [
      "\r",
      " 13%|█▎        | 13/100 [00:31<00:20,  4.18it/s, Loss after step 13=3.99, Cartesian cost Scale=0]"
     ]
    },
    {
     "name": "stderr",
     "output_type": "stream",
     "text": [
      "\r",
      " 13%|█▎        | 13/100 [00:31<00:20,  4.18it/s, Loss after step 14=3.96, Cartesian cost Scale=0]"
     ]
    },
    {
     "name": "stderr",
     "output_type": "stream",
     "text": [
      "\r",
      " 14%|█▍        | 14/100 [00:31<00:17,  5.01it/s, Loss after step 14=3.96, Cartesian cost Scale=0]"
     ]
    },
    {
     "name": "stderr",
     "output_type": "stream",
     "text": [
      "\r",
      " 14%|█▍        | 14/100 [00:31<00:17,  5.01it/s, Loss after step 15=3.98, Cartesian cost Scale=0]"
     ]
    },
    {
     "name": "stderr",
     "output_type": "stream",
     "text": [
      "\r",
      " 15%|█▌        | 15/100 [00:31<00:14,  5.77it/s, Loss after step 15=3.98, Cartesian cost Scale=0]"
     ]
    },
    {
     "name": "stderr",
     "output_type": "stream",
     "text": [
      "\r",
      " 15%|█▌        | 15/100 [00:31<00:14,  5.77it/s, Loss after step 16=3.88, Cartesian cost Scale=0]"
     ]
    },
    {
     "name": "stderr",
     "output_type": "stream",
     "text": [
      "\r",
      " 16%|█▌        | 16/100 [00:31<00:12,  6.51it/s, Loss after step 16=3.88, Cartesian cost Scale=0]"
     ]
    },
    {
     "name": "stderr",
     "output_type": "stream",
     "text": [
      "\r",
      " 16%|█▌        | 16/100 [00:31<00:12,  6.51it/s, Loss after step 17=3.86, Cartesian cost Scale=0]"
     ]
    },
    {
     "name": "stderr",
     "output_type": "stream",
     "text": [
      "\r",
      " 17%|█▋        | 17/100 [00:31<00:11,  7.09it/s, Loss after step 17=3.86, Cartesian cost Scale=0]"
     ]
    },
    {
     "name": "stderr",
     "output_type": "stream",
     "text": [
      "\r",
      " 17%|█▋        | 17/100 [00:31<00:11,  7.09it/s, Loss after step 18=3.83, Cartesian cost Scale=0]"
     ]
    },
    {
     "name": "stderr",
     "output_type": "stream",
     "text": [
      "\r",
      " 18%|█▊        | 18/100 [00:31<00:11,  7.45it/s, Loss after step 18=3.83, Cartesian cost Scale=0]"
     ]
    },
    {
     "name": "stderr",
     "output_type": "stream",
     "text": [
      "\r",
      " 18%|█▊        | 18/100 [00:31<00:11,  7.45it/s, Loss after step 19=3.77, Cartesian cost Scale=0]"
     ]
    },
    {
     "name": "stderr",
     "output_type": "stream",
     "text": [
      "\r",
      " 19%|█▉        | 19/100 [00:31<00:10,  7.77it/s, Loss after step 19=3.77, Cartesian cost Scale=0]"
     ]
    },
    {
     "name": "stderr",
     "output_type": "stream",
     "text": [
      "\r",
      " 19%|█▉        | 19/100 [00:32<00:10,  7.77it/s, Loss after step 20=3.74, Cartesian cost Scale=0]"
     ]
    },
    {
     "name": "stderr",
     "output_type": "stream",
     "text": [
      "\r",
      " 20%|██        | 20/100 [00:32<00:10,  7.98it/s, Loss after step 20=3.74, Cartesian cost Scale=0]"
     ]
    },
    {
     "name": "stderr",
     "output_type": "stream",
     "text": [
      "\r",
      " 20%|██        | 20/100 [00:32<00:10,  7.98it/s, Loss after step 21=3.7, Cartesian cost Scale=0] "
     ]
    },
    {
     "name": "stderr",
     "output_type": "stream",
     "text": [
      "\r",
      " 21%|██        | 21/100 [00:32<00:09,  8.26it/s, Loss after step 21=3.7, Cartesian cost Scale=0]"
     ]
    },
    {
     "name": "stderr",
     "output_type": "stream",
     "text": [
      "\r",
      " 21%|██        | 21/100 [00:32<00:09,  8.26it/s, Loss after step 22=3.71, Cartesian cost Scale=0]"
     ]
    },
    {
     "name": "stderr",
     "output_type": "stream",
     "text": [
      "\r",
      " 22%|██▏       | 22/100 [00:32<00:09,  8.36it/s, Loss after step 22=3.71, Cartesian cost Scale=0]"
     ]
    },
    {
     "name": "stderr",
     "output_type": "stream",
     "text": [
      "\r",
      " 22%|██▏       | 22/100 [00:32<00:09,  8.36it/s, Loss after step 23=3.68, Cartesian cost Scale=0]"
     ]
    },
    {
     "name": "stderr",
     "output_type": "stream",
     "text": [
      "\r",
      " 23%|██▎       | 23/100 [00:32<00:09,  8.41it/s, Loss after step 23=3.68, Cartesian cost Scale=0]"
     ]
    },
    {
     "name": "stderr",
     "output_type": "stream",
     "text": [
      "\r",
      " 23%|██▎       | 23/100 [00:32<00:09,  8.41it/s, Loss after step 24=3.7, Cartesian cost Scale=0] "
     ]
    },
    {
     "name": "stderr",
     "output_type": "stream",
     "text": [
      "\r",
      " 24%|██▍       | 24/100 [00:32<00:09,  8.38it/s, Loss after step 24=3.7, Cartesian cost Scale=0]"
     ]
    },
    {
     "name": "stderr",
     "output_type": "stream",
     "text": [
      "\r",
      " 24%|██▍       | 24/100 [00:32<00:09,  8.38it/s, Loss after step 25=3.65, Cartesian cost Scale=0]"
     ]
    },
    {
     "name": "stderr",
     "output_type": "stream",
     "text": [
      "\r",
      " 25%|██▌       | 25/100 [00:32<00:09,  8.28it/s, Loss after step 25=3.65, Cartesian cost Scale=0]"
     ]
    },
    {
     "name": "stderr",
     "output_type": "stream",
     "text": [
      "\r",
      " 25%|██▌       | 25/100 [00:32<00:09,  8.28it/s, Loss after step 26=3.62, Cartesian cost Scale=0]"
     ]
    },
    {
     "name": "stderr",
     "output_type": "stream",
     "text": [
      "\r",
      " 26%|██▌       | 26/100 [00:32<00:08,  8.41it/s, Loss after step 26=3.62, Cartesian cost Scale=0]"
     ]
    },
    {
     "name": "stderr",
     "output_type": "stream",
     "text": [
      "\r",
      " 26%|██▌       | 26/100 [00:32<00:08,  8.41it/s, Loss after step 27=3.6, Cartesian cost Scale=0] "
     ]
    },
    {
     "name": "stderr",
     "output_type": "stream",
     "text": [
      "\r",
      " 27%|██▋       | 27/100 [00:32<00:08,  8.38it/s, Loss after step 27=3.6, Cartesian cost Scale=0]"
     ]
    },
    {
     "name": "stderr",
     "output_type": "stream",
     "text": [
      "\r",
      " 27%|██▋       | 27/100 [00:33<00:08,  8.38it/s, Loss after step 28=3.59, Cartesian cost Scale=0]"
     ]
    },
    {
     "name": "stderr",
     "output_type": "stream",
     "text": [
      "\r",
      " 28%|██▊       | 28/100 [00:33<00:08,  8.55it/s, Loss after step 28=3.59, Cartesian cost Scale=0]"
     ]
    },
    {
     "name": "stderr",
     "output_type": "stream",
     "text": [
      "\r",
      " 28%|██▊       | 28/100 [00:33<00:08,  8.55it/s, Loss after step 29=3.57, Cartesian cost Scale=0]"
     ]
    },
    {
     "name": "stderr",
     "output_type": "stream",
     "text": [
      "\r",
      " 29%|██▉       | 29/100 [00:33<00:08,  8.41it/s, Loss after step 29=3.57, Cartesian cost Scale=0]"
     ]
    },
    {
     "name": "stderr",
     "output_type": "stream",
     "text": [
      "\r",
      " 29%|██▉       | 29/100 [00:33<00:08,  8.41it/s, Loss after step 30=3.6, Cartesian cost Scale=0] "
     ]
    },
    {
     "name": "stderr",
     "output_type": "stream",
     "text": [
      "\r",
      " 30%|███       | 30/100 [00:33<00:08,  8.42it/s, Loss after step 30=3.6, Cartesian cost Scale=0]"
     ]
    },
    {
     "name": "stderr",
     "output_type": "stream",
     "text": [
      "\r",
      " 30%|███       | 30/100 [00:33<00:08,  8.42it/s, Loss after step 31=3.52, Cartesian cost Scale=0]"
     ]
    },
    {
     "name": "stderr",
     "output_type": "stream",
     "text": [
      "\r",
      " 31%|███       | 31/100 [00:33<00:08,  8.47it/s, Loss after step 31=3.52, Cartesian cost Scale=0]"
     ]
    },
    {
     "name": "stderr",
     "output_type": "stream",
     "text": [
      "\r",
      " 31%|███       | 31/100 [00:33<00:08,  8.47it/s, Loss after step 32=3.55, Cartesian cost Scale=0]"
     ]
    },
    {
     "name": "stderr",
     "output_type": "stream",
     "text": [
      "\r",
      " 32%|███▏      | 32/100 [00:33<00:08,  8.47it/s, Loss after step 32=3.55, Cartesian cost Scale=0]"
     ]
    },
    {
     "name": "stderr",
     "output_type": "stream",
     "text": [
      "\r",
      " 32%|███▏      | 32/100 [00:33<00:08,  8.47it/s, Loss after step 33=3.52, Cartesian cost Scale=0]"
     ]
    },
    {
     "name": "stderr",
     "output_type": "stream",
     "text": [
      "\r",
      " 33%|███▎      | 33/100 [00:33<00:07,  8.55it/s, Loss after step 33=3.52, Cartesian cost Scale=0]"
     ]
    },
    {
     "name": "stderr",
     "output_type": "stream",
     "text": [
      "\r",
      " 33%|███▎      | 33/100 [00:33<00:07,  8.55it/s, Loss after step 34=3.5, Cartesian cost Scale=0] "
     ]
    },
    {
     "name": "stderr",
     "output_type": "stream",
     "text": [
      "\r",
      " 34%|███▍      | 34/100 [00:33<00:07,  8.72it/s, Loss after step 34=3.5, Cartesian cost Scale=0]"
     ]
    },
    {
     "name": "stderr",
     "output_type": "stream",
     "text": [
      "\r",
      " 34%|███▍      | 34/100 [00:33<00:07,  8.72it/s, Loss after step 35=3.47, Cartesian cost Scale=0]"
     ]
    },
    {
     "name": "stderr",
     "output_type": "stream",
     "text": [
      "\r",
      " 35%|███▌      | 35/100 [00:33<00:07,  8.56it/s, Loss after step 35=3.47, Cartesian cost Scale=0]"
     ]
    },
    {
     "name": "stderr",
     "output_type": "stream",
     "text": [
      "\r",
      " 35%|███▌      | 35/100 [00:33<00:07,  8.56it/s, Loss after step 36=3.44, Cartesian cost Scale=0]"
     ]
    },
    {
     "name": "stderr",
     "output_type": "stream",
     "text": [
      "\r",
      " 36%|███▌      | 36/100 [00:33<00:07,  8.52it/s, Loss after step 36=3.44, Cartesian cost Scale=0]"
     ]
    },
    {
     "name": "stderr",
     "output_type": "stream",
     "text": [
      "\r",
      " 36%|███▌      | 36/100 [00:34<00:07,  8.52it/s, Loss after step 37=3.43, Cartesian cost Scale=0]"
     ]
    },
    {
     "name": "stderr",
     "output_type": "stream",
     "text": [
      "\r",
      " 37%|███▋      | 37/100 [00:34<00:07,  8.67it/s, Loss after step 37=3.43, Cartesian cost Scale=0]"
     ]
    },
    {
     "name": "stderr",
     "output_type": "stream",
     "text": [
      "\r",
      " 37%|███▋      | 37/100 [00:34<00:07,  8.67it/s, Loss after step 38=3.42, Cartesian cost Scale=0]"
     ]
    },
    {
     "name": "stderr",
     "output_type": "stream",
     "text": [
      "\r",
      " 38%|███▊      | 38/100 [00:34<00:07,  8.64it/s, Loss after step 38=3.42, Cartesian cost Scale=0]"
     ]
    },
    {
     "name": "stderr",
     "output_type": "stream",
     "text": [
      "\r",
      " 38%|███▊      | 38/100 [00:34<00:07,  8.64it/s, Loss after step 39=3.42, Cartesian cost Scale=0]"
     ]
    },
    {
     "name": "stderr",
     "output_type": "stream",
     "text": [
      "\r",
      " 39%|███▉      | 39/100 [00:34<00:07,  8.64it/s, Loss after step 39=3.42, Cartesian cost Scale=0]"
     ]
    },
    {
     "name": "stderr",
     "output_type": "stream",
     "text": [
      "\r",
      " 39%|███▉      | 39/100 [00:34<00:07,  8.64it/s, Loss after step 40=3.38, Cartesian cost Scale=0]"
     ]
    },
    {
     "name": "stderr",
     "output_type": "stream",
     "text": [
      "\r",
      " 40%|████      | 40/100 [00:34<00:06,  8.66it/s, Loss after step 40=3.38, Cartesian cost Scale=0]"
     ]
    },
    {
     "name": "stderr",
     "output_type": "stream",
     "text": [
      "\r",
      " 40%|████      | 40/100 [00:34<00:06,  8.66it/s, Loss after step 41=3.34, Cartesian cost Scale=0]"
     ]
    },
    {
     "name": "stderr",
     "output_type": "stream",
     "text": [
      "\r",
      " 41%|████      | 41/100 [00:34<00:06,  8.56it/s, Loss after step 41=3.34, Cartesian cost Scale=0]"
     ]
    },
    {
     "name": "stderr",
     "output_type": "stream",
     "text": [
      "\r",
      " 41%|████      | 41/100 [00:34<00:06,  8.56it/s, Loss after step 42=3.35, Cartesian cost Scale=0]"
     ]
    },
    {
     "name": "stderr",
     "output_type": "stream",
     "text": [
      "\r",
      " 42%|████▏     | 42/100 [00:34<00:06,  8.70it/s, Loss after step 42=3.35, Cartesian cost Scale=0]"
     ]
    },
    {
     "name": "stderr",
     "output_type": "stream",
     "text": [
      "\r",
      " 42%|████▏     | 42/100 [00:34<00:06,  8.70it/s, Loss after step 43=3.35, Cartesian cost Scale=0]"
     ]
    },
    {
     "name": "stderr",
     "output_type": "stream",
     "text": [
      "\r",
      " 43%|████▎     | 43/100 [00:34<00:06,  8.71it/s, Loss after step 43=3.35, Cartesian cost Scale=0]"
     ]
    },
    {
     "name": "stderr",
     "output_type": "stream",
     "text": [
      "\r",
      " 43%|████▎     | 43/100 [00:34<00:06,  8.71it/s, Loss after step 44=3.36, Cartesian cost Scale=0]"
     ]
    },
    {
     "name": "stderr",
     "output_type": "stream",
     "text": [
      "\r",
      " 44%|████▍     | 44/100 [00:34<00:06,  8.72it/s, Loss after step 44=3.36, Cartesian cost Scale=0]"
     ]
    },
    {
     "name": "stderr",
     "output_type": "stream",
     "text": [
      "\r",
      " 44%|████▍     | 44/100 [00:35<00:06,  8.72it/s, Loss after step 45=3.3, Cartesian cost Scale=0] "
     ]
    },
    {
     "name": "stderr",
     "output_type": "stream",
     "text": [
      "\r",
      " 45%|████▌     | 45/100 [00:35<00:06,  8.79it/s, Loss after step 45=3.3, Cartesian cost Scale=0]"
     ]
    },
    {
     "name": "stderr",
     "output_type": "stream",
     "text": [
      "\r",
      " 45%|████▌     | 45/100 [00:35<00:06,  8.79it/s, Loss after step 46=3.27, Cartesian cost Scale=0]"
     ]
    },
    {
     "name": "stderr",
     "output_type": "stream",
     "text": [
      "\r",
      " 46%|████▌     | 46/100 [00:35<00:06,  8.77it/s, Loss after step 46=3.27, Cartesian cost Scale=0]"
     ]
    },
    {
     "name": "stderr",
     "output_type": "stream",
     "text": [
      "\r",
      " 46%|████▌     | 46/100 [00:35<00:06,  8.77it/s, Loss after step 47=3.29, Cartesian cost Scale=0]"
     ]
    },
    {
     "name": "stderr",
     "output_type": "stream",
     "text": [
      "\r",
      " 47%|████▋     | 47/100 [00:35<00:06,  8.75it/s, Loss after step 47=3.29, Cartesian cost Scale=0]"
     ]
    },
    {
     "name": "stderr",
     "output_type": "stream",
     "text": [
      "\r",
      " 47%|████▋     | 47/100 [00:35<00:06,  8.75it/s, Loss after step 48=3.24, Cartesian cost Scale=0]"
     ]
    },
    {
     "name": "stderr",
     "output_type": "stream",
     "text": [
      "\r",
      " 48%|████▊     | 48/100 [00:35<00:05,  8.67it/s, Loss after step 48=3.24, Cartesian cost Scale=0]"
     ]
    },
    {
     "name": "stderr",
     "output_type": "stream",
     "text": [
      "\r",
      " 48%|████▊     | 48/100 [00:35<00:05,  8.67it/s, Loss after step 49=3.24, Cartesian cost Scale=0]"
     ]
    },
    {
     "name": "stderr",
     "output_type": "stream",
     "text": [
      "\r",
      " 49%|████▉     | 49/100 [00:35<00:05,  8.74it/s, Loss after step 49=3.24, Cartesian cost Scale=0]"
     ]
    },
    {
     "name": "stderr",
     "output_type": "stream",
     "text": [
      "\r",
      " 49%|████▉     | 49/100 [00:35<00:05,  8.74it/s, Loss after step 50=3.24, Cartesian cost Scale=0]"
     ]
    },
    {
     "name": "stderr",
     "output_type": "stream",
     "text": [
      "\r",
      " 50%|█████     | 50/100 [00:35<00:05,  8.63it/s, Loss after step 50=3.24, Cartesian cost Scale=0]"
     ]
    },
    {
     "name": "stderr",
     "output_type": "stream",
     "text": [
      "\r",
      " 50%|█████     | 50/100 [00:35<00:05,  8.63it/s, Loss after step 51=3.24, Cartesian cost Scale=0.03]"
     ]
    },
    {
     "name": "stderr",
     "output_type": "stream",
     "text": [
      "\r",
      " 51%|█████     | 51/100 [00:35<00:05,  8.77it/s, Loss after step 51=3.24, Cartesian cost Scale=0.03]"
     ]
    },
    {
     "name": "stderr",
     "output_type": "stream",
     "text": [
      "\r",
      " 51%|█████     | 51/100 [00:35<00:05,  8.77it/s, Loss after step 52=3.22, Cartesian cost Scale=0.07]"
     ]
    },
    {
     "name": "stderr",
     "output_type": "stream",
     "text": [
      "\r",
      " 52%|█████▏    | 52/100 [00:35<00:05,  8.74it/s, Loss after step 52=3.22, Cartesian cost Scale=0.07]"
     ]
    },
    {
     "name": "stderr",
     "output_type": "stream",
     "text": [
      "\r",
      " 52%|█████▏    | 52/100 [00:35<00:05,  8.74it/s, Loss after step 53=3.25, Cartesian cost Scale=0.1] "
     ]
    },
    {
     "name": "stderr",
     "output_type": "stream",
     "text": [
      "\r",
      " 53%|█████▎    | 53/100 [00:35<00:05,  8.77it/s, Loss after step 53=3.25, Cartesian cost Scale=0.1]"
     ]
    },
    {
     "name": "stderr",
     "output_type": "stream",
     "text": [
      "\r",
      " 53%|█████▎    | 53/100 [00:36<00:05,  8.77it/s, Loss after step 54=3.19, Cartesian cost Scale=0.13]"
     ]
    },
    {
     "name": "stderr",
     "output_type": "stream",
     "text": [
      "\r",
      " 54%|█████▍    | 54/100 [00:36<00:05,  8.70it/s, Loss after step 54=3.19, Cartesian cost Scale=0.13]"
     ]
    },
    {
     "name": "stderr",
     "output_type": "stream",
     "text": [
      "\r",
      " 54%|█████▍    | 54/100 [00:36<00:05,  8.70it/s, Loss after step 55=3.2, Cartesian cost Scale=0.17] "
     ]
    },
    {
     "name": "stderr",
     "output_type": "stream",
     "text": [
      "\r",
      " 55%|█████▌    | 55/100 [00:36<00:05,  8.71it/s, Loss after step 55=3.2, Cartesian cost Scale=0.17]"
     ]
    },
    {
     "name": "stderr",
     "output_type": "stream",
     "text": [
      "\r",
      " 55%|█████▌    | 55/100 [00:36<00:05,  8.71it/s, Loss after step 56=3.17, Cartesian cost Scale=0.2]"
     ]
    },
    {
     "name": "stderr",
     "output_type": "stream",
     "text": [
      "\r",
      " 56%|█████▌    | 56/100 [00:36<00:05,  8.71it/s, Loss after step 56=3.17, Cartesian cost Scale=0.2]"
     ]
    },
    {
     "name": "stderr",
     "output_type": "stream",
     "text": [
      "\r",
      " 56%|█████▌    | 56/100 [00:36<00:05,  8.71it/s, Loss after step 57=3.18, Cartesian cost Scale=0.23]"
     ]
    },
    {
     "name": "stderr",
     "output_type": "stream",
     "text": [
      "\r",
      " 57%|█████▋    | 57/100 [00:36<00:04,  8.65it/s, Loss after step 57=3.18, Cartesian cost Scale=0.23]"
     ]
    },
    {
     "name": "stderr",
     "output_type": "stream",
     "text": [
      "\r",
      " 57%|█████▋    | 57/100 [00:36<00:04,  8.65it/s, Loss after step 58=3.21, Cartesian cost Scale=0.27]"
     ]
    },
    {
     "name": "stderr",
     "output_type": "stream",
     "text": [
      "\r",
      " 58%|█████▊    | 58/100 [00:36<00:04,  8.64it/s, Loss after step 58=3.21, Cartesian cost Scale=0.27]"
     ]
    },
    {
     "name": "stderr",
     "output_type": "stream",
     "text": [
      "\r",
      " 58%|█████▊    | 58/100 [00:36<00:04,  8.64it/s, Loss after step 59=3.18, Cartesian cost Scale=0.3] "
     ]
    },
    {
     "name": "stderr",
     "output_type": "stream",
     "text": [
      "\r",
      " 59%|█████▉    | 59/100 [00:36<00:04,  8.64it/s, Loss after step 59=3.18, Cartesian cost Scale=0.3]"
     ]
    },
    {
     "name": "stderr",
     "output_type": "stream",
     "text": [
      "\r",
      " 59%|█████▉    | 59/100 [00:36<00:04,  8.64it/s, Loss after step 60=3.17, Cartesian cost Scale=0.33]"
     ]
    },
    {
     "name": "stderr",
     "output_type": "stream",
     "text": [
      "\r",
      " 60%|██████    | 60/100 [00:36<00:04,  8.74it/s, Loss after step 60=3.17, Cartesian cost Scale=0.33]"
     ]
    },
    {
     "name": "stderr",
     "output_type": "stream",
     "text": [
      "\r",
      " 60%|██████    | 60/100 [00:36<00:04,  8.74it/s, Loss after step 61=3.14, Cartesian cost Scale=0.37]"
     ]
    },
    {
     "name": "stderr",
     "output_type": "stream",
     "text": [
      "\r",
      " 61%|██████    | 61/100 [00:36<00:04,  8.72it/s, Loss after step 61=3.14, Cartesian cost Scale=0.37]"
     ]
    },
    {
     "name": "stderr",
     "output_type": "stream",
     "text": [
      "\r",
      " 61%|██████    | 61/100 [00:36<00:04,  8.72it/s, Loss after step 62=3.12, Cartesian cost Scale=0.4] "
     ]
    },
    {
     "name": "stderr",
     "output_type": "stream",
     "text": [
      "\r",
      " 62%|██████▏   | 62/100 [00:36<00:04,  8.49it/s, Loss after step 62=3.12, Cartesian cost Scale=0.4]"
     ]
    },
    {
     "name": "stderr",
     "output_type": "stream",
     "text": [
      "\r",
      " 62%|██████▏   | 62/100 [00:37<00:04,  8.49it/s, Loss after step 63=3.14, Cartesian cost Scale=0.43]"
     ]
    },
    {
     "name": "stderr",
     "output_type": "stream",
     "text": [
      "\r",
      " 63%|██████▎   | 63/100 [00:37<00:04,  8.48it/s, Loss after step 63=3.14, Cartesian cost Scale=0.43]"
     ]
    },
    {
     "name": "stderr",
     "output_type": "stream",
     "text": [
      "\r",
      " 63%|██████▎   | 63/100 [00:37<00:04,  8.48it/s, Loss after step 64=3.11, Cartesian cost Scale=0.47]"
     ]
    },
    {
     "name": "stderr",
     "output_type": "stream",
     "text": [
      "\r",
      " 64%|██████▍   | 64/100 [00:37<00:04,  8.43it/s, Loss after step 64=3.11, Cartesian cost Scale=0.47]"
     ]
    },
    {
     "name": "stderr",
     "output_type": "stream",
     "text": [
      "\r",
      " 64%|██████▍   | 64/100 [00:37<00:04,  8.43it/s, Loss after step 65=3.14, Cartesian cost Scale=0.5] "
     ]
    },
    {
     "name": "stderr",
     "output_type": "stream",
     "text": [
      "\r",
      " 65%|██████▌   | 65/100 [00:37<00:04,  8.45it/s, Loss after step 65=3.14, Cartesian cost Scale=0.5]"
     ]
    },
    {
     "name": "stderr",
     "output_type": "stream",
     "text": [
      "\r",
      " 65%|██████▌   | 65/100 [00:37<00:04,  8.45it/s, Loss after step 66=3.13, Cartesian cost Scale=0.53]"
     ]
    },
    {
     "name": "stderr",
     "output_type": "stream",
     "text": [
      "\r",
      " 66%|██████▌   | 66/100 [00:37<00:04,  8.37it/s, Loss after step 66=3.13, Cartesian cost Scale=0.53]"
     ]
    },
    {
     "name": "stderr",
     "output_type": "stream",
     "text": [
      "\r",
      " 66%|██████▌   | 66/100 [00:37<00:04,  8.37it/s, Loss after step 67=3.13, Cartesian cost Scale=0.57]"
     ]
    },
    {
     "name": "stderr",
     "output_type": "stream",
     "text": [
      "\r",
      " 67%|██████▋   | 67/100 [00:37<00:03,  8.31it/s, Loss after step 67=3.13, Cartesian cost Scale=0.57]"
     ]
    },
    {
     "name": "stderr",
     "output_type": "stream",
     "text": [
      "\r",
      " 67%|██████▋   | 67/100 [00:37<00:03,  8.31it/s, Loss after step 68=3.08, Cartesian cost Scale=0.6] "
     ]
    },
    {
     "name": "stderr",
     "output_type": "stream",
     "text": [
      "\r",
      " 68%|██████▊   | 68/100 [00:37<00:03,  8.44it/s, Loss after step 68=3.08, Cartesian cost Scale=0.6]"
     ]
    },
    {
     "name": "stderr",
     "output_type": "stream",
     "text": [
      "\r",
      " 68%|██████▊   | 68/100 [00:37<00:03,  8.44it/s, Loss after step 69=3.08, Cartesian cost Scale=0.63]"
     ]
    },
    {
     "name": "stderr",
     "output_type": "stream",
     "text": [
      "\r",
      " 69%|██████▉   | 69/100 [00:37<00:03,  8.63it/s, Loss after step 69=3.08, Cartesian cost Scale=0.63]"
     ]
    },
    {
     "name": "stderr",
     "output_type": "stream",
     "text": [
      "\r",
      " 69%|██████▉   | 69/100 [00:37<00:03,  8.63it/s, Loss after step 70=3.09, Cartesian cost Scale=0.67]"
     ]
    },
    {
     "name": "stderr",
     "output_type": "stream",
     "text": [
      "\r",
      " 70%|███████   | 70/100 [00:37<00:03,  8.55it/s, Loss after step 70=3.09, Cartesian cost Scale=0.67]"
     ]
    },
    {
     "name": "stderr",
     "output_type": "stream",
     "text": [
      "\r",
      " 70%|███████   | 70/100 [00:38<00:03,  8.55it/s, Loss after step 71=3.11, Cartesian cost Scale=0.7] "
     ]
    },
    {
     "name": "stderr",
     "output_type": "stream",
     "text": [
      "\r",
      " 71%|███████   | 71/100 [00:38<00:03,  8.58it/s, Loss after step 71=3.11, Cartesian cost Scale=0.7]"
     ]
    },
    {
     "name": "stderr",
     "output_type": "stream",
     "text": [
      "\r",
      " 71%|███████   | 71/100 [00:38<00:03,  8.58it/s, Loss after step 72=3.05, Cartesian cost Scale=0.73]"
     ]
    },
    {
     "name": "stderr",
     "output_type": "stream",
     "text": [
      "\r",
      " 72%|███████▏  | 72/100 [00:38<00:03,  8.48it/s, Loss after step 72=3.05, Cartesian cost Scale=0.73]"
     ]
    },
    {
     "name": "stderr",
     "output_type": "stream",
     "text": [
      "\r",
      " 72%|███████▏  | 72/100 [00:38<00:03,  8.48it/s, Loss after step 73=3.11, Cartesian cost Scale=0.77]"
     ]
    },
    {
     "name": "stderr",
     "output_type": "stream",
     "text": [
      "\r",
      " 73%|███████▎  | 73/100 [00:38<00:03,  8.51it/s, Loss after step 73=3.11, Cartesian cost Scale=0.77]"
     ]
    },
    {
     "name": "stderr",
     "output_type": "stream",
     "text": [
      "\r",
      " 73%|███████▎  | 73/100 [00:38<00:03,  8.51it/s, Loss after step 74=3.06, Cartesian cost Scale=0.8] "
     ]
    },
    {
     "name": "stderr",
     "output_type": "stream",
     "text": [
      "\r",
      " 74%|███████▍  | 74/100 [00:38<00:03,  8.49it/s, Loss after step 74=3.06, Cartesian cost Scale=0.8]"
     ]
    },
    {
     "name": "stderr",
     "output_type": "stream",
     "text": [
      "\r",
      " 74%|███████▍  | 74/100 [00:38<00:03,  8.49it/s, Loss after step 75=3.06, Cartesian cost Scale=0.83]"
     ]
    },
    {
     "name": "stderr",
     "output_type": "stream",
     "text": [
      "\r",
      " 75%|███████▌  | 75/100 [00:38<00:02,  8.54it/s, Loss after step 75=3.06, Cartesian cost Scale=0.83]"
     ]
    },
    {
     "name": "stderr",
     "output_type": "stream",
     "text": [
      "\r",
      " 75%|███████▌  | 75/100 [00:38<00:02,  8.54it/s, Loss after step 76=3.04, Cartesian cost Scale=0.87]"
     ]
    },
    {
     "name": "stderr",
     "output_type": "stream",
     "text": [
      "\r",
      " 76%|███████▌  | 76/100 [00:38<00:02,  8.37it/s, Loss after step 76=3.04, Cartesian cost Scale=0.87]"
     ]
    },
    {
     "name": "stderr",
     "output_type": "stream",
     "text": [
      "\r",
      " 76%|███████▌  | 76/100 [00:38<00:02,  8.37it/s, Loss after step 77=3.02, Cartesian cost Scale=0.9] "
     ]
    },
    {
     "name": "stderr",
     "output_type": "stream",
     "text": [
      "\r",
      " 77%|███████▋  | 77/100 [00:38<00:02,  8.32it/s, Loss after step 77=3.02, Cartesian cost Scale=0.9]"
     ]
    },
    {
     "name": "stderr",
     "output_type": "stream",
     "text": [
      "\r",
      " 77%|███████▋  | 77/100 [00:38<00:02,  8.32it/s, Loss after step 78=3.05, Cartesian cost Scale=0.93]"
     ]
    },
    {
     "name": "stderr",
     "output_type": "stream",
     "text": [
      "\r",
      " 78%|███████▊  | 78/100 [00:38<00:02,  8.31it/s, Loss after step 78=3.05, Cartesian cost Scale=0.93]"
     ]
    },
    {
     "name": "stderr",
     "output_type": "stream",
     "text": [
      "\r",
      " 78%|███████▊  | 78/100 [00:38<00:02,  8.31it/s, Loss after step 79=3.05, Cartesian cost Scale=0.97]"
     ]
    },
    {
     "name": "stderr",
     "output_type": "stream",
     "text": [
      "\r",
      " 79%|███████▉  | 79/100 [00:38<00:02,  8.56it/s, Loss after step 79=3.05, Cartesian cost Scale=0.97]"
     ]
    },
    {
     "name": "stderr",
     "output_type": "stream",
     "text": [
      "\r",
      " 79%|███████▉  | 79/100 [00:39<00:02,  8.56it/s, Loss after step 80=3.04, Cartesian cost Scale=1]   "
     ]
    },
    {
     "name": "stderr",
     "output_type": "stream",
     "text": [
      "\r",
      " 80%|████████  | 80/100 [00:39<00:02,  8.53it/s, Loss after step 80=3.04, Cartesian cost Scale=1]"
     ]
    },
    {
     "name": "stderr",
     "output_type": "stream",
     "text": [
      "\r",
      " 80%|████████  | 80/100 [00:39<00:02,  8.53it/s, Loss after step 81=2.97, Cartesian cost Scale=1]"
     ]
    },
    {
     "name": "stderr",
     "output_type": "stream",
     "text": [
      "\r",
      " 81%|████████  | 81/100 [00:39<00:02,  8.57it/s, Loss after step 81=2.97, Cartesian cost Scale=1]"
     ]
    },
    {
     "name": "stderr",
     "output_type": "stream",
     "text": [
      "\r",
      " 81%|████████  | 81/100 [00:39<00:02,  8.57it/s, Loss after step 82=3, Cartesian cost Scale=1]   "
     ]
    },
    {
     "name": "stderr",
     "output_type": "stream",
     "text": [
      "\r",
      " 82%|████████▏ | 82/100 [00:39<00:02,  8.62it/s, Loss after step 82=3, Cartesian cost Scale=1]"
     ]
    },
    {
     "name": "stderr",
     "output_type": "stream",
     "text": [
      "\r",
      " 82%|████████▏ | 82/100 [00:39<00:02,  8.62it/s, Loss after step 83=3.01, Cartesian cost Scale=1]"
     ]
    },
    {
     "name": "stderr",
     "output_type": "stream",
     "text": [
      "\r",
      " 83%|████████▎ | 83/100 [00:39<00:01,  8.63it/s, Loss after step 83=3.01, Cartesian cost Scale=1]"
     ]
    },
    {
     "name": "stderr",
     "output_type": "stream",
     "text": [
      "\r",
      " 83%|████████▎ | 83/100 [00:39<00:01,  8.63it/s, Loss after step 84=3.02, Cartesian cost Scale=1]"
     ]
    },
    {
     "name": "stderr",
     "output_type": "stream",
     "text": [
      "\r",
      " 84%|████████▍ | 84/100 [00:39<00:01,  8.66it/s, Loss after step 84=3.02, Cartesian cost Scale=1]"
     ]
    },
    {
     "name": "stderr",
     "output_type": "stream",
     "text": [
      "\r",
      " 84%|████████▍ | 84/100 [00:39<00:01,  8.66it/s, Loss after step 85=3, Cartesian cost Scale=1]   "
     ]
    },
    {
     "name": "stderr",
     "output_type": "stream",
     "text": [
      "\r",
      " 85%|████████▌ | 85/100 [00:39<00:01,  8.74it/s, Loss after step 85=3, Cartesian cost Scale=1]"
     ]
    },
    {
     "name": "stderr",
     "output_type": "stream",
     "text": [
      "\r",
      " 85%|████████▌ | 85/100 [00:39<00:01,  8.74it/s, Loss after step 86=3.01, Cartesian cost Scale=1]"
     ]
    },
    {
     "name": "stderr",
     "output_type": "stream",
     "text": [
      "\r",
      " 86%|████████▌ | 86/100 [00:39<00:01,  8.79it/s, Loss after step 86=3.01, Cartesian cost Scale=1]"
     ]
    },
    {
     "name": "stderr",
     "output_type": "stream",
     "text": [
      "\r",
      " 86%|████████▌ | 86/100 [00:39<00:01,  8.79it/s, Loss after step 87=2.99, Cartesian cost Scale=1]"
     ]
    },
    {
     "name": "stderr",
     "output_type": "stream",
     "text": [
      "\r",
      " 87%|████████▋ | 87/100 [00:39<00:01,  8.70it/s, Loss after step 87=2.99, Cartesian cost Scale=1]"
     ]
    },
    {
     "name": "stderr",
     "output_type": "stream",
     "text": [
      "\r",
      " 87%|████████▋ | 87/100 [00:40<00:01,  8.70it/s, Loss after step 88=2.95, Cartesian cost Scale=1]"
     ]
    },
    {
     "name": "stderr",
     "output_type": "stream",
     "text": [
      "\r",
      " 88%|████████▊ | 88/100 [00:40<00:01,  8.62it/s, Loss after step 88=2.95, Cartesian cost Scale=1]"
     ]
    },
    {
     "name": "stderr",
     "output_type": "stream",
     "text": [
      "\r",
      " 88%|████████▊ | 88/100 [00:40<00:01,  8.62it/s, Loss after step 89=2.97, Cartesian cost Scale=1]"
     ]
    },
    {
     "name": "stderr",
     "output_type": "stream",
     "text": [
      "\r",
      " 89%|████████▉ | 89/100 [00:40<00:01,  8.62it/s, Loss after step 89=2.97, Cartesian cost Scale=1]"
     ]
    },
    {
     "name": "stderr",
     "output_type": "stream",
     "text": [
      "\r",
      " 89%|████████▉ | 89/100 [00:40<00:01,  8.62it/s, Loss after step 90=2.94, Cartesian cost Scale=1]"
     ]
    },
    {
     "name": "stderr",
     "output_type": "stream",
     "text": [
      "\r",
      " 90%|█████████ | 90/100 [00:40<00:01,  8.77it/s, Loss after step 90=2.94, Cartesian cost Scale=1]"
     ]
    },
    {
     "name": "stderr",
     "output_type": "stream",
     "text": [
      "\r",
      " 90%|█████████ | 90/100 [00:40<00:01,  8.77it/s, Loss after step 91=2.91, Cartesian cost Scale=1]"
     ]
    },
    {
     "name": "stderr",
     "output_type": "stream",
     "text": [
      "\r",
      " 91%|█████████ | 91/100 [00:40<00:01,  8.77it/s, Loss after step 91=2.91, Cartesian cost Scale=1]"
     ]
    },
    {
     "name": "stderr",
     "output_type": "stream",
     "text": [
      "\r",
      " 91%|█████████ | 91/100 [00:40<00:01,  8.77it/s, Loss after step 92=2.92, Cartesian cost Scale=1]"
     ]
    },
    {
     "name": "stderr",
     "output_type": "stream",
     "text": [
      "\r",
      " 92%|█████████▏| 92/100 [00:40<00:00,  8.70it/s, Loss after step 92=2.92, Cartesian cost Scale=1]"
     ]
    },
    {
     "name": "stderr",
     "output_type": "stream",
     "text": [
      "\r",
      " 92%|█████████▏| 92/100 [00:40<00:00,  8.70it/s, Loss after step 93=2.94, Cartesian cost Scale=1]"
     ]
    },
    {
     "name": "stderr",
     "output_type": "stream",
     "text": [
      "\r",
      " 93%|█████████▎| 93/100 [00:40<00:00,  8.78it/s, Loss after step 93=2.94, Cartesian cost Scale=1]"
     ]
    },
    {
     "name": "stderr",
     "output_type": "stream",
     "text": [
      "\r",
      " 93%|█████████▎| 93/100 [00:40<00:00,  8.78it/s, Loss after step 94=2.91, Cartesian cost Scale=1]"
     ]
    },
    {
     "name": "stderr",
     "output_type": "stream",
     "text": [
      "\r",
      " 94%|█████████▍| 94/100 [00:40<00:00,  8.84it/s, Loss after step 94=2.91, Cartesian cost Scale=1]"
     ]
    },
    {
     "name": "stderr",
     "output_type": "stream",
     "text": [
      "\r",
      " 94%|█████████▍| 94/100 [00:40<00:00,  8.84it/s, Loss after step 95=2.9, Cartesian cost Scale=1] "
     ]
    },
    {
     "name": "stderr",
     "output_type": "stream",
     "text": [
      "\r",
      " 95%|█████████▌| 95/100 [00:40<00:00,  8.85it/s, Loss after step 95=2.9, Cartesian cost Scale=1]"
     ]
    },
    {
     "name": "stderr",
     "output_type": "stream",
     "text": [
      "\r",
      " 95%|█████████▌| 95/100 [00:40<00:00,  8.85it/s, Loss after step 96=2.84, Cartesian cost Scale=1]"
     ]
    },
    {
     "name": "stderr",
     "output_type": "stream",
     "text": [
      "\r",
      " 96%|█████████▌| 96/100 [00:40<00:00,  8.81it/s, Loss after step 96=2.84, Cartesian cost Scale=1]"
     ]
    },
    {
     "name": "stderr",
     "output_type": "stream",
     "text": [
      "\r",
      " 96%|█████████▌| 96/100 [00:41<00:00,  8.81it/s, Loss after step 97=2.89, Cartesian cost Scale=1]"
     ]
    },
    {
     "name": "stderr",
     "output_type": "stream",
     "text": [
      "\r",
      " 97%|█████████▋| 97/100 [00:41<00:00,  8.90it/s, Loss after step 97=2.89, Cartesian cost Scale=1]"
     ]
    },
    {
     "name": "stderr",
     "output_type": "stream",
     "text": [
      "\r",
      " 97%|█████████▋| 97/100 [00:41<00:00,  8.90it/s, Loss after step 98=2.86, Cartesian cost Scale=1]"
     ]
    },
    {
     "name": "stderr",
     "output_type": "stream",
     "text": [
      "\r",
      " 98%|█████████▊| 98/100 [00:41<00:00,  9.03it/s, Loss after step 98=2.86, Cartesian cost Scale=1]"
     ]
    },
    {
     "name": "stderr",
     "output_type": "stream",
     "text": [
      "\r",
      " 98%|█████████▊| 98/100 [00:41<00:00,  9.03it/s, Loss after step 99=2.87, Cartesian cost Scale=1]"
     ]
    },
    {
     "name": "stderr",
     "output_type": "stream",
     "text": [
      "\r",
      " 99%|█████████▉| 99/100 [00:41<00:00,  8.88it/s, Loss after step 99=2.87, Cartesian cost Scale=1]"
     ]
    },
    {
     "name": "stderr",
     "output_type": "stream",
     "text": [
      "\r",
      " 99%|█████████▉| 99/100 [00:41<00:00,  8.88it/s, Loss after step 100=2.84, Cartesian cost Scale=1]"
     ]
    },
    {
     "name": "stderr",
     "output_type": "stream",
     "text": [
      "\r",
      "100%|██████████| 100/100 [00:41<00:00,  8.77it/s, Loss after step 100=2.84, Cartesian cost Scale=1]"
     ]
    },
    {
     "name": "stderr",
     "output_type": "stream",
     "text": [
      "\r",
      "100%|██████████| 100/100 [00:41<00:00,  2.42it/s, Loss after step 100=2.84, Cartesian cost Scale=1]"
     ]
    },
    {
     "name": "stderr",
     "output_type": "stream",
     "text": [
      "\n"
     ]
    },
    {
     "name": "stderr",
     "output_type": "stream",
     "text": [
      "WARNING:absl:Function `_wrapped_model` contains input name(s) args_0 with unsupported characters which will be renamed to args_0_6 in the SavedModel.\n"
     ]
    },
    {
     "name": "stderr",
     "output_type": "stream",
     "text": [
      "WARNING:absl:Found untraced functions such as _update_step_xla while saving (showing 1 of 1). These functions will not be directly callable after loading.\n"
     ]
    },
    {
     "name": "stderr",
     "output_type": "stream",
     "text": [
      "WARNING:absl:Function `_wrapped_model` contains input name(s) args_0 with unsupported characters which will be renamed to args_0_4 in the SavedModel.\n"
     ]
    },
    {
     "name": "stderr",
     "output_type": "stream",
     "text": [
      "WARNING:absl:Function `_wrapped_model` contains input name(s) Decoder_Input with unsupported characters which will be renamed to decoder_input in the SavedModel.\n"
     ]
    }
   ],
   "source": [
    "emap.train()"
   ]
  },
  {
   "cell_type": "markdown",
   "metadata": {},
   "source": [
    "## Plot the result\n",
    "\n",
    "In the result (longer training would be beneficial here), the projection area of asp7 and glu7 are separated."
   ]
  },
  {
   "cell_type": "code",
   "execution_count": 9,
   "metadata": {
    "execution": {
     "iopub.execute_input": "2023-02-06T10:07:51.348452Z",
     "iopub.status.busy": "2023-02-06T10:07:51.348211Z",
     "iopub.status.idle": "2023-02-06T10:07:52.204046Z",
     "shell.execute_reply": "2023-02-06T10:07:52.203259Z"
    }
   },
   "outputs": [
    {
     "data": {
      "text/plain": [
       "<matplotlib.legend.Legend at 0x7fa6f0c0cbe0>"
      ]
     },
     "execution_count": 9,
     "metadata": {},
     "output_type": "execute_result"
    },
    {
     "data": {
      "image/png": "[encoded data removed]",
      "text/plain": [
       "<Figure size 640x480 with 1 Axes>"
      ]
     },
     "metadata": {},
     "output_type": "display_data"
    }
   ],
   "source": [
    "import matplotlib.pyplot as plt\n",
    "\n",
    "fig, ax = plt.subplots()\n",
    "\n",
    "# generate ids, based on the names of the trajs\n",
    "ids = (trajs.name_arr == \"asp7\").astype(int)\n",
    "\n",
    "ax.scatter(*emap.encode()[ids == 0].T, label=\"glu7\")\n",
    "ax.scatter(*emap.encode()[ids == 1].T, label=\"asp7\")\n",
    "\n",
    "ax.legend()"
   ]
  },
  {
   "cell_type": "markdown",
   "metadata": {},
   "source": [
    "## Create a new trajectory\n",
    "\n",
    "Using the `InteractivePlotting` class, we can easily generate new molecular conformations by using the decoder part of the neural network. If you're running an interactive notebook, you can use the notebook or qt5 backend and play around with the InteractivePlotting."
   ]
  },
  {
   "cell_type": "code",
   "execution_count": 10,
   "metadata": {
    "execution": {
     "iopub.execute_input": "2023-02-06T10:07:52.208468Z",
     "iopub.status.busy": "2023-02-06T10:07:52.207845Z",
     "iopub.status.idle": "2023-02-06T10:07:52.700834Z",
     "shell.execute_reply": "2023-02-06T10:07:52.700162Z"
    }
   },
   "outputs": [
    {
     "name": "stdout",
     "output_type": "stream",
     "text": [
      "Using the `train_data` attribute of `autoencoder`.\n"
     ]
    },
    {
     "data": {
      "image/png": "[encoded data removed]",
      "text/plain": [
       "<Figure size 1000x800 with 3 Axes>"
      ]
     },
     "metadata": {},
     "output_type": "display_data"
    }
   ],
   "source": [
    "# %matplotlib qt5\n",
    "%matplotlib inline\n",
    "sess = em.InteractivePlotting(emap)"
   ]
  },
  {
   "cell_type": "markdown",
   "metadata": {},
   "source": [
    "For static notebooks, we load the points along the path and generate new molecular conformations from them."
   ]
  },
  {
   "cell_type": "code",
   "execution_count": 11,
   "metadata": {
    "execution": {
     "iopub.execute_input": "2023-02-06T10:07:52.706535Z",
     "iopub.status.busy": "2023-02-06T10:07:52.705836Z",
     "iopub.status.idle": "2023-02-06T10:07:53.653015Z",
     "shell.execute_reply": "2023-02-06T10:07:53.652364Z"
    }
   },
   "outputs": [
    {
     "name": "stderr",
     "output_type": "stream",
     "text": [
      "/opt/hostedtoolcache/Python/3.9.16/x64/lib/python3.9/site-packages/MDAnalysis/analysis/base.py:438: UserWarning: Reader has no dt information, set to 1.0 ps\n",
      "  self.times[i] = ts.time\n"
     ]
    }
   ],
   "source": [
    "sess.statusmenu.status = \"Bezier\"\n",
    "sess.ball_and_stick = True\n",
    "sess.path_points = np.load(\"path.npy\")\n",
    "sess.tool.ind = np.load(\"path.npy\")\n",
    "sess.set_points()"
   ]
  },
  {
   "cell_type": "markdown",
   "metadata": {},
   "source": [
    "View the generated traj:"
   ]
  },
  {
   "cell_type": "code",
   "execution_count": 12,
   "metadata": {
    "execution": {
     "iopub.execute_input": "2023-02-06T10:07:53.666122Z",
     "iopub.status.busy": "2023-02-06T10:07:53.665618Z",
     "iopub.status.idle": "2023-02-06T10:07:53.715014Z",
     "shell.execute_reply": "2023-02-06T10:07:53.714445Z"
    }
   },
   "outputs": [
    {
     "data": {
      "application/vnd.jupyter.widget-view+json": {
       "model_id": "aa03932eeb054262863344606f95c41a",
       "version_major": 2,
       "version_minor": 0
      },
      "text/plain": [
       "NGLWidget(max_frame=199)"
      ]
     },
     "metadata": {},
     "output_type": "display_data"
    }
   ],
   "source": [
    "sess.view"
   ]
  },
  {
   "cell_type": "code",
   "execution_count": null,
   "metadata": {},
   "outputs": [],
   "source": []
  }
 ],
 "metadata": {
  "language_info": {
   "codemirror_mode": {
    "name": "ipython",
    "version": 3
   },
   "file_extension": ".py",
   "mimetype": "text/x-python",
   "name": "python",
   "nbconvert_exporter": "python",
   "pygments_lexer": "ipython3",
   "version": "3.9.16"
  },
  "widgets": {
   "application/vnd.jupyter.widget-state+json": {
    "state": {
     "1d660ee63df74e85a35e9eaca18242bf": {
      "model_module": "@jupyter-widgets/controls",
      "model_module_version": "1.5.0",
      "model_name": "HBoxModel",
      "state": {
       "_dom_classes": [],
       "_model_module": "@jupyter-widgets/controls",
       "_model_module_version": "1.5.0",
       "_model_name": "HBoxModel",
       "_view_count": null,
       "_view_module": "@jupyter-widgets/controls",
       "_view_module_version": "1.5.0",
       "_view_name": "HBoxView",
       "box_style": "",
       "children": [
        "IPY_MODEL_229aa8c1a6f14c0688c2dd290dd72690",
        "IPY_MODEL_df2beb76be4a4a76be14966c51ecdcf7"
       ],
       "layout": "IPY_MODEL_570c3eaa467148f89856791cf5c7f7df"
      }
     },
     "229aa8c1a6f14c0688c2dd290dd72690": {
      "model_module": "@jupyter-widgets/controls",
      "model_module_version": "1.5.0",
      "model_name": "PlayModel",
      "state": {
       "_dom_classes": [],
       "_model_module": "@jupyter-widgets/controls",
       "_model_module_version": "1.5.0",
       "_model_name": "PlayModel",
       "_playing": false,
       "_repeat": false,
       "_view_count": null,
       "_view_module": "@jupyter-widgets/controls",
       "_view_module_version": "1.5.0",
       "_view_name": "PlayView",
       "description": "",
       "description_tooltip": null,
       "disabled": false,
       "interval": 100,
       "layout": "IPY_MODEL_501d5d9eb0a44a189490e65411449c70",
       "max": 199,
       "min": 0,
       "show_repeat": true,
       "step": 1,
       "style": "IPY_MODEL_7e1958759a284df6975dc6eb7afbc0a4",
       "value": 0
      }
     },
     "294804c7f530419c8300076ba55dd9f2": {
      "model_module": "@jupyter-widgets/controls",
      "model_module_version": "1.5.0",
      "model_name": "SliderStyleModel",
      "state": {
       "_model_module": "@jupyter-widgets/controls",
       "_model_module_version": "1.5.0",
       "_model_name": "SliderStyleModel",
       "_view_count": null,
       "_view_module": "@jupyter-widgets/base",
       "_view_module_version": "1.2.0",
       "_view_name": "StyleView",
       "description_width": "",
       "handle_color": null
      }
     },
     "46d9dda39505499ba8b3ab68c87c90d3": {
      "model_module": "@jupyter-widgets/controls",
      "model_module_version": "1.5.0",
      "model_name": "LinkModel",
      "state": {
       "_model_module": "@jupyter-widgets/controls",
       "_model_module_version": "1.5.0",
       "_model_name": "LinkModel",
       "_view_count": null,
       "_view_module": "@jupyter-widgets/controls",
       "_view_module_version": "1.5.0",
       "_view_name": null,
       "source": [
        "IPY_MODEL_229aa8c1a6f14c0688c2dd290dd72690",
        "value"
       ],
       "target": [
        "IPY_MODEL_df2beb76be4a4a76be14966c51ecdcf7",
        "value"
       ]
      }
     },
     "501d5d9eb0a44a189490e65411449c70": {
      "model_module": "@jupyter-widgets/base",
      "model_module_version": "1.2.0",
      "model_name": "LayoutModel",
      "state": {
       "_model_module": "@jupyter-widgets/base",
       "_model_module_version": "1.2.0",
       "_model_name": "LayoutModel",
       "_view_count": null,
       "_view_module": "@jupyter-widgets/base",
       "_view_module_version": "1.2.0",
       "_view_name": "LayoutView",
       "align_content": null,
       "align_items": null,
       "align_self": null,
       "border": null,
       "bottom": null,
       "display": null,
       "flex": null,
       "flex_flow": null,
       "grid_area": null,
       "grid_auto_columns": null,
       "grid_auto_flow": null,
       "grid_auto_rows": null,
       "grid_column": null,
       "grid_gap": null,
       "grid_row": null,
       "grid_template_areas": null,
       "grid_template_columns": null,
       "grid_template_rows": null,
       "height": null,
       "justify_content": null,
       "justify_items": null,
       "left": null,
       "margin": null,
       "max_height": null,
       "max_width": null,
       "min_height": null,
       "min_width": null,
       "object_fit": null,
       "object_position": null,
       "order": null,
       "overflow": null,
       "overflow_x": null,
       "overflow_y": null,
       "padding": null,
       "right": null,
       "top": null,
       "visibility": null,
       "width": null
      }
     },
     "503d1f0afd6a444992a2eae69be4bc8d": {
      "model_module": "nglview-js-widgets",
      "model_module_version": "3.0.1",
      "model_name": "ColormakerRegistryModel",
      "state": {
       "_dom_classes": [],
       "_model_module": "nglview-js-widgets",
       "_model_module_version": "3.0.1",
       "_model_name": "ColormakerRegistryModel",
       "_msg_ar": [],
       "_msg_q": [],
       "_ready": false,
       "_view_count": null,
       "_view_module": "nglview-js-widgets",
       "_view_module_version": "3.0.1",
       "_view_name": "ColormakerRegistryView",
       "layout": "IPY_MODEL_6ae3a5c0685043efa168430d81c4cb32"
      }
     },
     "570c3eaa467148f89856791cf5c7f7df": {
      "model_module": "@jupyter-widgets/base",
      "model_module_version": "1.2.0",
      "model_name": "LayoutModel",
      "state": {
       "_model_module": "@jupyter-widgets/base",
       "_model_module_version": "1.2.0",
       "_model_name": "LayoutModel",
       "_view_count": null,
       "_view_module": "@jupyter-widgets/base",
       "_view_module_version": "1.2.0",
       "_view_name": "LayoutView",
       "align_content": null,
       "align_items": null,
       "align_self": null,
       "border": null,
       "bottom": null,
       "display": null,
       "flex": null,
       "flex_flow": null,
       "grid_area": null,
       "grid_auto_columns": null,
       "grid_auto_flow": null,
       "grid_auto_rows": null,
       "grid_column": null,
       "grid_gap": null,
       "grid_row": null,
       "grid_template_areas": null,
       "grid_template_columns": null,
       "grid_template_rows": null,
       "height": null,
       "justify_content": null,
       "justify_items": null,
       "left": null,
       "margin": null,
       "max_height": null,
       "max_width": null,
       "min_height": null,
       "min_width": null,
       "object_fit": null,
       "object_position": null,
       "order": null,
       "overflow": null,
       "overflow_x": null,
       "overflow_y": null,
       "padding": null,
       "right": null,
       "top": null,
       "visibility": null,
       "width": null
      }
     },
     "6a4c4c6acbd346199cc543cbe9ec71ef": {
      "model_module": "@jupyter-widgets/base",
      "model_module_version": "1.2.0",
      "model_name": "LayoutModel",
      "state": {
       "_model_module": "@jupyter-widgets/base",
       "_model_module_version": "1.2.0",
       "_model_name": "LayoutModel",
       "_view_count": null,
       "_view_module": "@jupyter-widgets/base",
       "_view_module_version": "1.2.0",
       "_view_name": "LayoutView",
       "align_content": null,
       "align_items": null,
       "align_self": null,
       "border": null,
       "bottom": null,
       "display": null,
       "flex": null,
       "flex_flow": null,
       "grid_area": null,
       "grid_auto_columns": null,
       "grid_auto_flow": null,
       "grid_auto_rows": null,
       "grid_column": null,
       "grid_gap": null,
       "grid_row": null,
       "grid_template_areas": null,
       "grid_template_columns": null,
       "grid_template_rows": null,
       "height": null,
       "justify_content": null,
       "justify_items": null,
       "left": null,
       "margin": null,
       "max_height": null,
       "max_width": null,
       "min_height": null,
       "min_width": null,
       "object_fit": null,
       "object_position": null,
       "order": null,
       "overflow": null,
       "overflow_x": null,
       "overflow_y": null,
       "padding": null,
       "right": null,
       "top": null,
       "visibility": null,
       "width": null
      }
     },
     "6ae3a5c0685043efa168430d81c4cb32": {
      "model_module": "@jupyter-widgets/base",
      "model_module_version": "1.2.0",
      "model_name": "LayoutModel",
      "state": {
       "_model_module": "@jupyter-widgets/base",
       "_model_module_version": "1.2.0",
       "_model_name": "LayoutModel",
       "_view_count": null,
       "_view_module": "@jupyter-widgets/base",
       "_view_module_version": "1.2.0",
       "_view_name": "LayoutView",
       "align_content": null,
       "align_items": null,
       "align_self": null,
       "border": null,
       "bottom": null,
       "display": null,
       "flex": null,
       "flex_flow": null,
       "grid_area": null,
       "grid_auto_columns": null,
       "grid_auto_flow": null,
       "grid_auto_rows": null,
       "grid_column": null,
       "grid_gap": null,
       "grid_row": null,
       "grid_template_areas": null,
       "grid_template_columns": null,
       "grid_template_rows": null,
       "height": null,
       "justify_content": null,
       "justify_items": null,
       "left": null,
       "margin": null,
       "max_height": null,
       "max_width": null,
       "min_height": null,
       "min_width": null,
       "object_fit": null,
       "object_position": null,
       "order": null,
       "overflow": null,
       "overflow_x": null,
       "overflow_y": null,
       "padding": null,
       "right": null,
       "top": null,
       "visibility": null,
       "width": null
      }
     },
     "718f526bbc3c47ccbd731a18089f80e3": {
      "model_module": "@jupyter-widgets/controls",
      "model_module_version": "1.5.0",
      "model_name": "LinkModel",
      "state": {
       "_model_module": "@jupyter-widgets/controls",
       "_model_module_version": "1.5.0",
       "_model_name": "LinkModel",
       "_view_count": null,
       "_view_module": "@jupyter-widgets/controls",
       "_view_module_version": "1.5.0",
       "_view_name": null,
       "source": [
        "IPY_MODEL_229aa8c1a6f14c0688c2dd290dd72690",
        "max"
       ],
       "target": [
        "IPY_MODEL_aa03932eeb054262863344606f95c41a",
        "max_frame"
       ]
      }
     },
     "7309ed95f89e4674af24367354e5afde": {
      "model_module": "@jupyter-widgets/base",
      "model_module_version": "1.2.0",
      "model_name": "LayoutModel",
      "state": {
       "_model_module": "@jupyter-widgets/base",
       "_model_module_version": "1.2.0",
       "_model_name": "LayoutModel",
       "_view_count": null,
       "_view_module": "@jupyter-widgets/base",
       "_view_module_version": "1.2.0",
       "_view_name": "LayoutView",
       "align_content": null,
       "align_items": null,
       "align_self": null,
       "border": null,
       "bottom": null,
       "display": null,
       "flex": null,
       "flex_flow": null,
       "grid_area": null,
       "grid_auto_columns": null,
       "grid_auto_flow": null,
       "grid_auto_rows": null,
       "grid_column": null,
       "grid_gap": null,
       "grid_row": null,
       "grid_template_areas": null,
       "grid_template_columns": null,
       "grid_template_rows": null,
       "height": null,
       "justify_content": null,
       "justify_items": null,
       "left": null,
       "margin": null,
       "max_height": null,
       "max_width": null,
       "min_height": null,
       "min_width": null,
       "object_fit": null,
       "object_position": null,
       "order": null,
       "overflow": null,
       "overflow_x": null,
       "overflow_y": null,
       "padding": null,
       "right": null,
       "top": null,
       "visibility": null,
       "width": "34px"
      }
     },
     "73a4b67faca246bd82c7f8da2e2da872": {
      "model_module": "@jupyter-widgets/controls",
      "model_module_version": "1.5.0",
      "model_name": "LinkModel",
      "state": {
       "_model_module": "@jupyter-widgets/controls",
       "_model_module_version": "1.5.0",
       "_model_name": "LinkModel",
       "_view_count": null,
       "_view_module": "@jupyter-widgets/controls",
       "_view_module_version": "1.5.0",
       "_view_name": null,
       "source": [
        "IPY_MODEL_df2beb76be4a4a76be14966c51ecdcf7",
        "max"
       ],
       "target": [
        "IPY_MODEL_aa03932eeb054262863344606f95c41a",
        "max_frame"
       ]
      }
     },
     "765e327b7c10465b8f9e98b07fd79341": {
      "model_module": "@jupyter-widgets/base",
      "model_module_version": "1.2.0",
      "model_name": "LayoutModel",
      "state": {
       "_model_module": "@jupyter-widgets/base",
       "_model_module_version": "1.2.0",
       "_model_name": "LayoutModel",
       "_view_count": null,
       "_view_module": "@jupyter-widgets/base",
       "_view_module_version": "1.2.0",
       "_view_name": "LayoutView",
       "align_content": null,
       "align_items": null,
       "align_self": null,
       "border": null,
       "bottom": null,
       "display": null,
       "flex": null,
       "flex_flow": null,
       "grid_area": null,
       "grid_auto_columns": null,
       "grid_auto_flow": null,
       "grid_auto_rows": null,
       "grid_column": null,
       "grid_gap": null,
       "grid_row": null,
       "grid_template_areas": null,
       "grid_template_columns": null,
       "grid_template_rows": null,
       "height": null,
       "justify_content": null,
       "justify_items": null,
       "left": null,
       "margin": null,
       "max_height": null,
       "max_width": null,
       "min_height": null,
       "min_width": null,
       "object_fit": null,
       "object_position": null,
       "order": null,
       "overflow": null,
       "overflow_x": null,
       "overflow_y": null,
       "padding": null,
       "right": null,
       "top": null,
       "visibility": null,
       "width": null
      }
     },
     "7af361723eb7431b82bf81e45cd6dc6c": {
      "buffers": [
       {
        "data": "",
        "encoding": "base64",
        "path": [
         "value"
        ]
       }
      ],
      "model_module": "@jupyter-widgets/controls",
      "model_module_version": "1.5.0",
      "model_name": "ImageModel",
      "state": {
       "_dom_classes": [],
       "_model_module": "@jupyter-widgets/controls",
       "_model_module_version": "1.5.0",
       "_model_name": "ImageModel",
       "_view_count": null,
       "_view_module": "@jupyter-widgets/controls",
       "_view_module_version": "1.5.0",
       "_view_name": "ImageView",
       "format": "png",
       "height": "",
       "layout": "IPY_MODEL_8be9cc42936c4f8a8a44d9afc049a5ac",
       "width": "900.0"
      }
     },
     "7e1958759a284df6975dc6eb7afbc0a4": {
      "model_module": "@jupyter-widgets/controls",
      "model_module_version": "1.5.0",
      "model_name": "DescriptionStyleModel",
      "state": {
       "_model_module": "@jupyter-widgets/controls",
       "_model_module_version": "1.5.0",
       "_model_name": "DescriptionStyleModel",
       "_view_count": null,
       "_view_module": "@jupyter-widgets/base",
       "_view_module_version": "1.2.0",
       "_view_name": "StyleView",
       "description_width": ""
      }
     },
     "8303d55b8c4e472c8bbe3bc0a3f94212": {
      "model_module": "@jupyter-widgets/controls",
      "model_module_version": "1.5.0",
      "model_name": "ButtonModel",
      "state": {
       "_dom_classes": [],
       "_model_module": "@jupyter-widgets/controls",
       "_model_module_version": "1.5.0",
       "_model_name": "ButtonModel",
       "_view_count": null,
       "_view_module": "@jupyter-widgets/controls",
       "_view_module_version": "1.5.0",
       "_view_name": "ButtonView",
       "button_style": "",
       "description": "",
       "disabled": false,
       "icon": "compress",
       "layout": "IPY_MODEL_7309ed95f89e4674af24367354e5afde",
       "style": "IPY_MODEL_bb571ddbde35432f915d0b35981da64f",
       "tooltip": ""
      }
     },
     "8be9cc42936c4f8a8a44d9afc049a5ac": {
      "model_module": "@jupyter-widgets/base",
      "model_module_version": "1.2.0",
      "model_name": "LayoutModel",
      "state": {
       "_model_module": "@jupyter-widgets/base",
       "_model_module_version": "1.2.0",
       "_model_name": "LayoutModel",
       "_view_count": null,
       "_view_module": "@jupyter-widgets/base",
       "_view_module_version": "1.2.0",
       "_view_name": "LayoutView",
       "align_content": null,
       "align_items": null,
       "align_self": null,
       "border": null,
       "bottom": null,
       "display": null,
       "flex": null,
       "flex_flow": null,
       "grid_area": null,
       "grid_auto_columns": null,
       "grid_auto_flow": null,
       "grid_auto_rows": null,
       "grid_column": null,
       "grid_gap": null,
       "grid_row": null,
       "grid_template_areas": null,
       "grid_template_columns": null,
       "grid_template_rows": null,
       "height": null,
       "justify_content": null,
       "justify_items": null,
       "left": null,
       "margin": null,
       "max_height": null,
       "max_width": null,
       "min_height": null,
       "min_width": null,
       "object_fit": null,
       "object_position": null,
       "order": null,
       "overflow": null,
       "overflow_x": null,
       "overflow_y": null,
       "padding": null,
       "right": null,
       "top": null,
       "visibility": null,
       "width": null
      }
     },
     "aa03932eeb054262863344606f95c41a": {
      "model_module": "nglview-js-widgets",
      "model_module_version": "3.0.1",
      "model_name": "NGLModel",
      "state": {
       "_camera_orientation": [],
       "_camera_str": "orthographic",
       "_dom_classes": [],
       "_gui_theme": null,
       "_ibtn_fullscreen": "IPY_MODEL_8303d55b8c4e472c8bbe3bc0a3f94212",
       "_igui": null,
       "_iplayer": "IPY_MODEL_1d660ee63df74e85a35e9eaca18242bf",
       "_model_module": "nglview-js-widgets",
       "_model_module_version": "3.0.1",
       "_model_name": "NGLModel",
       "_ngl_color_dict": {},
       "_ngl_coordinate_resource": {},
       "_ngl_full_stage_parameters": {},
       "_ngl_msg_archive": [
        {
         "args": [
          {
           "binary": false,
           "data": "TITLE     MDANALYSIS FRAME 0: Created by PDBWriter\nCRYST1    1.000    1.000    1.000  90.00  90.00  90.00 P 1           1\nREMARK     285 UNITARY VALUES FOR THE UNIT CELL AUTOMATICALLY SET\nREMARK     285 BY MDANALYSIS PDBWRITER BECAUSE UNIT CELL INFORMATION\nREMARK     285 WAS MISSING.\nREMARK     285 PROTEIN DATA BANK CONVENTIONS REQUIRE THAT\nREMARK     285 CRYST1 RECORD IS INCLUDED, BUT THE VALUES ON\nREMARK     285 THIS RECORD ARE MEANINGLESS.\nATOM      1  N   GLU A   1      32.450  37.400  14.970  1.00  0.00      A    N  \nATOM      2  H   GLU A   1      32.140  36.630  14.410  1.00  0.00      A    H  \nATOM      3  H2  GLU A   1      31.700  38.020  15.220  1.00  0.00      A    H  \nATOM      4  CA  GLU A   1      33.510  37.160  15.950  1.00  0.00      A    C  \nATOM      5  CB  GLU A   1      34.330  36.000  15.400  1.00  0.00      A    C  \nATOM      6  CG  GLU A   1      33.727  35.212  14.236  1.00  0.00      A    C  \nATOM      7  CD  GLU A   1      34.679  34.234  13.543  1.00  0.00      A    C  \nATOM      8  OE1 GLU A   1      35.891  34.270  13.732  1.00  0.00      A    O  \nATOM      9  OE2 GLU A   1      34.181  33.444  12.552  1.00  0.00      A    O  \nATOM     10  HE2 GLU A   1      34.945  33.026  12.063  1.00  0.00      A    H  \nATOM     11  C   GLU A   1      33.367  37.079  17.469  1.00  0.00      A    C  \nATOM     12  O   GLU A   1      34.260  37.526  18.191  1.00  0.00      A    O  \nATOM     13  N   GLU A   2      32.252  36.470  17.862  1.00  0.00      A    N  \nATOM     14  H   GLU A   2      31.410  36.732  17.386  1.00  0.00      A    H  \nATOM     15  CA  GLU A   2      32.237  35.383  18.849  1.00  0.00      A    C  \nATOM     16  CB  GLU A   2      33.700  35.053  19.165  1.00  0.00      A    C  \nATOM     17  CG  GLU A   2      34.662  35.746  18.192  1.00  0.00      A    C  \nATOM     18  CD  GLU A   2      36.072  35.223  18.453  1.00  0.00      A    C  \nATOM     19  OE1 GLU A   2      36.653  34.628  17.545  1.00  0.00      A    O  \nATOM     20  OE2 GLU A   2      36.760  35.571  19.577  1.00  0.00      A    O  \nATOM     21  HE2 GLU A   2      37.724  35.342  19.419  1.00  0.00      A    H  \nATOM     22  C   GLU A   2      31.699  34.364  17.840  1.00  0.00      A    C  \nATOM     23  O   GLU A   2      30.597  33.828  17.990  1.00  0.00      A    O  \nATOM     24  N   GLU A   3      32.450  34.166  16.770  1.00  0.00      A    N  \nATOM     25  H   GLU A   3      32.696  34.988  16.253  1.00  0.00      A    H  \nATOM     26  CA  GLU A   3      32.814  32.836  16.257  1.00  0.00      A    C  \nATOM     27  CB  GLU A   3      32.121  31.752  17.088  1.00  0.00      A    C  \nATOM     28  CG  GLU A   3      31.339  32.222  18.314  1.00  0.00      A    C  \nATOM     29  CD  GLU A   3      30.638  31.106  19.082  1.00  0.00      A    C  \nATOM     30  OE1 GLU A   3      31.160  30.004  19.225  1.00  0.00      A    O  \nATOM     31  OE2 GLU A   3      29.583  31.569  19.807  1.00  0.00      A    O  \nATOM     32  HE2 GLU A   3      28.934  30.814  19.937  1.00  0.00      A    H  \nATOM     33  C   GLU A   3      33.626  32.213  15.113  1.00  0.00      A    C  \nATOM     34  O   GLU A   3      33.162  32.178  13.980  1.00  0.00      A    O  \nATOM     35  N   GLU A   4      34.753  31.610  15.481  1.00  0.00      A    N  \nATOM     36  H   GLU A   4      35.459  32.041  16.034  1.00  0.00      A    H  \nATOM     37  CA  GLU A   4      35.061  30.258  15.000  1.00  0.00      A    C  \nATOM     38  CB  GLU A   4      33.987  29.838  13.995  1.00  0.00      A    C  \nATOM     39  CG  GLU A   4      32.792  30.794  14.073  1.00  0.00      A    C  \nATOM     40  CD  GLU A   4      31.942  30.894  12.801  1.00  0.00      A    C  \nATOM     41  OE1 GLU A   4      32.267  30.207  11.830  1.00  0.00      A    O  \nATOM     42  OE2 GLU A   4      30.858  31.707  12.877  1.00  0.00      A    O  \nATOM     43  HE2 GLU A   4      30.240  31.612  12.097  1.00  0.00      A    H  \nATOM     44  C   GLU A   4      34.801  29.506  16.316  1.00  0.00      A    C  \nATOM     45  O   GLU A   4      34.979  28.306  16.536  1.00  0.00      A    O  \nATOM     46  N   GLU A   5      34.330  30.267  17.289  1.00  0.00      A    N  \nATOM     47  H   GLU A   5      34.976  30.833  17.799  1.00  0.00      A    H  \nATOM     48  CA  GLU A   5      32.922  30.633  17.502  1.00  0.00      A    C  \nATOM     49  CB  GLU A   5      32.439  31.508  16.345  1.00  0.00      A    C  \nATOM     50  CG  GLU A   5      33.452  31.587  15.207  1.00  0.00      A    C  \nATOM     51  CD  GLU A   5      32.913  31.798  13.795  1.00  0.00      A    C  \nATOM     52  OE1 GLU A   5      33.607  32.196  12.864  1.00  0.00      A    O  \nATOM     53  OE2 GLU A   5      31.578  31.696  13.549  1.00  0.00      A    O  \nATOM     54  HE2 GLU A   5      31.438  31.697  12.559  1.00  0.00      A    H  \nATOM     55  C   GLU A   5      33.685  31.507  18.496  1.00  0.00      A    C  \nATOM     56  O   GLU A   5      33.877  31.165  19.669  1.00  0.00      A    O  \nATOM     57  N   GLU A   6      34.336  32.537  17.971  1.00  0.00      A    N  \nATOM     58  H   GLU A   6      34.414  32.566  16.977  1.00  0.00      A    H  \nATOM     59  CA  GLU A   6      34.930  33.672  18.699  1.00  0.00      A    C  \nATOM     60  CB  GLU A   6      34.843  33.559  20.218  1.00  0.00      A    C  \nATOM     61  CG  GLU A   6      34.841  32.147  20.809  1.00  0.00      A    C  \nATOM     62  CD  GLU A   6      34.347  32.193  22.261  1.00  0.00      A    C  \nATOM     63  OE1 GLU A   6      33.460  31.473  22.704  1.00  0.00      A    O  \nATOM     64  OE2 GLU A   6      34.963  33.199  22.951  1.00  0.00      A    O  \nATOM     65  HE2 GLU A   6      34.792  33.081  23.928  1.00  0.00      A    H  \nATOM     66  C   GLU A   6      34.758  35.147  18.316  1.00  0.00      A    C  \nATOM     67  O   GLU A   6      35.065  35.518  17.188  1.00  0.00      A    O  \nATOM     68  N   GLU A   7      34.113  35.957  19.150  1.00  0.00      A    N  \nATOM     69  H   GLU A   7      33.113  36.031  19.160  1.00  0.00      A    H  \nATOM     70  CA  GLU A   7      34.740  37.079  19.859  1.00  0.00      A    C  \nATOM     71  CB  GLU A   7      36.257  36.882  19.869  1.00  0.00      A    C  \nATOM     72  CG  GLU A   7      36.746  35.465  20.169  1.00  0.00      A    C  \nATOM     73  CD  GLU A   7      38.106  35.125  19.553  1.00  0.00      A    C  \nATOM     74  OE1 GLU A   7      38.544  35.671  18.537  1.00  0.00      A    O  \nATOM     75  OE2 GLU A   7      38.788  34.131  20.172  1.00  0.00      A    O  \nATOM     76  HE2 GLU A   7      39.566  34.134  19.540  1.00  0.00      A    H  \nATOM     77  C   GLU A   7      34.345  38.555  19.923  1.00  0.00      A    C  \nATOM     78  OXT GLU A   7      34.961  39.363  20.622  1.00  0.00      A    O  \nATOM     79  O   GLU A   7      33.282  38.917  19.163  1.00  0.00      A    O  \nATOM     80  HO  GLU A   7      33.241  39.902  19.335  1.00  0.00      A    H  \nEND\n",
           "type": "blob"
          }
         ],
         "kwargs": {
          "defaultRepresentation": true,
          "ext": "pdb",
          "name": "nglview.adaptor.MDAnalysisTrajectory"
         },
         "methodName": "loadFile",
         "reconstruc_color_scheme": false,
         "target": "Stage",
         "type": "call_method"
        },
        {
         "args": [],
         "component_index": 0,
         "kwargs": {},
         "methodName": "removeAllRepresentations",
         "reconstruc_color_scheme": false,
         "target": "compList",
         "type": "call_method"
        },
        {
         "args": [
          "ball+stick"
         ],
         "component_index": 0,
         "kwargs": {
          "sele": "all"
         },
         "methodName": "addRepresentation",
         "reconstruc_color_scheme": false,
         "target": "compList",
         "type": "call_method"
        }
       ],
       "_ngl_original_stage_parameters": {},
       "_ngl_repr_dict": {},
       "_ngl_serialize": false,
       "_ngl_version": "",
       "_ngl_view_id": [],
       "_player_dict": {},
       "_scene_position": {},
       "_scene_rotation": {},
       "_synced_model_ids": [],
       "_synced_repr_model_ids": [],
       "_view_count": null,
       "_view_height": "",
       "_view_module": "nglview-js-widgets",
       "_view_module_version": "3.0.1",
       "_view_name": "NGLView",
       "_view_width": "",
       "background": "white",
       "frame": 0,
       "gui_style": null,
       "layout": "IPY_MODEL_6a4c4c6acbd346199cc543cbe9ec71ef",
       "max_frame": 199,
       "n_components": 0,
       "picked": {}
      }
     },
     "bb571ddbde35432f915d0b35981da64f": {
      "model_module": "@jupyter-widgets/controls",
      "model_module_version": "1.5.0",
      "model_name": "ButtonStyleModel",
      "state": {
       "_model_module": "@jupyter-widgets/controls",
       "_model_module_version": "1.5.0",
       "_model_name": "ButtonStyleModel",
       "_view_count": null,
       "_view_module": "@jupyter-widgets/base",
       "_view_module_version": "1.2.0",
       "_view_name": "StyleView",
       "button_color": null,
       "font_weight": ""
      }
     },
     "de22d413b0794ea08b64321e8e879297": {
      "model_module": "@jupyter-widgets/controls",
      "model_module_version": "1.5.0",
      "model_name": "LinkModel",
      "state": {
       "_model_module": "@jupyter-widgets/controls",
       "_model_module_version": "1.5.0",
       "_model_name": "LinkModel",
       "_view_count": null,
       "_view_module": "@jupyter-widgets/controls",
       "_view_module_version": "1.5.0",
       "_view_name": null,
       "source": [
        "IPY_MODEL_229aa8c1a6f14c0688c2dd290dd72690",
        "value"
       ],
       "target": [
        "IPY_MODEL_aa03932eeb054262863344606f95c41a",
        "frame"
       ]
      }
     },
     "df2beb76be4a4a76be14966c51ecdcf7": {
      "model_module": "@jupyter-widgets/controls",
      "model_module_version": "1.5.0",
      "model_name": "IntSliderModel",
      "state": {
       "_dom_classes": [],
       "_model_module": "@jupyter-widgets/controls",
       "_model_module_version": "1.5.0",
       "_model_name": "IntSliderModel",
       "_view_count": null,
       "_view_module": "@jupyter-widgets/controls",
       "_view_module_version": "1.5.0",
       "_view_name": "IntSliderView",
       "continuous_update": true,
       "description": "",
       "description_tooltip": null,
       "disabled": false,
       "layout": "IPY_MODEL_765e327b7c10465b8f9e98b07fd79341",
       "max": 199,
       "min": 0,
       "orientation": "horizontal",
       "readout": true,
       "readout_format": "d",
       "step": 1,
       "style": "IPY_MODEL_294804c7f530419c8300076ba55dd9f2",
       "value": 0
      }
     }
    },
    "version_major": 2,
    "version_minor": 0
   }
  }
 },
 "nbformat": 4,
 "nbformat_minor": 1
}
