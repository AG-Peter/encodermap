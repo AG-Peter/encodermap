{
 "cells": [
  {
   "cell_type": "markdown",
   "metadata": {
    "collapsed": true
   },
   "source": [
    "# Training with different topologies\n",
    "\n",
    "Int this tutorial, you will learn how to use EncoderMap's new sparse trainign feature to learn the conformations of multiple proteins with different topologies.\n",
    "\n",
    "Run this notebook on Google Colab:\n",
    "\n",
    "[![Open in Colab](https://colab.research.google.com/assets/colab-badge.svg)](https://colab.research.google.com/github/AG-Peter/encodermap/blob/main/tutorials/notebooks_intermediate/02_training_with_different_topologies.ipynb)\n",
    "\n",
    "Find the documentation of EncoderMap:\n",
    "\n",
    "https://ag-peter.github.io/encodermap\n",
    "\n",
    "## Install encodermap on Google colab\n",
    "\n",
    "If you are on Google colab, please uncomment this line and install encodermap:"
   ]
  },
  {
   "cell_type": "code",
   "execution_count": 1,
   "metadata": {
    "execution": {
     "iopub.execute_input": "2023-02-02T11:20:10.544278Z",
     "iopub.status.busy": "2023-02-02T11:20:10.543754Z",
     "iopub.status.idle": "2023-02-02T11:20:10.547766Z",
     "shell.execute_reply": "2023-02-02T11:20:10.546901Z"
    }
   },
   "outputs": [],
   "source": [
    "# !pip install \"git+https://github.com/AG-Peter/encodermap.git@main\"\n",
    "# !pip install -r pip install -r https://raw.githubusercontent.com/AG-Peter/encodermap/main/tests/test_requirements.md"
   ]
  },
  {
   "cell_type": "markdown",
   "metadata": {},
   "source": [
    "## Imports"
   ]
  },
  {
   "cell_type": "code",
   "execution_count": 2,
   "metadata": {
    "execution": {
     "iopub.execute_input": "2023-02-02T11:20:10.551059Z",
     "iopub.status.busy": "2023-02-02T11:20:10.550703Z",
     "iopub.status.idle": "2023-02-02T11:20:14.160974Z",
     "shell.execute_reply": "2023-02-02T11:20:14.160136Z"
    }
   },
   "outputs": [
    {
     "name": "stderr",
     "output_type": "stream",
     "text": [
      "2023-02-02 11:20:10.710190: I tensorflow/core/platform/cpu_feature_guard.cc:193] This TensorFlow binary is optimized with oneAPI Deep Neural Network Library (oneDNN) to use the following CPU instructions in performance-critical operations:  AVX2 FMA\n",
      "To enable them in other operations, rebuild TensorFlow with the appropriate compiler flags.\n",
      "2023-02-02 11:20:10.825861: W tensorflow/compiler/xla/stream_executor/platform/default/dso_loader.cc:64] Could not load dynamic library 'libcudart.so.11.0'; dlerror: libcudart.so.11.0: cannot open shared object file: No such file or directory; LD_LIBRARY_PATH: /opt/hostedtoolcache/Python/3.9.16/x64/lib\n",
      "2023-02-02 11:20:10.825886: I tensorflow/compiler/xla/stream_executor/cuda/cudart_stub.cc:29] Ignore above cudart dlerror if you do not have a GPU set up on your machine.\n"
     ]
    },
    {
     "name": "stderr",
     "output_type": "stream",
     "text": [
      "2023-02-02 11:20:11.526723: W tensorflow/compiler/xla/stream_executor/platform/default/dso_loader.cc:64] Could not load dynamic library 'libnvinfer.so.7'; dlerror: libnvinfer.so.7: cannot open shared object file: No such file or directory; LD_LIBRARY_PATH: /opt/hostedtoolcache/Python/3.9.16/x64/lib\n",
      "2023-02-02 11:20:11.526841: W tensorflow/compiler/xla/stream_executor/platform/default/dso_loader.cc:64] Could not load dynamic library 'libnvinfer_plugin.so.7'; dlerror: libnvinfer_plugin.so.7: cannot open shared object file: No such file or directory; LD_LIBRARY_PATH: /opt/hostedtoolcache/Python/3.9.16/x64/lib\n",
      "2023-02-02 11:20:11.526853: W tensorflow/compiler/tf2tensorrt/utils/py_utils.cc:38] TF-TRT Warning: Cannot dlopen some TensorRT libraries. If you would like to use Nvidia GPU with TensorRT, please make sure the missing libraries mentioned above are installed properly.\n"
     ]
    },
    {
     "data": {
      "application/vnd.jupyter.widget-view+json": {
       "model_id": "86ff303a5c8248299653ef6a45a63d7f",
       "version_major": 2,
       "version_minor": 0
      },
      "text/plain": []
     },
     "metadata": {},
     "output_type": "display_data"
    }
   ],
   "source": [
    "import encodermap as em\n",
    "import numpy as np\n",
    "\n",
    "%matplotlib inline\n",
    "%load_ext autoreload\n",
    "%autoreload 2\n",
    "%config Completer.use_jedi = False"
   ]
  },
  {
   "cell_type": "markdown",
   "metadata": {},
   "source": [
    "Fix tensorflow seed for reproducibility"
   ]
  },
  {
   "cell_type": "code",
   "execution_count": 3,
   "metadata": {
    "execution": {
     "iopub.execute_input": "2023-02-02T11:20:14.164701Z",
     "iopub.status.busy": "2023-02-02T11:20:14.164471Z",
     "iopub.status.idle": "2023-02-02T11:20:14.203358Z",
     "shell.execute_reply": "2023-02-02T11:20:14.202614Z"
    }
   },
   "outputs": [],
   "source": [
    "import tensorflow as tf\n",
    "tf.random.set_seed(1)"
   ]
  },
  {
   "cell_type": "markdown",
   "metadata": {},
   "source": [
    "## Load the trajectories\n",
    "\n",
    "We use EncoderMap's `TrajEnsemble` class to load the trajectories and do the feature alignment."
   ]
  },
  {
   "cell_type": "code",
   "execution_count": 4,
   "metadata": {
    "execution": {
     "iopub.execute_input": "2023-02-02T11:20:14.206894Z",
     "iopub.status.busy": "2023-02-02T11:20:14.206644Z",
     "iopub.status.idle": "2023-02-02T11:20:14.246549Z",
     "shell.execute_reply": "2023-02-02T11:20:14.245548Z"
    }
   },
   "outputs": [],
   "source": [
    "traj_files = [\"glu7.xtc\", \"asp7.xtc\"]\n",
    "top_files = [\"glu7.pdb\", \"asp7.pdb\"]\n",
    "\n",
    "trajs = em.load(traj_files, top_files)"
   ]
  },
  {
   "cell_type": "markdown",
   "metadata": {},
   "source": [
    "Load the CVs with the `ensemble=True` options."
   ]
  },
  {
   "cell_type": "code",
   "execution_count": 5,
   "metadata": {
    "execution": {
     "iopub.execute_input": "2023-02-02T11:20:14.249690Z",
     "iopub.status.busy": "2023-02-02T11:20:14.249246Z",
     "iopub.status.idle": "2023-02-02T11:20:15.542605Z",
     "shell.execute_reply": "2023-02-02T11:20:15.541674Z"
    }
   },
   "outputs": [],
   "source": [
    "trajs.load_CVs(\"all\", ensemble=True)"
   ]
  },
  {
   "cell_type": "code",
   "execution_count": 6,
   "metadata": {
    "execution": {
     "iopub.execute_input": "2023-02-02T11:20:15.546350Z",
     "iopub.status.busy": "2023-02-02T11:20:15.546119Z",
     "iopub.status.idle": "2023-02-02T11:20:16.211735Z",
     "shell.execute_reply": "2023-02-02T11:20:16.210823Z"
    }
   },
   "outputs": [
    {
     "data": {
      "text/plain": [
       "<encodermap.TrajEnsemble object. Current backend is no_load. Containing 20002 frames. CV central_distances with shape (20002, 20) loaded. CV side_dihedrals with shape (20002, 21) loaded. CV central_angles with shape (20002, 19) loaded. CV central_cartesians with shape (20002, 21, 3) loaded. CV central_dihedrals with shape (20002, 18) loaded. Object at 0x7ff790b76fd0>"
      ]
     },
     "execution_count": 6,
     "metadata": {},
     "output_type": "execute_result"
    }
   ],
   "source": [
    "trajs"
   ]
  },
  {
   "cell_type": "markdown",
   "metadata": {},
   "source": [
    "## Create the AngleDihedralCartesianEncoderMap\n",
    "\n",
    "The AngleDihedralCartesianEncoderMap tries to learn all of the geometric features of a protein. The angles (backbone angles, backbone dihedrals, sidechain dihedrals) are passed through a neuronal network autoencoder, while the distances between the backbone atoms are used to create cartesian coordinates from the learned angles. The generated cartesians and the input (true) cartesians are used to construct pairwise C$_\\alpha$ distances, which are then also weighted using sketchmap's sigmoid function. The `cartesian_cost_scale_soft_start` gradually increases the contribution of this cost function to the overall model loss."
   ]
  },
  {
   "cell_type": "code",
   "execution_count": 7,
   "metadata": {
    "execution": {
     "iopub.execute_input": "2023-02-02T11:20:16.215036Z",
     "iopub.status.busy": "2023-02-02T11:20:16.214670Z",
     "iopub.status.idle": "2023-02-02T11:20:21.199845Z",
     "shell.execute_reply": "2023-02-02T11:20:21.198768Z"
    }
   },
   "outputs": [
    {
     "name": "stdout",
     "output_type": "stream",
     "text": [
      "Output files are saved to runs/asp7_glu7_asp8/run0 as defined in 'main_path' in the parameters.\n",
      "Input contains nans. Using sparse network.\n"
     ]
    },
    {
     "name": "stderr",
     "output_type": "stream",
     "text": [
      "2023-02-02 11:20:16.388448: W tensorflow/compiler/xla/stream_executor/platform/default/dso_loader.cc:64] Could not load dynamic library 'libcuda.so.1'; dlerror: libcuda.so.1: cannot open shared object file: No such file or directory; LD_LIBRARY_PATH: /opt/hostedtoolcache/Python/3.9.16/x64/lib\n",
      "2023-02-02 11:20:16.388485: W tensorflow/compiler/xla/stream_executor/cuda/cuda_driver.cc:265] failed call to cuInit: UNKNOWN ERROR (303)\n",
      "2023-02-02 11:20:16.388511: I tensorflow/compiler/xla/stream_executor/cuda/cuda_diagnostics.cc:156] kernel driver does not appear to be running on this host (fv-az280-76): /proc/driver/nvidia/version does not exist\n",
      "2023-02-02 11:20:16.388788: I tensorflow/core/platform/cpu_feature_guard.cc:193] This TensorFlow binary is optimized with oneAPI Deep Neural Network Library (oneDNN) to use the following CPU instructions in performance-critical operations:  AVX2 FMA\n",
      "To enable them in other operations, rebuild TensorFlow with the appropriate compiler flags.\n"
     ]
    },
    {
     "name": "stdout",
     "output_type": "stream",
     "text": [
      "input shapes are:\n",
      "{'central_distances': (20002, 20), 'side_dihedrals': TensorShape([20002, 21]), 'central_angles': (20002, 19), 'central_cartesians': (20002, 21, 3), 'central_dihedrals': (20002, 18)}\n",
      "You must install pydot (`pip install pydot`) and install graphviz (see instructions at https://graphviz.gitlab.io/download/) for plot_model to work.\n"
     ]
    },
    {
     "name": "stdout",
     "output_type": "stream",
     "text": [
      "Saved a text-summary of the model and an image in runs/asp7_glu7_asp8/run0, as specified in 'main_path' in the parameters.\n"
     ]
    }
   ],
   "source": [
    "p = em.ADCParameters(use_backbone_angles=True,\n",
    "                     distance_cost_scale=1,\n",
    "                     auto_cost_scale=0.1,\n",
    "                     cartesian_cost_scale_soft_start=(50, 80),\n",
    "                     n_neurons = [500, 250, 125, 2],\n",
    "                     activation_functions = ['', 'tanh', 'tanh', 'tanh', ''],\n",
    "                     use_sidechains=True,\n",
    "                     summary_step=1,\n",
    "                     tensorboard=True,\n",
    "                     periodicity=2*np.pi,\n",
    "                     n_steps=100,\n",
    "                     checkpoint_step=1000,\n",
    "                     dist_sig_parameters = (4.5, 12, 6, 1, 2, 6),\n",
    "                     main_path=em.misc.run_path('runs/asp7_glu7_asp8'),\n",
    "                     model_api='functional',\n",
    "                    )\n",
    "emap = em.AngleDihedralCartesianEncoderMap(trajs, p)"
   ]
  },
  {
   "cell_type": "markdown",
   "metadata": {},
   "source": [
    "train"
   ]
  },
  {
   "cell_type": "code",
   "execution_count": 8,
   "metadata": {
    "execution": {
     "iopub.execute_input": "2023-02-02T11:20:21.203396Z",
     "iopub.status.busy": "2023-02-02T11:20:21.203036Z",
     "iopub.status.idle": "2023-02-02T11:21:43.670493Z",
     "shell.execute_reply": "2023-02-02T11:21:43.669313Z"
    }
   },
   "outputs": [
    {
     "name": "stderr",
     "output_type": "stream",
     "text": [
      "\r",
      "  0%|          | 0/100 [00:00<?, ?it/s]"
     ]
    },
    {
     "name": "stderr",
     "output_type": "stream",
     "text": [
      "\r",
      "  0%|          | 0/100 [00:00<?, ?it/s, Loss after step ?=?, Cartesian cost Scale=?]"
     ]
    },
    {
     "name": "stderr",
     "output_type": "stream",
     "text": [
      "\r",
      "  0%|          | 0/100 [00:30<?, ?it/s, Loss after step 1=6.27, Cartesian cost Scale=0]"
     ]
    },
    {
     "name": "stderr",
     "output_type": "stream",
     "text": [
      "\r",
      "  1%|          | 1/100 [00:30<49:49, 30.19s/it, Loss after step 1=6.27, Cartesian cost Scale=0]"
     ]
    },
    {
     "name": "stderr",
     "output_type": "stream",
     "text": [
      "\r",
      "  1%|          | 1/100 [00:30<49:49, 30.19s/it, Loss after step 2=5.82, Cartesian cost Scale=0]"
     ]
    },
    {
     "name": "stderr",
     "output_type": "stream",
     "text": [
      "\r",
      "  2%|▏         | 2/100 [00:30<20:25, 12.51s/it, Loss after step 2=5.82, Cartesian cost Scale=0]"
     ]
    },
    {
     "name": "stderr",
     "output_type": "stream",
     "text": [
      "\r",
      "  2%|▏         | 2/100 [00:30<20:25, 12.51s/it, Loss after step 3=5.19, Cartesian cost Scale=0]"
     ]
    },
    {
     "name": "stderr",
     "output_type": "stream",
     "text": [
      "\r",
      "  3%|▎         | 3/100 [00:30<11:04,  6.86s/it, Loss after step 3=5.19, Cartesian cost Scale=0]"
     ]
    },
    {
     "name": "stderr",
     "output_type": "stream",
     "text": [
      "\r",
      "  3%|▎         | 3/100 [00:30<11:04,  6.86s/it, Loss after step 4=4.84, Cartesian cost Scale=0]"
     ]
    },
    {
     "name": "stderr",
     "output_type": "stream",
     "text": [
      "\r",
      "  4%|▍         | 4/100 [00:30<06:42,  4.20s/it, Loss after step 4=4.84, Cartesian cost Scale=0]"
     ]
    },
    {
     "name": "stderr",
     "output_type": "stream",
     "text": [
      "\r",
      "  4%|▍         | 4/100 [00:30<06:42,  4.20s/it, Loss after step 5=4.59, Cartesian cost Scale=0]"
     ]
    },
    {
     "name": "stderr",
     "output_type": "stream",
     "text": [
      "\r",
      "  5%|▌         | 5/100 [00:30<04:19,  2.73s/it, Loss after step 5=4.59, Cartesian cost Scale=0]"
     ]
    },
    {
     "name": "stderr",
     "output_type": "stream",
     "text": [
      "\r",
      "  5%|▌         | 5/100 [00:30<04:19,  2.73s/it, Loss after step 6=4.47, Cartesian cost Scale=0]"
     ]
    },
    {
     "name": "stderr",
     "output_type": "stream",
     "text": [
      "\r",
      "  6%|▌         | 6/100 [00:30<02:53,  1.84s/it, Loss after step 6=4.47, Cartesian cost Scale=0]"
     ]
    },
    {
     "name": "stderr",
     "output_type": "stream",
     "text": [
      "\r",
      "  6%|▌         | 6/100 [00:30<02:53,  1.84s/it, Loss after step 7=4.37, Cartesian cost Scale=0]"
     ]
    },
    {
     "name": "stderr",
     "output_type": "stream",
     "text": [
      "\r",
      "  7%|▋         | 7/100 [00:30<01:59,  1.28s/it, Loss after step 7=4.37, Cartesian cost Scale=0]"
     ]
    },
    {
     "name": "stderr",
     "output_type": "stream",
     "text": [
      "\r",
      "  7%|▋         | 7/100 [00:31<01:59,  1.28s/it, Loss after step 8=4.28, Cartesian cost Scale=0]"
     ]
    },
    {
     "name": "stderr",
     "output_type": "stream",
     "text": [
      "\r",
      "  8%|▊         | 8/100 [00:31<01:24,  1.09it/s, Loss after step 8=4.28, Cartesian cost Scale=0]"
     ]
    },
    {
     "name": "stderr",
     "output_type": "stream",
     "text": [
      "\r",
      "  8%|▊         | 8/100 [00:31<01:24,  1.09it/s, Loss after step 9=4.2, Cartesian cost Scale=0] "
     ]
    },
    {
     "name": "stderr",
     "output_type": "stream",
     "text": [
      "\r",
      "  9%|▉         | 9/100 [00:31<01:00,  1.50it/s, Loss after step 9=4.2, Cartesian cost Scale=0]"
     ]
    },
    {
     "name": "stderr",
     "output_type": "stream",
     "text": [
      "\r",
      "  9%|▉         | 9/100 [00:31<01:00,  1.50it/s, Loss after step 10=4.1, Cartesian cost Scale=0]"
     ]
    },
    {
     "name": "stderr",
     "output_type": "stream",
     "text": [
      "\r",
      " 10%|█         | 10/100 [00:31<00:44,  2.00it/s, Loss after step 10=4.1, Cartesian cost Scale=0]"
     ]
    },
    {
     "name": "stderr",
     "output_type": "stream",
     "text": [
      "\r",
      " 10%|█         | 10/100 [00:31<00:44,  2.00it/s, Loss after step 11=4.09, Cartesian cost Scale=0]"
     ]
    },
    {
     "name": "stderr",
     "output_type": "stream",
     "text": [
      "\r",
      " 11%|█         | 11/100 [00:31<00:34,  2.58it/s, Loss after step 11=4.09, Cartesian cost Scale=0]"
     ]
    },
    {
     "name": "stderr",
     "output_type": "stream",
     "text": [
      "\r",
      " 11%|█         | 11/100 [00:31<00:34,  2.58it/s, Loss after step 12=4.08, Cartesian cost Scale=0]"
     ]
    },
    {
     "name": "stderr",
     "output_type": "stream",
     "text": [
      "\r",
      " 12%|█▏        | 12/100 [00:31<00:27,  3.22it/s, Loss after step 12=4.08, Cartesian cost Scale=0]"
     ]
    },
    {
     "name": "stderr",
     "output_type": "stream",
     "text": [
      "\r",
      " 12%|█▏        | 12/100 [00:31<00:27,  3.22it/s, Loss after step 13=4.05, Cartesian cost Scale=0]"
     ]
    },
    {
     "name": "stderr",
     "output_type": "stream",
     "text": [
      "\r",
      " 13%|█▎        | 13/100 [00:31<00:21,  3.96it/s, Loss after step 13=4.05, Cartesian cost Scale=0]"
     ]
    },
    {
     "name": "stderr",
     "output_type": "stream",
     "text": [
      "\r",
      " 13%|█▎        | 13/100 [00:31<00:21,  3.96it/s, Loss after step 14=3.98, Cartesian cost Scale=0]"
     ]
    },
    {
     "name": "stderr",
     "output_type": "stream",
     "text": [
      "\r",
      " 14%|█▍        | 14/100 [00:31<00:18,  4.65it/s, Loss after step 14=3.98, Cartesian cost Scale=0]"
     ]
    },
    {
     "name": "stderr",
     "output_type": "stream",
     "text": [
      "\r",
      " 14%|█▍        | 14/100 [00:31<00:18,  4.65it/s, Loss after step 15=4.01, Cartesian cost Scale=0]"
     ]
    },
    {
     "name": "stderr",
     "output_type": "stream",
     "text": [
      "\r",
      " 15%|█▌        | 15/100 [00:31<00:15,  5.39it/s, Loss after step 15=4.01, Cartesian cost Scale=0]"
     ]
    },
    {
     "name": "stderr",
     "output_type": "stream",
     "text": [
      "\r",
      " 15%|█▌        | 15/100 [00:32<00:15,  5.39it/s, Loss after step 16=3.94, Cartesian cost Scale=0]"
     ]
    },
    {
     "name": "stderr",
     "output_type": "stream",
     "text": [
      "\r",
      " 16%|█▌        | 16/100 [00:32<00:14,  5.97it/s, Loss after step 16=3.94, Cartesian cost Scale=0]"
     ]
    },
    {
     "name": "stderr",
     "output_type": "stream",
     "text": [
      "\r",
      " 16%|█▌        | 16/100 [00:32<00:14,  5.97it/s, Loss after step 17=3.92, Cartesian cost Scale=0]"
     ]
    },
    {
     "name": "stderr",
     "output_type": "stream",
     "text": [
      "\r",
      " 17%|█▋        | 17/100 [00:32<00:12,  6.60it/s, Loss after step 17=3.92, Cartesian cost Scale=0]"
     ]
    },
    {
     "name": "stderr",
     "output_type": "stream",
     "text": [
      "\r",
      " 17%|█▋        | 17/100 [00:32<00:12,  6.60it/s, Loss after step 18=3.88, Cartesian cost Scale=0]"
     ]
    },
    {
     "name": "stderr",
     "output_type": "stream",
     "text": [
      "\r",
      " 18%|█▊        | 18/100 [00:32<00:11,  7.06it/s, Loss after step 18=3.88, Cartesian cost Scale=0]"
     ]
    },
    {
     "name": "stderr",
     "output_type": "stream",
     "text": [
      "\r",
      " 18%|█▊        | 18/100 [00:32<00:11,  7.06it/s, Loss after step 19=3.84, Cartesian cost Scale=0]"
     ]
    },
    {
     "name": "stderr",
     "output_type": "stream",
     "text": [
      "\r",
      " 19%|█▉        | 19/100 [00:32<00:10,  7.47it/s, Loss after step 19=3.84, Cartesian cost Scale=0]"
     ]
    },
    {
     "name": "stderr",
     "output_type": "stream",
     "text": [
      "\r",
      " 19%|█▉        | 19/100 [00:32<00:10,  7.47it/s, Loss after step 20=3.82, Cartesian cost Scale=0]"
     ]
    },
    {
     "name": "stderr",
     "output_type": "stream",
     "text": [
      "\r",
      " 20%|██        | 20/100 [00:32<00:10,  7.62it/s, Loss after step 20=3.82, Cartesian cost Scale=0]"
     ]
    },
    {
     "name": "stderr",
     "output_type": "stream",
     "text": [
      "\r",
      " 20%|██        | 20/100 [00:32<00:10,  7.62it/s, Loss after step 21=3.78, Cartesian cost Scale=0]"
     ]
    },
    {
     "name": "stderr",
     "output_type": "stream",
     "text": [
      "\r",
      " 21%|██        | 21/100 [00:32<00:10,  7.68it/s, Loss after step 21=3.78, Cartesian cost Scale=0]"
     ]
    },
    {
     "name": "stderr",
     "output_type": "stream",
     "text": [
      "\r",
      " 21%|██        | 21/100 [00:32<00:10,  7.68it/s, Loss after step 22=3.77, Cartesian cost Scale=0]"
     ]
    },
    {
     "name": "stderr",
     "output_type": "stream",
     "text": [
      "\r",
      " 22%|██▏       | 22/100 [00:32<00:10,  7.56it/s, Loss after step 22=3.77, Cartesian cost Scale=0]"
     ]
    },
    {
     "name": "stderr",
     "output_type": "stream",
     "text": [
      "\r",
      " 22%|██▏       | 22/100 [00:32<00:10,  7.56it/s, Loss after step 23=3.75, Cartesian cost Scale=0]"
     ]
    },
    {
     "name": "stderr",
     "output_type": "stream",
     "text": [
      "\r",
      " 23%|██▎       | 23/100 [00:32<00:10,  7.66it/s, Loss after step 23=3.75, Cartesian cost Scale=0]"
     ]
    },
    {
     "name": "stderr",
     "output_type": "stream",
     "text": [
      "\r",
      " 23%|██▎       | 23/100 [00:33<00:10,  7.66it/s, Loss after step 24=3.76, Cartesian cost Scale=0]"
     ]
    },
    {
     "name": "stderr",
     "output_type": "stream",
     "text": [
      "\r",
      " 24%|██▍       | 24/100 [00:33<00:09,  7.88it/s, Loss after step 24=3.76, Cartesian cost Scale=0]"
     ]
    },
    {
     "name": "stderr",
     "output_type": "stream",
     "text": [
      "\r",
      " 24%|██▍       | 24/100 [00:33<00:09,  7.88it/s, Loss after step 25=3.73, Cartesian cost Scale=0]"
     ]
    },
    {
     "name": "stderr",
     "output_type": "stream",
     "text": [
      "\r",
      " 25%|██▌       | 25/100 [00:33<00:09,  8.09it/s, Loss after step 25=3.73, Cartesian cost Scale=0]"
     ]
    },
    {
     "name": "stderr",
     "output_type": "stream",
     "text": [
      "\r",
      " 25%|██▌       | 25/100 [00:33<00:09,  8.09it/s, Loss after step 26=3.68, Cartesian cost Scale=0]"
     ]
    },
    {
     "name": "stderr",
     "output_type": "stream",
     "text": [
      "\r",
      " 26%|██▌       | 26/100 [00:33<00:08,  8.24it/s, Loss after step 26=3.68, Cartesian cost Scale=0]"
     ]
    },
    {
     "name": "stderr",
     "output_type": "stream",
     "text": [
      "\r",
      " 26%|██▌       | 26/100 [00:33<00:08,  8.24it/s, Loss after step 27=3.65, Cartesian cost Scale=0]"
     ]
    },
    {
     "name": "stderr",
     "output_type": "stream",
     "text": [
      "\r",
      " 27%|██▋       | 27/100 [00:33<00:09,  8.07it/s, Loss after step 27=3.65, Cartesian cost Scale=0]"
     ]
    },
    {
     "name": "stderr",
     "output_type": "stream",
     "text": [
      "\r",
      " 27%|██▋       | 27/100 [00:33<00:09,  8.07it/s, Loss after step 28=3.63, Cartesian cost Scale=0]"
     ]
    },
    {
     "name": "stderr",
     "output_type": "stream",
     "text": [
      "\r",
      " 28%|██▊       | 28/100 [00:33<00:08,  8.19it/s, Loss after step 28=3.63, Cartesian cost Scale=0]"
     ]
    },
    {
     "name": "stderr",
     "output_type": "stream",
     "text": [
      "\r",
      " 28%|██▊       | 28/100 [00:33<00:08,  8.19it/s, Loss after step 29=3.66, Cartesian cost Scale=0]"
     ]
    },
    {
     "name": "stderr",
     "output_type": "stream",
     "text": [
      "\r",
      " 29%|██▉       | 29/100 [00:33<00:08,  8.01it/s, Loss after step 29=3.66, Cartesian cost Scale=0]"
     ]
    },
    {
     "name": "stderr",
     "output_type": "stream",
     "text": [
      "\r",
      " 29%|██▉       | 29/100 [00:33<00:08,  8.01it/s, Loss after step 30=3.66, Cartesian cost Scale=0]"
     ]
    },
    {
     "name": "stderr",
     "output_type": "stream",
     "text": [
      "\r",
      " 30%|███       | 30/100 [00:33<00:08,  8.22it/s, Loss after step 30=3.66, Cartesian cost Scale=0]"
     ]
    },
    {
     "name": "stderr",
     "output_type": "stream",
     "text": [
      "\r",
      " 30%|███       | 30/100 [00:33<00:08,  8.22it/s, Loss after step 31=3.55, Cartesian cost Scale=0]"
     ]
    },
    {
     "name": "stderr",
     "output_type": "stream",
     "text": [
      "\r",
      " 31%|███       | 31/100 [00:33<00:08,  8.24it/s, Loss after step 31=3.55, Cartesian cost Scale=0]"
     ]
    },
    {
     "name": "stderr",
     "output_type": "stream",
     "text": [
      "\r",
      " 31%|███       | 31/100 [00:34<00:08,  8.24it/s, Loss after step 32=3.61, Cartesian cost Scale=0]"
     ]
    },
    {
     "name": "stderr",
     "output_type": "stream",
     "text": [
      "\r",
      " 32%|███▏      | 32/100 [00:34<00:08,  8.32it/s, Loss after step 32=3.61, Cartesian cost Scale=0]"
     ]
    },
    {
     "name": "stderr",
     "output_type": "stream",
     "text": [
      "\r",
      " 32%|███▏      | 32/100 [00:34<00:08,  8.32it/s, Loss after step 33=3.56, Cartesian cost Scale=0]"
     ]
    },
    {
     "name": "stderr",
     "output_type": "stream",
     "text": [
      "\r",
      " 33%|███▎      | 33/100 [00:34<00:08,  8.01it/s, Loss after step 33=3.56, Cartesian cost Scale=0]"
     ]
    },
    {
     "name": "stderr",
     "output_type": "stream",
     "text": [
      "\r",
      " 33%|███▎      | 33/100 [00:34<00:08,  8.01it/s, Loss after step 34=3.58, Cartesian cost Scale=0]"
     ]
    },
    {
     "name": "stderr",
     "output_type": "stream",
     "text": [
      "\r",
      " 34%|███▍      | 34/100 [00:34<00:08,  8.04it/s, Loss after step 34=3.58, Cartesian cost Scale=0]"
     ]
    },
    {
     "name": "stderr",
     "output_type": "stream",
     "text": [
      "\r",
      " 34%|███▍      | 34/100 [00:34<00:08,  8.04it/s, Loss after step 35=3.52, Cartesian cost Scale=0]"
     ]
    },
    {
     "name": "stderr",
     "output_type": "stream",
     "text": [
      "\r",
      " 35%|███▌      | 35/100 [00:34<00:08,  8.08it/s, Loss after step 35=3.52, Cartesian cost Scale=0]"
     ]
    },
    {
     "name": "stderr",
     "output_type": "stream",
     "text": [
      "\r",
      " 35%|███▌      | 35/100 [00:34<00:08,  8.08it/s, Loss after step 36=3.49, Cartesian cost Scale=0]"
     ]
    },
    {
     "name": "stderr",
     "output_type": "stream",
     "text": [
      "\r",
      " 36%|███▌      | 36/100 [00:34<00:07,  8.22it/s, Loss after step 36=3.49, Cartesian cost Scale=0]"
     ]
    },
    {
     "name": "stderr",
     "output_type": "stream",
     "text": [
      "\r",
      " 36%|███▌      | 36/100 [00:34<00:07,  8.22it/s, Loss after step 37=3.45, Cartesian cost Scale=0]"
     ]
    },
    {
     "name": "stderr",
     "output_type": "stream",
     "text": [
      "\r",
      " 37%|███▋      | 37/100 [00:34<00:07,  8.15it/s, Loss after step 37=3.45, Cartesian cost Scale=0]"
     ]
    },
    {
     "name": "stderr",
     "output_type": "stream",
     "text": [
      "\r",
      " 37%|███▋      | 37/100 [00:34<00:07,  8.15it/s, Loss after step 38=3.45, Cartesian cost Scale=0]"
     ]
    },
    {
     "name": "stderr",
     "output_type": "stream",
     "text": [
      "\r",
      " 38%|███▊      | 38/100 [00:34<00:07,  7.81it/s, Loss after step 38=3.45, Cartesian cost Scale=0]"
     ]
    },
    {
     "name": "stderr",
     "output_type": "stream",
     "text": [
      "\r",
      " 38%|███▊      | 38/100 [00:34<00:07,  7.81it/s, Loss after step 39=3.44, Cartesian cost Scale=0]"
     ]
    },
    {
     "name": "stderr",
     "output_type": "stream",
     "text": [
      "\r",
      " 39%|███▉      | 39/100 [00:34<00:08,  7.30it/s, Loss after step 39=3.44, Cartesian cost Scale=0]"
     ]
    },
    {
     "name": "stderr",
     "output_type": "stream",
     "text": [
      "\r",
      " 39%|███▉      | 39/100 [00:35<00:08,  7.30it/s, Loss after step 40=3.38, Cartesian cost Scale=0]"
     ]
    },
    {
     "name": "stderr",
     "output_type": "stream",
     "text": [
      "\r",
      " 40%|████      | 40/100 [00:35<00:08,  7.28it/s, Loss after step 40=3.38, Cartesian cost Scale=0]"
     ]
    },
    {
     "name": "stderr",
     "output_type": "stream",
     "text": [
      "\r",
      " 40%|████      | 40/100 [00:35<00:08,  7.28it/s, Loss after step 41=3.36, Cartesian cost Scale=0]"
     ]
    },
    {
     "name": "stderr",
     "output_type": "stream",
     "text": [
      "\r",
      " 41%|████      | 41/100 [00:35<00:07,  7.55it/s, Loss after step 41=3.36, Cartesian cost Scale=0]"
     ]
    },
    {
     "name": "stderr",
     "output_type": "stream",
     "text": [
      "\r",
      " 41%|████      | 41/100 [00:35<00:07,  7.55it/s, Loss after step 42=3.37, Cartesian cost Scale=0]"
     ]
    },
    {
     "name": "stderr",
     "output_type": "stream",
     "text": [
      "\r",
      " 42%|████▏     | 42/100 [00:35<00:07,  7.84it/s, Loss after step 42=3.37, Cartesian cost Scale=0]"
     ]
    },
    {
     "name": "stderr",
     "output_type": "stream",
     "text": [
      "\r",
      " 42%|████▏     | 42/100 [00:35<00:07,  7.84it/s, Loss after step 43=3.38, Cartesian cost Scale=0]"
     ]
    },
    {
     "name": "stderr",
     "output_type": "stream",
     "text": [
      "\r",
      " 43%|████▎     | 43/100 [00:35<00:07,  7.87it/s, Loss after step 43=3.38, Cartesian cost Scale=0]"
     ]
    },
    {
     "name": "stderr",
     "output_type": "stream",
     "text": [
      "\r",
      " 43%|████▎     | 43/100 [00:35<00:07,  7.87it/s, Loss after step 44=3.37, Cartesian cost Scale=0]"
     ]
    },
    {
     "name": "stderr",
     "output_type": "stream",
     "text": [
      "\r",
      " 44%|████▍     | 44/100 [00:35<00:07,  7.79it/s, Loss after step 44=3.37, Cartesian cost Scale=0]"
     ]
    },
    {
     "name": "stderr",
     "output_type": "stream",
     "text": [
      "\r",
      " 44%|████▍     | 44/100 [00:35<00:07,  7.79it/s, Loss after step 45=3.32, Cartesian cost Scale=0]"
     ]
    },
    {
     "name": "stderr",
     "output_type": "stream",
     "text": [
      "\r",
      " 45%|████▌     | 45/100 [00:35<00:07,  7.77it/s, Loss after step 45=3.32, Cartesian cost Scale=0]"
     ]
    },
    {
     "name": "stderr",
     "output_type": "stream",
     "text": [
      "\r",
      " 45%|████▌     | 45/100 [00:35<00:07,  7.77it/s, Loss after step 46=3.34, Cartesian cost Scale=0]"
     ]
    },
    {
     "name": "stderr",
     "output_type": "stream",
     "text": [
      "\r",
      " 46%|████▌     | 46/100 [00:35<00:06,  7.84it/s, Loss after step 46=3.34, Cartesian cost Scale=0]"
     ]
    },
    {
     "name": "stderr",
     "output_type": "stream",
     "text": [
      "\r",
      " 46%|████▌     | 46/100 [00:35<00:06,  7.84it/s, Loss after step 47=3.33, Cartesian cost Scale=0]"
     ]
    },
    {
     "name": "stderr",
     "output_type": "stream",
     "text": [
      "\r",
      " 47%|████▋     | 47/100 [00:35<00:06,  8.04it/s, Loss after step 47=3.33, Cartesian cost Scale=0]"
     ]
    },
    {
     "name": "stderr",
     "output_type": "stream",
     "text": [
      "\r",
      " 47%|████▋     | 47/100 [00:36<00:06,  8.04it/s, Loss after step 48=3.28, Cartesian cost Scale=0]"
     ]
    },
    {
     "name": "stderr",
     "output_type": "stream",
     "text": [
      "\r",
      " 48%|████▊     | 48/100 [00:36<00:06,  8.18it/s, Loss after step 48=3.28, Cartesian cost Scale=0]"
     ]
    },
    {
     "name": "stderr",
     "output_type": "stream",
     "text": [
      "\r",
      " 48%|████▊     | 48/100 [00:36<00:06,  8.18it/s, Loss after step 49=3.29, Cartesian cost Scale=0]"
     ]
    },
    {
     "name": "stderr",
     "output_type": "stream",
     "text": [
      "\r",
      " 49%|████▉     | 49/100 [00:36<00:06,  8.31it/s, Loss after step 49=3.29, Cartesian cost Scale=0]"
     ]
    },
    {
     "name": "stderr",
     "output_type": "stream",
     "text": [
      "\r",
      " 49%|████▉     | 49/100 [00:36<00:06,  8.31it/s, Loss after step 50=3.29, Cartesian cost Scale=0]"
     ]
    },
    {
     "name": "stderr",
     "output_type": "stream",
     "text": [
      "\r",
      " 50%|█████     | 50/100 [00:36<00:05,  8.34it/s, Loss after step 50=3.29, Cartesian cost Scale=0]"
     ]
    },
    {
     "name": "stderr",
     "output_type": "stream",
     "text": [
      "\r",
      " 50%|█████     | 50/100 [00:36<00:05,  8.34it/s, Loss after step 51=3.3, Cartesian cost Scale=0.03]"
     ]
    },
    {
     "name": "stderr",
     "output_type": "stream",
     "text": [
      "\r",
      " 51%|█████     | 51/100 [00:36<00:06,  8.03it/s, Loss after step 51=3.3, Cartesian cost Scale=0.03]"
     ]
    },
    {
     "name": "stderr",
     "output_type": "stream",
     "text": [
      "\r",
      " 51%|█████     | 51/100 [00:36<00:06,  8.03it/s, Loss after step 52=3.28, Cartesian cost Scale=0.07]"
     ]
    },
    {
     "name": "stderr",
     "output_type": "stream",
     "text": [
      "\r",
      " 52%|█████▏    | 52/100 [00:36<00:05,  8.13it/s, Loss after step 52=3.28, Cartesian cost Scale=0.07]"
     ]
    },
    {
     "name": "stderr",
     "output_type": "stream",
     "text": [
      "\r",
      " 52%|█████▏    | 52/100 [00:36<00:05,  8.13it/s, Loss after step 53=3.27, Cartesian cost Scale=0.1] "
     ]
    },
    {
     "name": "stderr",
     "output_type": "stream",
     "text": [
      "\r",
      " 53%|█████▎    | 53/100 [00:36<00:05,  8.23it/s, Loss after step 53=3.27, Cartesian cost Scale=0.1]"
     ]
    },
    {
     "name": "stderr",
     "output_type": "stream",
     "text": [
      "\r",
      " 53%|█████▎    | 53/100 [00:36<00:05,  8.23it/s, Loss after step 54=3.24, Cartesian cost Scale=0.13]"
     ]
    },
    {
     "name": "stderr",
     "output_type": "stream",
     "text": [
      "\r",
      " 54%|█████▍    | 54/100 [00:36<00:05,  7.95it/s, Loss after step 54=3.24, Cartesian cost Scale=0.13]"
     ]
    },
    {
     "name": "stderr",
     "output_type": "stream",
     "text": [
      "\r",
      " 54%|█████▍    | 54/100 [00:36<00:05,  7.95it/s, Loss after step 55=3.26, Cartesian cost Scale=0.17]"
     ]
    },
    {
     "name": "stderr",
     "output_type": "stream",
     "text": [
      "\r",
      " 55%|█████▌    | 55/100 [00:36<00:05,  7.94it/s, Loss after step 55=3.26, Cartesian cost Scale=0.17]"
     ]
    },
    {
     "name": "stderr",
     "output_type": "stream",
     "text": [
      "\r",
      " 55%|█████▌    | 55/100 [00:37<00:05,  7.94it/s, Loss after step 56=3.22, Cartesian cost Scale=0.2] "
     ]
    },
    {
     "name": "stderr",
     "output_type": "stream",
     "text": [
      "\r",
      " 56%|█████▌    | 56/100 [00:37<00:05,  8.02it/s, Loss after step 56=3.22, Cartesian cost Scale=0.2]"
     ]
    },
    {
     "name": "stderr",
     "output_type": "stream",
     "text": [
      "\r",
      " 56%|█████▌    | 56/100 [00:37<00:05,  8.02it/s, Loss after step 57=3.23, Cartesian cost Scale=0.23]"
     ]
    },
    {
     "name": "stderr",
     "output_type": "stream",
     "text": [
      "\r",
      " 57%|█████▋    | 57/100 [00:37<00:05,  8.21it/s, Loss after step 57=3.23, Cartesian cost Scale=0.23]"
     ]
    },
    {
     "name": "stderr",
     "output_type": "stream",
     "text": [
      "\r",
      " 57%|█████▋    | 57/100 [00:37<00:05,  8.21it/s, Loss after step 58=3.25, Cartesian cost Scale=0.27]"
     ]
    },
    {
     "name": "stderr",
     "output_type": "stream",
     "text": [
      "\r",
      " 58%|█████▊    | 58/100 [00:37<00:05,  8.22it/s, Loss after step 58=3.25, Cartesian cost Scale=0.27]"
     ]
    },
    {
     "name": "stderr",
     "output_type": "stream",
     "text": [
      "\r",
      " 58%|█████▊    | 58/100 [00:37<00:05,  8.22it/s, Loss after step 59=3.2, Cartesian cost Scale=0.3]  "
     ]
    },
    {
     "name": "stderr",
     "output_type": "stream",
     "text": [
      "\r",
      " 59%|█████▉    | 59/100 [00:37<00:05,  8.05it/s, Loss after step 59=3.2, Cartesian cost Scale=0.3]"
     ]
    },
    {
     "name": "stderr",
     "output_type": "stream",
     "text": [
      "\r",
      " 59%|█████▉    | 59/100 [00:37<00:05,  8.05it/s, Loss after step 60=3.23, Cartesian cost Scale=0.33]"
     ]
    },
    {
     "name": "stderr",
     "output_type": "stream",
     "text": [
      "\r",
      " 60%|██████    | 60/100 [00:37<00:04,  8.14it/s, Loss after step 60=3.23, Cartesian cost Scale=0.33]"
     ]
    },
    {
     "name": "stderr",
     "output_type": "stream",
     "text": [
      "\r",
      " 60%|██████    | 60/100 [00:37<00:04,  8.14it/s, Loss after step 61=3.17, Cartesian cost Scale=0.37]"
     ]
    },
    {
     "name": "stderr",
     "output_type": "stream",
     "text": [
      "\r",
      " 61%|██████    | 61/100 [00:37<00:04,  8.11it/s, Loss after step 61=3.17, Cartesian cost Scale=0.37]"
     ]
    },
    {
     "name": "stderr",
     "output_type": "stream",
     "text": [
      "\r",
      " 61%|██████    | 61/100 [00:37<00:04,  8.11it/s, Loss after step 62=3.14, Cartesian cost Scale=0.4] "
     ]
    },
    {
     "name": "stderr",
     "output_type": "stream",
     "text": [
      "\r",
      " 62%|██████▏   | 62/100 [00:37<00:04,  8.05it/s, Loss after step 62=3.14, Cartesian cost Scale=0.4]"
     ]
    },
    {
     "name": "stderr",
     "output_type": "stream",
     "text": [
      "\r",
      " 62%|██████▏   | 62/100 [00:37<00:04,  8.05it/s, Loss after step 63=3.15, Cartesian cost Scale=0.43]"
     ]
    },
    {
     "name": "stderr",
     "output_type": "stream",
     "text": [
      "\r",
      " 63%|██████▎   | 63/100 [00:37<00:04,  8.13it/s, Loss after step 63=3.15, Cartesian cost Scale=0.43]"
     ]
    },
    {
     "name": "stderr",
     "output_type": "stream",
     "text": [
      "\r",
      " 63%|██████▎   | 63/100 [00:38<00:04,  8.13it/s, Loss after step 64=3.15, Cartesian cost Scale=0.47]"
     ]
    },
    {
     "name": "stderr",
     "output_type": "stream",
     "text": [
      "\r",
      " 64%|██████▍   | 64/100 [00:38<00:04,  8.07it/s, Loss after step 64=3.15, Cartesian cost Scale=0.47]"
     ]
    },
    {
     "name": "stderr",
     "output_type": "stream",
     "text": [
      "\r",
      " 64%|██████▍   | 64/100 [00:38<00:04,  8.07it/s, Loss after step 65=3.16, Cartesian cost Scale=0.5] "
     ]
    },
    {
     "name": "stderr",
     "output_type": "stream",
     "text": [
      "\r",
      " 65%|██████▌   | 65/100 [00:38<00:04,  7.99it/s, Loss after step 65=3.16, Cartesian cost Scale=0.5]"
     ]
    },
    {
     "name": "stderr",
     "output_type": "stream",
     "text": [
      "\r",
      " 65%|██████▌   | 65/100 [00:38<00:04,  7.99it/s, Loss after step 66=3.15, Cartesian cost Scale=0.53]"
     ]
    },
    {
     "name": "stderr",
     "output_type": "stream",
     "text": [
      "\r",
      " 66%|██████▌   | 66/100 [00:38<00:04,  8.03it/s, Loss after step 66=3.15, Cartesian cost Scale=0.53]"
     ]
    },
    {
     "name": "stderr",
     "output_type": "stream",
     "text": [
      "\r",
      " 66%|██████▌   | 66/100 [00:38<00:04,  8.03it/s, Loss after step 67=3.19, Cartesian cost Scale=0.57]"
     ]
    },
    {
     "name": "stderr",
     "output_type": "stream",
     "text": [
      "\r",
      " 67%|██████▋   | 67/100 [00:38<00:04,  8.11it/s, Loss after step 67=3.19, Cartesian cost Scale=0.57]"
     ]
    },
    {
     "name": "stderr",
     "output_type": "stream",
     "text": [
      "\r",
      " 67%|██████▋   | 67/100 [00:38<00:04,  8.11it/s, Loss after step 68=3.14, Cartesian cost Scale=0.6] "
     ]
    },
    {
     "name": "stderr",
     "output_type": "stream",
     "text": [
      "\r",
      " 68%|██████▊   | 68/100 [00:38<00:03,  8.19it/s, Loss after step 68=3.14, Cartesian cost Scale=0.6]"
     ]
    },
    {
     "name": "stderr",
     "output_type": "stream",
     "text": [
      "\r",
      " 68%|██████▊   | 68/100 [00:38<00:03,  8.19it/s, Loss after step 69=3.13, Cartesian cost Scale=0.63]"
     ]
    },
    {
     "name": "stderr",
     "output_type": "stream",
     "text": [
      "\r",
      " 69%|██████▉   | 69/100 [00:38<00:03,  8.20it/s, Loss after step 69=3.13, Cartesian cost Scale=0.63]"
     ]
    },
    {
     "name": "stderr",
     "output_type": "stream",
     "text": [
      "\r",
      " 69%|██████▉   | 69/100 [00:38<00:03,  8.20it/s, Loss after step 70=3.12, Cartesian cost Scale=0.67]"
     ]
    },
    {
     "name": "stderr",
     "output_type": "stream",
     "text": [
      "\r",
      " 70%|███████   | 70/100 [00:38<00:03,  7.91it/s, Loss after step 70=3.12, Cartesian cost Scale=0.67]"
     ]
    },
    {
     "name": "stderr",
     "output_type": "stream",
     "text": [
      "\r",
      " 70%|███████   | 70/100 [00:38<00:03,  7.91it/s, Loss after step 71=3.14, Cartesian cost Scale=0.7] "
     ]
    },
    {
     "name": "stderr",
     "output_type": "stream",
     "text": [
      "\r",
      " 71%|███████   | 71/100 [00:38<00:03,  8.01it/s, Loss after step 71=3.14, Cartesian cost Scale=0.7]"
     ]
    },
    {
     "name": "stderr",
     "output_type": "stream",
     "text": [
      "\r",
      " 71%|███████   | 71/100 [00:39<00:03,  8.01it/s, Loss after step 72=3.1, Cartesian cost Scale=0.73]"
     ]
    },
    {
     "name": "stderr",
     "output_type": "stream",
     "text": [
      "\r",
      " 72%|███████▏  | 72/100 [00:39<00:03,  7.98it/s, Loss after step 72=3.1, Cartesian cost Scale=0.73]"
     ]
    },
    {
     "name": "stderr",
     "output_type": "stream",
     "text": [
      "\r",
      " 72%|███████▏  | 72/100 [00:39<00:03,  7.98it/s, Loss after step 73=3.15, Cartesian cost Scale=0.77]"
     ]
    },
    {
     "name": "stderr",
     "output_type": "stream",
     "text": [
      "\r",
      " 73%|███████▎  | 73/100 [00:39<00:03,  7.98it/s, Loss after step 73=3.15, Cartesian cost Scale=0.77]"
     ]
    },
    {
     "name": "stderr",
     "output_type": "stream",
     "text": [
      "\r",
      " 73%|███████▎  | 73/100 [00:39<00:03,  7.98it/s, Loss after step 74=3.12, Cartesian cost Scale=0.8] "
     ]
    },
    {
     "name": "stderr",
     "output_type": "stream",
     "text": [
      "\r",
      " 74%|███████▍  | 74/100 [00:39<00:03,  8.00it/s, Loss after step 74=3.12, Cartesian cost Scale=0.8]"
     ]
    },
    {
     "name": "stderr",
     "output_type": "stream",
     "text": [
      "\r",
      " 74%|███████▍  | 74/100 [00:39<00:03,  8.00it/s, Loss after step 75=3.1, Cartesian cost Scale=0.83]"
     ]
    },
    {
     "name": "stderr",
     "output_type": "stream",
     "text": [
      "\r",
      " 75%|███████▌  | 75/100 [00:39<00:03,  8.09it/s, Loss after step 75=3.1, Cartesian cost Scale=0.83]"
     ]
    },
    {
     "name": "stderr",
     "output_type": "stream",
     "text": [
      "\r",
      " 75%|███████▌  | 75/100 [00:39<00:03,  8.09it/s, Loss after step 76=3.08, Cartesian cost Scale=0.87]"
     ]
    },
    {
     "name": "stderr",
     "output_type": "stream",
     "text": [
      "\r",
      " 76%|███████▌  | 76/100 [00:39<00:02,  8.13it/s, Loss after step 76=3.08, Cartesian cost Scale=0.87]"
     ]
    },
    {
     "name": "stderr",
     "output_type": "stream",
     "text": [
      "\r",
      " 76%|███████▌  | 76/100 [00:39<00:02,  8.13it/s, Loss after step 77=3.08, Cartesian cost Scale=0.9] "
     ]
    },
    {
     "name": "stderr",
     "output_type": "stream",
     "text": [
      "\r",
      " 77%|███████▋  | 77/100 [00:39<00:02,  8.13it/s, Loss after step 77=3.08, Cartesian cost Scale=0.9]"
     ]
    },
    {
     "name": "stderr",
     "output_type": "stream",
     "text": [
      "\r",
      " 77%|███████▋  | 77/100 [00:39<00:02,  8.13it/s, Loss after step 78=3.11, Cartesian cost Scale=0.93]"
     ]
    },
    {
     "name": "stderr",
     "output_type": "stream",
     "text": [
      "\r",
      " 78%|███████▊  | 78/100 [00:39<00:02,  8.16it/s, Loss after step 78=3.11, Cartesian cost Scale=0.93]"
     ]
    },
    {
     "name": "stderr",
     "output_type": "stream",
     "text": [
      "\r",
      " 78%|███████▊  | 78/100 [00:39<00:02,  8.16it/s, Loss after step 79=3.09, Cartesian cost Scale=0.97]"
     ]
    },
    {
     "name": "stderr",
     "output_type": "stream",
     "text": [
      "\r",
      " 79%|███████▉  | 79/100 [00:39<00:02,  8.15it/s, Loss after step 79=3.09, Cartesian cost Scale=0.97]"
     ]
    },
    {
     "name": "stderr",
     "output_type": "stream",
     "text": [
      "\r",
      " 79%|███████▉  | 79/100 [00:40<00:02,  8.15it/s, Loss after step 80=3.09, Cartesian cost Scale=1]   "
     ]
    },
    {
     "name": "stderr",
     "output_type": "stream",
     "text": [
      "\r",
      " 80%|████████  | 80/100 [00:40<00:02,  8.24it/s, Loss after step 80=3.09, Cartesian cost Scale=1]"
     ]
    },
    {
     "name": "stderr",
     "output_type": "stream",
     "text": [
      "\r",
      " 80%|████████  | 80/100 [00:40<00:02,  8.24it/s, Loss after step 81=3.03, Cartesian cost Scale=1]"
     ]
    },
    {
     "name": "stderr",
     "output_type": "stream",
     "text": [
      "\r",
      " 81%|████████  | 81/100 [00:40<00:02,  8.28it/s, Loss after step 81=3.03, Cartesian cost Scale=1]"
     ]
    },
    {
     "name": "stderr",
     "output_type": "stream",
     "text": [
      "\r",
      " 81%|████████  | 81/100 [00:40<00:02,  8.28it/s, Loss after step 82=3.07, Cartesian cost Scale=1]"
     ]
    },
    {
     "name": "stderr",
     "output_type": "stream",
     "text": [
      "\r",
      " 82%|████████▏ | 82/100 [00:40<00:02,  8.29it/s, Loss after step 82=3.07, Cartesian cost Scale=1]"
     ]
    },
    {
     "name": "stderr",
     "output_type": "stream",
     "text": [
      "\r",
      " 82%|████████▏ | 82/100 [00:40<00:02,  8.29it/s, Loss after step 83=3.05, Cartesian cost Scale=1]"
     ]
    },
    {
     "name": "stderr",
     "output_type": "stream",
     "text": [
      "\r",
      " 83%|████████▎ | 83/100 [00:40<00:02,  8.30it/s, Loss after step 83=3.05, Cartesian cost Scale=1]"
     ]
    },
    {
     "name": "stderr",
     "output_type": "stream",
     "text": [
      "\r",
      " 83%|████████▎ | 83/100 [00:40<00:02,  8.30it/s, Loss after step 84=3.07, Cartesian cost Scale=1]"
     ]
    },
    {
     "name": "stderr",
     "output_type": "stream",
     "text": [
      "\r",
      " 84%|████████▍ | 84/100 [00:40<00:01,  8.14it/s, Loss after step 84=3.07, Cartesian cost Scale=1]"
     ]
    },
    {
     "name": "stderr",
     "output_type": "stream",
     "text": [
      "\r",
      " 84%|████████▍ | 84/100 [00:40<00:01,  8.14it/s, Loss after step 85=3.04, Cartesian cost Scale=1]"
     ]
    },
    {
     "name": "stderr",
     "output_type": "stream",
     "text": [
      "\r",
      " 85%|████████▌ | 85/100 [00:40<00:01,  8.14it/s, Loss after step 85=3.04, Cartesian cost Scale=1]"
     ]
    },
    {
     "name": "stderr",
     "output_type": "stream",
     "text": [
      "\r",
      " 85%|████████▌ | 85/100 [00:40<00:01,  8.14it/s, Loss after step 86=3.07, Cartesian cost Scale=1]"
     ]
    },
    {
     "name": "stderr",
     "output_type": "stream",
     "text": [
      "\r",
      " 86%|████████▌ | 86/100 [00:40<00:01,  7.77it/s, Loss after step 86=3.07, Cartesian cost Scale=1]"
     ]
    },
    {
     "name": "stderr",
     "output_type": "stream",
     "text": [
      "\r",
      " 86%|████████▌ | 86/100 [00:40<00:01,  7.77it/s, Loss after step 87=3.05, Cartesian cost Scale=1]"
     ]
    },
    {
     "name": "stderr",
     "output_type": "stream",
     "text": [
      "\r",
      " 87%|████████▋ | 87/100 [00:40<00:01,  7.95it/s, Loss after step 87=3.05, Cartesian cost Scale=1]"
     ]
    },
    {
     "name": "stderr",
     "output_type": "stream",
     "text": [
      "\r",
      " 87%|████████▋ | 87/100 [00:41<00:01,  7.95it/s, Loss after step 88=2.99, Cartesian cost Scale=1]"
     ]
    },
    {
     "name": "stderr",
     "output_type": "stream",
     "text": [
      "\r",
      " 88%|████████▊ | 88/100 [00:41<00:01,  7.83it/s, Loss after step 88=2.99, Cartesian cost Scale=1]"
     ]
    },
    {
     "name": "stderr",
     "output_type": "stream",
     "text": [
      "\r",
      " 88%|████████▊ | 88/100 [00:41<00:01,  7.83it/s, Loss after step 89=3.03, Cartesian cost Scale=1]"
     ]
    },
    {
     "name": "stderr",
     "output_type": "stream",
     "text": [
      "\r",
      " 89%|████████▉ | 89/100 [00:41<00:01,  7.69it/s, Loss after step 89=3.03, Cartesian cost Scale=1]"
     ]
    },
    {
     "name": "stderr",
     "output_type": "stream",
     "text": [
      "\r",
      " 89%|████████▉ | 89/100 [00:41<00:01,  7.69it/s, Loss after step 90=2.98, Cartesian cost Scale=1]"
     ]
    },
    {
     "name": "stderr",
     "output_type": "stream",
     "text": [
      "\r",
      " 90%|█████████ | 90/100 [00:41<00:01,  7.82it/s, Loss after step 90=2.98, Cartesian cost Scale=1]"
     ]
    },
    {
     "name": "stderr",
     "output_type": "stream",
     "text": [
      "\r",
      " 90%|█████████ | 90/100 [00:41<00:01,  7.82it/s, Loss after step 91=2.94, Cartesian cost Scale=1]"
     ]
    },
    {
     "name": "stderr",
     "output_type": "stream",
     "text": [
      "\r",
      " 91%|█████████ | 91/100 [00:41<00:01,  7.75it/s, Loss after step 91=2.94, Cartesian cost Scale=1]"
     ]
    },
    {
     "name": "stderr",
     "output_type": "stream",
     "text": [
      "\r",
      " 91%|█████████ | 91/100 [00:41<00:01,  7.75it/s, Loss after step 92=2.96, Cartesian cost Scale=1]"
     ]
    },
    {
     "name": "stderr",
     "output_type": "stream",
     "text": [
      "\r",
      " 92%|█████████▏| 92/100 [00:41<00:01,  7.87it/s, Loss after step 92=2.96, Cartesian cost Scale=1]"
     ]
    },
    {
     "name": "stderr",
     "output_type": "stream",
     "text": [
      "\r",
      " 92%|█████████▏| 92/100 [00:41<00:01,  7.87it/s, Loss after step 93=2.96, Cartesian cost Scale=1]"
     ]
    },
    {
     "name": "stderr",
     "output_type": "stream",
     "text": [
      "\r",
      " 93%|█████████▎| 93/100 [00:41<00:00,  8.10it/s, Loss after step 93=2.96, Cartesian cost Scale=1]"
     ]
    },
    {
     "name": "stderr",
     "output_type": "stream",
     "text": [
      "\r",
      " 93%|█████████▎| 93/100 [00:41<00:00,  8.10it/s, Loss after step 94=2.94, Cartesian cost Scale=1]"
     ]
    },
    {
     "name": "stderr",
     "output_type": "stream",
     "text": [
      "\r",
      " 94%|█████████▍| 94/100 [00:41<00:00,  8.19it/s, Loss after step 94=2.94, Cartesian cost Scale=1]"
     ]
    },
    {
     "name": "stderr",
     "output_type": "stream",
     "text": [
      "\r",
      " 94%|█████████▍| 94/100 [00:41<00:00,  8.19it/s, Loss after step 95=2.94, Cartesian cost Scale=1]"
     ]
    },
    {
     "name": "stderr",
     "output_type": "stream",
     "text": [
      "\r",
      " 95%|█████████▌| 95/100 [00:41<00:00,  8.09it/s, Loss after step 95=2.94, Cartesian cost Scale=1]"
     ]
    },
    {
     "name": "stderr",
     "output_type": "stream",
     "text": [
      "\r",
      " 95%|█████████▌| 95/100 [00:42<00:00,  8.09it/s, Loss after step 96=2.87, Cartesian cost Scale=1]"
     ]
    },
    {
     "name": "stderr",
     "output_type": "stream",
     "text": [
      "\r",
      " 96%|█████████▌| 96/100 [00:42<00:00,  7.93it/s, Loss after step 96=2.87, Cartesian cost Scale=1]"
     ]
    },
    {
     "name": "stderr",
     "output_type": "stream",
     "text": [
      "\r",
      " 96%|█████████▌| 96/100 [00:42<00:00,  7.93it/s, Loss after step 97=2.93, Cartesian cost Scale=1]"
     ]
    },
    {
     "name": "stderr",
     "output_type": "stream",
     "text": [
      "\r",
      " 97%|█████████▋| 97/100 [00:42<00:00,  7.87it/s, Loss after step 97=2.93, Cartesian cost Scale=1]"
     ]
    },
    {
     "name": "stderr",
     "output_type": "stream",
     "text": [
      "\r",
      " 97%|█████████▋| 97/100 [00:42<00:00,  7.87it/s, Loss after step 98=2.89, Cartesian cost Scale=1]"
     ]
    },
    {
     "name": "stderr",
     "output_type": "stream",
     "text": [
      "\r",
      " 98%|█████████▊| 98/100 [00:42<00:00,  7.76it/s, Loss after step 98=2.89, Cartesian cost Scale=1]"
     ]
    },
    {
     "name": "stderr",
     "output_type": "stream",
     "text": [
      "\r",
      " 98%|█████████▊| 98/100 [00:42<00:00,  7.76it/s, Loss after step 99=2.92, Cartesian cost Scale=1]"
     ]
    },
    {
     "name": "stderr",
     "output_type": "stream",
     "text": [
      "\r",
      " 99%|█████████▉| 99/100 [00:42<00:00,  7.44it/s, Loss after step 99=2.92, Cartesian cost Scale=1]"
     ]
    },
    {
     "name": "stderr",
     "output_type": "stream",
     "text": [
      "\r",
      " 99%|█████████▉| 99/100 [00:42<00:00,  7.44it/s, Loss after step 100=2.88, Cartesian cost Scale=1]"
     ]
    },
    {
     "name": "stderr",
     "output_type": "stream",
     "text": [
      "\r",
      "100%|██████████| 100/100 [00:42<00:00,  7.58it/s, Loss after step 100=2.88, Cartesian cost Scale=1]"
     ]
    },
    {
     "name": "stderr",
     "output_type": "stream",
     "text": [
      "\r",
      "100%|██████████| 100/100 [00:42<00:00,  2.35it/s, Loss after step 100=2.88, Cartesian cost Scale=1]"
     ]
    },
    {
     "name": "stderr",
     "output_type": "stream",
     "text": [
      "\n"
     ]
    },
    {
     "name": "stderr",
     "output_type": "stream",
     "text": [
      "WARNING:absl:Function `_wrapped_model` contains input name(s) args_0 with unsupported characters which will be renamed to args_0_6 in the SavedModel.\n"
     ]
    },
    {
     "name": "stderr",
     "output_type": "stream",
     "text": [
      "WARNING:absl:Found untraced functions such as _update_step_xla while saving (showing 1 of 1). These functions will not be directly callable after loading.\n"
     ]
    },
    {
     "name": "stderr",
     "output_type": "stream",
     "text": [
      "WARNING:absl:Function `_wrapped_model` contains input name(s) args_0 with unsupported characters which will be renamed to args_0_4 in the SavedModel.\n"
     ]
    },
    {
     "name": "stderr",
     "output_type": "stream",
     "text": [
      "WARNING:absl:Function `_wrapped_model` contains input name(s) Decoder_Input with unsupported characters which will be renamed to decoder_input in the SavedModel.\n"
     ]
    }
   ],
   "source": [
    "emap.train()"
   ]
  },
  {
   "cell_type": "markdown",
   "metadata": {},
   "source": [
    "## Plot the result\n",
    "\n",
    "In the result (longer training would be beneficial here), the projection area of asp7 and glu7 are separated."
   ]
  },
  {
   "cell_type": "code",
   "execution_count": 9,
   "metadata": {
    "execution": {
     "iopub.execute_input": "2023-02-02T11:21:43.674973Z",
     "iopub.status.busy": "2023-02-02T11:21:43.674093Z",
     "iopub.status.idle": "2023-02-02T11:21:44.665230Z",
     "shell.execute_reply": "2023-02-02T11:21:44.664042Z"
    }
   },
   "outputs": [
    {
     "data": {
      "text/plain": [
       "<matplotlib.legend.Legend at 0x7ff708707e80>"
      ]
     },
     "execution_count": 9,
     "metadata": {},
     "output_type": "execute_result"
    },
    {
     "data": {
      "image/png": "[encoded data removed]",
      "text/plain": [
       "<Figure size 640x480 with 1 Axes>"
      ]
     },
     "metadata": {},
     "output_type": "display_data"
    }
   ],
   "source": [
    "import matplotlib.pyplot as plt\n",
    "\n",
    "fig, ax = plt.subplots()\n",
    "\n",
    "# generate ids, based on the names of the trajs\n",
    "ids = (trajs.name_arr == \"asp7\").astype(int)\n",
    "\n",
    "ax.scatter(*emap.encode()[ids == 0].T, label=\"glu7\")\n",
    "ax.scatter(*emap.encode()[ids == 1].T, label=\"asp7\")\n",
    "\n",
    "ax.legend()"
   ]
  },
  {
   "cell_type": "markdown",
   "metadata": {},
   "source": [
    "## Create a new trajectory\n",
    "\n",
    "Using the `InteractivePlotting` class, we can easily generate new molecular conformations by using the decoder part of the neural network. If you're running an interactive notebook, you can use the notebook or qt5 backend and play around with the InteractivePlotting."
   ]
  },
  {
   "cell_type": "code",
   "execution_count": 10,
   "metadata": {
    "execution": {
     "iopub.execute_input": "2023-02-02T11:21:44.669263Z",
     "iopub.status.busy": "2023-02-02T11:21:44.669027Z",
     "iopub.status.idle": "2023-02-02T11:21:45.265238Z",
     "shell.execute_reply": "2023-02-02T11:21:45.264474Z"
    }
   },
   "outputs": [
    {
     "name": "stdout",
     "output_type": "stream",
     "text": [
      "Using the `train_data` attribute of `autoencoder`.\n"
     ]
    },
    {
     "data": {
      "image/png": "[encoded data removed]",
      "text/plain": [
       "<Figure size 1000x800 with 3 Axes>"
      ]
     },
     "metadata": {},
     "output_type": "display_data"
    }
   ],
   "source": [
    "# %matplotlib qt5\n",
    "%matplotlib inline\n",
    "sess = em.InteractivePlotting(emap)"
   ]
  },
  {
   "cell_type": "markdown",
   "metadata": {},
   "source": [
    "For static notebooks, we load the points along the path and generate new molecular conformations from them."
   ]
  },
  {
   "cell_type": "code",
   "execution_count": 11,
   "metadata": {
    "execution": {
     "iopub.execute_input": "2023-02-02T11:21:45.269825Z",
     "iopub.status.busy": "2023-02-02T11:21:45.269322Z",
     "iopub.status.idle": "2023-02-02T11:21:46.648206Z",
     "shell.execute_reply": "2023-02-02T11:21:46.647246Z"
    }
   },
   "outputs": [
    {
     "name": "stderr",
     "output_type": "stream",
     "text": [
      "/opt/hostedtoolcache/Python/3.9.16/x64/lib/python3.9/site-packages/MDAnalysis/analysis/base.py:438: UserWarning: Reader has no dt information, set to 1.0 ps\n",
      "  self.times[i] = ts.time\n"
     ]
    }
   ],
   "source": [
    "sess.statusmenu.status = \"Bezier\"\n",
    "sess.ball_and_stick = True\n",
    "sess.path_points = np.load(\"path.npy\")\n",
    "sess.tool.ind = np.load(\"path.npy\")\n",
    "sess.set_points()"
   ]
  },
  {
   "cell_type": "markdown",
   "metadata": {},
   "source": [
    "View the generated traj:"
   ]
  },
  {
   "cell_type": "code",
   "execution_count": 12,
   "metadata": {
    "execution": {
     "iopub.execute_input": "2023-02-02T11:21:46.661009Z",
     "iopub.status.busy": "2023-02-02T11:21:46.660572Z",
     "iopub.status.idle": "2023-02-02T11:21:46.712197Z",
     "shell.execute_reply": "2023-02-02T11:21:46.711429Z"
    }
   },
   "outputs": [
    {
     "data": {
      "application/vnd.jupyter.widget-view+json": {
       "model_id": "ec8d8079c1eb48a9be255f7868692eb8",
       "version_major": 2,
       "version_minor": 0
      },
      "text/plain": [
       "NGLWidget(max_frame=199)"
      ]
     },
     "metadata": {},
     "output_type": "display_data"
    }
   ],
   "source": [
    "sess.view"
   ]
  },
  {
   "cell_type": "code",
   "execution_count": null,
   "metadata": {},
   "outputs": [],
   "source": []
  }
 ],
 "metadata": {
  "language_info": {
   "codemirror_mode": {
    "name": "ipython",
    "version": 3
   },
   "file_extension": ".py",
   "mimetype": "text/x-python",
   "name": "python",
   "nbconvert_exporter": "python",
   "pygments_lexer": "ipython3",
   "version": "3.9.16"
  },
  "widgets": {
   "application/vnd.jupyter.widget-state+json": {
    "state": {
     "0b8ce14e4d8a4e6fb6a71c1e91a30fdd": {
      "model_module": "@jupyter-widgets/controls",
      "model_module_version": "1.5.0",
      "model_name": "LinkModel",
      "state": {
       "_model_module": "@jupyter-widgets/controls",
       "_model_module_version": "1.5.0",
       "_model_name": "LinkModel",
       "_view_count": null,
       "_view_module": "@jupyter-widgets/controls",
       "_view_module_version": "1.5.0",
       "_view_name": null,
       "source": [
        "IPY_MODEL_b297fbdf9e4843bcb3f069bae7669368",
        "max"
       ],
       "target": [
        "IPY_MODEL_ec8d8079c1eb48a9be255f7868692eb8",
        "max_frame"
       ]
      }
     },
     "19ca3c0a5eb54c2d9fdbbd1d36ec2b9d": {
      "model_module": "@jupyter-widgets/controls",
      "model_module_version": "1.5.0",
      "model_name": "ButtonModel",
      "state": {
       "_dom_classes": [],
       "_model_module": "@jupyter-widgets/controls",
       "_model_module_version": "1.5.0",
       "_model_name": "ButtonModel",
       "_view_count": null,
       "_view_module": "@jupyter-widgets/controls",
       "_view_module_version": "1.5.0",
       "_view_name": "ButtonView",
       "button_style": "",
       "description": "",
       "disabled": false,
       "icon": "compress",
       "layout": "IPY_MODEL_54d05f01fd5a4225bf61380ee129a854",
       "style": "IPY_MODEL_79d35a048ad4424ba678fb55e9ce80f4",
       "tooltip": ""
      }
     },
     "19d00621055d4409ac9d6096962a931a": {
      "model_module": "@jupyter-widgets/controls",
      "model_module_version": "1.5.0",
      "model_name": "SliderStyleModel",
      "state": {
       "_model_module": "@jupyter-widgets/controls",
       "_model_module_version": "1.5.0",
       "_model_name": "SliderStyleModel",
       "_view_count": null,
       "_view_module": "@jupyter-widgets/base",
       "_view_module_version": "1.2.0",
       "_view_name": "StyleView",
       "description_width": "",
       "handle_color": null
      }
     },
     "2bd2997a6b424d1b8954b577e695ec20": {
      "model_module": "@jupyter-widgets/controls",
      "model_module_version": "1.5.0",
      "model_name": "LinkModel",
      "state": {
       "_model_module": "@jupyter-widgets/controls",
       "_model_module_version": "1.5.0",
       "_model_name": "LinkModel",
       "_view_count": null,
       "_view_module": "@jupyter-widgets/controls",
       "_view_module_version": "1.5.0",
       "_view_name": null,
       "source": [
        "IPY_MODEL_e09c298152494c5ab2c3d38023998acb",
        "value"
       ],
       "target": [
        "IPY_MODEL_b297fbdf9e4843bcb3f069bae7669368",
        "value"
       ]
      }
     },
     "2f8e829923034f2ca71921b2f8269b39": {
      "model_module": "@jupyter-widgets/controls",
      "model_module_version": "1.5.0",
      "model_name": "DescriptionStyleModel",
      "state": {
       "_model_module": "@jupyter-widgets/controls",
       "_model_module_version": "1.5.0",
       "_model_name": "DescriptionStyleModel",
       "_view_count": null,
       "_view_module": "@jupyter-widgets/base",
       "_view_module_version": "1.2.0",
       "_view_name": "StyleView",
       "description_width": ""
      }
     },
     "3fb3d173285a48c59519ad07da29594a": {
      "model_module": "@jupyter-widgets/base",
      "model_module_version": "1.2.0",
      "model_name": "LayoutModel",
      "state": {
       "_model_module": "@jupyter-widgets/base",
       "_model_module_version": "1.2.0",
       "_model_name": "LayoutModel",
       "_view_count": null,
       "_view_module": "@jupyter-widgets/base",
       "_view_module_version": "1.2.0",
       "_view_name": "LayoutView",
       "align_content": null,
       "align_items": null,
       "align_self": null,
       "border": null,
       "bottom": null,
       "display": null,
       "flex": null,
       "flex_flow": null,
       "grid_area": null,
       "grid_auto_columns": null,
       "grid_auto_flow": null,
       "grid_auto_rows": null,
       "grid_column": null,
       "grid_gap": null,
       "grid_row": null,
       "grid_template_areas": null,
       "grid_template_columns": null,
       "grid_template_rows": null,
       "height": null,
       "justify_content": null,
       "justify_items": null,
       "left": null,
       "margin": null,
       "max_height": null,
       "max_width": null,
       "min_height": null,
       "min_width": null,
       "object_fit": null,
       "object_position": null,
       "order": null,
       "overflow": null,
       "overflow_x": null,
       "overflow_y": null,
       "padding": null,
       "right": null,
       "top": null,
       "visibility": null,
       "width": null
      }
     },
     "4105e2e7b07a4bf7adb7a828bee47fa3": {
      "model_module": "@jupyter-widgets/base",
      "model_module_version": "1.2.0",
      "model_name": "LayoutModel",
      "state": {
       "_model_module": "@jupyter-widgets/base",
       "_model_module_version": "1.2.0",
       "_model_name": "LayoutModel",
       "_view_count": null,
       "_view_module": "@jupyter-widgets/base",
       "_view_module_version": "1.2.0",
       "_view_name": "LayoutView",
       "align_content": null,
       "align_items": null,
       "align_self": null,
       "border": null,
       "bottom": null,
       "display": null,
       "flex": null,
       "flex_flow": null,
       "grid_area": null,
       "grid_auto_columns": null,
       "grid_auto_flow": null,
       "grid_auto_rows": null,
       "grid_column": null,
       "grid_gap": null,
       "grid_row": null,
       "grid_template_areas": null,
       "grid_template_columns": null,
       "grid_template_rows": null,
       "height": null,
       "justify_content": null,
       "justify_items": null,
       "left": null,
       "margin": null,
       "max_height": null,
       "max_width": null,
       "min_height": null,
       "min_width": null,
       "object_fit": null,
       "object_position": null,
       "order": null,
       "overflow": null,
       "overflow_x": null,
       "overflow_y": null,
       "padding": null,
       "right": null,
       "top": null,
       "visibility": null,
       "width": null
      }
     },
     "54d05f01fd5a4225bf61380ee129a854": {
      "model_module": "@jupyter-widgets/base",
      "model_module_version": "1.2.0",
      "model_name": "LayoutModel",
      "state": {
       "_model_module": "@jupyter-widgets/base",
       "_model_module_version": "1.2.0",
       "_model_name": "LayoutModel",
       "_view_count": null,
       "_view_module": "@jupyter-widgets/base",
       "_view_module_version": "1.2.0",
       "_view_name": "LayoutView",
       "align_content": null,
       "align_items": null,
       "align_self": null,
       "border": null,
       "bottom": null,
       "display": null,
       "flex": null,
       "flex_flow": null,
       "grid_area": null,
       "grid_auto_columns": null,
       "grid_auto_flow": null,
       "grid_auto_rows": null,
       "grid_column": null,
       "grid_gap": null,
       "grid_row": null,
       "grid_template_areas": null,
       "grid_template_columns": null,
       "grid_template_rows": null,
       "height": null,
       "justify_content": null,
       "justify_items": null,
       "left": null,
       "margin": null,
       "max_height": null,
       "max_width": null,
       "min_height": null,
       "min_width": null,
       "object_fit": null,
       "object_position": null,
       "order": null,
       "overflow": null,
       "overflow_x": null,
       "overflow_y": null,
       "padding": null,
       "right": null,
       "top": null,
       "visibility": null,
       "width": "34px"
      }
     },
     "65cb592e710e48cb98c234e84b65df7d": {
      "buffers": [
       {
        "data": "",
        "encoding": "base64",
        "path": [
         "value"
        ]
       }
      ],
      "model_module": "@jupyter-widgets/controls",
      "model_module_version": "1.5.0",
      "model_name": "ImageModel",
      "state": {
       "_dom_classes": [],
       "_model_module": "@jupyter-widgets/controls",
       "_model_module_version": "1.5.0",
       "_model_name": "ImageModel",
       "_view_count": null,
       "_view_module": "@jupyter-widgets/controls",
       "_view_module_version": "1.5.0",
       "_view_name": "ImageView",
       "format": "png",
       "height": "",
       "layout": "IPY_MODEL_e63b31caaff242a8ba1759caa2a68215",
       "width": "900.0"
      }
     },
     "79d35a048ad4424ba678fb55e9ce80f4": {
      "model_module": "@jupyter-widgets/controls",
      "model_module_version": "1.5.0",
      "model_name": "ButtonStyleModel",
      "state": {
       "_model_module": "@jupyter-widgets/controls",
       "_model_module_version": "1.5.0",
       "_model_name": "ButtonStyleModel",
       "_view_count": null,
       "_view_module": "@jupyter-widgets/base",
       "_view_module_version": "1.2.0",
       "_view_name": "StyleView",
       "button_color": null,
       "font_weight": ""
      }
     },
     "86ff303a5c8248299653ef6a45a63d7f": {
      "model_module": "nglview-js-widgets",
      "model_module_version": "3.0.1",
      "model_name": "ColormakerRegistryModel",
      "state": {
       "_dom_classes": [],
       "_model_module": "nglview-js-widgets",
       "_model_module_version": "3.0.1",
       "_model_name": "ColormakerRegistryModel",
       "_msg_ar": [],
       "_msg_q": [],
       "_ready": false,
       "_view_count": null,
       "_view_module": "nglview-js-widgets",
       "_view_module_version": "3.0.1",
       "_view_name": "ColormakerRegistryView",
       "layout": "IPY_MODEL_3fb3d173285a48c59519ad07da29594a"
      }
     },
     "a8e26b1ed4384c9ca60a31a2876df642": {
      "model_module": "@jupyter-widgets/controls",
      "model_module_version": "1.5.0",
      "model_name": "LinkModel",
      "state": {
       "_model_module": "@jupyter-widgets/controls",
       "_model_module_version": "1.5.0",
       "_model_name": "LinkModel",
       "_view_count": null,
       "_view_module": "@jupyter-widgets/controls",
       "_view_module_version": "1.5.0",
       "_view_name": null,
       "source": [
        "IPY_MODEL_e09c298152494c5ab2c3d38023998acb",
        "max"
       ],
       "target": [
        "IPY_MODEL_ec8d8079c1eb48a9be255f7868692eb8",
        "max_frame"
       ]
      }
     },
     "b297fbdf9e4843bcb3f069bae7669368": {
      "model_module": "@jupyter-widgets/controls",
      "model_module_version": "1.5.0",
      "model_name": "IntSliderModel",
      "state": {
       "_dom_classes": [],
       "_model_module": "@jupyter-widgets/controls",
       "_model_module_version": "1.5.0",
       "_model_name": "IntSliderModel",
       "_view_count": null,
       "_view_module": "@jupyter-widgets/controls",
       "_view_module_version": "1.5.0",
       "_view_name": "IntSliderView",
       "continuous_update": true,
       "description": "",
       "description_tooltip": null,
       "disabled": false,
       "layout": "IPY_MODEL_b89d0389bdd64945aafce43ba7e123ee",
       "max": 199,
       "min": 0,
       "orientation": "horizontal",
       "readout": true,
       "readout_format": "d",
       "step": 1,
       "style": "IPY_MODEL_19d00621055d4409ac9d6096962a931a",
       "value": 0
      }
     },
     "b41afd782f304a83bc4c03242a0e79e4": {
      "model_module": "@jupyter-widgets/controls",
      "model_module_version": "1.5.0",
      "model_name": "LinkModel",
      "state": {
       "_model_module": "@jupyter-widgets/controls",
       "_model_module_version": "1.5.0",
       "_model_name": "LinkModel",
       "_view_count": null,
       "_view_module": "@jupyter-widgets/controls",
       "_view_module_version": "1.5.0",
       "_view_name": null,
       "source": [
        "IPY_MODEL_e09c298152494c5ab2c3d38023998acb",
        "value"
       ],
       "target": [
        "IPY_MODEL_ec8d8079c1eb48a9be255f7868692eb8",
        "frame"
       ]
      }
     },
     "b89d0389bdd64945aafce43ba7e123ee": {
      "model_module": "@jupyter-widgets/base",
      "model_module_version": "1.2.0",
      "model_name": "LayoutModel",
      "state": {
       "_model_module": "@jupyter-widgets/base",
       "_model_module_version": "1.2.0",
       "_model_name": "LayoutModel",
       "_view_count": null,
       "_view_module": "@jupyter-widgets/base",
       "_view_module_version": "1.2.0",
       "_view_name": "LayoutView",
       "align_content": null,
       "align_items": null,
       "align_self": null,
       "border": null,
       "bottom": null,
       "display": null,
       "flex": null,
       "flex_flow": null,
       "grid_area": null,
       "grid_auto_columns": null,
       "grid_auto_flow": null,
       "grid_auto_rows": null,
       "grid_column": null,
       "grid_gap": null,
       "grid_row": null,
       "grid_template_areas": null,
       "grid_template_columns": null,
       "grid_template_rows": null,
       "height": null,
       "justify_content": null,
       "justify_items": null,
       "left": null,
       "margin": null,
       "max_height": null,
       "max_width": null,
       "min_height": null,
       "min_width": null,
       "object_fit": null,
       "object_position": null,
       "order": null,
       "overflow": null,
       "overflow_x": null,
       "overflow_y": null,
       "padding": null,
       "right": null,
       "top": null,
       "visibility": null,
       "width": null
      }
     },
     "c7b3fe8e789b43d0b1d6b5d1cfa1a517": {
      "model_module": "@jupyter-widgets/controls",
      "model_module_version": "1.5.0",
      "model_name": "HBoxModel",
      "state": {
       "_dom_classes": [],
       "_model_module": "@jupyter-widgets/controls",
       "_model_module_version": "1.5.0",
       "_model_name": "HBoxModel",
       "_view_count": null,
       "_view_module": "@jupyter-widgets/controls",
       "_view_module_version": "1.5.0",
       "_view_name": "HBoxView",
       "box_style": "",
       "children": [
        "IPY_MODEL_e09c298152494c5ab2c3d38023998acb",
        "IPY_MODEL_b297fbdf9e4843bcb3f069bae7669368"
       ],
       "layout": "IPY_MODEL_4105e2e7b07a4bf7adb7a828bee47fa3"
      }
     },
     "de54681ca7d8446dad86971e0f5eb4e3": {
      "model_module": "@jupyter-widgets/base",
      "model_module_version": "1.2.0",
      "model_name": "LayoutModel",
      "state": {
       "_model_module": "@jupyter-widgets/base",
       "_model_module_version": "1.2.0",
       "_model_name": "LayoutModel",
       "_view_count": null,
       "_view_module": "@jupyter-widgets/base",
       "_view_module_version": "1.2.0",
       "_view_name": "LayoutView",
       "align_content": null,
       "align_items": null,
       "align_self": null,
       "border": null,
       "bottom": null,
       "display": null,
       "flex": null,
       "flex_flow": null,
       "grid_area": null,
       "grid_auto_columns": null,
       "grid_auto_flow": null,
       "grid_auto_rows": null,
       "grid_column": null,
       "grid_gap": null,
       "grid_row": null,
       "grid_template_areas": null,
       "grid_template_columns": null,
       "grid_template_rows": null,
       "height": null,
       "justify_content": null,
       "justify_items": null,
       "left": null,
       "margin": null,
       "max_height": null,
       "max_width": null,
       "min_height": null,
       "min_width": null,
       "object_fit": null,
       "object_position": null,
       "order": null,
       "overflow": null,
       "overflow_x": null,
       "overflow_y": null,
       "padding": null,
       "right": null,
       "top": null,
       "visibility": null,
       "width": null
      }
     },
     "e09c298152494c5ab2c3d38023998acb": {
      "model_module": "@jupyter-widgets/controls",
      "model_module_version": "1.5.0",
      "model_name": "PlayModel",
      "state": {
       "_dom_classes": [],
       "_model_module": "@jupyter-widgets/controls",
       "_model_module_version": "1.5.0",
       "_model_name": "PlayModel",
       "_playing": false,
       "_repeat": false,
       "_view_count": null,
       "_view_module": "@jupyter-widgets/controls",
       "_view_module_version": "1.5.0",
       "_view_name": "PlayView",
       "description": "",
       "description_tooltip": null,
       "disabled": false,
       "interval": 100,
       "layout": "IPY_MODEL_f4bd818c2e364ad6ac28330bc2bd4f17",
       "max": 199,
       "min": 0,
       "show_repeat": true,
       "step": 1,
       "style": "IPY_MODEL_2f8e829923034f2ca71921b2f8269b39",
       "value": 0
      }
     },
     "e63b31caaff242a8ba1759caa2a68215": {
      "model_module": "@jupyter-widgets/base",
      "model_module_version": "1.2.0",
      "model_name": "LayoutModel",
      "state": {
       "_model_module": "@jupyter-widgets/base",
       "_model_module_version": "1.2.0",
       "_model_name": "LayoutModel",
       "_view_count": null,
       "_view_module": "@jupyter-widgets/base",
       "_view_module_version": "1.2.0",
       "_view_name": "LayoutView",
       "align_content": null,
       "align_items": null,
       "align_self": null,
       "border": null,
       "bottom": null,
       "display": null,
       "flex": null,
       "flex_flow": null,
       "grid_area": null,
       "grid_auto_columns": null,
       "grid_auto_flow": null,
       "grid_auto_rows": null,
       "grid_column": null,
       "grid_gap": null,
       "grid_row": null,
       "grid_template_areas": null,
       "grid_template_columns": null,
       "grid_template_rows": null,
       "height": null,
       "justify_content": null,
       "justify_items": null,
       "left": null,
       "margin": null,
       "max_height": null,
       "max_width": null,
       "min_height": null,
       "min_width": null,
       "object_fit": null,
       "object_position": null,
       "order": null,
       "overflow": null,
       "overflow_x": null,
       "overflow_y": null,
       "padding": null,
       "right": null,
       "top": null,
       "visibility": null,
       "width": null
      }
     },
     "ec8d8079c1eb48a9be255f7868692eb8": {
      "model_module": "nglview-js-widgets",
      "model_module_version": "3.0.1",
      "model_name": "NGLModel",
      "state": {
       "_camera_orientation": [],
       "_camera_str": "orthographic",
       "_dom_classes": [],
       "_gui_theme": null,
       "_ibtn_fullscreen": "IPY_MODEL_19ca3c0a5eb54c2d9fdbbd1d36ec2b9d",
       "_igui": null,
       "_iplayer": "IPY_MODEL_c7b3fe8e789b43d0b1d6b5d1cfa1a517",
       "_model_module": "nglview-js-widgets",
       "_model_module_version": "3.0.1",
       "_model_name": "NGLModel",
       "_ngl_color_dict": {},
       "_ngl_coordinate_resource": {},
       "_ngl_full_stage_parameters": {},
       "_ngl_msg_archive": [
        {
         "args": [
          {
           "binary": false,
           "data": "TITLE     MDANALYSIS FRAME 0: Created by PDBWriter\nCRYST1    1.000    1.000    1.000  90.00  90.00  90.00 P 1           1\nREMARK     285 UNITARY VALUES FOR THE UNIT CELL AUTOMATICALLY SET\nREMARK     285 BY MDANALYSIS PDBWRITER BECAUSE UNIT CELL INFORMATION\nREMARK     285 WAS MISSING.\nREMARK     285 PROTEIN DATA BANK CONVENTIONS REQUIRE THAT\nREMARK     285 CRYST1 RECORD IS INCLUDED, BUT THE VALUES ON\nREMARK     285 THIS RECORD ARE MEANINGLESS.\nATOM      1  N   GLU A   1      32.450  37.400  14.970  1.00  0.00      A    N  \nATOM      2  H   GLU A   1      32.140  36.630  14.410  1.00  0.00      A    H  \nATOM      3  H2  GLU A   1      31.700  38.020  15.220  1.00  0.00      A    H  \nATOM      4  CA  GLU A   1      33.510  37.160  15.950  1.00  0.00      A    C  \nATOM      5  CB  GLU A   1      34.330  36.000  15.400  1.00  0.00      A    C  \nATOM      6  CG  GLU A   1      33.784  35.287  14.161  1.00  0.00      A    C  \nATOM      7  CD  GLU A   1      34.751  34.312  13.487  1.00  0.00      A    C  \nATOM      8  OE1 GLU A   1      35.948  34.299  13.757  1.00  0.00      A    O  \nATOM      9  OE2 GLU A   1      34.298  33.586  12.427  1.00  0.00      A    O  \nATOM     10  HE2 GLU A   1      35.081  33.165  11.970  1.00  0.00      A    H  \nATOM     11  C   GLU A   1      33.262  37.013  17.450  1.00  0.00      A    C  \nATOM     12  O   GLU A   1      34.160  37.285  18.248  1.00  0.00      A    O  \nATOM     13  N   GLU A   2      32.050  36.550  17.741  1.00  0.00      A    N  \nATOM     14  H   GLU A   2      31.300  36.862  17.154  1.00  0.00      A    H  \nATOM     15  CA  GLU A   2      31.805  35.541  18.780  1.00  0.00      A    C  \nATOM     16  CB  GLU A   2      33.051  35.515  19.672  1.00  0.00      A    C  \nATOM     17  CG  GLU A   2      33.532  36.929  20.017  1.00  0.00      A    C  \nATOM     18  CD  GLU A   2      34.871  36.819  20.743  1.00  0.00      A    C  \nATOM     19  OE1 GLU A   2      35.862  37.336  20.226  1.00  0.00      A    O  \nATOM     20  OE2 GLU A   2      34.947  36.347  22.020  1.00  0.00      A    O  \nATOM     21  HE2 GLU A   2      35.849  36.604  22.379  1.00  0.00      A    H  \nATOM     22  C   GLU A   2      32.239  35.580  17.312  1.00  0.00      A    C  \nATOM     23  O   GLU A   2      32.311  34.551  16.633  1.00  0.00      A    O  \nATOM     24  N   GLU A   3      32.448  36.785  16.808  1.00  0.00      A    N  \nATOM     25  H   GLU A   3      31.635  37.362  16.713  1.00  0.00      A    H  \nATOM     26  CA  GLU A   3      33.744  37.242  16.284  1.00  0.00      A    C  \nATOM     27  CB  GLU A   3      33.896  36.810  14.823  1.00  0.00      A    C  \nATOM     28  CG  GLU A   3      32.612  36.715  13.998  1.00  0.00      A    C  \nATOM     29  CD  GLU A   3      32.825  36.318  12.542  1.00  0.00      A    C  \nATOM     30  OE1 GLU A   3      33.676  35.492  12.223  1.00  0.00      A    O  \nATOM     31  OE2 GLU A   3      31.802  36.730  11.745  1.00  0.00      A    O  \nATOM     32  HE2 GLU A   3      32.152  36.832  10.809  1.00  0.00      A    H  \nATOM     33  C   GLU A   3      35.099  37.212  17.007  1.00  0.00      A    C  \nATOM     34  O   GLU A   3      35.903  38.120  16.841  1.00  0.00      A    O  \nATOM     35  N   GLU A   4      35.361  36.090  17.671  1.00  0.00      A    N  \nATOM     36  H   GLU A   4      35.116  35.938  18.625  1.00  0.00      A    H  \nATOM     37  CA  GLU A   4      36.128  35.014  17.035  1.00  0.00      A    C  \nATOM     38  CB  GLU A   4      37.591  35.450  16.931  1.00  0.00      A    C  \nATOM     39  CG  GLU A   4      37.674  36.893  16.425  1.00  0.00      A    C  \nATOM     40  CD  GLU A   4      38.944  37.659  16.817  1.00  0.00      A    C  \nATOM     41  OE1 GLU A   4      39.793  37.069  17.490  1.00  0.00      A    O  \nATOM     42  OE2 GLU A   4      39.043  38.924  16.337  1.00  0.00      A    O  \nATOM     43  HE2 GLU A   4      39.950  39.324  16.467  1.00  0.00      A    H  \nATOM     44  C   GLU A   4      35.732  34.358  15.702  1.00  0.00      A    C  \nATOM     45  O   GLU A   4      36.067  33.245  15.290  1.00  0.00      A    O  \nATOM     46  N   GLU A   5      34.951  35.106  14.942  1.00  0.00      A    N  \nATOM     47  H   GLU A   5      34.518  35.906  15.356  1.00  0.00      A    H  \nATOM     48  CA  GLU A   5      34.898  35.094  13.473  1.00  0.00      A    C  \nATOM     49  CB  GLU A   5      35.536  33.808  12.947  1.00  0.00      A    C  \nATOM     50  CG  GLU A   5      35.160  32.585  13.779  1.00  0.00      A    C  \nATOM     51  CD  GLU A   5      35.111  31.235  13.068  1.00  0.00      A    C  \nATOM     52  OE1 GLU A   5      35.145  30.162  13.663  1.00  0.00      A    O  \nATOM     53  OE2 GLU A   5      35.184  31.173  11.710  1.00  0.00      A    O  \nATOM     54  HE2 GLU A   5      34.968  30.239  11.425  1.00  0.00      A    H  \nATOM     55  C   GLU A   5      35.843  35.732  14.490  1.00  0.00      A    C  \nATOM     56  O   GLU A   5      35.657  36.867  14.948  1.00  0.00      A    O  \nATOM     57  N   GLU A   6      36.734  34.915  15.036  1.00  0.00      A    N  \nATOM     58  H   GLU A   6      37.137  34.221  14.443  1.00  0.00      A    H  \nATOM     59  CA  GLU A   6      37.224  34.941  16.425  1.00  0.00      A    C  \nATOM     60  CB  GLU A   6      36.397  34.107  17.399  1.00  0.00      A    C  \nATOM     61  CG  GLU A   6      35.448  33.072  16.793  1.00  0.00      A    C  \nATOM     62  CD  GLU A   6      34.425  32.625  17.845  1.00  0.00      A    C  \nATOM     63  OE1 GLU A   6      33.214  32.610  17.658  1.00  0.00      A    O  \nATOM     64  OE2 GLU A   6      35.041  32.344  19.031  1.00  0.00      A    O  \nATOM     65  HE2 GLU A   6      34.403  31.861  19.629  1.00  0.00      A    H  \nATOM     66  C   GLU A   6      37.977  36.009  17.227  1.00  0.00      A    C  \nATOM     67  O   GLU A   6      39.204  35.992  17.252  1.00  0.00      A    O  \nATOM     68  N   GLU A   7      37.297  37.036  17.729  1.00  0.00      A    N  \nATOM     69  H   GLU A   7      36.518  37.448  17.250  1.00  0.00      A    H  \nATOM     70  CA  GLU A   7      37.796  37.912  18.795  1.00  0.00      A    C  \nATOM     71  CB  GLU A   7      39.293  37.664  18.991  1.00  0.00      A    C  \nATOM     72  CG  GLU A   7      40.015  36.977  17.832  1.00  0.00      A    C  \nATOM     73  CD  GLU A   7      41.504  37.318  17.727  1.00  0.00      A    C  \nATOM     74  OE1 GLU A   7      41.988  38.371  18.148  1.00  0.00      A    O  \nATOM     75  OE2 GLU A   7      42.262  36.399  17.081  1.00  0.00      A    O  \nATOM     76  HE2 GLU A   7      43.122  36.910  17.151  1.00  0.00      A    H  \nATOM     77  C   GLU A   7      37.087  38.251  20.106  1.00  0.00      A    C  \nATOM     78  OXT GLU A   7      37.378  37.692  21.166  1.00  0.00      A    O  \nATOM     79  O   GLU A   7      36.124  39.203  20.031  1.00  0.00      A    O  \nATOM     80  HO  GLU A   7      35.841  39.277  20.987  1.00  0.00      A    H  \nEND\n",
           "type": "blob"
          }
         ],
         "kwargs": {
          "defaultRepresentation": true,
          "ext": "pdb",
          "name": "nglview.adaptor.MDAnalysisTrajectory"
         },
         "methodName": "loadFile",
         "reconstruc_color_scheme": false,
         "target": "Stage",
         "type": "call_method"
        },
        {
         "args": [],
         "component_index": 0,
         "kwargs": {},
         "methodName": "removeAllRepresentations",
         "reconstruc_color_scheme": false,
         "target": "compList",
         "type": "call_method"
        },
        {
         "args": [
          "ball+stick"
         ],
         "component_index": 0,
         "kwargs": {
          "sele": "all"
         },
         "methodName": "addRepresentation",
         "reconstruc_color_scheme": false,
         "target": "compList",
         "type": "call_method"
        }
       ],
       "_ngl_original_stage_parameters": {},
       "_ngl_repr_dict": {},
       "_ngl_serialize": false,
       "_ngl_version": "",
       "_ngl_view_id": [],
       "_player_dict": {},
       "_scene_position": {},
       "_scene_rotation": {},
       "_synced_model_ids": [],
       "_synced_repr_model_ids": [],
       "_view_count": null,
       "_view_height": "",
       "_view_module": "nglview-js-widgets",
       "_view_module_version": "3.0.1",
       "_view_name": "NGLView",
       "_view_width": "",
       "background": "white",
       "frame": 0,
       "gui_style": null,
       "layout": "IPY_MODEL_de54681ca7d8446dad86971e0f5eb4e3",
       "max_frame": 199,
       "n_components": 0,
       "picked": {}
      }
     },
     "f4bd818c2e364ad6ac28330bc2bd4f17": {
      "model_module": "@jupyter-widgets/base",
      "model_module_version": "1.2.0",
      "model_name": "LayoutModel",
      "state": {
       "_model_module": "@jupyter-widgets/base",
       "_model_module_version": "1.2.0",
       "_model_name": "LayoutModel",
       "_view_count": null,
       "_view_module": "@jupyter-widgets/base",
       "_view_module_version": "1.2.0",
       "_view_name": "LayoutView",
       "align_content": null,
       "align_items": null,
       "align_self": null,
       "border": null,
       "bottom": null,
       "display": null,
       "flex": null,
       "flex_flow": null,
       "grid_area": null,
       "grid_auto_columns": null,
       "grid_auto_flow": null,
       "grid_auto_rows": null,
       "grid_column": null,
       "grid_gap": null,
       "grid_row": null,
       "grid_template_areas": null,
       "grid_template_columns": null,
       "grid_template_rows": null,
       "height": null,
       "justify_content": null,
       "justify_items": null,
       "left": null,
       "margin": null,
       "max_height": null,
       "max_width": null,
       "min_height": null,
       "min_width": null,
       "object_fit": null,
       "object_position": null,
       "order": null,
       "overflow": null,
       "overflow_x": null,
       "overflow_y": null,
       "padding": null,
       "right": null,
       "top": null,
       "visibility": null,
       "width": null
      }
     }
    },
    "version_major": 2,
    "version_minor": 0
   }
  }
 },
 "nbformat": 4,
 "nbformat_minor": 1
}
