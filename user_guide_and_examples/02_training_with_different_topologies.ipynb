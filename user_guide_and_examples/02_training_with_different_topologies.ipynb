{
 "cells": [
  {
   "cell_type": "markdown",
   "metadata": {
    "collapsed": true
   },
   "source": [
    "# Training with different topologies\n",
    "\n",
    "Int this tutorial, you will learn how to use EncoderMap's new sparse trainign feature to learn the conformations of multiple proteins with different topologies.\n",
    "\n",
    "Run this notebook on Google Colab:\n",
    "\n",
    "[![Open in Colab](https://colab.research.google.com/assets/colab-badge.svg)](https://colab.research.google.com/github/AG-Peter/encodermap/blob/main/tutorials/notebooks_intermediate/02_training_with_different_topologies.ipynb)\n",
    "\n",
    "Find the documentation of EncoderMap:\n",
    "\n",
    "https://ag-peter.github.io/encodermap\n",
    "\n",
    "## Install encodermap on Google colab\n",
    "\n",
    "If you are on Google colab, please uncomment this line and install encodermap:"
   ]
  },
  {
   "cell_type": "code",
   "execution_count": 1,
   "metadata": {
    "execution": {
     "iopub.execute_input": "2023-02-06T17:11:38.251562Z",
     "iopub.status.busy": "2023-02-06T17:11:38.251151Z",
     "iopub.status.idle": "2023-02-06T17:11:38.255098Z",
     "shell.execute_reply": "2023-02-06T17:11:38.254549Z"
    }
   },
   "outputs": [],
   "source": [
    "# !pip install \"git+https://github.com/AG-Peter/encodermap.git@main\"\n",
    "# !pip install -r pip install -r https://raw.githubusercontent.com/AG-Peter/encodermap/main/tests/test_requirements.md"
   ]
  },
  {
   "cell_type": "markdown",
   "metadata": {},
   "source": [
    "## Imports"
   ]
  },
  {
   "cell_type": "code",
   "execution_count": 2,
   "metadata": {
    "execution": {
     "iopub.execute_input": "2023-02-06T17:11:38.257910Z",
     "iopub.status.busy": "2023-02-06T17:11:38.257498Z",
     "iopub.status.idle": "2023-02-06T17:11:41.519695Z",
     "shell.execute_reply": "2023-02-06T17:11:41.519007Z"
    }
   },
   "outputs": [
    {
     "name": "stderr",
     "output_type": "stream",
     "text": [
      "2023-02-06 17:11:38.405396: I tensorflow/core/platform/cpu_feature_guard.cc:193] This TensorFlow binary is optimized with oneAPI Deep Neural Network Library (oneDNN) to use the following CPU instructions in performance-critical operations:  AVX2 AVX512F FMA\n",
      "To enable them in other operations, rebuild TensorFlow with the appropriate compiler flags.\n",
      "2023-02-06 17:11:38.533605: W tensorflow/compiler/xla/stream_executor/platform/default/dso_loader.cc:64] Could not load dynamic library 'libcudart.so.11.0'; dlerror: libcudart.so.11.0: cannot open shared object file: No such file or directory; LD_LIBRARY_PATH: /opt/hostedtoolcache/Python/3.9.16/x64/lib\n",
      "2023-02-06 17:11:38.533632: I tensorflow/compiler/xla/stream_executor/cuda/cudart_stub.cc:29] Ignore above cudart dlerror if you do not have a GPU set up on your machine.\n"
     ]
    },
    {
     "name": "stderr",
     "output_type": "stream",
     "text": [
      "2023-02-06 17:11:39.184052: W tensorflow/compiler/xla/stream_executor/platform/default/dso_loader.cc:64] Could not load dynamic library 'libnvinfer.so.7'; dlerror: libnvinfer.so.7: cannot open shared object file: No such file or directory; LD_LIBRARY_PATH: /opt/hostedtoolcache/Python/3.9.16/x64/lib\n",
      "2023-02-06 17:11:39.184135: W tensorflow/compiler/xla/stream_executor/platform/default/dso_loader.cc:64] Could not load dynamic library 'libnvinfer_plugin.so.7'; dlerror: libnvinfer_plugin.so.7: cannot open shared object file: No such file or directory; LD_LIBRARY_PATH: /opt/hostedtoolcache/Python/3.9.16/x64/lib\n",
      "2023-02-06 17:11:39.184143: W tensorflow/compiler/tf2tensorrt/utils/py_utils.cc:38] TF-TRT Warning: Cannot dlopen some TensorRT libraries. If you would like to use Nvidia GPU with TensorRT, please make sure the missing libraries mentioned above are installed properly.\n"
     ]
    },
    {
     "data": {
      "application/vnd.jupyter.widget-view+json": {
       "model_id": "772b4a8ab41f4f39a2b203ea8eb3905b",
       "version_major": 2,
       "version_minor": 0
      },
      "text/plain": []
     },
     "metadata": {},
     "output_type": "display_data"
    }
   ],
   "source": [
    "import encodermap as em\n",
    "import numpy as np\n",
    "\n",
    "%matplotlib inline\n",
    "%load_ext autoreload\n",
    "%autoreload 2\n",
    "%config Completer.use_jedi = False"
   ]
  },
  {
   "cell_type": "markdown",
   "metadata": {},
   "source": [
    "Fix tensorflow seed for reproducibility"
   ]
  },
  {
   "cell_type": "code",
   "execution_count": 3,
   "metadata": {
    "execution": {
     "iopub.execute_input": "2023-02-06T17:11:41.523469Z",
     "iopub.status.busy": "2023-02-06T17:11:41.523117Z",
     "iopub.status.idle": "2023-02-06T17:11:41.564665Z",
     "shell.execute_reply": "2023-02-06T17:11:41.563994Z"
    }
   },
   "outputs": [],
   "source": [
    "import tensorflow as tf\n",
    "tf.random.set_seed(1)"
   ]
  },
  {
   "cell_type": "markdown",
   "metadata": {},
   "source": [
    "## Load the trajectories\n",
    "\n",
    "We use EncoderMap's `TrajEnsemble` class to load the trajectories and do the feature alignment."
   ]
  },
  {
   "cell_type": "code",
   "execution_count": 4,
   "metadata": {
    "execution": {
     "iopub.execute_input": "2023-02-06T17:11:41.568563Z",
     "iopub.status.busy": "2023-02-06T17:11:41.568124Z",
     "iopub.status.idle": "2023-02-06T17:11:41.611803Z",
     "shell.execute_reply": "2023-02-06T17:11:41.611167Z"
    }
   },
   "outputs": [],
   "source": [
    "traj_files = [\"glu7.xtc\", \"asp7.xtc\"]\n",
    "top_files = [\"glu7.pdb\", \"asp7.pdb\"]\n",
    "\n",
    "trajs = em.load(traj_files, top_files)"
   ]
  },
  {
   "cell_type": "markdown",
   "metadata": {},
   "source": [
    "Load the CVs with the `ensemble=True` options."
   ]
  },
  {
   "cell_type": "code",
   "execution_count": 5,
   "metadata": {
    "execution": {
     "iopub.execute_input": "2023-02-06T17:11:41.615587Z",
     "iopub.status.busy": "2023-02-06T17:11:41.615226Z",
     "iopub.status.idle": "2023-02-06T17:11:42.856010Z",
     "shell.execute_reply": "2023-02-06T17:11:42.855375Z"
    }
   },
   "outputs": [],
   "source": [
    "trajs.load_CVs(\"all\", ensemble=True)"
   ]
  },
  {
   "cell_type": "code",
   "execution_count": 6,
   "metadata": {
    "execution": {
     "iopub.execute_input": "2023-02-06T17:11:42.859619Z",
     "iopub.status.busy": "2023-02-06T17:11:42.858993Z",
     "iopub.status.idle": "2023-02-06T17:11:43.429339Z",
     "shell.execute_reply": "2023-02-06T17:11:43.428700Z"
    }
   },
   "outputs": [
    {
     "data": {
      "text/plain": [
       "<encodermap.TrajEnsemble object. Current backend is no_load. Containing 20002 frames. CV central_dihedrals with shape (20002, 18) loaded. CV central_distances with shape (20002, 20) loaded. CV side_dihedrals with shape (20002, 21) loaded. CV central_cartesians with shape (20002, 21, 3) loaded. CV central_angles with shape (20002, 19) loaded. Object at 0x7f92b4ed8a30>"
      ]
     },
     "execution_count": 6,
     "metadata": {},
     "output_type": "execute_result"
    }
   ],
   "source": [
    "trajs"
   ]
  },
  {
   "cell_type": "markdown",
   "metadata": {},
   "source": [
    "## Create the AngleDihedralCartesianEncoderMap\n",
    "\n",
    "The AngleDihedralCartesianEncoderMap tries to learn all of the geometric features of a protein. The angles (backbone angles, backbone dihedrals, sidechain dihedrals) are passed through a neuronal network autoencoder, while the distances between the backbone atoms are used to create cartesian coordinates from the learned angles. The generated cartesians and the input (true) cartesians are used to construct pairwise C$_\\alpha$ distances, which are then also weighted using sketchmap's sigmoid function. The `cartesian_cost_scale_soft_start` gradually increases the contribution of this cost function to the overall model loss."
   ]
  },
  {
   "cell_type": "code",
   "execution_count": 7,
   "metadata": {
    "execution": {
     "iopub.execute_input": "2023-02-06T17:11:43.432614Z",
     "iopub.status.busy": "2023-02-06T17:11:43.432266Z",
     "iopub.status.idle": "2023-02-06T17:11:47.518981Z",
     "shell.execute_reply": "2023-02-06T17:11:47.518314Z"
    }
   },
   "outputs": [
    {
     "name": "stdout",
     "output_type": "stream",
     "text": [
      "Output files are saved to runs/asp7_glu7_asp8/run0 as defined in 'main_path' in the parameters.\n",
      "Input contains nans. Using sparse network.\n"
     ]
    },
    {
     "name": "stderr",
     "output_type": "stream",
     "text": [
      "2023-02-06 17:11:43.598384: W tensorflow/compiler/xla/stream_executor/platform/default/dso_loader.cc:64] Could not load dynamic library 'libcuda.so.1'; dlerror: libcuda.so.1: cannot open shared object file: No such file or directory; LD_LIBRARY_PATH: /opt/hostedtoolcache/Python/3.9.16/x64/lib\n",
      "2023-02-06 17:11:43.598414: W tensorflow/compiler/xla/stream_executor/cuda/cuda_driver.cc:265] failed call to cuInit: UNKNOWN ERROR (303)\n",
      "2023-02-06 17:11:43.598434: I tensorflow/compiler/xla/stream_executor/cuda/cuda_diagnostics.cc:156] kernel driver does not appear to be running on this host (fv-az570-137): /proc/driver/nvidia/version does not exist\n",
      "2023-02-06 17:11:43.598684: I tensorflow/core/platform/cpu_feature_guard.cc:193] This TensorFlow binary is optimized with oneAPI Deep Neural Network Library (oneDNN) to use the following CPU instructions in performance-critical operations:  AVX2 AVX512F FMA\n",
      "To enable them in other operations, rebuild TensorFlow with the appropriate compiler flags.\n"
     ]
    },
    {
     "name": "stdout",
     "output_type": "stream",
     "text": [
      "input shapes are:\n",
      "{'central_dihedrals': (20002, 18), 'central_distances': (20002, 20), 'side_dihedrals': TensorShape([20002, 21]), 'central_cartesians': (20002, 21, 3), 'central_angles': (20002, 19)}\n",
      "You must install pydot (`pip install pydot`) and install graphviz (see instructions at https://graphviz.gitlab.io/download/) for plot_model to work.\n"
     ]
    },
    {
     "name": "stdout",
     "output_type": "stream",
     "text": [
      "Saved a text-summary of the model and an image in runs/asp7_glu7_asp8/run0, as specified in 'main_path' in the parameters.\n"
     ]
    }
   ],
   "source": [
    "p = em.ADCParameters(use_backbone_angles=True,\n",
    "                     distance_cost_scale=1,\n",
    "                     auto_cost_scale=0.1,\n",
    "                     cartesian_cost_scale_soft_start=(50, 80),\n",
    "                     n_neurons = [500, 250, 125, 2],\n",
    "                     activation_functions = ['', 'tanh', 'tanh', 'tanh', ''],\n",
    "                     use_sidechains=True,\n",
    "                     summary_step=1,\n",
    "                     tensorboard=True,\n",
    "                     periodicity=2*np.pi,\n",
    "                     n_steps=100,\n",
    "                     checkpoint_step=1000,\n",
    "                     dist_sig_parameters = (4.5, 12, 6, 1, 2, 6),\n",
    "                     main_path=em.misc.run_path('runs/asp7_glu7_asp8'),\n",
    "                     model_api='functional',\n",
    "                    )\n",
    "emap = em.AngleDihedralCartesianEncoderMap(trajs, p)"
   ]
  },
  {
   "cell_type": "markdown",
   "metadata": {},
   "source": [
    "train"
   ]
  },
  {
   "cell_type": "code",
   "execution_count": 8,
   "metadata": {
    "execution": {
     "iopub.execute_input": "2023-02-06T17:11:47.522109Z",
     "iopub.status.busy": "2023-02-06T17:11:47.521505Z",
     "iopub.status.idle": "2023-02-06T17:12:46.110822Z",
     "shell.execute_reply": "2023-02-06T17:12:46.110173Z"
    }
   },
   "outputs": [
    {
     "name": "stderr",
     "output_type": "stream",
     "text": [
      "\r",
      "  0%|          | 0/100 [00:00<?, ?it/s]"
     ]
    },
    {
     "name": "stderr",
     "output_type": "stream",
     "text": [
      "\r",
      "  0%|          | 0/100 [00:00<?, ?it/s, Loss after step ?=?, Cartesian cost Scale=?]"
     ]
    },
    {
     "name": "stderr",
     "output_type": "stream",
     "text": [
      "\r",
      "  0%|          | 0/100 [00:23<?, ?it/s, Loss after step 1=6.28, Cartesian cost Scale=0]"
     ]
    },
    {
     "name": "stderr",
     "output_type": "stream",
     "text": [
      "\r",
      "  1%|          | 1/100 [00:23<39:15, 23.79s/it, Loss after step 1=6.28, Cartesian cost Scale=0]"
     ]
    },
    {
     "name": "stderr",
     "output_type": "stream",
     "text": [
      "\r",
      "  1%|          | 1/100 [00:23<39:15, 23.79s/it, Loss after step 2=5.47, Cartesian cost Scale=0]"
     ]
    },
    {
     "name": "stderr",
     "output_type": "stream",
     "text": [
      "\r",
      "  2%|▏         | 2/100 [00:23<38:51, 23.79s/it, Loss after step 3=5.02, Cartesian cost Scale=0]"
     ]
    },
    {
     "name": "stderr",
     "output_type": "stream",
     "text": [
      "\r",
      "  3%|▎         | 3/100 [00:23<10:05,  6.24s/it, Loss after step 3=5.02, Cartesian cost Scale=0]"
     ]
    },
    {
     "name": "stderr",
     "output_type": "stream",
     "text": [
      "\r",
      "  3%|▎         | 3/100 [00:24<10:05,  6.24s/it, Loss after step 4=4.75, Cartesian cost Scale=0]"
     ]
    },
    {
     "name": "stderr",
     "output_type": "stream",
     "text": [
      "\r",
      "  4%|▍         | 4/100 [00:24<09:59,  6.24s/it, Loss after step 5=4.54, Cartesian cost Scale=0]"
     ]
    },
    {
     "name": "stderr",
     "output_type": "stream",
     "text": [
      "\r",
      "  5%|▌         | 5/100 [00:24<04:52,  3.08s/it, Loss after step 5=4.54, Cartesian cost Scale=0]"
     ]
    },
    {
     "name": "stderr",
     "output_type": "stream",
     "text": [
      "\r",
      "  5%|▌         | 5/100 [00:24<04:52,  3.08s/it, Loss after step 6=4.37, Cartesian cost Scale=0]"
     ]
    },
    {
     "name": "stderr",
     "output_type": "stream",
     "text": [
      "\r",
      "  6%|▌         | 6/100 [00:24<04:49,  3.08s/it, Loss after step 7=4.29, Cartesian cost Scale=0]"
     ]
    },
    {
     "name": "stderr",
     "output_type": "stream",
     "text": [
      "\r",
      "  7%|▋         | 7/100 [00:24<02:48,  1.81s/it, Loss after step 7=4.29, Cartesian cost Scale=0]"
     ]
    },
    {
     "name": "stderr",
     "output_type": "stream",
     "text": [
      "\r",
      "  7%|▋         | 7/100 [00:24<02:48,  1.81s/it, Loss after step 8=4.17, Cartesian cost Scale=0]"
     ]
    },
    {
     "name": "stderr",
     "output_type": "stream",
     "text": [
      "\r",
      "  8%|▊         | 8/100 [00:24<02:46,  1.81s/it, Loss after step 9=4.1, Cartesian cost Scale=0] "
     ]
    },
    {
     "name": "stderr",
     "output_type": "stream",
     "text": [
      "\r",
      "  9%|▉         | 9/100 [00:24<01:45,  1.16s/it, Loss after step 9=4.1, Cartesian cost Scale=0]"
     ]
    },
    {
     "name": "stderr",
     "output_type": "stream",
     "text": [
      "\r",
      "  9%|▉         | 9/100 [00:24<01:45,  1.16s/it, Loss after step 10=4.02, Cartesian cost Scale=0]"
     ]
    },
    {
     "name": "stderr",
     "output_type": "stream",
     "text": [
      "\r",
      " 10%|█         | 10/100 [00:24<01:44,  1.16s/it, Loss after step 11=4, Cartesian cost Scale=0]  "
     ]
    },
    {
     "name": "stderr",
     "output_type": "stream",
     "text": [
      "\r",
      " 11%|█         | 11/100 [00:24<01:10,  1.27it/s, Loss after step 11=4, Cartesian cost Scale=0]"
     ]
    },
    {
     "name": "stderr",
     "output_type": "stream",
     "text": [
      "\r",
      " 11%|█         | 11/100 [00:24<01:10,  1.27it/s, Loss after step 12=3.95, Cartesian cost Scale=0]"
     ]
    },
    {
     "name": "stderr",
     "output_type": "stream",
     "text": [
      "\r",
      " 12%|█▏        | 12/100 [00:24<01:09,  1.27it/s, Loss after step 13=3.95, Cartesian cost Scale=0]"
     ]
    },
    {
     "name": "stderr",
     "output_type": "stream",
     "text": [
      "\r",
      " 13%|█▎        | 13/100 [00:24<00:48,  1.79it/s, Loss after step 13=3.95, Cartesian cost Scale=0]"
     ]
    },
    {
     "name": "stderr",
     "output_type": "stream",
     "text": [
      "\r",
      " 13%|█▎        | 13/100 [00:25<00:48,  1.79it/s, Loss after step 14=3.89, Cartesian cost Scale=0]"
     ]
    },
    {
     "name": "stderr",
     "output_type": "stream",
     "text": [
      "\r",
      " 14%|█▍        | 14/100 [00:25<00:47,  1.79it/s, Loss after step 15=3.94, Cartesian cost Scale=0]"
     ]
    },
    {
     "name": "stderr",
     "output_type": "stream",
     "text": [
      "\r",
      " 15%|█▌        | 15/100 [00:25<00:34,  2.45it/s, Loss after step 15=3.94, Cartesian cost Scale=0]"
     ]
    },
    {
     "name": "stderr",
     "output_type": "stream",
     "text": [
      "\r",
      " 15%|█▌        | 15/100 [00:25<00:34,  2.45it/s, Loss after step 16=3.85, Cartesian cost Scale=0]"
     ]
    },
    {
     "name": "stderr",
     "output_type": "stream",
     "text": [
      "\r",
      " 16%|█▌        | 16/100 [00:25<00:34,  2.45it/s, Loss after step 17=3.85, Cartesian cost Scale=0]"
     ]
    },
    {
     "name": "stderr",
     "output_type": "stream",
     "text": [
      "\r",
      " 17%|█▋        | 17/100 [00:25<00:25,  3.22it/s, Loss after step 17=3.85, Cartesian cost Scale=0]"
     ]
    },
    {
     "name": "stderr",
     "output_type": "stream",
     "text": [
      "\r",
      " 17%|█▋        | 17/100 [00:25<00:25,  3.22it/s, Loss after step 18=3.83, Cartesian cost Scale=0]"
     ]
    },
    {
     "name": "stderr",
     "output_type": "stream",
     "text": [
      "\r",
      " 18%|█▊        | 18/100 [00:25<00:25,  3.22it/s, Loss after step 19=3.79, Cartesian cost Scale=0]"
     ]
    },
    {
     "name": "stderr",
     "output_type": "stream",
     "text": [
      "\r",
      " 19%|█▉        | 19/100 [00:25<00:19,  4.12it/s, Loss after step 19=3.79, Cartesian cost Scale=0]"
     ]
    },
    {
     "name": "stderr",
     "output_type": "stream",
     "text": [
      "\r",
      " 19%|█▉        | 19/100 [00:25<00:19,  4.12it/s, Loss after step 20=3.76, Cartesian cost Scale=0]"
     ]
    },
    {
     "name": "stderr",
     "output_type": "stream",
     "text": [
      "\r",
      " 20%|██        | 20/100 [00:25<00:19,  4.12it/s, Loss after step 21=3.75, Cartesian cost Scale=0]"
     ]
    },
    {
     "name": "stderr",
     "output_type": "stream",
     "text": [
      "\r",
      " 21%|██        | 21/100 [00:25<00:15,  5.08it/s, Loss after step 21=3.75, Cartesian cost Scale=0]"
     ]
    },
    {
     "name": "stderr",
     "output_type": "stream",
     "text": [
      "\r",
      " 21%|██        | 21/100 [00:25<00:15,  5.08it/s, Loss after step 22=3.73, Cartesian cost Scale=0]"
     ]
    },
    {
     "name": "stderr",
     "output_type": "stream",
     "text": [
      "\r",
      " 22%|██▏       | 22/100 [00:25<00:15,  5.08it/s, Loss after step 23=3.71, Cartesian cost Scale=0]"
     ]
    },
    {
     "name": "stderr",
     "output_type": "stream",
     "text": [
      "\r",
      " 23%|██▎       | 23/100 [00:25<00:12,  6.09it/s, Loss after step 23=3.71, Cartesian cost Scale=0]"
     ]
    },
    {
     "name": "stderr",
     "output_type": "stream",
     "text": [
      "\r",
      " 23%|██▎       | 23/100 [00:25<00:12,  6.09it/s, Loss after step 24=3.71, Cartesian cost Scale=0]"
     ]
    },
    {
     "name": "stderr",
     "output_type": "stream",
     "text": [
      "\r",
      " 24%|██▍       | 24/100 [00:26<00:12,  6.09it/s, Loss after step 25=3.66, Cartesian cost Scale=0]"
     ]
    },
    {
     "name": "stderr",
     "output_type": "stream",
     "text": [
      "\r",
      " 25%|██▌       | 25/100 [00:26<00:10,  7.01it/s, Loss after step 25=3.66, Cartesian cost Scale=0]"
     ]
    },
    {
     "name": "stderr",
     "output_type": "stream",
     "text": [
      "\r",
      " 25%|██▌       | 25/100 [00:26<00:10,  7.01it/s, Loss after step 26=3.66, Cartesian cost Scale=0]"
     ]
    },
    {
     "name": "stderr",
     "output_type": "stream",
     "text": [
      "\r",
      " 26%|██▌       | 26/100 [00:26<00:10,  7.01it/s, Loss after step 27=3.61, Cartesian cost Scale=0]"
     ]
    },
    {
     "name": "stderr",
     "output_type": "stream",
     "text": [
      "\r",
      " 27%|██▋       | 27/100 [00:26<00:09,  7.87it/s, Loss after step 27=3.61, Cartesian cost Scale=0]"
     ]
    },
    {
     "name": "stderr",
     "output_type": "stream",
     "text": [
      "\r",
      " 27%|██▋       | 27/100 [00:26<00:09,  7.87it/s, Loss after step 28=3.61, Cartesian cost Scale=0]"
     ]
    },
    {
     "name": "stderr",
     "output_type": "stream",
     "text": [
      "\r",
      " 28%|██▊       | 28/100 [00:26<00:09,  7.87it/s, Loss after step 29=3.6, Cartesian cost Scale=0] "
     ]
    },
    {
     "name": "stderr",
     "output_type": "stream",
     "text": [
      "\r",
      " 29%|██▉       | 29/100 [00:26<00:08,  8.50it/s, Loss after step 29=3.6, Cartesian cost Scale=0]"
     ]
    },
    {
     "name": "stderr",
     "output_type": "stream",
     "text": [
      "\r",
      " 29%|██▉       | 29/100 [00:26<00:08,  8.50it/s, Loss after step 30=3.64, Cartesian cost Scale=0]"
     ]
    },
    {
     "name": "stderr",
     "output_type": "stream",
     "text": [
      "\r",
      " 30%|███       | 30/100 [00:26<00:08,  8.50it/s, Loss after step 31=3.54, Cartesian cost Scale=0]"
     ]
    },
    {
     "name": "stderr",
     "output_type": "stream",
     "text": [
      "\r",
      " 31%|███       | 31/100 [00:26<00:07,  9.09it/s, Loss after step 31=3.54, Cartesian cost Scale=0]"
     ]
    },
    {
     "name": "stderr",
     "output_type": "stream",
     "text": [
      "\r",
      " 31%|███       | 31/100 [00:26<00:07,  9.09it/s, Loss after step 32=3.56, Cartesian cost Scale=0]"
     ]
    },
    {
     "name": "stderr",
     "output_type": "stream",
     "text": [
      "\r",
      " 32%|███▏      | 32/100 [00:26<00:07,  9.09it/s, Loss after step 33=3.53, Cartesian cost Scale=0]"
     ]
    },
    {
     "name": "stderr",
     "output_type": "stream",
     "text": [
      "\r",
      " 33%|███▎      | 33/100 [00:26<00:06,  9.58it/s, Loss after step 33=3.53, Cartesian cost Scale=0]"
     ]
    },
    {
     "name": "stderr",
     "output_type": "stream",
     "text": [
      "\r",
      " 33%|███▎      | 33/100 [00:26<00:06,  9.58it/s, Loss after step 34=3.53, Cartesian cost Scale=0]"
     ]
    },
    {
     "name": "stderr",
     "output_type": "stream",
     "text": [
      "\r",
      " 34%|███▍      | 34/100 [00:26<00:06,  9.58it/s, Loss after step 35=3.45, Cartesian cost Scale=0]"
     ]
    },
    {
     "name": "stderr",
     "output_type": "stream",
     "text": [
      "\r",
      " 35%|███▌      | 35/100 [00:26<00:06,  9.82it/s, Loss after step 35=3.45, Cartesian cost Scale=0]"
     ]
    },
    {
     "name": "stderr",
     "output_type": "stream",
     "text": [
      "\r",
      " 35%|███▌      | 35/100 [00:27<00:06,  9.82it/s, Loss after step 36=3.45, Cartesian cost Scale=0]"
     ]
    },
    {
     "name": "stderr",
     "output_type": "stream",
     "text": [
      "\r",
      " 36%|███▌      | 36/100 [00:27<00:06,  9.82it/s, Loss after step 37=3.4, Cartesian cost Scale=0] "
     ]
    },
    {
     "name": "stderr",
     "output_type": "stream",
     "text": [
      "\r",
      " 37%|███▋      | 37/100 [00:27<00:06, 10.03it/s, Loss after step 37=3.4, Cartesian cost Scale=0]"
     ]
    },
    {
     "name": "stderr",
     "output_type": "stream",
     "text": [
      "\r",
      " 37%|███▋      | 37/100 [00:27<00:06, 10.03it/s, Loss after step 38=3.4, Cartesian cost Scale=0]"
     ]
    },
    {
     "name": "stderr",
     "output_type": "stream",
     "text": [
      "\r",
      " 38%|███▊      | 38/100 [00:27<00:06, 10.03it/s, Loss after step 39=3.41, Cartesian cost Scale=0]"
     ]
    },
    {
     "name": "stderr",
     "output_type": "stream",
     "text": [
      "\r",
      " 39%|███▉      | 39/100 [00:27<00:05, 10.22it/s, Loss after step 39=3.41, Cartesian cost Scale=0]"
     ]
    },
    {
     "name": "stderr",
     "output_type": "stream",
     "text": [
      "\r",
      " 39%|███▉      | 39/100 [00:27<00:05, 10.22it/s, Loss after step 40=3.36, Cartesian cost Scale=0]"
     ]
    },
    {
     "name": "stderr",
     "output_type": "stream",
     "text": [
      "\r",
      " 40%|████      | 40/100 [00:27<00:05, 10.22it/s, Loss after step 41=3.32, Cartesian cost Scale=0]"
     ]
    },
    {
     "name": "stderr",
     "output_type": "stream",
     "text": [
      "\r",
      " 41%|████      | 41/100 [00:27<00:05, 10.41it/s, Loss after step 41=3.32, Cartesian cost Scale=0]"
     ]
    },
    {
     "name": "stderr",
     "output_type": "stream",
     "text": [
      "\r",
      " 41%|████      | 41/100 [00:27<00:05, 10.41it/s, Loss after step 42=3.35, Cartesian cost Scale=0]"
     ]
    },
    {
     "name": "stderr",
     "output_type": "stream",
     "text": [
      "\r",
      " 42%|████▏     | 42/100 [00:27<00:05, 10.41it/s, Loss after step 43=3.33, Cartesian cost Scale=0]"
     ]
    },
    {
     "name": "stderr",
     "output_type": "stream",
     "text": [
      "\r",
      " 43%|████▎     | 43/100 [00:27<00:05, 10.48it/s, Loss after step 43=3.33, Cartesian cost Scale=0]"
     ]
    },
    {
     "name": "stderr",
     "output_type": "stream",
     "text": [
      "\r",
      " 43%|████▎     | 43/100 [00:27<00:05, 10.48it/s, Loss after step 44=3.33, Cartesian cost Scale=0]"
     ]
    },
    {
     "name": "stderr",
     "output_type": "stream",
     "text": [
      "\r",
      " 44%|████▍     | 44/100 [00:27<00:05, 10.48it/s, Loss after step 45=3.32, Cartesian cost Scale=0]"
     ]
    },
    {
     "name": "stderr",
     "output_type": "stream",
     "text": [
      "\r",
      " 45%|████▌     | 45/100 [00:27<00:05, 10.66it/s, Loss after step 45=3.32, Cartesian cost Scale=0]"
     ]
    },
    {
     "name": "stderr",
     "output_type": "stream",
     "text": [
      "\r",
      " 45%|████▌     | 45/100 [00:27<00:05, 10.66it/s, Loss after step 46=3.28, Cartesian cost Scale=0]"
     ]
    },
    {
     "name": "stderr",
     "output_type": "stream",
     "text": [
      "\r",
      " 46%|████▌     | 46/100 [00:28<00:05, 10.66it/s, Loss after step 47=3.29, Cartesian cost Scale=0]"
     ]
    },
    {
     "name": "stderr",
     "output_type": "stream",
     "text": [
      "\r",
      " 47%|████▋     | 47/100 [00:28<00:04, 10.74it/s, Loss after step 47=3.29, Cartesian cost Scale=0]"
     ]
    },
    {
     "name": "stderr",
     "output_type": "stream",
     "text": [
      "\r",
      " 47%|████▋     | 47/100 [00:28<00:04, 10.74it/s, Loss after step 48=3.27, Cartesian cost Scale=0]"
     ]
    },
    {
     "name": "stderr",
     "output_type": "stream",
     "text": [
      "\r",
      " 48%|████▊     | 48/100 [00:28<00:04, 10.74it/s, Loss after step 49=3.26, Cartesian cost Scale=0]"
     ]
    },
    {
     "name": "stderr",
     "output_type": "stream",
     "text": [
      "\r",
      " 49%|████▉     | 49/100 [00:28<00:04, 10.74it/s, Loss after step 49=3.26, Cartesian cost Scale=0]"
     ]
    },
    {
     "name": "stderr",
     "output_type": "stream",
     "text": [
      "\r",
      " 49%|████▉     | 49/100 [00:28<00:04, 10.74it/s, Loss after step 50=3.25, Cartesian cost Scale=0]"
     ]
    },
    {
     "name": "stderr",
     "output_type": "stream",
     "text": [
      "\r",
      " 50%|█████     | 50/100 [00:28<00:04, 10.74it/s, Loss after step 51=3.25, Cartesian cost Scale=0.03]"
     ]
    },
    {
     "name": "stderr",
     "output_type": "stream",
     "text": [
      "\r",
      " 51%|█████     | 51/100 [00:28<00:04, 10.70it/s, Loss after step 51=3.25, Cartesian cost Scale=0.03]"
     ]
    },
    {
     "name": "stderr",
     "output_type": "stream",
     "text": [
      "\r",
      " 51%|█████     | 51/100 [00:28<00:04, 10.70it/s, Loss after step 52=3.29, Cartesian cost Scale=0.07]"
     ]
    },
    {
     "name": "stderr",
     "output_type": "stream",
     "text": [
      "\r",
      " 52%|█████▏    | 52/100 [00:28<00:04, 10.70it/s, Loss after step 53=3.24, Cartesian cost Scale=0.1] "
     ]
    },
    {
     "name": "stderr",
     "output_type": "stream",
     "text": [
      "\r",
      " 53%|█████▎    | 53/100 [00:28<00:04, 10.59it/s, Loss after step 53=3.24, Cartesian cost Scale=0.1]"
     ]
    },
    {
     "name": "stderr",
     "output_type": "stream",
     "text": [
      "\r",
      " 53%|█████▎    | 53/100 [00:28<00:04, 10.59it/s, Loss after step 54=3.25, Cartesian cost Scale=0.13]"
     ]
    },
    {
     "name": "stderr",
     "output_type": "stream",
     "text": [
      "\r",
      " 54%|█████▍    | 54/100 [00:28<00:04, 10.59it/s, Loss after step 55=3.24, Cartesian cost Scale=0.17]"
     ]
    },
    {
     "name": "stderr",
     "output_type": "stream",
     "text": [
      "\r",
      " 55%|█████▌    | 55/100 [00:28<00:04, 10.62it/s, Loss after step 55=3.24, Cartesian cost Scale=0.17]"
     ]
    },
    {
     "name": "stderr",
     "output_type": "stream",
     "text": [
      "\r",
      " 55%|█████▌    | 55/100 [00:28<00:04, 10.62it/s, Loss after step 56=3.22, Cartesian cost Scale=0.2] "
     ]
    },
    {
     "name": "stderr",
     "output_type": "stream",
     "text": [
      "\r",
      " 56%|█████▌    | 56/100 [00:29<00:04, 10.62it/s, Loss after step 57=3.26, Cartesian cost Scale=0.23]"
     ]
    },
    {
     "name": "stderr",
     "output_type": "stream",
     "text": [
      "\r",
      " 57%|█████▋    | 57/100 [00:29<00:04, 10.71it/s, Loss after step 57=3.26, Cartesian cost Scale=0.23]"
     ]
    },
    {
     "name": "stderr",
     "output_type": "stream",
     "text": [
      "\r",
      " 57%|█████▋    | 57/100 [00:29<00:04, 10.71it/s, Loss after step 58=3.26, Cartesian cost Scale=0.27]"
     ]
    },
    {
     "name": "stderr",
     "output_type": "stream",
     "text": [
      "\r",
      " 58%|█████▊    | 58/100 [00:29<00:03, 10.71it/s, Loss after step 59=3.21, Cartesian cost Scale=0.3] "
     ]
    },
    {
     "name": "stderr",
     "output_type": "stream",
     "text": [
      "\r",
      " 59%|█████▉    | 59/100 [00:29<00:03, 10.83it/s, Loss after step 59=3.21, Cartesian cost Scale=0.3]"
     ]
    },
    {
     "name": "stderr",
     "output_type": "stream",
     "text": [
      "\r",
      " 59%|█████▉    | 59/100 [00:29<00:03, 10.83it/s, Loss after step 60=3.24, Cartesian cost Scale=0.33]"
     ]
    },
    {
     "name": "stderr",
     "output_type": "stream",
     "text": [
      "\r",
      " 60%|██████    | 60/100 [00:29<00:03, 10.83it/s, Loss after step 61=3.19, Cartesian cost Scale=0.37]"
     ]
    },
    {
     "name": "stderr",
     "output_type": "stream",
     "text": [
      "\r",
      " 61%|██████    | 61/100 [00:29<00:03, 10.86it/s, Loss after step 61=3.19, Cartesian cost Scale=0.37]"
     ]
    },
    {
     "name": "stderr",
     "output_type": "stream",
     "text": [
      "\r",
      " 61%|██████    | 61/100 [00:29<00:03, 10.86it/s, Loss after step 62=3.15, Cartesian cost Scale=0.4] "
     ]
    },
    {
     "name": "stderr",
     "output_type": "stream",
     "text": [
      "\r",
      " 62%|██████▏   | 62/100 [00:29<00:03, 10.86it/s, Loss after step 63=3.13, Cartesian cost Scale=0.43]"
     ]
    },
    {
     "name": "stderr",
     "output_type": "stream",
     "text": [
      "\r",
      " 63%|██████▎   | 63/100 [00:29<00:03, 10.70it/s, Loss after step 63=3.13, Cartesian cost Scale=0.43]"
     ]
    },
    {
     "name": "stderr",
     "output_type": "stream",
     "text": [
      "\r",
      " 63%|██████▎   | 63/100 [00:29<00:03, 10.70it/s, Loss after step 64=3.16, Cartesian cost Scale=0.47]"
     ]
    },
    {
     "name": "stderr",
     "output_type": "stream",
     "text": [
      "\r",
      " 64%|██████▍   | 64/100 [00:29<00:03, 10.70it/s, Loss after step 65=3.14, Cartesian cost Scale=0.5] "
     ]
    },
    {
     "name": "stderr",
     "output_type": "stream",
     "text": [
      "\r",
      " 65%|██████▌   | 65/100 [00:29<00:03, 10.61it/s, Loss after step 65=3.14, Cartesian cost Scale=0.5]"
     ]
    },
    {
     "name": "stderr",
     "output_type": "stream",
     "text": [
      "\r",
      " 65%|██████▌   | 65/100 [00:29<00:03, 10.61it/s, Loss after step 66=3.14, Cartesian cost Scale=0.53]"
     ]
    },
    {
     "name": "stderr",
     "output_type": "stream",
     "text": [
      "\r",
      " 66%|██████▌   | 66/100 [00:29<00:03, 10.61it/s, Loss after step 67=3.15, Cartesian cost Scale=0.57]"
     ]
    },
    {
     "name": "stderr",
     "output_type": "stream",
     "text": [
      "\r",
      " 67%|██████▋   | 67/100 [00:29<00:03, 10.50it/s, Loss after step 67=3.15, Cartesian cost Scale=0.57]"
     ]
    },
    {
     "name": "stderr",
     "output_type": "stream",
     "text": [
      "\r",
      " 67%|██████▋   | 67/100 [00:30<00:03, 10.50it/s, Loss after step 68=3.12, Cartesian cost Scale=0.6] "
     ]
    },
    {
     "name": "stderr",
     "output_type": "stream",
     "text": [
      "\r",
      " 68%|██████▊   | 68/100 [00:30<00:03, 10.50it/s, Loss after step 69=3.11, Cartesian cost Scale=0.63]"
     ]
    },
    {
     "name": "stderr",
     "output_type": "stream",
     "text": [
      "\r",
      " 69%|██████▉   | 69/100 [00:30<00:02, 10.48it/s, Loss after step 69=3.11, Cartesian cost Scale=0.63]"
     ]
    },
    {
     "name": "stderr",
     "output_type": "stream",
     "text": [
      "\r",
      " 69%|██████▉   | 69/100 [00:30<00:02, 10.48it/s, Loss after step 70=3.1, Cartesian cost Scale=0.67] "
     ]
    },
    {
     "name": "stderr",
     "output_type": "stream",
     "text": [
      "\r",
      " 70%|███████   | 70/100 [00:30<00:02, 10.48it/s, Loss after step 71=3.09, Cartesian cost Scale=0.7]"
     ]
    },
    {
     "name": "stderr",
     "output_type": "stream",
     "text": [
      "\r",
      " 71%|███████   | 71/100 [00:30<00:02, 10.66it/s, Loss after step 71=3.09, Cartesian cost Scale=0.7]"
     ]
    },
    {
     "name": "stderr",
     "output_type": "stream",
     "text": [
      "\r",
      " 71%|███████   | 71/100 [00:30<00:02, 10.66it/s, Loss after step 72=3.08, Cartesian cost Scale=0.73]"
     ]
    },
    {
     "name": "stderr",
     "output_type": "stream",
     "text": [
      "\r",
      " 72%|███████▏  | 72/100 [00:30<00:02, 10.66it/s, Loss after step 73=3.1, Cartesian cost Scale=0.77] "
     ]
    },
    {
     "name": "stderr",
     "output_type": "stream",
     "text": [
      "\r",
      " 73%|███████▎  | 73/100 [00:30<00:02, 10.74it/s, Loss after step 73=3.1, Cartesian cost Scale=0.77]"
     ]
    },
    {
     "name": "stderr",
     "output_type": "stream",
     "text": [
      "\r",
      " 73%|███████▎  | 73/100 [00:30<00:02, 10.74it/s, Loss after step 74=3.08, Cartesian cost Scale=0.8]"
     ]
    },
    {
     "name": "stderr",
     "output_type": "stream",
     "text": [
      "\r",
      " 74%|███████▍  | 74/100 [00:30<00:02, 10.74it/s, Loss after step 75=3.08, Cartesian cost Scale=0.83]"
     ]
    },
    {
     "name": "stderr",
     "output_type": "stream",
     "text": [
      "\r",
      " 75%|███████▌  | 75/100 [00:30<00:02, 10.69it/s, Loss after step 75=3.08, Cartesian cost Scale=0.83]"
     ]
    },
    {
     "name": "stderr",
     "output_type": "stream",
     "text": [
      "\r",
      " 75%|███████▌  | 75/100 [00:30<00:02, 10.69it/s, Loss after step 76=3.04, Cartesian cost Scale=0.87]"
     ]
    },
    {
     "name": "stderr",
     "output_type": "stream",
     "text": [
      "\r",
      " 76%|███████▌  | 76/100 [00:30<00:02, 10.69it/s, Loss after step 77=3.02, Cartesian cost Scale=0.9] "
     ]
    },
    {
     "name": "stderr",
     "output_type": "stream",
     "text": [
      "\r",
      " 77%|███████▋  | 77/100 [00:30<00:02, 10.65it/s, Loss after step 77=3.02, Cartesian cost Scale=0.9]"
     ]
    },
    {
     "name": "stderr",
     "output_type": "stream",
     "text": [
      "\r",
      " 77%|███████▋  | 77/100 [00:30<00:02, 10.65it/s, Loss after step 78=3.05, Cartesian cost Scale=0.93]"
     ]
    },
    {
     "name": "stderr",
     "output_type": "stream",
     "text": [
      "\r",
      " 78%|███████▊  | 78/100 [00:31<00:02, 10.65it/s, Loss after step 79=3.05, Cartesian cost Scale=0.97]"
     ]
    },
    {
     "name": "stderr",
     "output_type": "stream",
     "text": [
      "\r",
      " 79%|███████▉  | 79/100 [00:31<00:01, 10.61it/s, Loss after step 79=3.05, Cartesian cost Scale=0.97]"
     ]
    },
    {
     "name": "stderr",
     "output_type": "stream",
     "text": [
      "\r",
      " 79%|███████▉  | 79/100 [00:31<00:01, 10.61it/s, Loss after step 80=3.02, Cartesian cost Scale=1]   "
     ]
    },
    {
     "name": "stderr",
     "output_type": "stream",
     "text": [
      "\r",
      " 80%|████████  | 80/100 [00:31<00:01, 10.61it/s, Loss after step 81=2.96, Cartesian cost Scale=1]"
     ]
    },
    {
     "name": "stderr",
     "output_type": "stream",
     "text": [
      "\r",
      " 81%|████████  | 81/100 [00:31<00:01, 10.70it/s, Loss after step 81=2.96, Cartesian cost Scale=1]"
     ]
    },
    {
     "name": "stderr",
     "output_type": "stream",
     "text": [
      "\r",
      " 81%|████████  | 81/100 [00:31<00:01, 10.70it/s, Loss after step 82=2.99, Cartesian cost Scale=1]"
     ]
    },
    {
     "name": "stderr",
     "output_type": "stream",
     "text": [
      "\r",
      " 82%|████████▏ | 82/100 [00:31<00:01, 10.70it/s, Loss after step 83=3, Cartesian cost Scale=1]   "
     ]
    },
    {
     "name": "stderr",
     "output_type": "stream",
     "text": [
      "\r",
      " 83%|████████▎ | 83/100 [00:31<00:01, 10.75it/s, Loss after step 83=3, Cartesian cost Scale=1]"
     ]
    },
    {
     "name": "stderr",
     "output_type": "stream",
     "text": [
      "\r",
      " 83%|████████▎ | 83/100 [00:31<00:01, 10.75it/s, Loss after step 84=3, Cartesian cost Scale=1]"
     ]
    },
    {
     "name": "stderr",
     "output_type": "stream",
     "text": [
      "\r",
      " 84%|████████▍ | 84/100 [00:31<00:01, 10.75it/s, Loss after step 85=2.97, Cartesian cost Scale=1]"
     ]
    },
    {
     "name": "stderr",
     "output_type": "stream",
     "text": [
      "\r",
      " 85%|████████▌ | 85/100 [00:31<00:01, 10.68it/s, Loss after step 85=2.97, Cartesian cost Scale=1]"
     ]
    },
    {
     "name": "stderr",
     "output_type": "stream",
     "text": [
      "\r",
      " 85%|████████▌ | 85/100 [00:31<00:01, 10.68it/s, Loss after step 86=2.99, Cartesian cost Scale=1]"
     ]
    },
    {
     "name": "stderr",
     "output_type": "stream",
     "text": [
      "\r",
      " 86%|████████▌ | 86/100 [00:31<00:01, 10.68it/s, Loss after step 87=2.96, Cartesian cost Scale=1]"
     ]
    },
    {
     "name": "stderr",
     "output_type": "stream",
     "text": [
      "\r",
      " 87%|████████▋ | 87/100 [00:31<00:01, 10.52it/s, Loss after step 87=2.96, Cartesian cost Scale=1]"
     ]
    },
    {
     "name": "stderr",
     "output_type": "stream",
     "text": [
      "\r",
      " 87%|████████▋ | 87/100 [00:31<00:01, 10.52it/s, Loss after step 88=2.92, Cartesian cost Scale=1]"
     ]
    },
    {
     "name": "stderr",
     "output_type": "stream",
     "text": [
      "\r",
      " 88%|████████▊ | 88/100 [00:32<00:01, 10.52it/s, Loss after step 89=2.92, Cartesian cost Scale=1]"
     ]
    },
    {
     "name": "stderr",
     "output_type": "stream",
     "text": [
      "\r",
      " 89%|████████▉ | 89/100 [00:32<00:01, 10.48it/s, Loss after step 89=2.92, Cartesian cost Scale=1]"
     ]
    },
    {
     "name": "stderr",
     "output_type": "stream",
     "text": [
      "\r",
      " 89%|████████▉ | 89/100 [00:32<00:01, 10.48it/s, Loss after step 90=2.9, Cartesian cost Scale=1] "
     ]
    },
    {
     "name": "stderr",
     "output_type": "stream",
     "text": [
      "\r",
      " 90%|█████████ | 90/100 [00:32<00:00, 10.48it/s, Loss after step 91=2.89, Cartesian cost Scale=1]"
     ]
    },
    {
     "name": "stderr",
     "output_type": "stream",
     "text": [
      "\r",
      " 91%|█████████ | 91/100 [00:32<00:00, 10.32it/s, Loss after step 91=2.89, Cartesian cost Scale=1]"
     ]
    },
    {
     "name": "stderr",
     "output_type": "stream",
     "text": [
      "\r",
      " 91%|█████████ | 91/100 [00:32<00:00, 10.32it/s, Loss after step 92=2.92, Cartesian cost Scale=1]"
     ]
    },
    {
     "name": "stderr",
     "output_type": "stream",
     "text": [
      "\r",
      " 92%|█████████▏| 92/100 [00:32<00:00, 10.32it/s, Loss after step 93=2.92, Cartesian cost Scale=1]"
     ]
    },
    {
     "name": "stderr",
     "output_type": "stream",
     "text": [
      "\r",
      " 93%|█████████▎| 93/100 [00:32<00:00, 10.41it/s, Loss after step 93=2.92, Cartesian cost Scale=1]"
     ]
    },
    {
     "name": "stderr",
     "output_type": "stream",
     "text": [
      "\r",
      " 93%|█████████▎| 93/100 [00:32<00:00, 10.41it/s, Loss after step 94=2.91, Cartesian cost Scale=1]"
     ]
    },
    {
     "name": "stderr",
     "output_type": "stream",
     "text": [
      "\r",
      " 94%|█████████▍| 94/100 [00:32<00:00, 10.41it/s, Loss after step 95=2.87, Cartesian cost Scale=1]"
     ]
    },
    {
     "name": "stderr",
     "output_type": "stream",
     "text": [
      "\r",
      " 95%|█████████▌| 95/100 [00:32<00:00, 10.50it/s, Loss after step 95=2.87, Cartesian cost Scale=1]"
     ]
    },
    {
     "name": "stderr",
     "output_type": "stream",
     "text": [
      "\r",
      " 95%|█████████▌| 95/100 [00:32<00:00, 10.50it/s, Loss after step 96=2.83, Cartesian cost Scale=1]"
     ]
    },
    {
     "name": "stderr",
     "output_type": "stream",
     "text": [
      "\r",
      " 96%|█████████▌| 96/100 [00:32<00:00, 10.50it/s, Loss after step 97=2.87, Cartesian cost Scale=1]"
     ]
    },
    {
     "name": "stderr",
     "output_type": "stream",
     "text": [
      "\r",
      " 97%|█████████▋| 97/100 [00:32<00:00, 10.52it/s, Loss after step 97=2.87, Cartesian cost Scale=1]"
     ]
    },
    {
     "name": "stderr",
     "output_type": "stream",
     "text": [
      "\r",
      " 97%|█████████▋| 97/100 [00:32<00:00, 10.52it/s, Loss after step 98=2.84, Cartesian cost Scale=1]"
     ]
    },
    {
     "name": "stderr",
     "output_type": "stream",
     "text": [
      "\r",
      " 98%|█████████▊| 98/100 [00:32<00:00, 10.52it/s, Loss after step 99=2.83, Cartesian cost Scale=1]"
     ]
    },
    {
     "name": "stderr",
     "output_type": "stream",
     "text": [
      "\r",
      " 99%|█████████▉| 99/100 [00:32<00:00, 10.68it/s, Loss after step 99=2.83, Cartesian cost Scale=1]"
     ]
    },
    {
     "name": "stderr",
     "output_type": "stream",
     "text": [
      "\r",
      " 99%|█████████▉| 99/100 [00:33<00:00, 10.68it/s, Loss after step 100=2.8, Cartesian cost Scale=1]"
     ]
    },
    {
     "name": "stderr",
     "output_type": "stream",
     "text": [
      "\r",
      "100%|██████████| 100/100 [00:33<00:00,  3.02it/s, Loss after step 100=2.8, Cartesian cost Scale=1]"
     ]
    },
    {
     "name": "stderr",
     "output_type": "stream",
     "text": [
      "\n"
     ]
    },
    {
     "name": "stderr",
     "output_type": "stream",
     "text": [
      "WARNING:absl:Function `_wrapped_model` contains input name(s) args_0 with unsupported characters which will be renamed to args_0_6 in the SavedModel.\n"
     ]
    },
    {
     "name": "stderr",
     "output_type": "stream",
     "text": [
      "WARNING:absl:Found untraced functions such as _update_step_xla while saving (showing 1 of 1). These functions will not be directly callable after loading.\n"
     ]
    },
    {
     "name": "stderr",
     "output_type": "stream",
     "text": [
      "WARNING:absl:Function `_wrapped_model` contains input name(s) args_0 with unsupported characters which will be renamed to args_0_4 in the SavedModel.\n"
     ]
    },
    {
     "name": "stderr",
     "output_type": "stream",
     "text": [
      "WARNING:absl:Function `_wrapped_model` contains input name(s) Decoder_Input with unsupported characters which will be renamed to decoder_input in the SavedModel.\n"
     ]
    }
   ],
   "source": [
    "emap.train()"
   ]
  },
  {
   "cell_type": "markdown",
   "metadata": {},
   "source": [
    "## Plot the result\n",
    "\n",
    "In the result (longer training would be beneficial here), the projection area of asp7 and glu7 are separated."
   ]
  },
  {
   "cell_type": "code",
   "execution_count": 9,
   "metadata": {
    "execution": {
     "iopub.execute_input": "2023-02-06T17:12:46.114588Z",
     "iopub.status.busy": "2023-02-06T17:12:46.114225Z",
     "iopub.status.idle": "2023-02-06T17:12:46.818364Z",
     "shell.execute_reply": "2023-02-06T17:12:46.817740Z"
    }
   },
   "outputs": [
    {
     "data": {
      "text/plain": [
       "<matplotlib.legend.Legend at 0x7f9230fc7910>"
      ]
     },
     "execution_count": 9,
     "metadata": {},
     "output_type": "execute_result"
    },
    {
     "data": {
      "image/png": "[encoded data removed]",
      "text/plain": [
       "<Figure size 640x480 with 1 Axes>"
      ]
     },
     "metadata": {},
     "output_type": "display_data"
    }
   ],
   "source": [
    "import matplotlib.pyplot as plt\n",
    "\n",
    "fig, ax = plt.subplots()\n",
    "\n",
    "# generate ids, based on the names of the trajs\n",
    "ids = (trajs.name_arr == \"asp7\").astype(int)\n",
    "\n",
    "ax.scatter(*emap.encode()[ids == 0].T, label=\"glu7\")\n",
    "ax.scatter(*emap.encode()[ids == 1].T, label=\"asp7\")\n",
    "\n",
    "ax.legend()"
   ]
  },
  {
   "cell_type": "markdown",
   "metadata": {},
   "source": [
    "## Create a new trajectory\n",
    "\n",
    "Using the `InteractivePlotting` class, we can easily generate new molecular conformations by using the decoder part of the neural network. If you're running an interactive notebook, you can use the notebook or qt5 backend and play around with the InteractivePlotting."
   ]
  },
  {
   "cell_type": "code",
   "execution_count": 10,
   "metadata": {
    "execution": {
     "iopub.execute_input": "2023-02-06T17:12:46.821310Z",
     "iopub.status.busy": "2023-02-06T17:12:46.820950Z",
     "iopub.status.idle": "2023-02-06T17:12:47.243373Z",
     "shell.execute_reply": "2023-02-06T17:12:47.242702Z"
    }
   },
   "outputs": [
    {
     "name": "stdout",
     "output_type": "stream",
     "text": [
      "Using the `train_data` attribute of `autoencoder`.\n"
     ]
    },
    {
     "data": {
      "image/png": "[encoded data removed]",
      "text/plain": [
       "<Figure size 1000x800 with 3 Axes>"
      ]
     },
     "metadata": {},
     "output_type": "display_data"
    }
   ],
   "source": [
    "# %matplotlib qt5\n",
    "%matplotlib inline\n",
    "sess = em.InteractivePlotting(emap)"
   ]
  },
  {
   "cell_type": "markdown",
   "metadata": {},
   "source": [
    "For static notebooks, we load the points along the path and generate new molecular conformations from them."
   ]
  },
  {
   "cell_type": "code",
   "execution_count": 11,
   "metadata": {
    "execution": {
     "iopub.execute_input": "2023-02-06T17:12:47.248395Z",
     "iopub.status.busy": "2023-02-06T17:12:47.247717Z",
     "iopub.status.idle": "2023-02-06T17:12:48.095349Z",
     "shell.execute_reply": "2023-02-06T17:12:48.094821Z"
    }
   },
   "outputs": [
    {
     "name": "stderr",
     "output_type": "stream",
     "text": [
      "/opt/hostedtoolcache/Python/3.9.16/x64/lib/python3.9/site-packages/MDAnalysis/analysis/base.py:438: UserWarning: Reader has no dt information, set to 1.0 ps\n",
      "  self.times[i] = ts.time\n"
     ]
    }
   ],
   "source": [
    "sess.statusmenu.status = \"Bezier\"\n",
    "sess.ball_and_stick = True\n",
    "sess.path_points = np.load(\"path.npy\")\n",
    "sess.tool.ind = np.load(\"path.npy\")\n",
    "sess.set_points()"
   ]
  },
  {
   "cell_type": "markdown",
   "metadata": {},
   "source": [
    "View the generated traj:"
   ]
  },
  {
   "cell_type": "code",
   "execution_count": 12,
   "metadata": {
    "execution": {
     "iopub.execute_input": "2023-02-06T17:12:48.103083Z",
     "iopub.status.busy": "2023-02-06T17:12:48.102425Z",
     "iopub.status.idle": "2023-02-06T17:12:48.144228Z",
     "shell.execute_reply": "2023-02-06T17:12:48.143723Z"
    }
   },
   "outputs": [
    {
     "data": {
      "application/vnd.jupyter.widget-view+json": {
       "model_id": "dfb9191998a4435aadee0b86e725f1cd",
       "version_major": 2,
       "version_minor": 0
      },
      "text/plain": [
       "NGLWidget(max_frame=199)"
      ]
     },
     "metadata": {},
     "output_type": "display_data"
    }
   ],
   "source": [
    "sess.view"
   ]
  },
  {
   "cell_type": "code",
   "execution_count": null,
   "metadata": {},
   "outputs": [],
   "source": []
  }
 ],
 "metadata": {
  "language_info": {
   "codemirror_mode": {
    "name": "ipython",
    "version": 3
   },
   "file_extension": ".py",
   "mimetype": "text/x-python",
   "name": "python",
   "nbconvert_exporter": "python",
   "pygments_lexer": "ipython3",
   "version": "3.9.16"
  },
  "widgets": {
   "application/vnd.jupyter.widget-state+json": {
    "state": {
     "0b6a4b15e52344d0805bc070af9b9bd5": {
      "model_module": "@jupyter-widgets/base",
      "model_module_version": "1.2.0",
      "model_name": "LayoutModel",
      "state": {
       "_model_module": "@jupyter-widgets/base",
       "_model_module_version": "1.2.0",
       "_model_name": "LayoutModel",
       "_view_count": null,
       "_view_module": "@jupyter-widgets/base",
       "_view_module_version": "1.2.0",
       "_view_name": "LayoutView",
       "align_content": null,
       "align_items": null,
       "align_self": null,
       "border": null,
       "bottom": null,
       "display": null,
       "flex": null,
       "flex_flow": null,
       "grid_area": null,
       "grid_auto_columns": null,
       "grid_auto_flow": null,
       "grid_auto_rows": null,
       "grid_column": null,
       "grid_gap": null,
       "grid_row": null,
       "grid_template_areas": null,
       "grid_template_columns": null,
       "grid_template_rows": null,
       "height": null,
       "justify_content": null,
       "justify_items": null,
       "left": null,
       "margin": null,
       "max_height": null,
       "max_width": null,
       "min_height": null,
       "min_width": null,
       "object_fit": null,
       "object_position": null,
       "order": null,
       "overflow": null,
       "overflow_x": null,
       "overflow_y": null,
       "padding": null,
       "right": null,
       "top": null,
       "visibility": null,
       "width": null
      }
     },
     "21aea3d90a1e48199f334183f2d09e0b": {
      "buffers": [
       {
        "data": "",
        "encoding": "base64",
        "path": [
         "value"
        ]
       }
      ],
      "model_module": "@jupyter-widgets/controls",
      "model_module_version": "1.5.0",
      "model_name": "ImageModel",
      "state": {
       "_dom_classes": [],
       "_model_module": "@jupyter-widgets/controls",
       "_model_module_version": "1.5.0",
       "_model_name": "ImageModel",
       "_view_count": null,
       "_view_module": "@jupyter-widgets/controls",
       "_view_module_version": "1.5.0",
       "_view_name": "ImageView",
       "format": "png",
       "height": "",
       "layout": "IPY_MODEL_a948d77bc14a47b4acd54d7a1c364fdd",
       "width": "900.0"
      }
     },
     "4493bbbe2f16458db2388502d4966d7c": {
      "model_module": "@jupyter-widgets/base",
      "model_module_version": "1.2.0",
      "model_name": "LayoutModel",
      "state": {
       "_model_module": "@jupyter-widgets/base",
       "_model_module_version": "1.2.0",
       "_model_name": "LayoutModel",
       "_view_count": null,
       "_view_module": "@jupyter-widgets/base",
       "_view_module_version": "1.2.0",
       "_view_name": "LayoutView",
       "align_content": null,
       "align_items": null,
       "align_self": null,
       "border": null,
       "bottom": null,
       "display": null,
       "flex": null,
       "flex_flow": null,
       "grid_area": null,
       "grid_auto_columns": null,
       "grid_auto_flow": null,
       "grid_auto_rows": null,
       "grid_column": null,
       "grid_gap": null,
       "grid_row": null,
       "grid_template_areas": null,
       "grid_template_columns": null,
       "grid_template_rows": null,
       "height": null,
       "justify_content": null,
       "justify_items": null,
       "left": null,
       "margin": null,
       "max_height": null,
       "max_width": null,
       "min_height": null,
       "min_width": null,
       "object_fit": null,
       "object_position": null,
       "order": null,
       "overflow": null,
       "overflow_x": null,
       "overflow_y": null,
       "padding": null,
       "right": null,
       "top": null,
       "visibility": null,
       "width": null
      }
     },
     "5c1d08b1e5db431c8ceb872ea2e56dda": {
      "model_module": "@jupyter-widgets/base",
      "model_module_version": "1.2.0",
      "model_name": "LayoutModel",
      "state": {
       "_model_module": "@jupyter-widgets/base",
       "_model_module_version": "1.2.0",
       "_model_name": "LayoutModel",
       "_view_count": null,
       "_view_module": "@jupyter-widgets/base",
       "_view_module_version": "1.2.0",
       "_view_name": "LayoutView",
       "align_content": null,
       "align_items": null,
       "align_self": null,
       "border": null,
       "bottom": null,
       "display": null,
       "flex": null,
       "flex_flow": null,
       "grid_area": null,
       "grid_auto_columns": null,
       "grid_auto_flow": null,
       "grid_auto_rows": null,
       "grid_column": null,
       "grid_gap": null,
       "grid_row": null,
       "grid_template_areas": null,
       "grid_template_columns": null,
       "grid_template_rows": null,
       "height": null,
       "justify_content": null,
       "justify_items": null,
       "left": null,
       "margin": null,
       "max_height": null,
       "max_width": null,
       "min_height": null,
       "min_width": null,
       "object_fit": null,
       "object_position": null,
       "order": null,
       "overflow": null,
       "overflow_x": null,
       "overflow_y": null,
       "padding": null,
       "right": null,
       "top": null,
       "visibility": null,
       "width": null
      }
     },
     "6a36e54b7d52460db30f2b25593512bf": {
      "model_module": "@jupyter-widgets/controls",
      "model_module_version": "1.5.0",
      "model_name": "ButtonModel",
      "state": {
       "_dom_classes": [],
       "_model_module": "@jupyter-widgets/controls",
       "_model_module_version": "1.5.0",
       "_model_name": "ButtonModel",
       "_view_count": null,
       "_view_module": "@jupyter-widgets/controls",
       "_view_module_version": "1.5.0",
       "_view_name": "ButtonView",
       "button_style": "",
       "description": "",
       "disabled": false,
       "icon": "compress",
       "layout": "IPY_MODEL_a4d520a9bbb346c39e95669e63590139",
       "style": "IPY_MODEL_cba7c5122e1643feb7939167ea0f7e74",
       "tooltip": ""
      }
     },
     "6edd70f5c22a4943bd3f6f4fdeed9782": {
      "model_module": "@jupyter-widgets/controls",
      "model_module_version": "1.5.0",
      "model_name": "HBoxModel",
      "state": {
       "_dom_classes": [],
       "_model_module": "@jupyter-widgets/controls",
       "_model_module_version": "1.5.0",
       "_model_name": "HBoxModel",
       "_view_count": null,
       "_view_module": "@jupyter-widgets/controls",
       "_view_module_version": "1.5.0",
       "_view_name": "HBoxView",
       "box_style": "",
       "children": [
        "IPY_MODEL_d7e673b3fc5848599bc275e0f125bbc7",
        "IPY_MODEL_81729d4c70104b3ea56024c65413dc8c"
       ],
       "layout": "IPY_MODEL_0b6a4b15e52344d0805bc070af9b9bd5"
      }
     },
     "772b4a8ab41f4f39a2b203ea8eb3905b": {
      "model_module": "nglview-js-widgets",
      "model_module_version": "3.0.1",
      "model_name": "ColormakerRegistryModel",
      "state": {
       "_dom_classes": [],
       "_model_module": "nglview-js-widgets",
       "_model_module_version": "3.0.1",
       "_model_name": "ColormakerRegistryModel",
       "_msg_ar": [],
       "_msg_q": [],
       "_ready": false,
       "_view_count": null,
       "_view_module": "nglview-js-widgets",
       "_view_module_version": "3.0.1",
       "_view_name": "ColormakerRegistryView",
       "layout": "IPY_MODEL_5c1d08b1e5db431c8ceb872ea2e56dda"
      }
     },
     "813638d6d7a14dde888cf611e927d9ce": {
      "model_module": "@jupyter-widgets/controls",
      "model_module_version": "1.5.0",
      "model_name": "LinkModel",
      "state": {
       "_model_module": "@jupyter-widgets/controls",
       "_model_module_version": "1.5.0",
       "_model_name": "LinkModel",
       "_view_count": null,
       "_view_module": "@jupyter-widgets/controls",
       "_view_module_version": "1.5.0",
       "_view_name": null,
       "source": [
        "IPY_MODEL_d7e673b3fc5848599bc275e0f125bbc7",
        "value"
       ],
       "target": [
        "IPY_MODEL_81729d4c70104b3ea56024c65413dc8c",
        "value"
       ]
      }
     },
     "81729d4c70104b3ea56024c65413dc8c": {
      "model_module": "@jupyter-widgets/controls",
      "model_module_version": "1.5.0",
      "model_name": "IntSliderModel",
      "state": {
       "_dom_classes": [],
       "_model_module": "@jupyter-widgets/controls",
       "_model_module_version": "1.5.0",
       "_model_name": "IntSliderModel",
       "_view_count": null,
       "_view_module": "@jupyter-widgets/controls",
       "_view_module_version": "1.5.0",
       "_view_name": "IntSliderView",
       "continuous_update": true,
       "description": "",
       "description_tooltip": null,
       "disabled": false,
       "layout": "IPY_MODEL_f0889e503a49425eaa22dcc3f80d91b7",
       "max": 199,
       "min": 0,
       "orientation": "horizontal",
       "readout": true,
       "readout_format": "d",
       "step": 1,
       "style": "IPY_MODEL_91cdbdc770d94c909435a82cd9ff34f1",
       "value": 0
      }
     },
     "91cdbdc770d94c909435a82cd9ff34f1": {
      "model_module": "@jupyter-widgets/controls",
      "model_module_version": "1.5.0",
      "model_name": "SliderStyleModel",
      "state": {
       "_model_module": "@jupyter-widgets/controls",
       "_model_module_version": "1.5.0",
       "_model_name": "SliderStyleModel",
       "_view_count": null,
       "_view_module": "@jupyter-widgets/base",
       "_view_module_version": "1.2.0",
       "_view_name": "StyleView",
       "description_width": "",
       "handle_color": null
      }
     },
     "98ef0cd646744bcf9ddb4b2c22913805": {
      "model_module": "@jupyter-widgets/controls",
      "model_module_version": "1.5.0",
      "model_name": "LinkModel",
      "state": {
       "_model_module": "@jupyter-widgets/controls",
       "_model_module_version": "1.5.0",
       "_model_name": "LinkModel",
       "_view_count": null,
       "_view_module": "@jupyter-widgets/controls",
       "_view_module_version": "1.5.0",
       "_view_name": null,
       "source": [
        "IPY_MODEL_81729d4c70104b3ea56024c65413dc8c",
        "max"
       ],
       "target": [
        "IPY_MODEL_dfb9191998a4435aadee0b86e725f1cd",
        "max_frame"
       ]
      }
     },
     "a4d520a9bbb346c39e95669e63590139": {
      "model_module": "@jupyter-widgets/base",
      "model_module_version": "1.2.0",
      "model_name": "LayoutModel",
      "state": {
       "_model_module": "@jupyter-widgets/base",
       "_model_module_version": "1.2.0",
       "_model_name": "LayoutModel",
       "_view_count": null,
       "_view_module": "@jupyter-widgets/base",
       "_view_module_version": "1.2.0",
       "_view_name": "LayoutView",
       "align_content": null,
       "align_items": null,
       "align_self": null,
       "border": null,
       "bottom": null,
       "display": null,
       "flex": null,
       "flex_flow": null,
       "grid_area": null,
       "grid_auto_columns": null,
       "grid_auto_flow": null,
       "grid_auto_rows": null,
       "grid_column": null,
       "grid_gap": null,
       "grid_row": null,
       "grid_template_areas": null,
       "grid_template_columns": null,
       "grid_template_rows": null,
       "height": null,
       "justify_content": null,
       "justify_items": null,
       "left": null,
       "margin": null,
       "max_height": null,
       "max_width": null,
       "min_height": null,
       "min_width": null,
       "object_fit": null,
       "object_position": null,
       "order": null,
       "overflow": null,
       "overflow_x": null,
       "overflow_y": null,
       "padding": null,
       "right": null,
       "top": null,
       "visibility": null,
       "width": "34px"
      }
     },
     "a948d77bc14a47b4acd54d7a1c364fdd": {
      "model_module": "@jupyter-widgets/base",
      "model_module_version": "1.2.0",
      "model_name": "LayoutModel",
      "state": {
       "_model_module": "@jupyter-widgets/base",
       "_model_module_version": "1.2.0",
       "_model_name": "LayoutModel",
       "_view_count": null,
       "_view_module": "@jupyter-widgets/base",
       "_view_module_version": "1.2.0",
       "_view_name": "LayoutView",
       "align_content": null,
       "align_items": null,
       "align_self": null,
       "border": null,
       "bottom": null,
       "display": null,
       "flex": null,
       "flex_flow": null,
       "grid_area": null,
       "grid_auto_columns": null,
       "grid_auto_flow": null,
       "grid_auto_rows": null,
       "grid_column": null,
       "grid_gap": null,
       "grid_row": null,
       "grid_template_areas": null,
       "grid_template_columns": null,
       "grid_template_rows": null,
       "height": null,
       "justify_content": null,
       "justify_items": null,
       "left": null,
       "margin": null,
       "max_height": null,
       "max_width": null,
       "min_height": null,
       "min_width": null,
       "object_fit": null,
       "object_position": null,
       "order": null,
       "overflow": null,
       "overflow_x": null,
       "overflow_y": null,
       "padding": null,
       "right": null,
       "top": null,
       "visibility": null,
       "width": null
      }
     },
     "c02bd08fa62b4fdbac4ca34ad55d8b87": {
      "model_module": "@jupyter-widgets/controls",
      "model_module_version": "1.5.0",
      "model_name": "LinkModel",
      "state": {
       "_model_module": "@jupyter-widgets/controls",
       "_model_module_version": "1.5.0",
       "_model_name": "LinkModel",
       "_view_count": null,
       "_view_module": "@jupyter-widgets/controls",
       "_view_module_version": "1.5.0",
       "_view_name": null,
       "source": [
        "IPY_MODEL_d7e673b3fc5848599bc275e0f125bbc7",
        "value"
       ],
       "target": [
        "IPY_MODEL_dfb9191998a4435aadee0b86e725f1cd",
        "frame"
       ]
      }
     },
     "c8b038655436483d83b95cfbdc994b51": {
      "model_module": "@jupyter-widgets/controls",
      "model_module_version": "1.5.0",
      "model_name": "LinkModel",
      "state": {
       "_model_module": "@jupyter-widgets/controls",
       "_model_module_version": "1.5.0",
       "_model_name": "LinkModel",
       "_view_count": null,
       "_view_module": "@jupyter-widgets/controls",
       "_view_module_version": "1.5.0",
       "_view_name": null,
       "source": [
        "IPY_MODEL_d7e673b3fc5848599bc275e0f125bbc7",
        "max"
       ],
       "target": [
        "IPY_MODEL_dfb9191998a4435aadee0b86e725f1cd",
        "max_frame"
       ]
      }
     },
     "cba7c5122e1643feb7939167ea0f7e74": {
      "model_module": "@jupyter-widgets/controls",
      "model_module_version": "1.5.0",
      "model_name": "ButtonStyleModel",
      "state": {
       "_model_module": "@jupyter-widgets/controls",
       "_model_module_version": "1.5.0",
       "_model_name": "ButtonStyleModel",
       "_view_count": null,
       "_view_module": "@jupyter-widgets/base",
       "_view_module_version": "1.2.0",
       "_view_name": "StyleView",
       "button_color": null,
       "font_weight": ""
      }
     },
     "cbce4a30ab8f4f919d0cf57395e34292": {
      "model_module": "@jupyter-widgets/base",
      "model_module_version": "1.2.0",
      "model_name": "LayoutModel",
      "state": {
       "_model_module": "@jupyter-widgets/base",
       "_model_module_version": "1.2.0",
       "_model_name": "LayoutModel",
       "_view_count": null,
       "_view_module": "@jupyter-widgets/base",
       "_view_module_version": "1.2.0",
       "_view_name": "LayoutView",
       "align_content": null,
       "align_items": null,
       "align_self": null,
       "border": null,
       "bottom": null,
       "display": null,
       "flex": null,
       "flex_flow": null,
       "grid_area": null,
       "grid_auto_columns": null,
       "grid_auto_flow": null,
       "grid_auto_rows": null,
       "grid_column": null,
       "grid_gap": null,
       "grid_row": null,
       "grid_template_areas": null,
       "grid_template_columns": null,
       "grid_template_rows": null,
       "height": null,
       "justify_content": null,
       "justify_items": null,
       "left": null,
       "margin": null,
       "max_height": null,
       "max_width": null,
       "min_height": null,
       "min_width": null,
       "object_fit": null,
       "object_position": null,
       "order": null,
       "overflow": null,
       "overflow_x": null,
       "overflow_y": null,
       "padding": null,
       "right": null,
       "top": null,
       "visibility": null,
       "width": null
      }
     },
     "cefd62e6211e4da3b959f53a05e6ef95": {
      "model_module": "@jupyter-widgets/controls",
      "model_module_version": "1.5.0",
      "model_name": "DescriptionStyleModel",
      "state": {
       "_model_module": "@jupyter-widgets/controls",
       "_model_module_version": "1.5.0",
       "_model_name": "DescriptionStyleModel",
       "_view_count": null,
       "_view_module": "@jupyter-widgets/base",
       "_view_module_version": "1.2.0",
       "_view_name": "StyleView",
       "description_width": ""
      }
     },
     "d7e673b3fc5848599bc275e0f125bbc7": {
      "model_module": "@jupyter-widgets/controls",
      "model_module_version": "1.5.0",
      "model_name": "PlayModel",
      "state": {
       "_dom_classes": [],
       "_model_module": "@jupyter-widgets/controls",
       "_model_module_version": "1.5.0",
       "_model_name": "PlayModel",
       "_playing": false,
       "_repeat": false,
       "_view_count": null,
       "_view_module": "@jupyter-widgets/controls",
       "_view_module_version": "1.5.0",
       "_view_name": "PlayView",
       "description": "",
       "description_tooltip": null,
       "disabled": false,
       "interval": 100,
       "layout": "IPY_MODEL_4493bbbe2f16458db2388502d4966d7c",
       "max": 199,
       "min": 0,
       "show_repeat": true,
       "step": 1,
       "style": "IPY_MODEL_cefd62e6211e4da3b959f53a05e6ef95",
       "value": 0
      }
     },
     "dfb9191998a4435aadee0b86e725f1cd": {
      "model_module": "nglview-js-widgets",
      "model_module_version": "3.0.1",
      "model_name": "NGLModel",
      "state": {
       "_camera_orientation": [],
       "_camera_str": "orthographic",
       "_dom_classes": [],
       "_gui_theme": null,
       "_ibtn_fullscreen": "IPY_MODEL_6a36e54b7d52460db30f2b25593512bf",
       "_igui": null,
       "_iplayer": "IPY_MODEL_6edd70f5c22a4943bd3f6f4fdeed9782",
       "_model_module": "nglview-js-widgets",
       "_model_module_version": "3.0.1",
       "_model_name": "NGLModel",
       "_ngl_color_dict": {},
       "_ngl_coordinate_resource": {},
       "_ngl_full_stage_parameters": {},
       "_ngl_msg_archive": [
        {
         "args": [
          {
           "binary": false,
           "data": "TITLE     MDANALYSIS FRAME 0: Created by PDBWriter\nCRYST1    1.000    1.000    1.000  90.00  90.00  90.00 P 1           1\nREMARK     285 UNITARY VALUES FOR THE UNIT CELL AUTOMATICALLY SET\nREMARK     285 BY MDANALYSIS PDBWRITER BECAUSE UNIT CELL INFORMATION\nREMARK     285 WAS MISSING.\nREMARK     285 PROTEIN DATA BANK CONVENTIONS REQUIRE THAT\nREMARK     285 CRYST1 RECORD IS INCLUDED, BUT THE VALUES ON\nREMARK     285 THIS RECORD ARE MEANINGLESS.\nATOM      1  N   GLU A   1      32.450  37.400  14.970  1.00  0.00      A    N  \nATOM      2  H   GLU A   1      32.140  36.630  14.410  1.00  0.00      A    H  \nATOM      3  H2  GLU A   1      31.700  38.020  15.220  1.00  0.00      A    H  \nATOM      4  CA  GLU A   1      33.510  37.160  15.950  1.00  0.00      A    C  \nATOM      5  CB  GLU A   1      34.330  36.000  15.400  1.00  0.00      A    C  \nATOM      6  CG  GLU A   1      34.471  35.907  13.879  1.00  0.00      A    C  \nATOM      7  CD  GLU A   1      35.506  34.897  13.378  1.00  0.00      A    C  \nATOM      8  OE1 GLU A   1      36.337  34.397  14.130  1.00  0.00      A    O  \nATOM      9  OE2 GLU A   1      35.623  34.708  12.034  1.00  0.00      A    O  \nATOM     10  HE2 GLU A   1      36.461  34.196  11.856  1.00  0.00      A    H  \nATOM     11  C   GLU A   1      32.454  36.681  16.945  1.00  0.00      A    C  \nATOM     12  O   GLU A   1      32.778  36.439  18.109  1.00  0.00      A    O  \nATOM     13  N   GLU A   2      31.247  36.540  16.406  1.00  0.00      A    N  \nATOM     14  H   GLU A   2      30.969  37.240  15.746  1.00  0.00      A    H  \nATOM     15  CA  GLU A   2      30.392  35.371  16.650  1.00  0.00      A    C  \nATOM     16  CB  GLU A   2      30.979  34.640  17.862  1.00  0.00      A    C  \nATOM     17  CG  GLU A   2      32.283  35.288  18.340  1.00  0.00      A    C  \nATOM     18  CD  GLU A   2      32.896  34.400  19.420  1.00  0.00      A    C  \nATOM     19  OE1 GLU A   2      34.006  33.908  19.213  1.00  0.00      A    O  \nATOM     20  OE2 GLU A   2      32.341  34.308  20.662  1.00  0.00      A    O  \nATOM     21  HE2 GLU A   2      33.030  33.899  21.267  1.00  0.00      A    H  \nATOM     22  C   GLU A   2      30.976  34.768  15.369  1.00  0.00      A    C  \nATOM     23  O   GLU A   2      30.277  34.116  14.586  1.00  0.00      A    O  \nATOM     24  N   GLU A   3      32.242  35.061  15.123  1.00  0.00      A    N  \nATOM     25  H   GLU A   3      32.497  36.022  15.244  1.00  0.00      A    H  \nATOM     26  CA  GLU A   3      33.215  34.102  14.577  1.00  0.00      A    C  \nATOM     27  CB  GLU A   3      32.704  33.543  13.247  1.00  0.00      A    C  \nATOM     28  CG  GLU A   3      31.433  34.175  12.679  1.00  0.00      A    C  \nATOM     29  CD  GLU A   3      30.990  33.607  11.335  1.00  0.00      A    C  \nATOM     30  OE1 GLU A   3      31.099  32.411  11.081  1.00  0.00      A    O  \nATOM     31  OE2 GLU A   3      30.217  34.484  10.639  1.00  0.00      A    O  \nATOM     32  HE2 GLU A   3      30.302  34.273   9.661  1.00  0.00      A    H  \nATOM     33  C   GLU A   3      34.444  33.320  15.063  1.00  0.00      A    C  \nATOM     34  O   GLU A   3      35.505  33.900  15.252  1.00  0.00      A    O  \nATOM     35  N   GLU A   4      34.292  31.999  15.108  1.00  0.00      A    N  \nATOM     36  H   GLU A   4      33.986  31.502  15.914  1.00  0.00      A    H  \nATOM     37  CA  GLU A   4      34.667  31.171  13.956  1.00  0.00      A    C  \nATOM     38  CB  GLU A   4      36.166  31.335  13.700  1.00  0.00      A    C  \nATOM     39  CG  GLU A   4      36.916  31.453  15.031  1.00  0.00      A    C  \nATOM     40  CD  GLU A   4      38.391  31.033  14.998  1.00  0.00      A    C  \nATOM     41  OE1 GLU A   4      38.860  30.648  13.925  1.00  0.00      A    O  \nATOM     42  OE2 GLU A   4      39.072  31.174  16.164  1.00  0.00      A    O  \nATOM     43  HE2 GLU A   4      40.059  31.057  16.059  1.00  0.00      A    H  \nATOM     44  C   GLU A   4      34.029  32.570  13.962  1.00  0.00      A    C  \nATOM     45  O   GLU A   4      33.778  33.279  12.986  1.00  0.00      A    O  \nATOM     46  N   GLU A   5      33.740  33.026  15.169  1.00  0.00      A    N  \nATOM     47  H   GLU A   5      33.532  32.363  15.886  1.00  0.00      A    H  \nATOM     48  CA  GLU A   5      34.005  34.382  15.671  1.00  0.00      A    C  \nATOM     49  CB  GLU A   5      34.325  35.310  14.499  1.00  0.00      A    C  \nATOM     50  CG  GLU A   5      35.181  34.634  13.432  1.00  0.00      A    C  \nATOM     51  CD  GLU A   5      35.020  35.108  11.991  1.00  0.00      A    C  \nATOM     52  OE1 GLU A   5      35.852  34.889  11.115  1.00  0.00      A    O  \nATOM     53  OE2 GLU A   5      33.997  35.942  11.655  1.00  0.00      A    O  \nATOM     54  HE2 GLU A   5      33.956  36.005  10.658  1.00  0.00      A    H  \nATOM     55  C   GLU A   5      35.099  34.528  16.727  1.00  0.00      A    C  \nATOM     56  O   GLU A   5      34.950  34.144  17.895  1.00  0.00      A    O  \nATOM     57  N   GLU A   6      36.297  34.866  16.269  1.00  0.00      A    N  \nATOM     58  H   GLU A   6      36.551  34.524  15.367  1.00  0.00      A    H  \nATOM     59  CA  GLU A   6      37.290  35.726  16.937  1.00  0.00      A    C  \nATOM     60  CB  GLU A   6      37.998  35.069  18.117  1.00  0.00      A    C  \nATOM     61  CG  GLU A   6      38.014  33.539  18.152  1.00  0.00      A    C  \nATOM     62  CD  GLU A   6      38.386  33.055  19.560  1.00  0.00      A    C  \nATOM     63  OE1 GLU A   6      37.740  32.227  20.190  1.00  0.00      A    O  \nATOM     64  OE2 GLU A   6      39.467  33.740  20.038  1.00  0.00      A    O  \nATOM     65  HE2 GLU A   6      39.820  33.276  20.849  1.00  0.00      A    H  \nATOM     66  C   GLU A   6      37.254  37.240  17.179  1.00  0.00      A    C  \nATOM     67  O   GLU A   6      36.752  37.975  16.335  1.00  0.00      A    O  \nATOM     68  N   GLU A   7      37.603  37.709  18.373  1.00  0.00      A    N  \nATOM     69  H   GLU A   7      36.933  38.075  19.022  1.00  0.00      A    H  \nATOM     70  CA  GLU A   7      38.971  38.098  18.738  1.00  0.00      A    C  \nATOM     71  CB  GLU A   7      39.602  38.864  17.575  1.00  0.00      A    C  \nATOM     72  CG  GLU A   7      39.100  38.496  16.179  1.00  0.00      A    C  \nATOM     73  CD  GLU A   7      39.200  39.630  15.154  1.00  0.00      A    C  \nATOM     74  OE1 GLU A   7      39.183  40.823  15.463  1.00  0.00      A    O  \nATOM     75  OE2 GLU A   7      39.251  39.234  13.859  1.00  0.00      A    O  \nATOM     76  HE2 GLU A   7      39.275  40.159  13.472  1.00  0.00      A    H  \nATOM     77  C   GLU A   7      39.768  38.247  20.034  1.00  0.00      A    C  \nATOM     78  OXT GLU A   7      41.001  38.262  20.040  1.00  0.00      A    O  \nATOM     79  O   GLU A   7      39.037  38.366  21.169  1.00  0.00      A    O  \nATOM     80  HO  GLU A   7      39.753  38.487  21.857  1.00  0.00      A    H  \nEND\n",
           "type": "blob"
          }
         ],
         "kwargs": {
          "defaultRepresentation": true,
          "ext": "pdb",
          "name": "nglview.adaptor.MDAnalysisTrajectory"
         },
         "methodName": "loadFile",
         "reconstruc_color_scheme": false,
         "target": "Stage",
         "type": "call_method"
        },
        {
         "args": [],
         "component_index": 0,
         "kwargs": {},
         "methodName": "removeAllRepresentations",
         "reconstruc_color_scheme": false,
         "target": "compList",
         "type": "call_method"
        },
        {
         "args": [
          "ball+stick"
         ],
         "component_index": 0,
         "kwargs": {
          "sele": "all"
         },
         "methodName": "addRepresentation",
         "reconstruc_color_scheme": false,
         "target": "compList",
         "type": "call_method"
        }
       ],
       "_ngl_original_stage_parameters": {},
       "_ngl_repr_dict": {},
       "_ngl_serialize": false,
       "_ngl_version": "",
       "_ngl_view_id": [],
       "_player_dict": {},
       "_scene_position": {},
       "_scene_rotation": {},
       "_synced_model_ids": [],
       "_synced_repr_model_ids": [],
       "_view_count": null,
       "_view_height": "",
       "_view_module": "nglview-js-widgets",
       "_view_module_version": "3.0.1",
       "_view_name": "NGLView",
       "_view_width": "",
       "background": "white",
       "frame": 0,
       "gui_style": null,
       "layout": "IPY_MODEL_cbce4a30ab8f4f919d0cf57395e34292",
       "max_frame": 199,
       "n_components": 0,
       "picked": {}
      }
     },
     "f0889e503a49425eaa22dcc3f80d91b7": {
      "model_module": "@jupyter-widgets/base",
      "model_module_version": "1.2.0",
      "model_name": "LayoutModel",
      "state": {
       "_model_module": "@jupyter-widgets/base",
       "_model_module_version": "1.2.0",
       "_model_name": "LayoutModel",
       "_view_count": null,
       "_view_module": "@jupyter-widgets/base",
       "_view_module_version": "1.2.0",
       "_view_name": "LayoutView",
       "align_content": null,
       "align_items": null,
       "align_self": null,
       "border": null,
       "bottom": null,
       "display": null,
       "flex": null,
       "flex_flow": null,
       "grid_area": null,
       "grid_auto_columns": null,
       "grid_auto_flow": null,
       "grid_auto_rows": null,
       "grid_column": null,
       "grid_gap": null,
       "grid_row": null,
       "grid_template_areas": null,
       "grid_template_columns": null,
       "grid_template_rows": null,
       "height": null,
       "justify_content": null,
       "justify_items": null,
       "left": null,
       "margin": null,
       "max_height": null,
       "max_width": null,
       "min_height": null,
       "min_width": null,
       "object_fit": null,
       "object_position": null,
       "order": null,
       "overflow": null,
       "overflow_x": null,
       "overflow_y": null,
       "padding": null,
       "right": null,
       "top": null,
       "visibility": null,
       "width": null
      }
     }
    },
    "version_major": 2,
    "version_minor": 0
   }
  }
 },
 "nbformat": 4,
 "nbformat_minor": 1
}
