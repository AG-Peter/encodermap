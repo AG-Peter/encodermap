{
 "cells": [
  {
   "cell_type": "markdown",
   "metadata": {
    "collapsed": true
   },
   "source": [
    "# Training with different topologies\n",
    "\n",
    "Int this tutorial, you will learn how to use EncoderMap's new sparse trainign feature to learn the conformations of multiple proteins with different topologies.\n",
    "\n",
    "Run this notebook on Google Colab:\n",
    "\n",
    "[![Open in Colab](https://colab.research.google.com/assets/colab-badge.svg)](https://colab.research.google.com/github/AG-Peter/encodermap/blob/main/tutorials/notebooks_intermediate/02_training_with_different_topologies.ipynb)\n",
    "\n",
    "Find the documentation of EncoderMap:\n",
    "\n",
    "https://ag-peter.github.io/encodermap\n",
    "\n",
    "## Install encodermap on Google colab\n",
    "\n",
    "If you are on Google colab, please uncomment this line and install encodermap:"
   ]
  },
  {
   "cell_type": "code",
   "execution_count": 1,
   "metadata": {
    "execution": {
     "iopub.execute_input": "2023-02-02T12:59:17.904107Z",
     "iopub.status.busy": "2023-02-02T12:59:17.903468Z",
     "iopub.status.idle": "2023-02-02T12:59:17.907021Z",
     "shell.execute_reply": "2023-02-02T12:59:17.906429Z"
    }
   },
   "outputs": [],
   "source": [
    "# !pip install \"git+https://github.com/AG-Peter/encodermap.git@main\"\n",
    "# !pip install -r pip install -r https://raw.githubusercontent.com/AG-Peter/encodermap/main/tests/test_requirements.md"
   ]
  },
  {
   "cell_type": "markdown",
   "metadata": {},
   "source": [
    "## Imports"
   ]
  },
  {
   "cell_type": "code",
   "execution_count": 2,
   "metadata": {
    "execution": {
     "iopub.execute_input": "2023-02-02T12:59:17.909924Z",
     "iopub.status.busy": "2023-02-02T12:59:17.909497Z",
     "iopub.status.idle": "2023-02-02T12:59:21.265105Z",
     "shell.execute_reply": "2023-02-02T12:59:21.264327Z"
    }
   },
   "outputs": [
    {
     "name": "stderr",
     "output_type": "stream",
     "text": [
      "2023-02-02 12:59:18.061445: I tensorflow/core/platform/cpu_feature_guard.cc:193] This TensorFlow binary is optimized with oneAPI Deep Neural Network Library (oneDNN) to use the following CPU instructions in performance-critical operations:  AVX2 AVX512F FMA\n",
      "To enable them in other operations, rebuild TensorFlow with the appropriate compiler flags.\n",
      "2023-02-02 12:59:18.206903: W tensorflow/compiler/xla/stream_executor/platform/default/dso_loader.cc:64] Could not load dynamic library 'libcudart.so.11.0'; dlerror: libcudart.so.11.0: cannot open shared object file: No such file or directory; LD_LIBRARY_PATH: /opt/hostedtoolcache/Python/3.9.16/x64/lib\n",
      "2023-02-02 12:59:18.206923: I tensorflow/compiler/xla/stream_executor/cuda/cudart_stub.cc:29] Ignore above cudart dlerror if you do not have a GPU set up on your machine.\n"
     ]
    },
    {
     "name": "stderr",
     "output_type": "stream",
     "text": [
      "2023-02-02 12:59:18.863264: W tensorflow/compiler/xla/stream_executor/platform/default/dso_loader.cc:64] Could not load dynamic library 'libnvinfer.so.7'; dlerror: libnvinfer.so.7: cannot open shared object file: No such file or directory; LD_LIBRARY_PATH: /opt/hostedtoolcache/Python/3.9.16/x64/lib\n",
      "2023-02-02 12:59:18.863340: W tensorflow/compiler/xla/stream_executor/platform/default/dso_loader.cc:64] Could not load dynamic library 'libnvinfer_plugin.so.7'; dlerror: libnvinfer_plugin.so.7: cannot open shared object file: No such file or directory; LD_LIBRARY_PATH: /opt/hostedtoolcache/Python/3.9.16/x64/lib\n",
      "2023-02-02 12:59:18.863347: W tensorflow/compiler/tf2tensorrt/utils/py_utils.cc:38] TF-TRT Warning: Cannot dlopen some TensorRT libraries. If you would like to use Nvidia GPU with TensorRT, please make sure the missing libraries mentioned above are installed properly.\n"
     ]
    },
    {
     "data": {
      "application/vnd.jupyter.widget-view+json": {
       "model_id": "7edc0cfb865d4757879ff1dbc3b39236",
       "version_major": 2,
       "version_minor": 0
      },
      "text/plain": []
     },
     "metadata": {},
     "output_type": "display_data"
    }
   ],
   "source": [
    "import encodermap as em\n",
    "import numpy as np\n",
    "\n",
    "%matplotlib inline\n",
    "%load_ext autoreload\n",
    "%autoreload 2\n",
    "%config Completer.use_jedi = False"
   ]
  },
  {
   "cell_type": "markdown",
   "metadata": {},
   "source": [
    "Fix tensorflow seed for reproducibility"
   ]
  },
  {
   "cell_type": "code",
   "execution_count": 3,
   "metadata": {
    "execution": {
     "iopub.execute_input": "2023-02-02T12:59:21.269431Z",
     "iopub.status.busy": "2023-02-02T12:59:21.268699Z",
     "iopub.status.idle": "2023-02-02T12:59:21.311334Z",
     "shell.execute_reply": "2023-02-02T12:59:21.310674Z"
    }
   },
   "outputs": [],
   "source": [
    "import tensorflow as tf\n",
    "tf.random.set_seed(1)"
   ]
  },
  {
   "cell_type": "markdown",
   "metadata": {},
   "source": [
    "## Load the trajectories\n",
    "\n",
    "We use EncoderMap's `TrajEnsemble` class to load the trajectories and do the feature alignment."
   ]
  },
  {
   "cell_type": "code",
   "execution_count": 4,
   "metadata": {
    "execution": {
     "iopub.execute_input": "2023-02-02T12:59:21.314835Z",
     "iopub.status.busy": "2023-02-02T12:59:21.314138Z",
     "iopub.status.idle": "2023-02-02T12:59:21.357689Z",
     "shell.execute_reply": "2023-02-02T12:59:21.357043Z"
    }
   },
   "outputs": [],
   "source": [
    "traj_files = [\"glu7.xtc\", \"asp7.xtc\"]\n",
    "top_files = [\"glu7.pdb\", \"asp7.pdb\"]\n",
    "\n",
    "trajs = em.load(traj_files, top_files)"
   ]
  },
  {
   "cell_type": "markdown",
   "metadata": {},
   "source": [
    "Load the CVs with the `ensemble=True` options."
   ]
  },
  {
   "cell_type": "code",
   "execution_count": 5,
   "metadata": {
    "execution": {
     "iopub.execute_input": "2023-02-02T12:59:21.361208Z",
     "iopub.status.busy": "2023-02-02T12:59:21.360580Z",
     "iopub.status.idle": "2023-02-02T12:59:22.623987Z",
     "shell.execute_reply": "2023-02-02T12:59:22.623315Z"
    }
   },
   "outputs": [],
   "source": [
    "trajs.load_CVs(\"all\", ensemble=True)"
   ]
  },
  {
   "cell_type": "code",
   "execution_count": 6,
   "metadata": {
    "execution": {
     "iopub.execute_input": "2023-02-02T12:59:22.627908Z",
     "iopub.status.busy": "2023-02-02T12:59:22.627301Z",
     "iopub.status.idle": "2023-02-02T12:59:23.260286Z",
     "shell.execute_reply": "2023-02-02T12:59:23.259574Z"
    }
   },
   "outputs": [
    {
     "data": {
      "text/plain": [
       "<encodermap.TrajEnsemble object. Current backend is no_load. Containing 20002 frames. CV side_dihedrals with shape (20002, 21) loaded. CV central_angles with shape (20002, 19) loaded. CV central_cartesians with shape (20002, 21, 3) loaded. CV central_distances with shape (20002, 20) loaded. CV central_dihedrals with shape (20002, 18) loaded. Object at 0x7f5ab40b7af0>"
      ]
     },
     "execution_count": 6,
     "metadata": {},
     "output_type": "execute_result"
    }
   ],
   "source": [
    "trajs"
   ]
  },
  {
   "cell_type": "markdown",
   "metadata": {},
   "source": [
    "## Create the AngleDihedralCartesianEncoderMap\n",
    "\n",
    "The AngleDihedralCartesianEncoderMap tries to learn all of the geometric features of a protein. The angles (backbone angles, backbone dihedrals, sidechain dihedrals) are passed through a neuronal network autoencoder, while the distances between the backbone atoms are used to create cartesian coordinates from the learned angles. The generated cartesians and the input (true) cartesians are used to construct pairwise C$_\\alpha$ distances, which are then also weighted using sketchmap's sigmoid function. The `cartesian_cost_scale_soft_start` gradually increases the contribution of this cost function to the overall model loss."
   ]
  },
  {
   "cell_type": "code",
   "execution_count": 7,
   "metadata": {
    "execution": {
     "iopub.execute_input": "2023-02-02T12:59:23.263658Z",
     "iopub.status.busy": "2023-02-02T12:59:23.263117Z",
     "iopub.status.idle": "2023-02-02T12:59:27.447467Z",
     "shell.execute_reply": "2023-02-02T12:59:27.446763Z"
    }
   },
   "outputs": [
    {
     "name": "stdout",
     "output_type": "stream",
     "text": [
      "Output files are saved to runs/asp7_glu7_asp8/run0 as defined in 'main_path' in the parameters.\n",
      "Input contains nans. Using sparse network.\n"
     ]
    },
    {
     "name": "stderr",
     "output_type": "stream",
     "text": [
      "2023-02-02 12:59:23.434365: W tensorflow/compiler/xla/stream_executor/platform/default/dso_loader.cc:64] Could not load dynamic library 'libcuda.so.1'; dlerror: libcuda.so.1: cannot open shared object file: No such file or directory; LD_LIBRARY_PATH: /opt/hostedtoolcache/Python/3.9.16/x64/lib\n",
      "2023-02-02 12:59:23.434397: W tensorflow/compiler/xla/stream_executor/cuda/cuda_driver.cc:265] failed call to cuInit: UNKNOWN ERROR (303)\n",
      "2023-02-02 12:59:23.434418: I tensorflow/compiler/xla/stream_executor/cuda/cuda_diagnostics.cc:156] kernel driver does not appear to be running on this host (fv-az442-794): /proc/driver/nvidia/version does not exist\n",
      "2023-02-02 12:59:23.434663: I tensorflow/core/platform/cpu_feature_guard.cc:193] This TensorFlow binary is optimized with oneAPI Deep Neural Network Library (oneDNN) to use the following CPU instructions in performance-critical operations:  AVX2 AVX512F FMA\n",
      "To enable them in other operations, rebuild TensorFlow with the appropriate compiler flags.\n"
     ]
    },
    {
     "name": "stdout",
     "output_type": "stream",
     "text": [
      "input shapes are:\n",
      "{'side_dihedrals': TensorShape([20002, 21]), 'central_angles': (20002, 19), 'central_cartesians': (20002, 21, 3), 'central_distances': (20002, 20), 'central_dihedrals': (20002, 18)}\n",
      "You must install pydot (`pip install pydot`) and install graphviz (see instructions at https://graphviz.gitlab.io/download/) for plot_model to work.\n"
     ]
    },
    {
     "name": "stdout",
     "output_type": "stream",
     "text": [
      "Saved a text-summary of the model and an image in runs/asp7_glu7_asp8/run0, as specified in 'main_path' in the parameters.\n"
     ]
    }
   ],
   "source": [
    "p = em.ADCParameters(use_backbone_angles=True,\n",
    "                     distance_cost_scale=1,\n",
    "                     auto_cost_scale=0.1,\n",
    "                     cartesian_cost_scale_soft_start=(50, 80),\n",
    "                     n_neurons = [500, 250, 125, 2],\n",
    "                     activation_functions = ['', 'tanh', 'tanh', 'tanh', ''],\n",
    "                     use_sidechains=True,\n",
    "                     summary_step=1,\n",
    "                     tensorboard=True,\n",
    "                     periodicity=2*np.pi,\n",
    "                     n_steps=100,\n",
    "                     checkpoint_step=1000,\n",
    "                     dist_sig_parameters = (4.5, 12, 6, 1, 2, 6),\n",
    "                     main_path=em.misc.run_path('runs/asp7_glu7_asp8'),\n",
    "                     model_api='functional',\n",
    "                    )\n",
    "emap = em.AngleDihedralCartesianEncoderMap(trajs, p)"
   ]
  },
  {
   "cell_type": "markdown",
   "metadata": {},
   "source": [
    "train"
   ]
  },
  {
   "cell_type": "code",
   "execution_count": 8,
   "metadata": {
    "execution": {
     "iopub.execute_input": "2023-02-02T12:59:27.450532Z",
     "iopub.status.busy": "2023-02-02T12:59:27.450118Z",
     "iopub.status.idle": "2023-02-02T13:00:26.759312Z",
     "shell.execute_reply": "2023-02-02T13:00:26.758556Z"
    }
   },
   "outputs": [
    {
     "name": "stderr",
     "output_type": "stream",
     "text": [
      "\r",
      "  0%|          | 0/100 [00:00<?, ?it/s]"
     ]
    },
    {
     "name": "stderr",
     "output_type": "stream",
     "text": [
      "\r",
      "  0%|          | 0/100 [00:00<?, ?it/s, Loss after step ?=?, Cartesian cost Scale=?]"
     ]
    },
    {
     "name": "stderr",
     "output_type": "stream",
     "text": [
      "\r",
      "  0%|          | 0/100 [00:24<?, ?it/s, Loss after step 1=6.73, Cartesian cost Scale=0]"
     ]
    },
    {
     "name": "stderr",
     "output_type": "stream",
     "text": [
      "\r",
      "  1%|          | 1/100 [00:24<40:03, 24.28s/it, Loss after step 1=6.73, Cartesian cost Scale=0]"
     ]
    },
    {
     "name": "stderr",
     "output_type": "stream",
     "text": [
      "\r",
      "  1%|          | 1/100 [00:24<40:03, 24.28s/it, Loss after step 2=6.18, Cartesian cost Scale=0]"
     ]
    },
    {
     "name": "stderr",
     "output_type": "stream",
     "text": [
      "\r",
      "  2%|▏         | 2/100 [00:24<16:25, 10.06s/it, Loss after step 2=6.18, Cartesian cost Scale=0]"
     ]
    },
    {
     "name": "stderr",
     "output_type": "stream",
     "text": [
      "\r",
      "  2%|▏         | 2/100 [00:24<16:25, 10.06s/it, Loss after step 3=5.46, Cartesian cost Scale=0]"
     ]
    },
    {
     "name": "stderr",
     "output_type": "stream",
     "text": [
      "\r",
      "  3%|▎         | 3/100 [00:24<16:15, 10.06s/it, Loss after step 4=5.09, Cartesian cost Scale=0]"
     ]
    },
    {
     "name": "stderr",
     "output_type": "stream",
     "text": [
      "\r",
      "  4%|▍         | 4/100 [00:24<06:06,  3.81s/it, Loss after step 4=5.09, Cartesian cost Scale=0]"
     ]
    },
    {
     "name": "stderr",
     "output_type": "stream",
     "text": [
      "\r",
      "  4%|▍         | 4/100 [00:24<06:06,  3.81s/it, Loss after step 5=4.84, Cartesian cost Scale=0]"
     ]
    },
    {
     "name": "stderr",
     "output_type": "stream",
     "text": [
      "\r",
      "  5%|▌         | 5/100 [00:24<06:02,  3.81s/it, Loss after step 6=4.67, Cartesian cost Scale=0]"
     ]
    },
    {
     "name": "stderr",
     "output_type": "stream",
     "text": [
      "\r",
      "  6%|▌         | 6/100 [00:24<03:13,  2.06s/it, Loss after step 6=4.67, Cartesian cost Scale=0]"
     ]
    },
    {
     "name": "stderr",
     "output_type": "stream",
     "text": [
      "\r",
      "  6%|▌         | 6/100 [00:24<03:13,  2.06s/it, Loss after step 7=4.55, Cartesian cost Scale=0]"
     ]
    },
    {
     "name": "stderr",
     "output_type": "stream",
     "text": [
      "\r",
      "  7%|▋         | 7/100 [00:24<03:11,  2.06s/it, Loss after step 8=4.43, Cartesian cost Scale=0]"
     ]
    },
    {
     "name": "stderr",
     "output_type": "stream",
     "text": [
      "\r",
      "  8%|▊         | 8/100 [00:24<01:56,  1.27s/it, Loss after step 8=4.43, Cartesian cost Scale=0]"
     ]
    },
    {
     "name": "stderr",
     "output_type": "stream",
     "text": [
      "\r",
      "  8%|▊         | 8/100 [00:25<01:56,  1.27s/it, Loss after step 9=4.31, Cartesian cost Scale=0]"
     ]
    },
    {
     "name": "stderr",
     "output_type": "stream",
     "text": [
      "\r",
      "  9%|▉         | 9/100 [00:25<01:55,  1.27s/it, Loss after step 10=4.18, Cartesian cost Scale=0]"
     ]
    },
    {
     "name": "stderr",
     "output_type": "stream",
     "text": [
      "\r",
      " 10%|█         | 10/100 [00:25<01:15,  1.19it/s, Loss after step 10=4.18, Cartesian cost Scale=0]"
     ]
    },
    {
     "name": "stderr",
     "output_type": "stream",
     "text": [
      "\r",
      " 10%|█         | 10/100 [00:25<01:15,  1.19it/s, Loss after step 11=4.17, Cartesian cost Scale=0]"
     ]
    },
    {
     "name": "stderr",
     "output_type": "stream",
     "text": [
      "\r",
      " 11%|█         | 11/100 [00:25<01:14,  1.19it/s, Loss after step 12=4.14, Cartesian cost Scale=0]"
     ]
    },
    {
     "name": "stderr",
     "output_type": "stream",
     "text": [
      "\r",
      " 12%|█▏        | 12/100 [00:25<00:51,  1.71it/s, Loss after step 12=4.14, Cartesian cost Scale=0]"
     ]
    },
    {
     "name": "stderr",
     "output_type": "stream",
     "text": [
      "\r",
      " 12%|█▏        | 12/100 [00:25<00:51,  1.71it/s, Loss after step 13=4.08, Cartesian cost Scale=0]"
     ]
    },
    {
     "name": "stderr",
     "output_type": "stream",
     "text": [
      "\r",
      " 13%|█▎        | 13/100 [00:25<00:50,  1.71it/s, Loss after step 14=4.06, Cartesian cost Scale=0]"
     ]
    },
    {
     "name": "stderr",
     "output_type": "stream",
     "text": [
      "\r",
      " 14%|█▍        | 14/100 [00:25<00:36,  2.36it/s, Loss after step 14=4.06, Cartesian cost Scale=0]"
     ]
    },
    {
     "name": "stderr",
     "output_type": "stream",
     "text": [
      "\r",
      " 14%|█▍        | 14/100 [00:25<00:36,  2.36it/s, Loss after step 15=4.12, Cartesian cost Scale=0]"
     ]
    },
    {
     "name": "stderr",
     "output_type": "stream",
     "text": [
      "\r",
      " 15%|█▌        | 15/100 [00:25<00:36,  2.36it/s, Loss after step 16=4.07, Cartesian cost Scale=0]"
     ]
    },
    {
     "name": "stderr",
     "output_type": "stream",
     "text": [
      "\r",
      " 16%|█▌        | 16/100 [00:25<00:26,  3.14it/s, Loss after step 16=4.07, Cartesian cost Scale=0]"
     ]
    },
    {
     "name": "stderr",
     "output_type": "stream",
     "text": [
      "\r",
      " 16%|█▌        | 16/100 [00:25<00:26,  3.14it/s, Loss after step 17=4.03, Cartesian cost Scale=0]"
     ]
    },
    {
     "name": "stderr",
     "output_type": "stream",
     "text": [
      "\r",
      " 17%|█▋        | 17/100 [00:25<00:26,  3.14it/s, Loss after step 18=3.96, Cartesian cost Scale=0]"
     ]
    },
    {
     "name": "stderr",
     "output_type": "stream",
     "text": [
      "\r",
      " 18%|█▊        | 18/100 [00:25<00:20,  4.01it/s, Loss after step 18=3.96, Cartesian cost Scale=0]"
     ]
    },
    {
     "name": "stderr",
     "output_type": "stream",
     "text": [
      "\r",
      " 18%|█▊        | 18/100 [00:26<00:20,  4.01it/s, Loss after step 19=3.95, Cartesian cost Scale=0]"
     ]
    },
    {
     "name": "stderr",
     "output_type": "stream",
     "text": [
      "\r",
      " 19%|█▉        | 19/100 [00:26<00:20,  4.01it/s, Loss after step 20=3.95, Cartesian cost Scale=0]"
     ]
    },
    {
     "name": "stderr",
     "output_type": "stream",
     "text": [
      "\r",
      " 20%|██        | 20/100 [00:26<00:16,  4.95it/s, Loss after step 20=3.95, Cartesian cost Scale=0]"
     ]
    },
    {
     "name": "stderr",
     "output_type": "stream",
     "text": [
      "\r",
      " 20%|██        | 20/100 [00:26<00:16,  4.95it/s, Loss after step 21=3.92, Cartesian cost Scale=0]"
     ]
    },
    {
     "name": "stderr",
     "output_type": "stream",
     "text": [
      "\r",
      " 21%|██        | 21/100 [00:26<00:15,  4.95it/s, Loss after step 22=3.9, Cartesian cost Scale=0] "
     ]
    },
    {
     "name": "stderr",
     "output_type": "stream",
     "text": [
      "\r",
      " 22%|██▏       | 22/100 [00:26<00:13,  5.94it/s, Loss after step 22=3.9, Cartesian cost Scale=0]"
     ]
    },
    {
     "name": "stderr",
     "output_type": "stream",
     "text": [
      "\r",
      " 22%|██▏       | 22/100 [00:26<00:13,  5.94it/s, Loss after step 23=3.88, Cartesian cost Scale=0]"
     ]
    },
    {
     "name": "stderr",
     "output_type": "stream",
     "text": [
      "\r",
      " 23%|██▎       | 23/100 [00:26<00:12,  5.94it/s, Loss after step 24=3.9, Cartesian cost Scale=0] "
     ]
    },
    {
     "name": "stderr",
     "output_type": "stream",
     "text": [
      "\r",
      " 24%|██▍       | 24/100 [00:26<00:11,  6.88it/s, Loss after step 24=3.9, Cartesian cost Scale=0]"
     ]
    },
    {
     "name": "stderr",
     "output_type": "stream",
     "text": [
      "\r",
      " 24%|██▍       | 24/100 [00:26<00:11,  6.88it/s, Loss after step 25=3.86, Cartesian cost Scale=0]"
     ]
    },
    {
     "name": "stderr",
     "output_type": "stream",
     "text": [
      "\r",
      " 25%|██▌       | 25/100 [00:26<00:10,  6.88it/s, Loss after step 26=3.8, Cartesian cost Scale=0] "
     ]
    },
    {
     "name": "stderr",
     "output_type": "stream",
     "text": [
      "\r",
      " 26%|██▌       | 26/100 [00:26<00:09,  7.61it/s, Loss after step 26=3.8, Cartesian cost Scale=0]"
     ]
    },
    {
     "name": "stderr",
     "output_type": "stream",
     "text": [
      "\r",
      " 26%|██▌       | 26/100 [00:26<00:09,  7.61it/s, Loss after step 27=3.79, Cartesian cost Scale=0]"
     ]
    },
    {
     "name": "stderr",
     "output_type": "stream",
     "text": [
      "\r",
      " 27%|██▋       | 27/100 [00:26<00:09,  7.61it/s, Loss after step 28=3.75, Cartesian cost Scale=0]"
     ]
    },
    {
     "name": "stderr",
     "output_type": "stream",
     "text": [
      "\r",
      " 28%|██▊       | 28/100 [00:26<00:08,  8.25it/s, Loss after step 28=3.75, Cartesian cost Scale=0]"
     ]
    },
    {
     "name": "stderr",
     "output_type": "stream",
     "text": [
      "\r",
      " 28%|██▊       | 28/100 [00:26<00:08,  8.25it/s, Loss after step 29=3.74, Cartesian cost Scale=0]"
     ]
    },
    {
     "name": "stderr",
     "output_type": "stream",
     "text": [
      "\r",
      " 29%|██▉       | 29/100 [00:27<00:08,  8.25it/s, Loss after step 30=3.76, Cartesian cost Scale=0]"
     ]
    },
    {
     "name": "stderr",
     "output_type": "stream",
     "text": [
      "\r",
      " 30%|███       | 30/100 [00:27<00:07,  8.86it/s, Loss after step 30=3.76, Cartesian cost Scale=0]"
     ]
    },
    {
     "name": "stderr",
     "output_type": "stream",
     "text": [
      "\r",
      " 30%|███       | 30/100 [00:27<00:07,  8.86it/s, Loss after step 31=3.68, Cartesian cost Scale=0]"
     ]
    },
    {
     "name": "stderr",
     "output_type": "stream",
     "text": [
      "\r",
      " 31%|███       | 31/100 [00:27<00:07,  8.86it/s, Loss after step 32=3.72, Cartesian cost Scale=0]"
     ]
    },
    {
     "name": "stderr",
     "output_type": "stream",
     "text": [
      "\r",
      " 32%|███▏      | 32/100 [00:27<00:07,  9.38it/s, Loss after step 32=3.72, Cartesian cost Scale=0]"
     ]
    },
    {
     "name": "stderr",
     "output_type": "stream",
     "text": [
      "\r",
      " 32%|███▏      | 32/100 [00:27<00:07,  9.38it/s, Loss after step 33=3.67, Cartesian cost Scale=0]"
     ]
    },
    {
     "name": "stderr",
     "output_type": "stream",
     "text": [
      "\r",
      " 33%|███▎      | 33/100 [00:27<00:07,  9.38it/s, Loss after step 34=3.68, Cartesian cost Scale=0]"
     ]
    },
    {
     "name": "stderr",
     "output_type": "stream",
     "text": [
      "\r",
      " 34%|███▍      | 34/100 [00:27<00:06,  9.60it/s, Loss after step 34=3.68, Cartesian cost Scale=0]"
     ]
    },
    {
     "name": "stderr",
     "output_type": "stream",
     "text": [
      "\r",
      " 34%|███▍      | 34/100 [00:27<00:06,  9.60it/s, Loss after step 35=3.63, Cartesian cost Scale=0]"
     ]
    },
    {
     "name": "stderr",
     "output_type": "stream",
     "text": [
      "\r",
      " 35%|███▌      | 35/100 [00:27<00:06,  9.60it/s, Loss after step 36=3.6, Cartesian cost Scale=0] "
     ]
    },
    {
     "name": "stderr",
     "output_type": "stream",
     "text": [
      "\r",
      " 36%|███▌      | 36/100 [00:27<00:06,  9.83it/s, Loss after step 36=3.6, Cartesian cost Scale=0]"
     ]
    },
    {
     "name": "stderr",
     "output_type": "stream",
     "text": [
      "\r",
      " 36%|███▌      | 36/100 [00:27<00:06,  9.83it/s, Loss after step 37=3.59, Cartesian cost Scale=0]"
     ]
    },
    {
     "name": "stderr",
     "output_type": "stream",
     "text": [
      "\r",
      " 37%|███▋      | 37/100 [00:27<00:06,  9.83it/s, Loss after step 38=3.59, Cartesian cost Scale=0]"
     ]
    },
    {
     "name": "stderr",
     "output_type": "stream",
     "text": [
      "\r",
      " 38%|███▊      | 38/100 [00:27<00:06,  9.99it/s, Loss after step 38=3.59, Cartesian cost Scale=0]"
     ]
    },
    {
     "name": "stderr",
     "output_type": "stream",
     "text": [
      "\r",
      " 38%|███▊      | 38/100 [00:27<00:06,  9.99it/s, Loss after step 39=3.6, Cartesian cost Scale=0] "
     ]
    },
    {
     "name": "stderr",
     "output_type": "stream",
     "text": [
      "\r",
      " 39%|███▉      | 39/100 [00:28<00:06,  9.99it/s, Loss after step 40=3.55, Cartesian cost Scale=0]"
     ]
    },
    {
     "name": "stderr",
     "output_type": "stream",
     "text": [
      "\r",
      " 40%|████      | 40/100 [00:28<00:05, 10.23it/s, Loss after step 40=3.55, Cartesian cost Scale=0]"
     ]
    },
    {
     "name": "stderr",
     "output_type": "stream",
     "text": [
      "\r",
      " 40%|████      | 40/100 [00:28<00:05, 10.23it/s, Loss after step 41=3.49, Cartesian cost Scale=0]"
     ]
    },
    {
     "name": "stderr",
     "output_type": "stream",
     "text": [
      "\r",
      " 41%|████      | 41/100 [00:28<00:05, 10.23it/s, Loss after step 42=3.53, Cartesian cost Scale=0]"
     ]
    },
    {
     "name": "stderr",
     "output_type": "stream",
     "text": [
      "\r",
      " 42%|████▏     | 42/100 [00:28<00:05, 10.15it/s, Loss after step 42=3.53, Cartesian cost Scale=0]"
     ]
    },
    {
     "name": "stderr",
     "output_type": "stream",
     "text": [
      "\r",
      " 42%|████▏     | 42/100 [00:28<00:05, 10.15it/s, Loss after step 43=3.5, Cartesian cost Scale=0] "
     ]
    },
    {
     "name": "stderr",
     "output_type": "stream",
     "text": [
      "\r",
      " 43%|████▎     | 43/100 [00:28<00:05, 10.15it/s, Loss after step 44=3.52, Cartesian cost Scale=0]"
     ]
    },
    {
     "name": "stderr",
     "output_type": "stream",
     "text": [
      "\r",
      " 44%|████▍     | 44/100 [00:28<00:05, 10.23it/s, Loss after step 44=3.52, Cartesian cost Scale=0]"
     ]
    },
    {
     "name": "stderr",
     "output_type": "stream",
     "text": [
      "\r",
      " 44%|████▍     | 44/100 [00:28<00:05, 10.23it/s, Loss after step 45=3.47, Cartesian cost Scale=0]"
     ]
    },
    {
     "name": "stderr",
     "output_type": "stream",
     "text": [
      "\r",
      " 45%|████▌     | 45/100 [00:28<00:05, 10.23it/s, Loss after step 46=3.43, Cartesian cost Scale=0]"
     ]
    },
    {
     "name": "stderr",
     "output_type": "stream",
     "text": [
      "\r",
      " 46%|████▌     | 46/100 [00:28<00:05, 10.24it/s, Loss after step 46=3.43, Cartesian cost Scale=0]"
     ]
    },
    {
     "name": "stderr",
     "output_type": "stream",
     "text": [
      "\r",
      " 46%|████▌     | 46/100 [00:28<00:05, 10.24it/s, Loss after step 47=3.45, Cartesian cost Scale=0]"
     ]
    },
    {
     "name": "stderr",
     "output_type": "stream",
     "text": [
      "\r",
      " 47%|████▋     | 47/100 [00:28<00:05, 10.24it/s, Loss after step 48=3.42, Cartesian cost Scale=0]"
     ]
    },
    {
     "name": "stderr",
     "output_type": "stream",
     "text": [
      "\r",
      " 48%|████▊     | 48/100 [00:28<00:05, 10.37it/s, Loss after step 48=3.42, Cartesian cost Scale=0]"
     ]
    },
    {
     "name": "stderr",
     "output_type": "stream",
     "text": [
      "\r",
      " 48%|████▊     | 48/100 [00:28<00:05, 10.37it/s, Loss after step 49=3.42, Cartesian cost Scale=0]"
     ]
    },
    {
     "name": "stderr",
     "output_type": "stream",
     "text": [
      "\r",
      " 49%|████▉     | 49/100 [00:28<00:04, 10.37it/s, Loss after step 50=3.41, Cartesian cost Scale=0]"
     ]
    },
    {
     "name": "stderr",
     "output_type": "stream",
     "text": [
      "\r",
      " 50%|█████     | 50/100 [00:28<00:04, 10.36it/s, Loss after step 50=3.41, Cartesian cost Scale=0]"
     ]
    },
    {
     "name": "stderr",
     "output_type": "stream",
     "text": [
      "\r",
      " 50%|█████     | 50/100 [00:29<00:04, 10.36it/s, Loss after step 51=3.42, Cartesian cost Scale=0.03]"
     ]
    },
    {
     "name": "stderr",
     "output_type": "stream",
     "text": [
      "\r",
      " 51%|█████     | 51/100 [00:29<00:04, 10.36it/s, Loss after step 52=3.38, Cartesian cost Scale=0.07]"
     ]
    },
    {
     "name": "stderr",
     "output_type": "stream",
     "text": [
      "\r",
      " 52%|█████▏    | 52/100 [00:29<00:04, 10.39it/s, Loss after step 52=3.38, Cartesian cost Scale=0.07]"
     ]
    },
    {
     "name": "stderr",
     "output_type": "stream",
     "text": [
      "\r",
      " 52%|█████▏    | 52/100 [00:29<00:04, 10.39it/s, Loss after step 53=3.36, Cartesian cost Scale=0.1] "
     ]
    },
    {
     "name": "stderr",
     "output_type": "stream",
     "text": [
      "\r",
      " 53%|█████▎    | 53/100 [00:29<00:04, 10.39it/s, Loss after step 54=3.33, Cartesian cost Scale=0.13]"
     ]
    },
    {
     "name": "stderr",
     "output_type": "stream",
     "text": [
      "\r",
      " 54%|█████▍    | 54/100 [00:29<00:04, 10.38it/s, Loss after step 54=3.33, Cartesian cost Scale=0.13]"
     ]
    },
    {
     "name": "stderr",
     "output_type": "stream",
     "text": [
      "\r",
      " 54%|█████▍    | 54/100 [00:29<00:04, 10.38it/s, Loss after step 55=3.37, Cartesian cost Scale=0.17]"
     ]
    },
    {
     "name": "stderr",
     "output_type": "stream",
     "text": [
      "\r",
      " 55%|█████▌    | 55/100 [00:29<00:04, 10.38it/s, Loss after step 56=3.32, Cartesian cost Scale=0.2] "
     ]
    },
    {
     "name": "stderr",
     "output_type": "stream",
     "text": [
      "\r",
      " 56%|█████▌    | 56/100 [00:29<00:04, 10.28it/s, Loss after step 56=3.32, Cartesian cost Scale=0.2]"
     ]
    },
    {
     "name": "stderr",
     "output_type": "stream",
     "text": [
      "\r",
      " 56%|█████▌    | 56/100 [00:29<00:04, 10.28it/s, Loss after step 57=3.33, Cartesian cost Scale=0.23]"
     ]
    },
    {
     "name": "stderr",
     "output_type": "stream",
     "text": [
      "\r",
      " 57%|█████▋    | 57/100 [00:29<00:04, 10.28it/s, Loss after step 58=3.33, Cartesian cost Scale=0.27]"
     ]
    },
    {
     "name": "stderr",
     "output_type": "stream",
     "text": [
      "\r",
      " 58%|█████▊    | 58/100 [00:29<00:04, 10.29it/s, Loss after step 58=3.33, Cartesian cost Scale=0.27]"
     ]
    },
    {
     "name": "stderr",
     "output_type": "stream",
     "text": [
      "\r",
      " 58%|█████▊    | 58/100 [00:29<00:04, 10.29it/s, Loss after step 59=3.31, Cartesian cost Scale=0.3] "
     ]
    },
    {
     "name": "stderr",
     "output_type": "stream",
     "text": [
      "\r",
      " 59%|█████▉    | 59/100 [00:29<00:03, 10.29it/s, Loss after step 60=3.34, Cartesian cost Scale=0.33]"
     ]
    },
    {
     "name": "stderr",
     "output_type": "stream",
     "text": [
      "\r",
      " 60%|██████    | 60/100 [00:29<00:03, 10.36it/s, Loss after step 60=3.34, Cartesian cost Scale=0.33]"
     ]
    },
    {
     "name": "stderr",
     "output_type": "stream",
     "text": [
      "\r",
      " 60%|██████    | 60/100 [00:30<00:03, 10.36it/s, Loss after step 61=3.28, Cartesian cost Scale=0.37]"
     ]
    },
    {
     "name": "stderr",
     "output_type": "stream",
     "text": [
      "\r",
      " 61%|██████    | 61/100 [00:30<00:03, 10.36it/s, Loss after step 62=3.26, Cartesian cost Scale=0.4] "
     ]
    },
    {
     "name": "stderr",
     "output_type": "stream",
     "text": [
      "\r",
      " 62%|██████▏   | 62/100 [00:30<00:03, 10.26it/s, Loss after step 62=3.26, Cartesian cost Scale=0.4]"
     ]
    },
    {
     "name": "stderr",
     "output_type": "stream",
     "text": [
      "\r",
      " 62%|██████▏   | 62/100 [00:30<00:03, 10.26it/s, Loss after step 63=3.24, Cartesian cost Scale=0.43]"
     ]
    },
    {
     "name": "stderr",
     "output_type": "stream",
     "text": [
      "\r",
      " 63%|██████▎   | 63/100 [00:30<00:03, 10.26it/s, Loss after step 64=3.25, Cartesian cost Scale=0.47]"
     ]
    },
    {
     "name": "stderr",
     "output_type": "stream",
     "text": [
      "\r",
      " 64%|██████▍   | 64/100 [00:30<00:03, 10.37it/s, Loss after step 64=3.25, Cartesian cost Scale=0.47]"
     ]
    },
    {
     "name": "stderr",
     "output_type": "stream",
     "text": [
      "\r",
      " 64%|██████▍   | 64/100 [00:30<00:03, 10.37it/s, Loss after step 65=3.27, Cartesian cost Scale=0.5] "
     ]
    },
    {
     "name": "stderr",
     "output_type": "stream",
     "text": [
      "\r",
      " 65%|██████▌   | 65/100 [00:30<00:03, 10.37it/s, Loss after step 66=3.26, Cartesian cost Scale=0.53]"
     ]
    },
    {
     "name": "stderr",
     "output_type": "stream",
     "text": [
      "\r",
      " 66%|██████▌   | 66/100 [00:30<00:03, 10.28it/s, Loss after step 66=3.26, Cartesian cost Scale=0.53]"
     ]
    },
    {
     "name": "stderr",
     "output_type": "stream",
     "text": [
      "\r",
      " 66%|██████▌   | 66/100 [00:30<00:03, 10.28it/s, Loss after step 67=3.26, Cartesian cost Scale=0.57]"
     ]
    },
    {
     "name": "stderr",
     "output_type": "stream",
     "text": [
      "\r",
      " 67%|██████▋   | 67/100 [00:30<00:03, 10.28it/s, Loss after step 68=3.23, Cartesian cost Scale=0.6] "
     ]
    },
    {
     "name": "stderr",
     "output_type": "stream",
     "text": [
      "\r",
      " 68%|██████▊   | 68/100 [00:30<00:03, 10.17it/s, Loss after step 68=3.23, Cartesian cost Scale=0.6]"
     ]
    },
    {
     "name": "stderr",
     "output_type": "stream",
     "text": [
      "\r",
      " 68%|██████▊   | 68/100 [00:30<00:03, 10.17it/s, Loss after step 69=3.22, Cartesian cost Scale=0.63]"
     ]
    },
    {
     "name": "stderr",
     "output_type": "stream",
     "text": [
      "\r",
      " 69%|██████▉   | 69/100 [00:30<00:03, 10.17it/s, Loss after step 70=3.23, Cartesian cost Scale=0.67]"
     ]
    },
    {
     "name": "stderr",
     "output_type": "stream",
     "text": [
      "\r",
      " 70%|███████   | 70/100 [00:30<00:02, 10.27it/s, Loss after step 70=3.23, Cartesian cost Scale=0.67]"
     ]
    },
    {
     "name": "stderr",
     "output_type": "stream",
     "text": [
      "\r",
      " 70%|███████   | 70/100 [00:31<00:02, 10.27it/s, Loss after step 71=3.22, Cartesian cost Scale=0.7] "
     ]
    },
    {
     "name": "stderr",
     "output_type": "stream",
     "text": [
      "\r",
      " 71%|███████   | 71/100 [00:31<00:02, 10.27it/s, Loss after step 72=3.24, Cartesian cost Scale=0.73]"
     ]
    },
    {
     "name": "stderr",
     "output_type": "stream",
     "text": [
      "\r",
      " 72%|███████▏  | 72/100 [00:31<00:02, 10.39it/s, Loss after step 72=3.24, Cartesian cost Scale=0.73]"
     ]
    },
    {
     "name": "stderr",
     "output_type": "stream",
     "text": [
      "\r",
      " 72%|███████▏  | 72/100 [00:31<00:02, 10.39it/s, Loss after step 73=3.29, Cartesian cost Scale=0.77]"
     ]
    },
    {
     "name": "stderr",
     "output_type": "stream",
     "text": [
      "\r",
      " 73%|███████▎  | 73/100 [00:31<00:02, 10.39it/s, Loss after step 74=3.23, Cartesian cost Scale=0.8] "
     ]
    },
    {
     "name": "stderr",
     "output_type": "stream",
     "text": [
      "\r",
      " 74%|███████▍  | 74/100 [00:31<00:02, 10.34it/s, Loss after step 74=3.23, Cartesian cost Scale=0.8]"
     ]
    },
    {
     "name": "stderr",
     "output_type": "stream",
     "text": [
      "\r",
      " 74%|███████▍  | 74/100 [00:31<00:02, 10.34it/s, Loss after step 75=3.24, Cartesian cost Scale=0.83]"
     ]
    },
    {
     "name": "stderr",
     "output_type": "stream",
     "text": [
      "\r",
      " 75%|███████▌  | 75/100 [00:31<00:02, 10.34it/s, Loss after step 76=3.21, Cartesian cost Scale=0.87]"
     ]
    },
    {
     "name": "stderr",
     "output_type": "stream",
     "text": [
      "\r",
      " 76%|███████▌  | 76/100 [00:31<00:02, 10.30it/s, Loss after step 76=3.21, Cartesian cost Scale=0.87]"
     ]
    },
    {
     "name": "stderr",
     "output_type": "stream",
     "text": [
      "\r",
      " 76%|███████▌  | 76/100 [00:31<00:02, 10.30it/s, Loss after step 77=3.19, Cartesian cost Scale=0.9] "
     ]
    },
    {
     "name": "stderr",
     "output_type": "stream",
     "text": [
      "\r",
      " 77%|███████▋  | 77/100 [00:31<00:02, 10.30it/s, Loss after step 78=3.23, Cartesian cost Scale=0.93]"
     ]
    },
    {
     "name": "stderr",
     "output_type": "stream",
     "text": [
      "\r",
      " 78%|███████▊  | 78/100 [00:31<00:02, 10.31it/s, Loss after step 78=3.23, Cartesian cost Scale=0.93]"
     ]
    },
    {
     "name": "stderr",
     "output_type": "stream",
     "text": [
      "\r",
      " 78%|███████▊  | 78/100 [00:31<00:02, 10.31it/s, Loss after step 79=3.22, Cartesian cost Scale=0.97]"
     ]
    },
    {
     "name": "stderr",
     "output_type": "stream",
     "text": [
      "\r",
      " 79%|███████▉  | 79/100 [00:31<00:02, 10.31it/s, Loss after step 80=3.19, Cartesian cost Scale=1]   "
     ]
    },
    {
     "name": "stderr",
     "output_type": "stream",
     "text": [
      "\r",
      " 80%|████████  | 80/100 [00:31<00:01, 10.28it/s, Loss after step 80=3.19, Cartesian cost Scale=1]"
     ]
    },
    {
     "name": "stderr",
     "output_type": "stream",
     "text": [
      "\r",
      " 80%|████████  | 80/100 [00:31<00:01, 10.28it/s, Loss after step 81=3.13, Cartesian cost Scale=1]"
     ]
    },
    {
     "name": "stderr",
     "output_type": "stream",
     "text": [
      "\r",
      " 81%|████████  | 81/100 [00:32<00:01, 10.28it/s, Loss after step 82=3.18, Cartesian cost Scale=1]"
     ]
    },
    {
     "name": "stderr",
     "output_type": "stream",
     "text": [
      "\r",
      " 82%|████████▏ | 82/100 [00:32<00:01, 10.07it/s, Loss after step 82=3.18, Cartesian cost Scale=1]"
     ]
    },
    {
     "name": "stderr",
     "output_type": "stream",
     "text": [
      "\r",
      " 82%|████████▏ | 82/100 [00:32<00:01, 10.07it/s, Loss after step 83=3.16, Cartesian cost Scale=1]"
     ]
    },
    {
     "name": "stderr",
     "output_type": "stream",
     "text": [
      "\r",
      " 83%|████████▎ | 83/100 [00:32<00:01, 10.07it/s, Loss after step 84=3.19, Cartesian cost Scale=1]"
     ]
    },
    {
     "name": "stderr",
     "output_type": "stream",
     "text": [
      "\r",
      " 84%|████████▍ | 84/100 [00:32<00:01, 10.07it/s, Loss after step 84=3.19, Cartesian cost Scale=1]"
     ]
    },
    {
     "name": "stderr",
     "output_type": "stream",
     "text": [
      "\r",
      " 84%|████████▍ | 84/100 [00:32<00:01, 10.07it/s, Loss after step 85=3.14, Cartesian cost Scale=1]"
     ]
    },
    {
     "name": "stderr",
     "output_type": "stream",
     "text": [
      "\r",
      " 85%|████████▌ | 85/100 [00:32<00:01, 10.07it/s, Loss after step 86=3.15, Cartesian cost Scale=1]"
     ]
    },
    {
     "name": "stderr",
     "output_type": "stream",
     "text": [
      "\r",
      " 86%|████████▌ | 86/100 [00:32<00:01, 10.04it/s, Loss after step 86=3.15, Cartesian cost Scale=1]"
     ]
    },
    {
     "name": "stderr",
     "output_type": "stream",
     "text": [
      "\r",
      " 86%|████████▌ | 86/100 [00:32<00:01, 10.04it/s, Loss after step 87=3.15, Cartesian cost Scale=1]"
     ]
    },
    {
     "name": "stderr",
     "output_type": "stream",
     "text": [
      "\r",
      " 87%|████████▋ | 87/100 [00:32<00:01, 10.04it/s, Loss after step 88=3.12, Cartesian cost Scale=1]"
     ]
    },
    {
     "name": "stderr",
     "output_type": "stream",
     "text": [
      "\r",
      " 88%|████████▊ | 88/100 [00:32<00:01, 10.02it/s, Loss after step 88=3.12, Cartesian cost Scale=1]"
     ]
    },
    {
     "name": "stderr",
     "output_type": "stream",
     "text": [
      "\r",
      " 88%|████████▊ | 88/100 [00:32<00:01, 10.02it/s, Loss after step 89=3.14, Cartesian cost Scale=1]"
     ]
    },
    {
     "name": "stderr",
     "output_type": "stream",
     "text": [
      "\r",
      " 89%|████████▉ | 89/100 [00:32<00:01, 10.02it/s, Loss after step 90=3.1, Cartesian cost Scale=1] "
     ]
    },
    {
     "name": "stderr",
     "output_type": "stream",
     "text": [
      "\r",
      " 90%|█████████ | 90/100 [00:32<00:00, 10.18it/s, Loss after step 90=3.1, Cartesian cost Scale=1]"
     ]
    },
    {
     "name": "stderr",
     "output_type": "stream",
     "text": [
      "\r",
      " 90%|█████████ | 90/100 [00:32<00:00, 10.18it/s, Loss after step 91=3.06, Cartesian cost Scale=1]"
     ]
    },
    {
     "name": "stderr",
     "output_type": "stream",
     "text": [
      "\r",
      " 91%|█████████ | 91/100 [00:33<00:00, 10.18it/s, Loss after step 92=3.05, Cartesian cost Scale=1]"
     ]
    },
    {
     "name": "stderr",
     "output_type": "stream",
     "text": [
      "\r",
      " 92%|█████████▏| 92/100 [00:33<00:00, 10.23it/s, Loss after step 92=3.05, Cartesian cost Scale=1]"
     ]
    },
    {
     "name": "stderr",
     "output_type": "stream",
     "text": [
      "\r",
      " 92%|█████████▏| 92/100 [00:33<00:00, 10.23it/s, Loss after step 93=3.08, Cartesian cost Scale=1]"
     ]
    },
    {
     "name": "stderr",
     "output_type": "stream",
     "text": [
      "\r",
      " 93%|█████████▎| 93/100 [00:33<00:00, 10.23it/s, Loss after step 94=3.07, Cartesian cost Scale=1]"
     ]
    },
    {
     "name": "stderr",
     "output_type": "stream",
     "text": [
      "\r",
      " 94%|█████████▍| 94/100 [00:33<00:00, 10.18it/s, Loss after step 94=3.07, Cartesian cost Scale=1]"
     ]
    },
    {
     "name": "stderr",
     "output_type": "stream",
     "text": [
      "\r",
      " 94%|█████████▍| 94/100 [00:33<00:00, 10.18it/s, Loss after step 95=3.05, Cartesian cost Scale=1]"
     ]
    },
    {
     "name": "stderr",
     "output_type": "stream",
     "text": [
      "\r",
      " 95%|█████████▌| 95/100 [00:33<00:00, 10.18it/s, Loss after step 96=2.99, Cartesian cost Scale=1]"
     ]
    },
    {
     "name": "stderr",
     "output_type": "stream",
     "text": [
      "\r",
      " 96%|█████████▌| 96/100 [00:33<00:00, 10.22it/s, Loss after step 96=2.99, Cartesian cost Scale=1]"
     ]
    },
    {
     "name": "stderr",
     "output_type": "stream",
     "text": [
      "\r",
      " 96%|█████████▌| 96/100 [00:33<00:00, 10.22it/s, Loss after step 97=3.02, Cartesian cost Scale=1]"
     ]
    },
    {
     "name": "stderr",
     "output_type": "stream",
     "text": [
      "\r",
      " 97%|█████████▋| 97/100 [00:33<00:00, 10.22it/s, Loss after step 98=3, Cartesian cost Scale=1]   "
     ]
    },
    {
     "name": "stderr",
     "output_type": "stream",
     "text": [
      "\r",
      " 98%|█████████▊| 98/100 [00:33<00:00, 10.13it/s, Loss after step 98=3, Cartesian cost Scale=1]"
     ]
    },
    {
     "name": "stderr",
     "output_type": "stream",
     "text": [
      "\r",
      " 98%|█████████▊| 98/100 [00:33<00:00, 10.13it/s, Loss after step 99=3.04, Cartesian cost Scale=1]"
     ]
    },
    {
     "name": "stderr",
     "output_type": "stream",
     "text": [
      "\r",
      " 99%|█████████▉| 99/100 [00:33<00:00, 10.13it/s, Loss after step 100=2.98, Cartesian cost Scale=1]"
     ]
    },
    {
     "name": "stderr",
     "output_type": "stream",
     "text": [
      "\r",
      "100%|██████████| 100/100 [00:33<00:00, 10.15it/s, Loss after step 100=2.98, Cartesian cost Scale=1]"
     ]
    },
    {
     "name": "stderr",
     "output_type": "stream",
     "text": [
      "\r",
      "100%|██████████| 100/100 [00:33<00:00,  2.95it/s, Loss after step 100=2.98, Cartesian cost Scale=1]"
     ]
    },
    {
     "name": "stderr",
     "output_type": "stream",
     "text": [
      "\n"
     ]
    },
    {
     "name": "stderr",
     "output_type": "stream",
     "text": [
      "WARNING:absl:Function `_wrapped_model` contains input name(s) args_0 with unsupported characters which will be renamed to args_0_6 in the SavedModel.\n"
     ]
    },
    {
     "name": "stderr",
     "output_type": "stream",
     "text": [
      "WARNING:absl:Found untraced functions such as _update_step_xla while saving (showing 1 of 1). These functions will not be directly callable after loading.\n"
     ]
    },
    {
     "name": "stderr",
     "output_type": "stream",
     "text": [
      "WARNING:absl:Function `_wrapped_model` contains input name(s) args_0 with unsupported characters which will be renamed to args_0_4 in the SavedModel.\n"
     ]
    },
    {
     "name": "stderr",
     "output_type": "stream",
     "text": [
      "WARNING:absl:Function `_wrapped_model` contains input name(s) Decoder_Input with unsupported characters which will be renamed to decoder_input in the SavedModel.\n"
     ]
    }
   ],
   "source": [
    "emap.train()"
   ]
  },
  {
   "cell_type": "markdown",
   "metadata": {},
   "source": [
    "## Plot the result\n",
    "\n",
    "In the result (longer training would be beneficial here), the projection area of asp7 and glu7 are separated."
   ]
  },
  {
   "cell_type": "code",
   "execution_count": 9,
   "metadata": {
    "execution": {
     "iopub.execute_input": "2023-02-02T13:00:26.762856Z",
     "iopub.status.busy": "2023-02-02T13:00:26.762253Z",
     "iopub.status.idle": "2023-02-02T13:00:27.502428Z",
     "shell.execute_reply": "2023-02-02T13:00:27.501678Z"
    }
   },
   "outputs": [
    {
     "data": {
      "text/plain": [
       "<matplotlib.legend.Legend at 0x7f5a288fa550>"
      ]
     },
     "execution_count": 9,
     "metadata": {},
     "output_type": "execute_result"
    },
    {
     "data": {
      "image/png": "[encoded data removed]",
      "text/plain": [
       "<Figure size 640x480 with 1 Axes>"
      ]
     },
     "metadata": {},
     "output_type": "display_data"
    }
   ],
   "source": [
    "import matplotlib.pyplot as plt\n",
    "\n",
    "fig, ax = plt.subplots()\n",
    "\n",
    "# generate ids, based on the names of the trajs\n",
    "ids = (trajs.name_arr == \"asp7\").astype(int)\n",
    "\n",
    "ax.scatter(*emap.encode()[ids == 0].T, label=\"glu7\")\n",
    "ax.scatter(*emap.encode()[ids == 1].T, label=\"asp7\")\n",
    "\n",
    "ax.legend()"
   ]
  },
  {
   "cell_type": "markdown",
   "metadata": {},
   "source": [
    "## Create a new trajectory\n",
    "\n",
    "Using the `InteractivePlotting` class, we can easily generate new molecular conformations by using the decoder part of the neural network. If you're running an interactive notebook, you can use the notebook or qt5 backend and play around with the InteractivePlotting."
   ]
  },
  {
   "cell_type": "code",
   "execution_count": 10,
   "metadata": {
    "execution": {
     "iopub.execute_input": "2023-02-02T13:00:27.505864Z",
     "iopub.status.busy": "2023-02-02T13:00:27.505298Z",
     "iopub.status.idle": "2023-02-02T13:00:27.986062Z",
     "shell.execute_reply": "2023-02-02T13:00:27.985435Z"
    }
   },
   "outputs": [
    {
     "name": "stdout",
     "output_type": "stream",
     "text": [
      "Using the `train_data` attribute of `autoencoder`.\n"
     ]
    },
    {
     "data": {
      "image/png": "[encoded data removed]",
      "text/plain": [
       "<Figure size 1000x800 with 3 Axes>"
      ]
     },
     "metadata": {},
     "output_type": "display_data"
    }
   ],
   "source": [
    "# %matplotlib qt5\n",
    "%matplotlib inline\n",
    "sess = em.InteractivePlotting(emap)"
   ]
  },
  {
   "cell_type": "markdown",
   "metadata": {},
   "source": [
    "For static notebooks, we load the points along the path and generate new molecular conformations from them."
   ]
  },
  {
   "cell_type": "code",
   "execution_count": 11,
   "metadata": {
    "execution": {
     "iopub.execute_input": "2023-02-02T13:00:27.991925Z",
     "iopub.status.busy": "2023-02-02T13:00:27.991155Z",
     "iopub.status.idle": "2023-02-02T13:00:28.848143Z",
     "shell.execute_reply": "2023-02-02T13:00:28.847570Z"
    }
   },
   "outputs": [
    {
     "name": "stderr",
     "output_type": "stream",
     "text": [
      "/opt/hostedtoolcache/Python/3.9.16/x64/lib/python3.9/site-packages/MDAnalysis/analysis/base.py:438: UserWarning: Reader has no dt information, set to 1.0 ps\n",
      "  self.times[i] = ts.time\n"
     ]
    }
   ],
   "source": [
    "sess.statusmenu.status = \"Bezier\"\n",
    "sess.ball_and_stick = True\n",
    "sess.path_points = np.load(\"path.npy\")\n",
    "sess.tool.ind = np.load(\"path.npy\")\n",
    "sess.set_points()"
   ]
  },
  {
   "cell_type": "markdown",
   "metadata": {},
   "source": [
    "View the generated traj:"
   ]
  },
  {
   "cell_type": "code",
   "execution_count": 12,
   "metadata": {
    "execution": {
     "iopub.execute_input": "2023-02-02T13:00:28.858746Z",
     "iopub.status.busy": "2023-02-02T13:00:28.858163Z",
     "iopub.status.idle": "2023-02-02T13:00:28.904531Z",
     "shell.execute_reply": "2023-02-02T13:00:28.903908Z"
    }
   },
   "outputs": [
    {
     "data": {
      "application/vnd.jupyter.widget-view+json": {
       "model_id": "bfe1afe2536547969d00a5ea011421a0",
       "version_major": 2,
       "version_minor": 0
      },
      "text/plain": [
       "NGLWidget(max_frame=199)"
      ]
     },
     "metadata": {},
     "output_type": "display_data"
    }
   ],
   "source": [
    "sess.view"
   ]
  },
  {
   "cell_type": "code",
   "execution_count": null,
   "metadata": {},
   "outputs": [],
   "source": []
  }
 ],
 "metadata": {
  "language_info": {
   "codemirror_mode": {
    "name": "ipython",
    "version": 3
   },
   "file_extension": ".py",
   "mimetype": "text/x-python",
   "name": "python",
   "nbconvert_exporter": "python",
   "pygments_lexer": "ipython3",
   "version": "3.9.16"
  },
  "widgets": {
   "application/vnd.jupyter.widget-state+json": {
    "state": {
     "4337974aecf24e78a6f60e5f7caccdc4": {
      "model_module": "@jupyter-widgets/base",
      "model_module_version": "1.2.0",
      "model_name": "LayoutModel",
      "state": {
       "_model_module": "@jupyter-widgets/base",
       "_model_module_version": "1.2.0",
       "_model_name": "LayoutModel",
       "_view_count": null,
       "_view_module": "@jupyter-widgets/base",
       "_view_module_version": "1.2.0",
       "_view_name": "LayoutView",
       "align_content": null,
       "align_items": null,
       "align_self": null,
       "border": null,
       "bottom": null,
       "display": null,
       "flex": null,
       "flex_flow": null,
       "grid_area": null,
       "grid_auto_columns": null,
       "grid_auto_flow": null,
       "grid_auto_rows": null,
       "grid_column": null,
       "grid_gap": null,
       "grid_row": null,
       "grid_template_areas": null,
       "grid_template_columns": null,
       "grid_template_rows": null,
       "height": null,
       "justify_content": null,
       "justify_items": null,
       "left": null,
       "margin": null,
       "max_height": null,
       "max_width": null,
       "min_height": null,
       "min_width": null,
       "object_fit": null,
       "object_position": null,
       "order": null,
       "overflow": null,
       "overflow_x": null,
       "overflow_y": null,
       "padding": null,
       "right": null,
       "top": null,
       "visibility": null,
       "width": "34px"
      }
     },
     "4947066519fa4443922829ed428d924b": {
      "model_module": "@jupyter-widgets/controls",
      "model_module_version": "1.5.0",
      "model_name": "LinkModel",
      "state": {
       "_model_module": "@jupyter-widgets/controls",
       "_model_module_version": "1.5.0",
       "_model_name": "LinkModel",
       "_view_count": null,
       "_view_module": "@jupyter-widgets/controls",
       "_view_module_version": "1.5.0",
       "_view_name": null,
       "source": [
        "IPY_MODEL_a6bd2f2d3a5b47d5a6e603613ceb4f48",
        "max"
       ],
       "target": [
        "IPY_MODEL_bfe1afe2536547969d00a5ea011421a0",
        "max_frame"
       ]
      }
     },
     "4b4836783e264df1bab914211b88f752": {
      "model_module": "@jupyter-widgets/controls",
      "model_module_version": "1.5.0",
      "model_name": "LinkModel",
      "state": {
       "_model_module": "@jupyter-widgets/controls",
       "_model_module_version": "1.5.0",
       "_model_name": "LinkModel",
       "_view_count": null,
       "_view_module": "@jupyter-widgets/controls",
       "_view_module_version": "1.5.0",
       "_view_name": null,
       "source": [
        "IPY_MODEL_a6bd2f2d3a5b47d5a6e603613ceb4f48",
        "value"
       ],
       "target": [
        "IPY_MODEL_83ef9d3fe4324325814f6c72117530f6",
        "value"
       ]
      }
     },
     "55acb1dfe48942c5ae4171ccc84f10c4": {
      "buffers": [
       {
        "data": "",
        "encoding": "base64",
        "path": [
         "value"
        ]
       }
      ],
      "model_module": "@jupyter-widgets/controls",
      "model_module_version": "1.5.0",
      "model_name": "ImageModel",
      "state": {
       "_dom_classes": [],
       "_model_module": "@jupyter-widgets/controls",
       "_model_module_version": "1.5.0",
       "_model_name": "ImageModel",
       "_view_count": null,
       "_view_module": "@jupyter-widgets/controls",
       "_view_module_version": "1.5.0",
       "_view_name": "ImageView",
       "format": "png",
       "height": "",
       "layout": "IPY_MODEL_8acff25ea50a4416bf1a127b93ef4bca",
       "width": "900.0"
      }
     },
     "5b54b1aab015404a9d737fdd74ccd5cc": {
      "model_module": "@jupyter-widgets/controls",
      "model_module_version": "1.5.0",
      "model_name": "SliderStyleModel",
      "state": {
       "_model_module": "@jupyter-widgets/controls",
       "_model_module_version": "1.5.0",
       "_model_name": "SliderStyleModel",
       "_view_count": null,
       "_view_module": "@jupyter-widgets/base",
       "_view_module_version": "1.2.0",
       "_view_name": "StyleView",
       "description_width": "",
       "handle_color": null
      }
     },
     "67df20b42f1247c69e853d4a3706904a": {
      "model_module": "@jupyter-widgets/controls",
      "model_module_version": "1.5.0",
      "model_name": "LinkModel",
      "state": {
       "_model_module": "@jupyter-widgets/controls",
       "_model_module_version": "1.5.0",
       "_model_name": "LinkModel",
       "_view_count": null,
       "_view_module": "@jupyter-widgets/controls",
       "_view_module_version": "1.5.0",
       "_view_name": null,
       "source": [
        "IPY_MODEL_a6bd2f2d3a5b47d5a6e603613ceb4f48",
        "value"
       ],
       "target": [
        "IPY_MODEL_bfe1afe2536547969d00a5ea011421a0",
        "frame"
       ]
      }
     },
     "7edc0cfb865d4757879ff1dbc3b39236": {
      "model_module": "nglview-js-widgets",
      "model_module_version": "3.0.1",
      "model_name": "ColormakerRegistryModel",
      "state": {
       "_dom_classes": [],
       "_model_module": "nglview-js-widgets",
       "_model_module_version": "3.0.1",
       "_model_name": "ColormakerRegistryModel",
       "_msg_ar": [],
       "_msg_q": [],
       "_ready": false,
       "_view_count": null,
       "_view_module": "nglview-js-widgets",
       "_view_module_version": "3.0.1",
       "_view_name": "ColormakerRegistryView",
       "layout": "IPY_MODEL_e86359c822bb4eaea2796a087b053272"
      }
     },
     "81a3201b3d984d03b2a6dca0109b008b": {
      "model_module": "@jupyter-widgets/base",
      "model_module_version": "1.2.0",
      "model_name": "LayoutModel",
      "state": {
       "_model_module": "@jupyter-widgets/base",
       "_model_module_version": "1.2.0",
       "_model_name": "LayoutModel",
       "_view_count": null,
       "_view_module": "@jupyter-widgets/base",
       "_view_module_version": "1.2.0",
       "_view_name": "LayoutView",
       "align_content": null,
       "align_items": null,
       "align_self": null,
       "border": null,
       "bottom": null,
       "display": null,
       "flex": null,
       "flex_flow": null,
       "grid_area": null,
       "grid_auto_columns": null,
       "grid_auto_flow": null,
       "grid_auto_rows": null,
       "grid_column": null,
       "grid_gap": null,
       "grid_row": null,
       "grid_template_areas": null,
       "grid_template_columns": null,
       "grid_template_rows": null,
       "height": null,
       "justify_content": null,
       "justify_items": null,
       "left": null,
       "margin": null,
       "max_height": null,
       "max_width": null,
       "min_height": null,
       "min_width": null,
       "object_fit": null,
       "object_position": null,
       "order": null,
       "overflow": null,
       "overflow_x": null,
       "overflow_y": null,
       "padding": null,
       "right": null,
       "top": null,
       "visibility": null,
       "width": null
      }
     },
     "83ef9d3fe4324325814f6c72117530f6": {
      "model_module": "@jupyter-widgets/controls",
      "model_module_version": "1.5.0",
      "model_name": "IntSliderModel",
      "state": {
       "_dom_classes": [],
       "_model_module": "@jupyter-widgets/controls",
       "_model_module_version": "1.5.0",
       "_model_name": "IntSliderModel",
       "_view_count": null,
       "_view_module": "@jupyter-widgets/controls",
       "_view_module_version": "1.5.0",
       "_view_name": "IntSliderView",
       "continuous_update": true,
       "description": "",
       "description_tooltip": null,
       "disabled": false,
       "layout": "IPY_MODEL_9223d00219aa40c898ff96c9b28c6730",
       "max": 199,
       "min": 0,
       "orientation": "horizontal",
       "readout": true,
       "readout_format": "d",
       "step": 1,
       "style": "IPY_MODEL_5b54b1aab015404a9d737fdd74ccd5cc",
       "value": 0
      }
     },
     "89080c6dbd9b4fbc98b36f22ac1bb563": {
      "model_module": "@jupyter-widgets/base",
      "model_module_version": "1.2.0",
      "model_name": "LayoutModel",
      "state": {
       "_model_module": "@jupyter-widgets/base",
       "_model_module_version": "1.2.0",
       "_model_name": "LayoutModel",
       "_view_count": null,
       "_view_module": "@jupyter-widgets/base",
       "_view_module_version": "1.2.0",
       "_view_name": "LayoutView",
       "align_content": null,
       "align_items": null,
       "align_self": null,
       "border": null,
       "bottom": null,
       "display": null,
       "flex": null,
       "flex_flow": null,
       "grid_area": null,
       "grid_auto_columns": null,
       "grid_auto_flow": null,
       "grid_auto_rows": null,
       "grid_column": null,
       "grid_gap": null,
       "grid_row": null,
       "grid_template_areas": null,
       "grid_template_columns": null,
       "grid_template_rows": null,
       "height": null,
       "justify_content": null,
       "justify_items": null,
       "left": null,
       "margin": null,
       "max_height": null,
       "max_width": null,
       "min_height": null,
       "min_width": null,
       "object_fit": null,
       "object_position": null,
       "order": null,
       "overflow": null,
       "overflow_x": null,
       "overflow_y": null,
       "padding": null,
       "right": null,
       "top": null,
       "visibility": null,
       "width": null
      }
     },
     "8acff25ea50a4416bf1a127b93ef4bca": {
      "model_module": "@jupyter-widgets/base",
      "model_module_version": "1.2.0",
      "model_name": "LayoutModel",
      "state": {
       "_model_module": "@jupyter-widgets/base",
       "_model_module_version": "1.2.0",
       "_model_name": "LayoutModel",
       "_view_count": null,
       "_view_module": "@jupyter-widgets/base",
       "_view_module_version": "1.2.0",
       "_view_name": "LayoutView",
       "align_content": null,
       "align_items": null,
       "align_self": null,
       "border": null,
       "bottom": null,
       "display": null,
       "flex": null,
       "flex_flow": null,
       "grid_area": null,
       "grid_auto_columns": null,
       "grid_auto_flow": null,
       "grid_auto_rows": null,
       "grid_column": null,
       "grid_gap": null,
       "grid_row": null,
       "grid_template_areas": null,
       "grid_template_columns": null,
       "grid_template_rows": null,
       "height": null,
       "justify_content": null,
       "justify_items": null,
       "left": null,
       "margin": null,
       "max_height": null,
       "max_width": null,
       "min_height": null,
       "min_width": null,
       "object_fit": null,
       "object_position": null,
       "order": null,
       "overflow": null,
       "overflow_x": null,
       "overflow_y": null,
       "padding": null,
       "right": null,
       "top": null,
       "visibility": null,
       "width": null
      }
     },
     "8e17e0ae9fb24910b70d29f00021e67f": {
      "model_module": "@jupyter-widgets/controls",
      "model_module_version": "1.5.0",
      "model_name": "HBoxModel",
      "state": {
       "_dom_classes": [],
       "_model_module": "@jupyter-widgets/controls",
       "_model_module_version": "1.5.0",
       "_model_name": "HBoxModel",
       "_view_count": null,
       "_view_module": "@jupyter-widgets/controls",
       "_view_module_version": "1.5.0",
       "_view_name": "HBoxView",
       "box_style": "",
       "children": [
        "IPY_MODEL_a6bd2f2d3a5b47d5a6e603613ceb4f48",
        "IPY_MODEL_83ef9d3fe4324325814f6c72117530f6"
       ],
       "layout": "IPY_MODEL_a345856edb7f47018ec4cccb00970451"
      }
     },
     "9223d00219aa40c898ff96c9b28c6730": {
      "model_module": "@jupyter-widgets/base",
      "model_module_version": "1.2.0",
      "model_name": "LayoutModel",
      "state": {
       "_model_module": "@jupyter-widgets/base",
       "_model_module_version": "1.2.0",
       "_model_name": "LayoutModel",
       "_view_count": null,
       "_view_module": "@jupyter-widgets/base",
       "_view_module_version": "1.2.0",
       "_view_name": "LayoutView",
       "align_content": null,
       "align_items": null,
       "align_self": null,
       "border": null,
       "bottom": null,
       "display": null,
       "flex": null,
       "flex_flow": null,
       "grid_area": null,
       "grid_auto_columns": null,
       "grid_auto_flow": null,
       "grid_auto_rows": null,
       "grid_column": null,
       "grid_gap": null,
       "grid_row": null,
       "grid_template_areas": null,
       "grid_template_columns": null,
       "grid_template_rows": null,
       "height": null,
       "justify_content": null,
       "justify_items": null,
       "left": null,
       "margin": null,
       "max_height": null,
       "max_width": null,
       "min_height": null,
       "min_width": null,
       "object_fit": null,
       "object_position": null,
       "order": null,
       "overflow": null,
       "overflow_x": null,
       "overflow_y": null,
       "padding": null,
       "right": null,
       "top": null,
       "visibility": null,
       "width": null
      }
     },
     "a345856edb7f47018ec4cccb00970451": {
      "model_module": "@jupyter-widgets/base",
      "model_module_version": "1.2.0",
      "model_name": "LayoutModel",
      "state": {
       "_model_module": "@jupyter-widgets/base",
       "_model_module_version": "1.2.0",
       "_model_name": "LayoutModel",
       "_view_count": null,
       "_view_module": "@jupyter-widgets/base",
       "_view_module_version": "1.2.0",
       "_view_name": "LayoutView",
       "align_content": null,
       "align_items": null,
       "align_self": null,
       "border": null,
       "bottom": null,
       "display": null,
       "flex": null,
       "flex_flow": null,
       "grid_area": null,
       "grid_auto_columns": null,
       "grid_auto_flow": null,
       "grid_auto_rows": null,
       "grid_column": null,
       "grid_gap": null,
       "grid_row": null,
       "grid_template_areas": null,
       "grid_template_columns": null,
       "grid_template_rows": null,
       "height": null,
       "justify_content": null,
       "justify_items": null,
       "left": null,
       "margin": null,
       "max_height": null,
       "max_width": null,
       "min_height": null,
       "min_width": null,
       "object_fit": null,
       "object_position": null,
       "order": null,
       "overflow": null,
       "overflow_x": null,
       "overflow_y": null,
       "padding": null,
       "right": null,
       "top": null,
       "visibility": null,
       "width": null
      }
     },
     "a6bd2f2d3a5b47d5a6e603613ceb4f48": {
      "model_module": "@jupyter-widgets/controls",
      "model_module_version": "1.5.0",
      "model_name": "PlayModel",
      "state": {
       "_dom_classes": [],
       "_model_module": "@jupyter-widgets/controls",
       "_model_module_version": "1.5.0",
       "_model_name": "PlayModel",
       "_playing": false,
       "_repeat": false,
       "_view_count": null,
       "_view_module": "@jupyter-widgets/controls",
       "_view_module_version": "1.5.0",
       "_view_name": "PlayView",
       "description": "",
       "description_tooltip": null,
       "disabled": false,
       "interval": 100,
       "layout": "IPY_MODEL_81a3201b3d984d03b2a6dca0109b008b",
       "max": 199,
       "min": 0,
       "show_repeat": true,
       "step": 1,
       "style": "IPY_MODEL_f41105f9bd99434995aa2a09c3b43516",
       "value": 0
      }
     },
     "bfe1afe2536547969d00a5ea011421a0": {
      "model_module": "nglview-js-widgets",
      "model_module_version": "3.0.1",
      "model_name": "NGLModel",
      "state": {
       "_camera_orientation": [],
       "_camera_str": "orthographic",
       "_dom_classes": [],
       "_gui_theme": null,
       "_ibtn_fullscreen": "IPY_MODEL_f220da54954546e8bcd99cef7854a235",
       "_igui": null,
       "_iplayer": "IPY_MODEL_8e17e0ae9fb24910b70d29f00021e67f",
       "_model_module": "nglview-js-widgets",
       "_model_module_version": "3.0.1",
       "_model_name": "NGLModel",
       "_ngl_color_dict": {},
       "_ngl_coordinate_resource": {},
       "_ngl_full_stage_parameters": {},
       "_ngl_msg_archive": [
        {
         "args": [
          {
           "binary": false,
           "data": "TITLE     MDANALYSIS FRAME 0: Created by PDBWriter\nCRYST1    1.000    1.000    1.000  90.00  90.00  90.00 P 1           1\nREMARK     285 UNITARY VALUES FOR THE UNIT CELL AUTOMATICALLY SET\nREMARK     285 BY MDANALYSIS PDBWRITER BECAUSE UNIT CELL INFORMATION\nREMARK     285 WAS MISSING.\nREMARK     285 PROTEIN DATA BANK CONVENTIONS REQUIRE THAT\nREMARK     285 CRYST1 RECORD IS INCLUDED, BUT THE VALUES ON\nREMARK     285 THIS RECORD ARE MEANINGLESS.\nATOM      1  N   GLU A   1      32.450  37.400  14.970  1.00  0.00      A    N  \nATOM      2  H   GLU A   1      32.140  36.630  14.410  1.00  0.00      A    H  \nATOM      3  H2  GLU A   1      31.700  38.020  15.220  1.00  0.00      A    H  \nATOM      4  CA  GLU A   1      33.510  37.160  15.950  1.00  0.00      A    C  \nATOM      5  CB  GLU A   1      34.330  36.000  15.400  1.00  0.00      A    C  \nATOM      6  CG  GLU A   1      34.033  35.556  13.966  1.00  0.00      A    C  \nATOM      7  CD  GLU A   1      35.042  34.577  13.361  1.00  0.00      A    C  \nATOM      8  OE1 GLU A   1      36.134  34.370  13.882  1.00  0.00      A    O  \nATOM      9  OE2 GLU A   1      34.792  34.081  12.117  1.00  0.00      A    O  \nATOM     10  HE2 GLU A   1      35.620  33.637  11.779  1.00  0.00      A    H  \nATOM     11  C   GLU A   1      32.899  36.823  17.309  1.00  0.00      A    C  \nATOM     12  O   GLU A   1      33.549  37.020  18.337  1.00  0.00      A    O  \nATOM     13  N   GLU A   2      31.682  36.295  17.223  1.00  0.00      A    N  \nATOM     14  H   GLU A   2      31.074  36.685  16.528  1.00  0.00      A    H  \nATOM     15  CA  GLU A   2      31.258  35.125  18.003  1.00  0.00      A    C  \nATOM     16  CB  GLU A   2      32.289  34.943  19.122  1.00  0.00      A    C  \nATOM     17  CG  GLU A   2      32.464  33.468  19.500  1.00  0.00      A    C  \nATOM     18  CD  GLU A   2      33.357  33.389  20.736  1.00  0.00      A    C  \nATOM     19  OE1 GLU A   2      32.891  32.899  21.765  1.00  0.00      A    O  \nATOM     20  OE2 GLU A   2      34.692  33.658  20.664  1.00  0.00      A    O  \nATOM     21  HE2 GLU A   2      35.114  33.297  21.500  1.00  0.00      A    H  \nATOM     22  C   GLU A   2      29.867  35.282  18.622  1.00  0.00      A    C  \nATOM     23  O   GLU A   2      29.430  34.468  19.442  1.00  0.00      A    O  \nATOM     24  N   GLU A   3      29.210  36.379  18.285  1.00  0.00      A    N  \nATOM     25  H   GLU A   3      28.485  36.259  17.605  1.00  0.00      A    H  \nATOM     26  CA  GLU A   3      29.571  37.728  18.749  1.00  0.00      A    C  \nATOM     27  CB  GLU A   3      29.531  38.709  17.575  1.00  0.00      A    C  \nATOM     28  CG  GLU A   3      29.184  38.127  16.205  1.00  0.00      A    C  \nATOM     29  CD  GLU A   3      29.121  39.154  15.079  1.00  0.00      A    C  \nATOM     30  OE1 GLU A   3      29.910  40.093  15.028  1.00  0.00      A    O  \nATOM     31  OE2 GLU A   3      28.343  38.733  14.046  1.00  0.00      A    O  \nATOM     32  HE2 GLU A   3      27.996  39.541  13.562  1.00  0.00      A    H  \nATOM     33  C   GLU A   3      30.012  38.434  20.039  1.00  0.00      A    C  \nATOM     34  O   GLU A   3      29.174  38.860  20.823  1.00  0.00      A    O  \nATOM     35  N   GLU A   4      31.318  38.664  20.139  1.00  0.00      A    N  \nATOM     36  H   GLU A   4      31.931  38.740  19.358  1.00  0.00      A    H  \nATOM     37  CA  GLU A   4      31.960  38.733  21.457  1.00  0.00      A    C  \nATOM     38  CB  GLU A   4      31.495  37.537  22.291  1.00  0.00      A    C  \nATOM     39  CG  GLU A   4      30.087  37.114  21.862  1.00  0.00      A    C  \nATOM     40  CD  GLU A   4      29.724  35.649  22.140  1.00  0.00      A    C  \nATOM     41  OE1 GLU A   4      30.569  34.936  22.685  1.00  0.00      A    O  \nATOM     42  OE2 GLU A   4      28.463  35.278  21.801  1.00  0.00      A    O  \nATOM     43  HE2 GLU A   4      28.211  34.377  22.152  1.00  0.00      A    H  \nATOM     44  C   GLU A   4      31.562  40.017  22.204  1.00  0.00      A    C  \nATOM     45  O   GLU A   4      31.899  40.352  23.341  1.00  0.00      A    O  \nATOM     46  N   GLU A   5      30.768  40.818  21.515  1.00  0.00      A    N  \nATOM     47  H   GLU A   5      30.849  40.821  20.520  1.00  0.00      A    H  \nATOM     48  CA  GLU A   5      29.548  41.469  22.014  1.00  0.00      A    C  \nATOM     49  CB  GLU A   5      29.520  41.406  23.541  1.00  0.00      A    C  \nATOM     50  CG  GLU A   5      29.502  42.790  24.185  1.00  0.00      A    C  \nATOM     51  CD  GLU A   5      28.812  42.931  25.539  1.00  0.00      A    C  \nATOM     52  OE1 GLU A   5      29.005  43.878  26.295  1.00  0.00      A    O  \nATOM     53  OE2 GLU A   5      28.059  41.909  26.033  1.00  0.00      A    O  \nATOM     54  HE2 GLU A   5      27.560  42.244  26.832  1.00  0.00      A    H  \nATOM     55  C   GLU A   5      31.002  41.495  21.549  1.00  0.00      A    C  \nATOM     56  O   GLU A   5      31.318  41.670  20.365  1.00  0.00      A    O  \nATOM     57  N   GLU A   6      31.912  41.562  22.513  1.00  0.00      A    N  \nATOM     58  H   GLU A   6      31.650  41.209  23.408  1.00  0.00      A    H  \nATOM     59  CA  GLU A   6      33.289  42.073  22.396  1.00  0.00      A    C  \nATOM     60  CB  GLU A   6      34.153  41.835  23.631  1.00  0.00      A    C  \nATOM     61  CG  GLU A   6      33.985  40.494  24.347  1.00  0.00      A    C  \nATOM     62  CD  GLU A   6      34.596  40.575  25.753  1.00  0.00      A    C  \nATOM     63  OE1 GLU A   6      34.007  40.241  26.773  1.00  0.00      A    O  \nATOM     64  OE2 GLU A   6      35.833  41.153  25.710  1.00  0.00      A    O  \nATOM     65  HE2 GLU A   6      36.296  41.007  26.584  1.00  0.00      A    H  \nATOM     66  C   GLU A   6      33.497  43.520  21.934  1.00  0.00      A    C  \nATOM     67  O   GLU A   6      34.072  43.738  20.873  1.00  0.00      A    O  \nATOM     68  N   GLU A   7      32.895  44.501  22.600  1.00  0.00      A    N  \nATOM     69  H   GLU A   7      31.897  44.589  22.638  1.00  0.00      A    H  \nATOM     70  CA  GLU A   7      33.560  45.741  23.019  1.00  0.00      A    C  \nATOM     71  CB  GLU A   7      35.035  45.679  22.622  1.00  0.00      A    C  \nATOM     72  CG  GLU A   7      35.327  45.201  21.200  1.00  0.00      A    C  \nATOM     73  CD  GLU A   7      36.630  45.747  20.607  1.00  0.00      A    C  \nATOM     74  OE1 GLU A   7      37.138  46.813  20.959  1.00  0.00      A    O  \nATOM     75  OE2 GLU A   7      37.169  44.999  19.613  1.00  0.00      A    O  \nATOM     76  HE2 GLU A   7      37.941  45.613  19.434  1.00  0.00      A    H  \nATOM     77  C   GLU A   7      33.368  45.864  24.531  1.00  0.00      A    C  \nATOM     78  OXT GLU A   7      34.087  45.257  25.328  1.00  0.00      A    O  \nATOM     79  O   GLU A   7      32.366  46.681  24.937  1.00  0.00      A    O  \nATOM     80  HO  GLU A   7      32.458  46.631  25.932  1.00  0.00      A    H  \nEND\n",
           "type": "blob"
          }
         ],
         "kwargs": {
          "defaultRepresentation": true,
          "ext": "pdb",
          "name": "nglview.adaptor.MDAnalysisTrajectory"
         },
         "methodName": "loadFile",
         "reconstruc_color_scheme": false,
         "target": "Stage",
         "type": "call_method"
        },
        {
         "args": [],
         "component_index": 0,
         "kwargs": {},
         "methodName": "removeAllRepresentations",
         "reconstruc_color_scheme": false,
         "target": "compList",
         "type": "call_method"
        },
        {
         "args": [
          "ball+stick"
         ],
         "component_index": 0,
         "kwargs": {
          "sele": "all"
         },
         "methodName": "addRepresentation",
         "reconstruc_color_scheme": false,
         "target": "compList",
         "type": "call_method"
        }
       ],
       "_ngl_original_stage_parameters": {},
       "_ngl_repr_dict": {},
       "_ngl_serialize": false,
       "_ngl_version": "",
       "_ngl_view_id": [],
       "_player_dict": {},
       "_scene_position": {},
       "_scene_rotation": {},
       "_synced_model_ids": [],
       "_synced_repr_model_ids": [],
       "_view_count": null,
       "_view_height": "",
       "_view_module": "nglview-js-widgets",
       "_view_module_version": "3.0.1",
       "_view_name": "NGLView",
       "_view_width": "",
       "background": "white",
       "frame": 0,
       "gui_style": null,
       "layout": "IPY_MODEL_89080c6dbd9b4fbc98b36f22ac1bb563",
       "max_frame": 199,
       "n_components": 0,
       "picked": {}
      }
     },
     "cb780d2dedd4473eab9e3e6f5a61fd83": {
      "model_module": "@jupyter-widgets/controls",
      "model_module_version": "1.5.0",
      "model_name": "LinkModel",
      "state": {
       "_model_module": "@jupyter-widgets/controls",
       "_model_module_version": "1.5.0",
       "_model_name": "LinkModel",
       "_view_count": null,
       "_view_module": "@jupyter-widgets/controls",
       "_view_module_version": "1.5.0",
       "_view_name": null,
       "source": [
        "IPY_MODEL_83ef9d3fe4324325814f6c72117530f6",
        "max"
       ],
       "target": [
        "IPY_MODEL_bfe1afe2536547969d00a5ea011421a0",
        "max_frame"
       ]
      }
     },
     "dc19e4ed0e674edd931bf860bdb32f21": {
      "model_module": "@jupyter-widgets/controls",
      "model_module_version": "1.5.0",
      "model_name": "ButtonStyleModel",
      "state": {
       "_model_module": "@jupyter-widgets/controls",
       "_model_module_version": "1.5.0",
       "_model_name": "ButtonStyleModel",
       "_view_count": null,
       "_view_module": "@jupyter-widgets/base",
       "_view_module_version": "1.2.0",
       "_view_name": "StyleView",
       "button_color": null,
       "font_weight": ""
      }
     },
     "e86359c822bb4eaea2796a087b053272": {
      "model_module": "@jupyter-widgets/base",
      "model_module_version": "1.2.0",
      "model_name": "LayoutModel",
      "state": {
       "_model_module": "@jupyter-widgets/base",
       "_model_module_version": "1.2.0",
       "_model_name": "LayoutModel",
       "_view_count": null,
       "_view_module": "@jupyter-widgets/base",
       "_view_module_version": "1.2.0",
       "_view_name": "LayoutView",
       "align_content": null,
       "align_items": null,
       "align_self": null,
       "border": null,
       "bottom": null,
       "display": null,
       "flex": null,
       "flex_flow": null,
       "grid_area": null,
       "grid_auto_columns": null,
       "grid_auto_flow": null,
       "grid_auto_rows": null,
       "grid_column": null,
       "grid_gap": null,
       "grid_row": null,
       "grid_template_areas": null,
       "grid_template_columns": null,
       "grid_template_rows": null,
       "height": null,
       "justify_content": null,
       "justify_items": null,
       "left": null,
       "margin": null,
       "max_height": null,
       "max_width": null,
       "min_height": null,
       "min_width": null,
       "object_fit": null,
       "object_position": null,
       "order": null,
       "overflow": null,
       "overflow_x": null,
       "overflow_y": null,
       "padding": null,
       "right": null,
       "top": null,
       "visibility": null,
       "width": null
      }
     },
     "f220da54954546e8bcd99cef7854a235": {
      "model_module": "@jupyter-widgets/controls",
      "model_module_version": "1.5.0",
      "model_name": "ButtonModel",
      "state": {
       "_dom_classes": [],
       "_model_module": "@jupyter-widgets/controls",
       "_model_module_version": "1.5.0",
       "_model_name": "ButtonModel",
       "_view_count": null,
       "_view_module": "@jupyter-widgets/controls",
       "_view_module_version": "1.5.0",
       "_view_name": "ButtonView",
       "button_style": "",
       "description": "",
       "disabled": false,
       "icon": "compress",
       "layout": "IPY_MODEL_4337974aecf24e78a6f60e5f7caccdc4",
       "style": "IPY_MODEL_dc19e4ed0e674edd931bf860bdb32f21",
       "tooltip": ""
      }
     },
     "f41105f9bd99434995aa2a09c3b43516": {
      "model_module": "@jupyter-widgets/controls",
      "model_module_version": "1.5.0",
      "model_name": "DescriptionStyleModel",
      "state": {
       "_model_module": "@jupyter-widgets/controls",
       "_model_module_version": "1.5.0",
       "_model_name": "DescriptionStyleModel",
       "_view_count": null,
       "_view_module": "@jupyter-widgets/base",
       "_view_module_version": "1.2.0",
       "_view_name": "StyleView",
       "description_width": ""
      }
     }
    },
    "version_major": 2,
    "version_minor": 0
   }
  }
 },
 "nbformat": 4,
 "nbformat_minor": 1
}
