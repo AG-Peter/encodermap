{
 "cells": [
  {
   "cell_type": "markdown",
   "metadata": {
    "pycharm": {
     "name": "#%% md\n"
    }
   },
   "source": [
    "# Working with trajectory ensembles\n",
    "\n",
    "Run this notebook on Google Colab:\n",
    "\n",
    "[![Open in Colab](https://colab.research.google.com/assets/colab-badge.svg)](https://colab.research.google.com/github/AG-Peter/encodermap/blob/main/tutorials/notebooks_MD/01_Working_with_trajectory_ensembles.ipynb)\n",
    "\n",
    "Find the documentation of EncoderMap:\n",
    "\n",
    "https://ag-peter.github.io/encodermap\n",
    "\n",
    "### For Google colab only:\n",
    "\n",
    "If you're on Google colab, please uncomment these lines and install EncoderMap."
   ]
  },
  {
   "cell_type": "code",
   "execution_count": 1,
   "metadata": {
    "execution": {
     "iopub.execute_input": "2023-02-01T15:58:49.964108Z",
     "iopub.status.busy": "2023-02-01T15:58:49.963755Z",
     "iopub.status.idle": "2023-02-01T15:58:49.967130Z",
     "shell.execute_reply": "2023-02-01T15:58:49.966530Z"
    }
   },
   "outputs": [],
   "source": [
    "# !wget https://raw.githubusercontent.com/AG-Peter/encodermap/main/tutorials/install_encodermap_google_colab.sh\n",
    "# !sudo bash install_encodermap_google_colab.sh"
   ]
  },
  {
   "cell_type": "markdown",
   "metadata": {
    "pycharm": {
     "name": "#%% md\n"
    }
   },
   "source": [
    "## Primer"
   ]
  },
  {
   "cell_type": "markdown",
   "metadata": {
    "pycharm": {
     "name": "#%% md\n"
    }
   },
   "source": [
    "### Collective Variables\n",
    "\n",
    "Collective Variables (CVs) are often used to simplify and filter the xyz-Data of MD simulations. They are often employed to make sense of a complex protein (or more general molecular) system with via just a few well-defined descriptors. They are similar to reaction coordinates, which are 1-dimensional variables along a reaction pathway but can be higher dimensional. When we think about a receptor-ligand system, the distance between the two species is often used as a reaction coordinate. A set of this distance CV and the relative rotation between receptor and ligand can add much more information and help understand the system. It becomes apparent that clever selection of CVs is an important task that many scientists in different fields face day to day.\n",
    "\n",
    "With the tools presented in this notebook we want to give you the ability to work in a fluent and natural way with MD trajectories and their associated CV data. In the scope of this work we define CVs as **a collection of data that is in one of its dimensions aligned with the frames/timesteps of the underlying simulation data.**"
   ]
  },
  {
   "cell_type": "markdown",
   "metadata": {
    "pycharm": {
     "name": "#%% md\n"
    }
   },
   "source": [
    "### Example CVs\n",
    "\n",
    "Here's a list from the top of my head of CVs that are widely used.\n",
    "\n",
    "- Distances: This category of CVs can contain a 1-diemsnional scalar value describing the distance between two species in a receptor-ligand system. A 1-dimensional CV of the end-to-end distance of a protein can describe the proteins folding state in an approximate and generalizing manner. Distance CVs can also be higher-dimensional. The pairwise distances between $\\mathrm{C_\\alpha}$ atoms of a protein with $n$ residues can be captured as a $n \\times n$ matrix. A so-called hollow matrix, where all diagonal-elements are zero which is also symmetric. Most often a vector of length $\\binom{n}{2}$ is used to describe the pairwise distances in a protein. The distance between a protein and a membrane/interface would also fall into this category.\n",
    " \n",
    "- Angles: Angular CVs lie in a periodic space of $[-\\pi, \\pi]$ or $[0, 2\\pi]$, or $[0, 360]$. The well-known Ramachandran plot uses a protein's $\\phi$ and $\\psi$ angles to find energetically favored conformations in a protein's backbone. Besides the backbone angles other angles can become important in understanding a protein's conformations. Lysine is often modified via acetylation, phosphorylation, methylation, ubiquitylation and it's sidechain angles ($\\chi_1$ to $\\chi_5$) can be important descriptors in such a system. Pseudo-Dihedral angles lie also in this category. \n",
    "\n",
    "- Integer/binary values. If a protein has well-defined states (folded and unfolder) a binary value describing these states could also be a useful CV.\n",
    "\n",
    "- Values from other calculations and hyperparameters. An example for this category could be the temperature at which the simulation was carried out, when simulations were conducted at multiple temperatures. If phase space sub states were obtained by either using Markov-Chain models, or by using some sort of clustering algorithm (GROMOS), the membership to such cluster could also present CVs.\n",
    "\n",
    "- Positional values: Maybe even the full position of an atom or a group of atoms could be an important descriptor for a system.\n",
    "\n",
    "- etc."
   ]
  },
  {
   "cell_type": "markdown",
   "metadata": {
    "pycharm": {
     "name": "#%% md\n"
    }
   },
   "source": [
    "### Sharing Trajectory files\n",
    "\n",
    "Thanks to Christoph Wehmeyer: https://github.com/markovmodel/mdshare and his `mdshare` python package we will use a convenient way of obtaining MD data without bundling the codebase of `encodermap` with gigabytes upon gigabytes of MD trajectories."
   ]
  },
  {
   "cell_type": "code",
   "execution_count": 2,
   "metadata": {
    "execution": {
     "iopub.execute_input": "2023-02-01T15:58:49.969899Z",
     "iopub.status.busy": "2023-02-01T15:58:49.969698Z",
     "iopub.status.idle": "2023-02-01T15:58:50.259877Z",
     "shell.execute_reply": "2023-02-01T15:58:50.259190Z"
    }
   },
   "outputs": [
    {
     "ename": "ModuleNotFoundError",
     "evalue": "No module named 'encodermap.autoencoder'",
     "output_type": "error",
     "traceback": [
      "\u001b[0;31m---------------------------------------------------------------------------\u001b[0m",
      "\u001b[0;31mModuleNotFoundError\u001b[0m                       Traceback (most recent call last)",
      "Cell \u001b[0;32mIn[2], line 2\u001b[0m\n\u001b[1;32m      1\u001b[0m \u001b[38;5;28;01mimport\u001b[39;00m \u001b[38;5;21;01mmdshare\u001b[39;00m\n\u001b[0;32m----> 2\u001b[0m \u001b[38;5;28;01mimport\u001b[39;00m \u001b[38;5;21;01mencodermap\u001b[39;00m \u001b[38;5;28;01mas\u001b[39;00m \u001b[38;5;21;01mem\u001b[39;00m\n\u001b[1;32m      4\u001b[0m \u001b[38;5;66;03m# use autoreload\u001b[39;00m\n\u001b[1;32m      5\u001b[0m get_ipython()\u001b[38;5;241m.\u001b[39mrun_line_magic(\u001b[38;5;124m'\u001b[39m\u001b[38;5;124mload_ext\u001b[39m\u001b[38;5;124m'\u001b[39m, \u001b[38;5;124m'\u001b[39m\u001b[38;5;124mautoreload\u001b[39m\u001b[38;5;124m'\u001b[39m)\n",
      "File \u001b[0;32m/opt/hostedtoolcache/Python/3.9.16/x64/lib/python3.9/site-packages/encodermap/__init__.py:94\u001b[0m\n\u001b[1;32m     88\u001b[0m \u001b[38;5;66;03m################################################################################\u001b[39;00m\n\u001b[1;32m     89\u001b[0m \u001b[38;5;66;03m# Imports\u001b[39;00m\n\u001b[1;32m     90\u001b[0m \u001b[38;5;66;03m################################################################################\u001b[39;00m\n\u001b[1;32m     93\u001b[0m \u001b[38;5;28;01mfrom\u001b[39;00m \u001b[38;5;21;01m.\u001b[39;00m\u001b[38;5;21;01m_version\u001b[39;00m \u001b[38;5;28;01mimport\u001b[39;00m __version__\n\u001b[0;32m---> 94\u001b[0m \u001b[38;5;28;01mfrom\u001b[39;00m \u001b[38;5;21;01m.\u001b[39;00m\u001b[38;5;21;01mautoencoder\u001b[39;00m\u001b[38;5;21;01m.\u001b[39;00m\u001b[38;5;21;01mautoencoder\u001b[39;00m \u001b[38;5;28;01mimport\u001b[39;00m (\n\u001b[1;32m     95\u001b[0m     AngleDihedralCartesianEncoderMap,\n\u001b[1;32m     96\u001b[0m     Autoencoder,\n\u001b[1;32m     97\u001b[0m     EncoderMap,\n\u001b[1;32m     98\u001b[0m )\n\u001b[1;32m     99\u001b[0m \u001b[38;5;28;01mfrom\u001b[39;00m \u001b[38;5;21;01m.\u001b[39;00m\u001b[38;5;21;01mcallbacks\u001b[39;00m\u001b[38;5;21;01m.\u001b[39;00m\u001b[38;5;21;01mcallbacks\u001b[39;00m \u001b[38;5;28;01mimport\u001b[39;00m EncoderMapBaseCallback\n\u001b[1;32m    100\u001b[0m \u001b[38;5;28;01mfrom\u001b[39;00m \u001b[38;5;21;01m.\u001b[39;00m\u001b[38;5;21;01mloading\u001b[39;00m \u001b[38;5;28;01mimport\u001b[39;00m features\n",
      "\u001b[0;31mModuleNotFoundError\u001b[0m: No module named 'encodermap.autoencoder'"
     ]
    }
   ],
   "source": [
    "import mdshare\n",
    "import encodermap as em\n",
    "\n",
    "# use autoreload\n",
    "%load_ext autoreload\n",
    "%autoreload 2"
   ]
  },
  {
   "cell_type": "markdown",
   "metadata": {
    "pycharm": {
     "name": "#%% md\n"
    }
   },
   "source": [
    "You can initialize the encodermap Repository like so:"
   ]
  },
  {
   "cell_type": "code",
   "execution_count": 3,
   "metadata": {
    "execution": {
     "iopub.execute_input": "2023-02-01T15:58:50.263293Z",
     "iopub.status.busy": "2023-02-01T15:58:50.262922Z",
     "iopub.status.idle": "2023-02-01T15:58:50.276890Z",
     "shell.execute_reply": "2023-02-01T15:58:50.276254Z"
    }
   },
   "outputs": [
    {
     "ename": "NameError",
     "evalue": "name 'em' is not defined",
     "output_type": "error",
     "traceback": [
      "\u001b[0;31m---------------------------------------------------------------------------\u001b[0m",
      "\u001b[0;31mNameError\u001b[0m                                 Traceback (most recent call last)",
      "Cell \u001b[0;32mIn[3], line 1\u001b[0m\n\u001b[0;32m----> 1\u001b[0m repo \u001b[38;5;241m=\u001b[39m \u001b[43mem\u001b[49m\u001b[38;5;241m.\u001b[39mRepository(ignore_checksums\u001b[38;5;241m=\u001b[39m\u001b[38;5;28;01mTrue\u001b[39;00m)\n",
      "\u001b[0;31mNameError\u001b[0m: name 'em' is not defined"
     ]
    }
   ],
   "source": [
    "repo = em.Repository(ignore_checksums=True)"
   ]
  },
  {
   "cell_type": "markdown",
   "metadata": {
    "pycharm": {
     "name": "#%% md\n"
    }
   },
   "source": [
    "Print all available files."
   ]
  },
  {
   "cell_type": "code",
   "execution_count": 4,
   "metadata": {
    "execution": {
     "iopub.execute_input": "2023-02-01T15:58:50.279594Z",
     "iopub.status.busy": "2023-02-01T15:58:50.279388Z",
     "iopub.status.idle": "2023-02-01T15:58:50.292916Z",
     "shell.execute_reply": "2023-02-01T15:58:50.292283Z"
    }
   },
   "outputs": [
    {
     "ename": "NameError",
     "evalue": "name 'repo' is not defined",
     "output_type": "error",
     "traceback": [
      "\u001b[0;31m---------------------------------------------------------------------------\u001b[0m",
      "\u001b[0;31mNameError\u001b[0m                                 Traceback (most recent call last)",
      "Cell \u001b[0;32mIn[4], line 1\u001b[0m\n\u001b[0;32m----> 1\u001b[0m \u001b[43mrepo\u001b[49m\u001b[38;5;241m.\u001b[39mfiles[:\u001b[38;5;241m5\u001b[39m]\n",
      "\u001b[0;31mNameError\u001b[0m: name 'repo' is not defined"
     ]
    }
   ],
   "source": [
    "repo.files[:5]"
   ]
  },
  {
   "cell_type": "markdown",
   "metadata": {
    "pycharm": {
     "name": "#%% md\n"
    }
   },
   "source": [
    "Print a nicely formatted catalogue."
   ]
  },
  {
   "cell_type": "code",
   "execution_count": 5,
   "metadata": {
    "execution": {
     "iopub.execute_input": "2023-02-01T15:58:50.295509Z",
     "iopub.status.busy": "2023-02-01T15:58:50.295187Z",
     "iopub.status.idle": "2023-02-01T15:58:50.308716Z",
     "shell.execute_reply": "2023-02-01T15:58:50.308217Z"
    }
   },
   "outputs": [
    {
     "ename": "NameError",
     "evalue": "name 'repo' is not defined",
     "output_type": "error",
     "traceback": [
      "\u001b[0;31m---------------------------------------------------------------------------\u001b[0m",
      "\u001b[0;31mNameError\u001b[0m                                 Traceback (most recent call last)",
      "Cell \u001b[0;32mIn[5], line 1\u001b[0m\n\u001b[0;32m----> 1\u001b[0m \u001b[43mrepo\u001b[49m\u001b[38;5;241m.\u001b[39mprint_catalogue()\n",
      "\u001b[0;31mNameError\u001b[0m: name 'repo' is not defined"
     ]
    }
   ],
   "source": [
    "repo.print_catalogue()"
   ]
  },
  {
   "cell_type": "markdown",
   "metadata": {
    "pycharm": {
     "name": "#%% md\n"
    }
   },
   "source": [
    "You can search for files with unix-like filename patterns."
   ]
  },
  {
   "cell_type": "code",
   "execution_count": 6,
   "metadata": {
    "execution": {
     "iopub.execute_input": "2023-02-01T15:58:50.311315Z",
     "iopub.status.busy": "2023-02-01T15:58:50.311115Z",
     "iopub.status.idle": "2023-02-01T15:58:50.329162Z",
     "shell.execute_reply": "2023-02-01T15:58:50.328605Z"
    }
   },
   "outputs": [
    {
     "ename": "NameError",
     "evalue": "name 'repo' is not defined",
     "output_type": "error",
     "traceback": [
      "\u001b[0;31m---------------------------------------------------------------------------\u001b[0m",
      "\u001b[0;31mNameError\u001b[0m                                 Traceback (most recent call last)",
      "Cell \u001b[0;32mIn[6], line 1\u001b[0m\n\u001b[0;32m----> 1\u001b[0m search \u001b[38;5;241m=\u001b[39m \u001b[43mrepo\u001b[49m\u001b[38;5;241m.\u001b[39msearch(\u001b[38;5;124m'\u001b[39m\u001b[38;5;124m*PF*\u001b[39m\u001b[38;5;124m'\u001b[39m)\n\u001b[1;32m      2\u001b[0m \u001b[38;5;28;01mfor\u001b[39;00m k, v \u001b[38;5;129;01min\u001b[39;00m search\u001b[38;5;241m.\u001b[39mitems():\n\u001b[1;32m      3\u001b[0m     \u001b[38;5;28mprint\u001b[39m(\u001b[38;5;124mf\u001b[39m\u001b[38;5;124m'\u001b[39m\u001b[38;5;132;01m{\u001b[39;00mk\u001b[38;5;132;01m:\u001b[39;00m\u001b[38;5;124m<25\u001b[39m\u001b[38;5;132;01m}\u001b[39;00m\u001b[38;5;132;01m{\u001b[39;00mv\u001b[38;5;132;01m}\u001b[39;00m\u001b[38;5;124m'\u001b[39m)\n",
      "\u001b[0;31mNameError\u001b[0m: name 'repo' is not defined"
     ]
    }
   ],
   "source": [
    "search = repo.search('*PF*')\n",
    "for k, v in search.items():\n",
    "    print(f'{k:<25}{v}')"
   ]
  },
  {
   "cell_type": "markdown",
   "metadata": {
    "pycharm": {
     "name": "#%% md\n"
    }
   },
   "source": [
    "`mdshare` is an easy way to download MD data directly via python. You can choose the directory to download files to, or you can let encodermap download the files into its own directory structure, which allows you to use files that have already been downloaded anytime from anywhere. You can download files by doing this:"
   ]
  },
  {
   "cell_type": "code",
   "execution_count": 7,
   "metadata": {
    "execution": {
     "iopub.execute_input": "2023-02-01T15:58:50.332431Z",
     "iopub.status.busy": "2023-02-01T15:58:50.331989Z",
     "iopub.status.idle": "2023-02-01T15:58:50.347578Z",
     "shell.execute_reply": "2023-02-01T15:58:50.347016Z"
    }
   },
   "outputs": [
    {
     "ename": "NameError",
     "evalue": "name 'repo' is not defined",
     "output_type": "error",
     "traceback": [
      "\u001b[0;31m---------------------------------------------------------------------------\u001b[0m",
      "\u001b[0;31mNameError\u001b[0m                                 Traceback (most recent call last)",
      "Cell \u001b[0;32mIn[7], line 1\u001b[0m\n\u001b[0;32m----> 1\u001b[0m files, directory \u001b[38;5;241m=\u001b[39m \u001b[43mrepo\u001b[49m\u001b[38;5;241m.\u001b[39mfetch(\u001b[38;5;124m'\u001b[39m\u001b[38;5;124mPFFP_single*\u001b[39m\u001b[38;5;124m'\u001b[39m)\n",
      "\u001b[0;31mNameError\u001b[0m: name 'repo' is not defined"
     ]
    }
   ],
   "source": [
    "files, directory = repo.fetch('PFFP_single*')"
   ]
  },
  {
   "cell_type": "markdown",
   "metadata": {
    "pycharm": {
     "name": "#%% md\n"
    }
   },
   "source": [
    "Once downloaded you can use the files however you like:"
   ]
  },
  {
   "cell_type": "code",
   "execution_count": 8,
   "metadata": {
    "execution": {
     "iopub.execute_input": "2023-02-01T15:58:50.350226Z",
     "iopub.status.busy": "2023-02-01T15:58:50.349898Z",
     "iopub.status.idle": "2023-02-01T15:58:50.538601Z",
     "shell.execute_reply": "2023-02-01T15:58:50.538050Z"
    }
   },
   "outputs": [
    {
     "ename": "NameError",
     "evalue": "name 'files' is not defined",
     "output_type": "error",
     "traceback": [
      "\u001b[0;31m---------------------------------------------------------------------------\u001b[0m",
      "\u001b[0;31mNameError\u001b[0m                                 Traceback (most recent call last)",
      "Cell \u001b[0;32mIn[8], line 2\u001b[0m\n\u001b[1;32m      1\u001b[0m \u001b[38;5;28;01mimport\u001b[39;00m \u001b[38;5;21;01mmdtraj\u001b[39;00m \u001b[38;5;28;01mas\u001b[39;00m \u001b[38;5;21;01mmd\u001b[39;00m\n\u001b[0;32m----> 2\u001b[0m traj \u001b[38;5;241m=\u001b[39m md\u001b[38;5;241m.\u001b[39mload(\u001b[43mfiles\u001b[49m[\u001b[38;5;241m0\u001b[39m], top\u001b[38;5;241m=\u001b[39mfiles[\u001b[38;5;241m1\u001b[39m])\n\u001b[1;32m      3\u001b[0m \u001b[38;5;28mprint\u001b[39m(traj)\n\u001b[1;32m      4\u001b[0m \u001b[38;5;28mprint\u001b[39m()\n",
      "\u001b[0;31mNameError\u001b[0m: name 'files' is not defined"
     ]
    }
   ],
   "source": [
    "import mdtraj as md\n",
    "traj = md.load(files[0], top=files[1])\n",
    "print(traj)\n",
    "print()\n",
    "with open(files[1], 'r') as f:\n",
    "    lines = f.read().splitlines()[:7]\n",
    "print('\\n'.join(lines))"
   ]
  },
  {
   "cell_type": "markdown",
   "metadata": {
    "pycharm": {
     "name": "#%% md\n"
    }
   },
   "source": [
    "Normally files will be put into the directory of encodermap (This should also work if you installed encodermap via pip), but you can specify the trajectory via:"
   ]
  },
  {
   "cell_type": "code",
   "execution_count": 9,
   "metadata": {
    "execution": {
     "iopub.execute_input": "2023-02-01T15:58:50.542215Z",
     "iopub.status.busy": "2023-02-01T15:58:50.541780Z",
     "iopub.status.idle": "2023-02-01T15:58:50.557823Z",
     "shell.execute_reply": "2023-02-01T15:58:50.557318Z"
    }
   },
   "outputs": [
    {
     "ename": "NameError",
     "evalue": "name 'em' is not defined",
     "output_type": "error",
     "traceback": [
      "\u001b[0;31m---------------------------------------------------------------------------\u001b[0m",
      "\u001b[0;31mNameError\u001b[0m                                 Traceback (most recent call last)",
      "Cell \u001b[0;32mIn[9], line 1\u001b[0m\n\u001b[0;32m----> 1\u001b[0m repo \u001b[38;5;241m=\u001b[39m \u001b[43mem\u001b[49m\u001b[38;5;241m.\u001b[39mRepository()\n\u001b[1;32m      2\u001b[0m repo\u001b[38;5;241m.\u001b[39mfetch(\u001b[38;5;124m'\u001b[39m\u001b[38;5;124m1am7*\u001b[39m\u001b[38;5;124m'\u001b[39m, working_directory\u001b[38;5;241m=\u001b[39m\u001b[38;5;124m'\u001b[39m\u001b[38;5;124m.\u001b[39m\u001b[38;5;124m'\u001b[39m)\n",
      "\u001b[0;31mNameError\u001b[0m: name 'em' is not defined"
     ]
    }
   ],
   "source": [
    "repo = em.Repository()\n",
    "repo.fetch('1am7*', working_directory='.')"
   ]
  },
  {
   "cell_type": "markdown",
   "metadata": {
    "pycharm": {
     "name": "#%% md\n"
    }
   },
   "source": [
    "You can also fetch complete projects. These projects will return one of two new classes. After downloading the necessary files, you will be introduced to these new classes."
   ]
  },
  {
   "cell_type": "code",
   "execution_count": 10,
   "metadata": {
    "execution": {
     "iopub.execute_input": "2023-02-01T15:58:50.562047Z",
     "iopub.status.busy": "2023-02-01T15:58:50.560798Z",
     "iopub.status.idle": "2023-02-01T15:58:50.577325Z",
     "shell.execute_reply": "2023-02-01T15:58:50.576832Z"
    }
   },
   "outputs": [
    {
     "ename": "NameError",
     "evalue": "name 'repo' is not defined",
     "output_type": "error",
     "traceback": [
      "\u001b[0;31m---------------------------------------------------------------------------\u001b[0m",
      "\u001b[0;31mNameError\u001b[0m                                 Traceback (most recent call last)",
      "Cell \u001b[0;32mIn[10], line 1\u001b[0m\n\u001b[0;32m----> 1\u001b[0m traj \u001b[38;5;241m=\u001b[39m \u001b[43mrepo\u001b[49m\u001b[38;5;241m.\u001b[39mload_project(\u001b[38;5;124m'\u001b[39m\u001b[38;5;124mC23\u001b[39m\u001b[38;5;124m'\u001b[39m)\n\u001b[1;32m      2\u001b[0m view \u001b[38;5;241m=\u001b[39m traj\u001b[38;5;241m.\u001b[39mshow_traj()\n\u001b[1;32m      3\u001b[0m view\n",
      "\u001b[0;31mNameError\u001b[0m: name 'repo' is not defined"
     ]
    }
   ],
   "source": [
    "traj = repo.load_project('C23')\n",
    "view = traj.show_traj()\n",
    "view"
   ]
  },
  {
   "cell_type": "markdown",
   "metadata": {
    "pycharm": {
     "name": "#%% md\n"
    }
   },
   "source": [
    "## Classes for Trajectory Ensembles\n",
    "\n",
    "After we have obtained some files let us work with Encodermap's `Info`-classes."
   ]
  },
  {
   "cell_type": "code",
   "execution_count": 11,
   "metadata": {
    "execution": {
     "iopub.execute_input": "2023-02-01T15:58:50.581491Z",
     "iopub.status.busy": "2023-02-01T15:58:50.580228Z",
     "iopub.status.idle": "2023-02-01T15:58:50.610192Z",
     "shell.execute_reply": "2023-02-01T15:58:50.609675Z"
    }
   },
   "outputs": [
    {
     "ename": "ModuleNotFoundError",
     "evalue": "No module named 'encodermap.autoencoder'",
     "output_type": "error",
     "traceback": [
      "\u001b[0;31m---------------------------------------------------------------------------\u001b[0m",
      "\u001b[0;31mModuleNotFoundError\u001b[0m                       Traceback (most recent call last)",
      "Cell \u001b[0;32mIn[11], line 1\u001b[0m\n\u001b[0;32m----> 1\u001b[0m \u001b[38;5;28;01mimport\u001b[39;00m \u001b[38;5;21;01mencodermap\u001b[39;00m \u001b[38;5;28;01mas\u001b[39;00m \u001b[38;5;21;01mem\u001b[39;00m\n\u001b[1;32m      2\u001b[0m \u001b[38;5;28;01mimport\u001b[39;00m \u001b[38;5;21;01mxarray\u001b[39;00m \u001b[38;5;28;01mas\u001b[39;00m \u001b[38;5;21;01mxr\u001b[39;00m\n\u001b[1;32m      3\u001b[0m \u001b[38;5;28;01mimport\u001b[39;00m \u001b[38;5;21;01mnumpy\u001b[39;00m \u001b[38;5;28;01mas\u001b[39;00m \u001b[38;5;21;01mnp\u001b[39;00m\n",
      "File \u001b[0;32m/opt/hostedtoolcache/Python/3.9.16/x64/lib/python3.9/site-packages/encodermap/__init__.py:94\u001b[0m\n\u001b[1;32m     88\u001b[0m \u001b[38;5;66;03m################################################################################\u001b[39;00m\n\u001b[1;32m     89\u001b[0m \u001b[38;5;66;03m# Imports\u001b[39;00m\n\u001b[1;32m     90\u001b[0m \u001b[38;5;66;03m################################################################################\u001b[39;00m\n\u001b[1;32m     93\u001b[0m \u001b[38;5;28;01mfrom\u001b[39;00m \u001b[38;5;21;01m.\u001b[39;00m\u001b[38;5;21;01m_version\u001b[39;00m \u001b[38;5;28;01mimport\u001b[39;00m __version__\n\u001b[0;32m---> 94\u001b[0m \u001b[38;5;28;01mfrom\u001b[39;00m \u001b[38;5;21;01m.\u001b[39;00m\u001b[38;5;21;01mautoencoder\u001b[39;00m\u001b[38;5;21;01m.\u001b[39;00m\u001b[38;5;21;01mautoencoder\u001b[39;00m \u001b[38;5;28;01mimport\u001b[39;00m (\n\u001b[1;32m     95\u001b[0m     AngleDihedralCartesianEncoderMap,\n\u001b[1;32m     96\u001b[0m     Autoencoder,\n\u001b[1;32m     97\u001b[0m     EncoderMap,\n\u001b[1;32m     98\u001b[0m )\n\u001b[1;32m     99\u001b[0m \u001b[38;5;28;01mfrom\u001b[39;00m \u001b[38;5;21;01m.\u001b[39;00m\u001b[38;5;21;01mcallbacks\u001b[39;00m\u001b[38;5;21;01m.\u001b[39;00m\u001b[38;5;21;01mcallbacks\u001b[39;00m \u001b[38;5;28;01mimport\u001b[39;00m EncoderMapBaseCallback\n\u001b[1;32m    100\u001b[0m \u001b[38;5;28;01mfrom\u001b[39;00m \u001b[38;5;21;01m.\u001b[39;00m\u001b[38;5;21;01mloading\u001b[39;00m \u001b[38;5;28;01mimport\u001b[39;00m features\n",
      "\u001b[0;31mModuleNotFoundError\u001b[0m: No module named 'encodermap.autoencoder'"
     ]
    }
   ],
   "source": [
    "import encodermap as em\n",
    "import xarray as xr\n",
    "import numpy as np\n",
    "import mdtraj as md\n",
    "import MDAnalysis as mda\n",
    "import matplotlib as mpl\n",
    "import matplotlib.pyplot as plt\n",
    "\n",
    "import glob\n",
    "import os\n",
    "\n",
    "# if you have nglview set up you can also import it\n",
    "try:\n",
    "    import nglview as ngl\n",
    "except ImportError:\n",
    "    pass"
   ]
  },
  {
   "cell_type": "markdown",
   "metadata": {
    "pycharm": {
     "name": "#%% md\n"
    }
   },
   "source": [
    "## The new SingleTraj class\n",
    "\n",
    "The `SingleTraj` class is meant as a single container to hold a trajectory's xyz coordinates, its topology, and its CVs. This class builds the backbone of a fast and coprehensive representation of *trajectory ensembles*."
   ]
  },
  {
   "cell_type": "markdown",
   "metadata": {
    "pycharm": {
     "name": "#%% md\n"
    }
   },
   "source": [
    "### Initialize.\n",
    "\n",
    "In the background of the `SingleTraj` class `mdtraj` works its magic, howver this class offers more benefits:\n",
    "\n",
    "- Loading CVs in a multitude of ways and directly accessing them via indexing.\n",
    "- Keeping the actual data unloaded on disk until it is actually needed.\n",
    "- Keeping track of the original trajectory file and the original topology file.\n",
    "\n",
    "The `SingleTraj` class can be initialized in many ways:"
   ]
  },
  {
   "cell_type": "code",
   "execution_count": 12,
   "metadata": {
    "execution": {
     "iopub.execute_input": "2023-02-01T15:58:50.613084Z",
     "iopub.status.busy": "2023-02-01T15:58:50.612758Z",
     "iopub.status.idle": "2023-02-01T15:58:50.628257Z",
     "shell.execute_reply": "2023-02-01T15:58:50.627683Z"
    }
   },
   "outputs": [
    {
     "ename": "NameError",
     "evalue": "name 'em' is not defined",
     "output_type": "error",
     "traceback": [
      "\u001b[0;31m---------------------------------------------------------------------------\u001b[0m",
      "\u001b[0;31mNameError\u001b[0m                                 Traceback (most recent call last)",
      "Cell \u001b[0;32mIn[12], line 2\u001b[0m\n\u001b[1;32m      1\u001b[0m \u001b[38;5;66;03m# from traj and top file on disk\u001b[39;00m\n\u001b[0;32m----> 2\u001b[0m traj_xtc \u001b[38;5;241m=\u001b[39m \u001b[43mem\u001b[49m\u001b[38;5;241m.\u001b[39mSingleTraj(\u001b[38;5;124m'\u001b[39m\u001b[38;5;124m1am7_corrected.xtc\u001b[39m\u001b[38;5;124m'\u001b[39m, \u001b[38;5;124m'\u001b[39m\u001b[38;5;124m1am7_protein.pdb\u001b[39m\u001b[38;5;124m'\u001b[39m)\n\u001b[1;32m      4\u001b[0m \u001b[38;5;66;03m# from a url of the pdb database\u001b[39;00m\n\u001b[1;32m      5\u001b[0m traj_pdb \u001b[38;5;241m=\u001b[39m em\u001b[38;5;241m.\u001b[39mSingleTraj(\u001b[38;5;124m'\u001b[39m\u001b[38;5;124mhttps://files.rcsb.org/view/1YUF.pdb\u001b[39m\u001b[38;5;124m'\u001b[39m)\n",
      "\u001b[0;31mNameError\u001b[0m: name 'em' is not defined"
     ]
    }
   ],
   "source": [
    "# from traj and top file on disk\n",
    "traj_xtc = em.SingleTraj('1am7_corrected.xtc', '1am7_protein.pdb')\n",
    "\n",
    "# from a url of the pdb database\n",
    "traj_pdb = em.SingleTraj('https://files.rcsb.org/view/1YUF.pdb')\n",
    "\n",
    "# with an alternate constructor providing a pdb-id\n",
    "traj_pdb = em.SingleTraj.from_pdb_id('1YUG')\n",
    "\n",
    "# with the encpdermap repository by using the load_project() method\n",
    "traj_proj = repo.load_project('C23', working_directory='.')\n",
    "\n",
    "# from an existing mdtraj trajectory\n",
    "traj = md.load('1am7_corrected.xtc', top='1am7_protein.pdb')\n",
    "traj_mdtraj = em.SingleTraj(traj)"
   ]
  },
  {
   "cell_type": "code",
   "execution_count": 13,
   "metadata": {
    "execution": {
     "iopub.execute_input": "2023-02-01T15:58:50.630843Z",
     "iopub.status.busy": "2023-02-01T15:58:50.630517Z",
     "iopub.status.idle": "2023-02-01T15:58:50.645125Z",
     "shell.execute_reply": "2023-02-01T15:58:50.644558Z"
    }
   },
   "outputs": [
    {
     "ename": "NameError",
     "evalue": "name 'traj_xtc' is not defined",
     "output_type": "error",
     "traceback": [
      "\u001b[0;31m---------------------------------------------------------------------------\u001b[0m",
      "\u001b[0;31mNameError\u001b[0m                                 Traceback (most recent call last)",
      "Cell \u001b[0;32mIn[13], line 1\u001b[0m\n\u001b[0;32m----> 1\u001b[0m \u001b[38;5;28mprint\u001b[39m(\u001b[43mtraj_xtc\u001b[49m, \u001b[38;5;124m'\u001b[39m\u001b[38;5;130;01m\\n\u001b[39;00m\u001b[38;5;130;01m\\n\u001b[39;00m\u001b[38;5;124m'\u001b[39m, traj_pdb, \u001b[38;5;124m'\u001b[39m\u001b[38;5;130;01m\\n\u001b[39;00m\u001b[38;5;130;01m\\n\u001b[39;00m\u001b[38;5;124m'\u001b[39m, traj_proj, \u001b[38;5;124m'\u001b[39m\u001b[38;5;130;01m\\n\u001b[39;00m\u001b[38;5;130;01m\\n\u001b[39;00m\u001b[38;5;124m'\u001b[39m, traj_mdtraj)\n",
      "\u001b[0;31mNameError\u001b[0m: name 'traj_xtc' is not defined"
     ]
    }
   ],
   "source": [
    "print(traj_xtc, '\\n\\n', traj_pdb, '\\n\\n', traj_proj, '\\n\\n', traj_mdtraj)"
   ]
  },
  {
   "cell_type": "markdown",
   "metadata": {
    "pycharm": {
     "name": "#%% md\n"
    }
   },
   "source": [
    "**If you initialized the traj from files you get some extra options like the basename**"
   ]
  },
  {
   "cell_type": "code",
   "execution_count": 14,
   "metadata": {
    "execution": {
     "iopub.execute_input": "2023-02-01T15:58:50.647898Z",
     "iopub.status.busy": "2023-02-01T15:58:50.647400Z",
     "iopub.status.idle": "2023-02-01T15:58:50.661839Z",
     "shell.execute_reply": "2023-02-01T15:58:50.661234Z"
    }
   },
   "outputs": [
    {
     "ename": "NameError",
     "evalue": "name 'traj_xtc' is not defined",
     "output_type": "error",
     "traceback": [
      "\u001b[0;31m---------------------------------------------------------------------------\u001b[0m",
      "\u001b[0;31mNameError\u001b[0m                                 Traceback (most recent call last)",
      "Cell \u001b[0;32mIn[14], line 1\u001b[0m\n\u001b[0;32m----> 1\u001b[0m \u001b[38;5;28mprint\u001b[39m(\u001b[43mtraj_xtc\u001b[49m\u001b[38;5;241m.\u001b[39mbasename, traj_xtc\u001b[38;5;241m.\u001b[39mtraj_file, traj_xtc\u001b[38;5;241m.\u001b[39mtop_file)\n\u001b[1;32m      2\u001b[0m \u001b[38;5;28mprint\u001b[39m(traj_pdb\u001b[38;5;241m.\u001b[39mbasename, traj_pdb\u001b[38;5;241m.\u001b[39mtraj_file, traj_pdb\u001b[38;5;241m.\u001b[39mtop_file)\n",
      "\u001b[0;31mNameError\u001b[0m: name 'traj_xtc' is not defined"
     ]
    }
   ],
   "source": [
    "print(traj_xtc.basename, traj_xtc.traj_file, traj_xtc.top_file)\n",
    "print(traj_pdb.basename, traj_pdb.traj_file, traj_pdb.top_file)"
   ]
  },
  {
   "cell_type": "markdown",
   "metadata": {
    "pycharm": {
     "name": "#%% md\n"
    }
   },
   "source": [
    "### On demand loading"
   ]
  },
  {
   "cell_type": "markdown",
   "metadata": {
    "pycharm": {
     "name": "#%% md\n"
    }
   },
   "source": [
    "**Difference between `traj`, `trajectory` and `top`, `topology`**\n",
    "\n",
    "`traj` and `top` always give `mdtraj.Trajectory` and `mdtraj.Topology`, respectively. They are loaded \"on demand\" and return the corresponding `mdtraj` object. After they are loaded, they are deleted again and the `SingleTraj` class is garbage collected.\n",
    "\n",
    "`trajectory` and `topology` can be `False` and represent the current *backend* of the TrajEnsemble object.\n",
    "\n",
    "This method saves RAM."
   ]
  },
  {
   "cell_type": "code",
   "execution_count": 15,
   "metadata": {
    "execution": {
     "iopub.execute_input": "2023-02-01T15:58:50.664732Z",
     "iopub.status.busy": "2023-02-01T15:58:50.664513Z",
     "iopub.status.idle": "2023-02-01T15:58:50.678218Z",
     "shell.execute_reply": "2023-02-01T15:58:50.677608Z"
    }
   },
   "outputs": [
    {
     "ename": "NameError",
     "evalue": "name 'traj_xtc' is not defined",
     "output_type": "error",
     "traceback": [
      "\u001b[0;31m---------------------------------------------------------------------------\u001b[0m",
      "\u001b[0;31mNameError\u001b[0m                                 Traceback (most recent call last)",
      "Cell \u001b[0;32mIn[15], line 1\u001b[0m\n\u001b[0;32m----> 1\u001b[0m \u001b[38;5;28mprint\u001b[39m(\u001b[43mtraj_xtc\u001b[49m\u001b[38;5;241m.\u001b[39mtopology)\n\u001b[1;32m      2\u001b[0m \u001b[38;5;28mprint\u001b[39m(traj_xtc\u001b[38;5;241m.\u001b[39mtop)\n\u001b[1;32m      3\u001b[0m \u001b[38;5;28mprint\u001b[39m(traj_xtc\u001b[38;5;241m.\u001b[39mtopology)\n",
      "\u001b[0;31mNameError\u001b[0m: name 'traj_xtc' is not defined"
     ]
    }
   ],
   "source": [
    "print(traj_xtc.topology)\n",
    "print(traj_xtc.top)\n",
    "print(traj_xtc.topology)"
   ]
  },
  {
   "cell_type": "code",
   "execution_count": 16,
   "metadata": {
    "execution": {
     "iopub.execute_input": "2023-02-01T15:58:50.681001Z",
     "iopub.status.busy": "2023-02-01T15:58:50.680674Z",
     "iopub.status.idle": "2023-02-01T15:58:50.696662Z",
     "shell.execute_reply": "2023-02-01T15:58:50.696109Z"
    }
   },
   "outputs": [
    {
     "ename": "NameError",
     "evalue": "name 'traj_xtc' is not defined",
     "output_type": "error",
     "traceback": [
      "\u001b[0;31m---------------------------------------------------------------------------\u001b[0m",
      "\u001b[0;31mNameError\u001b[0m                                 Traceback (most recent call last)",
      "Cell \u001b[0;32mIn[16], line 1\u001b[0m\n\u001b[0;32m----> 1\u001b[0m \u001b[38;5;28mprint\u001b[39m(\u001b[43mtraj_xtc\u001b[49m\u001b[38;5;241m.\u001b[39mtrajectory)\n\u001b[1;32m      2\u001b[0m \u001b[38;5;28mprint\u001b[39m(traj_xtc\u001b[38;5;241m.\u001b[39mtraj)\n\u001b[1;32m      3\u001b[0m \u001b[38;5;28mprint\u001b[39m(traj_xtc\u001b[38;5;241m.\u001b[39mtrajectory)\n",
      "\u001b[0;31mNameError\u001b[0m: name 'traj_xtc' is not defined"
     ]
    }
   ],
   "source": [
    "print(traj_xtc.trajectory)\n",
    "print(traj_xtc.traj)\n",
    "print(traj_xtc.trajectory)"
   ]
  },
  {
   "cell_type": "markdown",
   "metadata": {
    "pycharm": {
     "name": "#%% md\n"
    }
   },
   "source": [
    "Directly accessing attributes of the mdtraj.Trajectory will load it from disk and return the attributes. This means if we would execute these lines:\n",
    "\n",
    "```python\n",
    ">>> print(type(traj.xyz))\n",
    "<class 'numpy.ndarray'>\n",
    "```\n",
    "\n",
    "we would always get the xyz coordinate of the trajectory (because the trajectory is loaded to RAM). Even this method:\n",
    "\n",
    "```python\n",
    ">>> hasattr(traj, 'xyz')\n",
    "True\n",
    "```\n",
    "\n",
    "would cause the trajectory to get loaded. Only `traj.__dict__` gives use the information, that the xyz coordinates are currenlty not there."
   ]
  },
  {
   "cell_type": "code",
   "execution_count": 17,
   "metadata": {
    "execution": {
     "iopub.execute_input": "2023-02-01T15:58:50.699730Z",
     "iopub.status.busy": "2023-02-01T15:58:50.699267Z",
     "iopub.status.idle": "2023-02-01T15:58:50.713970Z",
     "shell.execute_reply": "2023-02-01T15:58:50.713324Z"
    }
   },
   "outputs": [
    {
     "ename": "NameError",
     "evalue": "name 'traj_xtc' is not defined",
     "output_type": "error",
     "traceback": [
      "\u001b[0;31m---------------------------------------------------------------------------\u001b[0m",
      "\u001b[0;31mNameError\u001b[0m                                 Traceback (most recent call last)",
      "Cell \u001b[0;32mIn[17], line 1\u001b[0m\n\u001b[0;32m----> 1\u001b[0m \u001b[38;5;28mhasattr\u001b[39m(\u001b[43mtraj_xtc\u001b[49m\u001b[38;5;241m.\u001b[39m\u001b[38;5;18m__dict__\u001b[39m, \u001b[38;5;124m'\u001b[39m\u001b[38;5;124mxyz\u001b[39m\u001b[38;5;124m'\u001b[39m)\n",
      "\u001b[0;31mNameError\u001b[0m: name 'traj_xtc' is not defined"
     ]
    }
   ],
   "source": [
    "hasattr(traj_xtc.__dict__, 'xyz')"
   ]
  },
  {
   "cell_type": "code",
   "execution_count": 18,
   "metadata": {
    "execution": {
     "iopub.execute_input": "2023-02-01T15:58:50.716617Z",
     "iopub.status.busy": "2023-02-01T15:58:50.716397Z",
     "iopub.status.idle": "2023-02-01T15:58:50.732071Z",
     "shell.execute_reply": "2023-02-01T15:58:50.731513Z"
    }
   },
   "outputs": [
    {
     "ename": "NameError",
     "evalue": "name 'traj_xtc' is not defined",
     "output_type": "error",
     "traceback": [
      "\u001b[0;31m---------------------------------------------------------------------------\u001b[0m",
      "\u001b[0;31mNameError\u001b[0m                                 Traceback (most recent call last)",
      "Cell \u001b[0;32mIn[18], line 1\u001b[0m\n\u001b[0;32m----> 1\u001b[0m \u001b[38;5;28;01mif\u001b[39;00m \u001b[38;5;124m'\u001b[39m\u001b[38;5;124mxyz\u001b[39m\u001b[38;5;124m'\u001b[39m \u001b[38;5;129;01mnot\u001b[39;00m \u001b[38;5;129;01min\u001b[39;00m \u001b[43mtraj_xtc\u001b[49m\u001b[38;5;241m.\u001b[39m\u001b[38;5;18m__dict__\u001b[39m:\n\u001b[1;32m      2\u001b[0m     \u001b[38;5;28mprint\u001b[39m(\u001b[38;5;124m\"\u001b[39m\u001b[38;5;124mNo xyz data here\u001b[39m\u001b[38;5;124m\"\u001b[39m)\n\u001b[1;32m      3\u001b[0m \u001b[38;5;28mprint\u001b[39m(traj_xtc\u001b[38;5;241m.\u001b[39mxyz[\u001b[38;5;241m0\u001b[39m,\u001b[38;5;241m0\u001b[39m])\n",
      "\u001b[0;31mNameError\u001b[0m: name 'traj_xtc' is not defined"
     ]
    }
   ],
   "source": [
    "if 'xyz' not in traj_xtc.__dict__:\n",
    "    print(\"No xyz data here\")\n",
    "print(traj_xtc.xyz[0,0])"
   ]
  },
  {
   "cell_type": "markdown",
   "metadata": {
    "pycharm": {
     "name": "#%% md\n"
    }
   },
   "source": [
    "**Loading can be forced**\n",
    "\n",
    "Using the `load()` method, the trajectory will be loaded. From that point forwards, the xyz data is kept in RAM and can be accessed. The `unload()` function does the reverse and frees up the RAM, but the xyz data can be loaded again. If your RAM is large enough you would not need the `unload()` function, but it is there nonetheless."
   ]
  },
  {
   "cell_type": "code",
   "execution_count": 19,
   "metadata": {
    "execution": {
     "iopub.execute_input": "2023-02-01T15:58:50.734648Z",
     "iopub.status.busy": "2023-02-01T15:58:50.734334Z",
     "iopub.status.idle": "2023-02-01T15:58:50.749185Z",
     "shell.execute_reply": "2023-02-01T15:58:50.748587Z"
    }
   },
   "outputs": [
    {
     "ename": "NameError",
     "evalue": "name 'traj_xtc' is not defined",
     "output_type": "error",
     "traceback": [
      "\u001b[0;31m---------------------------------------------------------------------------\u001b[0m",
      "\u001b[0;31mNameError\u001b[0m                                 Traceback (most recent call last)",
      "Cell \u001b[0;32mIn[19], line 1\u001b[0m\n\u001b[0;32m----> 1\u001b[0m \u001b[43mtraj_xtc\u001b[49m\u001b[38;5;241m.\u001b[39mload_traj()\n\u001b[1;32m      2\u001b[0m \u001b[38;5;28mprint\u001b[39m(traj_xtc\u001b[38;5;241m.\u001b[39mtopology)\n\u001b[1;32m      3\u001b[0m traj_xtc\u001b[38;5;241m.\u001b[39munload()\n",
      "\u001b[0;31mNameError\u001b[0m: name 'traj_xtc' is not defined"
     ]
    }
   ],
   "source": [
    "traj_xtc.load_traj()\n",
    "print(traj_xtc.topology)\n",
    "traj_xtc.unload()\n",
    "print(traj_xtc.topology)"
   ]
  },
  {
   "cell_type": "markdown",
   "metadata": {
    "pycharm": {
     "name": "#%% md\n"
    }
   },
   "source": [
    "### Take a look with nglview\n",
    "\n",
    "If nglview is set up, you can take a look at the trajectory with this code:"
   ]
  },
  {
   "cell_type": "code",
   "execution_count": 20,
   "metadata": {
    "execution": {
     "iopub.execute_input": "2023-02-01T15:58:50.751742Z",
     "iopub.status.busy": "2023-02-01T15:58:50.751415Z",
     "iopub.status.idle": "2023-02-01T15:58:50.766265Z",
     "shell.execute_reply": "2023-02-01T15:58:50.765693Z"
    }
   },
   "outputs": [
    {
     "ename": "NameError",
     "evalue": "name 'traj_xtc' is not defined",
     "output_type": "error",
     "traceback": [
      "\u001b[0;31m---------------------------------------------------------------------------\u001b[0m",
      "\u001b[0;31mNameError\u001b[0m                                 Traceback (most recent call last)",
      "Cell \u001b[0;32mIn[20], line 1\u001b[0m\n\u001b[0;32m----> 1\u001b[0m view \u001b[38;5;241m=\u001b[39m \u001b[43mtraj_xtc\u001b[49m\u001b[38;5;241m.\u001b[39mshow_traj()\n\u001b[1;32m      2\u001b[0m view\n",
      "\u001b[0;31mNameError\u001b[0m: name 'traj_xtc' is not defined"
     ]
    }
   ],
   "source": [
    "view = traj_xtc.show_traj()\n",
    "view"
   ]
  },
  {
   "cell_type": "markdown",
   "metadata": {
    "pycharm": {
     "name": "#%% md\n"
    }
   },
   "source": [
    "### Class attributes\n",
    "\n",
    "These attributes might be useful when you work with `SingleTraj` classes"
   ]
  },
  {
   "cell_type": "code",
   "execution_count": 21,
   "metadata": {
    "execution": {
     "iopub.execute_input": "2023-02-01T15:58:50.769353Z",
     "iopub.status.busy": "2023-02-01T15:58:50.768900Z",
     "iopub.status.idle": "2023-02-01T15:58:50.785383Z",
     "shell.execute_reply": "2023-02-01T15:58:50.784835Z"
    }
   },
   "outputs": [
    {
     "ename": "NameError",
     "evalue": "name 'traj_xtc' is not defined",
     "output_type": "error",
     "traceback": [
      "\u001b[0;31m---------------------------------------------------------------------------\u001b[0m",
      "\u001b[0;31mNameError\u001b[0m                                 Traceback (most recent call last)",
      "Cell \u001b[0;32mIn[21], line 1\u001b[0m\n\u001b[0;32m----> 1\u001b[0m \u001b[43mtraj_xtc\u001b[49m\u001b[38;5;241m.\u001b[39mload_traj()\n\u001b[1;32m      2\u001b[0m \u001b[38;5;28mprint\u001b[39m(traj_xtc\u001b[38;5;241m.\u001b[39mn_frames)\n\u001b[1;32m      3\u001b[0m \u001b[38;5;28mprint\u001b[39m(traj_xtc\u001b[38;5;241m.\u001b[39mn_atoms)\n",
      "\u001b[0;31mNameError\u001b[0m: name 'traj_xtc' is not defined"
     ]
    }
   ],
   "source": [
    "traj_xtc.load_traj()\n",
    "print(traj_xtc.n_frames)\n",
    "print(traj_xtc.n_atoms)\n",
    "print(traj_xtc.traj_file)\n",
    "print(traj_xtc.top_file)\n",
    "print(traj_xtc.basename)"
   ]
  },
  {
   "cell_type": "markdown",
   "metadata": {
    "pycharm": {
     "name": "#%% md\n"
    }
   },
   "source": [
    "### Duplication of mdtraj\n",
    "\n",
    "Some methods and attributes are duplicated from `mdtraj`. This allows us to call some `mdtraj` functions on the `SingleTraj` object directly."
   ]
  },
  {
   "cell_type": "code",
   "execution_count": 22,
   "metadata": {
    "execution": {
     "iopub.execute_input": "2023-02-01T15:58:50.788483Z",
     "iopub.status.busy": "2023-02-01T15:58:50.788031Z",
     "iopub.status.idle": "2023-02-01T15:58:50.804812Z",
     "shell.execute_reply": "2023-02-01T15:58:50.804232Z"
    }
   },
   "outputs": [
    {
     "ename": "NameError",
     "evalue": "name 'traj_xtc' is not defined",
     "output_type": "error",
     "traceback": [
      "\u001b[0;31m---------------------------------------------------------------------------\u001b[0m",
      "\u001b[0;31mNameError\u001b[0m                                 Traceback (most recent call last)",
      "Cell \u001b[0;32mIn[22], line 1\u001b[0m\n\u001b[0;32m----> 1\u001b[0m selection \u001b[38;5;241m=\u001b[39m \u001b[43mtraj_xtc\u001b[49m\u001b[38;5;241m.\u001b[39mselect(\u001b[38;5;124m'\u001b[39m\u001b[38;5;124mname CA\u001b[39m\u001b[38;5;124m'\u001b[39m)\n\u001b[1;32m      2\u001b[0m \u001b[38;5;28mprint\u001b[39m(selection[:\u001b[38;5;241m5\u001b[39m])\n\u001b[1;32m      3\u001b[0m dssp \u001b[38;5;241m=\u001b[39m md\u001b[38;5;241m.\u001b[39mcompute_dssp(traj_xtc)\n",
      "\u001b[0;31mNameError\u001b[0m: name 'traj_xtc' is not defined"
     ]
    }
   ],
   "source": [
    "selection = traj_xtc.select('name CA')\n",
    "print(selection[:5])\n",
    "dssp = md.compute_dssp(traj_xtc)\n",
    "print(dssp[0, :5].tolist())"
   ]
  },
  {
   "cell_type": "code",
   "execution_count": 23,
   "metadata": {
    "execution": {
     "iopub.execute_input": "2023-02-01T15:58:50.807823Z",
     "iopub.status.busy": "2023-02-01T15:58:50.807380Z",
     "iopub.status.idle": "2023-02-01T15:58:50.823553Z",
     "shell.execute_reply": "2023-02-01T15:58:50.822994Z"
    }
   },
   "outputs": [
    {
     "ename": "NameError",
     "evalue": "name 'traj_xtc' is not defined",
     "output_type": "error",
     "traceback": [
      "\u001b[0;31m---------------------------------------------------------------------------\u001b[0m",
      "\u001b[0;31mNameError\u001b[0m                                 Traceback (most recent call last)",
      "Cell \u001b[0;32mIn[23], line 1\u001b[0m\n\u001b[0;32m----> 1\u001b[0m md\u001b[38;5;241m.\u001b[39mcompute_center_of_mass(\u001b[43mtraj_xtc\u001b[49m)[\u001b[38;5;241m0\u001b[39m]\n",
      "\u001b[0;31mNameError\u001b[0m: name 'traj_xtc' is not defined"
     ]
    }
   ],
   "source": [
    "md.compute_center_of_mass(traj_xtc)[0]"
   ]
  },
  {
   "cell_type": "markdown",
   "metadata": {
    "pycharm": {
     "name": "#%% md\n"
    }
   },
   "source": [
    "### Indexing\n",
    "\n",
    "By indexing the `SingleTraj` class you get another instance of the `SingleTraj` class containing only one frame."
   ]
  },
  {
   "cell_type": "code",
   "execution_count": 24,
   "metadata": {
    "execution": {
     "iopub.execute_input": "2023-02-01T15:58:50.826565Z",
     "iopub.status.busy": "2023-02-01T15:58:50.826045Z",
     "iopub.status.idle": "2023-02-01T15:58:50.873002Z",
     "shell.execute_reply": "2023-02-01T15:58:50.872420Z"
    }
   },
   "outputs": [
    {
     "ename": "NameError",
     "evalue": "name 'traj_xtc' is not defined",
     "output_type": "error",
     "traceback": [
      "\u001b[0;31m---------------------------------------------------------------------------\u001b[0m",
      "\u001b[0;31mNameError\u001b[0m                                 Traceback (most recent call last)",
      "Cell \u001b[0;32mIn[24], line 1\u001b[0m\n\u001b[0;32m----> 1\u001b[0m frame \u001b[38;5;241m=\u001b[39m \u001b[43mtraj_xtc\u001b[49m[\u001b[38;5;241m0\u001b[39m]\n\u001b[1;32m      2\u001b[0m \u001b[38;5;28mprint\u001b[39m(frame)\n",
      "\u001b[0;31mNameError\u001b[0m: name 'traj_xtc' is not defined"
     ]
    }
   ],
   "source": [
    "frame = traj_xtc[0]\n",
    "print(frame)"
   ]
  },
  {
   "cell_type": "markdown",
   "metadata": {
    "pycharm": {
     "name": "#%% md\n"
    }
   },
   "source": [
    "If the traj has currently not been loaded (backend = 'no_load') the frame number will be stored, until the traj is loaded."
   ]
  },
  {
   "cell_type": "code",
   "execution_count": 25,
   "metadata": {
    "execution": {
     "iopub.execute_input": "2023-02-01T15:58:50.876102Z",
     "iopub.status.busy": "2023-02-01T15:58:50.875775Z",
     "iopub.status.idle": "2023-02-01T15:58:50.891825Z",
     "shell.execute_reply": "2023-02-01T15:58:50.891266Z"
    }
   },
   "outputs": [
    {
     "ename": "NameError",
     "evalue": "name 'traj_xtc' is not defined",
     "output_type": "error",
     "traceback": [
      "\u001b[0;31m---------------------------------------------------------------------------\u001b[0m",
      "\u001b[0;31mNameError\u001b[0m                                 Traceback (most recent call last)",
      "Cell \u001b[0;32mIn[25], line 1\u001b[0m\n\u001b[0;32m----> 1\u001b[0m \u001b[43mtraj_xtc\u001b[49m\u001b[38;5;241m.\u001b[39munload()\n\u001b[1;32m      2\u001b[0m frame \u001b[38;5;241m=\u001b[39m traj_xtc[\u001b[38;5;241m1\u001b[39m]\n\u001b[1;32m      3\u001b[0m \u001b[38;5;28mprint\u001b[39m(frame)\n",
      "\u001b[0;31mNameError\u001b[0m: name 'traj_xtc' is not defined"
     ]
    }
   ],
   "source": [
    "traj_xtc.unload()\n",
    "frame = traj_xtc[1]\n",
    "print(frame)"
   ]
  },
  {
   "cell_type": "code",
   "execution_count": 26,
   "metadata": {
    "execution": {
     "iopub.execute_input": "2023-02-01T15:58:50.894496Z",
     "iopub.status.busy": "2023-02-01T15:58:50.894279Z",
     "iopub.status.idle": "2023-02-01T15:58:50.909589Z",
     "shell.execute_reply": "2023-02-01T15:58:50.909012Z"
    }
   },
   "outputs": [
    {
     "ename": "NameError",
     "evalue": "name 'frame' is not defined",
     "output_type": "error",
     "traceback": [
      "\u001b[0;31m---------------------------------------------------------------------------\u001b[0m",
      "\u001b[0;31mNameError\u001b[0m                                 Traceback (most recent call last)",
      "Cell \u001b[0;32mIn[26], line 1\u001b[0m\n\u001b[0;32m----> 1\u001b[0m \u001b[43mframe\u001b[49m\u001b[38;5;241m.\u001b[39mload_traj()\n\u001b[1;32m      2\u001b[0m \u001b[38;5;28mprint\u001b[39m(frame)\n",
      "\u001b[0;31mNameError\u001b[0m: name 'frame' is not defined"
     ]
    }
   ],
   "source": [
    "frame.load_traj()\n",
    "print(frame)"
   ]
  },
  {
   "cell_type": "markdown",
   "metadata": {
    "pycharm": {
     "name": "#%% md\n"
    }
   },
   "source": [
    "If the index is larger than the number of frames, the loading will throw and exception."
   ]
  },
  {
   "cell_type": "code",
   "execution_count": 27,
   "metadata": {
    "execution": {
     "iopub.execute_input": "2023-02-01T15:58:50.912889Z",
     "iopub.status.busy": "2023-02-01T15:58:50.912428Z",
     "iopub.status.idle": "2023-02-01T15:58:50.928150Z",
     "shell.execute_reply": "2023-02-01T15:58:50.927583Z"
    }
   },
   "outputs": [
    {
     "ename": "NameError",
     "evalue": "name 'traj_xtc' is not defined",
     "output_type": "error",
     "traceback": [
      "\u001b[0;31m---------------------------------------------------------------------------\u001b[0m",
      "\u001b[0;31mNameError\u001b[0m                                 Traceback (most recent call last)",
      "Cell \u001b[0;32mIn[27], line 1\u001b[0m\n\u001b[0;32m----> 1\u001b[0m \u001b[43mtraj_xtc\u001b[49m\u001b[38;5;241m.\u001b[39munload()\n\u001b[1;32m      2\u001b[0m frame \u001b[38;5;241m=\u001b[39m traj_xtc[\u001b[38;5;241m1000\u001b[39m]\n\u001b[1;32m      3\u001b[0m \u001b[38;5;28mprint\u001b[39m(frame)\n",
      "\u001b[0;31mNameError\u001b[0m: name 'traj_xtc' is not defined"
     ]
    }
   ],
   "source": [
    "traj_xtc.unload()\n",
    "frame = traj_xtc[1000]\n",
    "print(frame)"
   ]
  },
  {
   "cell_type": "code",
   "execution_count": 28,
   "metadata": {
    "execution": {
     "iopub.execute_input": "2023-02-01T15:58:50.931416Z",
     "iopub.status.busy": "2023-02-01T15:58:50.930966Z",
     "iopub.status.idle": "2023-02-01T15:58:50.945827Z",
     "shell.execute_reply": "2023-02-01T15:58:50.945246Z"
    }
   },
   "outputs": [
    {
     "ename": "NameError",
     "evalue": "name 'frame' is not defined",
     "output_type": "error",
     "traceback": [
      "\u001b[0;31m---------------------------------------------------------------------------\u001b[0m",
      "\u001b[0;31mNameError\u001b[0m                                 Traceback (most recent call last)",
      "Cell \u001b[0;32mIn[28], line 1\u001b[0m\n\u001b[0;32m----> 1\u001b[0m \u001b[43mframe\u001b[49m\u001b[38;5;241m.\u001b[39mload_traj()\n\u001b[1;32m      2\u001b[0m \u001b[38;5;28mprint\u001b[39m(frame)\n",
      "\u001b[0;31mNameError\u001b[0m: name 'frame' is not defined"
     ]
    }
   ],
   "source": [
    "frame.load_traj()\n",
    "print(frame)"
   ]
  },
  {
   "cell_type": "markdown",
   "metadata": {
    "pycharm": {
     "name": "#%% md\n"
    }
   },
   "source": [
    "### Advanced slicing\n",
    "\n",
    "You can also give a numpy array, a list or even a slice into the indexing.\n",
    "\n",
    "Indexing with without a stop (`[::5]`) will put the trajectory into memory."
   ]
  },
  {
   "cell_type": "code",
   "execution_count": 29,
   "metadata": {
    "execution": {
     "iopub.execute_input": "2023-02-01T15:58:50.949130Z",
     "iopub.status.busy": "2023-02-01T15:58:50.948688Z",
     "iopub.status.idle": "2023-02-01T15:58:50.964777Z",
     "shell.execute_reply": "2023-02-01T15:58:50.964192Z"
    }
   },
   "outputs": [
    {
     "ename": "NameError",
     "evalue": "name 'traj_xtc' is not defined",
     "output_type": "error",
     "traceback": [
      "\u001b[0;31m---------------------------------------------------------------------------\u001b[0m",
      "\u001b[0;31mNameError\u001b[0m                                 Traceback (most recent call last)",
      "Cell \u001b[0;32mIn[29], line 1\u001b[0m\n\u001b[0;32m----> 1\u001b[0m \u001b[43mtraj_xtc\u001b[49m\u001b[38;5;241m.\u001b[39munload()\n\u001b[1;32m      2\u001b[0m subsample \u001b[38;5;241m=\u001b[39m traj_xtc[::\u001b[38;5;241m2\u001b[39m]\n\u001b[1;32m      3\u001b[0m \u001b[38;5;28mprint\u001b[39m(traj_xtc\u001b[38;5;241m.\u001b[39mtraj\u001b[38;5;241m.\u001b[39mn_frames)\n",
      "\u001b[0;31mNameError\u001b[0m: name 'traj_xtc' is not defined"
     ]
    }
   ],
   "source": [
    "traj_xtc.unload()\n",
    "subsample = traj_xtc[::2]\n",
    "print(traj_xtc.traj.n_frames)\n",
    "print(subsample)\n",
    "print(subsample.n_frames)"
   ]
  },
  {
   "cell_type": "code",
   "execution_count": 30,
   "metadata": {
    "execution": {
     "iopub.execute_input": "2023-02-01T15:58:50.967946Z",
     "iopub.status.busy": "2023-02-01T15:58:50.967506Z",
     "iopub.status.idle": "2023-02-01T15:58:50.984292Z",
     "shell.execute_reply": "2023-02-01T15:58:50.983722Z"
    }
   },
   "outputs": [
    {
     "ename": "NameError",
     "evalue": "name 'traj_xtc' is not defined",
     "output_type": "error",
     "traceback": [
      "\u001b[0;31m---------------------------------------------------------------------------\u001b[0m",
      "\u001b[0;31mNameError\u001b[0m                                 Traceback (most recent call last)",
      "Cell \u001b[0;32mIn[30], line 1\u001b[0m\n\u001b[0;32m----> 1\u001b[0m \u001b[43mtraj_xtc\u001b[49m\u001b[38;5;241m.\u001b[39munload()\n\u001b[1;32m      2\u001b[0m subsample \u001b[38;5;241m=\u001b[39m traj_xtc[[\u001b[38;5;241m0\u001b[39m, \u001b[38;5;241m1\u001b[39m, \u001b[38;5;241m5\u001b[39m, \u001b[38;5;241m6\u001b[39m]]\n\u001b[1;32m      3\u001b[0m \u001b[38;5;28mprint\u001b[39m(subsample)\n",
      "\u001b[0;31mNameError\u001b[0m: name 'traj_xtc' is not defined"
     ]
    }
   ],
   "source": [
    "traj_xtc.unload()\n",
    "subsample = traj_xtc[[0, 1, 5, 6]]\n",
    "print(subsample)\n",
    "print(subsample.n_frames)"
   ]
  },
  {
   "cell_type": "markdown",
   "metadata": {
    "pycharm": {
     "name": "#%% md\n"
    }
   },
   "source": [
    "Dancy slices (`[start:stop:step]`) won't put the traj into memory, but can raise errors down the line, when stop is greater than the number of frames.\n",
    "\n",
    "**Note:**\n",
    "Andvanced slicing can result in trajectories with 0 frames in them, or possibly reverse the time axis. Use this feature only if you are sure about what you are doing."
   ]
  },
  {
   "cell_type": "code",
   "execution_count": 31,
   "metadata": {
    "execution": {
     "iopub.execute_input": "2023-02-01T15:58:50.988081Z",
     "iopub.status.busy": "2023-02-01T15:58:50.986944Z",
     "iopub.status.idle": "2023-02-01T15:58:51.003182Z",
     "shell.execute_reply": "2023-02-01T15:58:51.002618Z"
    }
   },
   "outputs": [
    {
     "ename": "NameError",
     "evalue": "name 'traj_xtc' is not defined",
     "output_type": "error",
     "traceback": [
      "\u001b[0;31m---------------------------------------------------------------------------\u001b[0m",
      "\u001b[0;31mNameError\u001b[0m                                 Traceback (most recent call last)",
      "Cell \u001b[0;32mIn[31], line 1\u001b[0m\n\u001b[0;32m----> 1\u001b[0m \u001b[43mtraj_xtc\u001b[49m\u001b[38;5;241m.\u001b[39munload()\n\u001b[1;32m      2\u001b[0m subsample \u001b[38;5;241m=\u001b[39m traj_xtc[\u001b[38;5;241m5\u001b[39m:\u001b[38;5;241m46\u001b[39m:\u001b[38;5;241m3\u001b[39m]\n\u001b[1;32m      3\u001b[0m \u001b[38;5;28mprint\u001b[39m(subsample)\n",
      "\u001b[0;31mNameError\u001b[0m: name 'traj_xtc' is not defined"
     ]
    }
   ],
   "source": [
    "traj_xtc.unload()\n",
    "subsample = traj_xtc[5:46:3]\n",
    "print(subsample)\n",
    "print(subsample.n_frames)"
   ]
  },
  {
   "cell_type": "markdown",
   "metadata": {
    "pycharm": {
     "name": "#%% md\n"
    }
   },
   "source": [
    "### Advanced slicing with HDF5\n",
    "\n",
    "The HDF5 file format (ending wiht .h5) allows us to directly extract frames and accelerate loading.\n",
    "We can save a .h5 formatted file from an `SingleTraj` class by calling:"
   ]
  },
  {
   "cell_type": "code",
   "execution_count": 32,
   "metadata": {
    "execution": {
     "iopub.execute_input": "2023-02-01T15:58:51.006889Z",
     "iopub.status.busy": "2023-02-01T15:58:51.005646Z",
     "iopub.status.idle": "2023-02-01T15:58:51.021361Z",
     "shell.execute_reply": "2023-02-01T15:58:51.020787Z"
    }
   },
   "outputs": [
    {
     "ename": "NameError",
     "evalue": "name 'traj_xtc' is not defined",
     "output_type": "error",
     "traceback": [
      "\u001b[0;31m---------------------------------------------------------------------------\u001b[0m",
      "\u001b[0;31mNameError\u001b[0m                                 Traceback (most recent call last)",
      "Cell \u001b[0;32mIn[32], line 1\u001b[0m\n\u001b[0;32m----> 1\u001b[0m \u001b[43mtraj_xtc\u001b[49m\u001b[38;5;241m.\u001b[39msave(\u001b[38;5;124m'\u001b[39m\u001b[38;5;124m1am7_corrected.h5\u001b[39m\u001b[38;5;124m'\u001b[39m, overwrite\u001b[38;5;241m=\u001b[39m\u001b[38;5;28;01mTrue\u001b[39;00m)\n",
      "\u001b[0;31mNameError\u001b[0m: name 'traj_xtc' is not defined"
     ]
    }
   ],
   "source": [
    "traj_xtc.save('1am7_corrected.h5', overwrite=True)"
   ]
  },
  {
   "cell_type": "markdown",
   "metadata": {
    "pycharm": {
     "name": "#%% md\n"
    }
   },
   "source": [
    "Loading of .h5 files is similar to all files:"
   ]
  },
  {
   "cell_type": "code",
   "execution_count": 33,
   "metadata": {
    "execution": {
     "iopub.execute_input": "2023-02-01T15:58:51.024666Z",
     "iopub.status.busy": "2023-02-01T15:58:51.024201Z",
     "iopub.status.idle": "2023-02-01T15:58:51.039541Z",
     "shell.execute_reply": "2023-02-01T15:58:51.039002Z"
    }
   },
   "outputs": [
    {
     "ename": "NameError",
     "evalue": "name 'em' is not defined",
     "output_type": "error",
     "traceback": [
      "\u001b[0;31m---------------------------------------------------------------------------\u001b[0m",
      "\u001b[0;31mNameError\u001b[0m                                 Traceback (most recent call last)",
      "Cell \u001b[0;32mIn[33], line 1\u001b[0m\n\u001b[0;32m----> 1\u001b[0m traj_h5 \u001b[38;5;241m=\u001b[39m \u001b[43mem\u001b[49m\u001b[38;5;241m.\u001b[39mSingleTraj(\u001b[38;5;124m'\u001b[39m\u001b[38;5;124m1am7_corrected.h5\u001b[39m\u001b[38;5;124m'\u001b[39m)\n",
      "\u001b[0;31mNameError\u001b[0m: name 'em' is not defined"
     ]
    }
   ],
   "source": [
    "traj_h5 = em.SingleTraj('1am7_corrected.h5')"
   ]
  },
  {
   "cell_type": "code",
   "execution_count": 34,
   "metadata": {
    "execution": {
     "iopub.execute_input": "2023-02-01T15:58:51.042242Z",
     "iopub.status.busy": "2023-02-01T15:58:51.041911Z",
     "iopub.status.idle": "2023-02-01T15:58:51.057279Z",
     "shell.execute_reply": "2023-02-01T15:58:51.056725Z"
    }
   },
   "outputs": [
    {
     "ename": "NameError",
     "evalue": "name 'em' is not defined",
     "output_type": "error",
     "traceback": [
      "\u001b[0;31m---------------------------------------------------------------------------\u001b[0m",
      "\u001b[0;31mNameError\u001b[0m                                 Traceback (most recent call last)",
      "Cell \u001b[0;32mIn[34], line 1\u001b[0m\n\u001b[0;32m----> 1\u001b[0m \u001b[38;5;28mprint\u001b[39m(\u001b[43mem\u001b[49m\u001b[38;5;241m.\u001b[39mtrajinfo\u001b[38;5;241m.\u001b[39minfo_single\u001b[38;5;241m.\u001b[39mPRINTED_HDF_ANNOTATION)\n",
      "\u001b[0;31mNameError\u001b[0m: name 'em' is not defined"
     ]
    }
   ],
   "source": [
    "print(em.trajinfo.info_single.PRINTED_HDF_ANNOTATION)"
   ]
  },
  {
   "cell_type": "code",
   "execution_count": 35,
   "metadata": {
    "execution": {
     "iopub.execute_input": "2023-02-01T15:58:51.060526Z",
     "iopub.status.busy": "2023-02-01T15:58:51.060063Z",
     "iopub.status.idle": "2023-02-01T15:58:51.076090Z",
     "shell.execute_reply": "2023-02-01T15:58:51.075517Z"
    }
   },
   "outputs": [
    {
     "ename": "NameError",
     "evalue": "name 'traj_h5' is not defined",
     "output_type": "error",
     "traceback": [
      "\u001b[0;31m---------------------------------------------------------------------------\u001b[0m",
      "\u001b[0;31mNameError\u001b[0m                                 Traceback (most recent call last)",
      "Cell \u001b[0;32mIn[35], line 1\u001b[0m\n\u001b[0;32m----> 1\u001b[0m \u001b[43mtraj_h5\u001b[49m\u001b[38;5;241m.\u001b[39munload()\n\u001b[1;32m      2\u001b[0m subsample \u001b[38;5;241m=\u001b[39m traj_h5[\u001b[38;5;241m5\u001b[39m:\u001b[38;5;241m46\u001b[39m:\u001b[38;5;241m3\u001b[39m]\n\u001b[1;32m      3\u001b[0m \u001b[38;5;28mprint\u001b[39m(subsample)\n",
      "\u001b[0;31mNameError\u001b[0m: name 'traj_h5' is not defined"
     ]
    }
   ],
   "source": [
    "traj_h5.unload()\n",
    "subsample = traj_h5[5:46:3]\n",
    "print(subsample)\n",
    "print(subsample.n_frames)"
   ]
  },
  {
   "cell_type": "markdown",
   "metadata": {
    "pycharm": {
     "name": "#%% md\n"
    }
   },
   "source": [
    "Similar to the xtc trajectory providing a slice with only steps (`[::3]`) will load the traj into memory. You will be greeted by a nice message thanking you for using HDF5-formatted trajectories. This message is only printed once. To see it again you have to restart the kernel."
   ]
  },
  {
   "cell_type": "code",
   "execution_count": 36,
   "metadata": {
    "execution": {
     "iopub.execute_input": "2023-02-01T15:58:51.079155Z",
     "iopub.status.busy": "2023-02-01T15:58:51.078704Z",
     "iopub.status.idle": "2023-02-01T15:58:51.094639Z",
     "shell.execute_reply": "2023-02-01T15:58:51.094073Z"
    }
   },
   "outputs": [
    {
     "ename": "NameError",
     "evalue": "name 'traj_h5' is not defined",
     "output_type": "error",
     "traceback": [
      "\u001b[0;31m---------------------------------------------------------------------------\u001b[0m",
      "\u001b[0;31mNameError\u001b[0m                                 Traceback (most recent call last)",
      "Cell \u001b[0;32mIn[36], line 1\u001b[0m\n\u001b[0;32m----> 1\u001b[0m \u001b[43mtraj_h5\u001b[49m\u001b[38;5;241m.\u001b[39munload()\n\u001b[1;32m      2\u001b[0m subsample \u001b[38;5;241m=\u001b[39m traj_h5[::\u001b[38;5;241m3\u001b[39m]\u001b[38;5;241m.\u001b[39mtraj\n\u001b[1;32m      3\u001b[0m \u001b[38;5;28mprint\u001b[39m(subsample)\n",
      "\u001b[0;31mNameError\u001b[0m: name 'traj_h5' is not defined"
     ]
    }
   ],
   "source": [
    "traj_h5.unload()\n",
    "subsample = traj_h5[::3].traj\n",
    "print(subsample)\n",
    "print(subsample.n_frames)"
   ]
  },
  {
   "cell_type": "code",
   "execution_count": 37,
   "metadata": {
    "execution": {
     "iopub.execute_input": "2023-02-01T15:58:51.097438Z",
     "iopub.status.busy": "2023-02-01T15:58:51.097221Z",
     "iopub.status.idle": "2023-02-01T15:58:51.113820Z",
     "shell.execute_reply": "2023-02-01T15:58:51.113238Z"
    }
   },
   "outputs": [
    {
     "ename": "NameError",
     "evalue": "name 'traj_h5' is not defined",
     "output_type": "error",
     "traceback": [
      "\u001b[0;31m---------------------------------------------------------------------------\u001b[0m",
      "\u001b[0;31mNameError\u001b[0m                                 Traceback (most recent call last)",
      "Cell \u001b[0;32mIn[37], line 1\u001b[0m\n\u001b[0;32m----> 1\u001b[0m \u001b[43mtraj_h5\u001b[49m\u001b[38;5;241m.\u001b[39munload()\n\u001b[1;32m      2\u001b[0m subsample \u001b[38;5;241m=\u001b[39m traj_h5[[\u001b[38;5;241m0\u001b[39m, \u001b[38;5;241m1\u001b[39m, \u001b[38;5;241m5\u001b[39m, \u001b[38;5;241m6\u001b[39m]]\u001b[38;5;241m.\u001b[39mtraj\n\u001b[1;32m      3\u001b[0m \u001b[38;5;28mprint\u001b[39m(subsample)\n",
      "\u001b[0;31mNameError\u001b[0m: name 'traj_h5' is not defined"
     ]
    }
   ],
   "source": [
    "traj_h5.unload()\n",
    "subsample = traj_h5[[0, 1, 5, 6]].traj\n",
    "print(subsample)\n",
    "print(subsample.n_frames)"
   ]
  },
  {
   "cell_type": "markdown",
   "metadata": {
    "pycharm": {
     "name": "#%% md\n"
    }
   },
   "source": [
    "## Loading CVs\n",
    "\n",
    "After learning about the basics of the `SingleTraj` class we will come back to collective variables. There are many ways of adding CVs to you trajectories. The easiest would be to provide an already existing numpy array. However, you will be asked to also provide the attribute name (`attr_name`) of the array. With this you could load multiple CV datasets, that differ in ther attribute names. Here's an example:"
   ]
  },
  {
   "cell_type": "markdown",
   "metadata": {
    "pycharm": {
     "name": "#%% md\n"
    }
   },
   "source": [
    "### From numpy"
   ]
  },
  {
   "cell_type": "code",
   "execution_count": 38,
   "metadata": {
    "execution": {
     "iopub.execute_input": "2023-02-01T15:58:51.116817Z",
     "iopub.status.busy": "2023-02-01T15:58:51.116483Z",
     "iopub.status.idle": "2023-02-01T15:58:51.136537Z",
     "shell.execute_reply": "2023-02-01T15:58:51.135963Z"
    }
   },
   "outputs": [
    {
     "ename": "NameError",
     "evalue": "name 'traj_xtc' is not defined",
     "output_type": "error",
     "traceback": [
      "\u001b[0;31m---------------------------------------------------------------------------\u001b[0m",
      "\u001b[0;31mNameError\u001b[0m                                 Traceback (most recent call last)",
      "Cell \u001b[0;32mIn[38], line 1\u001b[0m\n\u001b[0;32m----> 1\u001b[0m traj \u001b[38;5;241m=\u001b[39m \u001b[43mtraj_xtc\u001b[49m\n\u001b[1;32m      3\u001b[0m \u001b[38;5;66;03m# random phi/psi angles in a [0, 2pi] interval\u001b[39;00m\n\u001b[1;32m      4\u001b[0m random_raman_angles \u001b[38;5;241m=\u001b[39m np\u001b[38;5;241m.\u001b[39mrandom\u001b[38;5;241m.\u001b[39mrandom((traj\u001b[38;5;241m.\u001b[39mn_frames, \u001b[38;5;241m2\u001b[39m \u001b[38;5;241m*\u001b[39m traj\u001b[38;5;241m.\u001b[39mn_residues)) \u001b[38;5;241m*\u001b[39m \u001b[38;5;241m2\u001b[39m \u001b[38;5;241m*\u001b[39m np\u001b[38;5;241m.\u001b[39mpi\n",
      "\u001b[0;31mNameError\u001b[0m: name 'traj_xtc' is not defined"
     ]
    }
   ],
   "source": [
    "traj = traj_xtc\n",
    "\n",
    "# random phi/psi angles in a [0, 2pi] interval\n",
    "random_raman_angles = np.random.random((traj.n_frames, 2 * traj.n_residues)) * 2 * np.pi\n",
    "\n",
    "# define labels:\n",
    "phi_angles = [f'phi {i}' for i in range(traj.n_residues)]\n",
    "psi_angles = [f'psi {i}' for i in range(traj.n_residues)]\n",
    "raman_labels = [None]*(len(phi_angles)+len(psi_angles))\n",
    "raman_labels[::2] = phi_angles\n",
    "raman_labels[1::2] = psi_angles\n",
    "\n",
    "# load the CV\n",
    "traj.load_CV(random_raman_angles, 'raman', labels=raman_labels)\n",
    "\n",
    "# define some integer values (can be cluster memberships)\n",
    "random_integers_per_frame = np.random.randint(0, 3, size=traj.n_frames)\n",
    "traj.load_CV(random_integers_per_frame, 'cluster_membership')"
   ]
  },
  {
   "cell_type": "markdown",
   "metadata": {
    "pycharm": {
     "name": "#%% md\n"
    }
   },
   "source": [
    "These values can be accessed via directly calling their attribute names (so make sure to use valid identifiers)."
   ]
  },
  {
   "cell_type": "code",
   "execution_count": 39,
   "metadata": {
    "execution": {
     "iopub.execute_input": "2023-02-01T15:58:51.139088Z",
     "iopub.status.busy": "2023-02-01T15:58:51.138763Z",
     "iopub.status.idle": "2023-02-01T15:58:51.153981Z",
     "shell.execute_reply": "2023-02-01T15:58:51.153423Z"
    }
   },
   "outputs": [
    {
     "ename": "NameError",
     "evalue": "name 'traj' is not defined",
     "output_type": "error",
     "traceback": [
      "\u001b[0;31m---------------------------------------------------------------------------\u001b[0m",
      "\u001b[0;31mNameError\u001b[0m                                 Traceback (most recent call last)",
      "Cell \u001b[0;32mIn[39], line 1\u001b[0m\n\u001b[0;32m----> 1\u001b[0m \u001b[38;5;28mprint\u001b[39m(\u001b[43mtraj\u001b[49m\u001b[38;5;241m.\u001b[39mcluster_membership)\n",
      "\u001b[0;31mNameError\u001b[0m: name 'traj' is not defined"
     ]
    }
   ],
   "source": [
    "print(traj.cluster_membership)"
   ]
  },
  {
   "cell_type": "code",
   "execution_count": 40,
   "metadata": {
    "execution": {
     "iopub.execute_input": "2023-02-01T15:58:51.156460Z",
     "iopub.status.busy": "2023-02-01T15:58:51.156252Z",
     "iopub.status.idle": "2023-02-01T15:58:51.170794Z",
     "shell.execute_reply": "2023-02-01T15:58:51.170238Z"
    }
   },
   "outputs": [
    {
     "ename": "NameError",
     "evalue": "name 'traj' is not defined",
     "output_type": "error",
     "traceback": [
      "\u001b[0;31m---------------------------------------------------------------------------\u001b[0m",
      "\u001b[0;31mNameError\u001b[0m                                 Traceback (most recent call last)",
      "Cell \u001b[0;32mIn[40], line 1\u001b[0m\n\u001b[0;32m----> 1\u001b[0m \u001b[38;5;28mprint\u001b[39m(\u001b[43mtraj\u001b[49m\u001b[38;5;241m.\u001b[39mraman)\n",
      "\u001b[0;31mNameError\u001b[0m: name 'traj' is not defined"
     ]
    }
   ],
   "source": [
    "print(traj.raman)"
   ]
  },
  {
   "cell_type": "markdown",
   "metadata": {
    "pycharm": {
     "name": "#%% md\n"
    }
   },
   "source": [
    "There's also the attribute `CVs` that is a dict of these collective variables."
   ]
  },
  {
   "cell_type": "code",
   "execution_count": 41,
   "metadata": {
    "execution": {
     "iopub.execute_input": "2023-02-01T15:58:51.173905Z",
     "iopub.status.busy": "2023-02-01T15:58:51.173438Z",
     "iopub.status.idle": "2023-02-01T15:58:51.186857Z",
     "shell.execute_reply": "2023-02-01T15:58:51.186385Z"
    }
   },
   "outputs": [
    {
     "ename": "NameError",
     "evalue": "name 'traj' is not defined",
     "output_type": "error",
     "traceback": [
      "\u001b[0;31m---------------------------------------------------------------------------\u001b[0m",
      "\u001b[0;31mNameError\u001b[0m                                 Traceback (most recent call last)",
      "Cell \u001b[0;32mIn[41], line 1\u001b[0m\n\u001b[0;32m----> 1\u001b[0m \u001b[43mtraj\u001b[49m\u001b[38;5;241m.\u001b[39mCVs\n",
      "\u001b[0;31mNameError\u001b[0m: name 'traj' is not defined"
     ]
    }
   ],
   "source": [
    "traj.CVs"
   ]
  },
  {
   "cell_type": "markdown",
   "metadata": {
    "pycharm": {
     "name": "#%% md\n"
    }
   },
   "source": [
    "However, this is not the end. CVs in a `SingleTraj` class are stored as `xarray.Dataset`s. The dataset can be accessed via `_CVs`."
   ]
  },
  {
   "cell_type": "code",
   "execution_count": 42,
   "metadata": {
    "execution": {
     "iopub.execute_input": "2023-02-01T15:58:51.189414Z",
     "iopub.status.busy": "2023-02-01T15:58:51.189082Z",
     "iopub.status.idle": "2023-02-01T15:58:51.201712Z",
     "shell.execute_reply": "2023-02-01T15:58:51.201230Z"
    }
   },
   "outputs": [
    {
     "ename": "NameError",
     "evalue": "name 'traj' is not defined",
     "output_type": "error",
     "traceback": [
      "\u001b[0;31m---------------------------------------------------------------------------\u001b[0m",
      "\u001b[0;31mNameError\u001b[0m                                 Traceback (most recent call last)",
      "Cell \u001b[0;32mIn[42], line 1\u001b[0m\n\u001b[0;32m----> 1\u001b[0m \u001b[43mtraj\u001b[49m\u001b[38;5;241m.\u001b[39m_CVs\n",
      "\u001b[0;31mNameError\u001b[0m: name 'traj' is not defined"
     ]
    }
   ],
   "source": [
    "traj._CVs"
   ]
  },
  {
   "cell_type": "markdown",
   "metadata": {
    "pycharm": {
     "name": "#%% md\n"
    }
   },
   "source": [
    "**Why xarray?**\n",
    "\n",
    "The underlying `xarray.Dataset` is intended to make sure \"everything is correct\". Every value can be accessed via an unambigous identifier."
   ]
  },
  {
   "cell_type": "code",
   "execution_count": 43,
   "metadata": {
    "execution": {
     "iopub.execute_input": "2023-02-01T15:58:51.204328Z",
     "iopub.status.busy": "2023-02-01T15:58:51.204008Z",
     "iopub.status.idle": "2023-02-01T15:58:51.217304Z",
     "shell.execute_reply": "2023-02-01T15:58:51.216809Z"
    }
   },
   "outputs": [
    {
     "ename": "NameError",
     "evalue": "name 'traj' is not defined",
     "output_type": "error",
     "traceback": [
      "\u001b[0;31m---------------------------------------------------------------------------\u001b[0m",
      "\u001b[0;31mNameError\u001b[0m                                 Traceback (most recent call last)",
      "Cell \u001b[0;32mIn[43], line 1\u001b[0m\n\u001b[0;32m----> 1\u001b[0m \u001b[43mtraj\u001b[49m\u001b[38;5;241m.\u001b[39m_CVs[\u001b[38;5;124m'\u001b[39m\u001b[38;5;124mraman\u001b[39m\u001b[38;5;124m'\u001b[39m]\u001b[38;5;241m.\u001b[39mloc[{\u001b[38;5;124m'\u001b[39m\u001b[38;5;124mframe_no\u001b[39m\u001b[38;5;124m'\u001b[39m: \u001b[38;5;241m20\u001b[39m, \u001b[38;5;124m'\u001b[39m\u001b[38;5;124mRAMAN\u001b[39m\u001b[38;5;124m'\u001b[39m: \u001b[38;5;124m'\u001b[39m\u001b[38;5;124mpsi 50\u001b[39m\u001b[38;5;124m'\u001b[39m}]\u001b[38;5;241m.\u001b[39mvalues\n",
      "\u001b[0;31mNameError\u001b[0m: name 'traj' is not defined"
     ]
    }
   ],
   "source": [
    "traj._CVs['raman'].loc[{'frame_no': 20, 'RAMAN': 'psi 50'}].values"
   ]
  },
  {
   "cell_type": "markdown",
   "metadata": {
    "pycharm": {
     "name": "#%% md\n"
    }
   },
   "source": [
    "### Slicing with CVs.\n",
    "\n",
    "Slicing keeps your values where they should be."
   ]
  },
  {
   "cell_type": "code",
   "execution_count": 44,
   "metadata": {
    "execution": {
     "iopub.execute_input": "2023-02-01T15:58:51.219854Z",
     "iopub.status.busy": "2023-02-01T15:58:51.219536Z",
     "iopub.status.idle": "2023-02-01T15:58:51.235169Z",
     "shell.execute_reply": "2023-02-01T15:58:51.234697Z"
    }
   },
   "outputs": [
    {
     "ename": "NameError",
     "evalue": "name 'np' is not defined",
     "output_type": "error",
     "traceback": [
      "\u001b[0;31m---------------------------------------------------------------------------\u001b[0m",
      "\u001b[0;31mNameError\u001b[0m                                 Traceback (most recent call last)",
      "Cell \u001b[0;32mIn[44], line 1\u001b[0m\n\u001b[0;32m----> 1\u001b[0m index \u001b[38;5;241m=\u001b[39m \u001b[43mnp\u001b[49m\u001b[38;5;241m.\u001b[39mwhere(np\u001b[38;5;241m.\u001b[39marray(raman_labels) \u001b[38;5;241m==\u001b[39m \u001b[38;5;124m'\u001b[39m\u001b[38;5;124mpsi 50\u001b[39m\u001b[38;5;124m'\u001b[39m)\n\u001b[1;32m      2\u001b[0m \u001b[38;5;28mprint\u001b[39m(traj[\u001b[38;5;241m20\u001b[39m]\u001b[38;5;241m.\u001b[39mraman[index])\n\u001b[1;32m      3\u001b[0m \u001b[38;5;28mprint\u001b[39m(traj[[\u001b[38;5;241m0\u001b[39m, \u001b[38;5;241m5\u001b[39m, \u001b[38;5;241m10\u001b[39m, \u001b[38;5;241m20\u001b[39m]]\u001b[38;5;241m.\u001b[39mraman[:,index])\n",
      "\u001b[0;31mNameError\u001b[0m: name 'np' is not defined"
     ]
    }
   ],
   "source": [
    "index = np.where(np.array(raman_labels) == 'psi 50')\n",
    "print(traj[20].raman[index])\n",
    "print(traj[[0, 5, 10, 20]].raman[:,index])"
   ]
  },
  {
   "cell_type": "markdown",
   "metadata": {
    "pycharm": {
     "name": "#%% md\n"
    }
   },
   "source": [
    "### Loading from files\n",
    "\n",
    "CVs can be loaded by providing a string to files. First, let us save some files."
   ]
  },
  {
   "cell_type": "code",
   "execution_count": 45,
   "metadata": {
    "execution": {
     "iopub.execute_input": "2023-02-01T15:58:51.237755Z",
     "iopub.status.busy": "2023-02-01T15:58:51.237438Z",
     "iopub.status.idle": "2023-02-01T15:58:51.251077Z",
     "shell.execute_reply": "2023-02-01T15:58:51.250600Z"
    }
   },
   "outputs": [
    {
     "ename": "NameError",
     "evalue": "name 'np' is not defined",
     "output_type": "error",
     "traceback": [
      "\u001b[0;31m---------------------------------------------------------------------------\u001b[0m",
      "\u001b[0;31mNameError\u001b[0m                                 Traceback (most recent call last)",
      "Cell \u001b[0;32mIn[45], line 2\u001b[0m\n\u001b[1;32m      1\u001b[0m \u001b[38;5;66;03m# save numpy\u001b[39;00m\n\u001b[0;32m----> 2\u001b[0m \u001b[43mnp\u001b[49m\u001b[38;5;241m.\u001b[39msave(\u001b[38;5;124m'\u001b[39m\u001b[38;5;124mraman_file.npy\u001b[39m\u001b[38;5;124m'\u001b[39m, traj\u001b[38;5;241m.\u001b[39mraman)\n\u001b[1;32m      4\u001b[0m \u001b[38;5;66;03m# save text\u001b[39;00m\n\u001b[1;32m      5\u001b[0m np\u001b[38;5;241m.\u001b[39msavetxt(\u001b[38;5;124m'\u001b[39m\u001b[38;5;124mcluster_membership_file.txt\u001b[39m\u001b[38;5;124m'\u001b[39m, traj\u001b[38;5;241m.\u001b[39mcluster_membership)\n",
      "\u001b[0;31mNameError\u001b[0m: name 'np' is not defined"
     ]
    }
   ],
   "source": [
    "# save numpy\n",
    "np.save('raman_file.npy', traj.raman)\n",
    "\n",
    "# save text\n",
    "np.savetxt('cluster_membership_file.txt', traj.cluster_membership)\n",
    "\n",
    "# save full CV dataset as NetCDF\n",
    "traj._CVs.to_netcdf('full_CV_dataset.nc')"
   ]
  },
  {
   "cell_type": "markdown",
   "metadata": {
    "pycharm": {
     "name": "#%% md\n"
    }
   },
   "source": [
    "If not providing an `attr_name`, while loading files, the filename will be used:"
   ]
  },
  {
   "cell_type": "code",
   "execution_count": 46,
   "metadata": {
    "execution": {
     "iopub.execute_input": "2023-02-01T15:58:51.253601Z",
     "iopub.status.busy": "2023-02-01T15:58:51.253286Z",
     "iopub.status.idle": "2023-02-01T15:58:51.266056Z",
     "shell.execute_reply": "2023-02-01T15:58:51.265573Z"
    }
   },
   "outputs": [
    {
     "ename": "NameError",
     "evalue": "name 'traj' is not defined",
     "output_type": "error",
     "traceback": [
      "\u001b[0;31m---------------------------------------------------------------------------\u001b[0m",
      "\u001b[0;31mNameError\u001b[0m                                 Traceback (most recent call last)",
      "Cell \u001b[0;32mIn[46], line 1\u001b[0m\n\u001b[0;32m----> 1\u001b[0m \u001b[43mtraj\u001b[49m\u001b[38;5;241m.\u001b[39mload_CV(\u001b[38;5;124m'\u001b[39m\u001b[38;5;124mraman_file.npy\u001b[39m\u001b[38;5;124m'\u001b[39m)\n\u001b[1;32m      2\u001b[0m traj\u001b[38;5;241m.\u001b[39mload_CV(\u001b[38;5;124m'\u001b[39m\u001b[38;5;124mcluster_membership_file.txt\u001b[39m\u001b[38;5;124m'\u001b[39m)\n",
      "\u001b[0;31mNameError\u001b[0m: name 'traj' is not defined"
     ]
    }
   ],
   "source": [
    "traj.load_CV('raman_file.npy')\n",
    "traj.load_CV('cluster_membership_file.txt')"
   ]
  },
  {
   "cell_type": "code",
   "execution_count": 47,
   "metadata": {
    "execution": {
     "iopub.execute_input": "2023-02-01T15:58:51.268549Z",
     "iopub.status.busy": "2023-02-01T15:58:51.268234Z",
     "iopub.status.idle": "2023-02-01T15:58:51.281285Z",
     "shell.execute_reply": "2023-02-01T15:58:51.280659Z"
    }
   },
   "outputs": [
    {
     "ename": "NameError",
     "evalue": "name 'traj' is not defined",
     "output_type": "error",
     "traceback": [
      "\u001b[0;31m---------------------------------------------------------------------------\u001b[0m",
      "\u001b[0;31mNameError\u001b[0m                                 Traceback (most recent call last)",
      "Cell \u001b[0;32mIn[47], line 1\u001b[0m\n\u001b[0;32m----> 1\u001b[0m \u001b[38;5;28mprint\u001b[39m(\u001b[43mtraj\u001b[49m\u001b[38;5;241m.\u001b[39mCVs\u001b[38;5;241m.\u001b[39mkeys())\n",
      "\u001b[0;31mNameError\u001b[0m: name 'traj' is not defined"
     ]
    }
   ],
   "source": [
    "print(traj.CVs.keys())"
   ]
  },
  {
   "cell_type": "markdown",
   "metadata": {
    "pycharm": {
     "name": "#%% md\n"
    }
   },
   "source": [
    "Multiple CVs can be reconstructed from xarray NetCDF files (most end with .nc). If there are conflicts the new data from disk will overwrite the old."
   ]
  },
  {
   "cell_type": "code",
   "execution_count": 48,
   "metadata": {
    "execution": {
     "iopub.execute_input": "2023-02-01T15:58:51.283901Z",
     "iopub.status.busy": "2023-02-01T15:58:51.283569Z",
     "iopub.status.idle": "2023-02-01T15:58:51.298203Z",
     "shell.execute_reply": "2023-02-01T15:58:51.297605Z"
    }
   },
   "outputs": [
    {
     "ename": "NameError",
     "evalue": "name 'em' is not defined",
     "output_type": "error",
     "traceback": [
      "\u001b[0;31m---------------------------------------------------------------------------\u001b[0m",
      "\u001b[0;31mNameError\u001b[0m                                 Traceback (most recent call last)",
      "Cell \u001b[0;32mIn[48], line 1\u001b[0m\n\u001b[0;32m----> 1\u001b[0m traj \u001b[38;5;241m=\u001b[39m \u001b[43mem\u001b[49m\u001b[38;5;241m.\u001b[39mSingleTraj(\u001b[38;5;124m'\u001b[39m\u001b[38;5;124m1am7_corrected.xtc\u001b[39m\u001b[38;5;124m'\u001b[39m, \u001b[38;5;124m'\u001b[39m\u001b[38;5;124m1am7_protein.pdb\u001b[39m\u001b[38;5;124m'\u001b[39m)\n\u001b[1;32m      2\u001b[0m \u001b[38;5;28mprint\u001b[39m(traj\u001b[38;5;241m.\u001b[39mCVs\u001b[38;5;241m.\u001b[39mkeys())\n\u001b[1;32m      3\u001b[0m traj\u001b[38;5;241m.\u001b[39mload_CV(\u001b[38;5;124m'\u001b[39m\u001b[38;5;124mfull_CV_dataset.nc\u001b[39m\u001b[38;5;124m'\u001b[39m)\n",
      "\u001b[0;31mNameError\u001b[0m: name 'em' is not defined"
     ]
    }
   ],
   "source": [
    "traj = em.SingleTraj('1am7_corrected.xtc', '1am7_protein.pdb')\n",
    "print(traj.CVs.keys())\n",
    "traj.load_CV('full_CV_dataset.nc')\n",
    "print(traj.CVs.keys())"
   ]
  },
  {
   "cell_type": "markdown",
   "metadata": {
    "pycharm": {
     "name": "#%% md\n"
    }
   },
   "source": [
    "### Loading with PyEMMA featurizer\n",
    "\n",
    "We will now use PyEMMA's featurization pipeline (http://emma-project.org/latest/) to load CV data into our trajectory. For this encodermap has its own Version of PyEMMA's featurizer accessible with `em.Featurizer` which can simply be provided to the `SingleTraj` class."
   ]
  },
  {
   "cell_type": "code",
   "execution_count": 49,
   "metadata": {
    "execution": {
     "iopub.execute_input": "2023-02-01T15:58:51.301024Z",
     "iopub.status.busy": "2023-02-01T15:58:51.300521Z",
     "iopub.status.idle": "2023-02-01T15:58:51.330315Z",
     "shell.execute_reply": "2023-02-01T15:58:51.329663Z"
    }
   },
   "outputs": [
    {
     "ename": "ModuleNotFoundError",
     "evalue": "No module named 'encodermap.autoencoder'",
     "output_type": "error",
     "traceback": [
      "\u001b[0;31m---------------------------------------------------------------------------\u001b[0m",
      "\u001b[0;31mModuleNotFoundError\u001b[0m                       Traceback (most recent call last)",
      "Cell \u001b[0;32mIn[49], line 1\u001b[0m\n\u001b[0;32m----> 1\u001b[0m \u001b[38;5;28;01mimport\u001b[39;00m \u001b[38;5;21;01mencodermap\u001b[39;00m \u001b[38;5;28;01mas\u001b[39;00m \u001b[38;5;21;01mem\u001b[39;00m\n\u001b[1;32m      2\u001b[0m get_ipython()\u001b[38;5;241m.\u001b[39mrun_line_magic(\u001b[38;5;124m'\u001b[39m\u001b[38;5;124mload_ext\u001b[39m\u001b[38;5;124m'\u001b[39m, \u001b[38;5;124m'\u001b[39m\u001b[38;5;124mautoreload\u001b[39m\u001b[38;5;124m'\u001b[39m)\n\u001b[1;32m      3\u001b[0m get_ipython()\u001b[38;5;241m.\u001b[39mrun_line_magic(\u001b[38;5;124m'\u001b[39m\u001b[38;5;124mautoreload\u001b[39m\u001b[38;5;124m'\u001b[39m, \u001b[38;5;124m'\u001b[39m\u001b[38;5;124m2\u001b[39m\u001b[38;5;124m'\u001b[39m)\n",
      "File \u001b[0;32m/opt/hostedtoolcache/Python/3.9.16/x64/lib/python3.9/site-packages/encodermap/__init__.py:94\u001b[0m\n\u001b[1;32m     88\u001b[0m \u001b[38;5;66;03m################################################################################\u001b[39;00m\n\u001b[1;32m     89\u001b[0m \u001b[38;5;66;03m# Imports\u001b[39;00m\n\u001b[1;32m     90\u001b[0m \u001b[38;5;66;03m################################################################################\u001b[39;00m\n\u001b[1;32m     93\u001b[0m \u001b[38;5;28;01mfrom\u001b[39;00m \u001b[38;5;21;01m.\u001b[39;00m\u001b[38;5;21;01m_version\u001b[39;00m \u001b[38;5;28;01mimport\u001b[39;00m __version__\n\u001b[0;32m---> 94\u001b[0m \u001b[38;5;28;01mfrom\u001b[39;00m \u001b[38;5;21;01m.\u001b[39;00m\u001b[38;5;21;01mautoencoder\u001b[39;00m\u001b[38;5;21;01m.\u001b[39;00m\u001b[38;5;21;01mautoencoder\u001b[39;00m \u001b[38;5;28;01mimport\u001b[39;00m (\n\u001b[1;32m     95\u001b[0m     AngleDihedralCartesianEncoderMap,\n\u001b[1;32m     96\u001b[0m     Autoencoder,\n\u001b[1;32m     97\u001b[0m     EncoderMap,\n\u001b[1;32m     98\u001b[0m )\n\u001b[1;32m     99\u001b[0m \u001b[38;5;28;01mfrom\u001b[39;00m \u001b[38;5;21;01m.\u001b[39;00m\u001b[38;5;21;01mcallbacks\u001b[39;00m\u001b[38;5;21;01m.\u001b[39;00m\u001b[38;5;21;01mcallbacks\u001b[39;00m \u001b[38;5;28;01mimport\u001b[39;00m EncoderMapBaseCallback\n\u001b[1;32m    100\u001b[0m \u001b[38;5;28;01mfrom\u001b[39;00m \u001b[38;5;21;01m.\u001b[39;00m\u001b[38;5;21;01mloading\u001b[39;00m \u001b[38;5;28;01mimport\u001b[39;00m features\n",
      "\u001b[0;31mModuleNotFoundError\u001b[0m: No module named 'encodermap.autoencoder'"
     ]
    }
   ],
   "source": [
    "import encodermap as em\n",
    "%load_ext autoreload\n",
    "%autoreload 2\n",
    "traj = em.SingleTraj('1am7_corrected.xtc', '1am7_protein.pdb')\n",
    "\n",
    "# instantiate featurizer\n",
    "feat = em.Featurizer(traj)\n",
    "\n",
    "# add features\n",
    "feat.add_backbone_torsions()\n",
    "\n",
    "# load\n",
    "traj.load_CV(feat, attr_name='backbone_torsion')"
   ]
  },
  {
   "cell_type": "markdown",
   "metadata": {
    "pycharm": {
     "name": "#%% md\n"
    }
   },
   "source": [
    "Possible `add_*` features can be found via:"
   ]
  },
  {
   "cell_type": "code",
   "execution_count": 50,
   "metadata": {
    "execution": {
     "iopub.execute_input": "2023-02-01T15:58:51.333072Z",
     "iopub.status.busy": "2023-02-01T15:58:51.332724Z",
     "iopub.status.idle": "2023-02-01T15:58:51.348124Z",
     "shell.execute_reply": "2023-02-01T15:58:51.347512Z"
    }
   },
   "outputs": [
    {
     "ename": "NameError",
     "evalue": "name 'feat' is not defined",
     "output_type": "error",
     "traceback": [
      "\u001b[0;31m---------------------------------------------------------------------------\u001b[0m",
      "\u001b[0;31mNameError\u001b[0m                                 Traceback (most recent call last)",
      "Cell \u001b[0;32mIn[50], line 2\u001b[0m\n\u001b[1;32m      1\u001b[0m i \u001b[38;5;241m=\u001b[39m \u001b[38;5;241m0\u001b[39m\n\u001b[0;32m----> 2\u001b[0m \u001b[38;5;28;01mfor\u001b[39;00m attr \u001b[38;5;129;01min\u001b[39;00m \u001b[38;5;28mdir\u001b[39m(\u001b[43mfeat\u001b[49m):\n\u001b[1;32m      3\u001b[0m     \u001b[38;5;28;01mif\u001b[39;00m attr\u001b[38;5;241m.\u001b[39mstartswith(\u001b[38;5;124m'\u001b[39m\u001b[38;5;124madd_\u001b[39m\u001b[38;5;124m'\u001b[39m):\n\u001b[1;32m      4\u001b[0m         help(\u001b[38;5;28mgetattr\u001b[39m(feat, attr))\n",
      "\u001b[0;31mNameError\u001b[0m: name 'feat' is not defined"
     ]
    }
   ],
   "source": [
    "i = 0\n",
    "for attr in dir(feat):\n",
    "    if attr.startswith('add_'):\n",
    "        help(getattr(feat, attr))\n",
    "        i += 1\n",
    "    if i == 2:\n",
    "        break"
   ]
  },
  {
   "cell_type": "markdown",
   "metadata": {
    "pycharm": {
     "name": "#%% md\n"
    }
   },
   "source": [
    "The advantages of this method are:\n",
    "\n",
    "- The same can be done with the `TrajEnsemble` class (more on that later), which is also parallelized.\n",
    "- Most of the features contain comprehensive labels themselves.\n",
    "\n",
    "The labels can be accessed via the `.coordinates` attribute of the `SingleTraj`'s `xarray.Dataset`. They are similar to the `attr_names` but without underscores and all caps."
   ]
  },
  {
   "cell_type": "code",
   "execution_count": 51,
   "metadata": {
    "execution": {
     "iopub.execute_input": "2023-02-01T15:58:51.350931Z",
     "iopub.status.busy": "2023-02-01T15:58:51.350602Z",
     "iopub.status.idle": "2023-02-01T15:58:51.364957Z",
     "shell.execute_reply": "2023-02-01T15:58:51.364334Z"
    }
   },
   "outputs": [
    {
     "ename": "NameError",
     "evalue": "name 'traj' is not defined",
     "output_type": "error",
     "traceback": [
      "\u001b[0;31m---------------------------------------------------------------------------\u001b[0m",
      "\u001b[0;31mNameError\u001b[0m                                 Traceback (most recent call last)",
      "Cell \u001b[0;32mIn[51], line 1\u001b[0m\n\u001b[0;32m----> 1\u001b[0m \u001b[38;5;28mprint\u001b[39m(\u001b[43mtraj\u001b[49m\u001b[38;5;241m.\u001b[39m_CVs\u001b[38;5;241m.\u001b[39mcoords)\n",
      "\u001b[0;31mNameError\u001b[0m: name 'traj' is not defined"
     ]
    }
   ],
   "source": [
    "print(traj._CVs.coords)"
   ]
  },
  {
   "cell_type": "code",
   "execution_count": 52,
   "metadata": {
    "execution": {
     "iopub.execute_input": "2023-02-01T15:58:51.367529Z",
     "iopub.status.busy": "2023-02-01T15:58:51.367190Z",
     "iopub.status.idle": "2023-02-01T15:58:51.383265Z",
     "shell.execute_reply": "2023-02-01T15:58:51.382692Z"
    }
   },
   "outputs": [
    {
     "ename": "NameError",
     "evalue": "name 'traj' is not defined",
     "output_type": "error",
     "traceback": [
      "\u001b[0;31m---------------------------------------------------------------------------\u001b[0m",
      "\u001b[0;31mNameError\u001b[0m                                 Traceback (most recent call last)",
      "Cell \u001b[0;32mIn[52], line 1\u001b[0m\n\u001b[0;32m----> 1\u001b[0m \u001b[38;5;28mprint\u001b[39m(\u001b[43mtraj\u001b[49m\u001b[38;5;241m.\u001b[39m_CVs\u001b[38;5;241m.\u001b[39mcoords[\u001b[38;5;124m'\u001b[39m\u001b[38;5;124mBACKBONETORSIONFEATURE\u001b[39m\u001b[38;5;124m'\u001b[39m]\u001b[38;5;241m.\u001b[39mvalues[:\u001b[38;5;241m10\u001b[39m])\n",
      "\u001b[0;31mNameError\u001b[0m: name 'traj' is not defined"
     ]
    }
   ],
   "source": [
    "print(traj._CVs.coords['BACKBONETORSIONFEATURE'].values[:10])"
   ]
  },
  {
   "cell_type": "markdown",
   "metadata": {
    "pycharm": {
     "name": "#%% md\n"
    }
   },
   "source": [
    "Here, it can be seen, that there are some errors on PyEMMA's backbone_torsion feature. The sequence of backbone angles is scrambled."
   ]
  },
  {
   "cell_type": "markdown",
   "metadata": {
    "pycharm": {
     "name": "#%% md\n"
    }
   },
   "source": [
    "### Loading with Encodermap Features\n",
    "\n",
    "Encodermap features inherit from pyemma, but they are better formatted, regarding the labels. They can be loaded via `traj.load_CV('all')` to load all, or via a single string of list of these strings:"
   ]
  },
  {
   "cell_type": "code",
   "execution_count": 53,
   "metadata": {
    "execution": {
     "iopub.execute_input": "2023-02-01T15:58:51.386649Z",
     "iopub.status.busy": "2023-02-01T15:58:51.386191Z",
     "iopub.status.idle": "2023-02-01T15:58:51.412649Z",
     "shell.execute_reply": "2023-02-01T15:58:51.412122Z"
    }
   },
   "outputs": [
    {
     "ename": "ModuleNotFoundError",
     "evalue": "No module named 'encodermap.autoencoder'",
     "output_type": "error",
     "traceback": [
      "\u001b[0;31m---------------------------------------------------------------------------\u001b[0m",
      "\u001b[0;31mModuleNotFoundError\u001b[0m                       Traceback (most recent call last)",
      "Cell \u001b[0;32mIn[53], line 1\u001b[0m\n\u001b[0;32m----> 1\u001b[0m \u001b[38;5;28;01mfrom\u001b[39;00m \u001b[38;5;21;01mencodermap\u001b[39;00m\u001b[38;5;21;01m.\u001b[39;00m\u001b[38;5;21;01mmisc\u001b[39;00m\u001b[38;5;21;01m.\u001b[39;00m\u001b[38;5;21;01mmisc\u001b[39;00m \u001b[38;5;28;01mimport\u001b[39;00m FEATURE_NAMES\n\u001b[1;32m      2\u001b[0m \u001b[38;5;28mprint\u001b[39m(FEATURE_NAMES\u001b[38;5;241m.\u001b[39mvalues())\n",
      "File \u001b[0;32m/opt/hostedtoolcache/Python/3.9.16/x64/lib/python3.9/site-packages/encodermap/__init__.py:94\u001b[0m\n\u001b[1;32m     88\u001b[0m \u001b[38;5;66;03m################################################################################\u001b[39;00m\n\u001b[1;32m     89\u001b[0m \u001b[38;5;66;03m# Imports\u001b[39;00m\n\u001b[1;32m     90\u001b[0m \u001b[38;5;66;03m################################################################################\u001b[39;00m\n\u001b[1;32m     93\u001b[0m \u001b[38;5;28;01mfrom\u001b[39;00m \u001b[38;5;21;01m.\u001b[39;00m\u001b[38;5;21;01m_version\u001b[39;00m \u001b[38;5;28;01mimport\u001b[39;00m __version__\n\u001b[0;32m---> 94\u001b[0m \u001b[38;5;28;01mfrom\u001b[39;00m \u001b[38;5;21;01m.\u001b[39;00m\u001b[38;5;21;01mautoencoder\u001b[39;00m\u001b[38;5;21;01m.\u001b[39;00m\u001b[38;5;21;01mautoencoder\u001b[39;00m \u001b[38;5;28;01mimport\u001b[39;00m (\n\u001b[1;32m     95\u001b[0m     AngleDihedralCartesianEncoderMap,\n\u001b[1;32m     96\u001b[0m     Autoencoder,\n\u001b[1;32m     97\u001b[0m     EncoderMap,\n\u001b[1;32m     98\u001b[0m )\n\u001b[1;32m     99\u001b[0m \u001b[38;5;28;01mfrom\u001b[39;00m \u001b[38;5;21;01m.\u001b[39;00m\u001b[38;5;21;01mcallbacks\u001b[39;00m\u001b[38;5;21;01m.\u001b[39;00m\u001b[38;5;21;01mcallbacks\u001b[39;00m \u001b[38;5;28;01mimport\u001b[39;00m EncoderMapBaseCallback\n\u001b[1;32m    100\u001b[0m \u001b[38;5;28;01mfrom\u001b[39;00m \u001b[38;5;21;01m.\u001b[39;00m\u001b[38;5;21;01mloading\u001b[39;00m \u001b[38;5;28;01mimport\u001b[39;00m features\n",
      "\u001b[0;31mModuleNotFoundError\u001b[0m: No module named 'encodermap.autoencoder'"
     ]
    }
   ],
   "source": [
    "from encodermap.misc.misc import FEATURE_NAMES\n",
    "print(FEATURE_NAMES.values())"
   ]
  },
  {
   "cell_type": "code",
   "execution_count": 54,
   "metadata": {
    "execution": {
     "iopub.execute_input": "2023-02-01T15:58:51.415440Z",
     "iopub.status.busy": "2023-02-01T15:58:51.414840Z",
     "iopub.status.idle": "2023-02-01T15:58:51.428592Z",
     "shell.execute_reply": "2023-02-01T15:58:51.428100Z"
    }
   },
   "outputs": [
    {
     "ename": "NameError",
     "evalue": "name 'em' is not defined",
     "output_type": "error",
     "traceback": [
      "\u001b[0;31m---------------------------------------------------------------------------\u001b[0m",
      "\u001b[0;31mNameError\u001b[0m                                 Traceback (most recent call last)",
      "Cell \u001b[0;32mIn[54], line 1\u001b[0m\n\u001b[0;32m----> 1\u001b[0m traj \u001b[38;5;241m=\u001b[39m \u001b[43mem\u001b[49m\u001b[38;5;241m.\u001b[39mSingleTraj(\u001b[38;5;124m'\u001b[39m\u001b[38;5;124m1am7_corrected.xtc\u001b[39m\u001b[38;5;124m'\u001b[39m, \u001b[38;5;124m'\u001b[39m\u001b[38;5;124m1am7_protein.pdb\u001b[39m\u001b[38;5;124m'\u001b[39m)\n\u001b[1;32m      2\u001b[0m traj\u001b[38;5;241m.\u001b[39mload_CV([\u001b[38;5;124m'\u001b[39m\u001b[38;5;124mcentral_angles\u001b[39m\u001b[38;5;124m'\u001b[39m, \u001b[38;5;124m'\u001b[39m\u001b[38;5;124mcentral_dihedrals\u001b[39m\u001b[38;5;124m'\u001b[39m])\n",
      "\u001b[0;31mNameError\u001b[0m: name 'em' is not defined"
     ]
    }
   ],
   "source": [
    "traj = em.SingleTraj('1am7_corrected.xtc', '1am7_protein.pdb')\n",
    "traj.load_CV(['central_angles', 'central_dihedrals'])"
   ]
  },
  {
   "cell_type": "code",
   "execution_count": 55,
   "metadata": {
    "execution": {
     "iopub.execute_input": "2023-02-01T15:58:51.431244Z",
     "iopub.status.busy": "2023-02-01T15:58:51.430658Z",
     "iopub.status.idle": "2023-02-01T15:58:51.443958Z",
     "shell.execute_reply": "2023-02-01T15:58:51.443484Z"
    }
   },
   "outputs": [
    {
     "ename": "NameError",
     "evalue": "name 'traj' is not defined",
     "output_type": "error",
     "traceback": [
      "\u001b[0;31m---------------------------------------------------------------------------\u001b[0m",
      "\u001b[0;31mNameError\u001b[0m                                 Traceback (most recent call last)",
      "Cell \u001b[0;32mIn[55], line 1\u001b[0m\n\u001b[0;32m----> 1\u001b[0m \u001b[38;5;28mprint\u001b[39m(\u001b[43mtraj\u001b[49m\u001b[38;5;241m.\u001b[39m_CVs\u001b[38;5;241m.\u001b[39mcoords[\u001b[38;5;124m'\u001b[39m\u001b[38;5;124mCENTRAL_DIHEDRALS\u001b[39m\u001b[38;5;124m'\u001b[39m]\u001b[38;5;241m.\u001b[39mvalues)\n",
      "\u001b[0;31mNameError\u001b[0m: name 'traj' is not defined"
     ]
    }
   ],
   "source": [
    "print(traj._CVs.coords['CENTRAL_DIHEDRALS'].values)"
   ]
  },
  {
   "cell_type": "code",
   "execution_count": 56,
   "metadata": {
    "execution": {
     "iopub.execute_input": "2023-02-01T15:58:51.446936Z",
     "iopub.status.busy": "2023-02-01T15:58:51.446335Z",
     "iopub.status.idle": "2023-02-01T15:58:51.459669Z",
     "shell.execute_reply": "2023-02-01T15:58:51.459193Z"
    }
   },
   "outputs": [
    {
     "ename": "NameError",
     "evalue": "name 'traj' is not defined",
     "output_type": "error",
     "traceback": [
      "\u001b[0;31m---------------------------------------------------------------------------\u001b[0m",
      "\u001b[0;31mNameError\u001b[0m                                 Traceback (most recent call last)",
      "Cell \u001b[0;32mIn[56], line 1\u001b[0m\n\u001b[0;32m----> 1\u001b[0m \u001b[38;5;28mprint\u001b[39m(\u001b[43mtraj\u001b[49m\u001b[38;5;241m.\u001b[39m_CVs\u001b[38;5;241m.\u001b[39mcoords[\u001b[38;5;124m'\u001b[39m\u001b[38;5;124mCENTRAL_ANGLES\u001b[39m\u001b[38;5;124m'\u001b[39m]\u001b[38;5;241m.\u001b[39mvalues)\n",
      "\u001b[0;31mNameError\u001b[0m: name 'traj' is not defined"
     ]
    }
   ],
   "source": [
    "print(traj._CVs.coords['CENTRAL_ANGLES'].values)"
   ]
  },
  {
   "cell_type": "markdown",
   "metadata": {
    "pycharm": {
     "name": "#%% md\n"
    }
   },
   "source": [
    "### Wrtiting custom features No 1\n",
    "\n",
    "Writing your custom features can be done by subclassing pyemma's features. Required methods and attributes to make your feature work are:\n",
    "\n",
    "- The class-level attributes `__serialize_version` and `__serialize_fields`\n",
    "- The methods `__init__`, `describe`, and `transform`.\n",
    "- The instance attribute `dimension`, which defines the shape of the returned array.\n",
    "\n",
    "If you want to change the name of the feature, as it appears in the `xarray.Dataset` you can set the attribute `name`.\n",
    "\n",
    "In the next cell we will define a Feature that provides a random integer to an atom, based on its hash."
   ]
  },
  {
   "cell_type": "code",
   "execution_count": 57,
   "metadata": {
    "execution": {
     "iopub.execute_input": "2023-02-01T15:58:51.462651Z",
     "iopub.status.busy": "2023-02-01T15:58:51.462186Z",
     "iopub.status.idle": "2023-02-01T15:58:51.501190Z",
     "shell.execute_reply": "2023-02-01T15:58:51.500503Z"
    }
   },
   "outputs": [
    {
     "ename": "ModuleNotFoundError",
     "evalue": "No module named 'encodermap.autoencoder'",
     "output_type": "error",
     "traceback": [
      "\u001b[0;31m---------------------------------------------------------------------------\u001b[0m",
      "\u001b[0;31mModuleNotFoundError\u001b[0m                       Traceback (most recent call last)",
      "Cell \u001b[0;32mIn[57], line 1\u001b[0m\n\u001b[0;32m----> 1\u001b[0m \u001b[38;5;28;01mimport\u001b[39;00m \u001b[38;5;21;01mencodermap\u001b[39;00m \u001b[38;5;28;01mas\u001b[39;00m \u001b[38;5;21;01mem\u001b[39;00m\n\u001b[1;32m      2\u001b[0m \u001b[38;5;28;01mfrom\u001b[39;00m \u001b[38;5;21;01mencodermap\u001b[39;00m\u001b[38;5;21;01m.\u001b[39;00m\u001b[38;5;21;01mloading\u001b[39;00m\u001b[38;5;21;01m.\u001b[39;00m\u001b[38;5;21;01mfeatures\u001b[39;00m \u001b[38;5;28;01mimport\u001b[39;00m Feature\n\u001b[1;32m      3\u001b[0m \u001b[38;5;28;01mimport\u001b[39;00m \u001b[38;5;21;01mcopy\u001b[39;00m\n",
      "File \u001b[0;32m/opt/hostedtoolcache/Python/3.9.16/x64/lib/python3.9/site-packages/encodermap/__init__.py:94\u001b[0m\n\u001b[1;32m     88\u001b[0m \u001b[38;5;66;03m################################################################################\u001b[39;00m\n\u001b[1;32m     89\u001b[0m \u001b[38;5;66;03m# Imports\u001b[39;00m\n\u001b[1;32m     90\u001b[0m \u001b[38;5;66;03m################################################################################\u001b[39;00m\n\u001b[1;32m     93\u001b[0m \u001b[38;5;28;01mfrom\u001b[39;00m \u001b[38;5;21;01m.\u001b[39;00m\u001b[38;5;21;01m_version\u001b[39;00m \u001b[38;5;28;01mimport\u001b[39;00m __version__\n\u001b[0;32m---> 94\u001b[0m \u001b[38;5;28;01mfrom\u001b[39;00m \u001b[38;5;21;01m.\u001b[39;00m\u001b[38;5;21;01mautoencoder\u001b[39;00m\u001b[38;5;21;01m.\u001b[39;00m\u001b[38;5;21;01mautoencoder\u001b[39;00m \u001b[38;5;28;01mimport\u001b[39;00m (\n\u001b[1;32m     95\u001b[0m     AngleDihedralCartesianEncoderMap,\n\u001b[1;32m     96\u001b[0m     Autoencoder,\n\u001b[1;32m     97\u001b[0m     EncoderMap,\n\u001b[1;32m     98\u001b[0m )\n\u001b[1;32m     99\u001b[0m \u001b[38;5;28;01mfrom\u001b[39;00m \u001b[38;5;21;01m.\u001b[39;00m\u001b[38;5;21;01mcallbacks\u001b[39;00m\u001b[38;5;21;01m.\u001b[39;00m\u001b[38;5;21;01mcallbacks\u001b[39;00m \u001b[38;5;28;01mimport\u001b[39;00m EncoderMapBaseCallback\n\u001b[1;32m    100\u001b[0m \u001b[38;5;28;01mfrom\u001b[39;00m \u001b[38;5;21;01m.\u001b[39;00m\u001b[38;5;21;01mloading\u001b[39;00m \u001b[38;5;28;01mimport\u001b[39;00m features\n",
      "\u001b[0;31mModuleNotFoundError\u001b[0m: No module named 'encodermap.autoencoder'"
     ]
    }
   ],
   "source": [
    "import encodermap as em\n",
    "from encodermap.loading.features import Feature\n",
    "import copy\n",
    "\n",
    "class RandomIntForAtomFeature(Feature):\n",
    "    # class inherits from encodermap CustomFeature\n",
    "    # set required class-level variables\n",
    "    __serialize_version = 0\n",
    "    __serialize_fields = ('indexes', 'selstr', )\n",
    "    \n",
    "    # write an __init__\n",
    "    def __init__(self, top, selstr='all'):\n",
    "        \"\"\"Init of RandomIntoForAtomFeature.\n",
    "        \n",
    "        Args:\n",
    "            top (mdtraj.Topology): The topology to select atoms from.\n",
    "            \n",
    "        Keyword Args:\n",
    "            selstr (str, optional): The string to provide to top.select().\n",
    "            Defaults to 'all'.\n",
    "        \n",
    "        \"\"\"\n",
    "        # Copy top to save it from hypothetical changes\n",
    "        self.top = copy.deepcopy(top)\n",
    "        \n",
    "        # define indexes (this is one of the serializable fields,\n",
    "        # which could be used by pyemma to save a feature to disk.)\n",
    "        self.indexes = top.select(selstr)\n",
    "        \n",
    "        # set dimension\n",
    "        self.dimension = len(self.indexes)\n",
    "        \n",
    "        # inherit missing methods from base\n",
    "        super().__init__()\n",
    "        \n",
    "    def describe(self):\n",
    "        \"\"\"This method is not allowed to take any arguments.\n",
    "        \n",
    "        This method provides labels.\n",
    "        \n",
    "        Returns:\n",
    "            list: A lsit of str, each str describing one feature.\n",
    "            \n",
    "        \"\"\"\n",
    "        # In this method we will build a list of str\n",
    "        # Each str should describe one of our features\n",
    "        # We assign ints to atoms, so the labels should tell something about the atoms\n",
    "        getlbl = lambda at: f\"atom {at.name:>4}:{at.index:5} {at.residue.name}:{at.residue.resSeq:>4}\"\n",
    "        labels = []\n",
    "        for i in self.indexes:\n",
    "            i = self.top.atom(i)\n",
    "            labels.append(f\"Random int for {getlbl(i)}\")\n",
    "        return labels\n",
    "    \n",
    "    def transform(self, traj):\n",
    "        \"\"\"This method provides values.\n",
    "        \n",
    "        Args:\n",
    "            traj (mdtraj.Trajectory): An mdtraj.Trajectory.\n",
    "            \n",
    "        Returns:\n",
    "            np.ndarray: The values of the features defined in describe.\n",
    "        \n",
    "        \"\"\"\n",
    "        # Make sure that the returned array has correct shape\n",
    "        # In general it is a good idea, that this array has the same length as\n",
    "        # the trajectory has frames\n",
    "        # In general means, like, ..., always\n",
    "        values = traj.xyz[:,:,0].astype(int)\n",
    "        for i in self.indexes:\n",
    "            values[:,i] = int(str(hash(str(self.top.atom(i))))[-5:])\n",
    "        return values\n",
    "    \n",
    "    @property\n",
    "    def name(self):\n",
    "        # define the name of the feature to appear in `SingleTraj._CVs`\n",
    "        return 'MyAwesomeFeature'"
   ]
  },
  {
   "cell_type": "code",
   "execution_count": 58,
   "metadata": {
    "execution": {
     "iopub.execute_input": "2023-02-01T15:58:51.503903Z",
     "iopub.status.busy": "2023-02-01T15:58:51.503555Z",
     "iopub.status.idle": "2023-02-01T15:58:51.520209Z",
     "shell.execute_reply": "2023-02-01T15:58:51.519656Z"
    }
   },
   "outputs": [
    {
     "ename": "NameError",
     "evalue": "name 'em' is not defined",
     "output_type": "error",
     "traceback": [
      "\u001b[0;31m---------------------------------------------------------------------------\u001b[0m",
      "\u001b[0;31mNameError\u001b[0m                                 Traceback (most recent call last)",
      "Cell \u001b[0;32mIn[58], line 1\u001b[0m\n\u001b[0;32m----> 1\u001b[0m traj \u001b[38;5;241m=\u001b[39m \u001b[43mem\u001b[49m\u001b[38;5;241m.\u001b[39mSingleTraj(\u001b[38;5;124m'\u001b[39m\u001b[38;5;124m1am7_corrected.xtc\u001b[39m\u001b[38;5;124m'\u001b[39m, \u001b[38;5;124m'\u001b[39m\u001b[38;5;124m1am7_protein.pdb\u001b[39m\u001b[38;5;124m'\u001b[39m)\n\u001b[1;32m      2\u001b[0m \u001b[38;5;28mprint\u001b[39m(traj)\n\u001b[1;32m      3\u001b[0m featurizer \u001b[38;5;241m=\u001b[39m em\u001b[38;5;241m.\u001b[39mFeaturizer(traj)\n",
      "\u001b[0;31mNameError\u001b[0m: name 'em' is not defined"
     ]
    }
   ],
   "source": [
    "traj = em.SingleTraj('1am7_corrected.xtc', '1am7_protein.pdb')\n",
    "print(traj)\n",
    "featurizer = em.Featurizer(traj)\n",
    "feat = RandomIntForAtomFeature(traj.top)\n",
    "for i in feat.describe()[:200:25]:\n",
    "    print(i)"
   ]
  },
  {
   "cell_type": "code",
   "execution_count": 59,
   "metadata": {
    "execution": {
     "iopub.execute_input": "2023-02-01T15:58:51.523526Z",
     "iopub.status.busy": "2023-02-01T15:58:51.523031Z",
     "iopub.status.idle": "2023-02-01T15:58:51.536366Z",
     "shell.execute_reply": "2023-02-01T15:58:51.535766Z"
    }
   },
   "outputs": [
    {
     "ename": "NameError",
     "evalue": "name 'featurizer' is not defined",
     "output_type": "error",
     "traceback": [
      "\u001b[0;31m---------------------------------------------------------------------------\u001b[0m",
      "\u001b[0;31mNameError\u001b[0m                                 Traceback (most recent call last)",
      "Cell \u001b[0;32mIn[59], line 1\u001b[0m\n\u001b[0;32m----> 1\u001b[0m \u001b[43mfeaturizer\u001b[49m\u001b[38;5;241m.\u001b[39madd_custom_feature(feat)\n",
      "\u001b[0;31mNameError\u001b[0m: name 'featurizer' is not defined"
     ]
    }
   ],
   "source": [
    "featurizer.add_custom_feature(feat)"
   ]
  },
  {
   "cell_type": "code",
   "execution_count": 60,
   "metadata": {
    "execution": {
     "iopub.execute_input": "2023-02-01T15:58:51.538975Z",
     "iopub.status.busy": "2023-02-01T15:58:51.538654Z",
     "iopub.status.idle": "2023-02-01T15:58:51.553753Z",
     "shell.execute_reply": "2023-02-01T15:58:51.553208Z"
    }
   },
   "outputs": [
    {
     "ename": "NameError",
     "evalue": "name 'traj' is not defined",
     "output_type": "error",
     "traceback": [
      "\u001b[0;31m---------------------------------------------------------------------------\u001b[0m",
      "\u001b[0;31mNameError\u001b[0m                                 Traceback (most recent call last)",
      "Cell \u001b[0;32mIn[60], line 1\u001b[0m\n\u001b[0;32m----> 1\u001b[0m \u001b[43mtraj\u001b[49m\u001b[38;5;241m.\u001b[39mload_CV(featurizer)\n",
      "\u001b[0;31mNameError\u001b[0m: name 'traj' is not defined"
     ]
    }
   ],
   "source": [
    "traj.load_CV(featurizer)"
   ]
  },
  {
   "cell_type": "code",
   "execution_count": 61,
   "metadata": {
    "execution": {
     "iopub.execute_input": "2023-02-01T15:58:51.556769Z",
     "iopub.status.busy": "2023-02-01T15:58:51.556281Z",
     "iopub.status.idle": "2023-02-01T15:58:51.571738Z",
     "shell.execute_reply": "2023-02-01T15:58:51.571189Z"
    }
   },
   "outputs": [
    {
     "ename": "NameError",
     "evalue": "name 'traj' is not defined",
     "output_type": "error",
     "traceback": [
      "\u001b[0;31m---------------------------------------------------------------------------\u001b[0m",
      "\u001b[0;31mNameError\u001b[0m                                 Traceback (most recent call last)",
      "Cell \u001b[0;32mIn[61], line 1\u001b[0m\n\u001b[0;32m----> 1\u001b[0m \u001b[43mtraj\u001b[49m\u001b[38;5;241m.\u001b[39m_CVs\u001b[38;5;241m.\u001b[39mcoords[\u001b[38;5;124m'\u001b[39m\u001b[38;5;124mMYAWESOMEFEATURE\u001b[39m\u001b[38;5;124m'\u001b[39m]\u001b[38;5;241m.\u001b[39mvalues\n",
      "\u001b[0;31mNameError\u001b[0m: name 'traj' is not defined"
     ]
    }
   ],
   "source": [
    "traj._CVs.coords['MYAWESOMEFEATURE'].values"
   ]
  },
  {
   "cell_type": "markdown",
   "metadata": {
    "pycharm": {
     "name": "#%% md\n"
    }
   },
   "source": [
    "### Writing custom features No 2\n",
    "\n",
    "In this example we will implement a method of calculating a nematic order parameter. This example will be quite different (working with coarse-grained carbon-hydrate chains (so-called telechelics), and not with proteins), but we will work our way through. Here are some references you might consider:\n",
    "\n",
    "```\n",
    "@article{mukherjee2012derivation,\n",
    "  title={Derivation of coarse grained models for multiscale simulation of liquid crystalline phase transitions},\n",
    "  author={Mukherjee, Biswaroop and Delle Site, Luigi and Kremer, Kurt and Peter, Christine},\n",
    "  journal={The Journal of Physical Chemistry B},\n",
    "  volume={116},\n",
    "  number={29},\n",
    "  pages={8474--8484},\n",
    "  year={2012},\n",
    "  publisher={ACS Publications}\n",
    "}\n",
    "\n",
    "@article{flachmuller2021coarse,\n",
    "  title={Coarse grained simulation of the aggregation and structure control of polyethylene nanocrystals},\n",
    "  author={Flachm{\\\"u}ller, Alexander and Mecking, Stefan and Peter, Christine},\n",
    "  journal={Journal of Physics: Condensed Matter},\n",
    "  volume={33},\n",
    "  number={26},\n",
    "  pages={264001},\n",
    "  year={2021},\n",
    "  publisher={IOP Publishing}\n",
    "}\n",
    "```"
   ]
  },
  {
   "cell_type": "code",
   "execution_count": null,
   "metadata": {},
   "outputs": [],
   "source": []
  },
  {
   "cell_type": "markdown",
   "metadata": {
    "pycharm": {
     "name": "#%% md\n"
    }
   },
   "source": [
    "## Saving trajectory and CVs into one file\n",
    "\n",
    "A trajectory can (with its CVs) saved as one comprehensive file with the `save()` method. What's more: Loading such a file again makes it possible to access any frames and their corresponding CVs almost instantaneously."
   ]
  },
  {
   "cell_type": "code",
   "execution_count": 62,
   "metadata": {
    "execution": {
     "iopub.execute_input": "2023-02-01T15:58:51.574920Z",
     "iopub.status.busy": "2023-02-01T15:58:51.574383Z",
     "iopub.status.idle": "2023-02-01T15:58:51.590513Z",
     "shell.execute_reply": "2023-02-01T15:58:51.589934Z"
    }
   },
   "outputs": [
    {
     "ename": "NameError",
     "evalue": "name 'em' is not defined",
     "output_type": "error",
     "traceback": [
      "\u001b[0;31m---------------------------------------------------------------------------\u001b[0m",
      "\u001b[0;31mNameError\u001b[0m                                 Traceback (most recent call last)",
      "Cell \u001b[0;32mIn[62], line 1\u001b[0m\n\u001b[0;32m----> 1\u001b[0m traj \u001b[38;5;241m=\u001b[39m \u001b[43mem\u001b[49m\u001b[38;5;241m.\u001b[39mSingleTraj(\u001b[38;5;124m'\u001b[39m\u001b[38;5;124m1am7_corrected.xtc\u001b[39m\u001b[38;5;124m'\u001b[39m, \u001b[38;5;124m'\u001b[39m\u001b[38;5;124m1am7_protein.pdb\u001b[39m\u001b[38;5;124m'\u001b[39m)\n\u001b[1;32m      2\u001b[0m traj\u001b[38;5;241m.\u001b[39mload_CV(\u001b[38;5;124m'\u001b[39m\u001b[38;5;124mall\u001b[39m\u001b[38;5;124m'\u001b[39m)\n\u001b[1;32m      3\u001b[0m traj\u001b[38;5;241m.\u001b[39msave(\u001b[38;5;124m'\u001b[39m\u001b[38;5;124m1am7_all_CVs.h5\u001b[39m\u001b[38;5;124m'\u001b[39m)\n",
      "\u001b[0;31mNameError\u001b[0m: name 'em' is not defined"
     ]
    }
   ],
   "source": [
    "traj = em.SingleTraj('1am7_corrected.xtc', '1am7_protein.pdb')\n",
    "traj.load_CV('all')\n",
    "traj.save('1am7_all_CVs.h5')"
   ]
  },
  {
   "cell_type": "code",
   "execution_count": 63,
   "metadata": {
    "execution": {
     "iopub.execute_input": "2023-02-01T15:58:51.593537Z",
     "iopub.status.busy": "2023-02-01T15:58:51.593145Z",
     "iopub.status.idle": "2023-02-01T15:58:51.609335Z",
     "shell.execute_reply": "2023-02-01T15:58:51.608784Z"
    }
   },
   "outputs": [
    {
     "ename": "NameError",
     "evalue": "name 'em' is not defined",
     "output_type": "error",
     "traceback": [
      "\u001b[0;31m---------------------------------------------------------------------------\u001b[0m",
      "\u001b[0;31mNameError\u001b[0m                                 Traceback (most recent call last)",
      "Cell \u001b[0;32mIn[63], line 1\u001b[0m\n\u001b[0;32m----> 1\u001b[0m new_traj \u001b[38;5;241m=\u001b[39m \u001b[43mem\u001b[49m\u001b[38;5;241m.\u001b[39mSingleTraj(\u001b[38;5;124m'\u001b[39m\u001b[38;5;124m1am7_all_CVs.h5\u001b[39m\u001b[38;5;124m'\u001b[39m)\n\u001b[1;32m      2\u001b[0m frames \u001b[38;5;241m=\u001b[39m new_traj[[\u001b[38;5;241m0\u001b[39m, \u001b[38;5;241m5\u001b[39m, \u001b[38;5;241m20\u001b[39m, \u001b[38;5;241m35\u001b[39m]]\n\u001b[1;32m      3\u001b[0m frames\u001b[38;5;241m.\u001b[39mCentralCartesians\u001b[38;5;241m.\u001b[39mshape\n",
      "\u001b[0;31mNameError\u001b[0m: name 'em' is not defined"
     ]
    }
   ],
   "source": [
    "new_traj = em.SingleTraj('1am7_all_CVs.h5')\n",
    "frames = new_traj[[0, 5, 20, 35]]\n",
    "frames.CentralCartesians.shape"
   ]
  },
  {
   "cell_type": "code",
   "execution_count": 64,
   "metadata": {
    "execution": {
     "iopub.execute_input": "2023-02-01T15:58:51.612054Z",
     "iopub.status.busy": "2023-02-01T15:58:51.611832Z",
     "iopub.status.idle": "2023-02-01T15:58:51.627057Z",
     "shell.execute_reply": "2023-02-01T15:58:51.626492Z"
    }
   },
   "outputs": [
    {
     "ename": "NameError",
     "evalue": "name 'new_traj' is not defined",
     "output_type": "error",
     "traceback": [
      "\u001b[0;31m---------------------------------------------------------------------------\u001b[0m",
      "\u001b[0;31mNameError\u001b[0m                                 Traceback (most recent call last)",
      "Cell \u001b[0;32mIn[64], line 1\u001b[0m\n\u001b[0;32m----> 1\u001b[0m frames \u001b[38;5;241m=\u001b[39m \u001b[43mnew_traj\u001b[49m[::\u001b[38;5;241m5\u001b[39m]\n\u001b[1;32m      2\u001b[0m \u001b[38;5;28mprint\u001b[39m(frames\u001b[38;5;241m.\u001b[39mCentralBondDistances\u001b[38;5;241m.\u001b[39mshape)\n\u001b[1;32m      3\u001b[0m \u001b[38;5;28mprint\u001b[39m(frames\u001b[38;5;241m.\u001b[39m_CVs\u001b[38;5;241m.\u001b[39mcoords[\u001b[38;5;124m'\u001b[39m\u001b[38;5;124mCENTRALBONDDISTANCES\u001b[39m\u001b[38;5;124m'\u001b[39m]\u001b[38;5;241m.\u001b[39mvalues)\n",
      "\u001b[0;31mNameError\u001b[0m: name 'new_traj' is not defined"
     ]
    }
   ],
   "source": [
    "frames = new_traj[::5]\n",
    "print(frames.CentralBondDistances.shape)\n",
    "print(frames._CVs.coords['CENTRALBONDDISTANCES'].values)"
   ]
  },
  {
   "cell_type": "markdown",
   "metadata": {
    "pycharm": {
     "name": "#%% md\n"
    }
   },
   "source": [
    "However, CVs are deleted, when the number of atoms is altered."
   ]
  },
  {
   "cell_type": "code",
   "execution_count": 65,
   "metadata": {
    "execution": {
     "iopub.execute_input": "2023-02-01T15:58:51.629607Z",
     "iopub.status.busy": "2023-02-01T15:58:51.629279Z",
     "iopub.status.idle": "2023-02-01T15:58:51.645703Z",
     "shell.execute_reply": "2023-02-01T15:58:51.645135Z"
    }
   },
   "outputs": [
    {
     "ename": "NameError",
     "evalue": "name 'frames' is not defined",
     "output_type": "error",
     "traceback": [
      "\u001b[0;31m---------------------------------------------------------------------------\u001b[0m",
      "\u001b[0;31mNameError\u001b[0m                                 Traceback (most recent call last)",
      "Cell \u001b[0;32mIn[65], line 1\u001b[0m\n\u001b[0;32m----> 1\u001b[0m subset \u001b[38;5;241m=\u001b[39m \u001b[43mframes\u001b[49m\u001b[38;5;241m.\u001b[39matom_slice(frames\u001b[38;5;241m.\u001b[39mselect(\u001b[38;5;124m'\u001b[39m\u001b[38;5;124mname CA\u001b[39m\u001b[38;5;124m'\u001b[39m))\n",
      "\u001b[0;31mNameError\u001b[0m: name 'frames' is not defined"
     ]
    }
   ],
   "source": [
    "subset = frames.atom_slice(frames.select('name CA'))"
   ]
  },
  {
   "cell_type": "code",
   "execution_count": 66,
   "metadata": {
    "execution": {
     "iopub.execute_input": "2023-02-01T15:58:51.648802Z",
     "iopub.status.busy": "2023-02-01T15:58:51.648338Z",
     "iopub.status.idle": "2023-02-01T15:58:51.663305Z",
     "shell.execute_reply": "2023-02-01T15:58:51.662748Z"
    }
   },
   "outputs": [
    {
     "ename": "NameError",
     "evalue": "name 'subset' is not defined",
     "output_type": "error",
     "traceback": [
      "\u001b[0;31m---------------------------------------------------------------------------\u001b[0m",
      "\u001b[0;31mNameError\u001b[0m                                 Traceback (most recent call last)",
      "Cell \u001b[0;32mIn[66], line 1\u001b[0m\n\u001b[0;32m----> 1\u001b[0m \u001b[43msubset\u001b[49m\u001b[38;5;241m.\u001b[39mCVs\n",
      "\u001b[0;31mNameError\u001b[0m: name 'subset' is not defined"
     ]
    }
   ],
   "source": [
    "subset.CVs"
   ]
  },
  {
   "cell_type": "code",
   "execution_count": null,
   "metadata": {},
   "outputs": [],
   "source": []
  },
  {
   "cell_type": "code",
   "execution_count": 67,
   "metadata": {
    "execution": {
     "iopub.execute_input": "2023-02-01T15:58:51.666457Z",
     "iopub.status.busy": "2023-02-01T15:58:51.666003Z",
     "iopub.status.idle": "2023-02-01T15:58:51.682540Z",
     "shell.execute_reply": "2023-02-01T15:58:51.681955Z"
    }
   },
   "outputs": [
    {
     "ename": "NameError",
     "evalue": "name 'np' is not defined",
     "output_type": "error",
     "traceback": [
      "\u001b[0;31m---------------------------------------------------------------------------\u001b[0m",
      "\u001b[0;31mNameError\u001b[0m                                 Traceback (most recent call last)",
      "Cell \u001b[0;32mIn[67], line 1\u001b[0m\n\u001b[0;32m----> 1\u001b[0m index \u001b[38;5;241m=\u001b[39m \u001b[43mnp\u001b[49m\u001b[38;5;241m.\u001b[39mwhere(np\u001b[38;5;241m.\u001b[39marray(raman_labels) \u001b[38;5;241m==\u001b[39m \u001b[38;5;124m'\u001b[39m\u001b[38;5;124mpsi 50\u001b[39m\u001b[38;5;124m'\u001b[39m)\n\u001b[1;32m      2\u001b[0m \u001b[38;5;28mprint\u001b[39m(traj[\u001b[38;5;241m20\u001b[39m]\u001b[38;5;241m.\u001b[39mraman[index])\n\u001b[1;32m      3\u001b[0m \u001b[38;5;28mprint\u001b[39m(traj[[\u001b[38;5;241m0\u001b[39m, \u001b[38;5;241m5\u001b[39m, \u001b[38;5;241m10\u001b[39m, \u001b[38;5;241m20\u001b[39m]]\u001b[38;5;241m.\u001b[39mraman[:,index])\n",
      "\u001b[0;31mNameError\u001b[0m: name 'np' is not defined"
     ]
    }
   ],
   "source": [
    "index = np.where(np.array(raman_labels) == 'psi 50')\n",
    "print(traj[20].raman[index])\n",
    "print(traj[[0, 5, 10, 20]].raman[:,index])"
   ]
  },
  {
   "cell_type": "markdown",
   "metadata": {
    "pycharm": {
     "name": "#%% md\n"
    }
   },
   "source": [
    "### Loading from files\n",
    "\n",
    "CVs can be loaded by providing a string to files. First, let us save some files."
   ]
  },
  {
   "cell_type": "code",
   "execution_count": 68,
   "metadata": {
    "execution": {
     "iopub.execute_input": "2023-02-01T15:58:51.685635Z",
     "iopub.status.busy": "2023-02-01T15:58:51.685199Z",
     "iopub.status.idle": "2023-02-01T15:58:51.701174Z",
     "shell.execute_reply": "2023-02-01T15:58:51.700607Z"
    }
   },
   "outputs": [
    {
     "ename": "NameError",
     "evalue": "name 'np' is not defined",
     "output_type": "error",
     "traceback": [
      "\u001b[0;31m---------------------------------------------------------------------------\u001b[0m",
      "\u001b[0;31mNameError\u001b[0m                                 Traceback (most recent call last)",
      "Cell \u001b[0;32mIn[68], line 2\u001b[0m\n\u001b[1;32m      1\u001b[0m \u001b[38;5;66;03m# save numpy\u001b[39;00m\n\u001b[0;32m----> 2\u001b[0m \u001b[43mnp\u001b[49m\u001b[38;5;241m.\u001b[39msave(\u001b[38;5;124m'\u001b[39m\u001b[38;5;124mraman_file.npy\u001b[39m\u001b[38;5;124m'\u001b[39m, traj\u001b[38;5;241m.\u001b[39mraman)\n\u001b[1;32m      4\u001b[0m \u001b[38;5;66;03m# save text\u001b[39;00m\n\u001b[1;32m      5\u001b[0m np\u001b[38;5;241m.\u001b[39msavetxt(\u001b[38;5;124m'\u001b[39m\u001b[38;5;124mcluster_membership_file.txt\u001b[39m\u001b[38;5;124m'\u001b[39m, traj\u001b[38;5;241m.\u001b[39mcluster_membership)\n",
      "\u001b[0;31mNameError\u001b[0m: name 'np' is not defined"
     ]
    }
   ],
   "source": [
    "# save numpy\n",
    "np.save('raman_file.npy', traj.raman)\n",
    "\n",
    "# save text\n",
    "np.savetxt('cluster_membership_file.txt', traj.cluster_membership)\n",
    "\n",
    "# save full CV dataset as NetCDF\n",
    "traj._CVs.to_netcdf('full_CV_dataset.nc')"
   ]
  },
  {
   "cell_type": "markdown",
   "metadata": {
    "pycharm": {
     "name": "#%% md\n"
    }
   },
   "source": [
    "If not providing an `attr_name`, while loading files, the filename will be used:"
   ]
  },
  {
   "cell_type": "code",
   "execution_count": 69,
   "metadata": {
    "execution": {
     "iopub.execute_input": "2023-02-01T15:58:51.703704Z",
     "iopub.status.busy": "2023-02-01T15:58:51.703378Z",
     "iopub.status.idle": "2023-02-01T15:58:51.718489Z",
     "shell.execute_reply": "2023-02-01T15:58:51.717942Z"
    }
   },
   "outputs": [
    {
     "ename": "NameError",
     "evalue": "name 'traj' is not defined",
     "output_type": "error",
     "traceback": [
      "\u001b[0;31m---------------------------------------------------------------------------\u001b[0m",
      "\u001b[0;31mNameError\u001b[0m                                 Traceback (most recent call last)",
      "Cell \u001b[0;32mIn[69], line 1\u001b[0m\n\u001b[0;32m----> 1\u001b[0m \u001b[43mtraj\u001b[49m\u001b[38;5;241m.\u001b[39mload_CV(\u001b[38;5;124m'\u001b[39m\u001b[38;5;124mraman_file.npy\u001b[39m\u001b[38;5;124m'\u001b[39m)\n\u001b[1;32m      2\u001b[0m traj\u001b[38;5;241m.\u001b[39mload_CV(\u001b[38;5;124m'\u001b[39m\u001b[38;5;124mcluster_membership_file.txt\u001b[39m\u001b[38;5;124m'\u001b[39m)\n",
      "\u001b[0;31mNameError\u001b[0m: name 'traj' is not defined"
     ]
    }
   ],
   "source": [
    "traj.load_CV('raman_file.npy')\n",
    "traj.load_CV('cluster_membership_file.txt')"
   ]
  },
  {
   "cell_type": "code",
   "execution_count": 70,
   "metadata": {
    "execution": {
     "iopub.execute_input": "2023-02-01T15:58:51.721397Z",
     "iopub.status.busy": "2023-02-01T15:58:51.720834Z",
     "iopub.status.idle": "2023-02-01T15:58:51.734973Z",
     "shell.execute_reply": "2023-02-01T15:58:51.734407Z"
    }
   },
   "outputs": [
    {
     "ename": "NameError",
     "evalue": "name 'traj' is not defined",
     "output_type": "error",
     "traceback": [
      "\u001b[0;31m---------------------------------------------------------------------------\u001b[0m",
      "\u001b[0;31mNameError\u001b[0m                                 Traceback (most recent call last)",
      "Cell \u001b[0;32mIn[70], line 1\u001b[0m\n\u001b[0;32m----> 1\u001b[0m \u001b[38;5;28mprint\u001b[39m(\u001b[43mtraj\u001b[49m\u001b[38;5;241m.\u001b[39mCVs\u001b[38;5;241m.\u001b[39mkeys())\n",
      "\u001b[0;31mNameError\u001b[0m: name 'traj' is not defined"
     ]
    }
   ],
   "source": [
    "print(traj.CVs.keys())"
   ]
  },
  {
   "cell_type": "markdown",
   "metadata": {
    "pycharm": {
     "name": "#%% md\n"
    }
   },
   "source": [
    "Multiple CVs can be reconstructed from xarray NetCDF files (most end with .nc). If there are conflicts the new data from disk will overwrite the old."
   ]
  },
  {
   "cell_type": "code",
   "execution_count": 71,
   "metadata": {
    "execution": {
     "iopub.execute_input": "2023-02-01T15:58:51.737914Z",
     "iopub.status.busy": "2023-02-01T15:58:51.737385Z",
     "iopub.status.idle": "2023-02-01T15:58:51.753798Z",
     "shell.execute_reply": "2023-02-01T15:58:51.753196Z"
    }
   },
   "outputs": [
    {
     "ename": "NameError",
     "evalue": "name 'em' is not defined",
     "output_type": "error",
     "traceback": [
      "\u001b[0;31m---------------------------------------------------------------------------\u001b[0m",
      "\u001b[0;31mNameError\u001b[0m                                 Traceback (most recent call last)",
      "Cell \u001b[0;32mIn[71], line 1\u001b[0m\n\u001b[0;32m----> 1\u001b[0m traj \u001b[38;5;241m=\u001b[39m \u001b[43mem\u001b[49m\u001b[38;5;241m.\u001b[39mSingleTraj(\u001b[38;5;124m'\u001b[39m\u001b[38;5;124m1am7_corrected.xtc\u001b[39m\u001b[38;5;124m'\u001b[39m, \u001b[38;5;124m'\u001b[39m\u001b[38;5;124m1am7_protein.pdb\u001b[39m\u001b[38;5;124m'\u001b[39m)\n\u001b[1;32m      2\u001b[0m \u001b[38;5;28mprint\u001b[39m(traj\u001b[38;5;241m.\u001b[39mCVs\u001b[38;5;241m.\u001b[39mkeys())\n\u001b[1;32m      3\u001b[0m traj\u001b[38;5;241m.\u001b[39mload_CV(\u001b[38;5;124m'\u001b[39m\u001b[38;5;124mfull_CV_dataset.nc\u001b[39m\u001b[38;5;124m'\u001b[39m)\n",
      "\u001b[0;31mNameError\u001b[0m: name 'em' is not defined"
     ]
    }
   ],
   "source": [
    "traj = em.SingleTraj('1am7_corrected.xtc', '1am7_protein.pdb')\n",
    "print(traj.CVs.keys())\n",
    "traj.load_CV('full_CV_dataset.nc')\n",
    "print(traj.CVs.keys())"
   ]
  },
  {
   "cell_type": "markdown",
   "metadata": {
    "pycharm": {
     "name": "#%% md\n"
    }
   },
   "source": [
    "### Loading with PyEMMA featurizer\n",
    "\n",
    "We will now use PyEMMA's featurization pipeline (http://emma-project.org/latest/) to load CV data into our trajectory. For this encodermap has its own Version of PyEMMA's featurizer accessible with `em.Featurizer` which can simply be provided to the `SingleTraj` class."
   ]
  },
  {
   "cell_type": "code",
   "execution_count": 72,
   "metadata": {
    "execution": {
     "iopub.execute_input": "2023-02-01T15:58:51.756924Z",
     "iopub.status.busy": "2023-02-01T15:58:51.756453Z",
     "iopub.status.idle": "2023-02-01T15:58:51.787487Z",
     "shell.execute_reply": "2023-02-01T15:58:51.786920Z"
    }
   },
   "outputs": [
    {
     "ename": "ModuleNotFoundError",
     "evalue": "No module named 'encodermap.autoencoder'",
     "output_type": "error",
     "traceback": [
      "\u001b[0;31m---------------------------------------------------------------------------\u001b[0m",
      "\u001b[0;31mModuleNotFoundError\u001b[0m                       Traceback (most recent call last)",
      "Cell \u001b[0;32mIn[72], line 1\u001b[0m\n\u001b[0;32m----> 1\u001b[0m \u001b[38;5;28;01mimport\u001b[39;00m \u001b[38;5;21;01mencodermap\u001b[39;00m \u001b[38;5;28;01mas\u001b[39;00m \u001b[38;5;21;01mem\u001b[39;00m\n\u001b[1;32m      2\u001b[0m get_ipython()\u001b[38;5;241m.\u001b[39mrun_line_magic(\u001b[38;5;124m'\u001b[39m\u001b[38;5;124mload_ext\u001b[39m\u001b[38;5;124m'\u001b[39m, \u001b[38;5;124m'\u001b[39m\u001b[38;5;124mautoreload\u001b[39m\u001b[38;5;124m'\u001b[39m)\n\u001b[1;32m      3\u001b[0m get_ipython()\u001b[38;5;241m.\u001b[39mrun_line_magic(\u001b[38;5;124m'\u001b[39m\u001b[38;5;124mautoreload\u001b[39m\u001b[38;5;124m'\u001b[39m, \u001b[38;5;124m'\u001b[39m\u001b[38;5;124m2\u001b[39m\u001b[38;5;124m'\u001b[39m)\n",
      "File \u001b[0;32m/opt/hostedtoolcache/Python/3.9.16/x64/lib/python3.9/site-packages/encodermap/__init__.py:94\u001b[0m\n\u001b[1;32m     88\u001b[0m \u001b[38;5;66;03m################################################################################\u001b[39;00m\n\u001b[1;32m     89\u001b[0m \u001b[38;5;66;03m# Imports\u001b[39;00m\n\u001b[1;32m     90\u001b[0m \u001b[38;5;66;03m################################################################################\u001b[39;00m\n\u001b[1;32m     93\u001b[0m \u001b[38;5;28;01mfrom\u001b[39;00m \u001b[38;5;21;01m.\u001b[39;00m\u001b[38;5;21;01m_version\u001b[39;00m \u001b[38;5;28;01mimport\u001b[39;00m __version__\n\u001b[0;32m---> 94\u001b[0m \u001b[38;5;28;01mfrom\u001b[39;00m \u001b[38;5;21;01m.\u001b[39;00m\u001b[38;5;21;01mautoencoder\u001b[39;00m\u001b[38;5;21;01m.\u001b[39;00m\u001b[38;5;21;01mautoencoder\u001b[39;00m \u001b[38;5;28;01mimport\u001b[39;00m (\n\u001b[1;32m     95\u001b[0m     AngleDihedralCartesianEncoderMap,\n\u001b[1;32m     96\u001b[0m     Autoencoder,\n\u001b[1;32m     97\u001b[0m     EncoderMap,\n\u001b[1;32m     98\u001b[0m )\n\u001b[1;32m     99\u001b[0m \u001b[38;5;28;01mfrom\u001b[39;00m \u001b[38;5;21;01m.\u001b[39;00m\u001b[38;5;21;01mcallbacks\u001b[39;00m\u001b[38;5;21;01m.\u001b[39;00m\u001b[38;5;21;01mcallbacks\u001b[39;00m \u001b[38;5;28;01mimport\u001b[39;00m EncoderMapBaseCallback\n\u001b[1;32m    100\u001b[0m \u001b[38;5;28;01mfrom\u001b[39;00m \u001b[38;5;21;01m.\u001b[39;00m\u001b[38;5;21;01mloading\u001b[39;00m \u001b[38;5;28;01mimport\u001b[39;00m features\n",
      "\u001b[0;31mModuleNotFoundError\u001b[0m: No module named 'encodermap.autoencoder'"
     ]
    }
   ],
   "source": [
    "import encodermap as em\n",
    "%load_ext autoreload\n",
    "%autoreload 2\n",
    "traj = em.SingleTraj('1am7_corrected.xtc', '1am7_protein.pdb')\n",
    "\n",
    "# instantiate featurizer\n",
    "feat = em.Featurizer(traj)\n",
    "\n",
    "# add features\n",
    "feat.add_backbone_torsions()\n",
    "\n",
    "# load\n",
    "traj.load_CV(feat, attr_name='backbone_torsion')"
   ]
  },
  {
   "cell_type": "markdown",
   "metadata": {
    "pycharm": {
     "name": "#%% md\n"
    }
   },
   "source": [
    "Possible `add_*` features can be found via:"
   ]
  },
  {
   "cell_type": "code",
   "execution_count": 73,
   "metadata": {
    "execution": {
     "iopub.execute_input": "2023-02-01T15:58:51.790611Z",
     "iopub.status.busy": "2023-02-01T15:58:51.790071Z",
     "iopub.status.idle": "2023-02-01T15:58:51.808209Z",
     "shell.execute_reply": "2023-02-01T15:58:51.807648Z"
    }
   },
   "outputs": [
    {
     "ename": "NameError",
     "evalue": "name 'feat' is not defined",
     "output_type": "error",
     "traceback": [
      "\u001b[0;31m---------------------------------------------------------------------------\u001b[0m",
      "\u001b[0;31mNameError\u001b[0m                                 Traceback (most recent call last)",
      "Cell \u001b[0;32mIn[73], line 2\u001b[0m\n\u001b[1;32m      1\u001b[0m i \u001b[38;5;241m=\u001b[39m \u001b[38;5;241m0\u001b[39m\n\u001b[0;32m----> 2\u001b[0m \u001b[38;5;28;01mfor\u001b[39;00m attr \u001b[38;5;129;01min\u001b[39;00m \u001b[38;5;28mdir\u001b[39m(\u001b[43mfeat\u001b[49m):\n\u001b[1;32m      3\u001b[0m     \u001b[38;5;28;01mif\u001b[39;00m attr\u001b[38;5;241m.\u001b[39mstartswith(\u001b[38;5;124m'\u001b[39m\u001b[38;5;124madd_\u001b[39m\u001b[38;5;124m'\u001b[39m):\n\u001b[1;32m      4\u001b[0m         help(\u001b[38;5;28mgetattr\u001b[39m(feat, attr))\n",
      "\u001b[0;31mNameError\u001b[0m: name 'feat' is not defined"
     ]
    }
   ],
   "source": [
    "i = 0\n",
    "for attr in dir(feat):\n",
    "    if attr.startswith('add_'):\n",
    "        help(getattr(feat, attr))\n",
    "        i += 1\n",
    "    if i == 2:\n",
    "        break"
   ]
  },
  {
   "cell_type": "markdown",
   "metadata": {
    "pycharm": {
     "name": "#%% md\n"
    }
   },
   "source": [
    "The advantages of this method are:\n",
    "\n",
    "- The same can be done with the `TrajEnsemble` class (more on that later), which is also parallelized.\n",
    "- Most of the features contain comprehensive labels themselves.\n",
    "\n",
    "The labels can be accessed via the `.coordinates` attribute of the `SingleTraj`'s `xarray.Dataset`. They are similar to the `attr_names` but without underscores and all caps."
   ]
  },
  {
   "cell_type": "code",
   "execution_count": 74,
   "metadata": {
    "execution": {
     "iopub.execute_input": "2023-02-01T15:58:51.811393Z",
     "iopub.status.busy": "2023-02-01T15:58:51.810928Z",
     "iopub.status.idle": "2023-02-01T15:58:51.825779Z",
     "shell.execute_reply": "2023-02-01T15:58:51.825213Z"
    }
   },
   "outputs": [
    {
     "ename": "NameError",
     "evalue": "name 'traj' is not defined",
     "output_type": "error",
     "traceback": [
      "\u001b[0;31m---------------------------------------------------------------------------\u001b[0m",
      "\u001b[0;31mNameError\u001b[0m                                 Traceback (most recent call last)",
      "Cell \u001b[0;32mIn[74], line 1\u001b[0m\n\u001b[0;32m----> 1\u001b[0m \u001b[38;5;28mprint\u001b[39m(\u001b[43mtraj\u001b[49m\u001b[38;5;241m.\u001b[39m_CVs\u001b[38;5;241m.\u001b[39mcoords)\n",
      "\u001b[0;31mNameError\u001b[0m: name 'traj' is not defined"
     ]
    }
   ],
   "source": [
    "print(traj._CVs.coords)"
   ]
  },
  {
   "cell_type": "code",
   "execution_count": 75,
   "metadata": {
    "execution": {
     "iopub.execute_input": "2023-02-01T15:58:51.828692Z",
     "iopub.status.busy": "2023-02-01T15:58:51.828372Z",
     "iopub.status.idle": "2023-02-01T15:58:51.843078Z",
     "shell.execute_reply": "2023-02-01T15:58:51.842506Z"
    }
   },
   "outputs": [
    {
     "ename": "NameError",
     "evalue": "name 'traj' is not defined",
     "output_type": "error",
     "traceback": [
      "\u001b[0;31m---------------------------------------------------------------------------\u001b[0m",
      "\u001b[0;31mNameError\u001b[0m                                 Traceback (most recent call last)",
      "Cell \u001b[0;32mIn[75], line 1\u001b[0m\n\u001b[0;32m----> 1\u001b[0m \u001b[38;5;28mprint\u001b[39m(\u001b[43mtraj\u001b[49m\u001b[38;5;241m.\u001b[39m_CVs\u001b[38;5;241m.\u001b[39mcoords[\u001b[38;5;124m'\u001b[39m\u001b[38;5;124mBACKBONETORSIONFEATURE\u001b[39m\u001b[38;5;124m'\u001b[39m]\u001b[38;5;241m.\u001b[39mvalues[:\u001b[38;5;241m10\u001b[39m])\n",
      "\u001b[0;31mNameError\u001b[0m: name 'traj' is not defined"
     ]
    }
   ],
   "source": [
    "print(traj._CVs.coords['BACKBONETORSIONFEATURE'].values[:10])"
   ]
  },
  {
   "cell_type": "markdown",
   "metadata": {
    "pycharm": {
     "name": "#%% md\n"
    }
   },
   "source": [
    "Here, it can be seen, that there are some errors on PyEMMA's backbone_torsion feature. The sequence of backbone angles is scrambled."
   ]
  },
  {
   "cell_type": "markdown",
   "metadata": {
    "pycharm": {
     "name": "#%% md\n"
    }
   },
   "source": [
    "### Loading with Encodermap Features\n",
    "\n",
    "Encodermap features inherit from pyemma, but they are better formatted, regarding the labels. They can be loaded via `traj.load_CV('all')` to load all, or via a single string of list of these strings:"
   ]
  },
  {
   "cell_type": "code",
   "execution_count": 76,
   "metadata": {
    "execution": {
     "iopub.execute_input": "2023-02-01T15:58:51.845596Z",
     "iopub.status.busy": "2023-02-01T15:58:51.845374Z",
     "iopub.status.idle": "2023-02-01T15:58:51.871834Z",
     "shell.execute_reply": "2023-02-01T15:58:51.871183Z"
    }
   },
   "outputs": [
    {
     "ename": "ModuleNotFoundError",
     "evalue": "No module named 'encodermap.autoencoder'",
     "output_type": "error",
     "traceback": [
      "\u001b[0;31m---------------------------------------------------------------------------\u001b[0m",
      "\u001b[0;31mModuleNotFoundError\u001b[0m                       Traceback (most recent call last)",
      "Cell \u001b[0;32mIn[76], line 1\u001b[0m\n\u001b[0;32m----> 1\u001b[0m \u001b[38;5;28;01mfrom\u001b[39;00m \u001b[38;5;21;01mencodermap\u001b[39;00m\u001b[38;5;21;01m.\u001b[39;00m\u001b[38;5;21;01mmisc\u001b[39;00m\u001b[38;5;21;01m.\u001b[39;00m\u001b[38;5;21;01mmisc\u001b[39;00m \u001b[38;5;28;01mimport\u001b[39;00m FEATURE_NAMES\n\u001b[1;32m      2\u001b[0m \u001b[38;5;28mprint\u001b[39m(FEATURE_NAMES\u001b[38;5;241m.\u001b[39mvalues())\n",
      "File \u001b[0;32m/opt/hostedtoolcache/Python/3.9.16/x64/lib/python3.9/site-packages/encodermap/__init__.py:94\u001b[0m\n\u001b[1;32m     88\u001b[0m \u001b[38;5;66;03m################################################################################\u001b[39;00m\n\u001b[1;32m     89\u001b[0m \u001b[38;5;66;03m# Imports\u001b[39;00m\n\u001b[1;32m     90\u001b[0m \u001b[38;5;66;03m################################################################################\u001b[39;00m\n\u001b[1;32m     93\u001b[0m \u001b[38;5;28;01mfrom\u001b[39;00m \u001b[38;5;21;01m.\u001b[39;00m\u001b[38;5;21;01m_version\u001b[39;00m \u001b[38;5;28;01mimport\u001b[39;00m __version__\n\u001b[0;32m---> 94\u001b[0m \u001b[38;5;28;01mfrom\u001b[39;00m \u001b[38;5;21;01m.\u001b[39;00m\u001b[38;5;21;01mautoencoder\u001b[39;00m\u001b[38;5;21;01m.\u001b[39;00m\u001b[38;5;21;01mautoencoder\u001b[39;00m \u001b[38;5;28;01mimport\u001b[39;00m (\n\u001b[1;32m     95\u001b[0m     AngleDihedralCartesianEncoderMap,\n\u001b[1;32m     96\u001b[0m     Autoencoder,\n\u001b[1;32m     97\u001b[0m     EncoderMap,\n\u001b[1;32m     98\u001b[0m )\n\u001b[1;32m     99\u001b[0m \u001b[38;5;28;01mfrom\u001b[39;00m \u001b[38;5;21;01m.\u001b[39;00m\u001b[38;5;21;01mcallbacks\u001b[39;00m\u001b[38;5;21;01m.\u001b[39;00m\u001b[38;5;21;01mcallbacks\u001b[39;00m \u001b[38;5;28;01mimport\u001b[39;00m EncoderMapBaseCallback\n\u001b[1;32m    100\u001b[0m \u001b[38;5;28;01mfrom\u001b[39;00m \u001b[38;5;21;01m.\u001b[39;00m\u001b[38;5;21;01mloading\u001b[39;00m \u001b[38;5;28;01mimport\u001b[39;00m features\n",
      "\u001b[0;31mModuleNotFoundError\u001b[0m: No module named 'encodermap.autoencoder'"
     ]
    }
   ],
   "source": [
    "from encodermap.misc.misc import FEATURE_NAMES\n",
    "print(FEATURE_NAMES.values())"
   ]
  },
  {
   "cell_type": "code",
   "execution_count": 77,
   "metadata": {
    "execution": {
     "iopub.execute_input": "2023-02-01T15:58:51.874501Z",
     "iopub.status.busy": "2023-02-01T15:58:51.874168Z",
     "iopub.status.idle": "2023-02-01T15:58:51.890386Z",
     "shell.execute_reply": "2023-02-01T15:58:51.889414Z"
    }
   },
   "outputs": [
    {
     "ename": "NameError",
     "evalue": "name 'em' is not defined",
     "output_type": "error",
     "traceback": [
      "\u001b[0;31m---------------------------------------------------------------------------\u001b[0m",
      "\u001b[0;31mNameError\u001b[0m                                 Traceback (most recent call last)",
      "Cell \u001b[0;32mIn[77], line 1\u001b[0m\n\u001b[0;32m----> 1\u001b[0m traj \u001b[38;5;241m=\u001b[39m \u001b[43mem\u001b[49m\u001b[38;5;241m.\u001b[39mSingleTraj(\u001b[38;5;124m'\u001b[39m\u001b[38;5;124m1am7_corrected.xtc\u001b[39m\u001b[38;5;124m'\u001b[39m, \u001b[38;5;124m'\u001b[39m\u001b[38;5;124m1am7_protein.pdb\u001b[39m\u001b[38;5;124m'\u001b[39m)\n\u001b[1;32m      2\u001b[0m traj\u001b[38;5;241m.\u001b[39mload_CV([\u001b[38;5;124m'\u001b[39m\u001b[38;5;124mcentral_angles\u001b[39m\u001b[38;5;124m'\u001b[39m, \u001b[38;5;124m'\u001b[39m\u001b[38;5;124mcentral_dihedrals\u001b[39m\u001b[38;5;124m'\u001b[39m])\n",
      "\u001b[0;31mNameError\u001b[0m: name 'em' is not defined"
     ]
    }
   ],
   "source": [
    "traj = em.SingleTraj('1am7_corrected.xtc', '1am7_protein.pdb')\n",
    "traj.load_CV(['central_angles', 'central_dihedrals'])"
   ]
  },
  {
   "cell_type": "code",
   "execution_count": 78,
   "metadata": {
    "execution": {
     "iopub.execute_input": "2023-02-01T15:58:51.893046Z",
     "iopub.status.busy": "2023-02-01T15:58:51.892834Z",
     "iopub.status.idle": "2023-02-01T15:58:51.907463Z",
     "shell.execute_reply": "2023-02-01T15:58:51.906903Z"
    }
   },
   "outputs": [
    {
     "ename": "NameError",
     "evalue": "name 'traj' is not defined",
     "output_type": "error",
     "traceback": [
      "\u001b[0;31m---------------------------------------------------------------------------\u001b[0m",
      "\u001b[0;31mNameError\u001b[0m                                 Traceback (most recent call last)",
      "Cell \u001b[0;32mIn[78], line 1\u001b[0m\n\u001b[0;32m----> 1\u001b[0m \u001b[38;5;28mprint\u001b[39m(\u001b[43mtraj\u001b[49m\u001b[38;5;241m.\u001b[39m_CVs\u001b[38;5;241m.\u001b[39mcoords[\u001b[38;5;124m'\u001b[39m\u001b[38;5;124mCENTRAL_DIHEDRALS\u001b[39m\u001b[38;5;124m'\u001b[39m]\u001b[38;5;241m.\u001b[39mvalues)\n",
      "\u001b[0;31mNameError\u001b[0m: name 'traj' is not defined"
     ]
    }
   ],
   "source": [
    "print(traj._CVs.coords['CENTRAL_DIHEDRALS'].values)"
   ]
  },
  {
   "cell_type": "code",
   "execution_count": 79,
   "metadata": {
    "execution": {
     "iopub.execute_input": "2023-02-01T15:58:51.910125Z",
     "iopub.status.busy": "2023-02-01T15:58:51.909784Z",
     "iopub.status.idle": "2023-02-01T15:58:51.923402Z",
     "shell.execute_reply": "2023-02-01T15:58:51.922794Z"
    }
   },
   "outputs": [
    {
     "ename": "NameError",
     "evalue": "name 'traj' is not defined",
     "output_type": "error",
     "traceback": [
      "\u001b[0;31m---------------------------------------------------------------------------\u001b[0m",
      "\u001b[0;31mNameError\u001b[0m                                 Traceback (most recent call last)",
      "Cell \u001b[0;32mIn[79], line 1\u001b[0m\n\u001b[0;32m----> 1\u001b[0m \u001b[38;5;28mprint\u001b[39m(\u001b[43mtraj\u001b[49m\u001b[38;5;241m.\u001b[39m_CVs\u001b[38;5;241m.\u001b[39mcoords[\u001b[38;5;124m'\u001b[39m\u001b[38;5;124mCENTRAL_ANGLES\u001b[39m\u001b[38;5;124m'\u001b[39m]\u001b[38;5;241m.\u001b[39mvalues)\n",
      "\u001b[0;31mNameError\u001b[0m: name 'traj' is not defined"
     ]
    }
   ],
   "source": [
    "print(traj._CVs.coords['CENTRAL_ANGLES'].values)"
   ]
  },
  {
   "cell_type": "markdown",
   "metadata": {
    "pycharm": {
     "name": "#%% md\n"
    }
   },
   "source": [
    "### Wrtiting custom features No 1\n",
    "\n",
    "Writing your custom features can be done by subclassing pyemma's features. Required methods and attributes to make your feature work are:\n",
    "\n",
    "- The class-level attributes `__serialize_version` and `__serialize_fields`\n",
    "- The methods `__init__`, `describe`, and `transform`.\n",
    "- The instance attribute `dimension`, which defines the shape of the returned array.\n",
    "\n",
    "If you want to change the name of the feature, as it appears in the `xarray.Dataset` you can set the attribute `name`.\n",
    "\n",
    "In the next cell we will define a Feature that provides a random integer to an atom, based on its hash."
   ]
  },
  {
   "cell_type": "code",
   "execution_count": 80,
   "metadata": {
    "execution": {
     "iopub.execute_input": "2023-02-01T15:58:51.926738Z",
     "iopub.status.busy": "2023-02-01T15:58:51.926340Z",
     "iopub.status.idle": "2023-02-01T15:58:51.963721Z",
     "shell.execute_reply": "2023-02-01T15:58:51.963109Z"
    }
   },
   "outputs": [
    {
     "ename": "ModuleNotFoundError",
     "evalue": "No module named 'encodermap.autoencoder'",
     "output_type": "error",
     "traceback": [
      "\u001b[0;31m---------------------------------------------------------------------------\u001b[0m",
      "\u001b[0;31mModuleNotFoundError\u001b[0m                       Traceback (most recent call last)",
      "Cell \u001b[0;32mIn[80], line 1\u001b[0m\n\u001b[0;32m----> 1\u001b[0m \u001b[38;5;28;01mimport\u001b[39;00m \u001b[38;5;21;01mencodermap\u001b[39;00m \u001b[38;5;28;01mas\u001b[39;00m \u001b[38;5;21;01mem\u001b[39;00m\n\u001b[1;32m      2\u001b[0m \u001b[38;5;28;01mfrom\u001b[39;00m \u001b[38;5;21;01mencodermap\u001b[39;00m\u001b[38;5;21;01m.\u001b[39;00m\u001b[38;5;21;01mloading\u001b[39;00m\u001b[38;5;21;01m.\u001b[39;00m\u001b[38;5;21;01mfeatures\u001b[39;00m \u001b[38;5;28;01mimport\u001b[39;00m Feature\n\u001b[1;32m      3\u001b[0m \u001b[38;5;28;01mimport\u001b[39;00m \u001b[38;5;21;01mcopy\u001b[39;00m\n",
      "File \u001b[0;32m/opt/hostedtoolcache/Python/3.9.16/x64/lib/python3.9/site-packages/encodermap/__init__.py:94\u001b[0m\n\u001b[1;32m     88\u001b[0m \u001b[38;5;66;03m################################################################################\u001b[39;00m\n\u001b[1;32m     89\u001b[0m \u001b[38;5;66;03m# Imports\u001b[39;00m\n\u001b[1;32m     90\u001b[0m \u001b[38;5;66;03m################################################################################\u001b[39;00m\n\u001b[1;32m     93\u001b[0m \u001b[38;5;28;01mfrom\u001b[39;00m \u001b[38;5;21;01m.\u001b[39;00m\u001b[38;5;21;01m_version\u001b[39;00m \u001b[38;5;28;01mimport\u001b[39;00m __version__\n\u001b[0;32m---> 94\u001b[0m \u001b[38;5;28;01mfrom\u001b[39;00m \u001b[38;5;21;01m.\u001b[39;00m\u001b[38;5;21;01mautoencoder\u001b[39;00m\u001b[38;5;21;01m.\u001b[39;00m\u001b[38;5;21;01mautoencoder\u001b[39;00m \u001b[38;5;28;01mimport\u001b[39;00m (\n\u001b[1;32m     95\u001b[0m     AngleDihedralCartesianEncoderMap,\n\u001b[1;32m     96\u001b[0m     Autoencoder,\n\u001b[1;32m     97\u001b[0m     EncoderMap,\n\u001b[1;32m     98\u001b[0m )\n\u001b[1;32m     99\u001b[0m \u001b[38;5;28;01mfrom\u001b[39;00m \u001b[38;5;21;01m.\u001b[39;00m\u001b[38;5;21;01mcallbacks\u001b[39;00m\u001b[38;5;21;01m.\u001b[39;00m\u001b[38;5;21;01mcallbacks\u001b[39;00m \u001b[38;5;28;01mimport\u001b[39;00m EncoderMapBaseCallback\n\u001b[1;32m    100\u001b[0m \u001b[38;5;28;01mfrom\u001b[39;00m \u001b[38;5;21;01m.\u001b[39;00m\u001b[38;5;21;01mloading\u001b[39;00m \u001b[38;5;28;01mimport\u001b[39;00m features\n",
      "\u001b[0;31mModuleNotFoundError\u001b[0m: No module named 'encodermap.autoencoder'"
     ]
    }
   ],
   "source": [
    "import encodermap as em\n",
    "from encodermap.loading.features import Feature\n",
    "import copy\n",
    "\n",
    "class RandomIntForAtomFeature(Feature):\n",
    "    # class inherits from encodermap CustomFeature\n",
    "    # set required class-level variables\n",
    "    __serialize_version = 0\n",
    "    __serialize_fields = ('indexes', 'selstr', )\n",
    "    \n",
    "    # write an __init__\n",
    "    def __init__(self, top, selstr='all'):\n",
    "        \"\"\"Init of RandomIntoForAtomFeature.\n",
    "        \n",
    "        Args:\n",
    "            top (mdtraj.Topology): The topology to select atoms from.\n",
    "            \n",
    "        Keyword Args:\n",
    "            selstr (str, optional): The string to provide to top.select().\n",
    "            Defaults to 'all'.\n",
    "        \n",
    "        \"\"\"\n",
    "        # Copy top to save it from hypothetical changes\n",
    "        self.top = copy.deepcopy(top)\n",
    "        \n",
    "        # define indexes (this is one of the serializable fields,\n",
    "        # which could be used by pyemma to save a feature to disk.)\n",
    "        self.indexes = top.select(selstr)\n",
    "        \n",
    "        # set dimension\n",
    "        self.dimension = len(self.indexes)\n",
    "        \n",
    "        # inherit missing methods from base\n",
    "        super().__init__()\n",
    "        \n",
    "    def describe(self):\n",
    "        \"\"\"This method is not allowed to take any arguments.\n",
    "        \n",
    "        This method provides labels.\n",
    "        \n",
    "        Returns:\n",
    "            list: A lsit of str, each str describing one feature.\n",
    "            \n",
    "        \"\"\"\n",
    "        # In this method we will build a list of str\n",
    "        # Each str should describe one of our features\n",
    "        # We assign ints to atoms, so the labels should tell something about the atoms\n",
    "        getlbl = lambda at: f\"atom {at.name:>4}:{at.index:5} {at.residue.name}:{at.residue.resSeq:>4}\"\n",
    "        labels = []\n",
    "        for i in self.indexes:\n",
    "            i = self.top.atom(i)\n",
    "            labels.append(f\"Random int for {getlbl(i)}\")\n",
    "        return labels\n",
    "    \n",
    "    def transform(self, traj):\n",
    "        \"\"\"This method provides values.\n",
    "        \n",
    "        Args:\n",
    "            traj (mdtraj.Trajectory): An mdtraj.Trajectory.\n",
    "            \n",
    "        Returns:\n",
    "            np.ndarray: The values of the features defined in describe.\n",
    "        \n",
    "        \"\"\"\n",
    "        # Make sure that the returned array has correct shape\n",
    "        # In general it is a good idea, that this array has the same length as\n",
    "        # the trajectory has frames\n",
    "        # In general means, like, ..., always\n",
    "        values = traj.xyz[:,:,0].astype(int)\n",
    "        for i in self.indexes:\n",
    "            values[:,i] = int(str(hash(str(self.top.atom(i))))[-5:])\n",
    "        return values\n",
    "    \n",
    "    @property\n",
    "    def name(self):\n",
    "        # define the name of the feature to appear in `SingleTraj._CVs`\n",
    "        return 'MyAwesomeFeature'"
   ]
  },
  {
   "cell_type": "code",
   "execution_count": 81,
   "metadata": {
    "execution": {
     "iopub.execute_input": "2023-02-01T15:58:51.966830Z",
     "iopub.status.busy": "2023-02-01T15:58:51.966307Z",
     "iopub.status.idle": "2023-02-01T15:58:51.982908Z",
     "shell.execute_reply": "2023-02-01T15:58:51.982326Z"
    }
   },
   "outputs": [
    {
     "ename": "NameError",
     "evalue": "name 'em' is not defined",
     "output_type": "error",
     "traceback": [
      "\u001b[0;31m---------------------------------------------------------------------------\u001b[0m",
      "\u001b[0;31mNameError\u001b[0m                                 Traceback (most recent call last)",
      "Cell \u001b[0;32mIn[81], line 1\u001b[0m\n\u001b[0;32m----> 1\u001b[0m traj \u001b[38;5;241m=\u001b[39m \u001b[43mem\u001b[49m\u001b[38;5;241m.\u001b[39mSingleTraj(\u001b[38;5;124m'\u001b[39m\u001b[38;5;124m1am7_corrected.xtc\u001b[39m\u001b[38;5;124m'\u001b[39m, \u001b[38;5;124m'\u001b[39m\u001b[38;5;124m1am7_protein.pdb\u001b[39m\u001b[38;5;124m'\u001b[39m)\n\u001b[1;32m      2\u001b[0m \u001b[38;5;28mprint\u001b[39m(traj)\n\u001b[1;32m      3\u001b[0m featurizer \u001b[38;5;241m=\u001b[39m em\u001b[38;5;241m.\u001b[39mFeaturizer(traj)\n",
      "\u001b[0;31mNameError\u001b[0m: name 'em' is not defined"
     ]
    }
   ],
   "source": [
    "traj = em.SingleTraj('1am7_corrected.xtc', '1am7_protein.pdb')\n",
    "print(traj)\n",
    "featurizer = em.Featurizer(traj)\n",
    "feat = RandomIntForAtomFeature(traj.top)\n",
    "for i in feat.describe()[:200:25]:\n",
    "    print(i)"
   ]
  },
  {
   "cell_type": "code",
   "execution_count": 82,
   "metadata": {
    "execution": {
     "iopub.execute_input": "2023-02-01T15:58:51.985984Z",
     "iopub.status.busy": "2023-02-01T15:58:51.985658Z",
     "iopub.status.idle": "2023-02-01T15:58:52.000851Z",
     "shell.execute_reply": "2023-02-01T15:58:52.000289Z"
    }
   },
   "outputs": [
    {
     "ename": "NameError",
     "evalue": "name 'featurizer' is not defined",
     "output_type": "error",
     "traceback": [
      "\u001b[0;31m---------------------------------------------------------------------------\u001b[0m",
      "\u001b[0;31mNameError\u001b[0m                                 Traceback (most recent call last)",
      "Cell \u001b[0;32mIn[82], line 1\u001b[0m\n\u001b[0;32m----> 1\u001b[0m \u001b[43mfeaturizer\u001b[49m\u001b[38;5;241m.\u001b[39madd_custom_feature(feat)\n",
      "\u001b[0;31mNameError\u001b[0m: name 'featurizer' is not defined"
     ]
    }
   ],
   "source": [
    "featurizer.add_custom_feature(feat)"
   ]
  },
  {
   "cell_type": "code",
   "execution_count": 83,
   "metadata": {
    "execution": {
     "iopub.execute_input": "2023-02-01T15:58:52.004042Z",
     "iopub.status.busy": "2023-02-01T15:58:52.003600Z",
     "iopub.status.idle": "2023-02-01T15:58:52.018637Z",
     "shell.execute_reply": "2023-02-01T15:58:52.018079Z"
    }
   },
   "outputs": [
    {
     "ename": "NameError",
     "evalue": "name 'traj' is not defined",
     "output_type": "error",
     "traceback": [
      "\u001b[0;31m---------------------------------------------------------------------------\u001b[0m",
      "\u001b[0;31mNameError\u001b[0m                                 Traceback (most recent call last)",
      "Cell \u001b[0;32mIn[83], line 1\u001b[0m\n\u001b[0;32m----> 1\u001b[0m \u001b[43mtraj\u001b[49m\u001b[38;5;241m.\u001b[39mload_CV(featurizer)\n",
      "\u001b[0;31mNameError\u001b[0m: name 'traj' is not defined"
     ]
    }
   ],
   "source": [
    "traj.load_CV(featurizer)"
   ]
  },
  {
   "cell_type": "code",
   "execution_count": 84,
   "metadata": {
    "execution": {
     "iopub.execute_input": "2023-02-01T15:58:52.021689Z",
     "iopub.status.busy": "2023-02-01T15:58:52.021179Z",
     "iopub.status.idle": "2023-02-01T15:58:52.036308Z",
     "shell.execute_reply": "2023-02-01T15:58:52.035738Z"
    }
   },
   "outputs": [
    {
     "ename": "NameError",
     "evalue": "name 'traj' is not defined",
     "output_type": "error",
     "traceback": [
      "\u001b[0;31m---------------------------------------------------------------------------\u001b[0m",
      "\u001b[0;31mNameError\u001b[0m                                 Traceback (most recent call last)",
      "Cell \u001b[0;32mIn[84], line 1\u001b[0m\n\u001b[0;32m----> 1\u001b[0m \u001b[43mtraj\u001b[49m\u001b[38;5;241m.\u001b[39m_CVs\u001b[38;5;241m.\u001b[39mcoords[\u001b[38;5;124m'\u001b[39m\u001b[38;5;124mMYAWESOMEFEATURE\u001b[39m\u001b[38;5;124m'\u001b[39m]\u001b[38;5;241m.\u001b[39mvalues\n",
      "\u001b[0;31mNameError\u001b[0m: name 'traj' is not defined"
     ]
    }
   ],
   "source": [
    "traj._CVs.coords['MYAWESOMEFEATURE'].values"
   ]
  },
  {
   "cell_type": "markdown",
   "metadata": {
    "pycharm": {
     "name": "#%% md\n"
    }
   },
   "source": [
    "### Writing custom features No 2\n",
    "\n",
    "In this example we will implement a method of calculating a nematic order parameter. This example will be quite different (working with coarse-grained carbon-hydrate chains (so-called telechelics), and not with proteins), but we will work our way through. Here are some references you might consider:\n",
    "\n",
    "```\n",
    "@article{mukherjee2012derivation,\n",
    "  title={Derivation of coarse grained models for multiscale simulation of liquid crystalline phase transitions},\n",
    "  author={Mukherjee, Biswaroop and Delle Site, Luigi and Kremer, Kurt and Peter, Christine},\n",
    "  journal={The Journal of Physical Chemistry B},\n",
    "  volume={116},\n",
    "  number={29},\n",
    "  pages={8474--8484},\n",
    "  year={2012},\n",
    "  publisher={ACS Publications}\n",
    "}\n",
    "\n",
    "@article{flachmuller2021coarse,\n",
    "  title={Coarse grained simulation of the aggregation and structure control of polyethylene nanocrystals},\n",
    "  author={Flachm{\\\"u}ller, Alexander and Mecking, Stefan and Peter, Christine},\n",
    "  journal={Journal of Physics: Condensed Matter},\n",
    "  volume={33},\n",
    "  number={26},\n",
    "  pages={264001},\n",
    "  year={2021},\n",
    "  publisher={IOP Publishing}\n",
    "}\n",
    "```"
   ]
  },
  {
   "cell_type": "code",
   "execution_count": null,
   "metadata": {},
   "outputs": [],
   "source": []
  },
  {
   "cell_type": "markdown",
   "metadata": {
    "pycharm": {
     "name": "#%% md\n"
    }
   },
   "source": [
    "## Saving trajectory and CVs into one file\n",
    "\n",
    "A trajectory can (with its CVs) saved as one comprehensive file with the `save()` method. What's more: Loading such a file again makes it possible to access any frames and their corresponding CVs almost instantaneously."
   ]
  },
  {
   "cell_type": "code",
   "execution_count": 85,
   "metadata": {
    "execution": {
     "iopub.execute_input": "2023-02-01T15:58:52.039470Z",
     "iopub.status.busy": "2023-02-01T15:58:52.039025Z",
     "iopub.status.idle": "2023-02-01T15:58:52.054322Z",
     "shell.execute_reply": "2023-02-01T15:58:52.053762Z"
    }
   },
   "outputs": [
    {
     "ename": "NameError",
     "evalue": "name 'em' is not defined",
     "output_type": "error",
     "traceback": [
      "\u001b[0;31m---------------------------------------------------------------------------\u001b[0m",
      "\u001b[0;31mNameError\u001b[0m                                 Traceback (most recent call last)",
      "Cell \u001b[0;32mIn[85], line 1\u001b[0m\n\u001b[0;32m----> 1\u001b[0m traj \u001b[38;5;241m=\u001b[39m \u001b[43mem\u001b[49m\u001b[38;5;241m.\u001b[39mSingleTraj(\u001b[38;5;124m'\u001b[39m\u001b[38;5;124m1am7_corrected.xtc\u001b[39m\u001b[38;5;124m'\u001b[39m, \u001b[38;5;124m'\u001b[39m\u001b[38;5;124m1am7_protein.pdb\u001b[39m\u001b[38;5;124m'\u001b[39m)\n\u001b[1;32m      2\u001b[0m traj\u001b[38;5;241m.\u001b[39mload_CV(\u001b[38;5;124m'\u001b[39m\u001b[38;5;124mall\u001b[39m\u001b[38;5;124m'\u001b[39m)\n\u001b[1;32m      3\u001b[0m traj\u001b[38;5;241m.\u001b[39msave(\u001b[38;5;124m'\u001b[39m\u001b[38;5;124m1am7_all_CVs.h5\u001b[39m\u001b[38;5;124m'\u001b[39m)\n",
      "\u001b[0;31mNameError\u001b[0m: name 'em' is not defined"
     ]
    }
   ],
   "source": [
    "traj = em.SingleTraj('1am7_corrected.xtc', '1am7_protein.pdb')\n",
    "traj.load_CV('all')\n",
    "traj.save('1am7_all_CVs.h5')"
   ]
  },
  {
   "cell_type": "code",
   "execution_count": 86,
   "metadata": {
    "execution": {
     "iopub.execute_input": "2023-02-01T15:58:52.057488Z",
     "iopub.status.busy": "2023-02-01T15:58:52.057054Z",
     "iopub.status.idle": "2023-02-01T15:58:52.072694Z",
     "shell.execute_reply": "2023-02-01T15:58:52.072127Z"
    }
   },
   "outputs": [
    {
     "ename": "NameError",
     "evalue": "name 'em' is not defined",
     "output_type": "error",
     "traceback": [
      "\u001b[0;31m---------------------------------------------------------------------------\u001b[0m",
      "\u001b[0;31mNameError\u001b[0m                                 Traceback (most recent call last)",
      "Cell \u001b[0;32mIn[86], line 1\u001b[0m\n\u001b[0;32m----> 1\u001b[0m new_traj \u001b[38;5;241m=\u001b[39m \u001b[43mem\u001b[49m\u001b[38;5;241m.\u001b[39mSingleTraj(\u001b[38;5;124m'\u001b[39m\u001b[38;5;124m1am7_all_CVs.h5\u001b[39m\u001b[38;5;124m'\u001b[39m)\n\u001b[1;32m      2\u001b[0m frames \u001b[38;5;241m=\u001b[39m new_traj[[\u001b[38;5;241m0\u001b[39m, \u001b[38;5;241m5\u001b[39m, \u001b[38;5;241m20\u001b[39m, \u001b[38;5;241m35\u001b[39m]]\n\u001b[1;32m      3\u001b[0m frames\u001b[38;5;241m.\u001b[39mCentralCartesians\u001b[38;5;241m.\u001b[39mshape\n",
      "\u001b[0;31mNameError\u001b[0m: name 'em' is not defined"
     ]
    }
   ],
   "source": [
    "new_traj = em.SingleTraj('1am7_all_CVs.h5')\n",
    "frames = new_traj[[0, 5, 20, 35]]\n",
    "frames.CentralCartesians.shape"
   ]
  },
  {
   "cell_type": "code",
   "execution_count": 87,
   "metadata": {
    "execution": {
     "iopub.execute_input": "2023-02-01T15:58:52.075754Z",
     "iopub.status.busy": "2023-02-01T15:58:52.075311Z",
     "iopub.status.idle": "2023-02-01T15:58:52.091000Z",
     "shell.execute_reply": "2023-02-01T15:58:52.090424Z"
    }
   },
   "outputs": [
    {
     "ename": "NameError",
     "evalue": "name 'new_traj' is not defined",
     "output_type": "error",
     "traceback": [
      "\u001b[0;31m---------------------------------------------------------------------------\u001b[0m",
      "\u001b[0;31mNameError\u001b[0m                                 Traceback (most recent call last)",
      "Cell \u001b[0;32mIn[87], line 1\u001b[0m\n\u001b[0;32m----> 1\u001b[0m frames \u001b[38;5;241m=\u001b[39m \u001b[43mnew_traj\u001b[49m[::\u001b[38;5;241m5\u001b[39m]\n\u001b[1;32m      2\u001b[0m \u001b[38;5;28mprint\u001b[39m(frames\u001b[38;5;241m.\u001b[39mCentralBondDistances\u001b[38;5;241m.\u001b[39mshape)\n\u001b[1;32m      3\u001b[0m \u001b[38;5;28mprint\u001b[39m(frames\u001b[38;5;241m.\u001b[39m_CVs\u001b[38;5;241m.\u001b[39mcoords[\u001b[38;5;124m'\u001b[39m\u001b[38;5;124mCENTRALBONDDISTANCES\u001b[39m\u001b[38;5;124m'\u001b[39m]\u001b[38;5;241m.\u001b[39mvalues)\n",
      "\u001b[0;31mNameError\u001b[0m: name 'new_traj' is not defined"
     ]
    }
   ],
   "source": [
    "frames = new_traj[::5]\n",
    "print(frames.CentralBondDistances.shape)\n",
    "print(frames._CVs.coords['CENTRALBONDDISTANCES'].values)"
   ]
  },
  {
   "cell_type": "markdown",
   "metadata": {
    "pycharm": {
     "name": "#%% md\n"
    }
   },
   "source": [
    "However, CVs are deleted, when the number of atoms is altered."
   ]
  },
  {
   "cell_type": "code",
   "execution_count": 88,
   "metadata": {
    "execution": {
     "iopub.execute_input": "2023-02-01T15:58:52.094044Z",
     "iopub.status.busy": "2023-02-01T15:58:52.093519Z",
     "iopub.status.idle": "2023-02-01T15:58:52.109051Z",
     "shell.execute_reply": "2023-02-01T15:58:52.108482Z"
    }
   },
   "outputs": [
    {
     "ename": "NameError",
     "evalue": "name 'frames' is not defined",
     "output_type": "error",
     "traceback": [
      "\u001b[0;31m---------------------------------------------------------------------------\u001b[0m",
      "\u001b[0;31mNameError\u001b[0m                                 Traceback (most recent call last)",
      "Cell \u001b[0;32mIn[88], line 1\u001b[0m\n\u001b[0;32m----> 1\u001b[0m subset \u001b[38;5;241m=\u001b[39m \u001b[43mframes\u001b[49m\u001b[38;5;241m.\u001b[39matom_slice(frames\u001b[38;5;241m.\u001b[39mselect(\u001b[38;5;124m'\u001b[39m\u001b[38;5;124mname CA\u001b[39m\u001b[38;5;124m'\u001b[39m))\n",
      "\u001b[0;31mNameError\u001b[0m: name 'frames' is not defined"
     ]
    }
   ],
   "source": [
    "subset = frames.atom_slice(frames.select('name CA'))"
   ]
  },
  {
   "cell_type": "code",
   "execution_count": 89,
   "metadata": {
    "execution": {
     "iopub.execute_input": "2023-02-01T15:58:52.112088Z",
     "iopub.status.busy": "2023-02-01T15:58:52.111645Z",
     "iopub.status.idle": "2023-02-01T15:58:52.127749Z",
     "shell.execute_reply": "2023-02-01T15:58:52.127179Z"
    }
   },
   "outputs": [
    {
     "ename": "NameError",
     "evalue": "name 'subset' is not defined",
     "output_type": "error",
     "traceback": [
      "\u001b[0;31m---------------------------------------------------------------------------\u001b[0m",
      "\u001b[0;31mNameError\u001b[0m                                 Traceback (most recent call last)",
      "Cell \u001b[0;32mIn[89], line 1\u001b[0m\n\u001b[0;32m----> 1\u001b[0m \u001b[43msubset\u001b[49m\u001b[38;5;241m.\u001b[39mCVs\n",
      "\u001b[0;31mNameError\u001b[0m: name 'subset' is not defined"
     ]
    }
   ],
   "source": [
    "subset.CVs"
   ]
  },
  {
   "cell_type": "code",
   "execution_count": null,
   "metadata": {},
   "outputs": [],
   "source": []
  }
 ],
 "metadata": {
  "language_info": {
   "codemirror_mode": {
    "name": "ipython",
    "version": 3
   },
   "file_extension": ".py",
   "mimetype": "text/x-python",
   "name": "python",
   "nbconvert_exporter": "python",
   "pygments_lexer": "ipython3",
   "version": "3.9.16"
  }
 },
 "nbformat": 4,
 "nbformat_minor": 2
}
