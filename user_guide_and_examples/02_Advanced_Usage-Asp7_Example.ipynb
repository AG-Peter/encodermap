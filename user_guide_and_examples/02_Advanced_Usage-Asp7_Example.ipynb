{
 "cells": [
  {
   "cell_type": "markdown",
   "metadata": {},
   "source": [
    "# Asp7 Example - Advanced Usage\n",
    "\n",
    "Run this notebook on Google Colab:\n",
    "\n",
    "[![Open in Colab](https://colab.research.google.com/assets/colab-badge.svg)](https://colab.research.google.com/github/AG-Peter/encodermap/blob/main/tutorials/notebooks_starter/02_Advanced_Usage-Asp7_Example.ipynb)\n",
    "\n",
    "Find the documentation of EncoderMap:\n",
    "\n",
    "https://ag-peter.github.io/encodermap\n",
    "\n",
    "## For Google colab users: Install EncoderMap"
   ]
  },
  {
   "cell_type": "code",
   "execution_count": 1,
   "metadata": {
    "execution": {
     "iopub.execute_input": "2023-02-01T07:26:36.674914Z",
     "iopub.status.busy": "2023-02-01T07:26:36.674482Z",
     "iopub.status.idle": "2023-02-01T07:26:36.678271Z",
     "shell.execute_reply": "2023-02-01T07:26:36.677398Z"
    },
    "pycharm": {
     "name": "#%%\n"
    }
   },
   "outputs": [],
   "source": [
    "# !pip install \"git+https://github.com/AG-Peter/encodermap.git@main\"\n",
    "# !pip install -r https://raw.githubusercontent.com/AG-Peter/encodermap/main/tests/test_requirements.md"
   ]
  },
  {
   "cell_type": "markdown",
   "metadata": {
    "collapsed": false,
    "pycharm": {
     "name": "#%% md\n"
    }
   },
   "source": [
    "In this tutorial we will use example data from a molecular dynamics simulation and learn more about advanced usage of EncoderMap. Encoder map can create low-dimensional maps of the vast conformational spaces of molecules. This allows easy identification of the most common molecular conformations and helps to understand the relations between these conformations. In this example, we will use data from a simulation of a simple peptide: hepta-aspartic-acid.\n",
    "\n",
    "First we need to import some libraries:"
   ]
  },
  {
   "cell_type": "code",
   "execution_count": 2,
   "metadata": {
    "ExecuteTime": {
     "end_time": "2022-06-01T08:17:54.859346Z",
     "start_time": "2022-06-01T08:17:48.770801Z"
    },
    "execution": {
     "iopub.execute_input": "2023-02-01T07:26:36.681266Z",
     "iopub.status.busy": "2023-02-01T07:26:36.680847Z",
     "iopub.status.idle": "2023-02-01T07:26:36.901600Z",
     "shell.execute_reply": "2023-02-01T07:26:36.900803Z"
    }
   },
   "outputs": [
    {
     "ename": "ModuleNotFoundError",
     "evalue": "No module named 'encodermap.autoencoder'",
     "output_type": "error",
     "traceback": [
      "\u001b[0;31m---------------------------------------------------------------------------\u001b[0m",
      "\u001b[0;31mModuleNotFoundError\u001b[0m                       Traceback (most recent call last)",
      "Cell \u001b[0;32mIn[2], line 1\u001b[0m\n\u001b[0;32m----> 1\u001b[0m \u001b[38;5;28;01mimport\u001b[39;00m \u001b[38;5;21;01mencodermap\u001b[39;00m \u001b[38;5;28;01mas\u001b[39;00m \u001b[38;5;21;01mem\u001b[39;00m\n\u001b[1;32m      2\u001b[0m \u001b[38;5;28;01mimport\u001b[39;00m \u001b[38;5;21;01mmatplotlib\u001b[39;00m \u001b[38;5;28;01mas\u001b[39;00m \u001b[38;5;21;01mmpl\u001b[39;00m\n\u001b[1;32m      3\u001b[0m \u001b[38;5;28;01mimport\u001b[39;00m \u001b[38;5;21;01mmatplotlib\u001b[39;00m\u001b[38;5;21;01m.\u001b[39;00m\u001b[38;5;21;01mpyplot\u001b[39;00m \u001b[38;5;28;01mas\u001b[39;00m \u001b[38;5;21;01mplt\u001b[39;00m\n",
      "File \u001b[0;32m/opt/hostedtoolcache/Python/3.9.16/x64/lib/python3.9/site-packages/encodermap/__init__.py:94\u001b[0m\n\u001b[1;32m     88\u001b[0m \u001b[38;5;66;03m################################################################################\u001b[39;00m\n\u001b[1;32m     89\u001b[0m \u001b[38;5;66;03m# Imports\u001b[39;00m\n\u001b[1;32m     90\u001b[0m \u001b[38;5;66;03m################################################################################\u001b[39;00m\n\u001b[1;32m     93\u001b[0m \u001b[38;5;28;01mfrom\u001b[39;00m \u001b[38;5;21;01mencodermap\u001b[39;00m\u001b[38;5;21;01m.\u001b[39;00m\u001b[38;5;21;01m_version\u001b[39;00m \u001b[38;5;28;01mimport\u001b[39;00m __version__\n\u001b[0;32m---> 94\u001b[0m \u001b[38;5;28;01mfrom\u001b[39;00m \u001b[38;5;21;01mencodermap\u001b[39;00m\u001b[38;5;21;01m.\u001b[39;00m\u001b[38;5;21;01mautoencoder\u001b[39;00m\u001b[38;5;21;01m.\u001b[39;00m\u001b[38;5;21;01mautoencoder\u001b[39;00m \u001b[38;5;28;01mimport\u001b[39;00m (\n\u001b[1;32m     95\u001b[0m     AngleDihedralCartesianEncoderMap,\n\u001b[1;32m     96\u001b[0m     Autoencoder,\n\u001b[1;32m     97\u001b[0m     EncoderMap,\n\u001b[1;32m     98\u001b[0m )\n\u001b[1;32m     99\u001b[0m \u001b[38;5;28;01mfrom\u001b[39;00m \u001b[38;5;21;01mencodermap\u001b[39;00m\u001b[38;5;21;01m.\u001b[39;00m\u001b[38;5;21;01mcallbacks\u001b[39;00m\u001b[38;5;21;01m.\u001b[39;00m\u001b[38;5;21;01mcallbacks\u001b[39;00m \u001b[38;5;28;01mimport\u001b[39;00m EncoderMapBaseCallback\n\u001b[1;32m    100\u001b[0m \u001b[38;5;28;01mfrom\u001b[39;00m \u001b[38;5;21;01mencodermap\u001b[39;00m\u001b[38;5;21;01m.\u001b[39;00m\u001b[38;5;21;01mloading\u001b[39;00m \u001b[38;5;28;01mimport\u001b[39;00m features\n",
      "\u001b[0;31mModuleNotFoundError\u001b[0m: No module named 'encodermap.autoencoder'"
     ]
    }
   ],
   "source": [
    "import encodermap as em\n",
    "import matplotlib as mpl\n",
    "import matplotlib.pyplot as plt\n",
    "import numpy as np\n",
    "from math import pi\n",
    "%config Completer.use_jedi=False\n",
    "%load_ext autoreload\n",
    "%autoreload 2"
   ]
  },
  {
   "cell_type": "markdown",
   "metadata": {
    "collapsed": false,
    "pycharm": {
     "name": "#%% md\n"
    }
   },
   "source": [
    "Fix the random state of tensorflow for reproducibility."
   ]
  },
  {
   "cell_type": "code",
   "execution_count": 3,
   "metadata": {
    "execution": {
     "iopub.execute_input": "2023-02-01T07:26:36.905459Z",
     "iopub.status.busy": "2023-02-01T07:26:36.905003Z",
     "iopub.status.idle": "2023-02-01T07:26:38.686517Z",
     "shell.execute_reply": "2023-02-01T07:26:38.685720Z"
    },
    "pycharm": {
     "name": "#%%\n"
    }
   },
   "outputs": [
    {
     "name": "stderr",
     "output_type": "stream",
     "text": [
      "2023-02-01 07:26:36.908623: I tensorflow/core/platform/cpu_feature_guard.cc:193] This TensorFlow binary is optimized with oneAPI Deep Neural Network Library (oneDNN) to use the following CPU instructions in performance-critical operations:  AVX2 AVX512F FMA\n",
      "To enable them in other operations, rebuild TensorFlow with the appropriate compiler flags.\n",
      "2023-02-01 07:26:37.030904: W tensorflow/compiler/xla/stream_executor/platform/default/dso_loader.cc:64] Could not load dynamic library 'libcudart.so.11.0'; dlerror: libcudart.so.11.0: cannot open shared object file: No such file or directory; LD_LIBRARY_PATH: /opt/hostedtoolcache/Python/3.9.16/x64/lib\n",
      "2023-02-01 07:26:37.030925: I tensorflow/compiler/xla/stream_executor/cuda/cudart_stub.cc:29] Ignore above cudart dlerror if you do not have a GPU set up on your machine.\n"
     ]
    },
    {
     "name": "stderr",
     "output_type": "stream",
     "text": [
      "2023-02-01 07:26:37.732056: W tensorflow/compiler/xla/stream_executor/platform/default/dso_loader.cc:64] Could not load dynamic library 'libnvinfer.so.7'; dlerror: libnvinfer.so.7: cannot open shared object file: No such file or directory; LD_LIBRARY_PATH: /opt/hostedtoolcache/Python/3.9.16/x64/lib\n",
      "2023-02-01 07:26:37.732133: W tensorflow/compiler/xla/stream_executor/platform/default/dso_loader.cc:64] Could not load dynamic library 'libnvinfer_plugin.so.7'; dlerror: libnvinfer_plugin.so.7: cannot open shared object file: No such file or directory; LD_LIBRARY_PATH: /opt/hostedtoolcache/Python/3.9.16/x64/lib\n",
      "2023-02-01 07:26:37.732142: W tensorflow/compiler/tf2tensorrt/utils/py_utils.cc:38] TF-TRT Warning: Cannot dlopen some TensorRT libraries. If you would like to use Nvidia GPU with TensorRT, please make sure the missing libraries mentioned above are installed properly.\n"
     ]
    }
   ],
   "source": [
    "import tensorflow as tf\n",
    "tf.random.set_seed(3)"
   ]
  },
  {
   "cell_type": "markdown",
   "metadata": {},
   "source": [
    "Next, we need to load the input data. Different kinds of variables can be used to describe molecular conformations: e.g. Cartesian coordinates, distances, angles, dihedrals... In principle EncoderMap can deal with any of these inputs, however, some are better suited than others. The molecular conformation does not change when the molecule is translated or rotated. The chosen input variables should reflect that and be translationally and rotationally invariant. \n",
    "\n",
    "In this example we use the backbone dihedral angles phi and psi as input as they are translationally and rotationally invariant and describe the backbone of a protein/peptide very well.\n",
    "\n",
    "The \"asp7.csv\" file contains one column for each dihedral and one row for each frame of the trajectory. Additionally, the last column contains a cluster_id from a gromos clustering which we can later use for comparison. We can load this data using numpy.loadtxt:"
   ]
  },
  {
   "cell_type": "code",
   "execution_count": 4,
   "metadata": {
    "ExecuteTime": {
     "end_time": "2022-06-01T08:17:55.039806Z",
     "start_time": "2022-06-01T08:17:54.860854Z"
    },
    "execution": {
     "iopub.execute_input": "2023-02-01T07:26:38.690867Z",
     "iopub.status.busy": "2023-02-01T07:26:38.690237Z",
     "iopub.status.idle": "2023-02-01T07:26:38.709248Z",
     "shell.execute_reply": "2023-02-01T07:26:38.708539Z"
    }
   },
   "outputs": [
    {
     "ename": "NameError",
     "evalue": "name 'np' is not defined",
     "output_type": "error",
     "traceback": [
      "\u001b[0;31m---------------------------------------------------------------------------\u001b[0m",
      "\u001b[0;31mNameError\u001b[0m                                 Traceback (most recent call last)",
      "Cell \u001b[0;32mIn[4], line 2\u001b[0m\n\u001b[1;32m      1\u001b[0m csv_path \u001b[38;5;241m=\u001b[39m \u001b[38;5;124m\"\u001b[39m\u001b[38;5;124masp7.csv\u001b[39m\u001b[38;5;124m\"\u001b[39m\n\u001b[0;32m----> 2\u001b[0m data \u001b[38;5;241m=\u001b[39m \u001b[43mnp\u001b[49m\u001b[38;5;241m.\u001b[39mloadtxt(csv_path, skiprows\u001b[38;5;241m=\u001b[39m\u001b[38;5;241m1\u001b[39m, delimiter\u001b[38;5;241m=\u001b[39m\u001b[38;5;124m\"\u001b[39m\u001b[38;5;124m,\u001b[39m\u001b[38;5;124m\"\u001b[39m)\n\u001b[1;32m      3\u001b[0m dihedrals \u001b[38;5;241m=\u001b[39m data[:, :\u001b[38;5;241m-\u001b[39m\u001b[38;5;241m1\u001b[39m]\n\u001b[1;32m      4\u001b[0m cluster_ids \u001b[38;5;241m=\u001b[39m data[:, \u001b[38;5;241m-\u001b[39m\u001b[38;5;241m1\u001b[39m]\n",
      "\u001b[0;31mNameError\u001b[0m: name 'np' is not defined"
     ]
    }
   ],
   "source": [
    "csv_path = \"asp7.csv\"\n",
    "data = np.loadtxt(csv_path, skiprows=1, delimiter=\",\")\n",
    "dihedrals = data[:, :-1]\n",
    "cluster_ids = data[:, -1]"
   ]
  },
  {
   "cell_type": "code",
   "execution_count": 5,
   "metadata": {
    "ExecuteTime": {
     "end_time": "2022-06-01T08:19:18.256124Z",
     "start_time": "2022-06-01T08:19:18.126847Z"
    },
    "execution": {
     "iopub.execute_input": "2023-02-01T07:26:38.712376Z",
     "iopub.status.busy": "2023-02-01T07:26:38.711947Z",
     "iopub.status.idle": "2023-02-01T07:26:39.191496Z",
     "shell.execute_reply": "2023-02-01T07:26:39.190381Z"
    },
    "pycharm": {
     "name": "#%%\n"
    }
   },
   "outputs": [
    {
     "ename": "AttributeError",
     "evalue": "'super' object has no attribute '_ipython_display_'",
     "output_type": "error",
     "traceback": [
      "\u001b[0;31m---------------------------------------------------------------------------\u001b[0m",
      "\u001b[0;31mAttributeError\u001b[0m                            Traceback (most recent call last)",
      "Cell \u001b[0;32mIn[5], line 1\u001b[0m\n\u001b[0;32m----> 1\u001b[0m \u001b[38;5;28;01mimport\u001b[39;00m \u001b[38;5;21;01mnglview\u001b[39;00m \u001b[38;5;28;01mas\u001b[39;00m \u001b[38;5;21;01mnv\u001b[39;00m\n\u001b[1;32m      2\u001b[0m \u001b[38;5;28;01mimport\u001b[39;00m \u001b[38;5;21;01mmdtraj\u001b[39;00m \u001b[38;5;28;01mas\u001b[39;00m \u001b[38;5;21;01mmd\u001b[39;00m\n\u001b[1;32m      3\u001b[0m traj \u001b[38;5;241m=\u001b[39m md\u001b[38;5;241m.\u001b[39mload(\u001b[38;5;124m'\u001b[39m\u001b[38;5;124masp7.xtc\u001b[39m\u001b[38;5;124m'\u001b[39m, top\u001b[38;5;241m=\u001b[39m\u001b[38;5;124m'\u001b[39m\u001b[38;5;124masp7.pdb\u001b[39m\u001b[38;5;124m'\u001b[39m)\n",
      "File \u001b[0;32m/opt/hostedtoolcache/Python/3.9.16/x64/lib/python3.9/site-packages/nglview/__init__.py:4\u001b[0m\n\u001b[1;32m      1\u001b[0m \u001b[38;5;28;01mimport\u001b[39;00m \u001b[38;5;21;01mwarnings\u001b[39;00m\n\u001b[1;32m      3\u001b[0m \u001b[38;5;66;03m# for doc\u001b[39;00m\n\u001b[0;32m----> 4\u001b[0m \u001b[38;5;28;01mfrom\u001b[39;00m \u001b[38;5;21;01m.\u001b[39;00m \u001b[38;5;28;01mimport\u001b[39;00m adaptor, datafiles, show, widget\n\u001b[1;32m      5\u001b[0m \u001b[38;5;28;01mfrom\u001b[39;00m \u001b[38;5;21;01m.\u001b[39;00m\u001b[38;5;21;01m_version\u001b[39;00m \u001b[38;5;28;01mimport\u001b[39;00m get_versions\n\u001b[1;32m      6\u001b[0m \u001b[38;5;28;01mfrom\u001b[39;00m \u001b[38;5;21;01m.\u001b[39;00m\u001b[38;5;21;01madaptor\u001b[39;00m \u001b[38;5;28;01mimport\u001b[39;00m \u001b[38;5;241m*\u001b[39m\n",
      "File \u001b[0;32m/opt/hostedtoolcache/Python/3.9.16/x64/lib/python3.9/site-packages/nglview/show.py:13\u001b[0m\n\u001b[1;32m      3\u001b[0m \u001b[38;5;28;01mfrom\u001b[39;00m \u001b[38;5;21;01m.\u001b[39;00m \u001b[38;5;28;01mimport\u001b[39;00m datafiles\n\u001b[1;32m      4\u001b[0m \u001b[38;5;28;01mfrom\u001b[39;00m \u001b[38;5;21;01m.\u001b[39;00m\u001b[38;5;21;01madaptor\u001b[39;00m \u001b[38;5;28;01mimport\u001b[39;00m (ASEStructure, ASETrajectory, BiopythonStructure,\n\u001b[1;32m      5\u001b[0m                       FileStructure, HTMDTrajectory, IODataStructure,\n\u001b[1;32m      6\u001b[0m                       IOTBXStructure, MDAnalysisTrajectory, MDTrajTrajectory,\n\u001b[0;32m   (...)\u001b[0m\n\u001b[1;32m     11\u001b[0m                       RdkitStructure,\n\u001b[1;32m     12\u001b[0m                       TextStructure)\n\u001b[0;32m---> 13\u001b[0m \u001b[38;5;28;01mfrom\u001b[39;00m \u001b[38;5;21;01m.\u001b[39;00m\u001b[38;5;21;01mwidget\u001b[39;00m \u001b[38;5;28;01mimport\u001b[39;00m NGLWidget\n\u001b[1;32m     15\u001b[0m __all__ \u001b[38;5;241m=\u001b[39m [\n\u001b[1;32m     16\u001b[0m     \u001b[38;5;124m'\u001b[39m\u001b[38;5;124mdemo\u001b[39m\u001b[38;5;124m'\u001b[39m,\n\u001b[1;32m     17\u001b[0m     \u001b[38;5;124m'\u001b[39m\u001b[38;5;124mshow_pdbid\u001b[39m\u001b[38;5;124m'\u001b[39m,\n\u001b[0;32m   (...)\u001b[0m\n\u001b[1;32m     40\u001b[0m     \u001b[38;5;124m'\u001b[39m\u001b[38;5;124mshow_biopython\u001b[39m\u001b[38;5;124m'\u001b[39m,\n\u001b[1;32m     41\u001b[0m ]\n\u001b[1;32m     44\u001b[0m \u001b[38;5;28;01mdef\u001b[39;00m \u001b[38;5;21mshow_pdbid\u001b[39m(pdbid, \u001b[38;5;241m*\u001b[39m\u001b[38;5;241m*\u001b[39mkwargs):\n",
      "File \u001b[0;32m/opt/hostedtoolcache/Python/3.9.16/x64/lib/python3.9/site-packages/nglview/widget.py:19\u001b[0m\n\u001b[1;32m     15\u001b[0m \u001b[38;5;28;01mfrom\u001b[39;00m \u001b[38;5;21;01mtraitlets\u001b[39;00m \u001b[38;5;28;01mimport\u001b[39;00m (Bool, CaselessStrEnum, Dict, Instance, Int, Integer,\n\u001b[1;32m     16\u001b[0m                        List, Unicode, observe, validate)\n\u001b[1;32m     17\u001b[0m \u001b[38;5;28;01mimport\u001b[39;00m \u001b[38;5;21;01mtraitlets\u001b[39;00m\n\u001b[0;32m---> 19\u001b[0m \u001b[38;5;28;01mfrom\u001b[39;00m \u001b[38;5;21;01m.\u001b[39;00m \u001b[38;5;28;01mimport\u001b[39;00m color, interpolate\n\u001b[1;32m     20\u001b[0m \u001b[38;5;28;01mfrom\u001b[39;00m \u001b[38;5;21;01m.\u001b[39;00m\u001b[38;5;21;01madaptor\u001b[39;00m \u001b[38;5;28;01mimport\u001b[39;00m Structure, Trajectory\n\u001b[1;32m     21\u001b[0m \u001b[38;5;28;01mfrom\u001b[39;00m \u001b[38;5;21;01m.\u001b[39;00m\u001b[38;5;21;01mcomponent\u001b[39;00m \u001b[38;5;28;01mimport\u001b[39;00m ComponentViewer\n",
      "File \u001b[0;32m/opt/hostedtoolcache/Python/3.9.16/x64/lib/python3.9/site-packages/nglview/color.py:114\u001b[0m\n\u001b[1;32m    110\u001b[0m         \u001b[38;5;28;01melse\u001b[39;00m:\n\u001b[1;32m    111\u001b[0m             \u001b[38;5;28;01mraise\u001b[39;00m \u001b[38;5;167;01mValueError\u001b[39;00m(\u001b[38;5;124mf\u001b[39m\u001b[38;5;124m\"\u001b[39m\u001b[38;5;132;01m{\u001b[39;00mobj\u001b[38;5;132;01m}\u001b[39;00m\u001b[38;5;124m must be either list of list or string\u001b[39m\u001b[38;5;124m\"\u001b[39m)\n\u001b[0;32m--> 114\u001b[0m ColormakerRegistry \u001b[38;5;241m=\u001b[39m \u001b[43m_ColormakerRegistry\u001b[49m\u001b[43m(\u001b[49m\u001b[43m)\u001b[49m\n",
      "File \u001b[0;32m/opt/hostedtoolcache/Python/3.9.16/x64/lib/python3.9/site-packages/nglview/base.py:10\u001b[0m, in \u001b[0;36m_singleton.<locals>.getinstance\u001b[0;34m()\u001b[0m\n\u001b[1;32m      8\u001b[0m \u001b[38;5;28;01mdef\u001b[39;00m \u001b[38;5;21mgetinstance\u001b[39m():\n\u001b[1;32m      9\u001b[0m     \u001b[38;5;28;01mif\u001b[39;00m \u001b[38;5;28mcls\u001b[39m \u001b[38;5;129;01mnot\u001b[39;00m \u001b[38;5;129;01min\u001b[39;00m instances:\n\u001b[0;32m---> 10\u001b[0m         instances[\u001b[38;5;28mcls\u001b[39m] \u001b[38;5;241m=\u001b[39m \u001b[38;5;28;43mcls\u001b[39;49m\u001b[43m(\u001b[49m\u001b[43m)\u001b[49m\n\u001b[1;32m     11\u001b[0m     \u001b[38;5;28;01mreturn\u001b[39;00m instances[\u001b[38;5;28mcls\u001b[39m]\n",
      "File \u001b[0;32m/opt/hostedtoolcache/Python/3.9.16/x64/lib/python3.9/site-packages/nglview/color.py:47\u001b[0m, in \u001b[0;36m_ColormakerRegistry.__init__\u001b[0;34m(self, *args, **kwargs)\u001b[0m\n\u001b[1;32m     45\u001b[0m \u001b[38;5;28;01mtry\u001b[39;00m:\n\u001b[1;32m     46\u001b[0m     get_ipython() \u001b[38;5;66;03m# only display in notebook\u001b[39;00m\n\u001b[0;32m---> 47\u001b[0m     \u001b[38;5;28;43mself\u001b[39;49m\u001b[38;5;241;43m.\u001b[39;49m\u001b[43m_ipython_display_\u001b[49m\u001b[43m(\u001b[49m\u001b[43m)\u001b[49m\n\u001b[1;32m     48\u001b[0m \u001b[38;5;28;01mexcept\u001b[39;00m \u001b[38;5;167;01mNameError\u001b[39;00m:\n\u001b[1;32m     49\u001b[0m     \u001b[38;5;28;01mpass\u001b[39;00m\n",
      "File \u001b[0;32m/opt/hostedtoolcache/Python/3.9.16/x64/lib/python3.9/site-packages/nglview/color.py:54\u001b[0m, in \u001b[0;36m_ColormakerRegistry._ipython_display_\u001b[0;34m(self, **kwargs)\u001b[0m\n\u001b[1;32m     52\u001b[0m \u001b[38;5;28;01mif\u001b[39;00m \u001b[38;5;28mself\u001b[39m\u001b[38;5;241m.\u001b[39m_ready:\n\u001b[1;32m     53\u001b[0m     \u001b[38;5;28;01mreturn\u001b[39;00m\n\u001b[0;32m---> 54\u001b[0m \u001b[38;5;28;43msuper\u001b[39;49m\u001b[43m(\u001b[49m\u001b[43m)\u001b[49m\u001b[38;5;241;43m.\u001b[39;49m\u001b[43m_ipython_display_\u001b[49m(\u001b[38;5;241m*\u001b[39m\u001b[38;5;241m*\u001b[39mkwargs)\n",
      "\u001b[0;31mAttributeError\u001b[0m: 'super' object has no attribute '_ipython_display_'"
     ]
    }
   ],
   "source": [
    "import nglview as nv\n",
    "import mdtraj as md\n",
    "traj = md.load('asp7.xtc', top='asp7.pdb')\n",
    "view = nv.show_mdtraj(traj)\n",
    "view.add_representation('hyperball')\n",
    "view"
   ]
  },
  {
   "cell_type": "markdown",
   "metadata": {},
   "source": [
    "Similarly to the previous example, we need to set some parameters. In contrast to the Cube example we now have periodic input data. The dihedral angles are in radians with a 2pi periodicity. We also set some further parameters but don't bother for now. "
   ]
  },
  {
   "cell_type": "code",
   "execution_count": 6,
   "metadata": {
    "ExecuteTime": {
     "end_time": "2022-03-16T12:07:46.150451Z",
     "start_time": "2022-03-16T12:07:45.560895Z"
    },
    "execution": {
     "iopub.execute_input": "2023-02-01T07:26:39.195809Z",
     "iopub.status.busy": "2023-02-01T07:26:39.194437Z",
     "iopub.status.idle": "2023-02-01T07:26:39.216520Z",
     "shell.execute_reply": "2023-02-01T07:26:39.215279Z"
    }
   },
   "outputs": [
    {
     "ename": "NameError",
     "evalue": "name 'em' is not defined",
     "output_type": "error",
     "traceback": [
      "\u001b[0;31m---------------------------------------------------------------------------\u001b[0m",
      "\u001b[0;31mNameError\u001b[0m                                 Traceback (most recent call last)",
      "Cell \u001b[0;32mIn[6], line 1\u001b[0m\n\u001b[0;32m----> 1\u001b[0m parameters \u001b[38;5;241m=\u001b[39m \u001b[43mem\u001b[49m\u001b[38;5;241m.\u001b[39mParameters()\n\u001b[1;32m      2\u001b[0m parameters\u001b[38;5;241m.\u001b[39mmain_path \u001b[38;5;241m=\u001b[39m em\u001b[38;5;241m.\u001b[39mmisc\u001b[38;5;241m.\u001b[39mrun_path(\u001b[38;5;124m\"\u001b[39m\u001b[38;5;124mruns/asp7\u001b[39m\u001b[38;5;124m\"\u001b[39m)\n\u001b[1;32m      3\u001b[0m parameters\u001b[38;5;241m.\u001b[39mn_steps \u001b[38;5;241m=\u001b[39m \u001b[38;5;241m1000\u001b[39m\n",
      "\u001b[0;31mNameError\u001b[0m: name 'em' is not defined"
     ]
    }
   ],
   "source": [
    "parameters = em.Parameters()\n",
    "parameters.main_path = em.misc.run_path(\"runs/asp7\")\n",
    "parameters.n_steps = 1000\n",
    "parameters.dist_sig_parameters = (4.5, 12, 6, 1, 2, 6)\n",
    "parameters.periodicity = 2*pi\n",
    "parameters.l2_reg_constant = 10.0\n",
    "parameters.summary_step = 1\n",
    "parameters.tensorboard\n",
    "\n",
    "%matplotlib inline\n",
    "em.plot.distance_histogram(dihedrals[::10], \n",
    "                           parameters.periodicity, \n",
    "                           parameters.dist_sig_parameters,\n",
    "                           bins=50)"
   ]
  },
  {
   "cell_type": "markdown",
   "metadata": {},
   "source": [
    "Next we can run the dimensionality reduction:"
   ]
  },
  {
   "cell_type": "code",
   "execution_count": 7,
   "metadata": {
    "ExecuteTime": {
     "end_time": "2022-03-16T12:07:48.695453Z",
     "start_time": "2022-03-16T12:07:48.573320Z"
    },
    "execution": {
     "iopub.execute_input": "2023-02-01T07:26:39.219837Z",
     "iopub.status.busy": "2023-02-01T07:26:39.219314Z",
     "iopub.status.idle": "2023-02-01T07:26:39.236070Z",
     "shell.execute_reply": "2023-02-01T07:26:39.235494Z"
    }
   },
   "outputs": [
    {
     "ename": "NameError",
     "evalue": "name 'em' is not defined",
     "output_type": "error",
     "traceback": [
      "\u001b[0;31m---------------------------------------------------------------------------\u001b[0m",
      "\u001b[0;31mNameError\u001b[0m                                 Traceback (most recent call last)",
      "Cell \u001b[0;32mIn[7], line 1\u001b[0m\n\u001b[0;32m----> 1\u001b[0m e_map \u001b[38;5;241m=\u001b[39m \u001b[43mem\u001b[49m\u001b[38;5;241m.\u001b[39mEncoderMap(parameters, dihedrals)\n",
      "\u001b[0;31mNameError\u001b[0m: name 'em' is not defined"
     ]
    }
   ],
   "source": [
    "e_map = em.EncoderMap(parameters, dihedrals)"
   ]
  },
  {
   "cell_type": "markdown",
   "metadata": {
    "collapsed": false,
    "pycharm": {
     "name": "#%% md\n"
    }
   },
   "source": [
    "The new tensorflow 2 version of EncoderMap allows you to also view the output of the latent space during the training. Switch that feature on with `e_map.add_images_to_tensorboard()`."
   ]
  },
  {
   "cell_type": "code",
   "execution_count": 8,
   "metadata": {
    "execution": {
     "iopub.execute_input": "2023-02-01T07:26:39.239175Z",
     "iopub.status.busy": "2023-02-01T07:26:39.238843Z",
     "iopub.status.idle": "2023-02-01T07:26:39.254531Z",
     "shell.execute_reply": "2023-02-01T07:26:39.252928Z"
    },
    "pycharm": {
     "name": "#%%\n"
    }
   },
   "outputs": [
    {
     "ename": "NameError",
     "evalue": "name 'e_map' is not defined",
     "output_type": "error",
     "traceback": [
      "\u001b[0;31m---------------------------------------------------------------------------\u001b[0m",
      "\u001b[0;31mNameError\u001b[0m                                 Traceback (most recent call last)",
      "Cell \u001b[0;32mIn[8], line 1\u001b[0m\n\u001b[0;32m----> 1\u001b[0m \u001b[43me_map\u001b[49m\u001b[38;5;241m.\u001b[39madd_images_to_tensorboard()\n",
      "\u001b[0;31mNameError\u001b[0m: name 'e_map' is not defined"
     ]
    }
   ],
   "source": [
    "e_map.add_images_to_tensorboard()"
   ]
  },
  {
   "cell_type": "code",
   "execution_count": 9,
   "metadata": {
    "ExecuteTime": {
     "end_time": "2022-03-16T12:08:45.680319Z",
     "start_time": "2022-03-16T12:07:48.823742Z"
    },
    "execution": {
     "iopub.execute_input": "2023-02-01T07:26:39.257691Z",
     "iopub.status.busy": "2023-02-01T07:26:39.257154Z",
     "iopub.status.idle": "2023-02-01T07:26:39.272846Z",
     "shell.execute_reply": "2023-02-01T07:26:39.272101Z"
    }
   },
   "outputs": [
    {
     "ename": "NameError",
     "evalue": "name 'e_map' is not defined",
     "output_type": "error",
     "traceback": [
      "\u001b[0;31m---------------------------------------------------------------------------\u001b[0m",
      "\u001b[0;31mNameError\u001b[0m                                 Traceback (most recent call last)",
      "Cell \u001b[0;32mIn[9], line 1\u001b[0m\n\u001b[0;32m----> 1\u001b[0m \u001b[43me_map\u001b[49m\u001b[38;5;241m.\u001b[39mtrain()\n",
      "\u001b[0;31mNameError\u001b[0m: name 'e_map' is not defined"
     ]
    }
   ],
   "source": [
    "e_map.train()"
   ]
  },
  {
   "cell_type": "markdown",
   "metadata": {},
   "source": [
    "project all dihedrals to the low-dimensional space..."
   ]
  },
  {
   "cell_type": "code",
   "execution_count": 10,
   "metadata": {
    "ExecuteTime": {
     "end_time": "2022-03-16T12:08:48.867779Z",
     "start_time": "2022-03-16T12:08:48.802246Z"
    },
    "execution": {
     "iopub.execute_input": "2023-02-01T07:26:39.275946Z",
     "iopub.status.busy": "2023-02-01T07:26:39.275615Z",
     "iopub.status.idle": "2023-02-01T07:26:39.291679Z",
     "shell.execute_reply": "2023-02-01T07:26:39.290542Z"
    }
   },
   "outputs": [
    {
     "ename": "NameError",
     "evalue": "name 'e_map' is not defined",
     "output_type": "error",
     "traceback": [
      "\u001b[0;31m---------------------------------------------------------------------------\u001b[0m",
      "\u001b[0;31mNameError\u001b[0m                                 Traceback (most recent call last)",
      "Cell \u001b[0;32mIn[10], line 1\u001b[0m\n\u001b[0;32m----> 1\u001b[0m low_d_projection \u001b[38;5;241m=\u001b[39m \u001b[43me_map\u001b[49m\u001b[38;5;241m.\u001b[39mencode(dihedrals)\n",
      "\u001b[0;31mNameError\u001b[0m: name 'e_map' is not defined"
     ]
    }
   ],
   "source": [
    "low_d_projection = e_map.encode(dihedrals)"
   ]
  },
  {
   "cell_type": "markdown",
   "metadata": {},
   "source": [
    " and plot the result:"
   ]
  },
  {
   "cell_type": "code",
   "execution_count": 11,
   "metadata": {
    "ExecuteTime": {
     "end_time": "2022-03-16T12:08:50.169521Z",
     "start_time": "2022-03-16T12:08:50.092947Z"
    },
    "execution": {
     "iopub.execute_input": "2023-02-01T07:26:39.294706Z",
     "iopub.status.busy": "2023-02-01T07:26:39.294346Z",
     "iopub.status.idle": "2023-02-01T07:26:39.621945Z",
     "shell.execute_reply": "2023-02-01T07:26:39.621241Z"
    }
   },
   "outputs": [
    {
     "ename": "NameError",
     "evalue": "name 'plt' is not defined",
     "output_type": "error",
     "traceback": [
      "\u001b[0;31m---------------------------------------------------------------------------\u001b[0m",
      "\u001b[0;31mNameError\u001b[0m                                 Traceback (most recent call last)",
      "Cell \u001b[0;32mIn[11], line 17\u001b[0m\n\u001b[1;32m     14\u001b[0m max_clusters \u001b[38;5;241m=\u001b[39m \u001b[38;5;241m5\u001b[39m\n\u001b[1;32m     16\u001b[0m \u001b[38;5;66;03m# create figure\u001b[39;00m\n\u001b[0;32m---> 17\u001b[0m fig, ax \u001b[38;5;241m=\u001b[39m \u001b[43mplt\u001b[49m\u001b[38;5;241m.\u001b[39msubplots()\n\u001b[1;32m     18\u001b[0m scatter \u001b[38;5;241m=\u001b[39m ax\u001b[38;5;241m.\u001b[39mscatter(\u001b[38;5;241m*\u001b[39mlow_d_projection\u001b[38;5;241m.\u001b[39mT, s\u001b[38;5;241m=\u001b[39m\u001b[38;5;241m20\u001b[39m, c\u001b[38;5;241m=\u001b[39mcolors_from_cluster_ids(cluster_ids, max_clusters))\n\u001b[1;32m     20\u001b[0m \u001b[38;5;66;03m# fake a legend, because using scatter with RGBA values will not produce a legend\u001b[39;00m\n",
      "\u001b[0;31mNameError\u001b[0m: name 'plt' is not defined"
     ]
    }
   ],
   "source": [
    "%matplotlib inline\n",
    "\n",
    "# rgba color from cluster_id. All 1.0s are grey RGBA=(.5, .5, .5, .1)\n",
    "# the rest are colored with maptlotlib C0, C1, C2, ...\n",
    "def colors_from_cluster_ids(cluster_ids, max_clusters=10):\n",
    "    colors = np.full(shape=(len(cluster_ids), 4), fill_value=(.5, .5, .5, .1))\n",
    "    for i in range(2, max_clusters + 2):\n",
    "        where = np.where(cluster_ids == i)\n",
    "        color = (*mpl.colors.to_rgb(f'C{i - 2}'), 0.3)\n",
    "        colors[where] = color\n",
    "    return colors\n",
    "\n",
    "# define max clusters\n",
    "max_clusters = 5\n",
    "\n",
    "# create figure\n",
    "fig, ax = plt.subplots()\n",
    "scatter = ax.scatter(*low_d_projection.T, s=20, c=colors_from_cluster_ids(cluster_ids, max_clusters))\n",
    "\n",
    "# fake a legend, because using scatter with RGBA values will not produce a legend\n",
    "recs = []\n",
    "for i in range(max_clusters):\n",
    "    recs.append(mpl.patches.Rectangle((0, 0), 1, 1, fc=f\"C{i}\"))\n",
    "ax.legend(recs, range(max_clusters), loc=4)\n",
    "\n",
    "plt.show()"
   ]
  },
  {
   "cell_type": "markdown",
   "metadata": {},
   "source": [
    "In the above map points from different clusters (different colors) should be well separated. However, if you didn't change the parameters, they are probably not. Some of our parameter settings appear to be unsuitable. Let's see how we can find out what goes wrong."
   ]
  },
  {
   "cell_type": "markdown",
   "metadata": {},
   "source": [
    "## Visualize Learning with TensorBoard\n",
    "\n",
    "### Running tensorboard on Google colab\n",
    "\n",
    "To use tensorboard in google colabs notebooks, you neet to first load the tensorboard extension\n",
    "\n",
    "```python\n",
    "%load_ext tensorboard\n",
    "```\n",
    "\n",
    "And then activate it with:\n",
    "\n",
    "```python\n",
    "%tensorboard --logdir .\n",
    "```\n",
    "\n",
    "The next code cell contains these commands. Uncomment them and then continue.\n",
    "\n",
    "### Running tensorboard locally\n",
    "\n",
    "TensorBoard is a visualization tool from the machine learning library TensorFlow which is used by the EncoderMap package. During the dimensionality reduction step, when the neural network autoencoder is trained, several readings are saved in a TensorBoard format. All output files are saved to the path defined in `parameters.main_path`. Navigate to this location in a shell and start TensorBoard. Change the paramter Tensorboard to `True` to make Encodermap log to Tensorboard.\n",
    "\n",
    "In case you run this tutorial in the provided Docker container you can open a new console inside the container by typing the following command in a new system shell.\n",
    "```shell\n",
    "docker exec -it emap bash\n",
    "```\n",
    "Navigate to the location where all the runs are saved. e.g.:\n",
    "```shell\n",
    "cd notebooks_easy/runs/asp7/\n",
    "```\n",
    "Start TensorBoard in this directory with:\n",
    "```shell\n",
    "tensorboard --logdir .\n",
    "```\n",
    "\n",
    "You should now be able to open TensorBoard in your webbrowser on port 6006.  \n",
    "`0.0.0.0:6006` or `127.0.0.1:6006`\n",
    "\n",
    "In the SCALARS tab of TensorBoard you should see among other values the overall cost and different contributions to the cost. The two most important contributions are `auto_cost` and `distance_cost`. `auto_cost` indicates differences between the inputs and outputs of the autoencoder. `distance_cost` is the part of the cost function which compares pairwise distances in the input space and the low-dimensional (latent) space.\n",
    "\n",
    "**Fixing Reloading issues**\n",
    "Using Tensorboard we often encountered some issues while training multiple models and writing mutliple runs to Tensorboard's logdir. Reloading the data and event refreshing the web page did not display the data of the current run. We needed to kill tensorboard and restart it in order to see the new data. This issue was fixed by setting `reload_multifile` `True`.\n",
    "\n",
    "```bash\n",
    "tensorboard --logdir . --reload_multifile True\n",
    "```\n",
    "\n",
    "\n",
    "In your case, probably the overall cost as well as the auto_cost and the distance_cost are still decreasing after all training iterations. This tells us that we can simply improve the result by increasing the number of training steps. The following cell contains the same code as above. Set a larger number of straining steps to improve the result (e.g. 3000)."
   ]
  },
  {
   "cell_type": "code",
   "execution_count": 12,
   "metadata": {
    "execution": {
     "iopub.execute_input": "2023-02-01T07:26:39.625988Z",
     "iopub.status.busy": "2023-02-01T07:26:39.625216Z",
     "iopub.status.idle": "2023-02-01T07:26:39.628390Z",
     "shell.execute_reply": "2023-02-01T07:26:39.627754Z"
    },
    "pycharm": {
     "name": "#%%\n"
    }
   },
   "outputs": [],
   "source": [
    "# for Google colab uncomment these lines\n",
    "# %load_ext tensorboard\n",
    "# %tensorboard --logdir ."
   ]
  },
  {
   "cell_type": "code",
   "execution_count": 13,
   "metadata": {
    "ExecuteTime": {
     "end_time": "2022-06-01T08:20:37.666620Z",
     "start_time": "2022-06-01T08:20:37.488066Z"
    },
    "execution": {
     "iopub.execute_input": "2023-02-01T07:26:39.631244Z",
     "iopub.status.busy": "2023-02-01T07:26:39.630806Z",
     "iopub.status.idle": "2023-02-01T07:26:39.650891Z",
     "shell.execute_reply": "2023-02-01T07:26:39.650281Z"
    }
   },
   "outputs": [
    {
     "ename": "NameError",
     "evalue": "name 'em' is not defined",
     "output_type": "error",
     "traceback": [
      "\u001b[0;31m---------------------------------------------------------------------------\u001b[0m",
      "\u001b[0;31mNameError\u001b[0m                                 Traceback (most recent call last)",
      "Cell \u001b[0;32mIn[13], line 1\u001b[0m\n\u001b[0;32m----> 1\u001b[0m parameters \u001b[38;5;241m=\u001b[39m \u001b[43mem\u001b[49m\u001b[38;5;241m.\u001b[39mParameters(\n\u001b[1;32m      2\u001b[0m     main_path\u001b[38;5;241m=\u001b[39mem\u001b[38;5;241m.\u001b[39mmisc\u001b[38;5;241m.\u001b[39mrun_path(\u001b[38;5;124m\"\u001b[39m\u001b[38;5;124mruns/asp7\u001b[39m\u001b[38;5;124m\"\u001b[39m),\n\u001b[1;32m      3\u001b[0m     n_steps\u001b[38;5;241m=\u001b[39m\u001b[38;5;241m1000\u001b[39m,\n\u001b[1;32m      4\u001b[0m     dist_sig_parameters\u001b[38;5;241m=\u001b[39m(\u001b[38;5;241m4.5\u001b[39m, \u001b[38;5;241m12\u001b[39m, \u001b[38;5;241m6\u001b[39m, \u001b[38;5;241m1\u001b[39m, \u001b[38;5;241m2\u001b[39m, \u001b[38;5;241m6\u001b[39m),\n\u001b[1;32m      5\u001b[0m     periodicity\u001b[38;5;241m=\u001b[39m\u001b[38;5;241m2\u001b[39m\u001b[38;5;241m*\u001b[39mpi,\n\u001b[1;32m      6\u001b[0m     l2_reg_constant\u001b[38;5;241m=\u001b[39m\u001b[38;5;241m10\u001b[39m,\n\u001b[1;32m      7\u001b[0m     summary_step\u001b[38;5;241m=\u001b[39m\u001b[38;5;241m1\u001b[39m,\n\u001b[1;32m      8\u001b[0m     tensorboard\u001b[38;5;241m=\u001b[39m\u001b[38;5;28;01mTrue\u001b[39;00m\n\u001b[1;32m      9\u001b[0m )\n\u001b[1;32m     11\u001b[0m e_map \u001b[38;5;241m=\u001b[39m em\u001b[38;5;241m.\u001b[39mEncoderMap(parameters, dihedrals)\n\u001b[1;32m     13\u001b[0m \u001b[38;5;66;03m# Logging images to Tensorboard can greatly reduce performance.\u001b[39;00m\n\u001b[1;32m     14\u001b[0m \u001b[38;5;66;03m# So they need to be specifically turned on\u001b[39;00m\n",
      "\u001b[0;31mNameError\u001b[0m: name 'em' is not defined"
     ]
    }
   ],
   "source": [
    "parameters = em.Parameters(\n",
    "    main_path=em.misc.run_path(\"runs/asp7\"),\n",
    "    n_steps=1000,\n",
    "    dist_sig_parameters=(4.5, 12, 6, 1, 2, 6),\n",
    "    periodicity=2*pi,\n",
    "    l2_reg_constant=10,\n",
    "    summary_step=1,\n",
    "    tensorboard=True\n",
    ")\n",
    "\n",
    "e_map = em.EncoderMap(parameters, dihedrals)\n",
    "\n",
    "# Logging images to Tensorboard can greatly reduce performance.\n",
    "# So they need to be specifically turned on\n",
    "e_map.add_images_to_tensorboard(dihedrals, 2,\n",
    "                                scatter_kws={'s': 50, 'c': colors_from_cluster_ids(cluster_ids, 5)}\n",
    "                               )\n",
    "\n",
    "e_map.train()"
   ]
  },
  {
   "cell_type": "markdown",
   "metadata": {},
   "source": [
    "The molecule conformations form different clusters (different colors) should be separated a bit better now. In TensorBoard you should see the cost curves for this new run. When the cost curve becomes more or less flat towards the end, longer training does not make sense.\n",
    "\n",
    "The resulting low-dimensional projection is probably still not very detailed and clusters are probably not well separated. Currently we use a regularization constant `parameters.l2_reg_constant = 10.0`. The regularization constant influences the \n",
    "complexity of the network and the map. A high regularization constant will result in a smooth map with little details. A small regularization constant will result in a rougher more detailed map.\n",
    "\n",
    "Go back to the previous cell and decrease the regularization constant (e.g. `parameters.l2_reg_constant = 0.001`). Play with different settings to improve the separation of the clusters in the map. Have a look at TensorBoard to see how the cost changes for different parameters."
   ]
  },
  {
   "cell_type": "code",
   "execution_count": 14,
   "metadata": {
    "execution": {
     "iopub.execute_input": "2023-02-01T07:26:39.654002Z",
     "iopub.status.busy": "2023-02-01T07:26:39.653436Z",
     "iopub.status.idle": "2023-02-01T07:26:39.670133Z",
     "shell.execute_reply": "2023-02-01T07:26:39.669554Z"
    }
   },
   "outputs": [
    {
     "ename": "NameError",
     "evalue": "name 'plt' is not defined",
     "output_type": "error",
     "traceback": [
      "\u001b[0;31m---------------------------------------------------------------------------\u001b[0m",
      "\u001b[0;31mNameError\u001b[0m                                 Traceback (most recent call last)",
      "Cell \u001b[0;32mIn[14], line 2\u001b[0m\n\u001b[1;32m      1\u001b[0m get_ipython()\u001b[38;5;241m.\u001b[39mrun_line_magic(\u001b[38;5;124m'\u001b[39m\u001b[38;5;124mmatplotlib\u001b[39m\u001b[38;5;124m'\u001b[39m, \u001b[38;5;124m'\u001b[39m\u001b[38;5;124minline\u001b[39m\u001b[38;5;124m'\u001b[39m)\n\u001b[0;32m----> 2\u001b[0m \u001b[43mplt\u001b[49m\u001b[38;5;241m.\u001b[39mclose(\u001b[38;5;124m'\u001b[39m\u001b[38;5;124mall\u001b[39m\u001b[38;5;124m'\u001b[39m)\n\u001b[1;32m      3\u001b[0m plt\u001b[38;5;241m.\u001b[39mscatter(\u001b[38;5;241m*\u001b[39me_map\u001b[38;5;241m.\u001b[39mencode(dihedrals)\u001b[38;5;241m.\u001b[39mT)\n",
      "\u001b[0;31mNameError\u001b[0m: name 'plt' is not defined"
     ]
    }
   ],
   "source": [
    "%matplotlib inline\n",
    "plt.close('all')\n",
    "plt.scatter(*e_map.encode(dihedrals).T)"
   ]
  },
  {
   "cell_type": "markdown",
   "metadata": {},
   "source": [
    "**Here is what you can see in Tensorboard:**"
   ]
  },
  {
   "cell_type": "markdown",
   "metadata": {},
   "source": [
    "<img src=\"Tensorboard_Cost.png\" width=\"800\">\n",
    "<img src=\"Tensorboard_Histograms.png\" width=\"800\">\n",
    "<img src=\"Tensorboard_Parameters.png\" width=\"800\">\n",
    "<img src=\"Tensorboard_Images.png\" width=\"800\">"
   ]
  },
  {
   "cell_type": "markdown",
   "metadata": {},
   "source": [
    "### Save and Load\n",
    "Once you are satisfied with your EncoderMap, you might want to save the result. The good news is: Encoder map automatically saves checkpoints during the training process in `parameters.main_path`. The frequency of writing checkpoints can be defined with `patameters.checkpoint_step`. Also, your selected parameters are saved in a file called `parameters.json`. Navigate to the driectory of your last run and open this `parameters.json` file in some text editor. You should find all the parameters that we have set so far. You also find some parameters which were not set by us specifically and where EncoderMap used its default values.\n",
    "\n",
    "Let's start by looking at the parameters from the last run and printing them in a nicely formatted table with the `.parameters` attribute."
   ]
  },
  {
   "cell_type": "code",
   "execution_count": 15,
   "metadata": {
    "execution": {
     "iopub.execute_input": "2023-02-01T07:26:39.673314Z",
     "iopub.status.busy": "2023-02-01T07:26:39.672784Z",
     "iopub.status.idle": "2023-02-01T07:26:39.689514Z",
     "shell.execute_reply": "2023-02-01T07:26:39.688195Z"
    }
   },
   "outputs": [
    {
     "ename": "NameError",
     "evalue": "name 'em' is not defined",
     "output_type": "error",
     "traceback": [
      "\u001b[0;31m---------------------------------------------------------------------------\u001b[0m",
      "\u001b[0;31mNameError\u001b[0m                                 Traceback (most recent call last)",
      "Cell \u001b[0;32mIn[15], line 1\u001b[0m\n\u001b[0;32m----> 1\u001b[0m loaded_parameters \u001b[38;5;241m=\u001b[39m \u001b[43mem\u001b[49m\u001b[38;5;241m.\u001b[39mParameters\u001b[38;5;241m.\u001b[39mfrom_file(\u001b[38;5;124m'\u001b[39m\u001b[38;5;124mruns/asp7/run0/parameters.json\u001b[39m\u001b[38;5;124m'\u001b[39m)\n\u001b[1;32m      2\u001b[0m \u001b[38;5;28mprint\u001b[39m(loaded_parameters\u001b[38;5;241m.\u001b[39mparameters)\n",
      "\u001b[0;31mNameError\u001b[0m: name 'em' is not defined"
     ]
    }
   ],
   "source": [
    "loaded_parameters = em.Parameters.from_file('runs/asp7/run0/parameters.json')\n",
    "print(loaded_parameters.parameters)"
   ]
  },
  {
   "cell_type": "markdown",
   "metadata": {},
   "source": [
    "Before we can reload our trained network we need to save it manually, because the checkpoint step was set to 5000 and we did only write a checkpoint at 0 (random initial weights). We call `e_map.save()` to do so."
   ]
  },
  {
   "cell_type": "code",
   "execution_count": 16,
   "metadata": {
    "execution": {
     "iopub.execute_input": "2023-02-01T07:26:39.692533Z",
     "iopub.status.busy": "2023-02-01T07:26:39.692168Z",
     "iopub.status.idle": "2023-02-01T07:26:39.708637Z",
     "shell.execute_reply": "2023-02-01T07:26:39.707428Z"
    }
   },
   "outputs": [
    {
     "ename": "NameError",
     "evalue": "name 'e_map' is not defined",
     "output_type": "error",
     "traceback": [
      "\u001b[0;31m---------------------------------------------------------------------------\u001b[0m",
      "\u001b[0;31mNameError\u001b[0m                                 Traceback (most recent call last)",
      "Cell \u001b[0;32mIn[16], line 1\u001b[0m\n\u001b[0;32m----> 1\u001b[0m \u001b[43me_map\u001b[49m\u001b[38;5;241m.\u001b[39msave()\n",
      "\u001b[0;31mNameError\u001b[0m: name 'e_map' is not defined"
     ]
    }
   ],
   "source": [
    "e_map.save()"
   ]
  },
  {
   "cell_type": "markdown",
   "metadata": {},
   "source": [
    "And now we reload it."
   ]
  },
  {
   "cell_type": "code",
   "execution_count": 17,
   "metadata": {
    "ExecuteTime": {
     "end_time": "2022-03-16T12:09:12.018611Z",
     "start_time": "2022-03-16T12:09:11.944377Z"
    },
    "execution": {
     "iopub.execute_input": "2023-02-01T07:26:39.711781Z",
     "iopub.status.busy": "2023-02-01T07:26:39.711236Z",
     "iopub.status.idle": "2023-02-01T07:26:39.730874Z",
     "shell.execute_reply": "2023-02-01T07:26:39.729754Z"
    }
   },
   "outputs": [
    {
     "ename": "IndexError",
     "evalue": "list index out of range",
     "output_type": "error",
     "traceback": [
      "\u001b[0;31m---------------------------------------------------------------------------\u001b[0m",
      "\u001b[0;31mIndexError\u001b[0m                                Traceback (most recent call last)",
      "Cell \u001b[0;32mIn[17], line 4\u001b[0m\n\u001b[1;32m      2\u001b[0m \u001b[38;5;28;01mimport\u001b[39;00m \u001b[38;5;21;01mos\u001b[39;00m\n\u001b[1;32m      3\u001b[0m \u001b[38;5;28;01mfrom\u001b[39;00m \u001b[38;5;21;01mpathlib\u001b[39;00m \u001b[38;5;28;01mimport\u001b[39;00m Path\n\u001b[0;32m----> 4\u001b[0m latest_checkpoint_file \u001b[38;5;241m=\u001b[39m \u001b[38;5;28mstr\u001b[39m(\u001b[38;5;28;43mlist\u001b[39;49m\u001b[43m(\u001b[49m\u001b[38;5;28;43msorted\u001b[39;49m\u001b[43m(\u001b[49m\u001b[43mPath\u001b[49m\u001b[43m(\u001b[49m\u001b[38;5;124;43m\"\u001b[39;49m\u001b[38;5;124;43mruns/asp7\u001b[39;49m\u001b[38;5;124;43m\"\u001b[39;49m\u001b[43m)\u001b[49m\u001b[38;5;241;43m.\u001b[39;49m\u001b[43mrglob\u001b[49m\u001b[43m(\u001b[49m\u001b[38;5;124;43m\"\u001b[39;49m\u001b[38;5;124;43m*model*\u001b[39;49m\u001b[38;5;124;43m\"\u001b[39;49m\u001b[43m)\u001b[49m\u001b[43m,\u001b[49m\u001b[43m \u001b[49m\u001b[43mkey\u001b[49m\u001b[38;5;241;43m=\u001b[39;49m\u001b[43mos\u001b[49m\u001b[38;5;241;43m.\u001b[39;49m\u001b[43mpath\u001b[49m\u001b[38;5;241;43m.\u001b[39;49m\u001b[43mgetmtime\u001b[49m\u001b[43m,\u001b[49m\u001b[43m \u001b[49m\u001b[43mreverse\u001b[49m\u001b[38;5;241;43m=\u001b[39;49m\u001b[38;5;28;43;01mTrue\u001b[39;49;00m\u001b[43m)\u001b[49m\u001b[43m)\u001b[49m\u001b[43m[\u001b[49m\u001b[38;5;241;43m0\u001b[39;49m\u001b[43m]\u001b[49m)\u001b[38;5;241m.\u001b[39mrstrip(\u001b[38;5;124m\"\u001b[39m\u001b[38;5;124m_decoder\u001b[39m\u001b[38;5;124m\"\u001b[39m)\u001b[38;5;241m.\u001b[39mrstrip(\u001b[38;5;124m\"\u001b[39m\u001b[38;5;124m_encoder\u001b[39m\u001b[38;5;124m\"\u001b[39m)\n\u001b[1;32m      5\u001b[0m \u001b[38;5;28mprint\u001b[39m(latest_checkpoint_file)\n\u001b[1;32m      6\u001b[0m loaded_e_map \u001b[38;5;241m=\u001b[39m em\u001b[38;5;241m.\u001b[39mEncoderMap\u001b[38;5;241m.\u001b[39mfrom_checkpoint(latest_checkpoint_file, overwrite_tensorboard_bool\u001b[38;5;241m=\u001b[39m\u001b[38;5;28;01mTrue\u001b[39;00m)\n",
      "\u001b[0;31mIndexError\u001b[0m: list index out of range"
     ]
    }
   ],
   "source": [
    "# get the most recent file\n",
    "import os\n",
    "from pathlib import Path\n",
    "latest_checkpoint_file = str(list(sorted(Path(\"runs/asp7\").rglob(\"*model*\"), key=os.path.getmtime, reverse=True))[0]).rstrip(\"_decoder\").rstrip(\"_encoder\")\n",
    "print(latest_checkpoint_file)\n",
    "loaded_e_map = em.EncoderMap.from_checkpoint(latest_checkpoint_file, overwrite_tensorboard_bool=True)"
   ]
  },
  {
   "cell_type": "markdown",
   "metadata": {},
   "source": [
    "Now we are finished with loading and we can for example use the loaded EncoderMap object to project data to the low_dimensional space and plot the result:"
   ]
  },
  {
   "cell_type": "code",
   "execution_count": 18,
   "metadata": {
    "ExecuteTime": {
     "end_time": "2022-03-16T12:09:16.857966Z",
     "start_time": "2022-03-16T12:09:16.765457Z"
    },
    "execution": {
     "iopub.execute_input": "2023-02-01T07:26:39.733952Z",
     "iopub.status.busy": "2023-02-01T07:26:39.733592Z",
     "iopub.status.idle": "2023-02-01T07:26:39.756886Z",
     "shell.execute_reply": "2023-02-01T07:26:39.756017Z"
    }
   },
   "outputs": [
    {
     "ename": "NameError",
     "evalue": "name 'e_map' is not defined",
     "output_type": "error",
     "traceback": [
      "\u001b[0;31m---------------------------------------------------------------------------\u001b[0m",
      "\u001b[0;31mNameError\u001b[0m                                 Traceback (most recent call last)",
      "Cell \u001b[0;32mIn[18], line 1\u001b[0m\n\u001b[0;32m----> 1\u001b[0m low_d_projection \u001b[38;5;241m=\u001b[39m \u001b[43me_map\u001b[49m\u001b[38;5;241m.\u001b[39mencode(dihedrals)\n\u001b[1;32m      3\u001b[0m \u001b[38;5;66;03m# Plotting:\u001b[39;00m\n\u001b[1;32m      4\u001b[0m get_ipython()\u001b[38;5;241m.\u001b[39mrun_line_magic(\u001b[38;5;124m'\u001b[39m\u001b[38;5;124mmatplotlib\u001b[39m\u001b[38;5;124m'\u001b[39m, \u001b[38;5;124m'\u001b[39m\u001b[38;5;124minline\u001b[39m\u001b[38;5;124m'\u001b[39m)\n",
      "\u001b[0;31mNameError\u001b[0m: name 'e_map' is not defined"
     ]
    }
   ],
   "source": [
    "low_d_projection = e_map.encode(dihedrals)\n",
    "\n",
    "# Plotting:\n",
    "%matplotlib inline\n",
    "fig, ax = plt.subplots()\n",
    "ax.plot(low_d_projection[:, 0], low_d_projection[:, 1], linestyle=\"\", marker=\".\",\n",
    "         markersize=5, color=\"0.7\", alpha=0.1)\n",
    "for i in range(9):\n",
    "    mask = cluster_ids == i + 1\n",
    "    ax.plot(low_d_projection[:, 0][mask], low_d_projection[:, 1][mask], label=str(i),\n",
    "             linestyle=\"\", marker=\".\", markersize=5, alpha=0.3)\n",
    "\n",
    "legend = ax.legend()\n",
    "for lh in legend.legendHandles:\n",
    "    if hasattr(lh, \"legmarker\"):\n",
    "        lh.legmarker.set_alpha(1)"
   ]
  },
  {
   "cell_type": "markdown",
   "metadata": {},
   "source": [
    "### Generate Molecular Conformations\n",
    "Already in the cube example, you have seen that with EncoderMap it is not only possible to project points to the low-dimensional space. Also, a projection of low-dimensional points into the high-dimensional space is possible. \n",
    "\n",
    "Here, we will use a tool form the EncoderMap library to interactively select a path in the low-dimensional map. We will project points along this path into the high-dimensional dihedral space, and use these dihedrals to reconstruct molecular conformations. This can be very useful to explore the landscape an to see what changes in the molecular conformation going from one cluster to another.\n",
    "\n",
    "The next cell instantiates a class with which you can interact with the low-dimensional projection of the Autoencoder. You can select clusters with the `Polygon`, `Ellipse,`, `Rectangle` and `Lasso` tools. The clusters will be selected fron the input conformations in `asp7.xtc`.\n",
    "\n",
    "More interesting is the `Bezier` and `Path` tool. With these you can generate molecular conformations from a path in the latent space.\n",
    "\n",
    "Click `Set Points` and then `Write`/`Generate` to make your own clusters/paths. You can have a look at what you selected using the `sess.view` attribute of the InteractivePlotting class. For this you need to have nglview installed.\n",
    "\n",
    "Give the InteractivePlotting a try. We would like to hear your feedback at GitHub.\n",
    "\n",
    "**Note:** Sometime the `notebook` backend of matplotlib does not behave well and will not work with the InteractivePlotting class. Try switching to a different backend with\n",
    "\n",
    "```python\n",
    "%matploltib qt5\n",
    "```\n",
    "\n",
    "Sadly, you need to restart the Kernel before switching. We hope you saved your trained EncoderMap."
   ]
  },
  {
   "cell_type": "code",
   "execution_count": 19,
   "metadata": {
    "ExecuteTime": {
     "end_time": "2022-06-01T08:20:31.830392Z",
     "start_time": "2022-06-01T08:20:30.113292Z"
    },
    "execution": {
     "iopub.execute_input": "2023-02-01T07:26:39.759846Z",
     "iopub.status.busy": "2023-02-01T07:26:39.759334Z",
     "iopub.status.idle": "2023-02-01T07:26:39.776627Z",
     "shell.execute_reply": "2023-02-01T07:26:39.775224Z"
    }
   },
   "outputs": [
    {
     "ename": "NameError",
     "evalue": "name 'em' is not defined",
     "output_type": "error",
     "traceback": [
      "\u001b[0;31m---------------------------------------------------------------------------\u001b[0m",
      "\u001b[0;31mNameError\u001b[0m                                 Traceback (most recent call last)",
      "Cell \u001b[0;32mIn[19], line 1\u001b[0m\n\u001b[0;32m----> 1\u001b[0m sess \u001b[38;5;241m=\u001b[39m \u001b[43mem\u001b[49m\u001b[38;5;241m.\u001b[39mInteractivePlotting(e_map, \u001b[38;5;124m\"\u001b[39m\u001b[38;5;124masp7.xtc\u001b[39m\u001b[38;5;124m\"\u001b[39m, data\u001b[38;5;241m=\u001b[39mlow_d_projection,\n\u001b[1;32m      2\u001b[0m                               top\u001b[38;5;241m=\u001b[39m\u001b[38;5;124m'\u001b[39m\u001b[38;5;124masp7.pdb\u001b[39m\u001b[38;5;124m'\u001b[39m, scatter_kws\u001b[38;5;241m=\u001b[39m{\u001b[38;5;124m'\u001b[39m\u001b[38;5;124ms\u001b[39m\u001b[38;5;124m'\u001b[39m: \u001b[38;5;241m2\u001b[39m})\n",
      "\u001b[0;31mNameError\u001b[0m: name 'em' is not defined"
     ]
    }
   ],
   "source": [
    "sess = em.InteractivePlotting(e_map, \"asp7.xtc\", data=low_d_projection,\n",
    "                              top='asp7.pdb', scatter_kws={'s': 2})"
   ]
  },
  {
   "cell_type": "code",
   "execution_count": 20,
   "metadata": {
    "ExecuteTime": {
     "end_time": "2022-03-16T12:11:43.763013Z",
     "start_time": "2022-03-16T12:11:42.357328Z"
    },
    "execution": {
     "iopub.execute_input": "2023-02-01T07:26:39.780238Z",
     "iopub.status.busy": "2023-02-01T07:26:39.778996Z",
     "iopub.status.idle": "2023-02-01T07:26:39.794864Z",
     "shell.execute_reply": "2023-02-01T07:26:39.793834Z"
    }
   },
   "outputs": [
    {
     "ename": "NameError",
     "evalue": "name 'sess' is not defined",
     "output_type": "error",
     "traceback": [
      "\u001b[0;31m---------------------------------------------------------------------------\u001b[0m",
      "\u001b[0;31mNameError\u001b[0m                                 Traceback (most recent call last)",
      "Cell \u001b[0;32mIn[20], line 1\u001b[0m\n\u001b[0;32m----> 1\u001b[0m \u001b[43msess\u001b[49m\u001b[38;5;241m.\u001b[39mview\n",
      "\u001b[0;31mNameError\u001b[0m: name 'sess' is not defined"
     ]
    }
   ],
   "source": [
    "sess.view"
   ]
  },
  {
   "cell_type": "markdown",
   "metadata": {},
   "source": [
    "As backbone dihedrals contain no information about the side-chains, only the backbone of the molecule can be reconstructed. \n",
    "In case the generated conformations change very abruptly it might be sensible to increase the regularization constant to obtain a smoother representation. If the generated conformations along a path are not changing at all, the regularization is probably to strong and prevents the network form generating different conformations."
   ]
  },
  {
   "cell_type": "markdown",
   "metadata": {
    "pycharm": {
     "name": "#%% md\n"
    }
   },
   "source": [
    "### Conclusion\n",
    "\n",
    "In this tutorial we applied EncoderMap to a molecular system. You have learned how to monitor the EncoderMap training procedure with TensorBoard, how to restore previously saved EncoderMaps and how to generate Molecular conformations using the path selection tool."
   ]
  }
 ],
 "metadata": {
  "kernelspec": {
   "display_name": "Python 3 (ipykernel)",
   "language": "python",
   "name": "python3"
  },
  "language_info": {
   "codemirror_mode": {
    "name": "ipython",
    "version": 3
   },
   "file_extension": ".py",
   "mimetype": "text/x-python",
   "name": "python",
   "nbconvert_exporter": "python",
   "pygments_lexer": "ipython3",
   "version": "3.9.16"
  },
  "latex_envs": {
   "LaTeX_envs_menu_present": true,
   "autoclose": false,
   "autocomplete": true,
   "bibliofile": "biblio.bib",
   "cite_by": "apalike",
   "current_citInitial": 1,
   "eqLabelWithNumbers": true,
   "eqNumInitial": 1,
   "hotkeys": {
    "equation": "Ctrl-E",
    "itemize": "Ctrl-I"
   },
   "labels_anchors": false,
   "latex_user_defs": false,
   "report_style_numbering": false,
   "user_envs_cfg": false
  },
  "toc": {
   "base_numbering": 1,
   "nav_menu": {},
   "number_sections": true,
   "sideBar": true,
   "skip_h1_title": false,
   "title_cell": "Table of Contents",
   "title_sidebar": "Contents",
   "toc_cell": false,
   "toc_position": {},
   "toc_section_display": true,
   "toc_window_display": false
  },
  "widgets": {
   "application/vnd.jupyter.widget-state+json": {
    "state": {
     "5795e43a496745d2beaddfaa27bc6938": {
      "model_module": "nglview-js-widgets",
      "model_module_version": "3.0.1",
      "model_name": "ColormakerRegistryModel",
      "state": {
       "_dom_classes": [],
       "_model_module": "nglview-js-widgets",
       "_model_module_version": "3.0.1",
       "_model_name": "ColormakerRegistryModel",
       "_msg_ar": [],
       "_msg_q": [],
       "_ready": false,
       "_view_count": null,
       "_view_module": "nglview-js-widgets",
       "_view_module_version": "3.0.1",
       "_view_name": "ColormakerRegistryView",
       "layout": "IPY_MODEL_60d234cac51f428f91f8b384b3f3694e",
       "tabbable": null,
       "tooltip": null
      }
     },
     "60d234cac51f428f91f8b384b3f3694e": {
      "model_module": "@jupyter-widgets/base",
      "model_module_version": "2.0.0",
      "model_name": "LayoutModel",
      "state": {
       "_model_module": "@jupyter-widgets/base",
       "_model_module_version": "2.0.0",
       "_model_name": "LayoutModel",
       "_view_count": null,
       "_view_module": "@jupyter-widgets/base",
       "_view_module_version": "2.0.0",
       "_view_name": "LayoutView",
       "align_content": null,
       "align_items": null,
       "align_self": null,
       "border_bottom": null,
       "border_left": null,
       "border_right": null,
       "border_top": null,
       "bottom": null,
       "display": null,
       "flex": null,
       "flex_flow": null,
       "grid_area": null,
       "grid_auto_columns": null,
       "grid_auto_flow": null,
       "grid_auto_rows": null,
       "grid_column": null,
       "grid_gap": null,
       "grid_row": null,
       "grid_template_areas": null,
       "grid_template_columns": null,
       "grid_template_rows": null,
       "height": null,
       "justify_content": null,
       "justify_items": null,
       "left": null,
       "margin": null,
       "max_height": null,
       "max_width": null,
       "min_height": null,
       "min_width": null,
       "object_fit": null,
       "object_position": null,
       "order": null,
       "overflow": null,
       "padding": null,
       "right": null,
       "top": null,
       "visibility": null,
       "width": null
      }
     }
    },
    "version_major": 2,
    "version_minor": 0
   }
  }
 },
 "nbformat": 4,
 "nbformat_minor": 2
}
