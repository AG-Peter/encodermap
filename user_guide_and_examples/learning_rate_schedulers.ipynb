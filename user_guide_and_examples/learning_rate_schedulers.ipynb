{
 "cells": [
  {
   "cell_type": "markdown",
   "id": "3f6761ef",
   "metadata": {},
   "source": [
    "# Learning Rate Scheduler\n",
    "\n",
    "Run this notebook on Google Colab:\n",
    "\n",
    "[![Open in Colab](https://colab.research.google.com/assets/colab-badge.svg)](https://colab.research.google.com/github/AG-Peter/encodermap/blob/main/tutorials/notebooks_customization/learning_rate_schedulers.ipynb)\n",
    "\n",
    "Find the documentation of EncoderMap:\n",
    "\n",
    "https://ag-peter.github.io/encodermap\n",
    "\n",
    "### For Google colab only:\n",
    "\n",
    "If you're on Google colab, please uncomment these lines and install EncoderMap."
   ]
  },
  {
   "cell_type": "code",
   "execution_count": 1,
   "id": "408f06e7",
   "metadata": {
    "execution": {
     "iopub.execute_input": "2023-02-01T15:59:18.068750Z",
     "iopub.status.busy": "2023-02-01T15:59:18.068384Z",
     "iopub.status.idle": "2023-02-01T15:59:18.071665Z",
     "shell.execute_reply": "2023-02-01T15:59:18.071121Z"
    }
   },
   "outputs": [],
   "source": [
    "# !wget https://raw.githubusercontent.com/AG-Peter/encodermap/main/tutorials/install_encodermap_google_colab.sh\n",
    "# !sudo bash install_encodermap_google_colab.sh"
   ]
  },
  {
   "cell_type": "markdown",
   "id": "016b78d1",
   "metadata": {},
   "source": [
    "If you're on Google Colab, you also want to download the data we will use:"
   ]
  },
  {
   "cell_type": "code",
   "execution_count": 2,
   "id": "16654191",
   "metadata": {
    "execution": {
     "iopub.execute_input": "2023-02-01T15:59:18.074531Z",
     "iopub.status.busy": "2023-02-01T15:59:18.074124Z",
     "iopub.status.idle": "2023-02-01T15:59:18.077026Z",
     "shell.execute_reply": "2023-02-01T15:59:18.076446Z"
    }
   },
   "outputs": [],
   "source": [
    "# !wget https://raw.githubusercontent.com/AG-Peter/encodermap/main/tutorials/notebooks_starter/asp7.csv"
   ]
  },
  {
   "cell_type": "markdown",
   "id": "43decefb",
   "metadata": {},
   "source": [
    "## Primer\n",
    "\n",
    "In this tutorial you will learn how to use the `LearningRateScheduler` to dynamically alter the learning rate of your encodermap trainings. As usual we will begin by importing some modules."
   ]
  },
  {
   "cell_type": "code",
   "execution_count": 3,
   "id": "c6be3e13",
   "metadata": {
    "execution": {
     "iopub.execute_input": "2023-02-01T15:59:18.079718Z",
     "iopub.status.busy": "2023-02-01T15:59:18.079320Z",
     "iopub.status.idle": "2023-02-01T15:59:18.338006Z",
     "shell.execute_reply": "2023-02-01T15:59:18.337359Z"
    }
   },
   "outputs": [
    {
     "ename": "ModuleNotFoundError",
     "evalue": "No module named 'encodermap.autoencoder'",
     "output_type": "error",
     "traceback": [
      "\u001b[0;31m---------------------------------------------------------------------------\u001b[0m",
      "\u001b[0;31mModuleNotFoundError\u001b[0m                       Traceback (most recent call last)",
      "Cell \u001b[0;32mIn[3], line 2\u001b[0m\n\u001b[1;32m      1\u001b[0m \u001b[38;5;28;01mimport\u001b[39;00m \u001b[38;5;21;01mnumpy\u001b[39;00m \u001b[38;5;28;01mas\u001b[39;00m \u001b[38;5;21;01mnp\u001b[39;00m\n\u001b[0;32m----> 2\u001b[0m \u001b[38;5;28;01mimport\u001b[39;00m \u001b[38;5;21;01mencodermap\u001b[39;00m \u001b[38;5;28;01mas\u001b[39;00m \u001b[38;5;21;01mem\u001b[39;00m\n\u001b[1;32m      3\u001b[0m \u001b[38;5;28;01mimport\u001b[39;00m \u001b[38;5;21;01mtensorflow\u001b[39;00m \u001b[38;5;28;01mas\u001b[39;00m \u001b[38;5;21;01mtf\u001b[39;00m\n\u001b[1;32m      4\u001b[0m \u001b[38;5;28;01mimport\u001b[39;00m \u001b[38;5;21;01mpandas\u001b[39;00m \u001b[38;5;28;01mas\u001b[39;00m \u001b[38;5;21;01mpd\u001b[39;00m\n",
      "File \u001b[0;32m/opt/hostedtoolcache/Python/3.9.16/x64/lib/python3.9/site-packages/encodermap/__init__.py:94\u001b[0m\n\u001b[1;32m     88\u001b[0m \u001b[38;5;66;03m################################################################################\u001b[39;00m\n\u001b[1;32m     89\u001b[0m \u001b[38;5;66;03m# Imports\u001b[39;00m\n\u001b[1;32m     90\u001b[0m \u001b[38;5;66;03m################################################################################\u001b[39;00m\n\u001b[1;32m     93\u001b[0m \u001b[38;5;28;01mfrom\u001b[39;00m \u001b[38;5;21;01m.\u001b[39;00m\u001b[38;5;21;01m_version\u001b[39;00m \u001b[38;5;28;01mimport\u001b[39;00m __version__\n\u001b[0;32m---> 94\u001b[0m \u001b[38;5;28;01mfrom\u001b[39;00m \u001b[38;5;21;01m.\u001b[39;00m\u001b[38;5;21;01mautoencoder\u001b[39;00m\u001b[38;5;21;01m.\u001b[39;00m\u001b[38;5;21;01mautoencoder\u001b[39;00m \u001b[38;5;28;01mimport\u001b[39;00m (\n\u001b[1;32m     95\u001b[0m     AngleDihedralCartesianEncoderMap,\n\u001b[1;32m     96\u001b[0m     Autoencoder,\n\u001b[1;32m     97\u001b[0m     EncoderMap,\n\u001b[1;32m     98\u001b[0m )\n\u001b[1;32m     99\u001b[0m \u001b[38;5;28;01mfrom\u001b[39;00m \u001b[38;5;21;01m.\u001b[39;00m\u001b[38;5;21;01mcallbacks\u001b[39;00m\u001b[38;5;21;01m.\u001b[39;00m\u001b[38;5;21;01mcallbacks\u001b[39;00m \u001b[38;5;28;01mimport\u001b[39;00m EncoderMapBaseCallback\n\u001b[1;32m    100\u001b[0m \u001b[38;5;28;01mfrom\u001b[39;00m \u001b[38;5;21;01m.\u001b[39;00m\u001b[38;5;21;01mloading\u001b[39;00m \u001b[38;5;28;01mimport\u001b[39;00m features\n",
      "\u001b[0;31mModuleNotFoundError\u001b[0m: No module named 'encodermap.autoencoder'"
     ]
    }
   ],
   "source": [
    "import numpy as np\n",
    "import encodermap as em\n",
    "import tensorflow as tf\n",
    "import pandas as pd"
   ]
  },
  {
   "cell_type": "markdown",
   "id": "05def998",
   "metadata": {},
   "source": [
    "We wil work in the directory `runs/lr_scheduler`. So we will create it and then worry about tensorflow later."
   ]
  },
  {
   "cell_type": "code",
   "execution_count": 4,
   "id": "37cb6a9c",
   "metadata": {
    "execution": {
     "iopub.execute_input": "2023-02-01T15:59:18.341130Z",
     "iopub.status.busy": "2023-02-01T15:59:18.340600Z",
     "iopub.status.idle": "2023-02-01T15:59:18.344530Z",
     "shell.execute_reply": "2023-02-01T15:59:18.343950Z"
    }
   },
   "outputs": [],
   "source": [
    "import os\n",
    "os.makedirs('runs/lr_scheduler', exist_ok=True)"
   ]
  },
  {
   "cell_type": "markdown",
   "id": "c1063547",
   "metadata": {},
   "source": [
    "## Log the current learning rate to Tensorboard\n",
    "\n",
    "Before we implement some dynamic learning rates we want to find a way to log the learning rate to tensorboard. We will log the training to `runs/lr_scheduler` so navigate to this directory with\n",
    "\n",
    "```bash\n",
    "$ cd runs/lr_scheduler\n",
    "```\n",
    "\n",
    "and start tensorboard.\n",
    "\n",
    "```bash\n",
    "$ tensorboard --logdir . --reload_multifile True\n",
    "```\n",
    "You should now be able to open TensorBoard in your webbrowser on port 6006.\n",
    "0.0.0.0:6006 or 127.0.0.1:6006\n",
    "\n",
    "If you're on Google colab, you can start tensorboard by uncommenting the next cell:"
   ]
  },
  {
   "cell_type": "code",
   "execution_count": 5,
   "id": "7b5bcabb",
   "metadata": {
    "execution": {
     "iopub.execute_input": "2023-02-01T15:59:18.347076Z",
     "iopub.status.busy": "2023-02-01T15:59:18.346863Z",
     "iopub.status.idle": "2023-02-01T15:59:18.350595Z",
     "shell.execute_reply": "2023-02-01T15:59:18.350013Z"
    }
   },
   "outputs": [],
   "source": [
    "# %load_ext tensorboard\n",
    "# %tensorboard --logdir ."
   ]
  },
  {
   "cell_type": "markdown",
   "id": "563c9b43",
   "metadata": {},
   "source": [
    "To write our current learning rate to tensorboard we will use `EncoderMap`'s `EncoderMapBaseCallback` and create a subclass of it.\n",
    "\n",
    "We don't even need to define an `__init__()` method, as we can just use the parent's class `__init__()` method. We only need to overwrite either the `on_summary_step(self, batch, logs={})` or the `on_checkpoint_step(self, batch, logs={})` class methods. This depends, whether you want to execute the method every `summary_step` steps or every `checkpoint_steps`. The difference between the two can be taken from `EncoderMap`'s `Parameter` classes."
   ]
  },
  {
   "cell_type": "code",
   "execution_count": 6,
   "id": "36b96f2e",
   "metadata": {
    "execution": {
     "iopub.execute_input": "2023-02-01T15:59:18.353690Z",
     "iopub.status.busy": "2023-02-01T15:59:18.353230Z",
     "iopub.status.idle": "2023-02-01T15:59:18.368808Z",
     "shell.execute_reply": "2023-02-01T15:59:18.368226Z"
    }
   },
   "outputs": [
    {
     "ename": "NameError",
     "evalue": "name 'em' is not defined",
     "output_type": "error",
     "traceback": [
      "\u001b[0;31m---------------------------------------------------------------------------\u001b[0m",
      "\u001b[0;31mNameError\u001b[0m                                 Traceback (most recent call last)",
      "Cell \u001b[0;32mIn[6], line 1\u001b[0m\n\u001b[0;32m----> 1\u001b[0m \u001b[38;5;28mprint\u001b[39m(\u001b[43mem\u001b[49m\u001b[38;5;241m.\u001b[39mParameters\u001b[38;5;241m.\u001b[39mdefaults_description())\n",
      "\u001b[0;31mNameError\u001b[0m: name 'em' is not defined"
     ]
    }
   ],
   "source": [
    "print(em.Parameters.defaults_description())"
   ]
  },
  {
   "cell_type": "markdown",
   "id": "ce1be9cf",
   "metadata": {},
   "source": [
    "Here's the Logger:"
   ]
  },
  {
   "cell_type": "code",
   "execution_count": 7,
   "id": "3c34f6e7",
   "metadata": {
    "execution": {
     "iopub.execute_input": "2023-02-01T15:59:18.371964Z",
     "iopub.status.busy": "2023-02-01T15:59:18.371498Z",
     "iopub.status.idle": "2023-02-01T15:59:18.389337Z",
     "shell.execute_reply": "2023-02-01T15:59:18.388754Z"
    }
   },
   "outputs": [
    {
     "ename": "NameError",
     "evalue": "name 'em' is not defined",
     "output_type": "error",
     "traceback": [
      "\u001b[0;31m---------------------------------------------------------------------------\u001b[0m",
      "\u001b[0;31mNameError\u001b[0m                                 Traceback (most recent call last)",
      "Cell \u001b[0;32mIn[7], line 1\u001b[0m\n\u001b[0;32m----> 1\u001b[0m \u001b[38;5;28;01mclass\u001b[39;00m \u001b[38;5;21;01mLearningRateLogger\u001b[39;00m(\u001b[43mem\u001b[49m\u001b[38;5;241m.\u001b[39mEncoderMapBaseCallback):\n\u001b[1;32m      2\u001b[0m     \u001b[38;5;28;01mdef\u001b[39;00m \u001b[38;5;21mon_summary_step\u001b[39m(\u001b[38;5;28mself\u001b[39m, step, logs\u001b[38;5;241m=\u001b[39m\u001b[38;5;28;01mNone\u001b[39;00m):\n\u001b[1;32m      3\u001b[0m         \u001b[38;5;28;01mwith\u001b[39;00m tf\u001b[38;5;241m.\u001b[39mname_scope(\u001b[38;5;124m\"\u001b[39m\u001b[38;5;124mLearning Rate\u001b[39m\u001b[38;5;124m\"\u001b[39m):\n",
      "\u001b[0;31mNameError\u001b[0m: name 'em' is not defined"
     ]
    }
   ],
   "source": [
    "class LearningRateLogger(em.EncoderMapBaseCallback):\n",
    "    def on_summary_step(self, step, logs=None):\n",
    "        with tf.name_scope(\"Learning Rate\"):\n",
    "            tf.summary.scalar('current learning rate', self.model.optimizer.lr, step=step)"
   ]
  },
  {
   "cell_type": "markdown",
   "id": "9f53d462",
   "metadata": {},
   "source": [
    "We can now create an `EncoderMap` class and add our new callback. Note, how we instantiate our subclass by providing an instance of the `Parameters` class. That's how the callback knows what `summary_step` is."
   ]
  },
  {
   "cell_type": "code",
   "execution_count": 8,
   "id": "9bf99bcc",
   "metadata": {
    "execution": {
     "iopub.execute_input": "2023-02-01T15:59:18.392232Z",
     "iopub.status.busy": "2023-02-01T15:59:18.392014Z",
     "iopub.status.idle": "2023-02-01T15:59:18.411418Z",
     "shell.execute_reply": "2023-02-01T15:59:18.410843Z"
    }
   },
   "outputs": [
    {
     "ename": "NameError",
     "evalue": "name 'pd' is not defined",
     "output_type": "error",
     "traceback": [
      "\u001b[0;31m---------------------------------------------------------------------------\u001b[0m",
      "\u001b[0;31mNameError\u001b[0m                                 Traceback (most recent call last)",
      "Cell \u001b[0;32mIn[8], line 1\u001b[0m\n\u001b[0;32m----> 1\u001b[0m df \u001b[38;5;241m=\u001b[39m \u001b[43mpd\u001b[49m\u001b[38;5;241m.\u001b[39mread_csv(\u001b[38;5;124m'\u001b[39m\u001b[38;5;124masp7.csv\u001b[39m\u001b[38;5;124m'\u001b[39m)\n\u001b[1;32m      2\u001b[0m dihedrals \u001b[38;5;241m=\u001b[39m df\u001b[38;5;241m.\u001b[39miloc[:,:\u001b[38;5;241m-\u001b[39m\u001b[38;5;241m1\u001b[39m]\u001b[38;5;241m.\u001b[39mvalues\u001b[38;5;241m.\u001b[39mastype(np\u001b[38;5;241m.\u001b[39mfloat32)\n\u001b[1;32m      3\u001b[0m cluster_ids \u001b[38;5;241m=\u001b[39m df\u001b[38;5;241m.\u001b[39miloc[:,\u001b[38;5;241m-\u001b[39m\u001b[38;5;241m1\u001b[39m]\u001b[38;5;241m.\u001b[39mvalues\n",
      "\u001b[0;31mNameError\u001b[0m: name 'pd' is not defined"
     ]
    }
   ],
   "source": [
    "df = pd.read_csv('asp7.csv')\n",
    "dihedrals = df.iloc[:,:-1].values.astype(np.float32)\n",
    "cluster_ids = df.iloc[:,-1].values\n",
    "\n",
    "parameters = em.Parameters(\n",
    "tensorboard=True,\n",
    "periodicity=2*np.pi,\n",
    "main_path=em.misc.run_path('runs/lr_scheduler'),\n",
    "n_steps=100,\n",
    "summary_step=5\n",
    ")\n",
    "\n",
    "# create an instance of EncoderMap\n",
    "e_map = em.EncoderMap(parameters, dihedrals)\n",
    "\n",
    "# Add an instance of the new Callback\n",
    "e_map.callbacks.append(LearningRateLogger(parameters))"
   ]
  },
  {
   "cell_type": "markdown",
   "id": "e214e7f1",
   "metadata": {},
   "source": [
    "**train**"
   ]
  },
  {
   "cell_type": "code",
   "execution_count": 9,
   "id": "96569684",
   "metadata": {
    "execution": {
     "iopub.execute_input": "2023-02-01T15:59:18.414185Z",
     "iopub.status.busy": "2023-02-01T15:59:18.413968Z",
     "iopub.status.idle": "2023-02-01T15:59:18.429159Z",
     "shell.execute_reply": "2023-02-01T15:59:18.428612Z"
    }
   },
   "outputs": [
    {
     "ename": "NameError",
     "evalue": "name 'e_map' is not defined",
     "output_type": "error",
     "traceback": [
      "\u001b[0;31m---------------------------------------------------------------------------\u001b[0m",
      "\u001b[0;31mNameError\u001b[0m                                 Traceback (most recent call last)",
      "Cell \u001b[0;32mIn[9], line 1\u001b[0m\n\u001b[0;32m----> 1\u001b[0m \u001b[43me_map\u001b[49m\u001b[38;5;241m.\u001b[39mtrain()\n",
      "\u001b[0;31mNameError\u001b[0m: name 'e_map' is not defined"
     ]
    }
   ],
   "source": [
    "e_map.train()"
   ]
  },
  {
   "cell_type": "markdown",
   "id": "c5688138",
   "metadata": {},
   "source": [
    "Here's what Tensorboard should look like:\n",
    "\n",
    "<img src=\"lr_scheduler_1.png\" width=\"800\">\n",
    "\n",
    "A constant learning rate of 0.001"
   ]
  },
  {
   "cell_type": "markdown",
   "id": "598068c0",
   "metadata": {},
   "source": [
    "## Write a learning rate scheduler.\n",
    "\n",
    "We can write a learning rate scheduler either by providing intervals of training steps and the associated learning rate:\n",
    "\n",
    "```python\n",
    "def lr_schedule(step):\n",
    "    \"\"\"\n",
    "    Returns a custom learning rate that decreases as steps progress.\n",
    "    \"\"\"\n",
    "    learning_rate = 0.2\n",
    "    if step > 10:\n",
    "        learning_rate = 0.02\n",
    "    if step > 20:\n",
    "        learning_rate = 0.01\n",
    "    if step > 50:\n",
    "        learning_rate = 0.005\n",
    "```\n",
    "\n",
    "Or by using a function that gives us a learning rate:\n",
    "\n",
    "```python\n",
    "def scheduler(step, lr=1, n_steps=1000):\n",
    "    \"\"\"\n",
    "    Returns a custom learning rate that decreases based on an exp function as steps progress.\n",
    "    \"\"\"\n",
    "    if step < 10:\n",
    "        return lr\n",
    "    else:\n",
    "        return lr * tf.math.exp(-step / n_steps)\n",
    "```\n",
    "\n",
    "Below, is an example combining both:"
   ]
  },
  {
   "cell_type": "code",
   "execution_count": 10,
   "id": "1a37f62f",
   "metadata": {
    "execution": {
     "iopub.execute_input": "2023-02-01T15:59:18.432011Z",
     "iopub.status.busy": "2023-02-01T15:59:18.431784Z",
     "iopub.status.idle": "2023-02-01T15:59:18.436402Z",
     "shell.execute_reply": "2023-02-01T15:59:18.435847Z"
    }
   },
   "outputs": [],
   "source": [
    "def scheduler(step, lr=1):\n",
    "    \"\"\"\n",
    "    Returns a custom learning rate that decreases based on an exp function as steps progress.\n",
    "    \"\"\"\n",
    "    if step < 10:\n",
    "        return lr\n",
    "    else:\n",
    "        return lr * tf.math.exp(-0.1)"
   ]
  },
  {
   "cell_type": "markdown",
   "id": "a848aa1d",
   "metadata": {},
   "source": [
    "This scheduler function can simply be provided to the builtin `keras.callbacks.LearningRateScheduler` callback."
   ]
  },
  {
   "cell_type": "code",
   "execution_count": 11,
   "id": "332faaec",
   "metadata": {
    "execution": {
     "iopub.execute_input": "2023-02-01T15:59:18.439538Z",
     "iopub.status.busy": "2023-02-01T15:59:18.439105Z",
     "iopub.status.idle": "2023-02-01T15:59:18.456032Z",
     "shell.execute_reply": "2023-02-01T15:59:18.455459Z"
    }
   },
   "outputs": [
    {
     "ename": "NameError",
     "evalue": "name 'tf' is not defined",
     "output_type": "error",
     "traceback": [
      "\u001b[0;31m---------------------------------------------------------------------------\u001b[0m",
      "\u001b[0;31mNameError\u001b[0m                                 Traceback (most recent call last)",
      "Cell \u001b[0;32mIn[11], line 1\u001b[0m\n\u001b[0;32m----> 1\u001b[0m callback \u001b[38;5;241m=\u001b[39m \u001b[43mtf\u001b[49m\u001b[38;5;241m.\u001b[39mkeras\u001b[38;5;241m.\u001b[39mcallbacks\u001b[38;5;241m.\u001b[39mLearningRateScheduler(scheduler)\n",
      "\u001b[0;31mNameError\u001b[0m: name 'tf' is not defined"
     ]
    }
   ],
   "source": [
    "callback = tf.keras.callbacks.LearningRateScheduler(scheduler)"
   ]
  },
  {
   "cell_type": "markdown",
   "id": "e5f22dc5",
   "metadata": {},
   "source": [
    "And appended to the list of `callbacks` in the EncoderMap class."
   ]
  },
  {
   "cell_type": "code",
   "execution_count": 12,
   "id": "9087259e",
   "metadata": {
    "execution": {
     "iopub.execute_input": "2023-02-01T15:59:18.459151Z",
     "iopub.status.busy": "2023-02-01T15:59:18.458707Z",
     "iopub.status.idle": "2023-02-01T15:59:18.477466Z",
     "shell.execute_reply": "2023-02-01T15:59:18.476866Z"
    }
   },
   "outputs": [
    {
     "ename": "NameError",
     "evalue": "name 'em' is not defined",
     "output_type": "error",
     "traceback": [
      "\u001b[0;31m---------------------------------------------------------------------------\u001b[0m",
      "\u001b[0;31mNameError\u001b[0m                                 Traceback (most recent call last)",
      "Cell \u001b[0;32mIn[12], line 1\u001b[0m\n\u001b[0;32m----> 1\u001b[0m parameters \u001b[38;5;241m=\u001b[39m \u001b[43mem\u001b[49m\u001b[38;5;241m.\u001b[39mParameters(\n\u001b[1;32m      2\u001b[0m tensorboard\u001b[38;5;241m=\u001b[39m\u001b[38;5;28;01mTrue\u001b[39;00m,\n\u001b[1;32m      3\u001b[0m periodicity\u001b[38;5;241m=\u001b[39m\u001b[38;5;241m2\u001b[39m\u001b[38;5;241m*\u001b[39mnp\u001b[38;5;241m.\u001b[39mpi,\n\u001b[1;32m      4\u001b[0m main_path\u001b[38;5;241m=\u001b[39mem\u001b[38;5;241m.\u001b[39mmisc\u001b[38;5;241m.\u001b[39mrun_path(\u001b[38;5;124m'\u001b[39m\u001b[38;5;124mruns/lr_scheduler\u001b[39m\u001b[38;5;124m'\u001b[39m),\n\u001b[1;32m      5\u001b[0m n_steps\u001b[38;5;241m=\u001b[39m\u001b[38;5;241m50\u001b[39m,\n\u001b[1;32m      6\u001b[0m summary_step\u001b[38;5;241m=\u001b[39m\u001b[38;5;241m5\u001b[39m\n\u001b[1;32m      7\u001b[0m )\n\u001b[1;32m      9\u001b[0m e_map \u001b[38;5;241m=\u001b[39m em\u001b[38;5;241m.\u001b[39mEncoderMap(parameters, dihedrals)\n\u001b[1;32m     10\u001b[0m e_map\u001b[38;5;241m.\u001b[39mcallbacks\u001b[38;5;241m.\u001b[39mappend(LearningRateLogger(parameters))\n",
      "\u001b[0;31mNameError\u001b[0m: name 'em' is not defined"
     ]
    }
   ],
   "source": [
    "parameters = em.Parameters(\n",
    "tensorboard=True,\n",
    "periodicity=2*np.pi,\n",
    "main_path=em.misc.run_path('runs/lr_scheduler'),\n",
    "n_steps=50,\n",
    "summary_step=5\n",
    ")\n",
    "\n",
    "e_map = em.EncoderMap(parameters, dihedrals)\n",
    "e_map.callbacks.append(LearningRateLogger(parameters))\n",
    "e_map.callbacks.append(callback)"
   ]
  },
  {
   "cell_type": "code",
   "execution_count": 13,
   "id": "6b026be4",
   "metadata": {
    "execution": {
     "iopub.execute_input": "2023-02-01T15:59:18.480786Z",
     "iopub.status.busy": "2023-02-01T15:59:18.480390Z",
     "iopub.status.idle": "2023-02-01T15:59:18.495789Z",
     "shell.execute_reply": "2023-02-01T15:59:18.495223Z"
    }
   },
   "outputs": [
    {
     "ename": "NameError",
     "evalue": "name 'e_map' is not defined",
     "output_type": "error",
     "traceback": [
      "\u001b[0;31m---------------------------------------------------------------------------\u001b[0m",
      "\u001b[0;31mNameError\u001b[0m                                 Traceback (most recent call last)",
      "Cell \u001b[0;32mIn[13], line 1\u001b[0m\n\u001b[0;32m----> 1\u001b[0m \u001b[43me_map\u001b[49m\u001b[38;5;241m.\u001b[39mtrain()\n",
      "\u001b[0;31mNameError\u001b[0m: name 'e_map' is not defined"
     ]
    }
   ],
   "source": [
    "e_map.train()"
   ]
  },
  {
   "cell_type": "markdown",
   "id": "7973533f",
   "metadata": {},
   "source": [
    "Here's what Tensorboard should look like:\n",
    "\n",
    "<img src=\"lr_scheduler_2.png\" width=\"800\">"
   ]
  },
  {
   "cell_type": "markdown",
   "id": "23fc18f6",
   "metadata": {},
   "source": [
    "## Conclusion\n",
    "\n",
    "Learning rate schedulers are helpful to prevent overtraining, but still slightly increase the predictive power of your NN model. EncoderMap's modularity allows for them to be simple Plug-In solutions."
   ]
  }
 ],
 "metadata": {
  "language_info": {
   "codemirror_mode": {
    "name": "ipython",
    "version": 3
   },
   "file_extension": ".py",
   "mimetype": "text/x-python",
   "name": "python",
   "nbconvert_exporter": "python",
   "pygments_lexer": "ipython3",
   "version": "3.9.16"
  }
 },
 "nbformat": 4,
 "nbformat_minor": 5
}
