{
 "cells": [
  {
   "cell_type": "markdown",
   "id": "16cc3741",
   "metadata": {},
   "source": [
    "# Logging Custom Images\n",
    "\n",
    "Run this notebook on Google Colab:\n",
    "\n",
    "[![Open in Colab](https://colab.research.google.com/assets/colab-badge.svg)](https://colab.research.google.com/github/AG-Peter/encodermap/blob/main/tutorials/notebooks_customization/writing_custom_images_to_tensorboard.ipynb)\n",
    "\n",
    "Find the documentation of EncoderMap:\n",
    "\n",
    "https://ag-peter.github.io/encodermap\n",
    "\n",
    "### For Google colab only:\n",
    "\n",
    "If you're on Google colab, please uncomment these lines and install EncoderMap."
   ]
  },
  {
   "cell_type": "code",
   "execution_count": 1,
   "id": "daa31ab5",
   "metadata": {
    "execution": {
     "iopub.execute_input": "2023-02-01T15:28:02.262751Z",
     "iopub.status.busy": "2023-02-01T15:28:02.262437Z",
     "iopub.status.idle": "2023-02-01T15:28:02.268718Z",
     "shell.execute_reply": "2023-02-01T15:28:02.267147Z"
    }
   },
   "outputs": [],
   "source": [
    "# !wget https://raw.githubusercontent.com/AG-Peter/encodermap/main/tutorials/install_encodermap_google_colab.sh\n",
    "# !sudo bash install_encodermap_google_colab.sh"
   ]
  },
  {
   "cell_type": "markdown",
   "id": "032d11e1",
   "metadata": {},
   "source": [
    "## Primer\n",
    "\n",
    "\n",
    "In this tutorial we will learn how to write custom images to Tensorboard. This can be done in two ways:\n",
    "\n",
    "- Providing `encodermap.EncoderMap.add_images_to_tensorboard` with addtional functions that return a stringIO buffer object and use the latent space of the Autoencoder.\n",
    "- Writing custom callbacks and adding them to EncoderMap.\n",
    "\n",
    "As usual, we will start to import some packages. Along the usual packages we import the built-in package `io`."
   ]
  },
  {
   "cell_type": "code",
   "execution_count": 2,
   "id": "1e7ec075",
   "metadata": {
    "execution": {
     "iopub.execute_input": "2023-02-01T15:28:02.272473Z",
     "iopub.status.busy": "2023-02-01T15:28:02.272189Z",
     "iopub.status.idle": "2023-02-01T15:28:02.615276Z",
     "shell.execute_reply": "2023-02-01T15:28:02.614327Z"
    }
   },
   "outputs": [
    {
     "ename": "ModuleNotFoundError",
     "evalue": "No module named 'encodermap.autoencoder'",
     "output_type": "error",
     "traceback": [
      "\u001b[0;31m---------------------------------------------------------------------------\u001b[0m",
      "\u001b[0;31mModuleNotFoundError\u001b[0m                       Traceback (most recent call last)",
      "Cell \u001b[0;32mIn[2], line 2\u001b[0m\n\u001b[1;32m      1\u001b[0m \u001b[38;5;28;01mimport\u001b[39;00m \u001b[38;5;21;01mnumpy\u001b[39;00m \u001b[38;5;28;01mas\u001b[39;00m \u001b[38;5;21;01mnp\u001b[39;00m\n\u001b[0;32m----> 2\u001b[0m \u001b[38;5;28;01mimport\u001b[39;00m \u001b[38;5;21;01mencodermap\u001b[39;00m \u001b[38;5;28;01mas\u001b[39;00m \u001b[38;5;21;01mem\u001b[39;00m\n\u001b[1;32m      3\u001b[0m \u001b[38;5;28;01mimport\u001b[39;00m \u001b[38;5;21;01mtensorflow\u001b[39;00m \u001b[38;5;28;01mas\u001b[39;00m \u001b[38;5;21;01mtf\u001b[39;00m\n\u001b[1;32m      4\u001b[0m \u001b[38;5;28;01mimport\u001b[39;00m \u001b[38;5;21;01mmatplotlib\u001b[39;00m\u001b[38;5;21;01m.\u001b[39;00m\u001b[38;5;21;01mpyplot\u001b[39;00m \u001b[38;5;28;01mas\u001b[39;00m \u001b[38;5;21;01mplt\u001b[39;00m\n",
      "File \u001b[0;32m/opt/hostedtoolcache/Python/3.9.16/x64/lib/python3.9/site-packages/encodermap/__init__.py:94\u001b[0m\n\u001b[1;32m     88\u001b[0m \u001b[38;5;66;03m################################################################################\u001b[39;00m\n\u001b[1;32m     89\u001b[0m \u001b[38;5;66;03m# Imports\u001b[39;00m\n\u001b[1;32m     90\u001b[0m \u001b[38;5;66;03m################################################################################\u001b[39;00m\n\u001b[1;32m     93\u001b[0m \u001b[38;5;28;01mfrom\u001b[39;00m \u001b[38;5;21;01mencodermap\u001b[39;00m\u001b[38;5;21;01m.\u001b[39;00m\u001b[38;5;21;01m_version\u001b[39;00m \u001b[38;5;28;01mimport\u001b[39;00m __version__\n\u001b[0;32m---> 94\u001b[0m \u001b[38;5;28;01mfrom\u001b[39;00m \u001b[38;5;21;01mencodermap\u001b[39;00m\u001b[38;5;21;01m.\u001b[39;00m\u001b[38;5;21;01mautoencoder\u001b[39;00m\u001b[38;5;21;01m.\u001b[39;00m\u001b[38;5;21;01mautoencoder\u001b[39;00m \u001b[38;5;28;01mimport\u001b[39;00m (\n\u001b[1;32m     95\u001b[0m     AngleDihedralCartesianEncoderMap,\n\u001b[1;32m     96\u001b[0m     Autoencoder,\n\u001b[1;32m     97\u001b[0m     EncoderMap,\n\u001b[1;32m     98\u001b[0m )\n\u001b[1;32m     99\u001b[0m \u001b[38;5;28;01mfrom\u001b[39;00m \u001b[38;5;21;01mencodermap\u001b[39;00m\u001b[38;5;21;01m.\u001b[39;00m\u001b[38;5;21;01mcallbacks\u001b[39;00m\u001b[38;5;21;01m.\u001b[39;00m\u001b[38;5;21;01mcallbacks\u001b[39;00m \u001b[38;5;28;01mimport\u001b[39;00m EncoderMapBaseCallback\n\u001b[1;32m    100\u001b[0m \u001b[38;5;28;01mfrom\u001b[39;00m \u001b[38;5;21;01mencodermap\u001b[39;00m\u001b[38;5;21;01m.\u001b[39;00m\u001b[38;5;21;01mloading\u001b[39;00m \u001b[38;5;28;01mimport\u001b[39;00m features\n",
      "\u001b[0;31mModuleNotFoundError\u001b[0m: No module named 'encodermap.autoencoder'"
     ]
    }
   ],
   "source": [
    "import numpy as np\n",
    "import encodermap as em\n",
    "import tensorflow as tf\n",
    "import matplotlib.pyplot as plt\n",
    "import matplotlib as mpl\n",
    "import matplotlib\n",
    "import pandas as pd\n",
    "\n",
    "import io\n",
    "\n",
    "%matplotlib inline"
   ]
  },
  {
   "cell_type": "markdown",
   "id": "5ad5afb8",
   "metadata": {},
   "source": [
    "We will use `io` to write a png-file to a buffer (not to disk) and provide that puffer to Tensorboard for visualization. But first, let us think about what to plot."
   ]
  },
  {
   "cell_type": "markdown",
   "id": "41613662",
   "metadata": {},
   "source": [
    "## Logging via a custom function.\n",
    "\n",
    "**Idea:** Plot the inverted-log density of the low-dimensional/bottleneck/latent-space which correlates to the system's free energy surface (not quite, but let's assume it does).\n",
    "\n",
    "First let's start plotting such a graph in pure matploltib. As example data we will use a 2D Gaussian. We know what to expect from a hypothetical free energy landscape of such a point distribution. Low free energies in the middle, where the density is high and high free energies at the fringes, where the points are less dense."
   ]
  },
  {
   "cell_type": "code",
   "execution_count": 3,
   "id": "67414160",
   "metadata": {
    "execution": {
     "iopub.execute_input": "2023-02-01T15:28:02.619389Z",
     "iopub.status.busy": "2023-02-01T15:28:02.619087Z",
     "iopub.status.idle": "2023-02-01T15:28:02.641427Z",
     "shell.execute_reply": "2023-02-01T15:28:02.640491Z"
    }
   },
   "outputs": [
    {
     "ename": "NameError",
     "evalue": "name 'plt' is not defined",
     "output_type": "error",
     "traceback": [
      "\u001b[0;31m---------------------------------------------------------------------------\u001b[0m",
      "\u001b[0;31mNameError\u001b[0m                                 Traceback (most recent call last)",
      "Cell \u001b[0;32mIn[3], line 2\u001b[0m\n\u001b[1;32m      1\u001b[0m xy_data \u001b[38;5;241m=\u001b[39m np\u001b[38;5;241m.\u001b[39mvstack([np\u001b[38;5;241m.\u001b[39mrandom\u001b[38;5;241m.\u001b[39mnormal(size\u001b[38;5;241m=\u001b[39m\u001b[38;5;241m20000\u001b[39m), np\u001b[38;5;241m.\u001b[39mrandom\u001b[38;5;241m.\u001b[39mnormal(size\u001b[38;5;241m=\u001b[39m\u001b[38;5;241m20000\u001b[39m)])\u001b[38;5;241m.\u001b[39mT\n\u001b[0;32m----> 2\u001b[0m \u001b[43mplt\u001b[49m\u001b[38;5;241m.\u001b[39mclose(\u001b[38;5;124m'\u001b[39m\u001b[38;5;124mall\u001b[39m\u001b[38;5;124m'\u001b[39m)\n\u001b[1;32m      3\u001b[0m plt\u001b[38;5;241m.\u001b[39mscatter(\u001b[38;5;241m*\u001b[39mxy_data\u001b[38;5;241m.\u001b[39mT)\n",
      "\u001b[0;31mNameError\u001b[0m: name 'plt' is not defined"
     ]
    }
   ],
   "source": [
    "xy_data = np.vstack([np.random.normal(size=20000), np.random.normal(size=20000)]).T\n",
    "plt.close('all')\n",
    "plt.scatter(*xy_data.T)"
   ]
  },
  {
   "cell_type": "markdown",
   "id": "47fc8e4e",
   "metadata": {},
   "source": [
    "### Matplotlib implementation"
   ]
  },
  {
   "cell_type": "code",
   "execution_count": 4,
   "id": "fba76511",
   "metadata": {
    "execution": {
     "iopub.execute_input": "2023-02-01T15:28:02.645438Z",
     "iopub.status.busy": "2023-02-01T15:28:02.645155Z",
     "iopub.status.idle": "2023-02-01T15:28:02.676790Z",
     "shell.execute_reply": "2023-02-01T15:28:02.675940Z"
    }
   },
   "outputs": [
    {
     "ename": "NameError",
     "evalue": "name 'plt' is not defined",
     "output_type": "error",
     "traceback": [
      "\u001b[0;31m---------------------------------------------------------------------------\u001b[0m",
      "\u001b[0;31mNameError\u001b[0m                                 Traceback (most recent call last)",
      "Cell \u001b[0;32mIn[4], line 20\u001b[0m\n\u001b[1;32m     17\u001b[0m     F[nonzero] \u001b[38;5;241m-\u001b[39m\u001b[38;5;241m=\u001b[39m np\u001b[38;5;241m.\u001b[39mmin(F[nonzero])\n\u001b[1;32m     18\u001b[0m     \u001b[38;5;28;01mreturn\u001b[39;00m x, y, F\n\u001b[0;32m---> 20\u001b[0m \u001b[43mplt\u001b[49m\u001b[38;5;241m.\u001b[39mclose(\u001b[38;5;124m'\u001b[39m\u001b[38;5;124mall\u001b[39m\u001b[38;5;124m'\u001b[39m)\n\u001b[1;32m     22\u001b[0m fig, ax \u001b[38;5;241m=\u001b[39m plt\u001b[38;5;241m.\u001b[39msubplots()\n\u001b[1;32m     24\u001b[0m mappable \u001b[38;5;241m=\u001b[39m plt\u001b[38;5;241m.\u001b[39mcontourf(\u001b[38;5;241m*\u001b[39mto_free_energy(xy_data), cmap\u001b[38;5;241m=\u001b[39m\u001b[38;5;124m'\u001b[39m\u001b[38;5;124mturbo\u001b[39m\u001b[38;5;124m'\u001b[39m, levels\u001b[38;5;241m=\u001b[39m\u001b[38;5;241m100\u001b[39m)\n",
      "\u001b[0;31mNameError\u001b[0m: name 'plt' is not defined"
     ]
    }
   ],
   "source": [
    "def to_free_energy(xy, bins=100):\n",
    "    \"\"\"Adapted from pyemma.plots.plot_free_energy()\"\"\"\n",
    "    \n",
    "    # create histogram\n",
    "    H, xedges, yedges = np.histogram2d(*xy.T, bins=bins)\n",
    "    x = 0.5 * (xedges[:-1] + xedges[1:])\n",
    "    y = 0.5 * (yedges[:-1] + yedges[1:])\n",
    "    \n",
    "    # to density\n",
    "    density = H / float(H.sum())\n",
    "    \n",
    "    # to free energy\n",
    "    F = np.inf * np.ones(shape=H.shape)\n",
    "    nonzero = density.nonzero()\n",
    "    F[nonzero] = - np.log(density[nonzero])\n",
    "    # shift so no zeros happen\n",
    "    F[nonzero] -= np.min(F[nonzero])\n",
    "    return x, y, F\n",
    "\n",
    "plt.close('all')\n",
    "    \n",
    "fig, ax = plt.subplots()\n",
    "\n",
    "mappable = plt.contourf(*to_free_energy(xy_data), cmap='turbo', levels=100)\n",
    "cax = fig.colorbar(mappable, ax=ax)\n",
    "cax.set_label(\"free energy / kT\")"
   ]
  },
  {
   "cell_type": "markdown",
   "id": "4dda4f7b",
   "metadata": {},
   "source": [
    "### Provide this function to EncoderMap\n",
    "\n",
    "We need to make some adjustments to be able to see similar images in tensorboard. First: Everything needs to be contained in a single function, that takes the low-dimensional output of the encoder as input. Second: The function needs to return a tensorflow image.\n",
    "\n",
    "Some other lines we have to add:\n",
    "- `matplotlib.use('Agg')`. Overwrites the current matplotlib backend. So the images created during training are not rendered in the notebook.\n",
    "- buf = io.BytesIO(). Raw bytecode buffer. These are the actual bytes that would have ended up on your disk, if you would have written the png to it."
   ]
  },
  {
   "cell_type": "code",
   "execution_count": 5,
   "id": "554e9f5b",
   "metadata": {
    "execution": {
     "iopub.execute_input": "2023-02-01T15:28:02.681134Z",
     "iopub.status.busy": "2023-02-01T15:28:02.680642Z",
     "iopub.status.idle": "2023-02-01T15:28:02.691618Z",
     "shell.execute_reply": "2023-02-01T15:28:02.690653Z"
    }
   },
   "outputs": [],
   "source": [
    "def free_energy_tensorboard(lowd):\n",
    "    plt.close('all')\n",
    "    matplotlib.use('Agg')  # overwrites current backend of notebook\n",
    "    \n",
    "    # calculate free energy\n",
    "    H, xedges, yedges = np.histogram2d(*lowd.T, bins=50)\n",
    "    x = 0.5 * (xedges[:-1] + xedges[1:])\n",
    "    y = 0.5 * (yedges[:-1] + yedges[1:])\n",
    "    \n",
    "    # to density\n",
    "    density = H / float(H.sum())\n",
    "    \n",
    "    # to free energy\n",
    "    F = np.inf * np.ones(shape=H.shape)\n",
    "    nonzero = density.nonzero()\n",
    "    F[nonzero] = - np.log(density[nonzero])\n",
    "    # shift so no zeros happen\n",
    "    F[nonzero] -= np.min(F[nonzero])\n",
    "    \n",
    "    # actual plotting\n",
    "    fig, ax = plt.subplots()\n",
    "    mappable = plt.contourf(x, y, F, cmap='turbo', levels=100)\n",
    "    cax = fig.colorbar(mappable, ax=ax)\n",
    "    cax.set_label(\"free energy / kT\")\n",
    "    \n",
    "    # BytesIO\n",
    "    buf = io.BytesIO()\n",
    "    plt.savefig(buf, format='png')\n",
    "    buf.seek(0)\n",
    "    \n",
    "    # tensorflow\n",
    "    image = tf.image.decode_png(buf.getvalue(), 4) # 4 is due to RGBA colors.\n",
    "    image = tf.expand_dims(image, 0)\n",
    "    return image"
   ]
  },
  {
   "cell_type": "markdown",
   "id": "dda93548",
   "metadata": {},
   "source": [
    "This function will return a tf.Tensor, that we can now log in tensorboard."
   ]
  },
  {
   "cell_type": "code",
   "execution_count": 6,
   "id": "8d4cc07a",
   "metadata": {
    "execution": {
     "iopub.execute_input": "2023-02-01T15:28:02.696034Z",
     "iopub.status.busy": "2023-02-01T15:28:02.695525Z",
     "iopub.status.idle": "2023-02-01T15:28:02.736438Z",
     "shell.execute_reply": "2023-02-01T15:28:02.735567Z"
    }
   },
   "outputs": [
    {
     "ename": "NameError",
     "evalue": "name 'plt' is not defined",
     "output_type": "error",
     "traceback": [
      "\u001b[0;31m---------------------------------------------------------------------------\u001b[0m",
      "\u001b[0;31mNameError\u001b[0m                                 Traceback (most recent call last)",
      "Cell \u001b[0;32mIn[6], line 1\u001b[0m\n\u001b[0;32m----> 1\u001b[0m \u001b[43mfree_energy_tensorboard\u001b[49m\u001b[43m(\u001b[49m\u001b[43mxy_data\u001b[49m\u001b[43m)\u001b[49m\n",
      "Cell \u001b[0;32mIn[5], line 2\u001b[0m, in \u001b[0;36mfree_energy_tensorboard\u001b[0;34m(lowd)\u001b[0m\n\u001b[1;32m      1\u001b[0m \u001b[38;5;28;01mdef\u001b[39;00m \u001b[38;5;21mfree_energy_tensorboard\u001b[39m(lowd):\n\u001b[0;32m----> 2\u001b[0m     \u001b[43mplt\u001b[49m\u001b[38;5;241m.\u001b[39mclose(\u001b[38;5;124m'\u001b[39m\u001b[38;5;124mall\u001b[39m\u001b[38;5;124m'\u001b[39m)\n\u001b[1;32m      3\u001b[0m     matplotlib\u001b[38;5;241m.\u001b[39muse(\u001b[38;5;124m'\u001b[39m\u001b[38;5;124mAgg\u001b[39m\u001b[38;5;124m'\u001b[39m)  \u001b[38;5;66;03m# overwrites current backend of notebook\u001b[39;00m\n\u001b[1;32m      5\u001b[0m     \u001b[38;5;66;03m# calculate free energy\u001b[39;00m\n",
      "\u001b[0;31mNameError\u001b[0m: name 'plt' is not defined"
     ]
    }
   ],
   "source": [
    "free_energy_tensorboard(xy_data)"
   ]
  },
  {
   "cell_type": "markdown",
   "id": "f411f3d4",
   "metadata": {},
   "source": [
    "### Train EncoderMap with our new function.\n",
    "\n",
    "First get the input data"
   ]
  },
  {
   "cell_type": "code",
   "execution_count": 7,
   "id": "acf79afb",
   "metadata": {
    "execution": {
     "iopub.execute_input": "2023-02-01T15:28:02.740460Z",
     "iopub.status.busy": "2023-02-01T15:28:02.740158Z",
     "iopub.status.idle": "2023-02-01T15:28:02.760172Z",
     "shell.execute_reply": "2023-02-01T15:28:02.759305Z"
    }
   },
   "outputs": [
    {
     "ename": "NameError",
     "evalue": "name 'pd' is not defined",
     "output_type": "error",
     "traceback": [
      "\u001b[0;31m---------------------------------------------------------------------------\u001b[0m",
      "\u001b[0;31mNameError\u001b[0m                                 Traceback (most recent call last)",
      "Cell \u001b[0;32mIn[7], line 1\u001b[0m\n\u001b[0;32m----> 1\u001b[0m df \u001b[38;5;241m=\u001b[39m \u001b[43mpd\u001b[49m\u001b[38;5;241m.\u001b[39mread_csv(\u001b[38;5;124m'\u001b[39m\u001b[38;5;124masp7.csv\u001b[39m\u001b[38;5;124m'\u001b[39m)\n\u001b[1;32m      2\u001b[0m dihedrals \u001b[38;5;241m=\u001b[39m df\u001b[38;5;241m.\u001b[39miloc[:,:\u001b[38;5;241m-\u001b[39m\u001b[38;5;241m1\u001b[39m]\u001b[38;5;241m.\u001b[39mvalues\u001b[38;5;241m.\u001b[39mastype(np\u001b[38;5;241m.\u001b[39mfloat32)\n\u001b[1;32m      3\u001b[0m cluster_ids \u001b[38;5;241m=\u001b[39m df\u001b[38;5;241m.\u001b[39miloc[:,\u001b[38;5;241m-\u001b[39m\u001b[38;5;241m1\u001b[39m]\u001b[38;5;241m.\u001b[39mvalues\n",
      "\u001b[0;31mNameError\u001b[0m: name 'pd' is not defined"
     ]
    }
   ],
   "source": [
    "df = pd.read_csv('asp7.csv')\n",
    "dihedrals = df.iloc[:,:-1].values.astype(np.float32)\n",
    "cluster_ids = df.iloc[:,-1].values\n",
    "print(dihedrals.shape, cluster_ids.shape)\n",
    "print(df.shape)"
   ]
  },
  {
   "cell_type": "markdown",
   "id": "61e5e9e3",
   "metadata": {},
   "source": [
    "Cerate the parameters."
   ]
  },
  {
   "cell_type": "code",
   "execution_count": 8,
   "id": "1e551670",
   "metadata": {
    "execution": {
     "iopub.execute_input": "2023-02-01T15:28:02.764301Z",
     "iopub.status.busy": "2023-02-01T15:28:02.764007Z",
     "iopub.status.idle": "2023-02-01T15:28:02.784594Z",
     "shell.execute_reply": "2023-02-01T15:28:02.783729Z"
    }
   },
   "outputs": [
    {
     "ename": "NameError",
     "evalue": "name 'em' is not defined",
     "output_type": "error",
     "traceback": [
      "\u001b[0;31m---------------------------------------------------------------------------\u001b[0m",
      "\u001b[0;31mNameError\u001b[0m                                 Traceback (most recent call last)",
      "Cell \u001b[0;32mIn[8], line 1\u001b[0m\n\u001b[0;32m----> 1\u001b[0m parameters \u001b[38;5;241m=\u001b[39m \u001b[43mem\u001b[49m\u001b[38;5;241m.\u001b[39mParameters(\n\u001b[1;32m      2\u001b[0m tensorboard\u001b[38;5;241m=\u001b[39m\u001b[38;5;28;01mTrue\u001b[39;00m,\n\u001b[1;32m      3\u001b[0m periodicity\u001b[38;5;241m=\u001b[39m\u001b[38;5;241m2\u001b[39m\u001b[38;5;241m*\u001b[39mnp\u001b[38;5;241m.\u001b[39mpi,\n\u001b[1;32m      4\u001b[0m n_steps\u001b[38;5;241m=\u001b[39m\u001b[38;5;241m100\u001b[39m,\n\u001b[1;32m      5\u001b[0m main_path\u001b[38;5;241m=\u001b[39mem\u001b[38;5;241m.\u001b[39mmisc\u001b[38;5;241m.\u001b[39mrun_path(\u001b[38;5;124m'\u001b[39m\u001b[38;5;124mruns/custom_images\u001b[39m\u001b[38;5;124m'\u001b[39m)\n\u001b[1;32m      6\u001b[0m )\n",
      "\u001b[0;31mNameError\u001b[0m: name 'em' is not defined"
     ]
    }
   ],
   "source": [
    "parameters = em.Parameters(\n",
    "tensorboard=True,\n",
    "periodicity=2*np.pi,\n",
    "n_steps=100,\n",
    "main_path=em.misc.run_path('runs/custom_images')\n",
    ")"
   ]
  },
  {
   "cell_type": "markdown",
   "id": "ae80e333",
   "metadata": {},
   "source": [
    "When calling the method `add_images_to_tensorboard()` we can provide a list of additional functions. That way we can add as much custom functions as we like. In this case, we only add the new `free_energy_tensorboard` function."
   ]
  },
  {
   "cell_type": "code",
   "execution_count": 9,
   "id": "1b3ff4e7",
   "metadata": {
    "execution": {
     "iopub.execute_input": "2023-02-01T15:28:02.788599Z",
     "iopub.status.busy": "2023-02-01T15:28:02.788072Z",
     "iopub.status.idle": "2023-02-01T15:28:02.810238Z",
     "shell.execute_reply": "2023-02-01T15:28:02.809345Z"
    }
   },
   "outputs": [
    {
     "ename": "NameError",
     "evalue": "name 'em' is not defined",
     "output_type": "error",
     "traceback": [
      "\u001b[0;31m---------------------------------------------------------------------------\u001b[0m",
      "\u001b[0;31mNameError\u001b[0m                                 Traceback (most recent call last)",
      "Cell \u001b[0;32mIn[9], line 1\u001b[0m\n\u001b[0;32m----> 1\u001b[0m e_map \u001b[38;5;241m=\u001b[39m \u001b[43mem\u001b[49m\u001b[38;5;241m.\u001b[39mEncoderMap(parameters, dihedrals)\n\u001b[1;32m      2\u001b[0m e_map\u001b[38;5;241m.\u001b[39madd_images_to_tensorboard(dihedrals, image_step\u001b[38;5;241m=\u001b[39m\u001b[38;5;241m1\u001b[39m, additional_fns\u001b[38;5;241m=\u001b[39m[free_energy_tensorboard])\n",
      "\u001b[0;31mNameError\u001b[0m: name 'em' is not defined"
     ]
    }
   ],
   "source": [
    "e_map = em.EncoderMap(parameters, dihedrals)\n",
    "e_map.add_images_to_tensorboard(dihedrals, image_step=1, additional_fns=[free_energy_tensorboard])"
   ]
  },
  {
   "cell_type": "code",
   "execution_count": 10,
   "id": "a374f66f",
   "metadata": {
    "execution": {
     "iopub.execute_input": "2023-02-01T15:28:02.814568Z",
     "iopub.status.busy": "2023-02-01T15:28:02.814281Z",
     "iopub.status.idle": "2023-02-01T15:28:02.834161Z",
     "shell.execute_reply": "2023-02-01T15:28:02.833304Z"
    }
   },
   "outputs": [
    {
     "ename": "NameError",
     "evalue": "name 'e_map' is not defined",
     "output_type": "error",
     "traceback": [
      "\u001b[0;31m---------------------------------------------------------------------------\u001b[0m",
      "\u001b[0;31mNameError\u001b[0m                                 Traceback (most recent call last)",
      "Cell \u001b[0;32mIn[10], line 1\u001b[0m\n\u001b[0;32m----> 1\u001b[0m \u001b[43me_map\u001b[49m\u001b[38;5;241m.\u001b[39mtrain()\n",
      "\u001b[0;31mNameError\u001b[0m: name 'e_map' is not defined"
     ]
    }
   ],
   "source": [
    "e_map.train()"
   ]
  },
  {
   "cell_type": "markdown",
   "id": "389150dc",
   "metadata": {},
   "source": [
    "### Output\n",
    "\n",
    "Start tensorboard locally via:\n",
    "\n",
    "```bash\n",
    "$ tensorboard --logdir . --reload_multifile True\n",
    "```\n",
    "\n",
    "If you're on Google colab, you can use tensorboard by loading the tensorboard extension:"
   ]
  },
  {
   "cell_type": "code",
   "execution_count": 11,
   "id": "2ff35903",
   "metadata": {
    "execution": {
     "iopub.execute_input": "2023-02-01T15:28:02.838249Z",
     "iopub.status.busy": "2023-02-01T15:28:02.837962Z",
     "iopub.status.idle": "2023-02-01T15:28:02.843460Z",
     "shell.execute_reply": "2023-02-01T15:28:02.842510Z"
    }
   },
   "outputs": [],
   "source": [
    "# %load_ext tensorboard\n",
    "# %tensorboard --logdir ."
   ]
  },
  {
   "cell_type": "markdown",
   "id": "f8353f26",
   "metadata": {},
   "source": [
    "Here's what Tensorboard should display:\n",
    "\n",
    "<img src=\"custom_images_1.png\" width=\"800\">\n",
    "\n",
    "After training we can use the `to_free_energy()` to plot the latent space after the training is finished."
   ]
  },
  {
   "cell_type": "code",
   "execution_count": 12,
   "id": "a8580a28",
   "metadata": {
    "execution": {
     "iopub.execute_input": "2023-02-01T15:28:02.847446Z",
     "iopub.status.busy": "2023-02-01T15:28:02.847164Z",
     "iopub.status.idle": "2023-02-01T15:28:03.293766Z",
     "shell.execute_reply": "2023-02-01T15:28:03.292822Z"
    }
   },
   "outputs": [
    {
     "ename": "NameError",
     "evalue": "name 'plt' is not defined",
     "output_type": "error",
     "traceback": [
      "\u001b[0;31m---------------------------------------------------------------------------\u001b[0m",
      "\u001b[0;31mNameError\u001b[0m                                 Traceback (most recent call last)",
      "Cell \u001b[0;32mIn[12], line 22\u001b[0m\n\u001b[1;32m     18\u001b[0m     \u001b[38;5;28;01mreturn\u001b[39;00m x, y, F\n\u001b[1;32m     20\u001b[0m get_ipython()\u001b[38;5;241m.\u001b[39mrun_line_magic(\u001b[38;5;124m'\u001b[39m\u001b[38;5;124mmatplotlib\u001b[39m\u001b[38;5;124m'\u001b[39m, \u001b[38;5;124m'\u001b[39m\u001b[38;5;124mnotebook\u001b[39m\u001b[38;5;124m'\u001b[39m)\n\u001b[0;32m---> 22\u001b[0m \u001b[43mplt\u001b[49m\u001b[38;5;241m.\u001b[39mclose(\u001b[38;5;124m'\u001b[39m\u001b[38;5;124mall\u001b[39m\u001b[38;5;124m'\u001b[39m)\n\u001b[1;32m     24\u001b[0m fig, ax \u001b[38;5;241m=\u001b[39m plt\u001b[38;5;241m.\u001b[39msubplots()\n\u001b[1;32m     26\u001b[0m mappable \u001b[38;5;241m=\u001b[39m plt\u001b[38;5;241m.\u001b[39mcontourf(\u001b[38;5;241m*\u001b[39mto_free_energy(e_map\u001b[38;5;241m.\u001b[39mencode(dihedrals)), cmap\u001b[38;5;241m=\u001b[39m\u001b[38;5;124m'\u001b[39m\u001b[38;5;124mturbo\u001b[39m\u001b[38;5;124m'\u001b[39m, levels\u001b[38;5;241m=\u001b[39m\u001b[38;5;241m100\u001b[39m)\n",
      "\u001b[0;31mNameError\u001b[0m: name 'plt' is not defined"
     ]
    }
   ],
   "source": [
    "def to_free_energy(xy, bins=100):\n",
    "    \"\"\"Adapted from pyemma.plots.plot_free_energy()\"\"\"\n",
    "    \n",
    "    # create histogram\n",
    "    H, xedges, yedges = np.histogram2d(*xy.T, bins=bins)\n",
    "    x = 0.5 * (xedges[:-1] + xedges[1:])\n",
    "    y = 0.5 * (yedges[:-1] + yedges[1:])\n",
    "    \n",
    "    # to density\n",
    "    density = H / float(H.sum())\n",
    "    \n",
    "    # to free energy\n",
    "    F = np.inf * np.ones(shape=H.shape)\n",
    "    nonzero = density.nonzero()\n",
    "    F[nonzero] = - np.log(density[nonzero])\n",
    "    # shift so no zeros happen\n",
    "    F[nonzero] -= np.min(F[nonzero])\n",
    "    return x, y, F\n",
    "\n",
    "%matplotlib notebook\n",
    "\n",
    "plt.close('all')\n",
    "    \n",
    "fig, ax = plt.subplots()\n",
    "\n",
    "mappable = plt.contourf(*to_free_energy(e_map.encode(dihedrals)), cmap='turbo', levels=100)\n",
    "cax = fig.colorbar(mappable, ax=ax)\n",
    "cax.set_label(\"free energy / kT\")"
   ]
  },
  {
   "cell_type": "markdown",
   "id": "f893a365",
   "metadata": {},
   "source": [
    "## Writing custom callbacks\n",
    "\n",
    "Writing custom callbacks gives us much more freedom. We can use all kinds of data, that can be provided at the instantiation of a callback. We can also write the images to drive, and so on. We will use `tf.keras.callbacks.Callback` subclassing to feed the dihedral angles of Asp7 trhough the Autoencoder (encode and decode) and use the output dihedral angles to plot a polar histogram."
   ]
  },
  {
   "cell_type": "markdown",
   "id": "62f6a55e",
   "metadata": {},
   "source": [
    "### Matplotlib\n",
    "\n",
    "We'll use the input dihedrals to develop our plot."
   ]
  },
  {
   "cell_type": "code",
   "execution_count": 13,
   "id": "84baf727",
   "metadata": {
    "execution": {
     "iopub.execute_input": "2023-02-01T15:28:03.298517Z",
     "iopub.status.busy": "2023-02-01T15:28:03.297717Z",
     "iopub.status.idle": "2023-02-01T15:28:03.322619Z",
     "shell.execute_reply": "2023-02-01T15:28:03.320998Z"
    }
   },
   "outputs": [
    {
     "ename": "NameError",
     "evalue": "name 'plt' is not defined",
     "output_type": "error",
     "traceback": [
      "\u001b[0;31m---------------------------------------------------------------------------\u001b[0m",
      "\u001b[0;31mNameError\u001b[0m                                 Traceback (most recent call last)",
      "Cell \u001b[0;32mIn[13], line 3\u001b[0m\n\u001b[1;32m      1\u001b[0m get_ipython()\u001b[38;5;241m.\u001b[39mrun_line_magic(\u001b[38;5;124m'\u001b[39m\u001b[38;5;124mmatplotlib\u001b[39m\u001b[38;5;124m'\u001b[39m, \u001b[38;5;124m'\u001b[39m\u001b[38;5;124mnotebook\u001b[39m\u001b[38;5;124m'\u001b[39m)\n\u001b[0;32m----> 3\u001b[0m \u001b[43mplt\u001b[49m\u001b[38;5;241m.\u001b[39mclose(\u001b[38;5;124m'\u001b[39m\u001b[38;5;124mall\u001b[39m\u001b[38;5;124m'\u001b[39m)\n\u001b[1;32m      5\u001b[0m fig \u001b[38;5;241m=\u001b[39m plt\u001b[38;5;241m.\u001b[39mfigure()\n\u001b[1;32m      6\u001b[0m ax \u001b[38;5;241m=\u001b[39m fig\u001b[38;5;241m.\u001b[39madd_subplot(\u001b[38;5;241m111\u001b[39m, projection\u001b[38;5;241m=\u001b[39m\u001b[38;5;124m'\u001b[39m\u001b[38;5;124mpolar\u001b[39m\u001b[38;5;124m'\u001b[39m)\n",
      "\u001b[0;31mNameError\u001b[0m: name 'plt' is not defined"
     ]
    }
   ],
   "source": [
    "%matplotlib notebook\n",
    "\n",
    "plt.close('all')\n",
    "\n",
    "fig = plt.figure()\n",
    "ax = fig.add_subplot(111, projection='polar')\n",
    "\n",
    "radii, bins = np.histogram(dihedrals, bins=25)\n",
    "widths = np.diff(bins)\n",
    "\n",
    "patches = ax.bar(bins[:-1], radii, align='edge', width=widths, edgecolor='k', fill=True)\n",
    "\n",
    "plt.show()"
   ]
  },
  {
   "cell_type": "markdown",
   "id": "9ef5e77a",
   "metadata": {},
   "source": [
    "### Subclassing a keras callback\n",
    "\n",
    "Subcalssing a keras callback gives us access to these methods:\n",
    "\n",
    "```python\n",
    "class CustomCallback(keras.callbacks.Callback):\n",
    "    def on_train_begin(self, logs=None):\n",
    "        keys = list(logs.keys())\n",
    "        print(\"Starting training; got log keys: {}\".format(keys))\n",
    "\n",
    "    def on_train_end(self, logs=None):\n",
    "        keys = list(logs.keys())\n",
    "        print(\"Stop training; got log keys: {}\".format(keys))\n",
    "\n",
    "    def on_epoch_begin(self, epoch, logs=None):\n",
    "        keys = list(logs.keys())\n",
    "        print(\"Start epoch {} of training; got log keys: {}\".format(epoch, keys))\n",
    "\n",
    "    def on_epoch_end(self, epoch, logs=None):\n",
    "        keys = list(logs.keys())\n",
    "        print(\"End epoch {} of training; got log keys: {}\".format(epoch, keys))\n",
    "\n",
    "    def on_train_batch_begin(self, batch, logs=None):\n",
    "        keys = list(logs.keys())\n",
    "        print(\"...Training: start of batch {}; got log keys: {}\".format(batch, keys))\n",
    "\n",
    "    def on_train_batch_end(self, batch, logs=None):\n",
    "        keys = list(logs.keys())\n",
    "        print(\"...Training: end of batch {}; got log keys: {}\".format(batch, keys))\n",
    "```\n",
    "\n",
    "Additionally, the callback contains the model as an instance variable `self.model`. So let's create our own callback and overwrite the parent class' `on_epoch_end()` method to use for plotting purposes.\n",
    "\n",
    "The method `_polar_plotting()` will follow the same scheme we used for the free energy, i.e. it will return a tensorflow image."
   ]
  },
  {
   "cell_type": "code",
   "execution_count": 14,
   "id": "61352305",
   "metadata": {
    "execution": {
     "iopub.execute_input": "2023-02-01T15:28:03.326639Z",
     "iopub.status.busy": "2023-02-01T15:28:03.326346Z",
     "iopub.status.idle": "2023-02-01T15:28:03.362259Z",
     "shell.execute_reply": "2023-02-01T15:28:03.361211Z"
    }
   },
   "outputs": [
    {
     "ename": "NameError",
     "evalue": "name 'tf' is not defined",
     "output_type": "error",
     "traceback": [
      "\u001b[0;31m---------------------------------------------------------------------------\u001b[0m",
      "\u001b[0;31mNameError\u001b[0m                                 Traceback (most recent call last)",
      "Cell \u001b[0;32mIn[14], line 1\u001b[0m\n\u001b[0;32m----> 1\u001b[0m \u001b[38;5;28;01mclass\u001b[39;00m \u001b[38;5;21;01mPolarHistogramCallback\u001b[39;00m(\u001b[43mtf\u001b[49m\u001b[38;5;241m.\u001b[39mkeras\u001b[38;5;241m.\u001b[39mcallbacks\u001b[38;5;241m.\u001b[39mCallback):\n\u001b[1;32m      2\u001b[0m     \u001b[38;5;28;01mdef\u001b[39;00m \u001b[38;5;21m__init__\u001b[39m(\u001b[38;5;28mself\u001b[39m, inp_data):\n\u001b[1;32m      3\u001b[0m         \u001b[38;5;28msuper\u001b[39m()\u001b[38;5;241m.\u001b[39m\u001b[38;5;21m__init__\u001b[39m()\n",
      "\u001b[0;31mNameError\u001b[0m: name 'tf' is not defined"
     ]
    }
   ],
   "source": [
    "class PolarHistogramCallback(tf.keras.callbacks.Callback):\n",
    "    def __init__(self, inp_data):\n",
    "        super().__init__()\n",
    "        self.inp_data = inp_data\n",
    "        \n",
    "    def on_epoch_end(self, epoch, logs={}):\n",
    "        highd = self.model(self.inp_data)\n",
    "        image = self._polar_plotting(highd)\n",
    "        with tf.name_scope(\"User Provided Plotting Functions\"):\n",
    "            tf.summary.image(f\"Polar Plot at epoch {epoch}\", image, step=epoch)\n",
    "        \n",
    "    def _polar_plotting(self, highd):\n",
    "        plt.close('all')\n",
    "        matplotlib.use('Agg')  # overwrites current backend of notebook\n",
    "\n",
    "        # create figure\n",
    "        fig = plt.figure()\n",
    "        ax = fig.add_subplot(111, projection='polar')\n",
    "\n",
    "        # histogram\n",
    "        radii, bins = np.histogram(highd, bins=25)\n",
    "        widths = np.diff(bins)\n",
    "\n",
    "        # plot the patches\n",
    "        patches = ax.bar(bins[:-1], radii, align='edge', width=widths, edgecolor='k', fill=True)\n",
    "        \n",
    "        # BytesIO\n",
    "        buf = io.BytesIO()\n",
    "        plt.savefig(buf, format='png')\n",
    "        buf.seek(0)\n",
    "\n",
    "        # tensorflow\n",
    "        image = tf.image.decode_png(buf.getvalue(), 4) # 4 is due to RGBA colors.\n",
    "        image = tf.expand_dims(image, 0)\n",
    "        return image"
   ]
  },
  {
   "cell_type": "markdown",
   "id": "197c4f32",
   "metadata": {},
   "source": [
    "### Adding the callback to EncoderMap\n",
    "\n",
    "Before starting the training we will simply append **an instance** of our callback to the `EncoderMap` class' own callbacks list. We don't even have to call the `add_images_to_tensorboard()` method.\n",
    "\n",
    "If we wanted to only create an image every n, or so, epochs, we could provide `em.Parameters` to the `__init__()` method of our new callback and add a line like so:\n",
    "\n",
    "```python\n",
    "if epoch % self.parameters.n_summary_step == 0:\n",
    "    create_image()\n",
    "    ....\n",
    "```"
   ]
  },
  {
   "cell_type": "code",
   "execution_count": 15,
   "id": "9de68504",
   "metadata": {
    "execution": {
     "iopub.execute_input": "2023-02-01T15:28:03.366063Z",
     "iopub.status.busy": "2023-02-01T15:28:03.365780Z",
     "iopub.status.idle": "2023-02-01T15:28:03.387868Z",
     "shell.execute_reply": "2023-02-01T15:28:03.386898Z"
    }
   },
   "outputs": [
    {
     "ename": "NameError",
     "evalue": "name 'em' is not defined",
     "output_type": "error",
     "traceback": [
      "\u001b[0;31m---------------------------------------------------------------------------\u001b[0m",
      "\u001b[0;31mNameError\u001b[0m                                 Traceback (most recent call last)",
      "Cell \u001b[0;32mIn[15], line 1\u001b[0m\n\u001b[0;32m----> 1\u001b[0m parameters \u001b[38;5;241m=\u001b[39m \u001b[43mem\u001b[49m\u001b[38;5;241m.\u001b[39mParameters(\n\u001b[1;32m      2\u001b[0m tensorboard\u001b[38;5;241m=\u001b[39m\u001b[38;5;28;01mTrue\u001b[39;00m,\n\u001b[1;32m      3\u001b[0m n_steps\u001b[38;5;241m=\u001b[39m\u001b[38;5;241m100\u001b[39m,\n\u001b[1;32m      4\u001b[0m periodicity\u001b[38;5;241m=\u001b[39m\u001b[38;5;241m2\u001b[39m\u001b[38;5;241m*\u001b[39mnp\u001b[38;5;241m.\u001b[39mpi,\n\u001b[1;32m      5\u001b[0m main_path\u001b[38;5;241m=\u001b[39mem\u001b[38;5;241m.\u001b[39mmisc\u001b[38;5;241m.\u001b[39mrun_path(\u001b[38;5;124m'\u001b[39m\u001b[38;5;124mruns/custom_images\u001b[39m\u001b[38;5;124m'\u001b[39m)\n\u001b[1;32m      6\u001b[0m )\n",
      "\u001b[0;31mNameError\u001b[0m: name 'em' is not defined"
     ]
    }
   ],
   "source": [
    "parameters = em.Parameters(\n",
    "tensorboard=True,\n",
    "n_steps=100,\n",
    "periodicity=2*np.pi,\n",
    "main_path=em.misc.run_path('runs/custom_images')\n",
    ")"
   ]
  },
  {
   "cell_type": "code",
   "execution_count": 16,
   "id": "7ae87297",
   "metadata": {
    "execution": {
     "iopub.execute_input": "2023-02-01T15:28:03.391763Z",
     "iopub.status.busy": "2023-02-01T15:28:03.391481Z",
     "iopub.status.idle": "2023-02-01T15:28:03.460256Z",
     "shell.execute_reply": "2023-02-01T15:28:03.459340Z"
    }
   },
   "outputs": [
    {
     "ename": "NameError",
     "evalue": "name 'em' is not defined",
     "output_type": "error",
     "traceback": [
      "\u001b[0;31m---------------------------------------------------------------------------\u001b[0m",
      "\u001b[0;31mNameError\u001b[0m                                 Traceback (most recent call last)",
      "Cell \u001b[0;32mIn[16], line 1\u001b[0m\n\u001b[0;32m----> 1\u001b[0m e_map \u001b[38;5;241m=\u001b[39m \u001b[43mem\u001b[49m\u001b[38;5;241m.\u001b[39mEncoderMap(parameters, dihedrals)\n\u001b[1;32m      2\u001b[0m e_map\u001b[38;5;241m.\u001b[39madd_images_to_tensorboard(dihedrals, image_step\u001b[38;5;241m=\u001b[39m\u001b[38;5;241m1\u001b[39m, additional_fns\u001b[38;5;241m=\u001b[39m[free_energy_tensorboard])\n\u001b[1;32m      4\u001b[0m \u001b[38;5;66;03m# add the new callback\u001b[39;00m\n",
      "\u001b[0;31mNameError\u001b[0m: name 'em' is not defined"
     ]
    }
   ],
   "source": [
    "e_map = em.EncoderMap(parameters, dihedrals)\n",
    "e_map.add_images_to_tensorboard(dihedrals, image_step=1, additional_fns=[free_energy_tensorboard])\n",
    "\n",
    "# add the new callback\n",
    "callback = PolarHistogramCallback(dihedrals)\n",
    "e_map.callbacks.append(callback)"
   ]
  },
  {
   "cell_type": "code",
   "execution_count": 17,
   "id": "3a1ab2f4",
   "metadata": {
    "execution": {
     "iopub.execute_input": "2023-02-01T15:28:03.467357Z",
     "iopub.status.busy": "2023-02-01T15:28:03.467028Z",
     "iopub.status.idle": "2023-02-01T15:28:03.486110Z",
     "shell.execute_reply": "2023-02-01T15:28:03.485197Z"
    }
   },
   "outputs": [
    {
     "ename": "NameError",
     "evalue": "name 'e_map' is not defined",
     "output_type": "error",
     "traceback": [
      "\u001b[0;31m---------------------------------------------------------------------------\u001b[0m",
      "\u001b[0;31mNameError\u001b[0m                                 Traceback (most recent call last)",
      "Cell \u001b[0;32mIn[17], line 1\u001b[0m\n\u001b[0;32m----> 1\u001b[0m \u001b[43me_map\u001b[49m\u001b[38;5;241m.\u001b[39mtrain()\n",
      "\u001b[0;31mNameError\u001b[0m: name 'e_map' is not defined"
     ]
    }
   ],
   "source": [
    "e_map.train()"
   ]
  },
  {
   "cell_type": "markdown",
   "id": "489c4e03",
   "metadata": {},
   "source": [
    "### Output\n",
    "\n",
    "The output from Tensorboard could look something like this:\n",
    "\n",
    "<img src=\"custom_images_2.png\" width=\"800\">"
   ]
  },
  {
   "cell_type": "code",
   "execution_count": 18,
   "id": "83aa0e94",
   "metadata": {
    "execution": {
     "iopub.execute_input": "2023-02-01T15:28:03.489731Z",
     "iopub.status.busy": "2023-02-01T15:28:03.489407Z",
     "iopub.status.idle": "2023-02-01T15:28:03.513529Z",
     "shell.execute_reply": "2023-02-01T15:28:03.512489Z"
    }
   },
   "outputs": [
    {
     "ename": "NameError",
     "evalue": "name 'plt' is not defined",
     "output_type": "error",
     "traceback": [
      "\u001b[0;31m---------------------------------------------------------------------------\u001b[0m",
      "\u001b[0;31mNameError\u001b[0m                                 Traceback (most recent call last)",
      "Cell \u001b[0;32mIn[18], line 3\u001b[0m\n\u001b[1;32m      1\u001b[0m get_ipython()\u001b[38;5;241m.\u001b[39mrun_line_magic(\u001b[38;5;124m'\u001b[39m\u001b[38;5;124mmatplotlib\u001b[39m\u001b[38;5;124m'\u001b[39m, \u001b[38;5;124m'\u001b[39m\u001b[38;5;124mnotebook\u001b[39m\u001b[38;5;124m'\u001b[39m)\n\u001b[0;32m----> 3\u001b[0m \u001b[43mplt\u001b[49m\u001b[38;5;241m.\u001b[39mclose(\u001b[38;5;124m'\u001b[39m\u001b[38;5;124mall\u001b[39m\u001b[38;5;124m'\u001b[39m)\n\u001b[1;32m      5\u001b[0m fig \u001b[38;5;241m=\u001b[39m plt\u001b[38;5;241m.\u001b[39mfigure()\n\u001b[1;32m      6\u001b[0m ax \u001b[38;5;241m=\u001b[39m fig\u001b[38;5;241m.\u001b[39madd_subplot(\u001b[38;5;241m111\u001b[39m, projection\u001b[38;5;241m=\u001b[39m\u001b[38;5;124m'\u001b[39m\u001b[38;5;124mpolar\u001b[39m\u001b[38;5;124m'\u001b[39m)\n",
      "\u001b[0;31mNameError\u001b[0m: name 'plt' is not defined"
     ]
    }
   ],
   "source": [
    "%matplotlib notebook\n",
    "\n",
    "plt.close('all')\n",
    "\n",
    "fig = plt.figure()\n",
    "ax = fig.add_subplot(111, projection='polar')\n",
    "\n",
    "radii, bins = np.histogram(e_map.model(dihedrals), bins=25)\n",
    "widths = np.diff(bins)\n",
    "\n",
    "patches = ax.bar(bins[:-1], radii, align='edge', width=widths, edgecolor='k', fill=True)\n",
    "\n",
    "plt.show()"
   ]
  },
  {
   "cell_type": "markdown",
   "id": "6c5ce6d0",
   "metadata": {},
   "source": [
    "## Conclusion\n",
    "\n",
    "Using the tools provided in this notebook, you will be able to customize EncoderMap to your liking. Using images to visualize the output of the neural network is a much better visual aid, than just looking at graphs of raw data."
   ]
  }
 ],
 "metadata": {
  "language_info": {
   "codemirror_mode": {
    "name": "ipython",
    "version": 3
   },
   "file_extension": ".py",
   "mimetype": "text/x-python",
   "name": "python",
   "nbconvert_exporter": "python",
   "pygments_lexer": "ipython3",
   "version": "3.9.16"
  }
 },
 "nbformat": 4,
 "nbformat_minor": 5
}
