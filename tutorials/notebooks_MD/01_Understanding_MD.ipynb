{
 "cells": [
  {
   "cell_type": "markdown",
   "metadata": {},
   "source": [
    "# Understanding MD\n",
    "\n",
    "**Welcome**\n",
    "\n",
    "Welcome to the MD section of the EncoderMap tutorial. All EncoderMap tutorials are provided as jupyter notebooks, that you can run locally, on binderhub, or even on google colab.\n",
    "\n",
    "\n",
    "Run this notebook on Google Colab:\n",
    "\n",
    "[![Open in Colab](https://colab.research.google.com/assets/colab-badge.svg)](https://colab.research.google.com/github/AG-Peter/encodermap/blob/main/tutorials/notebooks_MD/01_Understanding_MD.ipynb)\n",
    "\n",
    "Find the documentation of EncoderMap:\n",
    "\n",
    "https://ag-peter.github.io/encodermap\n",
    "\n",
    "**Goals:**\n",
    "\n",
    "In this tutorial you will learn:\n",
    "- [What CVs are.](#primer)\n",
    "- [How EncoderMaps' new `SingleTraj` class loads MD data.](#singletraj)\n",
    "- [How a `SingleTraj` can be associated with CVs.](#load_CVs)\n",
    "\n",
    "### For Google colab only:\n",
    "\n",
    "If you're on Google colab, please uncomment these lines and install EncoderMap."
   ]
  },
  {
   "cell_type": "code",
   "execution_count": null,
   "metadata": {},
   "outputs": [],
   "source": [
    "# !wget https://gist.githubusercontent.com/kevinsawade/deda578a3c6f26640ae905a3557e4ed1/raw/b7403a37710cb881839186da96d4d117e50abf36/install_encodermap_google_colab.sh\n",
    "# !sudo bash install_encodermap_google_colab.sh"
   ]
  },
  {
   "cell_type": "markdown",
   "metadata": {},
   "source": [
    "## Primer\n",
    "\n",
    "The recent iteration of EncoderMap added features that allow EncoderMap to assist you in answering all analysis questions that you wan to ask your MD data.\n",
    "\n",
    "In contrary to the older versions of EncoderMap, in which you could train a machine learning model and use it for dimensionality reduction, the new EncoderMap adds:\n",
    "\n",
    "- Data organization.\n",
    "- Data validation.\n",
    "- Feature engineeering.\n",
    "- Model Serving.\n",
    "\n",
    "functionalities, that help you in working with your MD data. Let's have a look at these features by analysing an MD dataset. At the beginning, we need to import EncoderMap."
   ]
  },
  {
   "cell_type": "code",
   "execution_count": null,
   "metadata": {},
   "outputs": [],
   "source": [
    "import encodermap as em\n",
    "%load_ext autoreload\n",
    "%autoreload 2"
   ]
  },
  {
   "cell_type": "markdown",
   "metadata": {},
   "source": [
    "## EncoderMap pipeline\n",
    "\n",
    "### Download data\n",
    "\n",
    "EncoderMap comes with some out-of-the-box datasets. These are hosted on a data repository curated by the University of Konstanz, called KonDATA. You can fetch them with the `load_project` function. In our case, we are taking a look at a multidomain protein consisting of two [Ubiquitin proteins](https://www.rcsb.org/structure/1UBQ), that are joined as a long chain. The dataset consists of 12 trajectories, each consisting of 5001 frames."
   ]
  },
  {
   "cell_type": "code",
   "execution_count": null,
   "metadata": {},
   "outputs": [],
   "source": [
    "trajs = em.load_project(\"linear_dimers\")\n",
    "trajs.del_CVs()\n",
    "print(trajs)"
   ]
  },
  {
   "cell_type": "markdown",
   "metadata": {},
   "source": [
    "The `TrajEnsemble` is EncoderMap's new container for organizing MD data."
   ]
  },
  {
   "cell_type": "markdown",
   "metadata": {},
   "source": [
    "### Featurize data\n",
    "\n",
    "### Train\n",
    "\n",
    "### Evaluate"
   ]
  },
  {
   "cell_type": "code",
   "execution_count": null,
   "metadata": {},
   "outputs": [],
   "source": [
    "import mdtraj as md\n",
    "traj = md.load(\n",
    "    \"/home/kevin/git/encoder_map_private/tests/data/linear_dimers/01.xtc\",\n",
    "    top=\"/home/kevin/git/encoder_map_private/tests/data/linear_dimers/01.pdb\",\n",
    ")\n",
    "\n",
    "traj.time[1] - traj.time[0]"
   ]
  },
  {
   "cell_type": "code",
   "execution_count": null,
   "metadata": {},
   "outputs": [],
   "source": [
    "traj.time[-1]"
   ]
  },
  {
   "cell_type": "code",
   "execution_count": null,
   "metadata": {},
   "outputs": [],
   "source": [
    "import encodermap as em"
   ]
  },
  {
   "cell_type": "code",
   "execution_count": null,
   "metadata": {},
   "outputs": [],
   "source": [
    "import encodermap as em\n",
    "import numpy as np\n",
    "from pathlib import Path\n",
    "traj1 = em.SingleTraj(\n",
    "    Path(em.__file__).parent.parent / \"tests/data/1am7_corrected.xtc\",\n",
    "    Path(em.__file__).parent.parent / \"tests/data/1am7_protein.pdb\",\n",
    ")\n",
    "traj1.load_CV(traj1.xyz[..., -1], 'z_coordinate')\n",
    "\n",
    "for i, frame in enumerate(traj1):\n",
    "    print(np.array_equal(frame.z_coordinate[0], frame.xyz[0, :, -1]))\n",
    "    if i == 3:\n",
    "        break"
   ]
  },
  {
   "cell_type": "code",
   "execution_count": null,
   "metadata": {},
   "outputs": [],
   "source": []
  }
 ],
 "metadata": {
  "language_info": {
   "name": "python"
  }
 },
 "nbformat": 4,
 "nbformat_minor": 4
}
