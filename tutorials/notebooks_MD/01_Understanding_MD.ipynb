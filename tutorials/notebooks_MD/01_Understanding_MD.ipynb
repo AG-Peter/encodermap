{
 "cells": [
  {
   "cell_type": "markdown",
   "metadata": {},
   "source": [
    "# Understanding MD\n",
    "\n",
    "**Welcome**\n",
    "\n",
    "Welcome to the MD section of the EncoderMap tutorial. All EncoderMap tutorials are provided as jupyter notebooks, that you can run locally, on binderhub, or even on google colab.\n",
    "\n",
    "\n",
    "Run this notebook on Google Colab:\n",
    "\n",
    "[![Open in Colab](https://colab.research.google.com/assets/colab-badge.svg)](https://colab.research.google.com/github/AG-Peter/encodermap/blob/main/tutorials/notebooks_MD/01_Understanding_MD.ipynb)\n",
    "\n",
    "Find the documentation of EncoderMap:\n",
    "\n",
    "https://ag-peter.github.io/encodermap\n",
    "\n",
    "**Goals:**\n",
    "\n",
    "In this tutorial you will learn:\n",
    "- [What CVs are.](#primer)\n",
    "- [How EncoderMaps' new `SingleTraj` class loads MD data.](#singletraj)\n",
    "- [How a `SingleTraj` can be associated with CVs.](#load_CVs)\n",
    "\n",
    "### For Google colab only:\n",
    "\n",
    "If you're on Google colab, please uncomment these lines and install EncoderMap."
   ]
  },
  {
   "cell_type": "code",
   "execution_count": null,
   "metadata": {},
   "outputs": [],
   "source": [
    "# !wget https://raw.githubusercontent.com/AG-Peter/encodermap/main/tutorials/install_encodermap_google_colab.sh\n",
    "# !sudo bash install_encodermap_google_colab.sh"
   ]
  },
  {
   "cell_type": "markdown",
   "metadata": {},
   "source": [
    "## Primer\n",
    "\n",
    "The recent iteration of EncoderMap added features that allow EncoderMap to assist you in answering all analysis questions that you wan to ask your MD data.\n",
    "\n",
    "In contrary to the older versions of EncoderMap, in which you could train a machine learning model and use it for dimensionality reduction, the new EncoderMap adds:\n",
    "\n",
    "- Data organization.\n",
    "- Data validation.\n",
    "- Feature engineeering.\n",
    "- Model Serving.\n",
    "\n",
    "functionalities, that help you in working with your MD data. Let's have a look at these features by analysing an MD dataset. At the beginning, we need to import EncoderMap."
   ]
  },
  {
   "cell_type": "code",
   "execution_count": null,
   "metadata": {},
   "outputs": [],
   "source": [
    "import encodermap as em\n",
    "%load_ext autoreload\n",
    "%autoreload 2"
   ]
  },
  {
   "cell_type": "markdown",
   "metadata": {},
   "source": [
    "## EncoderMap pipeline\n",
    "\n",
    "### Download data\n",
    "\n",
    "EncoderMap comes with some out-of-the-box datasets. These are hosted on a data repository curated by the University of Konstanz, called KonDATA. You can fetch them with the `load_project` function. In our case, we are taking a look at a multidomain protein consisting of two [Ubiquitin proteins](https://www.rcsb.org/structure/1UBQ), that are joined as a long chain. The dataset consists of 12 trajectories, each consisting of 5001 frames."
   ]
  },
  {
   "cell_type": "code",
   "execution_count": null,
   "metadata": {},
   "outputs": [],
   "source": [
    "trajs = em.load_project(\"linear_dimers\")\n",
    "trajs.del_CVs()\n",
    "print(trajs)"
   ]
  },
  {
   "cell_type": "markdown",
   "metadata": {},
   "source": [
    "The `TrajEnsemble` is EncoderMap's new container for organizing MD data."
   ]
  },
  {
   "cell_type": "markdown",
   "metadata": {},
   "source": [
    "### Featurize data\n",
    "\n",
    "### Train\n",
    "\n",
    "### Evaluate"
   ]
  }
 ],
 "metadata": {
  "language_info": {
   "name": "python"
  }
 },
 "nbformat": 4,
 "nbformat_minor": 4
}
