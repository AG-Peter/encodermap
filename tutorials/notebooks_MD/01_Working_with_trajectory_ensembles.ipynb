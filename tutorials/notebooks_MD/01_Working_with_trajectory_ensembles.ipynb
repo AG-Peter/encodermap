{
 "cells": [
  {
   "cell_type": "markdown",
   "metadata": {
    "pycharm": {
     "name": "#%% md\n"
    }
   },
   "source": [
    "# Working with trajectory ensembles\n",
    "\n",
    "## Primer"
   ]
  },
  {
   "cell_type": "markdown",
   "metadata": {
    "collapsed": false,
    "pycharm": {
     "name": "#%% md\n"
    }
   },
   "source": [
    "ToDo: https://statisticalbiophysicsblog.org/\n",
    "\n",
    "Further points:\n",
    "- Ensembles capture more features\n",
    "- Shared phase space between similar peptides (wt and mutant), but different topologies."
   ]
  },
  {
   "cell_type": "markdown",
   "metadata": {
    "collapsed": false,
    "pycharm": {
     "name": "#%% md\n"
    }
   },
   "source": [
    "## Collective Variables\n",
    "\n",
    "Collective Variables (CVs) are often used to simplify and filter the xyz-Data of MD simulations. They are often employed to make sense of a complex protein (or more general molecular) system with via just a few well-defined descriptors. They are similar to reaction coordinates, which are 1-dimensional variables along a reaction pathway but can be higher dimensional. When we think about a receptor-ligand system, the distance between the two species is often used as a reaction coordinate. A set of this distance CV and the relative rotation between receptor and ligand can add much more information and help understand the system. It becomes apparent that clever selection of CVs is an important task that many scientists in different fields face day to day.\n",
    "\n",
    "With the tools presented in this notebook we want to give you the ability to work in a fluent and natural way with MD trajectories and their associated CV data. In the scope of this work we define CVs as **a collection of data that is in one of its dimensions aligned with the frames/timesteps of the underlying simulation data.**"
   ]
  },
  {
   "cell_type": "markdown",
   "metadata": {
    "collapsed": false,
    "pycharm": {
     "name": "#%% md\n"
    }
   },
   "source": [
    "## Example CVs\n",
    "\n",
    "Here's a list from the top of my head of CVs that are widely used.\n",
    "\n",
    "- Distances: This category of CVs can contain a 1-diemsnional scalar value describing the distance between two species in a receptor-ligand system. A 1-dimensional CV of the end-to-end distance of a protein can describe the proteins folding state in an approximate and generalizing manner. Distance CVs can also be higher-dimensional. The pairwise distances between $\\mathrm{C_\\alpha}$ atoms of a protein with $n$ residues can be captured as a $n \\times n$ matrix. A so-called hollow matrix, where all diagonal-elements are zero which is also symmetric. Most often a vector of length $\\binom{n}{2}$ is used to describe the pairwise distances in a protein. The distance between a protein and a membrane/interface would also fall into this category.\n",
    " \n",
    "- Angles: Angular CVs lie in a periodic space of $[-\\pi, \\pi]$ or $[0, 2\\pi]$, or $[0, 360]$. The well-known Ramachandran plot uses a protein's $\\phi$ and $\\psi$ angles to find energetically favored conformations in a protein's backbone. Besides the backbone angles other angles can become important in understanding a protein's conformations. Lysine is often modified via acetylation, phosphorylation, methylation, ubiquitylation and it's sidechain angles ($\\chi_1$ to $\\chi_5$) can be important descriptors in such a system. Pseudo-Dihedral angles lie also in this category. \n",
    "\n",
    "- Integer/binary values. If a protein has well-defined states (folded and unfolder) a binary value describing these states could also be a useful CV.\n",
    "\n",
    "- Values from other calculations and hyperparameters. An example for this category could be the temperature at which the simulation was carried out, when simulations were conducted at multiple temperatures. If phase space sub states were obtained by either using Markov-Chain models, or by using some sort of clustering algorithm (GROMOS), the membership to such cluster could also present CVs.\n",
    "\n",
    "- Positional values: Maybe even the full position of an atom or a group of atoms could be an important descriptor for a system.\n",
    "\n",
    "- etc."
   ]
  },
  {
   "cell_type": "markdown",
   "metadata": {
    "collapsed": false,
    "pycharm": {
     "name": "#%% md\n"
    }
   },
   "source": [
    "## Sharing Trajectory files\n",
    "\n",
    "Thanks to Christoph Wehmeyer: https://github.com/markovmodel/mdshare and his `mdshare` python package we will use a convenient way of obtaining MD data without bundling the codebase of `encodermap` with gigabytes upon gigabytes of MD trajectories."
   ]
  },
  {
   "cell_type": "code",
   "execution_count": null,
   "metadata": {
    "pycharm": {
     "name": "#%%\n"
    }
   },
   "outputs": [],
   "source": [
    "import mdshare\n",
    "import encodermap as em\n",
    "\n",
    "# use autoreload\n",
    "%load_ext autoreload\n",
    "%autoreload 2"
   ]
  },
  {
   "cell_type": "markdown",
   "metadata": {
    "collapsed": false,
    "pycharm": {
     "name": "#%% md\n"
    }
   },
   "source": [
    "You can initialize the encodermap Repository like so:"
   ]
  },
  {
   "cell_type": "code",
   "execution_count": null,
   "metadata": {
    "pycharm": {
     "name": "#%%\n"
    }
   },
   "outputs": [],
   "source": [
    "repo = em.Repository()"
   ]
  },
  {
   "cell_type": "markdown",
   "metadata": {
    "collapsed": false,
    "pycharm": {
     "name": "#%% md\n"
    }
   },
   "source": [
    "Print all available files."
   ]
  },
  {
   "cell_type": "code",
   "execution_count": null,
   "metadata": {
    "pycharm": {
     "name": "#%%\n"
    }
   },
   "outputs": [],
   "source": [
    "repo.files[:5]"
   ]
  },
  {
   "cell_type": "markdown",
   "metadata": {
    "collapsed": false,
    "pycharm": {
     "name": "#%% md\n"
    }
   },
   "source": [
    "Print a nicely formatted catalogue."
   ]
  },
  {
   "cell_type": "code",
   "execution_count": null,
   "metadata": {
    "pycharm": {
     "name": "#%%\n"
    }
   },
   "outputs": [],
   "source": [
    "repo.print_catalogue()"
   ]
  },
  {
   "cell_type": "markdown",
   "metadata": {
    "collapsed": false,
    "pycharm": {
     "name": "#%% md\n"
    }
   },
   "source": [
    "You can search for files with unix-like filename patterns."
   ]
  },
  {
   "cell_type": "code",
   "execution_count": null,
   "metadata": {
    "pycharm": {
     "name": "#%%\n"
    }
   },
   "outputs": [],
   "source": [
    "search = repo.search('*PF*')\n",
    "for k, v in search.items():\n",
    "    print(f'{k:<25}{v}')"
   ]
  },
  {
   "cell_type": "markdown",
   "metadata": {
    "collapsed": false,
    "pycharm": {
     "name": "#%% md\n"
    }
   },
   "source": [
    "`mdshare` is an easy way to download MD data directly via python. You can choose the directory to download files to, or you can let encodermap download the files into its own directory structure, which allows you to use files that have already been downloaded anytime from anywhere. You can download files by doing this:"
   ]
  },
  {
   "cell_type": "code",
   "execution_count": null,
   "metadata": {
    "pycharm": {
     "name": "#%%\n"
    }
   },
   "outputs": [],
   "source": [
    "files, directory = repo.fetch('PFFP_single*')"
   ]
  },
  {
   "cell_type": "markdown",
   "metadata": {
    "collapsed": false,
    "pycharm": {
     "name": "#%% md\n"
    }
   },
   "source": [
    "Once downloaded you can use the files however you like:"
   ]
  },
  {
   "cell_type": "code",
   "execution_count": null,
   "metadata": {
    "pycharm": {
     "name": "#%%\n"
    }
   },
   "outputs": [],
   "source": [
    "import mdtraj as md\n",
    "traj = md.load(files[0], top=files[1])\n",
    "print(traj)\n",
    "print()\n",
    "with open(files[1], 'r') as f:\n",
    "    lines = f.read().splitlines()[:7]\n",
    "print('\\n'.join(lines))"
   ]
  },
  {
   "cell_type": "markdown",
   "metadata": {
    "collapsed": false,
    "pycharm": {
     "name": "#%% md\n"
    }
   },
   "source": [
    "Normally files will be put into the directory of encodermap (This should also work if you installed encodermap via pip), but you can specify the trajectory via:"
   ]
  },
  {
   "cell_type": "code",
   "execution_count": null,
   "metadata": {
    "pycharm": {
     "name": "#%%\n"
    }
   },
   "outputs": [],
   "source": [
    "repo = em.Repository()\n",
    "repo.fetch('1am7*', working_directory='.')"
   ]
  },
  {
   "cell_type": "markdown",
   "metadata": {
    "collapsed": false,
    "pycharm": {
     "name": "#%% md\n"
    }
   },
   "source": [
    "You can also fetch complete projects. These projects will return one of two new classes. After downloading the necessary files, you will be introduced to these new classes."
   ]
  },
  {
   "cell_type": "code",
   "execution_count": null,
   "metadata": {
    "pycharm": {
     "name": "#%%\n"
    }
   },
   "outputs": [],
   "source": [
    "traj = repo.load_project('C23')\n",
    "view = traj.show_traj()\n",
    "view"
   ]
  },
  {
   "cell_type": "markdown",
   "metadata": {
    "collapsed": false,
    "pycharm": {
     "name": "#%% md\n"
    }
   },
   "source": [
    "# Classes for Trajectory Ensembles\n",
    "\n",
    "After we have obtained some files let us work with Encodermap's `Info`-classes."
   ]
  },
  {
   "cell_type": "code",
   "execution_count": null,
   "metadata": {
    "pycharm": {
     "name": "#%%\n"
    }
   },
   "outputs": [],
   "source": [
    "import encodermap as em\n",
    "import xarray as xr\n",
    "import numpy as np\n",
    "import mdtraj as md\n",
    "import MDAnalysis as mda\n",
    "import matplotlib as mpl\n",
    "import matplotlib.pyplot as plt\n",
    "\n",
    "import glob\n",
    "import os\n",
    "\n",
    "# if you have nglview set up you can also import it\n",
    "try:\n",
    "    import nglview as ngl\n",
    "except ImportError:\n",
    "    pass"
   ]
  },
  {
   "cell_type": "markdown",
   "metadata": {
    "collapsed": false,
    "pycharm": {
     "name": "#%% md\n"
    }
   },
   "source": [
    "## The new SingleTraj class\n",
    "\n",
    "The `SingleTraj` class is meant as a single container to hold a trajectory's xyz coordinates, its topology, and its CVs. This class builds the backbone of a fast and coprehensive representation of *trajectory ensembles*."
   ]
  },
  {
   "cell_type": "markdown",
   "metadata": {
    "collapsed": false,
    "pycharm": {
     "name": "#%% md\n"
    }
   },
   "source": [
    "### Initialize.\n",
    "\n",
    "In the background of the `SingleTraj` class `mdtraj` works its magic, howver this class offers more benefits:\n",
    "\n",
    "- Loading CVs in a multitude of ways and directly accessing them via indexing.\n",
    "- Keeping the actual data unloaded on disk until it is actually needed.\n",
    "- Keeping track of the original trajectory file and the original topology file.\n",
    "\n",
    "The `SingleTraj` class can be initialized in many ways:"
   ]
  },
  {
   "cell_type": "code",
   "execution_count": null,
   "metadata": {
    "pycharm": {
     "name": "#%%\n"
    }
   },
   "outputs": [],
   "source": [
    "# from traj and top file on disk\n",
    "traj_xtc = em.SingleTraj('1am7_corrected.xtc', '1am7_protein.pdb')\n",
    "\n",
    "# from a url of the pdb database\n",
    "traj_pdb = em.SingleTraj('https://files.rcsb.org/view/1YUF.pdb')\n",
    "\n",
    "# with an alternate constructor providing a pdb-id\n",
    "traj_pdb = em.SingleTraj.from_pdb_id('1YUG')\n",
    "\n",
    "# with the encpdermap repository by using the load_project() method\n",
    "traj_proj = repo.load_project('C23', working_directory='.')\n",
    "\n",
    "# from an existing mdtraj trajectory\n",
    "traj = md.load('1am7_corrected.xtc', top='1am7_protein.pdb')\n",
    "traj_mdtraj = em.SingleTraj(traj)"
   ]
  },
  {
   "cell_type": "code",
   "execution_count": null,
   "metadata": {
    "pycharm": {
     "name": "#%%\n"
    }
   },
   "outputs": [],
   "source": [
    "print(traj_xtc, '\\n\\n', traj_pdb, '\\n\\n', traj_proj, '\\n\\n', traj_mdtraj)"
   ]
  },
  {
   "cell_type": "markdown",
   "metadata": {
    "collapsed": false,
    "pycharm": {
     "name": "#%% md\n"
    }
   },
   "source": [
    "**If you initialized the traj from files you get some extra options like the basename**"
   ]
  },
  {
   "cell_type": "code",
   "execution_count": null,
   "metadata": {
    "pycharm": {
     "name": "#%%\n"
    }
   },
   "outputs": [],
   "source": [
    "print(traj_xtc.basename, traj_xtc.traj_file, traj_xtc.top_file)\n",
    "print(traj_pdb.basename, traj_pdb.traj_file, traj_pdb.top_file)"
   ]
  },
  {
   "cell_type": "markdown",
   "metadata": {
    "collapsed": false,
    "pycharm": {
     "name": "#%% md\n"
    }
   },
   "source": [
    "### On demand loading"
   ]
  },
  {
   "cell_type": "markdown",
   "metadata": {
    "collapsed": false,
    "pycharm": {
     "name": "#%% md\n"
    }
   },
   "source": [
    "**Difference between `traj`, `trajectory` and `top`, `topology`**\n",
    "\n",
    "`traj` and `top` always give `mdtraj.Trajectory` and `mdtraj.Topology`, respectively. They are loaded \"on demand\" and return the corresponding `mdtraj` object. After they are loaded, they are deleted again and the `SingleTraj` class is garbage collected.\n",
    "\n",
    "`trajectory` and `topology` can be `False` and represent the current *backend* of the TrajEnsemble object.\n",
    "\n",
    "This method saves RAM."
   ]
  },
  {
   "cell_type": "code",
   "execution_count": null,
   "metadata": {
    "pycharm": {
     "name": "#%%\n"
    }
   },
   "outputs": [],
   "source": [
    "print(traj_xtc.topology)\n",
    "print(traj_xtc.top)\n",
    "print(traj_xtc.topology)"
   ]
  },
  {
   "cell_type": "code",
   "execution_count": null,
   "metadata": {
    "pycharm": {
     "name": "#%%\n"
    }
   },
   "outputs": [],
   "source": [
    "print(traj_xtc.trajectory)\n",
    "print(traj_xtc.traj)\n",
    "print(traj_xtc.trajectory)"
   ]
  },
  {
   "cell_type": "markdown",
   "metadata": {
    "collapsed": false,
    "pycharm": {
     "name": "#%% md\n"
    }
   },
   "source": [
    "Directly accessing attributes of the mdtraj.Trajectory will load it from disk and return the attributes. This means if we would execute these lines:\n",
    "\n",
    "```python\n",
    ">>> print(type(traj.xyz))\n",
    "<class 'numpy.ndarray'>\n",
    "```\n",
    "\n",
    "we would always get the xyz coordinate of the trajectory (because the trajectory is loaded to RAM). Even this method:\n",
    "\n",
    "```python\n",
    ">>> hasattr(traj, 'xyz')\n",
    "True\n",
    "```\n",
    "\n",
    "would cause the trajectory to get loaded. Only `traj.__dict__` gives use the information, that the xyz coordinates are currenlty not there."
   ]
  },
  {
   "cell_type": "code",
   "execution_count": null,
   "metadata": {
    "pycharm": {
     "name": "#%%\n"
    }
   },
   "outputs": [],
   "source": [
    "hasattr(traj_xtc.__dict__, 'xyz')"
   ]
  },
  {
   "cell_type": "code",
   "execution_count": null,
   "metadata": {
    "pycharm": {
     "name": "#%%\n"
    }
   },
   "outputs": [],
   "source": [
    "if 'xyz' not in traj_xtc.__dict__:\n",
    "    print(\"No xyz data here\")\n",
    "print(traj_xtc.xyz[0,0])"
   ]
  },
  {
   "cell_type": "markdown",
   "metadata": {
    "collapsed": false,
    "pycharm": {
     "name": "#%% md\n"
    }
   },
   "source": [
    "**Loading can be forced**\n",
    "\n",
    "Using the `load()` method, the trajectory will be loaded. From that point forwards, the xyz data is kept in RAM and can be accessed. The `unload()` function does the reverse and frees up the RAM, but the xyz data can be loaded again. If your RAM is large enough you would not need the `unload()` function, but it is there nonetheless."
   ]
  },
  {
   "cell_type": "code",
   "execution_count": null,
   "metadata": {
    "pycharm": {
     "name": "#%%\n"
    }
   },
   "outputs": [],
   "source": [
    "traj_xtc.load_traj()\n",
    "print(traj_xtc.topology)\n",
    "traj_xtc.unload()\n",
    "print(traj_xtc.topology)"
   ]
  },
  {
   "cell_type": "markdown",
   "metadata": {
    "collapsed": false,
    "pycharm": {
     "name": "#%% md\n"
    }
   },
   "source": [
    "### Take a look with nglview\n",
    "\n",
    "If nglview is set up, you can take a look at the trajectory with this code:"
   ]
  },
  {
   "cell_type": "code",
   "execution_count": null,
   "metadata": {
    "pycharm": {
     "name": "#%%\n"
    }
   },
   "outputs": [],
   "source": [
    "view = traj_xtc.show_traj()\n",
    "view"
   ]
  },
  {
   "cell_type": "markdown",
   "metadata": {
    "collapsed": false,
    "pycharm": {
     "name": "#%% md\n"
    }
   },
   "source": [
    "### Class attributes\n",
    "\n",
    "These attributes might be useful when you work with `SingleTraj` classes"
   ]
  },
  {
   "cell_type": "code",
   "execution_count": null,
   "metadata": {
    "pycharm": {
     "name": "#%%\n"
    }
   },
   "outputs": [],
   "source": [
    "traj_xtc.load_traj()\n",
    "print(traj_xtc.n_frames)\n",
    "print(traj_xtc.n_atoms)\n",
    "print(traj_xtc.traj_file)\n",
    "print(traj_xtc.top_file)\n",
    "print(traj_xtc.basename)"
   ]
  },
  {
   "cell_type": "markdown",
   "metadata": {
    "collapsed": false,
    "pycharm": {
     "name": "#%% md\n"
    }
   },
   "source": [
    "### Duplication of mdtraj\n",
    "\n",
    "Some methods and attributes are duplicated from `mdtraj`. This allows us to call some `mdtraj` functions on the `SingleTraj` object directly."
   ]
  },
  {
   "cell_type": "code",
   "execution_count": null,
   "metadata": {
    "pycharm": {
     "name": "#%%\n"
    }
   },
   "outputs": [],
   "source": [
    "selection = traj_xtc.select('name CA')\n",
    "print(selection[:5])\n",
    "dssp = md.compute_dssp(traj_xtc)\n",
    "print(dssp[0, :5].tolist())"
   ]
  },
  {
   "cell_type": "code",
   "execution_count": null,
   "metadata": {
    "pycharm": {
     "name": "#%%\n"
    }
   },
   "outputs": [],
   "source": [
    "md.compute_center_of_mass(traj_xtc)[0]"
   ]
  },
  {
   "cell_type": "markdown",
   "metadata": {
    "collapsed": false,
    "pycharm": {
     "name": "#%% md\n"
    }
   },
   "source": [
    "### Indexing\n",
    "\n",
    "By indexing the `SingleTraj` class you get another instance of the `SingleTraj` class containing only one frame."
   ]
  },
  {
   "cell_type": "code",
   "execution_count": null,
   "metadata": {
    "pycharm": {
     "name": "#%%\n"
    }
   },
   "outputs": [],
   "source": [
    "frame = traj_xtc[0]\n",
    "print(frame)"
   ]
  },
  {
   "cell_type": "markdown",
   "metadata": {
    "collapsed": false,
    "pycharm": {
     "name": "#%% md\n"
    }
   },
   "source": [
    "If the traj has currently not been loaded (backend = 'no_load') the frame number will be stored, until the traj is loaded."
   ]
  },
  {
   "cell_type": "code",
   "execution_count": null,
   "metadata": {
    "pycharm": {
     "name": "#%%\n"
    }
   },
   "outputs": [],
   "source": [
    "traj_xtc.unload()\n",
    "frame = traj_xtc[1]\n",
    "print(frame)"
   ]
  },
  {
   "cell_type": "code",
   "execution_count": null,
   "metadata": {
    "pycharm": {
     "name": "#%%\n"
    }
   },
   "outputs": [],
   "source": [
    "frame.load_traj()\n",
    "print(frame)"
   ]
  },
  {
   "cell_type": "markdown",
   "metadata": {
    "collapsed": false,
    "pycharm": {
     "name": "#%% md\n"
    }
   },
   "source": [
    "If the index is larger than the number of frames, the loading will throw and exception."
   ]
  },
  {
   "cell_type": "code",
   "execution_count": null,
   "metadata": {
    "pycharm": {
     "name": "#%%\n"
    }
   },
   "outputs": [],
   "source": [
    "traj_xtc.unload()\n",
    "frame = traj_xtc[1000]\n",
    "print(frame)"
   ]
  },
  {
   "cell_type": "code",
   "execution_count": null,
   "metadata": {
    "pycharm": {
     "name": "#%%\n"
    }
   },
   "outputs": [],
   "source": [
    "frame.load_traj()\n",
    "print(frame)"
   ]
  },
  {
   "cell_type": "markdown",
   "metadata": {
    "collapsed": false,
    "pycharm": {
     "name": "#%% md\n"
    }
   },
   "source": [
    "### Advanced slicing\n",
    "\n",
    "You can also give a numpy array, a list or even a slice into the indexing.\n",
    "\n",
    "Indexing with without a stop (`[::5]`) will put the trajectory into memory."
   ]
  },
  {
   "cell_type": "code",
   "execution_count": null,
   "metadata": {
    "pycharm": {
     "name": "#%%\n"
    }
   },
   "outputs": [],
   "source": [
    "traj_xtc.unload()\n",
    "subsample = traj_xtc[::2]\n",
    "print(traj_xtc.traj.n_frames)\n",
    "print(subsample)\n",
    "print(subsample.n_frames)"
   ]
  },
  {
   "cell_type": "code",
   "execution_count": null,
   "metadata": {
    "pycharm": {
     "name": "#%%\n"
    }
   },
   "outputs": [],
   "source": [
    "traj_xtc.unload()\n",
    "subsample = traj_xtc[[0, 1, 5, 6]]\n",
    "print(subsample)\n",
    "print(subsample.n_frames)"
   ]
  },
  {
   "cell_type": "markdown",
   "metadata": {
    "collapsed": false,
    "pycharm": {
     "name": "#%% md\n"
    }
   },
   "source": [
    "Dancy slices (`[start:stop:step]`) won't put the traj into memory, but can raise errors down the line, when stop is greater than the number of frames.\n",
    "\n",
    "**Note:**\n",
    "Andvanced slicing can result in trajectories with 0 frames in them, or possibly reverse the time axis. Use this feature only if you are sure about what you are doing."
   ]
  },
  {
   "cell_type": "code",
   "execution_count": null,
   "metadata": {
    "pycharm": {
     "name": "#%%\n"
    }
   },
   "outputs": [],
   "source": [
    "traj_xtc.unload()\n",
    "subsample = traj_xtc[5:46:3]\n",
    "print(subsample)\n",
    "print(subsample.n_frames)"
   ]
  },
  {
   "cell_type": "markdown",
   "metadata": {
    "collapsed": false,
    "pycharm": {
     "name": "#%% md\n"
    }
   },
   "source": [
    "### Advanced slicing with HDF5\n",
    "\n",
    "The HDF5 file format (ending wiht .h5) allows us to directly extract frames and accelerate loading.\n",
    "We can save a .h5 formatted file from an `SingleTraj` class by calling:"
   ]
  },
  {
   "cell_type": "code",
   "execution_count": null,
   "metadata": {
    "pycharm": {
     "name": "#%%\n"
    }
   },
   "outputs": [],
   "source": [
    "traj_xtc.save('1am7_corrected.h5', overwrite=True)"
   ]
  },
  {
   "cell_type": "markdown",
   "metadata": {
    "collapsed": false,
    "pycharm": {
     "name": "#%% md\n"
    }
   },
   "source": [
    "Loading of .h5 files is similar to all files:"
   ]
  },
  {
   "cell_type": "code",
   "execution_count": null,
   "metadata": {
    "pycharm": {
     "name": "#%%\n"
    }
   },
   "outputs": [],
   "source": [
    "traj_h5 = em.SingleTraj('1am7_corrected.h5')"
   ]
  },
  {
   "cell_type": "code",
   "execution_count": null,
   "metadata": {
    "pycharm": {
     "name": "#%%\n"
    }
   },
   "outputs": [],
   "source": [
    "print(em.trajinfo.info_single.PRINTED_HDF_ANNOTATION)"
   ]
  },
  {
   "cell_type": "code",
   "execution_count": null,
   "metadata": {
    "pycharm": {
     "name": "#%%\n"
    }
   },
   "outputs": [],
   "source": [
    "traj_h5.unload()\n",
    "subsample = traj_h5[5:46:3]\n",
    "print(subsample)\n",
    "print(subsample.n_frames)"
   ]
  },
  {
   "cell_type": "markdown",
   "metadata": {
    "collapsed": false,
    "pycharm": {
     "name": "#%% md\n"
    }
   },
   "source": [
    "Similar to the xtc trajectory providing a slice with only steps (`[::3]`) will load the traj into memory. You will be greeted by a nice message thanking you for using HDF5-formatted trajectories. This message is only printed once. To see it again you have to restart the kernel."
   ]
  },
  {
   "cell_type": "code",
   "execution_count": null,
   "metadata": {
    "pycharm": {
     "name": "#%%\n"
    }
   },
   "outputs": [],
   "source": [
    "traj_h5.unload()\n",
    "subsample = traj_h5[::3].traj\n",
    "print(subsample)\n",
    "print(subsample.n_frames)"
   ]
  },
  {
   "cell_type": "code",
   "execution_count": null,
   "metadata": {
    "pycharm": {
     "name": "#%%\n"
    }
   },
   "outputs": [],
   "source": [
    "traj_h5.unload()\n",
    "subsample = traj_h5[[0, 1, 5, 6]].traj\n",
    "print(subsample)\n",
    "print(subsample.n_frames)"
   ]
  },
  {
   "cell_type": "markdown",
   "metadata": {
    "collapsed": false,
    "pycharm": {
     "name": "#%% md\n"
    }
   },
   "source": [
    "## Loading CVs\n",
    "\n",
    "After learning about the basics of the `SingleTraj` class we will come back to collective variables. There are many ways of adding CVs to you trajectories. The easiest would be to provide an already existing numpy array. However, you will be asked to also provide the attribute name (`attr_name`) of the array. With this you could load multiple CV datasets, that differ in ther attribute names. Here's an example:"
   ]
  },
  {
   "cell_type": "markdown",
   "metadata": {
    "collapsed": false,
    "pycharm": {
     "name": "#%% md\n"
    }
   },
   "source": [
    "### From numpy"
   ]
  },
  {
   "cell_type": "code",
   "execution_count": null,
   "metadata": {
    "pycharm": {
     "name": "#%%\n"
    }
   },
   "outputs": [],
   "source": [
    "traj = traj_xtc\n",
    "\n",
    "# random phi/psi angles in a [0, 2pi] interval\n",
    "random_raman_angles = np.random.random((traj.n_frames, 2 * traj.n_residues)) * 2 * np.pi\n",
    "\n",
    "# define labels:\n",
    "phi_angles = [f'phi {i}' for i in range(traj.n_residues)]\n",
    "psi_angles = [f'psi {i}' for i in range(traj.n_residues)]\n",
    "raman_labels = [None]*(len(phi_angles)+len(psi_angles))\n",
    "raman_labels[::2] = phi_angles\n",
    "raman_labels[1::2] = psi_angles\n",
    "\n",
    "# load the CV\n",
    "traj.load_CV(random_raman_angles, 'raman', labels=raman_labels)\n",
    "\n",
    "# define some integer values (can be cluster memberships)\n",
    "random_integers_per_frame = np.random.randint(0, 3, size=traj.n_frames)\n",
    "traj.load_CV(random_integers_per_frame, 'cluster_membership')"
   ]
  },
  {
   "cell_type": "markdown",
   "metadata": {
    "collapsed": false,
    "pycharm": {
     "name": "#%% md\n"
    }
   },
   "source": [
    "These values can be accessed via directly calling their attribute names (so make sure to use valid identifiers)."
   ]
  },
  {
   "cell_type": "code",
   "execution_count": null,
   "metadata": {
    "pycharm": {
     "name": "#%%\n"
    }
   },
   "outputs": [],
   "source": [
    "print(traj.cluster_membership)"
   ]
  },
  {
   "cell_type": "code",
   "execution_count": null,
   "metadata": {
    "pycharm": {
     "name": "#%%\n"
    }
   },
   "outputs": [],
   "source": [
    "print(traj.raman)"
   ]
  },
  {
   "cell_type": "markdown",
   "metadata": {
    "collapsed": false,
    "pycharm": {
     "name": "#%% md\n"
    }
   },
   "source": [
    "There's also the attribute `CVs` that is a dict of these collective variables."
   ]
  },
  {
   "cell_type": "code",
   "execution_count": null,
   "metadata": {
    "pycharm": {
     "name": "#%%\n"
    }
   },
   "outputs": [],
   "source": [
    "traj.CVs"
   ]
  },
  {
   "cell_type": "markdown",
   "metadata": {
    "collapsed": false,
    "pycharm": {
     "name": "#%% md\n"
    }
   },
   "source": [
    "However, this is not the end. CVs in a `SingleTraj` class are stored as `xarray.Dataset`s. The dataset can be accessed via `_CVs`."
   ]
  },
  {
   "cell_type": "code",
   "execution_count": null,
   "metadata": {
    "pycharm": {
     "name": "#%%\n"
    }
   },
   "outputs": [],
   "source": [
    "traj._CVs"
   ]
  },
  {
   "cell_type": "markdown",
   "metadata": {
    "collapsed": false,
    "pycharm": {
     "name": "#%% md\n"
    }
   },
   "source": [
    "**Why xarray?**\n",
    "\n",
    "The underlying `xarray.Dataset` is intended to make sure \"everything is correct\". Every value can be accessed via an unambigous identifier."
   ]
  },
  {
   "cell_type": "code",
   "execution_count": null,
   "metadata": {
    "pycharm": {
     "name": "#%%\n"
    }
   },
   "outputs": [],
   "source": [
    "traj._CVs['raman'].loc[{'frame_no': 20, 'RAMAN': 'psi 50'}].values"
   ]
  },
  {
   "cell_type": "markdown",
   "metadata": {
    "collapsed": false,
    "pycharm": {
     "name": "#%% md\n"
    }
   },
   "source": [
    "### Slicing with CVs.\n",
    "\n",
    "Slicing keeps your values where they should be."
   ]
  },
  {
   "cell_type": "code",
   "execution_count": null,
   "metadata": {
    "pycharm": {
     "name": "#%%\n"
    }
   },
   "outputs": [],
   "source": [
    "index = np.where(np.array(raman_labels) == 'psi 50')\n",
    "print(traj[20].raman[index])\n",
    "print(traj[[0, 5, 10, 20]].raman[:,index])"
   ]
  },
  {
   "cell_type": "markdown",
   "metadata": {
    "collapsed": false,
    "pycharm": {
     "name": "#%% md\n"
    }
   },
   "source": [
    "### Loading from files\n",
    "\n",
    "CVs can be loaded by providing a string to files. First, let us save some files."
   ]
  },
  {
   "cell_type": "code",
   "execution_count": null,
   "metadata": {
    "pycharm": {
     "name": "#%%\n"
    }
   },
   "outputs": [],
   "source": [
    "# save numpy\n",
    "np.save('raman_file.npy', traj.raman)\n",
    "\n",
    "# save text\n",
    "np.savetxt('cluster_membership_file.txt', traj.cluster_membership)\n",
    "\n",
    "# save full CV dataset as NetCDF\n",
    "traj._CVs.to_netcdf('full_CV_dataset.nc')"
   ]
  },
  {
   "cell_type": "markdown",
   "metadata": {
    "collapsed": false,
    "pycharm": {
     "name": "#%% md\n"
    }
   },
   "source": [
    "If not providing an `attr_name`, while loading files, the filename will be used:"
   ]
  },
  {
   "cell_type": "code",
   "execution_count": null,
   "metadata": {
    "pycharm": {
     "name": "#%%\n"
    }
   },
   "outputs": [],
   "source": [
    "traj.load_CV('raman_file.npy')\n",
    "traj.load_CV('cluster_membership_file.txt')"
   ]
  },
  {
   "cell_type": "code",
   "execution_count": null,
   "metadata": {
    "pycharm": {
     "name": "#%%\n"
    }
   },
   "outputs": [],
   "source": [
    "print(traj.CVs.keys())"
   ]
  },
  {
   "cell_type": "markdown",
   "metadata": {
    "collapsed": false,
    "pycharm": {
     "name": "#%% md\n"
    }
   },
   "source": [
    "Multiple CVs can be reconstructed from xarray NetCDF files (most end with .nc). If there are conflicts the new data from disk will overwrite the old."
   ]
  },
  {
   "cell_type": "code",
   "execution_count": null,
   "metadata": {
    "pycharm": {
     "name": "#%%\n"
    }
   },
   "outputs": [],
   "source": [
    "traj = em.SingleTraj('1am7_corrected.xtc', '1am7_protein.pdb')\n",
    "print(traj.CVs.keys())\n",
    "traj.load_CV('full_CV_dataset.nc')\n",
    "print(traj.CVs.keys())"
   ]
  },
  {
   "cell_type": "markdown",
   "metadata": {
    "collapsed": false,
    "pycharm": {
     "name": "#%% md\n"
    }
   },
   "source": [
    "### Loading with PyEMMA featurizer\n",
    "\n",
    "We will now use PyEMMA's featurization pipeline (http://emma-project.org/latest/) to load CV data into our trajectory. For this encodermap has its own Version of PyEMMA's featurizer accessible with `em.Featurizer` which can simply be provided to the `SingleTraj` class."
   ]
  },
  {
   "cell_type": "code",
   "execution_count": null,
   "metadata": {
    "pycharm": {
     "name": "#%%\n"
    }
   },
   "outputs": [],
   "source": [
    "import encodermap as em\n",
    "%load_ext autoreload\n",
    "%autoreload 2\n",
    "traj = em.SingleTraj('1am7_corrected.xtc', '1am7_protein.pdb')\n",
    "\n",
    "# instantiate featurizer\n",
    "feat = em.Featurizer(traj)\n",
    "\n",
    "# add features\n",
    "feat.add_backbone_torsions()\n",
    "\n",
    "# load\n",
    "traj.load_CV(feat, attr_name='backbone_torsion')"
   ]
  },
  {
   "cell_type": "markdown",
   "metadata": {
    "collapsed": false,
    "pycharm": {
     "name": "#%% md\n"
    }
   },
   "source": [
    "Possible `add_*` features can be found via:"
   ]
  },
  {
   "cell_type": "code",
   "execution_count": null,
   "metadata": {
    "pycharm": {
     "name": "#%%\n"
    }
   },
   "outputs": [],
   "source": [
    "i = 0\n",
    "for attr in dir(feat):\n",
    "    if attr.startswith('add_'):\n",
    "        help(getattr(feat, attr))\n",
    "        i += 1\n",
    "    if i == 2:\n",
    "        break"
   ]
  },
  {
   "cell_type": "markdown",
   "metadata": {
    "collapsed": false,
    "pycharm": {
     "name": "#%% md\n"
    }
   },
   "source": [
    "The advantages of this method are:\n",
    "\n",
    "- The same can be done with the `TrajEnsemble` class (more on that later), which is also parallelized.\n",
    "- Most of the features contain comprehensive labels themselves.\n",
    "\n",
    "The labels can be accessed via the `.coordinates` attribute of the `SingleTraj`'s `xarray.Dataset`. They are similar to the `attr_names` but without underscores and all caps."
   ]
  },
  {
   "cell_type": "code",
   "execution_count": null,
   "metadata": {
    "pycharm": {
     "name": "#%%\n"
    }
   },
   "outputs": [],
   "source": [
    "print(traj._CVs.coords)"
   ]
  },
  {
   "cell_type": "code",
   "execution_count": null,
   "metadata": {
    "pycharm": {
     "name": "#%%\n"
    }
   },
   "outputs": [],
   "source": [
    "print(traj._CVs.coords['BACKBONETORSIONFEATURE'].values[:10])"
   ]
  },
  {
   "cell_type": "markdown",
   "metadata": {
    "collapsed": false,
    "pycharm": {
     "name": "#%% md\n"
    }
   },
   "source": [
    "Here, it can be seen, that there are some errors on PyEMMA's backbone_torsion feature. The sequence of backbone angles is scrambled."
   ]
  },
  {
   "cell_type": "markdown",
   "metadata": {
    "collapsed": false,
    "pycharm": {
     "name": "#%% md\n"
    }
   },
   "source": [
    "### Loading with Encodermap Features\n",
    "\n",
    "Encodermap features inherit from pyemma, but they are better formatted, regarding the labels. They can be loaded via `traj.load_CV('all')` to load all, or via a single string of list of these strings:"
   ]
  },
  {
   "cell_type": "code",
   "execution_count": null,
   "metadata": {
    "pycharm": {
     "name": "#%%\n"
    }
   },
   "outputs": [],
   "source": [
    "from encodermap.misc.misc import FEATURE_NAMES\n",
    "print(FEATURE_NAMES.values())"
   ]
  },
  {
   "cell_type": "code",
   "execution_count": null,
   "metadata": {
    "pycharm": {
     "name": "#%%\n"
    }
   },
   "outputs": [],
   "source": [
    "traj = em.SingleTraj('1am7_corrected.xtc', '1am7_protein.pdb')\n",
    "traj.load_CV(['central_angles', 'central_dihedrals'])"
   ]
  },
  {
   "cell_type": "code",
   "execution_count": null,
   "metadata": {
    "pycharm": {
     "name": "#%%\n"
    }
   },
   "outputs": [],
   "source": [
    "print(traj._CVs.coords['CENTRAL_DIHEDRALS'].values)"
   ]
  },
  {
   "cell_type": "code",
   "execution_count": null,
   "metadata": {
    "pycharm": {
     "name": "#%%\n"
    }
   },
   "outputs": [],
   "source": [
    "print(traj._CVs.coords['CENTRAL_ANGLES'].values)"
   ]
  },
  {
   "cell_type": "markdown",
   "metadata": {
    "collapsed": false,
    "pycharm": {
     "name": "#%% md\n"
    }
   },
   "source": [
    "### Wrtiting custom features No 1\n",
    "\n",
    "Writing your custom features can be done by subclassing pyemma's features. Required methods and attributes to make your feature work are:\n",
    "\n",
    "- The class-level attributes `__serialize_version` and `__serialize_fields`\n",
    "- The methods `__init__`, `describe`, and `transform`.\n",
    "- The instance attribute `dimension`, which defines the shape of the returned array.\n",
    "\n",
    "If you want to change the name of the feature, as it appears in the `xarray.Dataset` you can set the attribute `name`.\n",
    "\n",
    "In the next cell we will define a Feature that provides a random integer to an atom, based on its hash."
   ]
  },
  {
   "cell_type": "code",
   "execution_count": null,
   "metadata": {
    "pycharm": {
     "name": "#%%\n"
    }
   },
   "outputs": [],
   "source": [
    "import encodermap as em\n",
    "from encodermap.loading.features import Feature\n",
    "import copy\n",
    "\n",
    "class RandomIntForAtomFeature(Feature):\n",
    "    # class inherits from encodermap CustomFeature\n",
    "    # set required class-level variables\n",
    "    __serialize_version = 0\n",
    "    __serialize_fields = ('indexes', 'selstr', )\n",
    "    \n",
    "    # write an __init__\n",
    "    def __init__(self, top, selstr='all'):\n",
    "        \"\"\"Init of RandomIntoForAtomFeature.\n",
    "        \n",
    "        Args:\n",
    "            top (mdtraj.Topology): The topology to select atoms from.\n",
    "            \n",
    "        Keyword Args:\n",
    "            selstr (str, optional): The string to provide to top.select().\n",
    "            Defaults to 'all'.\n",
    "        \n",
    "        \"\"\"\n",
    "        # Copy top to save it from hypothetical changes\n",
    "        self.top = copy.deepcopy(top)\n",
    "        \n",
    "        # define indexes (this is one of the serializable fields,\n",
    "        # which could be used by pyemma to save a feature to disk.)\n",
    "        self.indexes = top.select(selstr)\n",
    "        \n",
    "        # set dimension\n",
    "        self.dimension = len(self.indexes)\n",
    "        \n",
    "        # inherit missing methods from base\n",
    "        super().__init__()\n",
    "        \n",
    "    def describe(self):\n",
    "        \"\"\"This method is not allowed to take any arguments.\n",
    "        \n",
    "        This method provides labels.\n",
    "        \n",
    "        Returns:\n",
    "            list: A lsit of str, each str describing one feature.\n",
    "            \n",
    "        \"\"\"\n",
    "        # In this method we will build a list of str\n",
    "        # Each str should describe one of our features\n",
    "        # We assign ints to atoms, so the labels should tell something about the atoms\n",
    "        getlbl = lambda at: f\"atom {at.name:>4}:{at.index:5} {at.residue.name}:{at.residue.resSeq:>4}\"\n",
    "        labels = []\n",
    "        for i in self.indexes:\n",
    "            i = self.top.atom(i)\n",
    "            labels.append(f\"Random int for {getlbl(i)}\")\n",
    "        return labels\n",
    "    \n",
    "    def transform(self, traj):\n",
    "        \"\"\"This method provides values.\n",
    "        \n",
    "        Args:\n",
    "            traj (mdtraj.Trajectory): An mdtraj.Trajectory.\n",
    "            \n",
    "        Returns:\n",
    "            np.ndarray: The values of the features defined in describe.\n",
    "        \n",
    "        \"\"\"\n",
    "        # Make sure that the returned array has correct shape\n",
    "        # In general it is a good idea, that this array has the same length as\n",
    "        # the trajectory has frames\n",
    "        # In general means, like, ..., always\n",
    "        values = traj.xyz[:,:,0].astype(int)\n",
    "        for i in self.indexes:\n",
    "            values[:,i] = int(str(hash(str(self.top.atom(i))))[-5:])\n",
    "        return values\n",
    "    \n",
    "    @property\n",
    "    def name(self):\n",
    "        # define the name of the feature to appear in `SingleTraj._CVs`\n",
    "        return 'MyAwesomeFeature'"
   ]
  },
  {
   "cell_type": "code",
   "execution_count": null,
   "metadata": {
    "pycharm": {
     "name": "#%%\n"
    }
   },
   "outputs": [],
   "source": [
    "traj = em.SingleTraj('1am7_corrected.xtc', '1am7_protein.pdb')\n",
    "print(traj)\n",
    "featurizer = em.Featurizer(traj)\n",
    "feat = RandomIntForAtomFeature(traj.top)\n",
    "for i in feat.describe()[:200:25]:\n",
    "    print(i)"
   ]
  },
  {
   "cell_type": "code",
   "execution_count": null,
   "metadata": {
    "pycharm": {
     "name": "#%%\n"
    }
   },
   "outputs": [],
   "source": [
    "featurizer.add_custom_feature(feat)"
   ]
  },
  {
   "cell_type": "code",
   "execution_count": null,
   "metadata": {
    "pycharm": {
     "name": "#%%\n"
    }
   },
   "outputs": [],
   "source": [
    "traj.load_CV(featurizer)"
   ]
  },
  {
   "cell_type": "code",
   "execution_count": null,
   "metadata": {
    "pycharm": {
     "name": "#%%\n"
    }
   },
   "outputs": [],
   "source": [
    "traj._CVs.coords['MYAWESOMEFEATURE'].values"
   ]
  },
  {
   "cell_type": "markdown",
   "metadata": {
    "collapsed": false,
    "pycharm": {
     "name": "#%% md\n"
    }
   },
   "source": [
    "### Writing custom features No 2\n",
    "\n",
    "In this example we will implement a method of calculating a nematic order parameter. This example will be quite different (working with coarse-grained carbon-hydrate chains (so-called telechelics), and not with proteins), but we will work our way through. Here are some references you might consider:\n",
    "\n",
    "```\n",
    "@article{mukherjee2012derivation,\n",
    "  title={Derivation of coarse grained models for multiscale simulation of liquid crystalline phase transitions},\n",
    "  author={Mukherjee, Biswaroop and Delle Site, Luigi and Kremer, Kurt and Peter, Christine},\n",
    "  journal={The Journal of Physical Chemistry B},\n",
    "  volume={116},\n",
    "  number={29},\n",
    "  pages={8474--8484},\n",
    "  year={2012},\n",
    "  publisher={ACS Publications}\n",
    "}\n",
    "\n",
    "@article{flachmuller2021coarse,\n",
    "  title={Coarse grained simulation of the aggregation and structure control of polyethylene nanocrystals},\n",
    "  author={Flachm{\\\"u}ller, Alexander and Mecking, Stefan and Peter, Christine},\n",
    "  journal={Journal of Physics: Condensed Matter},\n",
    "  volume={33},\n",
    "  number={26},\n",
    "  pages={264001},\n",
    "  year={2021},\n",
    "  publisher={IOP Publishing}\n",
    "}\n",
    "```"
   ]
  },
  {
   "cell_type": "code",
   "execution_count": null,
   "metadata": {
    "pycharm": {
     "name": "#%%\n"
    }
   },
   "outputs": [],
   "source": []
  },
  {
   "cell_type": "markdown",
   "metadata": {
    "collapsed": false,
    "pycharm": {
     "name": "#%% md\n"
    }
   },
   "source": [
    "## Saving trajectory and CVs into one file\n",
    "\n",
    "A trajectory can (with its CVs) saved as one comprehensive file with the `save()` method. What's more: Loading such a file again makes it possible to access any frames and their corresponding CVs almost instantaneously."
   ]
  },
  {
   "cell_type": "code",
   "execution_count": null,
   "metadata": {
    "pycharm": {
     "name": "#%%\n"
    }
   },
   "outputs": [],
   "source": [
    "traj = em.SingleTraj('1am7_corrected.xtc', '1am7_protein.pdb')\n",
    "traj.load_CV('all')\n",
    "traj.save('1am7_all_CVs.h5')"
   ]
  },
  {
   "cell_type": "code",
   "execution_count": null,
   "metadata": {
    "pycharm": {
     "name": "#%%\n"
    }
   },
   "outputs": [],
   "source": [
    "new_traj = em.SingleTraj('1am7_all_CVs.h5')\n",
    "frames = new_traj[[0, 5, 20, 35]]\n",
    "frames.CentralCartesians.shape"
   ]
  },
  {
   "cell_type": "code",
   "execution_count": null,
   "metadata": {
    "pycharm": {
     "name": "#%%\n"
    }
   },
   "outputs": [],
   "source": [
    "frames = new_traj[::5]\n",
    "print(frames.CentralBondDistances.shape)\n",
    "print(frames._CVs.coords['CENTRALBONDDISTANCES'].values)"
   ]
  },
  {
   "cell_type": "markdown",
   "metadata": {
    "collapsed": false,
    "pycharm": {
     "name": "#%% md\n"
    }
   },
   "source": [
    "However, CVs are deleted, when the number of atoms is altered."
   ]
  },
  {
   "cell_type": "code",
   "execution_count": null,
   "metadata": {
    "pycharm": {
     "name": "#%%\n"
    }
   },
   "outputs": [],
   "source": [
    "subset = frames.atom_slice(frames.select('name CA'))"
   ]
  },
  {
   "cell_type": "code",
   "execution_count": null,
   "metadata": {
    "pycharm": {
     "name": "#%%\n"
    }
   },
   "outputs": [],
   "source": [
    "subset.CVs"
   ]
  },
  {
   "cell_type": "code",
   "execution_count": null,
   "metadata": {
    "pycharm": {
     "name": "#%%\n"
    }
   },
   "outputs": [],
   "source": []
  },
  {
   "cell_type": "code",
   "execution_count": null,
   "metadata": {
    "pycharm": {
     "name": "#%%\n"
    }
   },
   "outputs": [],
   "source": [
    "index = np.where(np.array(raman_labels) == 'psi 50')\n",
    "print(traj[20].raman[index])\n",
    "print(traj[[0, 5, 10, 20]].raman[:,index])"
   ]
  },
  {
   "cell_type": "markdown",
   "metadata": {
    "pycharm": {
     "name": "#%% md\n"
    }
   },
   "source": [
    "### Loading from files\n",
    "\n",
    "CVs can be loaded by providing a string to files. First, let us save some files."
   ]
  },
  {
   "cell_type": "code",
   "execution_count": null,
   "metadata": {
    "pycharm": {
     "name": "#%%\n"
    }
   },
   "outputs": [],
   "source": [
    "# save numpy\n",
    "np.save('raman_file.npy', traj.raman)\n",
    "\n",
    "# save text\n",
    "np.savetxt('cluster_membership_file.txt', traj.cluster_membership)\n",
    "\n",
    "# save full CV dataset as NetCDF\n",
    "traj._CVs.to_netcdf('full_CV_dataset.nc')"
   ]
  },
  {
   "cell_type": "markdown",
   "metadata": {
    "pycharm": {
     "name": "#%% md\n"
    }
   },
   "source": [
    "If not providing an `attr_name`, while loading files, the filename will be used:"
   ]
  },
  {
   "cell_type": "code",
   "execution_count": null,
   "metadata": {
    "pycharm": {
     "name": "#%%\n"
    }
   },
   "outputs": [],
   "source": [
    "traj.load_CV('raman_file.npy')\n",
    "traj.load_CV('cluster_membership_file.txt')"
   ]
  },
  {
   "cell_type": "code",
   "execution_count": null,
   "metadata": {
    "pycharm": {
     "name": "#%%\n"
    }
   },
   "outputs": [],
   "source": [
    "print(traj.CVs.keys())"
   ]
  },
  {
   "cell_type": "markdown",
   "metadata": {
    "pycharm": {
     "name": "#%% md\n"
    }
   },
   "source": [
    "Multiple CVs can be reconstructed from xarray NetCDF files (most end with .nc). If there are conflicts the new data from disk will overwrite the old."
   ]
  },
  {
   "cell_type": "code",
   "execution_count": null,
   "metadata": {
    "pycharm": {
     "name": "#%%\n"
    }
   },
   "outputs": [],
   "source": [
    "traj = em.SingleTraj('1am7_corrected.xtc', '1am7_protein.pdb')\n",
    "print(traj.CVs.keys())\n",
    "traj.load_CV('full_CV_dataset.nc')\n",
    "print(traj.CVs.keys())"
   ]
  },
  {
   "cell_type": "markdown",
   "metadata": {
    "pycharm": {
     "name": "#%% md\n"
    }
   },
   "source": [
    "### Loading with PyEMMA featurizer\n",
    "\n",
    "We will now use PyEMMA's featurization pipeline (http://emma-project.org/latest/) to load CV data into our trajectory. For this encodermap has its own Version of PyEMMA's featurizer accessible with `em.Featurizer` which can simply be provided to the `SingleTraj` class."
   ]
  },
  {
   "cell_type": "code",
   "execution_count": null,
   "metadata": {
    "pycharm": {
     "name": "#%%\n"
    }
   },
   "outputs": [],
   "source": [
    "import encodermap as em\n",
    "%load_ext autoreload\n",
    "%autoreload 2\n",
    "traj = em.SingleTraj('1am7_corrected.xtc', '1am7_protein.pdb')\n",
    "\n",
    "# instantiate featurizer\n",
    "feat = em.Featurizer(traj)\n",
    "\n",
    "# add features\n",
    "feat.add_backbone_torsions()\n",
    "\n",
    "# load\n",
    "traj.load_CV(feat, attr_name='backbone_torsion')"
   ]
  },
  {
   "cell_type": "markdown",
   "metadata": {
    "pycharm": {
     "name": "#%% md\n"
    }
   },
   "source": [
    "Possible `add_*` features can be found via:"
   ]
  },
  {
   "cell_type": "code",
   "execution_count": null,
   "metadata": {
    "pycharm": {
     "name": "#%%\n"
    }
   },
   "outputs": [],
   "source": [
    "i = 0\n",
    "for attr in dir(feat):\n",
    "    if attr.startswith('add_'):\n",
    "        help(getattr(feat, attr))\n",
    "        i += 1\n",
    "    if i == 2:\n",
    "        break"
   ]
  },
  {
   "cell_type": "markdown",
   "metadata": {
    "pycharm": {
     "name": "#%% md\n"
    }
   },
   "source": [
    "The advantages of this method are:\n",
    "\n",
    "- The same can be done with the `TrajEnsemble` class (more on that later), which is also parallelized.\n",
    "- Most of the features contain comprehensive labels themselves.\n",
    "\n",
    "The labels can be accessed via the `.coordinates` attribute of the `SingleTraj`'s `xarray.Dataset`. They are similar to the `attr_names` but without underscores and all caps."
   ]
  },
  {
   "cell_type": "code",
   "execution_count": null,
   "metadata": {
    "pycharm": {
     "name": "#%%\n"
    }
   },
   "outputs": [],
   "source": [
    "print(traj._CVs.coords)"
   ]
  },
  {
   "cell_type": "code",
   "execution_count": null,
   "metadata": {
    "pycharm": {
     "name": "#%%\n"
    }
   },
   "outputs": [],
   "source": [
    "print(traj._CVs.coords['BACKBONETORSIONFEATURE'].values[:10])"
   ]
  },
  {
   "cell_type": "markdown",
   "metadata": {
    "pycharm": {
     "name": "#%% md\n"
    }
   },
   "source": [
    "Here, it can be seen, that there are some errors on PyEMMA's backbone_torsion feature. The sequence of backbone angles is scrambled."
   ]
  },
  {
   "cell_type": "markdown",
   "metadata": {
    "pycharm": {
     "name": "#%% md\n"
    }
   },
   "source": [
    "### Loading with Encodermap Features\n",
    "\n",
    "Encodermap features inherit from pyemma, but they are better formatted, regarding the labels. They can be loaded via `traj.load_CV('all')` to load all, or via a single string of list of these strings:"
   ]
  },
  {
   "cell_type": "code",
   "execution_count": null,
   "metadata": {
    "pycharm": {
     "name": "#%%\n"
    }
   },
   "outputs": [],
   "source": [
    "from encodermap.misc.misc import FEATURE_NAMES\n",
    "print(FEATURE_NAMES.values())"
   ]
  },
  {
   "cell_type": "code",
   "execution_count": null,
   "metadata": {
    "pycharm": {
     "name": "#%%\n"
    }
   },
   "outputs": [],
   "source": [
    "traj = em.SingleTraj('1am7_corrected.xtc', '1am7_protein.pdb')\n",
    "traj.load_CV(['central_angles', 'central_dihedrals'])"
   ]
  },
  {
   "cell_type": "code",
   "execution_count": null,
   "metadata": {
    "pycharm": {
     "name": "#%%\n"
    }
   },
   "outputs": [],
   "source": [
    "print(traj._CVs.coords['CENTRAL_DIHEDRALS'].values)"
   ]
  },
  {
   "cell_type": "code",
   "execution_count": null,
   "metadata": {
    "pycharm": {
     "name": "#%%\n"
    }
   },
   "outputs": [],
   "source": [
    "print(traj._CVs.coords['CENTRAL_ANGLES'].values)"
   ]
  },
  {
   "cell_type": "markdown",
   "metadata": {
    "pycharm": {
     "name": "#%% md\n"
    }
   },
   "source": [
    "### Wrtiting custom features No 1\n",
    "\n",
    "Writing your custom features can be done by subclassing pyemma's features. Required methods and attributes to make your feature work are:\n",
    "\n",
    "- The class-level attributes `__serialize_version` and `__serialize_fields`\n",
    "- The methods `__init__`, `describe`, and `transform`.\n",
    "- The instance attribute `dimension`, which defines the shape of the returned array.\n",
    "\n",
    "If you want to change the name of the feature, as it appears in the `xarray.Dataset` you can set the attribute `name`.\n",
    "\n",
    "In the next cell we will define a Feature that provides a random integer to an atom, based on its hash."
   ]
  },
  {
   "cell_type": "code",
   "execution_count": null,
   "metadata": {
    "pycharm": {
     "name": "#%%\n"
    }
   },
   "outputs": [],
   "source": [
    "import encodermap as em\n",
    "from encodermap.loading.features import Feature\n",
    "import copy\n",
    "\n",
    "class RandomIntForAtomFeature(Feature):\n",
    "    # class inherits from encodermap CustomFeature\n",
    "    # set required class-level variables\n",
    "    __serialize_version = 0\n",
    "    __serialize_fields = ('indexes', 'selstr', )\n",
    "    \n",
    "    # write an __init__\n",
    "    def __init__(self, top, selstr='all'):\n",
    "        \"\"\"Init of RandomIntoForAtomFeature.\n",
    "        \n",
    "        Args:\n",
    "            top (mdtraj.Topology): The topology to select atoms from.\n",
    "            \n",
    "        Keyword Args:\n",
    "            selstr (str, optional): The string to provide to top.select().\n",
    "            Defaults to 'all'.\n",
    "        \n",
    "        \"\"\"\n",
    "        # Copy top to save it from hypothetical changes\n",
    "        self.top = copy.deepcopy(top)\n",
    "        \n",
    "        # define indexes (this is one of the serializable fields,\n",
    "        # which could be used by pyemma to save a feature to disk.)\n",
    "        self.indexes = top.select(selstr)\n",
    "        \n",
    "        # set dimension\n",
    "        self.dimension = len(self.indexes)\n",
    "        \n",
    "        # inherit missing methods from base\n",
    "        super().__init__()\n",
    "        \n",
    "    def describe(self):\n",
    "        \"\"\"This method is not allowed to take any arguments.\n",
    "        \n",
    "        This method provides labels.\n",
    "        \n",
    "        Returns:\n",
    "            list: A lsit of str, each str describing one feature.\n",
    "            \n",
    "        \"\"\"\n",
    "        # In this method we will build a list of str\n",
    "        # Each str should describe one of our features\n",
    "        # We assign ints to atoms, so the labels should tell something about the atoms\n",
    "        getlbl = lambda at: f\"atom {at.name:>4}:{at.index:5} {at.residue.name}:{at.residue.resSeq:>4}\"\n",
    "        labels = []\n",
    "        for i in self.indexes:\n",
    "            i = self.top.atom(i)\n",
    "            labels.append(f\"Random int for {getlbl(i)}\")\n",
    "        return labels\n",
    "    \n",
    "    def transform(self, traj):\n",
    "        \"\"\"This method provides values.\n",
    "        \n",
    "        Args:\n",
    "            traj (mdtraj.Trajectory): An mdtraj.Trajectory.\n",
    "            \n",
    "        Returns:\n",
    "            np.ndarray: The values of the features defined in describe.\n",
    "        \n",
    "        \"\"\"\n",
    "        # Make sure that the returned array has correct shape\n",
    "        # In general it is a good idea, that this array has the same length as\n",
    "        # the trajectory has frames\n",
    "        # In general means, like, ..., always\n",
    "        values = traj.xyz[:,:,0].astype(int)\n",
    "        for i in self.indexes:\n",
    "            values[:,i] = int(str(hash(str(self.top.atom(i))))[-5:])\n",
    "        return values\n",
    "    \n",
    "    @property\n",
    "    def name(self):\n",
    "        # define the name of the feature to appear in `SingleTraj._CVs`\n",
    "        return 'MyAwesomeFeature'"
   ]
  },
  {
   "cell_type": "code",
   "execution_count": null,
   "metadata": {
    "pycharm": {
     "name": "#%%\n"
    }
   },
   "outputs": [],
   "source": [
    "traj = em.SingleTraj('1am7_corrected.xtc', '1am7_protein.pdb')\n",
    "print(traj)\n",
    "featurizer = em.Featurizer(traj)\n",
    "feat = RandomIntForAtomFeature(traj.top)\n",
    "for i in feat.describe()[:200:25]:\n",
    "    print(i)"
   ]
  },
  {
   "cell_type": "code",
   "execution_count": null,
   "metadata": {
    "pycharm": {
     "name": "#%%\n"
    }
   },
   "outputs": [],
   "source": [
    "featurizer.add_custom_feature(feat)"
   ]
  },
  {
   "cell_type": "code",
   "execution_count": null,
   "metadata": {
    "pycharm": {
     "name": "#%%\n"
    }
   },
   "outputs": [],
   "source": [
    "traj.load_CV(featurizer)"
   ]
  },
  {
   "cell_type": "code",
   "execution_count": null,
   "metadata": {
    "pycharm": {
     "name": "#%%\n"
    }
   },
   "outputs": [],
   "source": [
    "traj._CVs.coords['MYAWESOMEFEATURE'].values"
   ]
  },
  {
   "cell_type": "markdown",
   "metadata": {
    "pycharm": {
     "name": "#%% md\n"
    }
   },
   "source": [
    "### Writing custom features No 2\n",
    "\n",
    "In this example we will implement a method of calculating a nematic order parameter. This example will be quite different (working with coarse-grained carbon-hydrate chains (so-called telechelics), and not with proteins), but we will work our way through. Here are some references you might consider:\n",
    "\n",
    "```\n",
    "@article{mukherjee2012derivation,\n",
    "  title={Derivation of coarse grained models for multiscale simulation of liquid crystalline phase transitions},\n",
    "  author={Mukherjee, Biswaroop and Delle Site, Luigi and Kremer, Kurt and Peter, Christine},\n",
    "  journal={The Journal of Physical Chemistry B},\n",
    "  volume={116},\n",
    "  number={29},\n",
    "  pages={8474--8484},\n",
    "  year={2012},\n",
    "  publisher={ACS Publications}\n",
    "}\n",
    "\n",
    "@article{flachmuller2021coarse,\n",
    "  title={Coarse grained simulation of the aggregation and structure control of polyethylene nanocrystals},\n",
    "  author={Flachm{\\\"u}ller, Alexander and Mecking, Stefan and Peter, Christine},\n",
    "  journal={Journal of Physics: Condensed Matter},\n",
    "  volume={33},\n",
    "  number={26},\n",
    "  pages={264001},\n",
    "  year={2021},\n",
    "  publisher={IOP Publishing}\n",
    "}\n",
    "```"
   ]
  },
  {
   "cell_type": "code",
   "execution_count": null,
   "metadata": {
    "pycharm": {
     "name": "#%%\n"
    }
   },
   "outputs": [],
   "source": []
  },
  {
   "cell_type": "markdown",
   "metadata": {
    "pycharm": {
     "name": "#%% md\n"
    }
   },
   "source": [
    "## Saving trajectory and CVs into one file\n",
    "\n",
    "A trajectory can (with its CVs) saved as one comprehensive file with the `save()` method. What's more: Loading such a file again makes it possible to access any frames and their corresponding CVs almost instantaneously."
   ]
  },
  {
   "cell_type": "code",
   "execution_count": null,
   "metadata": {
    "pycharm": {
     "name": "#%%\n"
    }
   },
   "outputs": [],
   "source": [
    "traj = em.SingleTraj('1am7_corrected.xtc', '1am7_protein.pdb')\n",
    "traj.load_CV('all')\n",
    "traj.save('1am7_all_CVs.h5')"
   ]
  },
  {
   "cell_type": "code",
   "execution_count": null,
   "metadata": {
    "pycharm": {
     "name": "#%%\n"
    }
   },
   "outputs": [],
   "source": [
    "new_traj = em.SingleTraj('1am7_all_CVs.h5')\n",
    "frames = new_traj[[0, 5, 20, 35]]\n",
    "frames.CentralCartesians.shape"
   ]
  },
  {
   "cell_type": "code",
   "execution_count": null,
   "metadata": {
    "pycharm": {
     "name": "#%%\n"
    }
   },
   "outputs": [],
   "source": [
    "frames = new_traj[::5]\n",
    "print(frames.CentralBondDistances.shape)\n",
    "print(frames._CVs.coords['CENTRALBONDDISTANCES'].values)"
   ]
  },
  {
   "cell_type": "markdown",
   "metadata": {
    "pycharm": {
     "name": "#%% md\n"
    }
   },
   "source": [
    "However, CVs are deleted, when the number of atoms is altered."
   ]
  },
  {
   "cell_type": "code",
   "execution_count": null,
   "metadata": {
    "pycharm": {
     "name": "#%%\n"
    }
   },
   "outputs": [],
   "source": [
    "subset = frames.atom_slice(frames.select('name CA'))"
   ]
  },
  {
   "cell_type": "code",
   "execution_count": null,
   "metadata": {
    "pycharm": {
     "name": "#%%\n"
    }
   },
   "outputs": [],
   "source": [
    "subset.CVs"
   ]
  },
  {
   "cell_type": "code",
   "execution_count": null,
   "metadata": {
    "pycharm": {
     "name": "#%%\n"
    }
   },
   "outputs": [],
   "source": []
  }
 ],
 "metadata": {
  "kernelspec": {
   "display_name": "Python 3",
   "language": "python",
   "name": "python3"
  },
  "language_info": {
   "codemirror_mode": {
    "name": "ipython",
    "version": 3
   },
   "file_extension": ".py",
   "mimetype": "text/x-python",
   "name": "python",
   "nbconvert_exporter": "python",
   "pygments_lexer": "ipython3",
   "version": "3.8.8"
  },
  "latex_envs": {
   "LaTeX_envs_menu_present": true,
   "autoclose": false,
   "autocomplete": true,
   "bibliofile": "biblio.bib",
   "cite_by": "apalike",
   "current_citInitial": 1,
   "eqLabelWithNumbers": true,
   "eqNumInitial": 1,
   "hotkeys": {
    "equation": "Ctrl-E",
    "itemize": "Ctrl-I"
   },
   "labels_anchors": false,
   "latex_user_defs": false,
   "report_style_numbering": false,
   "user_envs_cfg": false
  },
  "toc": {
   "base_numbering": 1,
   "nav_menu": {},
   "number_sections": true,
   "sideBar": true,
   "skip_h1_title": false,
   "title_cell": "Table of Contents",
   "title_sidebar": "Contents",
   "toc_cell": false,
   "toc_position": {},
   "toc_section_display": true,
   "toc_window_display": true
  }
 },
 "nbformat": 4,
 "nbformat_minor": 2
}
