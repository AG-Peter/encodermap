{
 "cells": [
  {
   "cell_type": "markdown",
   "id": "f371ee75-9d04-4f07-b386-7ad1362b650e",
   "metadata": {},
   "source": [
    "# Training with different topologies - Ubiquitin mutants\n",
    "\n",
    "Run this notebook on Google Colab:\n",
    "\n",
    "[![Open in Colab](https://colab.research.google.com/assets/colab-badge.svg)](https://colab.research.google.com/github/AG-Peter/encodermap/blob/main/tutorials/notebooks_MD/devel_Ub_mutants.ipynb)\n",
    "\n",
    "Find the documentation of EncoderMap:\n",
    "\n",
    "https://ag-peter.github.io/encodermap\n",
    "\n",
    "**Goals:**\n",
    "\n",
    "In this tutorial you will learn:\n",
    "- [Why different topologies can be challenging to combine into an ML model.](#problems_topologies)\n",
    "- [How EncoderMap uses sparse tensors and sparse matrix multiplication.](#sparse_matrices)"
   ]
  },
  {
   "cell_type": "markdown",
   "id": "9581a053-58f5-49f7-9ac6-3b3407c6e827",
   "metadata": {},
   "source": [
    "### For Google Colab only:\n",
    "\n",
    "If you're on Google colab, please uncomment these lines and install EncoderMap."
   ]
  },
  {
   "cell_type": "code",
   "execution_count": null,
   "id": "2859feb2-345b-42dc-a76f-d68fc3e9e27c",
   "metadata": {},
   "outputs": [],
   "source": [
    "# !wget https://gist.githubusercontent.com/kevinsawade/deda578a3c6f26640ae905a3557e4ed1/raw/b7403a37710cb881839186da96d4d117e50abf36/install_encodermap_google_colab.sh\n",
    "# !sudo bash install_encodermap_google_colab.sh"
   ]
  },
  {
   "cell_type": "markdown",
   "id": "3aab31c9-cea7-45d1-8f4d-2609e5ee4487",
   "metadata": {},
   "source": [
    "## Import Libraries\n",
    "Before we can get started using EncoderMap we first need to import the EncoderMap library:"
   ]
  },
  {
   "cell_type": "code",
   "execution_count": null,
   "id": "aba25dae-4b5f-4dbd-a984-8138b18e1d05",
   "metadata": {},
   "outputs": [],
   "source": [
    "import encodermap as em\n",
    "import numpy as np\n",
    "from pathlib import Path\n",
    "\n",
    "%load_ext autoreload\n",
    "%autoreload 2"
   ]
  },
  {
   "cell_type": "markdown",
   "id": "ef341b72-5dd1-4be3-8374-f02e9bb5dc07",
   "metadata": {},
   "source": [
    "<a id='problems_topologies'></a>\n",
    "\n",
    "## Protein topologies\n",
    "\n",
    "The topology of a protein can be understood as a hierarchical catalogue of chains, residues, atoms, and their connectivity via bonds, angles, and dihedrals.\n",
    "\n",
    "- chain 0:\n",
    "  - resiude 0: MET1\n",
    "    - atom 0: H1\n",
    "    - atom 1: H2\n",
    "    - atom 3: N\n",
    "    - atom 4: CA\n",
    "    - atom 5: CB\n",
    "    - atom 6: CG\n",
    "    - atom 7: SD\n",
    "    - atom 8: CE\n",
    "    - atom 9: C\n",
    "    - atom 10: O\n",
    "  - residue 1: ALA2\n",
    "    - ...\n",
    "  - ...\n",
    " \n",
    "- Bonds:\n",
    "  - H1 - N\n",
    "  - H2 - N\n",
    "  - N - CA\n",
    "  - ...\n",
    " \n",
    "- Angles:\n",
    "  - N - CA - C\n",
    "  - ...\n",
    " \n",
    "- Dihedrals:\n",
    "  - $\\psi$ of MET1 (N-CA-C-N)\n",
    "  - $\\omega$ of MET1 (CA-C-N-CA)\n",
    "  - $\\phi$ of ALA2 (C-N-CA-C)\n",
    "  - $\\psi$ of ALA2 (N-CA-C-N)\n",
    "  - ...\n",
    "  - $\\chi_1$ of MET1 (N-CA-CB-CG)\n",
    "  - $\\chi_2$ of MET1 (CA-CB-CG-SD)\n",
    "  - $\\chi_3$ of MET1 (CB-CG-SD-CE)\n",
    " \n",
    "Let's have a look at a two very short peptides and their topology. The coordinate files `MAE.pdb`, `MAD.pdb`, and `MAEG.pdb` represent peptides with the sequences MET-ALA-GLU, MET-ALA-ASP, and MET-ALA-GLU-GLY respectively. The function `load` of EncoderMap loads them as `SingleTraj` classes:"
   ]
  },
  {
   "cell_type": "code",
   "execution_count": null,
   "id": "18d06bf1-ece4-4cf6-80f1-d391ed827319",
   "metadata": {},
   "outputs": [],
   "source": [
    "output_dir = Path(\"/home/kevin/git/encoder_map_private/tests/data/topological_examples/\")\n",
    "\n",
    "mae = em.load(output_dir / \"MAE.pdb\")\n",
    "mad = em.load(output_dir / \"MAD.pdb\")\n",
    "maeg = em.load(output_dir / \"MAEG.pdb\")\n",
    "mage = em.load(output_dir / \"MAGE.pdb\")\n",
    "\n",
    "mae"
   ]
  },
  {
   "cell_type": "markdown",
   "id": "f7438c75-6e2b-42ab-add0-8d892ac8caf4",
   "metadata": {},
   "source": [
    "EncoderMap offers a way of quickly looking at peptides with the `plot_ball_and_stick()` function from the `plot` module. We can let EncoderMap highlight atoms, bonds, angles or dihedrals."
   ]
  },
  {
   "cell_type": "code",
   "execution_count": null,
   "id": "5fa2e632-c209-4209-8b17-dced4ee94ef4",
   "metadata": {},
   "outputs": [],
   "source": [
    "# You can change the global styles of EncoderMap's plots with this variable:\n",
    "# This layout is more suitable for publishing your work with EncoderMap\n",
    "# GLOBAL_LAYOUT = {\n",
    "#     \"paper_bgcolor\": 'rgba(0,0,0,0)',\n",
    "#     \"plot_bgcolor\": 'rgba(0,0,0,0)',\n",
    "#     \"template\": \"plotly_white\",\n",
    "#     \"scene\": {\n",
    "#         \"xaxis\": {\n",
    "#             \"visible\": False,\n",
    "#         },\n",
    "#         \"yaxis\": {\n",
    "#             \"visible\": False,\n",
    "#         },\n",
    "#         \"zaxis\": {\n",
    "#             \"visible\": False,\n",
    "#         },\n",
    "#     },\n",
    "# }\n",
    "# em.plot.plotting.GLOBAL_LAYOUT = GLOBAL_LAYOUT\n",
    "\n",
    "# reset with\n",
    "em.plot.plotting.GLOBAL_LAYOUT = {}\n",
    "\n",
    "# You can change the themes of EncoderMap's plotly plots with\n",
    "# import plotly.io as pio\n",
    "# pio.templates.default = \"plotly_dark\""
   ]
  },
  {
   "cell_type": "code",
   "execution_count": null,
   "id": "1b5f112f-eaf5-462b-a41d-3ca99046a8a4",
   "metadata": {},
   "outputs": [],
   "source": [
    "fig = em.plot.plot_ball_and_stick(\n",
    "    mae,\n",
    "    highlight=\"angles\",\n",
    ")"
   ]
  },
  {
   "cell_type": "code",
   "execution_count": null,
   "id": "df140ebd-b41c-4e72-8299-3c9b77483e7e",
   "metadata": {},
   "outputs": [],
   "source": [
    "fig = em.plot.plot_ball_and_stick(\n",
    "    mad,\n",
    "    highlight=\"angles\",\n",
    ")"
   ]
  },
  {
   "cell_type": "code",
   "execution_count": null,
   "id": "da3edca3-c74f-4823-8dff-973112521b99",
   "metadata": {},
   "outputs": [],
   "source": [
    "fig = em.plot.plot_ball_and_stick(\n",
    "    maeg,\n",
    "    highlight=\"dihedrals\",\n",
    ")"
   ]
  },
  {
   "cell_type": "code",
   "execution_count": null,
   "id": "25045076-c8d5-4c69-8fd0-ec28752d862c",
   "metadata": {},
   "outputs": [],
   "source": [
    "fig = em.plot.plot_ball_and_stick(\n",
    "    mage,\n",
    "    highlight=\"dihedrals\",\n",
    ")"
   ]
  },
  {
   "cell_type": "markdown",
   "id": "198371a7-1be0-4bfb-986e-5c1c1ac8519e",
   "metadata": {},
   "source": [
    "From playing around with these topologies, we can deduce that all three peptides have their own unique topologies.\n",
    "\n",
    "But somehow, they are still very similar.\n",
    "\n",
    "**MAE and MAD differ only in the number of carbon atoms at the sidechain of glutamic acid and aspartic acid.**\n",
    "\n",
    "This is called a point mutation. In nature, even just this single exchange for residues can have drastic changes, as far as hindering the function of the complete expressed protein. Diseases caused by point mutations can range from cancer, to neurodegenrative diseases, such as neurofibromatosis.\n",
    "\n",
    "**MAE and MAEG are differ only in the C-terminal tail**\n",
    "\n",
    "Often, proteins consist of a more rigid center (the globular domain - DG) and a flexible N- and C-terminal tail to either side of the sequence. These tails are oftentimes more flexible. These tails are often overlooked, because they can't be analyzed via X-ray diffraction but can still interact with the environment of the protein.\n",
    "\n",
    "**MAEG and MAGE have the same number of backbone torsions and sidechain torsions but exhibit different sequences**\n",
    "\n",
    "These two examples can be understood as sequence homologs or members of an evolutional protein family. Proteins in such families are similar, save for a few regions of evolutional variety (so-called non-conserved) regions.\n",
    "\n",
    "For these reasons, it would be beneficial to compare proteins with different topologies and describe them with one unifying theory. At the start of such an endeavor we will first look at the alignment of the four peptides.\n",
    "\n",
    "```\n",
    "CLUSTAL W (1.83) multiple sequence alignment\n",
    "\n",
    "MAE             MA-E\n",
    "MAD             MA-D\n",
    "MAGE            MAGE\n",
    "MAEG            MAEG\n",
    "                **  \n",
    "```\n",
    "\n",
    "\n",
    "### The feature space of the four peptides\n",
    "\n",
    "<center><img src=\"topology_examples.png\" width=\"800\"/></center>"
   ]
  },
  {
   "cell_type": "markdown",
   "id": "ff9f8604-9b94-4e7e-a91e-3fa2a2f96dfd",
   "metadata": {},
   "source": [
    "<center><img src=\"topology_examples.png\" width=\"800\"/></center>\n",
    "\n",
    "In the scheme above, you can get a better idea, how.\n",
    "\n",
    "## Analyzing different topologies\n",
    "\n",
    "We have now concluded, that these peptide sequences are similar and want to conduct some analysis on them. However, due to the difference in topology, we need to \n",
    "\n",
    "<div class=\"alert alert-info\" role=\"alert\">How can we treat these different topologies?</div>\n",
    "\n",
    "### Solution 1: Choose the Intersection of features\n",
    "\n",
    "For the intersection of features, we could use:"
   ]
  },
  {
   "cell_type": "code",
   "execution_count": null,
   "id": "0bf4d9d3-0193-4d94-a1d5-a28420fcc7a2",
   "metadata": {},
   "outputs": [],
   "source": [
    "mae.featurizer.add_list_of_feats(\"all\", periodic=False)\n",
    "mad.featurizer.add_list_of_feats(\"all\", periodic=False)\n",
    "intersection = np.in1d(mae.featurizer.describe(), mad.featurizer.describe())\n",
    "(np.array(mae.featurizer.describe())[intersection]).tolist()"
   ]
  },
  {
   "cell_type": "code",
   "execution_count": null,
   "id": "e5871bd1-4758-49e5-9be1-756909f4bc13",
   "metadata": {},
   "outputs": [],
   "source": []
  },
  {
   "cell_type": "code",
   "execution_count": null,
   "id": "31babce1-d5e6-4d56-924e-20a888802e7d",
   "metadata": {},
   "outputs": [],
   "source": []
  },
  {
   "cell_type": "markdown",
   "id": "984c6f2a-faed-479d-8ade-42e1c10f738b",
   "metadata": {},
   "source": [
    "**EncoderMap now can deal with these kinds of different topologies**\n",
    "\n",
    "EncoderMap does this by combining multiple `SingleTraj` into a `TrajEnsemble`, which can collect trajectories with different topologies and align them by using generic feature names:"
   ]
  },
  {
   "cell_type": "code",
   "execution_count": null,
   "id": "f33ee4d5-d984-40b2-8c84-4ceb2ec30da8",
   "metadata": {},
   "outputs": [],
   "source": [
    "trajs = em.TrajEnsemble(\n",
    "    [mae, mad, maeg, mage],\n",
    ")\n",
    "trajs"
   ]
  },
  {
   "cell_type": "markdown",
   "id": "1e7a5157-86a2-4e54-9c88-d0aaa3c8f94c",
   "metadata": {},
   "source": [
    "EncoderMap also offers a way to quickly load the most important features of such a peptide. With the `load_CVs(\"all\")` method of the `TrajEnsemble` class, we can directly load:\n",
    "\n",
    "- backbone positions\n",
    "- backbone distances\n",
    "- backbone angles\n",
    "- backbone dihedrals\n",
    "- sidechain dihedrals"
   ]
  },
  {
   "cell_type": "code",
   "execution_count": null,
   "id": "c7115650-58ec-40be-b4db-4acf33a51015",
   "metadata": {},
   "outputs": [],
   "source": [
    "trajs.load_CVs(\"all\", ensemble=False, periodic=False)"
   ]
  },
  {
   "cell_type": "markdown",
   "id": "db93f734-997d-456c-ac93-e61271bb435b",
   "metadata": {},
   "source": [
    "We can then have a look at the data using the `_CVs` attribute of the `TrajEnsemble`. In this case, we are just interesed in the `side_dihedrals`:"
   ]
  },
  {
   "cell_type": "code",
   "execution_count": null,
   "id": "6f4ee780-f866-4465-b186-6c4023051f7d",
   "metadata": {},
   "outputs": [],
   "source": [
    "trajs._CVs.side_dihedrals"
   ]
  },
  {
   "cell_type": "markdown",
   "id": "611011e8-4cf9-4df3-a796-d6a899014293",
   "metadata": {},
   "source": [
    "The side dihedrals of `MAE.pdb` are defined as:\n",
    "\n",
    "- SIDECHDIH CHI1  RESID  MET:   1 CHAIN 0\n",
    "- SIDECHDIH CHI2  RESID  MET:   1 CHAIN 0\n",
    "- SIDECHDIH CHI3  RESID  MET:   1 CHAIN 0\n",
    "- SIDECHDIH CHI1  RESID  GLU:   3 CHAIN 0\n",
    "- SIDECHDIH CHI2  RESID  GLU:   3 CHAIN 0\n",
    "- SIDECHDIH CHI3  RESID  GLU:   3 CHAIN 0"
   ]
  },
  {
   "cell_type": "markdown",
   "id": "bcd4e619-d516-4f00-9ab3-5be3a1bf2375",
   "metadata": {},
   "source": [
    "<a id='sparse_matrices'></a>\n",
    "\n",
    "## Excourse: Sparse matrices\n",
    "\n",
    "Simply put, a normal matrix multiplication ($\\times$) is carried out by calculating the row- and column-wise dot-product. In the example below, the matrices $A^{2\\times3}$  and $B^{3\\times2}$ are multiplied to yield $C^{2\\times2}$. The first element of $C$ is obtained by solving: $1 * 7 + 2 * 9 + 3 * 11 = 58$. In python, NumPy arrays can be multiplied with the `matmul` operator `@`:"
   ]
  },
  {
   "cell_type": "code",
   "execution_count": null,
   "id": "189707e1-f600-412b-bcf1-cc986249beb7",
   "metadata": {},
   "outputs": [],
   "source": [
    "A = np.array([\n",
    "    [1, 2, 3],\n",
    "    [4, 5, 6],\n",
    "])\n",
    "\n",
    "B = np.array([\n",
    "    [7, 8],\n",
    "    [9, 10],\n",
    "    [11, 12],\n",
    "])\n",
    "\n",
    "C = A @ B\n",
    "C"
   ]
  },
  {
   "cell_type": "markdown",
   "id": "15308eb7-ae3f-49fc-b2b9-e58fef51b696",
   "metadata": {},
   "source": [
    "The same can be done with tensorflow tensors:"
   ]
  },
  {
   "cell_type": "code",
   "execution_count": null,
   "id": "4a15d311-f083-40cd-ab80-37395c1df8a4",
   "metadata": {},
   "outputs": [],
   "source": [
    "A_t = tf.convert_to_tensor(A)\n",
    "B_t = tf.convert_to_tensor(B)\n",
    "C_t = A_t @ B_t\n",
    "C_t"
   ]
  },
  {
   "cell_type": "markdown",
   "id": "138c357d-45a6-478f-ab66-5ae726f6d4ad",
   "metadata": {},
   "source": [
    "However, when some of the values are unkown, we can't carry out normal matrix multiplication, because the multiplication of a number with not-a-number yields not-a-number."
   ]
  },
  {
   "cell_type": "code",
   "execution_count": null,
   "id": "483953a0-5b2b-4367-8c4b-0231a90653e3",
   "metadata": {},
   "outputs": [],
   "source": [
    "A = np.array([\n",
    "    [1, 2, 3],\n",
    "    [4, np.nan, 6],\n",
    "])\n",
    "\n",
    "B = np.array([\n",
    "    [7, 8],\n",
    "    [9, 10],\n",
    "    [11, 12],\n",
    "])\n",
    "\n",
    "C = A @ B\n",
    "C"
   ]
  },
  {
   "cell_type": "markdown",
   "id": "60b55054-7123-4128-b5cf-618301bb128b",
   "metadata": {},
   "source": [
    "The same happens in tensorflow. However, because tensorflow matrix-multiplications are often carried out in sequence (a dense layer of a neural network carries out the operation $\\hat{y} = w \\cdot y + b$), nans can propagate:"
   ]
  },
  {
   "cell_type": "code",
   "execution_count": null,
   "id": "1902f6a9-9c88-4bf2-804b-20568e7ba5df",
   "metadata": {},
   "outputs": [],
   "source": [
    "model = tf.keras.Sequential([\n",
    "    tf.keras.layers.Dense(units=3, input_shape=(3, )),\n",
    "    tf.keras.layers.Dense(units=2),\n",
    "])\n",
    "\n",
    "A = np.array([\n",
    "    [1, 2, 3],\n",
    "    [4, np.nan, 6],\n",
    "    [7, 8, 9],\n",
    "])\n",
    "\n",
    "B = np.array([\n",
    "    [7, 8],\n",
    "    [9, 10],\n",
    "    [11, 12],\n",
    "])\n",
    "\n",
    "model.compile(optimizer=\"Adam\", loss=\"mse\")\n",
    "history = model.fit(A, B, batch_size=2, epochs=10)\n",
    "\n",
    "model(A)"
   ]
  },
  {
   "cell_type": "markdown",
   "id": "b0a2404d-bac4-40b2-8164-a0c61b4845c6",
   "metadata": {},
   "source": [
    "This can be solved by sparse matrix multiplication. Normally sparse matrix multiplication is a tool to increase the speed of matrix multiplication when a lot of the matrix elements are zeros. We can use sparse matrix multiplication to allow some elements to be undefined."
   ]
  },
  {
   "cell_type": "code",
   "execution_count": null,
   "id": "494834db-4496-4856-9ae3-3e936507c995",
   "metadata": {},
   "outputs": [],
   "source": [
    "model = tf.keras.Sequential([\n",
    "    tf.keras.layers.Input(shape=(3, ), sparse=True),\n",
    "    tf.keras.layers.Dense(units=3),\n",
    "    tf.keras.layers.Dense(units=2),\n",
    "])\n",
    "\n",
    "A = np.array([\n",
    "    [1, 2, 3],\n",
    "    [4, np.nan, 6],\n",
    "    [7, 8, 9],\n",
    "])\n",
    "indices = np.where(~np.isnan(A))\n",
    "A = tf.SparseTensor(\n",
    "    indices=np.vstack(indices).T,\n",
    "    values=A[indices],\n",
    "    dense_shape=A.shape,\n",
    ")\n",
    "\n",
    "B = np.array([\n",
    "    [7, 8],\n",
    "    [9, 10],\n",
    "    [11, 12],\n",
    "])\n",
    "\n",
    "model.compile(optimizer=\"Adam\", loss=\"mse\")\n",
    "history = model.fit(A, B, batch_size=2, epochs=10)\n",
    "\n",
    "model(A)"
   ]
  },
  {
   "cell_type": "markdown",
   "id": "881235be-529f-48ba-b5b9-abc6d701df7d",
   "metadata": {},
   "source": [
    "This model can now be used with a wide variety of sparse data, that has potentially missing values."
   ]
  },
  {
   "cell_type": "code",
   "execution_count": null,
   "id": "c337201f-ca4d-4583-859a-205349085f48",
   "metadata": {},
   "outputs": [],
   "source": [
    "C = np.array([\n",
    "    [1, 2, 3],\n",
    "    [4, 5, np.nan],\n",
    "    [7, 8, np.nan],\n",
    "])\n",
    "\n",
    "indices = np.where(~np.isnan(C))\n",
    "\n",
    "C = tf.SparseTensor(\n",
    "    indices=np.vstack(indices).T,\n",
    "    values=C[indices],\n",
    "    dense_shape=C.shape,\n",
    ")\n",
    "\n",
    "model(C)"
   ]
  },
  {
   "cell_type": "markdown",
   "id": "1bbdbeef-b569-4be1-9969-b9c4a336535c",
   "metadata": {},
   "source": [
    "## Ub mutants\n",
    "\n",
    "### Load data"
   ]
  },
  {
   "cell_type": "code",
   "execution_count": null,
   "id": "66db24d3-09f2-4a07-9595-b4bd44431099",
   "metadata": {},
   "outputs": [],
   "source": [
    "output_dir = em.get_from_kondata(\n",
    "    \"Ub_K11_mutants\",\n",
    "    mk_parentdir=True,\n",
    "    silence_overwrite_message=True,\n",
    ")\n",
    "output_dir = Path(output_dir)"
   ]
  },
  {
   "cell_type": "code",
   "execution_count": null,
   "id": "c79ae148-59fe-4819-b61f-f6c1dfa70fe2",
   "metadata": {},
   "outputs": [],
   "source": [
    "OVERWRITE = False\n",
    "\n",
    "trajs_file = output_dir / \"trajs.h5\"\n",
    "\n",
    "if trajs_file.is_file() and not OVERWRITE:\n",
    "    trajs = em.load(trajs_file)\n",
    "else:\n",
    "    custom_aas = {\n",
    "    \"KAC\": (\n",
    "        \"K\",\n",
    "        {\n",
    "            \"bonds\": [\n",
    "                (\"-C\", \"N\"),  # the peptide bond to the previous aa\n",
    "                (\"N\", \"CA\"),\n",
    "                (\"N\", \"H\"),\n",
    "                (\"CA\", \"C\"),\n",
    "                (\"C\", \"O\"),\n",
    "                (\"CA\", \"CB\"),\n",
    "                (\"CB\", \"CG\"),\n",
    "                (\"CG\", \"CD\"),\n",
    "                (\"CD\", \"CE\"),\n",
    "                (\"CE\", \"NZ\"),\n",
    "                (\"NZ\", \"HZ\"),\n",
    "                (\"NZ\", \"CH\"),\n",
    "                (\"CH\", \"OI2\"),\n",
    "                (\"CH\", \"CI1\"),\n",
    "                (\"C\", \"+N\"),  # the peptide bond to the next aa\n",
    "            ],\n",
    "            \"CHI1\": [\"N\", \"CA\", \"CB\", \"CG\"],\n",
    "            \"CHI2\": [\"CA\", \"CB\", \"CG\", \"CD\"],\n",
    "            \"CHI3\": [\"CB\", \"CG\", \"CD\", \"CE\"],\n",
    "            \"CHI4\": [\"CG\", \"CD\", \"CE\", \"NZ\"],\n",
    "            \"CHI5\": [\"CD\", \"CE\", \"NZ\", \"CH\"],\n",
    "        },\n",
    "    )\n",
    "}\n",
    "    trajs = list(output_dir.rglob(\"*.xtc\"))\n",
    "    tops = [t.parent / \"start.pdb\" for t in trajs]\n",
    "    common_str = [\"wt\", \"Ac\", \"Q\", \"R\", \"C\"]\n",
    "    basename_fn = lambda x: x.split(\"/\")[-2]\n",
    "    trajs = em.load(\n",
    "        trajs=trajs,\n",
    "        tops=tops,\n",
    "        common_str=common_str,\n",
    "        basename_fn=basename_fn,\n",
    "    )\n",
    "    trajs.load_custom_topology(custom_aas)\n",
    "    trajs.load_CVs(\"all\", ensemble=True)\n",
    "    trajs.save(trajs_file, overwrite=True)"
   ]
  },
  {
   "cell_type": "markdown",
   "id": "ac2b097a-ec71-4bb0-b79a-910463690793",
   "metadata": {},
   "source": [
    "### Make images of topology"
   ]
  },
  {
   "cell_type": "code",
   "execution_count": null,
   "id": "b72662d9-893f-4239-b93d-e1fbf08343d7",
   "metadata": {},
   "outputs": [],
   "source": [
    "%load_ext autoreload\n",
    "%autoreload 2\n",
    "\n",
    "from encodermap.plot.plotting import _plot_ball_and_stick\n",
    "import warnings"
   ]
  },
  {
   "cell_type": "code",
   "execution_count": null,
   "id": "a1f877b6-96d3-4534-a238-03a98d448bcb",
   "metadata": {},
   "outputs": [],
   "source": [
    "trajs.trajs_by_common_str.keys()"
   ]
  },
  {
   "cell_type": "code",
   "execution_count": null,
   "id": "dc80c8dc-6b16-4fd8-b9d3-25610ea19bb2",
   "metadata": {},
   "outputs": [],
   "source": [
    "traj = trajs.trajs_by_common_str[\"wt\"][0]\n",
    "\n",
    "GLOBAL_LAYOUT = {\n",
    "    \"paper_bgcolor\": 'rgba(0,0,0,0)',\n",
    "    \"plot_bgcolor\": 'rgba(0,0,0,0)',\n",
    "    \"template\": \"plotly_white\",\n",
    "    \"scene\": {\n",
    "        \"xaxis\": {\n",
    "            \"visible\": False,\n",
    "        },\n",
    "        \"yaxis\": {\n",
    "            \"visible\": False,\n",
    "        },\n",
    "        \"zaxis\": {\n",
    "            \"visible\": False,\n",
    "        },\n",
    "    },\n",
    "}\n",
    "em.plot.plotting.GLOBAL_LAYOUT = GLOBAL_LAYOUT\n",
    "\n",
    "with warnings.catch_warnings():\n",
    "    warnings.simplefilter(\"ignore\")\n",
    "    fig = _plot_ball_and_stick(\n",
    "        traj,\n",
    "        atom_indices=traj.top.select(\"resid 9 to 11 and not element H\"),\n",
    "        highlight=\"side_dihedrals\",\n",
    "        add_angle_arcs=True,\n",
    "        persistent_hover=True,\n",
    "        angle_arcs_true_to_value=False,\n",
    "        flatten=False,\n",
    "    )\n",
    "\n",
    "fig.show()"
   ]
  },
  {
   "cell_type": "code",
   "execution_count": null,
   "id": "5e0631ff-d81b-467c-ad95-1e8a17d88409",
   "metadata": {},
   "outputs": [],
   "source": [
    "traj = trajs.trajs_by_common_str[\"Ac\"][0]\n",
    "\n",
    "GLOBAL_LAYOUT = {\n",
    "    \"paper_bgcolor\": 'rgba(0,0,0,0)',\n",
    "    \"plot_bgcolor\": 'rgba(0,0,0,0)',\n",
    "    \"template\": \"plotly_white\",\n",
    "    \"scene\": {\n",
    "        \"xaxis\": {\n",
    "            \"visible\": False,\n",
    "        },\n",
    "        \"yaxis\": {\n",
    "            \"visible\": False,\n",
    "        },\n",
    "        \"zaxis\": {\n",
    "            \"visible\": False,\n",
    "        },\n",
    "    },\n",
    "}\n",
    "em.plot.plotting.GLOBAL_LAYOUT = GLOBAL_LAYOUT\n",
    "\n",
    "with warnings.catch_warnings():\n",
    "    warnings.simplefilter(\"ignore\")\n",
    "    fig = _plot_ball_and_stick(\n",
    "        traj,\n",
    "        atom_indices=traj.top.select(\"resid 9 to 11 and not element H\"),\n",
    "        highlight=\"side_dihedrals\",\n",
    "        add_angle_arcs=True,\n",
    "        persistent_hover=True,\n",
    "        angle_arcs_true_to_value=False,\n",
    "        flatten=False,\n",
    "    )\n",
    "\n",
    "fig.show()"
   ]
  },
  {
   "cell_type": "code",
   "execution_count": null,
   "id": "6a1c6e90-cf74-4409-910f-302f611550ea",
   "metadata": {},
   "outputs": [],
   "source": [
    "traj = trajs.trajs_by_common_str[\"Ac\"][0]\n",
    "\n",
    "GLOBAL_LAYOUT = {\n",
    "    \"paper_bgcolor\": 'rgba(0,0,0,0)',\n",
    "    \"plot_bgcolor\": 'rgba(0,0,0,0)',\n",
    "    \"template\": \"plotly_white\",\n",
    "    \"scene\": {\n",
    "        \"xaxis\": {\n",
    "            \"visible\": False,\n",
    "        },\n",
    "        \"yaxis\": {\n",
    "            \"visible\": False,\n",
    "        },\n",
    "        \"zaxis\": {\n",
    "            \"visible\": False,\n",
    "        },\n",
    "    },\n",
    "}\n",
    "em.plot.plotting.GLOBAL_LAYOUT = GLOBAL_LAYOUT\n",
    "\n",
    "with warnings.catch_warnings():\n",
    "    warnings.simplefilter(\"ignore\")\n",
    "    fig = _plot_ball_and_stick(\n",
    "        traj,\n",
    "        atom_indices=traj.top.select(\"resid 9 to 11\"),\n",
    "        highlight=\"side_dihedrals\",\n",
    "        add_angle_arcs=True,\n",
    "        persistent_hover=True,\n",
    "        angle_arcs_true_to_value=False,\n",
    "    )\n",
    "\n",
    "fig.show()"
   ]
  },
  {
   "cell_type": "code",
   "execution_count": null,
   "id": "05076ca2-f560-4e82-8236-63de860d0f26",
   "metadata": {},
   "outputs": [],
   "source": [
    "traj = trajs.trajs_by_common_str[\"Q\"][0]\n",
    "\n",
    "GLOBAL_LAYOUT = {\n",
    "    \"paper_bgcolor\": 'rgba(0,0,0,0)',\n",
    "    \"plot_bgcolor\": 'rgba(0,0,0,0)',\n",
    "    \"template\": \"plotly_white\",\n",
    "    \"scene\": {\n",
    "        \"xaxis\": {\n",
    "            \"visible\": False,\n",
    "        },\n",
    "        \"yaxis\": {\n",
    "            \"visible\": False,\n",
    "        },\n",
    "        \"zaxis\": {\n",
    "            \"visible\": False,\n",
    "        },\n",
    "    },\n",
    "}\n",
    "em.plot.plotting.GLOBAL_LAYOUT = GLOBAL_LAYOUT\n",
    "\n",
    "with warnings.catch_warnings():\n",
    "    warnings.simplefilter(\"ignore\")\n",
    "    fig = _plot_ball_and_stick(\n",
    "        traj,\n",
    "        atom_indices=traj.top.select(\"resid 9 to 11\"),\n",
    "        highlight=\"side_dihedrals\",\n",
    "        add_angle_arcs=True,\n",
    "        persistent_hover=True,\n",
    "        angle_arcs_true_to_value=False,\n",
    "    )\n",
    "\n",
    "fig.show()"
   ]
  },
  {
   "cell_type": "code",
   "execution_count": null,
   "id": "ced77e7e-a036-497e-a559-6d0add7dfdb2",
   "metadata": {},
   "outputs": [],
   "source": [
    "traj = trajs.trajs_by_common_str[\"C\"][0]\n",
    "\n",
    "GLOBAL_LAYOUT = {\n",
    "    \"paper_bgcolor\": 'rgba(0,0,0,0)',\n",
    "    \"plot_bgcolor\": 'rgba(0,0,0,0)',\n",
    "    \"template\": \"plotly_white\",\n",
    "    \"scene\": {\n",
    "        \"xaxis\": {\n",
    "            \"visible\": False,\n",
    "        },\n",
    "        \"yaxis\": {\n",
    "            \"visible\": False,\n",
    "        },\n",
    "        \"zaxis\": {\n",
    "            \"visible\": False,\n",
    "        },\n",
    "    },\n",
    "}\n",
    "em.plot.plotting.GLOBAL_LAYOUT = GLOBAL_LAYOUT\n",
    "\n",
    "with warnings.catch_warnings():\n",
    "    warnings.simplefilter(\"ignore\")\n",
    "    fig = _plot_ball_and_stick(\n",
    "        traj,\n",
    "        atom_indices=traj.top.select(\"resid 9 to 11\"),\n",
    "        highlight=\"side_dihedrals\",\n",
    "        add_angle_arcs=True,\n",
    "        persistent_hover=True,\n",
    "        angle_arcs_true_to_value=False,\n",
    "    )\n",
    "\n",
    "fig.show()"
   ]
  },
  {
   "cell_type": "code",
   "execution_count": null,
   "id": "b18ec786-5ddd-4dbf-b9ae-fe8a50897442",
   "metadata": {},
   "outputs": [],
   "source": []
  },
  {
   "cell_type": "markdown",
   "id": "571cb415-ae5a-4ba7-bf98-1ab2d6205b59",
   "metadata": {},
   "source": [
    "### Choose parameters"
   ]
  },
  {
   "cell_type": "code",
   "execution_count": null,
   "id": "8b6daea4-6be4-4397-9421-0c623d2011f2",
   "metadata": {},
   "outputs": [],
   "source": [
    "import xarray as xr\n",
    "da = xr.open_dataset(\"../tests/data/linear_dimers/trajs.h5\", group=\"CVs\", engine=\"h5netcdf\").central_cartesians\n",
    "linear_dimers_cartesians = da.stack({\"frame\": (\"traj_num\", \"frame_num\")}).transpose(\"frame\", ...).dropna(\"frame\", how=\"all\")\n",
    "linear_dimers_cartesians.shape"
   ]
  },
  {
   "cell_type": "code",
   "execution_count": null,
   "id": "d2754294-ee19-493b-ae6e-7307c26e0672",
   "metadata": {},
   "outputs": [],
   "source": [
    "em.plot.distance_histogram_interactive(\n",
    "    data=em.misc.pairwise_dist(\n",
    "        linear_dimers_cartesians[::1000, 1::3],\n",
    "    ),\n",
    "    periodicity=float(\"inf\"),\n",
    "    initial_guess=[40, 10, 5, 1, 2, 5],\n",
    "    n_values=1000,\n",
    ")"
   ]
  },
  {
   "cell_type": "code",
   "execution_count": null,
   "id": "17deaf11-0300-49ee-827e-8275fe53e7a8",
   "metadata": {},
   "outputs": [],
   "source": [
    "p = em.ADCParameters(\n",
    "    cartesian_pwd_start=1,\n",
    "    cartesian_pwd_step=3,\n",
    "    cartesian_dist_sig_parameters=(7, 6, 3, 1, 2, 3),\n",
    ")\n",
    "\n",
    "em.plot.distance_histogram_interactive(\n",
    "    data=em.misc.pairwise_dist(\n",
    "        trajs.central_cartesians[::1000, p.cartesian_pwd_start::p.cartesian_pwd_step],\n",
    "    ),\n",
    "    periodicity=float(\"inf\"),\n",
    "    initial_guess=p.cartesian_dist_sig_parameters,\n",
    "    n_values=1000,\n",
    ")"
   ]
  },
  {
   "cell_type": "markdown",
   "id": "cd08804e-7836-4d33-8e94-6052d2149b40",
   "metadata": {},
   "source": [
    "### Train"
   ]
  },
  {
   "cell_type": "code",
   "execution_count": null,
   "id": "4215c70a-f1d9-4e72-a3f7-509df03755b8",
   "metadata": {},
   "outputs": [],
   "source": [
    "total_steps = 5000\n",
    "\n",
    "parameters = em.ADCParameters(\n",
    "    main_path=em.misc.run_path(output_dir / \"runs\"),\n",
    "    use_sidechains=True,\n",
    "    use_backbone_angles=True,\n",
    "    cartesian_dist_sig_parameters=(7, 6, 3, 1, 2, 3),\n",
    "    n_steps=total_steps,\n",
    "    cartesian_cost_scale=1,\n",
    "    cartesian_cost_variant=\"mean_abs\",\n",
    "    cartesian_cost_scale_soft_start=(\n",
    "        int(total_steps / 10 * 9),\n",
    "        int(total_steps / 10 * 9) + total_steps // 50,\n",
    "    ),\n",
    "    cartesian_pwd_start=1,\n",
    "    cartesian_pwd_step=3,\n",
    "    dihedral_cost_scale=1,\n",
    "    dihedral_cost_variant=\"mean_abs\",\n",
    "    distance_cost_scale=0,\n",
    "    cartesian_distance_cost_scale=100,\n",
    "    checkpoint_step=max(1, int(total_steps / 10)),\n",
    "    l2_reg_constant=0.001,\n",
    "    center_cost_scale=0,\n",
    "    tensorboard=True,\n",
    ")\n",
    "\n",
    "emap = em.AngleDihedralCartesianEncoderMap(\n",
    "    trajs=trajs,\n",
    "    parameters=p,\n",
    "    read_only=False,\n",
    "    use_dataset_when_possible=True,\n",
    ")\n",
    "emap.add_images_to_tensorboard()"
   ]
  },
  {
   "cell_type": "markdown",
   "id": "a534750f-6ed6-4978-8a15-4ac48ea34692",
   "metadata": {},
   "source": [
    "### Preliminary plots"
   ]
  },
  {
   "cell_type": "code",
   "execution_count": null,
   "id": "5e5ffa7d-6607-4e43-8ce3-f4644dcfec06",
   "metadata": {},
   "outputs": [],
   "source": [
    "trajs, emap = em.load_project(\"Ub_K11_mutants\", load_autoencoder=True)"
   ]
  },
  {
   "cell_type": "code",
   "execution_count": null,
   "id": "eb4c5977-1cff-4dd1-afba-75d3c6168d7e",
   "metadata": {},
   "outputs": [],
   "source": [
    "lowd = emap.encode()\n",
    "trajs.load_CVs(lowd, \"lowd\")"
   ]
  },
  {
   "cell_type": "code",
   "execution_count": null,
   "id": "d323c88e-e528-455a-9143-f990d160f7ab",
   "metadata": {},
   "outputs": [],
   "source": [
    "em.plot.plot_trajs_by_parameter(trajs, \"free_energy\")"
   ]
  },
  {
   "cell_type": "code",
   "execution_count": null,
   "id": "ebbfd872-c21c-4063-9195-22762d015f4f",
   "metadata": {},
   "outputs": [],
   "source": [
    "em.plot.plot_trajs_by_parameter(trajs, \"common_str\")"
   ]
  },
  {
   "cell_type": "code",
   "execution_count": null,
   "id": "2bcacfe0-b095-4232-94d1-23d8ba2ea76e",
   "metadata": {},
   "outputs": [],
   "source": [
    "em.plot.plot_trajs_by_parameter(trajs, \"common_str\", type=\"heatmap\", nbins=50)"
   ]
  },
  {
   "cell_type": "code",
   "execution_count": null,
   "id": "e60593b7-e677-4c5f-a07a-176b66d22e6a",
   "metadata": {},
   "outputs": [],
   "source": [
    "em.plot.plot_trajs_by_parameter(trajs, \"encoded_frame\")"
   ]
  },
  {
   "cell_type": "code",
   "execution_count": null,
   "id": "9ee639a8-f45f-4f46-b912-90b94d1b229f",
   "metadata": {},
   "outputs": [],
   "source": [
    "em.plot.plot_trajs_by_parameter(trajs, \"traj_num\")"
   ]
  },
  {
   "cell_type": "markdown",
   "id": "5fd10045-a183-4d0c-8567-e090c553385f",
   "metadata": {},
   "source": [
    "### Decoding"
   ]
  },
  {
   "cell_type": "code",
   "execution_count": null,
   "id": "ab8563b0-2e44-4bd9-904c-f3303d3bfb3f",
   "metadata": {},
   "outputs": [],
   "source": [
    "trajs, emap = em.load_project(\"Ub_K11_mutants\", load_autoencoder=True)"
   ]
  },
  {
   "cell_type": "code",
   "execution_count": null,
   "id": "09c1a13e-674d-4cfe-bb3e-4b72ba3893e5",
   "metadata": {},
   "outputs": [],
   "source": [
    "sess = em.InteractivePlotting(autoencoder=emap)"
   ]
  },
  {
   "cell_type": "code",
   "execution_count": null,
   "id": "0af95ea7-c624-412c-a233-a19dc40846fc",
   "metadata": {},
   "outputs": [],
   "source": [
    "# sess.generate(None)\n",
    "sess.save(None)"
   ]
  },
  {
   "cell_type": "markdown",
   "id": "549f0d00-774e-4bbd-a490-393e870b57bd",
   "metadata": {},
   "source": [
    "### Look at saved paths with `interactive_path_visualization`"
   ]
  },
  {
   "cell_type": "code",
   "execution_count": null,
   "id": "e68c8f9a-315d-41a4-b66a-4b5061d0d0f9",
   "metadata": {},
   "outputs": [],
   "source": [
    "import encodermap as em\n",
    "import pandas as pd\n",
    "import numpy as np\n",
    "\n",
    "%load_ext autoreload\n",
    "%autoreload 2\n",
    "\n",
    "traj = em.load(\"/home/kevin/git/encoder_map_private/tests/data/Ub_K11_mutants/checkpoints/finished_training/tf2_15/generated_paths/2024-03-20T18:15:15+01:00/generated.xtc\", \"/home/kevin/git/encoder_map_private/tests/data/Ub_K11_mutants/checkpoints/finished_training/tf2_15/generated_paths/2024-03-20T18:15:15+01:00/generated.pdb\")\n",
    "lowd = pd.read_csv(\"/home/kevin/git/encoder_map_private/tests/data/Ub_K11_mutants/checkpoints/finished_training/tf2_15/generated_paths/2024-03-20T18:15:15+01:00/lowd.csv\")\n",
    "path = np.load(\"/home/kevin/git/encoder_map_private/tests/data/Ub_K11_mutants/checkpoints/finished_training/tf2_15/generated_paths/2024-03-20T18:15:15+01:00/path.npy\")\n",
    "\n",
    "em.plot.interactive_path_visualization(\n",
    "\ttraj,\n",
    "\tlowd,\n",
    "\tpath,\n",
    ")"
   ]
  },
  {
   "cell_type": "markdown",
   "id": "632df81e-3c09-4758-940a-65c8957bddbf",
   "metadata": {},
   "source": [
    "## linear Ub-dimers and FAT10\n",
    "\n",
    "### Load data"
   ]
  },
  {
   "cell_type": "code",
   "execution_count": null,
   "id": "4d182c8c-fb55-4b1e-99b6-674e6a4918a2",
   "metadata": {},
   "outputs": [],
   "source": [
    "import encodermap as em\n",
    "from pathlib import Path\n",
    "import xarray as xr\n",
    "import numpy as np\n",
    "from tqdm import tqdm\n",
    "import re\n",
    "\n",
    "%load_ext autoreload\n",
    "%autoreload 2"
   ]
  },
  {
   "cell_type": "code",
   "execution_count": null,
   "id": "9b9a76bd-34bc-4542-80a4-36b73bf08458",
   "metadata": {},
   "outputs": [],
   "source": [
    "ub_dimer_dir = Path(em.get_from_kondata(\n",
    "    \"linear_dimers\",\n",
    "    mk_parentdir=True,\n",
    "    silence_overwrite_message=True,\n",
    "))\n",
    "\n",
    "fat10_dir = Path(em.get_from_kondata(\n",
    "    \"FAT10\",\n",
    "    mk_parentdir=True,\n",
    "    silence_overwrite_message=True,\n",
    "    download_checkpoints=True,\n",
    "))"
   ]
  },
  {
   "cell_type": "code",
   "execution_count": null,
   "id": "dd138c94-d835-4dfb-b5f9-cc19e5057095",
   "metadata": {},
   "outputs": [],
   "source": [
    "# don't need full trajs, so use subset for topology\n",
    "# trajs = em.TrajEnsemble.from_dataset(fat10_dir / \"linear_dimers_and_fat10.h5\")\n",
    "\n",
    "# load just the first Ubi dimer and first FAT10 sim\n",
    "sub_trajs = em.load(\n",
    "    trajs=[\n",
    "        ub_dimer_dir / \"01.xtc\",\n",
    "        fat10_dir / \"01.xtc\",\n",
    "    ],\n",
    "    tops=[\n",
    "        ub_dimer_dir / \"01.pdb\",\n",
    "        fat10_dir / \"01.pdb\",\n",
    "    ],\n",
    "    basename_fn=lambda x: \"_\".join(list(x.split(\"/\")[-2:])),\n",
    "    common_str=[\"linear_dimer\", \"FAT10\"],\n",
    "    traj_num=[0, 12],\n",
    ")\n",
    "\n",
    "# xr.open_dataset does not tax the system memory at all\n",
    "ds = xr.open_dataset(fat10_dir / \"linear_dimers_and_fat10.h5\", group=\"CVs\")\n",
    "\n",
    "# load the dataset\n",
    "sub_trajs.load_CVs(\n",
    "    ds.sel(traj_num=[0, 12]),\n",
    ")\n",
    "sub_trajs"
   ]
  },
  {
   "cell_type": "code",
   "execution_count": null,
   "id": "f316efcc-af98-4498-8d60-7d8dcaef661e",
   "metadata": {},
   "outputs": [],
   "source": [
    "emap = em.AngleDihedralCartesianEncoderMap.from_checkpoint(\n",
    "    trajs=sub_trajs,\n",
    "    checkpoint_path=fat10_dir / \"checkpoints/finished_training/tf2_15/saved_model_50000.keras\",\n",
    ")"
   ]
  },
  {
   "cell_type": "code",
   "execution_count": null,
   "id": "60349457-1969-4861-9bb4-cf9fd8de9bd7",
   "metadata": {},
   "outputs": [],
   "source": [
    "keras_file = Path(\"/home/kevin/encodermap/tests/data/FAT10/runs/2nd_run_lower_training_rate_to_0_0001/saved_model_50000.keras\")\n",
    "\n",
    "emap_for_steps = em.AngleDihedralCartesianEncoderMap.from_checkpoint(\n",
    "    trajs=sub_trajs,\n",
    "    checkpoint_path=keras_file,\n",
    ")\n",
    "\n",
    "total = ds.sizes[\"traj_num\"] * (ds.sizes[\"frame_num\"] // 100)\n",
    "print(f\"projecting for {total} steps\")\n",
    "\n",
    "lowd = {}\n",
    "\n",
    "with tqdm(total=total) as pbar:\n",
    "    for traj_num, sub_ds in ds.groupby(\"traj_num\", squeeze=False):\n",
    "        sub_ds = sub_ds.squeeze(\"traj_num\")\n",
    "        length = sub_ds.sizes[\"frame_num\"]\n",
    "        indices = np.split(\n",
    "            np.arange(length), np.arange(101, length, 101)\n",
    "        )\n",
    "        for ind in indices:\n",
    "            data = [\n",
    "                sub_ds.central_angles.values[ind],\n",
    "                sub_ds.central_dihedrals.values[ind],\n",
    "                sub_ds.side_dihedrals.values[ind],\n",
    "            ]\n",
    "            l = emap_for_steps.encode(data=data)\n",
    "            lowd.setdefault(traj_num, []).append(l)\n",
    "            pbar.update()\n",
    "        lowd[traj_num] = np.vstack(lowd[traj_num])\n",
    "total_lowd = np.vstack(\n",
    "    [lowd[k] for k in range(ds.sizes[\"traj_num\"])],\n",
    ")\n"
   ]
  },
  {
   "cell_type": "code",
   "execution_count": null,
   "id": "e6f70061-dcda-4c7d-a8c1-91532ba1551b",
   "metadata": {},
   "outputs": [],
   "source": [
    "# iterate over trajs in dataset to save memory\n",
    "\n",
    "lowd_per_steps_file = fat10_dir / \"all_lowd.npz\"\n",
    "lowd_per_steps = {}\n",
    "\n",
    "if not lowd_per_steps_file.is_file():\n",
    "    for keras_file in (fat10_dir / \"runs/1st_run\").glob(\"*.keras\"):\n",
    "        if \"2024\" in str(keras_file):\n",
    "            continue\n",
    "        steps = int(re.findall(r\"\\d+\", keras_file.stem)[0])\n",
    "    \n",
    "        lowd_file = Path(fat10_dir / f\"complete_linear_dimers_and_FAT10_lowd_{steps}.npy\")\n",
    "    \n",
    "        emap_for_steps = em.AngleDihedralCartesianEncoderMap.from_checkpoint(\n",
    "            trajs=sub_trajs,\n",
    "            checkpoint_path=keras_file,\n",
    "        )\n",
    "        \n",
    "        if not lowd_file.is_file():\n",
    "            total = ds.sizes[\"traj_num\"] * (ds.sizes[\"frame_num\"] // 100)\n",
    "            \n",
    "            lowd = {}\n",
    "            \n",
    "            with tqdm(total=total) as pbar:\n",
    "                for traj_num, sub_ds in ds.groupby(\"traj_num\", squeeze=False):\n",
    "                    sub_ds = sub_ds.squeeze(\"traj_num\")\n",
    "                    length = sub_ds.sizes[\"frame_num\"]\n",
    "                    indices = np.split(\n",
    "                        np.arange(length), np.arange(101, length, 101)\n",
    "                    )\n",
    "                    for ind in indices:\n",
    "                        data = [\n",
    "                            sub_ds.central_angles.values[ind],\n",
    "                            sub_ds.central_dihedrals.values[ind],\n",
    "                            sub_ds.side_dihedrals.values[ind],\n",
    "                        ]\n",
    "                        l = emap_for_steps.encode(data=data)\n",
    "                        lowd.setdefault(traj_num, []).append(l)\n",
    "                        pbar.update()\n",
    "                    lowd[traj_num] = np.vstack(lowd[traj_num])\n",
    "            total_lowd = np.vstack(\n",
    "                [lowd[k] for k in range(ds.sizes[\"traj_num\"])],\n",
    "            )\n",
    "        \n",
    "            np.save(lowd_file, total_lowd)\n",
    "        else:\n",
    "            total_lowd = np.load(lowd_file)\n",
    "        \n",
    "        lowd_per_steps[steps] = total_lowd\n",
    "else:\n",
    "    np.savez(lowd_per_steps_file, **lowd_per_steps)"
   ]
  },
  {
   "cell_type": "code",
   "execution_count": null,
   "id": "bfb287cd-09f6-475c-8296-dd829ade7681",
   "metadata": {},
   "outputs": [],
   "source": [
    "np.savez(lowd_per_steps_file, **{str(k): v for k, v in lowd_per_steps.items()})"
   ]
  },
  {
   "cell_type": "code",
   "execution_count": null,
   "id": "f3b0c1d8-6816-4be7-b7f5-06bfa643394a",
   "metadata": {},
   "outputs": [],
   "source": [
    "lowd_per_steps.keys()"
   ]
  },
  {
   "cell_type": "code",
   "execution_count": null,
   "id": "1fdff910-97d6-4398-9f7b-d67d727fff1b",
   "metadata": {},
   "outputs": [],
   "source": [
    "import plotly.graph_objects as go\n",
    "\n",
    "trace = em.plot.plot_free_energy(*total_lowd.T)\n",
    "\n",
    "fig = go.Figure(\n",
    "    data=[trace],\n",
    "    layout={\"width\": 800, \"height\": 800},\n",
    ")\n",
    "\n",
    "fig.show()"
   ]
  },
  {
   "cell_type": "code",
   "execution_count": null,
   "id": "ace40e0d-8363-40d8-a1c4-028c788f172f",
   "metadata": {},
   "outputs": [],
   "source": [
    "emap_for_steps.encode()"
   ]
  },
  {
   "cell_type": "code",
   "execution_count": null,
   "id": "ce36a022-e591-4c62-8e82-fecaf8398c4c",
   "metadata": {},
   "outputs": [],
   "source": []
  }
 ],
 "metadata": {
  "language_info": {
   "name": "python"
  }
 },
 "nbformat": 4,
 "nbformat_minor": 5
}
