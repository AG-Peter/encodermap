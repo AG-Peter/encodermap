{
 "cells": [
  {
   "cell_type": "markdown",
   "metadata": {
    "editable": true,
    "slideshow": {
     "slide_type": ""
    },
    "tags": []
   },
   "source": [
    "# Your Data\n",
    "\n",
    "Run this notebook on Google Colab:\n",
    "\n",
    "[![Open in Colab](https://colab.research.google.com/assets/colab-badge.svg)](https://colab.research.google.com/github/AG-Peter/encodermap/blob/main/tutorials/notebooks_starter/03_Your_Data.ipynb)\n",
    "\n",
    "Find the documentation of EncoderMap:\n",
    "\n",
    "https://ag-peter.github.io/encodermap\n",
    "\n",
    "**Goals**\n",
    "\n",
    "In this tutorial, you can train EncoderMap on your own data.\n",
    "\n",
    "**for Google colab only:**\n",
    "\n",
    "If you're on Google colab, please uncomment these lines and install EncoderMap."
   ]
  },
  {
   "cell_type": "code",
   "execution_count": null,
   "metadata": {
    "editable": true,
    "slideshow": {
     "slide_type": ""
    },
    "tags": []
   },
   "outputs": [],
   "source": [
    "# !wget https://gist.githubusercontent.com/kevinsawade/deda578a3c6f26640ae905a3557e4ed1/raw/b7403a37710cb881839186da96d4d117e50abf36/install_encodermap_google_colab.sh\n",
    "# !sudo bash install_encodermap_google_colab.sh"
   ]
  },
  {
   "cell_type": "markdown",
   "metadata": {},
   "source": [
    "**Primer**\n",
    "\n",
    "Now it's time to take advantage of your new knowledge about dimensionality reduction with EncoderMap. Load your own data and get started! The data set you use should be a table where each line contains one sample and the number of columns is the dimensionality of the data-set."
   ]
  },
  {
   "cell_type": "markdown",
   "metadata": {},
   "source": [
    "### Load Libraries"
   ]
  },
  {
   "cell_type": "code",
   "execution_count": null,
   "metadata": {},
   "outputs": [],
   "source": [
    "import encodermap as em\n",
    "import numpy as np"
   ]
  },
  {
   "cell_type": "markdown",
   "metadata": {
    "editable": true,
    "slideshow": {
     "slide_type": ""
    },
    "tags": []
   },
   "source": [
    "### Load Your Data"
   ]
  },
  {
   "cell_type": "code",
   "execution_count": null,
   "metadata": {
    "editable": true,
    "emap": "skip",
    "slideshow": {
     "slide_type": ""
    },
    "tags": []
   },
   "outputs": [],
   "source": [
    "csv_path = \"path/to/your/data.csv\"\n",
    "high_d_data = np.loadtxt(csv_path, delimiter=\",\")"
   ]
  },
  {
   "cell_type": "code",
   "execution_count": null,
   "metadata": {
    "editable": true,
    "emap": "hidden",
    "slideshow": {
     "slide_type": ""
    },
    "tags": []
   },
   "outputs": [],
   "source": [
    "# This is a hidden cell it won't be displayed in the documentation\n",
    "# The cell above won't be able to execute, because there is no file at path /path/to/yout/data.csv\n",
    "# Instead we will be loading the linear_dimers dataset from EncoderMap's example projects and run this in hidden cells.\n",
    "\n",
    "import xarray as xr\n",
    "\n",
    "trajs, emap = em.load_project(\"linear_dimers\", load_autoencoder=True)\n",
    "h5_file = trajs[0]._traj_file\n",
    "\n",
    "da = xr.open_dataset(h5_file, group=\"CVs\", engine=\"h5netcdf\").central_cartesians\n",
    "cartesians = da.stack({\"frame\": (\"traj_num\", \"frame_num\")}).transpose(\"frame\", ...).dropna(\"frame\", how=\"all\")\n",
    "high_d_data = em.misc.pairwise_dist(\n",
    "    cartesians[::1000, 1::3],\n",
    ").numpy()"
   ]
  },
  {
   "cell_type": "markdown",
   "metadata": {
    "editable": true,
    "slideshow": {
     "slide_type": ""
    },
    "tags": []
   },
   "source": [
    "### Set Parameters"
   ]
  },
  {
   "cell_type": "code",
   "execution_count": null,
   "metadata": {
    "editable": true,
    "slideshow": {
     "slide_type": ""
    },
    "tags": []
   },
   "outputs": [],
   "source": [
    "parameters = em.Parameters()\n",
    "parameters.n_steps = 1000\n",
    "parameters.dist_sig_parameters = [40, 10, 5, 1, 2, 5]\n",
    "parameters.periodicity = 2*np.pi\n",
    "\n",
    "# if your data set is large you should not try to calculate \n",
    "# the pairwise distance histogram with the complete data. \n",
    "em.plot.distance_histogram_interactive(\n",
    "    data=high_d_data,  # e.g. use high_d_data[::10] to use evrey 10th point\n",
    "    periodicity=parameters.periodicity, \n",
    "    initial_guess=parameters.dist_sig_parameters,\n",
    ")"
   ]
  },
  {
   "cell_type": "markdown",
   "metadata": {
    "editable": true,
    "slideshow": {
     "slide_type": ""
    },
    "tags": []
   },
   "source": [
    "### Run the Dimensionality Reduction"
   ]
  },
  {
   "cell_type": "code",
   "execution_count": null,
   "metadata": {
    "editable": true,
    "emap": "skip",
    "slideshow": {
     "slide_type": ""
    },
    "tags": []
   },
   "outputs": [],
   "source": [
    "e_map = em.EncoderMap(parameters, high_d_data)\n",
    "history = e_map.train()\n",
    "\n",
    "low_d_projection = e_map.encode(dihedrals)"
   ]
  },
  {
   "cell_type": "code",
   "execution_count": null,
   "metadata": {
    "editable": true,
    "emap": "hidden",
    "slideshow": {
     "slide_type": ""
    },
    "tags": []
   },
   "outputs": [],
   "source": [
    "# This is a hidden cell it won't be displayed in the documentation\n",
    "# Instead we will be loading the linear_dimers dataset from EncoderMap's example projects and run this in hidden cells.\n",
    "low_d_projection = emap.encode()"
   ]
  },
  {
   "cell_type": "markdown",
   "metadata": {},
   "source": [
    "### Plot the Results"
   ]
  },
  {
   "cell_type": "code",
   "execution_count": null,
   "metadata": {},
   "outputs": [],
   "source": [
    "em.plot.plot_free_energy(\n",
    "    *low_d_projection.T\n",
    ")"
   ]
  }
 ],
 "metadata": {
  "emap": "run",
  "kernelspec": {
   "display_name": "Python 3 (ipykernel)",
   "language": "python",
   "name": "python3"
  },
  "language_info": {
   "codemirror_mode": {
    "name": "ipython",
    "version": 3
   },
   "file_extension": ".py",
   "mimetype": "text/x-python",
   "name": "python",
   "nbconvert_exporter": "python",
   "pygments_lexer": "ipython3",
   "version": "3.10.12"
  }
 },
 "nbformat": 4,
 "nbformat_minor": 4
}
