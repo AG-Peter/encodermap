{
 "cells": [
  {
   "cell_type": "markdown",
   "metadata": {},
   "source": [
    "# Asp7 Example - Advanced Usage\n",
    "\n",
    "In this tutorial we will use example data from a molecular dynamics simulation and learn more about advanced usage of EncoderMap. Encoder map can create a low-dimensional maps of the vast conformational space of molecules. This allows easy identification of the most common molecular conformations and helps to understand the relations between these conformations. In this example we will use data from a simulation of simple peptide: hepta-aspartic-acid.\n",
    "\n",
    "First we need to import some libraries:"
   ]
  },
  {
   "cell_type": "code",
   "execution_count": null,
   "metadata": {},
   "outputs": [],
   "source": [
    "import encodermap as em\n",
    "import matplotlib.pyplot as plt\n",
    "import numpy as np\n",
    "from math import pi\n",
    "%config Completer.use_jedi=False"
   ]
  },
  {
   "cell_type": "markdown",
   "metadata": {},
   "source": [
    "Next, we need to load the input data. Different kinds of variables can be used to describe molecular conformations: e.g. Cartesian coordinates, distances, angles, dihedrals... In principle EncoderMap can deal with any of these inputs, however, some are better suited than others. The molecular conformation does not change when the molecule is translated or rotated. The chosen input variables should reflect that and be translationally and rotationally invariant. \n",
    "\n",
    "In this example we use the backbone dihedral angles phi and psi as input as they are translationally and rotationally invariant and describe the backbone of a protein/peptide very well.\n",
    "\n",
    "The \"asp7.csv\" contains one column for each dihedral and one row for each frame of the trajectory. Additionally the last column contains a cluster_id from a gromos clustering which we can later use for comparison. We can load this data using numpy.loadtxt:"
   ]
  },
  {
   "cell_type": "code",
   "execution_count": null,
   "metadata": {},
   "outputs": [],
   "source": [
    "csv_path = \"asp7.csv\"\n",
    "data = np.loadtxt(csv_path, skiprows=1, delimiter=\",\")\n",
    "dihedrals = data[:, :-1]\n",
    "cluster_ids = data[:, -1]"
   ]
  },
  {
   "cell_type": "markdown",
   "metadata": {},
   "source": [
    "Similar to the previous example we need to set some parameters. In contrast to the Cube example we no have periodic input data. The dihedral angles are in radians with a 2pi periodicity."
   ]
  },
  {
   "cell_type": "code",
   "execution_count": null,
   "metadata": {},
   "outputs": [],
   "source": [
    "parameters = em.Parameters()\n",
    "parameters.main_path = em.misc.run_path(\"runs/asp7\")\n",
    "parameters.n_steps = 100\n",
    "parameters.summary_step = max(1, parameters.n_steps/100)\n",
    "parameters.periodicity = 2*pi\n",
    "parameters.n_neurons = [3, 3, 2]\n",
    "parameters.dist_sig_parameters = (4.5, 12, 6, 1, 2, 6)\n",
    "\n",
    "%matplotlib notebook\n",
    "em.plot.distance_histogram(dihedrals[::10], \n",
    "                           parameters.periodicity, \n",
    "                           parameters.dist_sig_parameters[0:3])"
   ]
  },
  {
   "cell_type": "code",
   "execution_count": null,
   "metadata": {},
   "outputs": [],
   "source": [
    "e_map = em.EncoderMap(parameters, dihedrals)\n",
    "e_map.train()"
   ]
  },
  {
   "cell_type": "code",
   "execution_count": null,
   "metadata": {},
   "outputs": [],
   "source": [
    "low_d_projection = e_map.encode(dihedrals)"
   ]
  },
  {
   "cell_type": "code",
   "execution_count": null,
   "metadata": {},
   "outputs": [],
   "source": [
    "\n",
    "fig, axe = plt.subplots()\n",
    "axe.plot(low_d_projection[:, 0], low_d_projection[:, 1], linestyle=\"\", marker=\".\",\n",
    "         markersize=5, color=\"0.7\", alpha=0.1)\n",
    "for i in range(9):\n",
    "    mask = cluster_ids == i + 1\n",
    "    axe.plot(low_d_projection[:, 0][mask], low_d_projection[:, 1][mask], label=str(i),\n",
    "             linestyle=\"\", marker=\".\", markersize=5, alpha=0.3)\n",
    "legend = axe.legend()\n",
    "for lh in legend.legendHandles:\n",
    "    lh._legmarker.set_alpha(1)"
   ]
  },
  {
   "cell_type": "code",
   "execution_count": null,
   "metadata": {
    "scrolled": true
   },
   "outputs": [],
   "source": [
    "%matplotlib notebook\n",
    "fig, axe = plt.subplots()\n",
    "axe.plot(low_d_projection[:, 0], low_d_projection[:, 1], linestyle=\"\", marker=\".\",\n",
    "         markersize=5, color=\"0.7\", alpha=0.1)\n",
    "for i in range(9):\n",
    "    mask = cluster_ids == i + 1\n",
    "    axe.plot(low_d_projection[:, 0][mask], low_d_projection[:, 1][mask], label=str(i),\n",
    "             linestyle=\"\", marker=\".\", markersize=5, alpha=0.3)\n",
    "legend = axe.legend()\n",
    "for lh in legend.legendHandles:\n",
    "    lh._legmarker.set_alpha(1)\n",
    "\n",
    "\n",
    "pdb_path = \"asp7.pdb\"\n",
    "generator = em.plot.PathGenerateDihedrals(axe, e_map, pdb_path)"
   ]
  },
  {
   "cell_type": "code",
   "execution_count": null,
   "metadata": {},
   "outputs": [],
   "source": [
    "import nglview\n",
    "import MDAnalysis as md\n",
    "\n",
    "uni = md.Universe(\"runs/asp7/run11/generated_paths/2019-03-15_18-56-20/generated.pdb\")\n",
    "\n",
    "view = nglview.show_mdanalysis(uni)\n",
    "\n",
    "# clear representations\n",
    "view.clear_representations()\n",
    "view.add_licorice(selection=\"backbone\")\n",
    "\n",
    "view"
   ]
  },
  {
   "cell_type": "code",
   "execution_count": null,
   "metadata": {},
   "outputs": [],
   "source": []
  }
 ],
 "metadata": {
  "kernelspec": {
   "display_name": "Python 3",
   "language": "python",
   "name": "python3"
  },
  "language_info": {
   "codemirror_mode": {
    "name": "ipython",
    "version": 3
   },
   "file_extension": ".py",
   "mimetype": "text/x-python",
   "name": "python",
   "nbconvert_exporter": "python",
   "pygments_lexer": "ipython3",
   "version": "3.5.2"
  }
 },
 "nbformat": 4,
 "nbformat_minor": 2
}
