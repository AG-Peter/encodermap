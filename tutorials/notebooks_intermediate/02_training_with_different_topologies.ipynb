{
 "cells": [
  {
   "cell_type": "markdown",
   "metadata": {},
   "source": [
    "# Intermediate EncoderMap: Different Topologies\n",
    "\n",
    "**Welcome**\n",
    "\n",
    "Welcome to the intermeidate part of the EncoderMap tutorials. The notebooks in this section contain more in-depth explanations of the concepts in EncoderMap. They also expect you to have some greater programming skill, as the programming explanations fall shorter.\n",
    "\n",
    "## What are different topologies\n",
    "\n",
    "With the word *'topology'* we mean the connectivity of a protein. Think of it as a graph (not a weighted graph. For our purposes, the graph connections don't need weights). The nodes are the atoms and the connections are the bonds. Two topologies are identical if their graphs are identical. Two proteins are different if you exchange or remove a single amino acid. However, biologically, you sometimes think of protein families. You are more interested in the general behaviors of proteins, and don't car for this exact specific residue being a aspartic acid or glutamic acid. When we transfer this idea into the language used in EncoderMap, the Asp and Glu protein version offer different feature spaces. To still allow us to train EncoderMap with simulations from these two proteins, we ca use sparse Tensors in the training process.\n",
    "\n",
    "Run this notebook on Google Colab:\n",
    "\n",
    "[![Open in Colab](https://colab.research.google.com/assets/colab-badge.svg)](https://colab.research.google.com/github/AG-Peter/encodermap/blob/main/tutorials/notebooks_intermediate/02_training_with_different_topologies.ipynb)\n",
    "\n",
    "Find the documentation of EncoderMap:\n",
    "\n",
    "https://ag-peter.github.io/encodermap\n",
    "\n",
    "**Goals**\n",
    "\n",
    "In this tutorial you will learn:\n"
   ]
  },
  {
   "cell_type": "code",
   "execution_count": null,
   "metadata": {},
   "outputs": [],
   "source": [
    "# !pip install \"git+https://github.com/AG-Peter/encodermap.git@main\"\n",
    "# !pip install -r pip install -r https://raw.githubusercontent.com/AG-Peter/encodermap/main/tests/test_requirements.md"
   ]
  },
  {
   "cell_type": "markdown",
   "metadata": {},
   "source": [
    "## Imports"
   ]
  },
  {
   "cell_type": "code",
   "execution_count": null,
   "metadata": {},
   "outputs": [],
   "source": [
    "import encodermap as em\n",
    "import numpy as np\n",
    "import networkx as nx\n",
    "import plotly.graph_objects as go\n",
    "import plotly.express as px\n",
    "\n",
    "%load_ext autoreload\n",
    "%autoreload 2\n",
    "%config Completer.use_jedi = False"
   ]
  },
  {
   "cell_type": "markdown",
   "metadata": {},
   "source": [
    "Fix tensorflow seed for reproducibility"
   ]
  },
  {
   "cell_type": "code",
   "execution_count": null,
   "metadata": {},
   "outputs": [],
   "source": [
    "import tensorflow as tf\n",
    "tf.random.set_seed(1)"
   ]
  },
  {
   "cell_type": "markdown",
   "metadata": {},
   "source": [
    "## Load the trajectories\n",
    "\n",
    "We use EncoderMap's `TrajEnsemble` class to load the trajectories and do the feature alignment."
   ]
  },
  {
   "cell_type": "code",
   "execution_count": null,
   "metadata": {},
   "outputs": [],
   "source": [
    "traj_files = [\"glu7.xtc\", \"asp7.xtc\"]\n",
    "top_files = [\"glu7.pdb\", \"asp7.pdb\"]\n",
    "\n",
    "trajs = em.load(traj_files, top_files)"
   ]
  },
  {
   "cell_type": "markdown",
   "metadata": {},
   "source": [
    "There's an issue with the proteins in these trajectories. They are missing a connection between the C-terminal hydroxy oxygen and hydrogen. The `GLU7-HO` atom is extra."
   ]
  },
  {
   "cell_type": "code",
   "execution_count": null,
   "metadata": {},
   "outputs": [],
   "source": [
    "em.plot.plot_ball_and_stick(trajs[0], highlight=\"bonds\")"
   ]
  },
  {
   "cell_type": "code",
   "execution_count": null,
   "metadata": {},
   "outputs": [],
   "source": [
    "G = trajs[0].top.to_bondgraph()\n",
    "\n",
    "# Generate positions for the nodes\n",
    "pos = nx.spring_layout(G)\n",
    "\n",
    "# Create a Plotly figure\n",
    "fig = go.Figure()\n",
    "\n",
    "# Add edges to the figure\n",
    "for u, v, data in G.edges(data=True):\n",
    "    x0, y0 = pos[u]\n",
    "    x1, y1 = pos[v]\n",
    "    fig.add_trace(go.Scatter(x=[x0, x1], y=[y0, y1], mode='lines', line=dict(width=5, color='gray')))\n",
    "\n",
    "# Add nodes to the figure\n",
    "for node in G.nodes():\n",
    "    x, y = pos[node]\n",
    "    fig.add_trace(go.Scatter(x=[x], y=[y], mode='markers', marker=dict(size=10), hovertemplate=\"%{customdata}\", customdata=[str(node)]))\n",
    "\n",
    "# Show the figure\n",
    "fig.update_layout({\"width\": 800, \"height\": 800, \"showlegend\": False})\n",
    "fig.show()"
   ]
  },
  {
   "cell_type": "markdown",
   "metadata": {},
   "source": [
    "This can be fixed with EncoderMap, by defining custom amino acids:"
   ]
  },
  {
   "cell_type": "code",
   "execution_count": null,
   "metadata": {},
   "outputs": [],
   "source": [
    "custom_aas = {\n",
    "    \"ASP\": (\n",
    "        \"A\",\n",
    "        {\n",
    "            \"optional_bonds\": [\n",
    "                (\"N\", \"H1\"),\n",
    "                (\"N\", \"H2\"),\n",
    "                (\"N\", \"H\"),\n",
    "                (\"N\", \"CA\"),\n",
    "                (\"CA\", \"CB\"),\n",
    "                (\"CB\", \"CG\"),\n",
    "                (\"CG\", \"OD1\"),\n",
    "                (\"CG\", \"OD2\"),\n",
    "                (\"OD2\", \"HD2\"),\n",
    "                (\"CA\", \"C\"),\n",
    "                (\"C\", \"O\"),\n",
    "                (\"C\", \"OT\"),\n",
    "                (\"O\", \"HO\"),\n",
    "                (\"C\", \"+N\"),\n",
    "            ],\n",
    "        },\n",
    "    ),\n",
    "    \"GLU\": (\n",
    "        \"E\",\n",
    "        {\n",
    "            \"optional_bonds\": [\n",
    "                (\"N\", \"H1\"),\n",
    "                (\"N\", \"H2\"),\n",
    "                (\"N\", \"H\"),\n",
    "                (\"N\", \"CA\"),\n",
    "                (\"CA\", \"CB\"),\n",
    "                (\"CB\", \"CG\"),\n",
    "                (\"CG\", \"CD\"),\n",
    "                (\"CD\", \"OE1\"),\n",
    "                (\"CD\", \"OE2\"),\n",
    "                (\"OE2\", \"HE2\"),\n",
    "                (\"CA\", \"C\"),\n",
    "                (\"C\", \"O\"),\n",
    "                (\"C\", \"OT\"),\n",
    "                (\"O\", \"HO\"),\n",
    "                (\"C\", \"+N\"),\n",
    "            ],\n",
    "        },\n",
    "    ),\n",
    "}\n",
    "\n",
    "\n",
    "trajs.load_custom_topology(custom_aas)"
   ]
  },
  {
   "cell_type": "code",
   "execution_count": null,
   "metadata": {},
   "outputs": [],
   "source": [
    "G = trajs[0].top.to_bondgraph()\n",
    "\n",
    "# Generate positions for the nodes\n",
    "pos = nx.spring_layout(G)\n",
    "\n",
    "# Create a Plotly figure\n",
    "fig = go.Figure()\n",
    "\n",
    "# Add edges to the figure\n",
    "for u, v, data in G.edges(data=True):\n",
    "    x0, y0 = pos[u]\n",
    "    x1, y1 = pos[v]\n",
    "    fig.add_trace(go.Scatter(x=[x0, x1], y=[y0, y1], mode='lines', line=dict(width=5, color='gray')))\n",
    "\n",
    "# Add nodes to the figure\n",
    "for node in G.nodes():\n",
    "    x, y = pos[node]\n",
    "    fig.add_trace(go.Scatter(x=[x], y=[y], mode='markers', marker=dict(size=10), hovertemplate=\"%{customdata}\", customdata=[str(node)]))\n",
    "\n",
    "# Show the figure\n",
    "fig.update_layout({\"width\": 800, \"height\": 800, \"showlegend\": False})\n",
    "fig.show()"
   ]
  },
  {
   "cell_type": "markdown",
   "metadata": {},
   "source": [
    "Load the CVs with the `ensemble=True` options."
   ]
  },
  {
   "cell_type": "code",
   "execution_count": null,
   "metadata": {},
   "outputs": [],
   "source": [
    "trajs.load_CVs(\"all\", ensemble=True)"
   ]
  },
  {
   "cell_type": "code",
   "execution_count": null,
   "metadata": {},
   "outputs": [],
   "source": [
    "trajs"
   ]
  },
  {
   "cell_type": "markdown",
   "metadata": {},
   "source": [
    "## Create the AngleDihedralCartesianEncoderMap\n",
    "\n",
    "The AngleDihedralCartesianEncoderMap tries to learn all of the geometric features of a protein. The angles (backbone angles, backbone dihedrals, sidechain dihedrals) are passed through a neuronal network autoencoder, while the distances between the backbone atoms are used to create cartesian coordinates from the learned angles. The generated cartesians and the input (true) cartesians are used to construct pairwise C$_\\alpha$ distances, which are then also weighted using sketchmap's sigmoid function. The `cartesian_cost_scale_soft_start` gradually increases the contribution of this cost function to the overall model loss."
   ]
  },
  {
   "cell_type": "code",
   "execution_count": null,
   "metadata": {},
   "outputs": [],
   "source": [
    "p = em.ADCParameters(use_backbone_angles=True,\n",
    "                     distance_cost_scale=1,\n",
    "                     auto_cost_scale=0.1,\n",
    "                     cartesian_cost_scale_soft_start=(50, 80),\n",
    "                     n_neurons = [500, 250, 125, 2],\n",
    "                     activation_functions = ['', 'tanh', 'tanh', 'tanh', ''],\n",
    "                     use_sidechains=True,\n",
    "                     summary_step=1,\n",
    "                     tensorboard=True,\n",
    "                     periodicity=2*np.pi,\n",
    "                     n_steps=100,\n",
    "                     checkpoint_step=1000,\n",
    "                     dist_sig_parameters = (4.5, 12, 6, 1, 2, 6),\n",
    "                     main_path=em.misc.run_path('runs/asp7_glu7_asp8'),\n",
    "                     model_api='functional',\n",
    "                    )\n",
    "emap = em.AngleDihedralCartesianEncoderMap(trajs, p)"
   ]
  },
  {
   "cell_type": "markdown",
   "metadata": {},
   "source": [
    "train"
   ]
  },
  {
   "cell_type": "code",
   "execution_count": null,
   "metadata": {},
   "outputs": [],
   "source": [
    "history = emap.train()"
   ]
  },
  {
   "cell_type": "markdown",
   "metadata": {},
   "source": [
    "## Plot the result\n",
    "\n",
    "In the result (longer training would be beneficial here), the projection area of asp7 and glu7 are separated."
   ]
  },
  {
   "cell_type": "code",
   "execution_count": null,
   "metadata": {},
   "outputs": [],
   "source": [
    "ids = (trajs.name_arr == \"asp7\").astype(int)\n",
    "glu7_lowd = emap.encode()[ids == 0]\n",
    "asp7_lowd = emap.encode()[ids == 1]\n",
    "\n",
    "fig = go.Figure(\n",
    "    data=[\n",
    "        go.Scatter(x=asp7_lowd[:, 0], y=asp7_lowd[:, 1], name=\"Asp7\", mode=\"markers\"),\n",
    "        go.Scatter(x=glu7_lowd[:, 0], y=glu7_lowd[:, 1], name=\"Glu7\", mode=\"markers\"),\n",
    "    ],\n",
    ")\n",
    "fig.update_layout({\"height\": 800, \"width\": 800})\n",
    "fig.show()"
   ]
  },
  {
   "cell_type": "markdown",
   "metadata": {},
   "source": [
    "## Create a new trajectory\n",
    "\n",
    "Using the `InteractivePlotting` class, we can easily generate new molecular conformations by using the decoder part of the neural network. If you're running an interactive notebook, you can use the notebook or qt5 backend and play around with the InteractivePlotting."
   ]
  },
  {
   "cell_type": "code",
   "execution_count": null,
   "metadata": {},
   "outputs": [],
   "source": [
    "sess = em.InteractivePlotting(emap)"
   ]
  },
  {
   "cell_type": "markdown",
   "metadata": {},
   "source": [
    "For static notebooks, we load the points along the path and generate new molecular conformations from them."
   ]
  },
  {
   "cell_type": "code",
   "execution_count": null,
   "metadata": {},
   "outputs": [],
   "source": [
    "# sess.view"
   ]
  },
  {
   "cell_type": "code",
   "execution_count": null,
   "metadata": {},
   "outputs": [],
   "source": []
  }
 ],
 "metadata": {
  "emap": "run",
  "kernelspec": {
   "display_name": "Python 3 (ipykernel)",
   "language": "python",
   "name": "python3"
  },
  "language_info": {
   "codemirror_mode": {
    "name": "ipython",
    "version": 3
   },
   "file_extension": ".py",
   "mimetype": "text/x-python",
   "name": "python",
   "nbconvert_exporter": "python",
   "pygments_lexer": "ipython3",
   "version": "3.10.12"
  }
 },
 "nbformat": 4,
 "nbformat_minor": 4
}
