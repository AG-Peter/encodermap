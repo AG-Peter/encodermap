{
 "cells": [
  {
   "cell_type": "markdown",
   "id": "8341c1f9",
   "metadata": {
    "pycharm": {
     "name": "#%% md\n"
    }
   },
   "source": [
    "# Explanation of loss functions"
   ]
  },
  {
   "cell_type": "code",
   "execution_count": null,
   "id": "5daec11d",
   "metadata": {},
   "outputs": [],
   "source": [
    "import numpy as np\n",
    "import encodermap as em\n",
    "import tensorflow as tf\n",
    "\n",
    "import matplotlib as mpl\n",
    "import matplotlib.pyplot as plt\n",
    "\n",
    "%matplotlib notebook\n",
    "%load_ext autoreload\n",
    "%autoreload"
   ]
  },
  {
   "cell_type": "markdown",
   "id": "7ee876ce",
   "metadata": {
    "pycharm": {
     "name": "#%% md\n"
    }
   },
   "source": [
    "## Build a simple autoencoder"
   ]
  },
  {
   "cell_type": "code",
   "execution_count": null,
   "id": "4e7b3a01",
   "metadata": {},
   "outputs": [],
   "source": [
    "e_map = em.EncoderMap()"
   ]
  },
  {
   "cell_type": "code",
   "execution_count": null,
   "id": "9503fe84",
   "metadata": {},
   "outputs": [],
   "source": [
    "data = np.random.random((1, 4))\n",
    "data"
   ]
  },
  {
   "cell_type": "code",
   "execution_count": null,
   "id": "184a7b35",
   "metadata": {},
   "outputs": [],
   "source": [
    "e_map.model(data)"
   ]
  },
  {
   "cell_type": "code",
   "execution_count": null,
   "id": "5720b89d",
   "metadata": {},
   "outputs": [],
   "source": [
    "e_map.model.decoder_model(e_map.model.encoder_model(data))"
   ]
  },
  {
   "cell_type": "code",
   "execution_count": null,
   "id": "8091b544",
   "metadata": {},
   "outputs": [],
   "source": [
    "from encodermap.models.models import SequentialModel\n",
    "model = SequentialModel(3)\n",
    "print(model)"
   ]
  },
  {
   "cell_type": "markdown",
   "id": "0c612b95",
   "metadata": {
    "pycharm": {
     "name": "#%% md\n"
    }
   },
   "source": [
    "## centers loss"
   ]
  },
  {
   "cell_type": "code",
   "execution_count": null,
   "id": "426f9038",
   "metadata": {},
   "outputs": [],
   "source": [
    "from encodermap.loss_functions.loss_functions import center_loss\n",
    "\n",
    "point = tf.convert_to_tensor(np.array([[2, 4, 2, 4]]))\n",
    "point_a = tf.convert_to_tensor(np.array([[2, 4]]))\n",
    "point_b = tf.convert_to_tensor(np.array([[0, 0]]))\n",
    "\n",
    "model = tf.keras.Model()\n",
    "\n",
    "center_loss_fn = center_loss(model=e_map.model)\n",
    "print(center_loss_fn(y_true=point, y_pred=point_a))\n",
    "\n",
    "print(center_loss_fn(y_true=point, y_pred=point_b))"
   ]
  },
  {
   "cell_type": "code",
   "execution_count": null,
   "id": "c2ec1e92",
   "metadata": {},
   "outputs": [],
   "source": []
  }
 ],
 "metadata": {
  "language_info": {
   "name": "python"
  }
 },
 "nbformat": 4,
 "nbformat_minor": 5
}
