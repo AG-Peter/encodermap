{
 "cells": [
  {
   "cell_type": "markdown",
   "id": "8341c1f9",
   "metadata": {
    "pycharm": {
     "name": "#%% md\n"
    }
   },
   "source": [
    "# Explanation of loss functions"
   ]
  },
  {
   "cell_type": "code",
   "execution_count": null,
   "id": "5daec11d",
   "metadata": {
    "ExecuteTime": {
     "end_time": "2022-03-16T10:26:47.051244Z",
     "start_time": "2022-03-16T10:26:38.779711Z"
    },
    "pycharm": {
     "name": "#%%\n"
    }
   },
   "outputs": [],
   "source": [
    "import numpy as np\n",
    "import encodermap as em\n",
    "import tensorflow as tf\n",
    "\n",
    "import matplotlib as mpl\n",
    "import matplotlib.pyplot as plt\n",
    "\n",
    "%matplotlib notebook\n",
    "%load_ext autoreload\n",
    "%autoreload"
   ]
  },
  {
   "cell_type": "markdown",
   "id": "7ee876ce",
   "metadata": {
    "pycharm": {
     "name": "#%% md\n"
    }
   },
   "source": [
    "## Build a simple autoencoder"
   ]
  },
  {
   "cell_type": "code",
   "execution_count": null,
   "id": "4e7b3a01",
   "metadata": {
    "ExecuteTime": {
     "end_time": "2022-03-16T10:36:47.671050Z",
     "start_time": "2022-03-16T10:36:47.583852Z"
    },
    "pycharm": {
     "name": "#%%\n"
    }
   },
   "outputs": [],
   "source": [
    "e_map = em.EncoderMap()"
   ]
  },
  {
   "cell_type": "code",
   "execution_count": null,
   "id": "9503fe84",
   "metadata": {
    "ExecuteTime": {
     "end_time": "2022-03-16T11:55:01.511057Z",
     "start_time": "2022-03-16T11:55:01.503265Z"
    },
    "pycharm": {
     "name": "#%%\n"
    }
   },
   "outputs": [],
   "source": [
    "data = np.random.random((1, 4))\n",
    "data"
   ]
  },
  {
   "cell_type": "code",
   "execution_count": null,
   "id": "184a7b35",
   "metadata": {
    "ExecuteTime": {
     "end_time": "2022-03-16T11:55:01.764998Z",
     "start_time": "2022-03-16T11:55:01.753205Z"
    },
    "pycharm": {
     "name": "#%%\n"
    }
   },
   "outputs": [],
   "source": [
    "e_map.model(data)"
   ]
  },
  {
   "cell_type": "code",
   "execution_count": null,
   "id": "5720b89d",
   "metadata": {
    "ExecuteTime": {
     "end_time": "2022-03-16T11:55:02.403234Z",
     "start_time": "2022-03-16T11:55:02.391281Z"
    },
    "pycharm": {
     "name": "#%%\n"
    }
   },
   "outputs": [],
   "source": [
    "e_map.model.decoder_model(e_map.model.encoder_model(data))"
   ]
  },
  {
   "cell_type": "code",
   "execution_count": null,
   "id": "8091b544",
   "metadata": {
    "ExecuteTime": {
     "end_time": "2022-03-16T10:32:53.049324Z",
     "start_time": "2022-03-16T10:32:52.952039Z"
    },
    "pycharm": {
     "name": "#%%\n"
    }
   },
   "outputs": [],
   "source": [
    "from encodermap.models.models import SequentialModel\n",
    "model = SequentialModel(3)\n",
    "print(model)"
   ]
  },
  {
   "cell_type": "markdown",
   "id": "0c612b95",
   "metadata": {
    "pycharm": {
     "name": "#%% md\n"
    }
   },
   "source": [
    "## centers loss"
   ]
  },
  {
   "cell_type": "code",
   "execution_count": null,
   "id": "426f9038",
   "metadata": {
    "ExecuteTime": {
     "end_time": "2022-03-16T11:59:49.479881Z",
     "start_time": "2022-03-16T11:59:49.464430Z"
    },
    "pycharm": {
     "name": "#%%\n"
    }
   },
   "outputs": [],
   "source": [
    "from encodermap.loss_functions.loss_functions import center_loss\n",
    "\n",
    "point = tf.convert_to_tensor(np.array([[2, 4, 2, 4]]))\n",
    "point_a = tf.convert_to_tensor(np.array([[2, 4]]))\n",
    "point_b = tf.convert_to_tensor(np.array([[0, 0]]))\n",
    "\n",
    "model = tf.keras.Model()\n",
    "\n",
    "center_loss_fn = center_loss(model=e_map.model)\n",
    "print(center_loss_fn(y_true=point, y_pred=point_a))\n",
    "\n",
    "print(center_loss_fn(y_true=point, y_pred=point_b))"
   ]
  },
  {
   "cell_type": "code",
   "execution_count": null,
   "id": "c2ec1e92",
   "metadata": {
    "pycharm": {
     "name": "#%%\n"
    }
   },
   "outputs": [],
   "source": []
  }
 ],
 "metadata": {
  "kernelspec": {
   "display_name": "py39_tf2",
   "language": "python",
   "name": "myenv"
  },
  "language_info": {
   "codemirror_mode": {
    "name": "ipython",
    "version": 3
   },
   "file_extension": ".py",
   "mimetype": "text/x-python",
   "name": "python",
   "nbconvert_exporter": "python",
   "pygments_lexer": "ipython3",
   "version": "3.9.6"
  },
  "latex_envs": {
   "LaTeX_envs_menu_present": true,
   "autoclose": false,
   "autocomplete": true,
   "bibliofile": "biblio.bib",
   "cite_by": "apalike",
   "current_citInitial": 1,
   "eqLabelWithNumbers": true,
   "eqNumInitial": 1,
   "hotkeys": {
    "equation": "Ctrl-E",
    "itemize": "Ctrl-I"
   },
   "labels_anchors": false,
   "latex_user_defs": false,
   "report_style_numbering": false,
   "user_envs_cfg": false
  },
  "toc": {
   "base_numbering": 1,
   "nav_menu": {},
   "number_sections": true,
   "sideBar": true,
   "skip_h1_title": false,
   "title_cell": "Table of Contents",
   "title_sidebar": "Contents",
   "toc_cell": false,
   "toc_position": {},
   "toc_section_display": true,
   "toc_window_display": false
  }
 },
 "nbformat": 4,
 "nbformat_minor": 5
}
