{
 "cells": [
  {
   "cell_type": "markdown",
   "id": "9e89e4a1",
   "metadata": {},
   "source": [
    "# Writing Custom Loss Functions\n",
    "\n",
    "In this tutorial we will learn how to write our own loss functions and add them to EncoderMap. Let us start with the imports:"
   ]
  },
  {
   "cell_type": "code",
   "execution_count": null,
   "id": "ab0a0a24",
   "metadata": {},
   "outputs": [],
   "source": [
    "import numpy as np\n",
    "import encodermap as em\n",
    "import pandas as pd\n",
    "import tensorflow as tf"
   ]
  },
  {
   "cell_type": "markdown",
   "id": "b2e6f840",
   "metadata": {},
   "source": [
    "## Adding a unit circle loss\n",
    "\n",
    "To show how to implement loss functions we will replace EncoderMap's center_cost with a loss that tries to push the low-dimensional points into a unit circle. For a unit circle the following equation holds true:\n",
    "\n",
    "\\begin{align}\n",
    "x^2 + y^2 &= 1\\\\\n",
    "x^2 + y^2 - 1 &= 0\n",
    "\\end{align}\n",
    "\n",
    "Let us first plot a unit circle with matplotlib."
   ]
  },
  {
   "cell_type": "code",
   "execution_count": null,
   "id": "8323362a",
   "metadata": {},
   "outputs": [],
   "source": [
    "import matplotlib.pyplot as plt\n",
    "%matplotlib notebook\n",
    "\n",
    "t = np.linspace(0,np.pi*2,100)\n",
    "\n",
    "plt.close('all')\n",
    "fig = plt.figure()\n",
    "ax = fig.add_subplot(1, 1, 1, aspect='equal')\n",
    "ax.plot(np.cos(t), np.sin(t), linewidth=1)"
   ]
  },
  {
   "cell_type": "markdown",
   "id": "13864999",
   "metadata": {},
   "source": [
    "**How to put this information into a loss function?**\n",
    "\n",
    "We need to find a function that describes the distance between any (x, y)-coordinate to the unit circle."
   ]
  },
  {
   "cell_type": "code",
   "execution_count": null,
   "id": "8c203313",
   "metadata": {},
   "outputs": [],
   "source": [
    "def distance_to_unit_circle_2D(x, y):\n",
    "    return np.abs((np.square(x) + np.square(y)) - 1)\n",
    "\n",
    "def distance_to_unit_circle(points):\n",
    "    return np.abs(np.sum(np.square(points), axis=0) - 1)"
   ]
  },
  {
   "cell_type": "code",
   "execution_count": null,
   "id": "51f68b0b",
   "metadata": {},
   "outputs": [],
   "source": [
    "xx = np.linspace(-2, 2, 250)\n",
    "yy = np.linspace(-2, 2, 250)\n",
    "grid = np.meshgrid(xx, yy)\n",
    "z = distance_to_unit_circle(grid)\n",
    "\n",
    "plt.close('all')\n",
    "plt.contourf(xx, yy, z, levels=60)"
   ]
  },
  {
   "cell_type": "markdown",
   "id": "5f215333",
   "metadata": {},
   "source": [
    "### Build a loss function from that:\n",
    "\n",
    "Cost functions in EncoderMap are almost always closures. Meaning they return a function and not a value. Let's look at an example closure:"
   ]
  },
  {
   "cell_type": "code",
   "execution_count": null,
   "id": "3eb6a11f",
   "metadata": {},
   "outputs": [],
   "source": [
    "def print_msg(msg):\n",
    "    # This is the outer enclosing function\n",
    "\n",
    "    def printer():\n",
    "        # This is the nested function\n",
    "        print(msg)\n",
    "\n",
    "    printer()\n",
    "\n",
    "# We execute the function\n",
    "# Output: Hello\n",
    "print_msg(\"Hello\")"
   ]
  },
  {
   "cell_type": "markdown",
   "id": "72e7e21f",
   "metadata": {},
   "source": [
    "The printer function was able to access the non-local variable `msg`. EncoderMap's lossfunctions use the non-local variables `model` and `parameters` (often abbreviated to `p`).\n",
    "\n",
    "We will also add `tf.reduce_mean()` to get the mean distance from the unit circle for all points, because a loss is always a scalar value."
   ]
  },
  {
   "cell_type": "code",
   "execution_count": null,
   "id": "b921a50c",
   "metadata": {},
   "outputs": [],
   "source": [
    "def circle_loss(model, parameters):\n",
    "    \"\"\"Circle loss outer function. Takes model and parameters. Parameters is only here for demonstration purpoes.\n",
    "    It is not actually needed in the closure.\n",
    "    \n",
    "    \"\"\"\n",
    "    \n",
    "    # use the models encoder part to create low-dimensional data\n",
    "    latent = model.encoder\n",
    "    \n",
    "    def circle_loss_fn(y_true, y_pred=None):\n",
    "        \"\"\"Circle loss inner function. Takes y_true and y_pred. y_pred will not be used. y_true will be used to get\n",
    "        the latent space of the autoencoder.\n",
    "        \n",
    "        \"\"\"\n",
    "        # get latent output\n",
    "        lowd = latent(y_true)\n",
    "        \n",
    "        # get circle cost\n",
    "        circle_cost = tf.reduce_mean(tf.abs(tf.reduce_sum(tf.square(lowd), axis=0) - 1))\n",
    "        \n",
    "        # bump up the cost\n",
    "        circle_cost *= 5\n",
    "        \n",
    "        # write to tensorboard\n",
    "        tf.summary.scalar('Circle Cost', circle_cost)\n",
    "        \n",
    "        # return circle cost\n",
    "        return circle_cost\n",
    "    \n",
    "    # return inner function\n",
    "    return circle_loss_fn"
   ]
  },
  {
   "cell_type": "markdown",
   "id": "3a52488c",
   "metadata": {},
   "source": [
    "### Include the loss function in EncoderMap\n",
    "\n",
    "**First:** Let us load the dihedral data from ../notebooks_easy and define some Parameters. For the parameters we will set the center_cost_scale to be 0 as to not interfere with our new circle cost."
   ]
  },
  {
   "cell_type": "code",
   "execution_count": null,
   "id": "bc450246",
   "metadata": {},
   "outputs": [],
   "source": [
    "df = pd.read_csv('../notebooks_easy/asp7.csv')\n",
    "dihedrals = df.iloc[:,:-1].values.astype(np.float32)\n",
    "cluster_ids = df.iloc[:,-1].values\n",
    "print(dihedrals.shape, cluster_ids.shape)\n",
    "print(df.shape)"
   ]
  },
  {
   "cell_type": "code",
   "execution_count": null,
   "id": "f1f1dbe8",
   "metadata": {},
   "outputs": [],
   "source": [
    "parameters = em.Parameters(\n",
    "tensorboard=True,\n",
    "center_cost_scale=0,\n",
    "periodicity=2*np.pi,\n",
    "main_path=em.misc.run_path('runs/custom_losses')\n",
    ")"
   ]
  },
  {
   "cell_type": "markdown",
   "id": "51c49fe2",
   "metadata": {},
   "source": [
    "Now we can instaniate the `EncoderMap` class. For visualization purposes we will also make tensorboard write images."
   ]
  },
  {
   "cell_type": "code",
   "execution_count": null,
   "id": "2a39d853",
   "metadata": {},
   "outputs": [],
   "source": [
    "e_map = em.EncoderMap(parameters, dihedrals)\n",
    "e_map.add_images_to_tensorboard(dihedrals, image_step=1)"
   ]
  },
  {
   "cell_type": "markdown",
   "id": "a9f96456",
   "metadata": {},
   "source": [
    "The loss is created by giving it the model and parameters of the parent `EncoderMap` instance. To not clash with the names of function and result we will call it `_circle_loss`."
   ]
  },
  {
   "cell_type": "code",
   "execution_count": null,
   "id": "06798fa2",
   "metadata": {},
   "outputs": [],
   "source": [
    "_circle_loss = circle_loss(e_map.model, e_map.p)\n",
    "print(_circle_loss)"
   ]
  },
  {
   "cell_type": "markdown",
   "id": "e28c6850",
   "metadata": {},
   "source": [
    "Now we add this loss to `EncoderMap`'s losses"
   ]
  },
  {
   "cell_type": "code",
   "execution_count": null,
   "id": "3b6746fc",
   "metadata": {},
   "outputs": [],
   "source": [
    "print(e_map.loss)\n",
    "e_map.loss.append(_circle_loss)\n",
    "print(e_map.loss)"
   ]
  },
  {
   "cell_type": "markdown",
   "id": "9448f163",
   "metadata": {},
   "source": [
    "### Train"
   ]
  },
  {
   "cell_type": "code",
   "execution_count": null,
   "id": "ccd82e6f",
   "metadata": {},
   "outputs": [],
   "source": [
    "e_map.train()"
   ]
  },
  {
   "cell_type": "markdown",
   "id": "ebd769ad",
   "metadata": {},
   "source": [
    "### Output\n",
    "\n",
    "Here's what Tensorboard should put out:\n",
    "\n",
    "<img src=\"custom_loss_functions_1.png\" width=\"800\">"
   ]
  },
  {
   "cell_type": "code",
   "execution_count": null,
   "id": "1d09853c",
   "metadata": {},
   "outputs": [],
   "source": []
  }
 ],
 "metadata": {
  "kernelspec": {
   "display_name": "Python 3",
   "language": "python",
   "name": "python3"
  },
  "language_info": {
   "codemirror_mode": {
    "name": "ipython",
    "version": 3
   },
   "file_extension": ".py",
   "mimetype": "text/x-python",
   "name": "python",
   "nbconvert_exporter": "python",
   "pygments_lexer": "ipython3",
   "version": "3.8.5"
  },
  "latex_envs": {
   "LaTeX_envs_menu_present": true,
   "autoclose": false,
   "autocomplete": true,
   "bibliofile": "biblio.bib",
   "cite_by": "apalike",
   "current_citInitial": 1,
   "eqLabelWithNumbers": true,
   "eqNumInitial": 1,
   "hotkeys": {
    "equation": "Ctrl-E",
    "itemize": "Ctrl-I"
   },
   "labels_anchors": false,
   "latex_user_defs": false,
   "report_style_numbering": false,
   "user_envs_cfg": false
  },
  "toc": {
   "base_numbering": 1,
   "nav_menu": {},
   "number_sections": true,
   "sideBar": true,
   "skip_h1_title": false,
   "title_cell": "Table of Contents",
   "title_sidebar": "Contents",
   "toc_cell": false,
   "toc_position": {},
   "toc_section_display": true,
   "toc_window_display": false
  }
 },
 "nbformat": 4,
 "nbformat_minor": 5
}
