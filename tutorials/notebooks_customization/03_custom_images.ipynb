{
 "cells": [
  {
   "cell_type": "markdown",
   "id": "16cc3741",
   "metadata": {},
   "source": [
    "# Logging Custom Images\n",
    "\n",
    "**Welcome**\n",
    "\n",
    "To the third part of EncoderMap's customization notebooks.\n",
    "\n",
    "Run this notebook on Google Colab:\n",
    "\n",
    "[![Open in Colab](https://colab.research.google.com/assets/colab-badge.svg)](https://colab.research.google.com/github/AG-Peter/encodermap/blob/main/tutorials/notebooks_customization/03_custom_images.ipynb)\n",
    "\n",
    "Find the documentation of EncoderMap:\n",
    "\n",
    "https://ag-peter.github.io/encodermap\n",
    "\n",
    "### For Google colab only:\n",
    "\n",
    "If you're on Google colab, please uncomment these lines and install EncoderMap."
   ]
  },
  {
   "cell_type": "code",
   "execution_count": null,
   "id": "daa31ab5",
   "metadata": {},
   "outputs": [],
   "source": [
    "# !wget https://gist.githubusercontent.com/kevinsawade/deda578a3c6f26640ae905a3557e4ed1/raw/b7403a37710cb881839186da96d4d117e50abf36/install_encodermap_google_colab.sh\n",
    "# !sudo bash install_encodermap_google_colab.sh"
   ]
  },
  {
   "cell_type": "markdown",
   "id": "032d11e1",
   "metadata": {},
   "source": [
    "**Goals:**\n",
    "\n",
    "In this tuorial you will learn how to add custom images to the \"Images\" section in TensorBoard. This can be done in two ways:\n",
    "\n",
    "- [Providing `EncoderMap.add_images_to_tensorboard()` with custom function.](#logging-via-a-custom-functions)\n",
    "- [Writing a custom Callback, that inherits from `encodermap.callbacks.EncoderMapBaseCallback`.](#writing-custom-callbacks)\n",
    "\n",
    "As usual, we will start to import some packages. Along the usual packages we import the built-in package `io`."
   ]
  },
  {
   "cell_type": "code",
   "execution_count": null,
   "id": "1e7ec075",
   "metadata": {},
   "outputs": [],
   "source": [
    "import numpy as np\n",
    "import encodermap as em\n",
    "import tensorflow as tf\n",
    "import plotly.express as px\n",
    "import plotly.graph_objects as go\n",
    "from plotly.subplots import make_subplots\n",
    "import pandas as pd\n",
    "\n",
    "import io\n",
    "\n",
    "%matplotlib inline"
   ]
  },
  {
   "cell_type": "markdown",
   "id": "5ad5afb8",
   "metadata": {},
   "source": [
    "We will use `io` to write a png-file to a buffer (not to disk) and provide that puffer to Tensorboard for visualization. But first, let us think about what to plot."
   ]
  },
  {
   "cell_type": "markdown",
   "id": "41613662",
   "metadata": {},
   "source": [
    "<a id=\"logging-via-a-custom-function\"></a>\n",
    "\n",
    "## Logging via a custom function\n",
    "\n",
    "What shall we use as an example in this section?\n",
    "Let's take the images, that EncoderMap automatically logs during training. These images are generated from a subset of the training data. This subset is passed through the encoder part of the network. The histogram is created from the point in the `_gen_hist_matplotlib()` function in the `encoderamp.misc.summaries.py` module."
   ]
  },
  {
   "cell_type": "code",
   "execution_count": null,
   "id": "03fd886a-f8ea-40fe-9ca4-11aee0599c80",
   "metadata": {},
   "outputs": [],
   "source": [
    "from encodermap.misc.summaries import _gen_hist_matplotlib\n",
    "import inspect\n",
    "print(inspect.getsource(_gen_hist_matplotlib))"
   ]
  },
  {
   "cell_type": "markdown",
   "id": "bcaceeca-5762-4f08-8182-5a98860d0b10",
   "metadata": {},
   "source": [
    "We can see, that the function that creates the histogram is rather simple. It takes a NumPy array (`data: np.ndarray`) and keyword arguments (`hist_kws: dict[str, Any]`) for matplotlib's `plt.hist2d()`. But what if we want to use the (x, y) data to plot the a free energy-representation of the 2D latent space. Let's develop such a function. We will use SKLearn's `make_blobs()` function to create the test data."
   ]
  },
  {
   "cell_type": "code",
   "execution_count": null,
   "id": "1eed95e8-e1c1-4fab-9bb7-67359599acc4",
   "metadata": {},
   "outputs": [],
   "source": [
    "from sklearn.datasets import make_blobs\n",
    "data, categories = make_blobs(n_samples=10_000, n_features=2)\n",
    "px.scatter(x=data[:, 0], y=data[:, 1])"
   ]
  },
  {
   "cell_type": "markdown",
   "id": "ba8a7879-54fd-433e-8e6d-8b92e3ade4ea",
   "metadata": {},
   "source": [
    "Next, we will create a function called `to_free_energy` to get the negative log density of a binning of this (x, y) space."
   ]
  },
  {
   "cell_type": "code",
   "execution_count": null,
   "id": "7566fb87-9e02-4c00-b670-2c418554bc2c",
   "metadata": {},
   "outputs": [],
   "source": [
    "def to_free_energy(data, bins=100):\n",
    "    \"\"\"Adapted from PyEMMA.\n",
    "\n",
    "    Args:\n",
    "        data (np.ndarray): The low-dimensional data\n",
    "            as a NumPy array.\n",
    "        bins (int): The number of bins.\n",
    "\n",
    "    Returns:\n",
    "        tuple[np.ndarray, np.ndarray, np.ndarray]:\n",
    "            A tuple with the x-centers, the y-centers\n",
    "            as 1D arrays, and the free energy per bin\n",
    "            as a 2D array.\n",
    "\n",
    "    \"\"\"\n",
    "    # create a histogram\n",
    "    H, xedges, yedges = np.histogram2d(*data.T, bins=bins)\n",
    "\n",
    "    # get the bin centers\n",
    "    x = 0.5 * (xedges[:-1] + xedges[1:])\n",
    "    y = 0.5 * (yedges[:-1] + yedges[1:])\n",
    "\n",
    "    # to density\n",
    "    density = H / float(H.sum())\n",
    "\n",
    "    # to free energy\n",
    "    F = np.inf * np.ones_like(H)\n",
    "    nonzero = density.nonzero()\n",
    "    F[nonzero] = -np.log(density[nonzero])\n",
    "\n",
    "    # shift, so that no zeros are in the data\n",
    "    F[nonzero] -= np.min(F[nonzero])\n",
    "\n",
    "    # return\n",
    "    return x, y, F"
   ]
  },
  {
   "cell_type": "markdown",
   "id": "a8c47a42-23de-4d4d-a1e3-876c57763079",
   "metadata": {},
   "source": [
    "Let's test our function:"
   ]
  },
  {
   "cell_type": "code",
   "execution_count": null,
   "id": "750147d3-c748-4f67-a58e-eeb8b255dc02",
   "metadata": {},
   "outputs": [],
   "source": [
    "xx, yy, z = to_free_energy(data)\n",
    "fig = px.imshow(z.T, origin=\"lower\", width=500, height=500)\n",
    "fig.show()"
   ]
  },
  {
   "cell_type": "markdown",
   "id": "4dda4f7b",
   "metadata": {},
   "source": [
    "### Provide this function to EncoderMap\n",
    "\n",
    "We need to make some adjustments to be able to see similar images in tensorboard.\n",
    "\n",
    "1) Everything needs to be contained in a single function, that takes the low-dimensional output of the encoder as input.\n",
    "2) The function needs to return a tensorflow image.\n",
    "\n",
    "Some other lines we have to add:\n",
    "- `buf = io.BytesIO()`. Raw bytecode buffer. These are the actual bytes that would have ended up on your disk, if you would have written the png to it."
   ]
  },
  {
   "cell_type": "code",
   "execution_count": null,
   "id": "554e9f5b",
   "metadata": {},
   "outputs": [],
   "source": [
    "def free_energy_tensorboard(lowd): \n",
    "    # calculate free energy\n",
    "    H, xedges, yedges = np.histogram2d(*lowd.T, bins=50)\n",
    "    x = 0.5 * (xedges[:-1] + xedges[1:])\n",
    "    y = 0.5 * (yedges[:-1] + yedges[1:])\n",
    "    \n",
    "    # to density\n",
    "    density = H / float(H.sum())\n",
    "    \n",
    "    # to free energy\n",
    "    F = np.inf * np.ones(shape=H.shape)\n",
    "    nonzero = density.nonzero()\n",
    "    F[nonzero] = - np.log(density[nonzero])\n",
    "    # shift so no zeros happen\n",
    "    F[nonzero] -= np.min(F[nonzero])\n",
    "    \n",
    "    # actual plotting\n",
    "    fig = px.imshow(F.T, origin=\"lower\", width=500, height=500)\n",
    "    \n",
    "    # BytesIO\n",
    "    buf = io.BytesIO()\n",
    "    fig.write_image(buf)\n",
    "    buf.seek(0)\n",
    "    \n",
    "    # tensorflow\n",
    "    image = tf.image.decode_png(buf.getvalue(), 4) # 4 is due to RGBA colors.\n",
    "    image = tf.expand_dims(image, 0)\n",
    "    return image"
   ]
  },
  {
   "cell_type": "markdown",
   "id": "dda93548",
   "metadata": {},
   "source": [
    "This function will return a tf.Tensor, that we can now log in tensorboard."
   ]
  },
  {
   "cell_type": "code",
   "execution_count": null,
   "id": "8d4cc07a",
   "metadata": {},
   "outputs": [],
   "source": [
    "free_energy_tensorboard(data)"
   ]
  },
  {
   "cell_type": "markdown",
   "id": "f411f3d4",
   "metadata": {},
   "source": [
    "### Train EncoderMap with our new function.\n",
    "\n",
    "First get the input data"
   ]
  },
  {
   "cell_type": "code",
   "execution_count": null,
   "id": "acf79afb",
   "metadata": {},
   "outputs": [],
   "source": [
    "df = pd.read_csv('asp7.csv')\n",
    "dihedrals = df.iloc[:,:-1].values.astype(np.float32)\n",
    "cluster_ids = df.iloc[:,-1].values\n",
    "print(dihedrals.shape, cluster_ids.shape)\n",
    "print(df.shape)"
   ]
  },
  {
   "cell_type": "markdown",
   "id": "61e5e9e3",
   "metadata": {},
   "source": [
    "Cerate the parameters."
   ]
  },
  {
   "cell_type": "code",
   "execution_count": null,
   "id": "1e551670",
   "metadata": {},
   "outputs": [],
   "source": [
    "parameters = em.Parameters(\n",
    "tensorboard=True,\n",
    "periodicity=2*np.pi,\n",
    "n_steps=100,\n",
    "main_path=em.misc.run_path('runs/custom_images')\n",
    ")"
   ]
  },
  {
   "cell_type": "markdown",
   "id": "ae80e333",
   "metadata": {},
   "source": [
    "When calling the method `add_images_to_tensorboard()` we can provide a list of additional functions. That way we can add as much custom functions as we like. In this case, we only add the new `free_energy_tensorboard` function."
   ]
  },
  {
   "cell_type": "code",
   "execution_count": null,
   "id": "1b3ff4e7",
   "metadata": {},
   "outputs": [],
   "source": [
    "e_map = em.EncoderMap(parameters, dihedrals)\n",
    "e_map.add_images_to_tensorboard(dihedrals, image_step=1, additional_fns=[free_energy_tensorboard])"
   ]
  },
  {
   "cell_type": "code",
   "execution_count": null,
   "id": "a374f66f",
   "metadata": {},
   "outputs": [],
   "source": [
    "history = e_map.train()"
   ]
  },
  {
   "cell_type": "markdown",
   "id": "389150dc",
   "metadata": {},
   "source": [
    "### Output\n",
    "\n",
    "Start tensorboard locally via:\n",
    "\n",
    "```bash\n",
    "$ tensorboard --logdir . --reload_multifile True\n",
    "```\n",
    "\n",
    "If you're on Google colab, you can use tensorboard by loading the tensorboard extension:"
   ]
  },
  {
   "cell_type": "code",
   "execution_count": null,
   "id": "2ff35903",
   "metadata": {},
   "outputs": [],
   "source": [
    "# %load_ext tensorboard\n",
    "# %tensorboard --logdir ."
   ]
  },
  {
   "cell_type": "markdown",
   "id": "b7ce6634-d4e2-4847-aa04-632868d47c74",
   "metadata": {},
   "source": [
    "Here's what Tensorboard should display:\n",
    "\n",
    "<img src=\"custom_images_1.png\" width=\"800\">\n",
    "\n",
    "After training we can use the `to_free_energy()` to plot the latent space after the training is finished."
   ]
  },
  {
   "cell_type": "code",
   "execution_count": null,
   "id": "a8580a28",
   "metadata": {},
   "outputs": [],
   "source": [
    "px.imshow(to_free_energy(e_map.encode())[-1].T, origin=\"lower\", width=500, height=500)"
   ]
  },
  {
   "cell_type": "markdown",
   "id": "f893a365",
   "metadata": {},
   "source": [
    "<a id=\"writing-custom-callbacks\"></a>\n",
    "\n",
    "## Writing custom callbacks\n",
    "\n",
    "Writing custom callbacks gives us much more freedom. We can use all kinds of data, that can be provided at the instantiation of a callback. We can also write the images to drive, and so on. We will subclass `encodermap.callbacks.EncoderMapBaseCallback` and implement our own custom functionality in the `on_summary_step()` method. Firt, let's bring up the documentation of that class to see how we can implment our subclass."
   ]
  },
  {
   "cell_type": "code",
   "execution_count": null,
   "id": "649bb871-b17c-46d2-a6fa-57bf6bf61ca7",
   "metadata": {},
   "outputs": [],
   "source": [
    "?em.callbacks.EncoderMapBaseCallback"
   ]
  },
  {
   "cell_type": "markdown",
   "id": "3360fa8a-4037-40ac-afb3-ae8dcb2068f1",
   "metadata": {},
   "source": [
    "### Polar coordinates\n",
    "\n",
    "Then, let's come up with something to plot to tensorboard. I've always like polar plots. So we will analyze the output of the EncoderMap model by polar histograms. Our train data allows that, because we are training on the dihedral (torsion) angles of Asp7. So, the output will always be in a certain range. Let's get some data and create our plot without the callback first."
   ]
  },
  {
   "cell_type": "code",
   "execution_count": null,
   "id": "85948bca-7ca6-4604-b5a6-320d8369c022",
   "metadata": {},
   "outputs": [],
   "source": [
    "output = e_map.decode(e_map.encode())\n",
    "print(output.min())\n",
    "print(output.max())"
   ]
  },
  {
   "cell_type": "markdown",
   "id": "579e80fb-a518-45c7-8e7f-5b0394300d4a",
   "metadata": {},
   "source": [
    "We can see, that the output lies within the $(-\\pi, \\pi)$ periodic space."
   ]
  },
  {
   "cell_type": "code",
   "execution_count": null,
   "id": "a0d258cf-2135-496d-821f-cf4fd7486251",
   "metadata": {},
   "outputs": [],
   "source": [
    "fig = make_subplots(\n",
    "    cols=2,\n",
    "    rows=1,\n",
    "    specs=[[{\"type\": \"polar\"}, {\"type\": \"polar\"}]],\n",
    "    subplot_titles=[\"input\", \"output\"],\n",
    ")\n",
    "\n",
    "# input\n",
    "radii, bins = np.histogram(dihedrals, bins=25)\n",
    "bins_degree = np.rad2deg(bins)\n",
    "widths = np.diff(bins)\n",
    "fig.add_trace(\n",
    "    go.Barpolar(\n",
    "        r=radii,\n",
    "        theta=bins_degree,\n",
    "    ),\n",
    "    col=1,\n",
    "    row=1,\n",
    ")\n",
    "\n",
    "# output\n",
    "radii, bins = np.histogram(output, bins=25)\n",
    "bins_degree = np.rad2deg(bins)\n",
    "widths = np.diff(bins)\n",
    "fig.add_trace(\n",
    "    go.Barpolar(\n",
    "        r=radii,\n",
    "        theta=bins_degree,\n",
    "    ),\n",
    "    col=2,\n",
    "    row=1,\n",
    ")\n",
    "fig.update_layout(\n",
    "    {\n",
    "        \"height\": 500,\n",
    "        \"width\": 1000,\n",
    "    },\n",
    ")\n",
    "fig.show()"
   ]
  },
  {
   "cell_type": "markdown",
   "id": "91e9a25b-b7f0-4d86-a631-e3d3ce882a16",
   "metadata": {},
   "source": [
    "We also can see that this instance of EncoderMap has some success in recreating the distribution of dihedral angles."
   ]
  },
  {
   "cell_type": "markdown",
   "id": "4a3aec00-706c-426f-acb8-d8c960b674bc",
   "metadata": {},
   "source": [
    "### Subclassing `EncoderMapBaseCallback`\n",
    "\n",
    "We now know, what we want to plot. We just need to implement it."
   ]
  },
  {
   "cell_type": "code",
   "execution_count": null,
   "id": "80e18e39-205b-4dd9-bcfe-806b0b800125",
   "metadata": {},
   "outputs": [],
   "source": [
    "class PolarCoordinatesCallback(em.callbacks.EncoderMapBaseCallback):\n",
    "    # we use our input data as a class attribute\n",
    "    # (rather than an instance attribute)\n",
    "    # that way, we can also plot the input diagram\n",
    "    highd_data = dihedrals.copy()\n",
    "\n",
    "    def on_summary_step(self, step, logs=None):\n",
    "        # get output data\n",
    "        output = self.model(self.highd_data)\n",
    "        \n",
    "        fig = make_subplots(\n",
    "            cols=2,\n",
    "            rows=1,\n",
    "            specs=[[{\"type\": \"polar\"}, {\"type\": \"polar\"}]],\n",
    "            subplot_titles=[\"input\", \"output\"],\n",
    "        )\n",
    "\n",
    "        # input\n",
    "        radii, bins = np.histogram(self.highd_data, bins=25)\n",
    "        bins_degree = np.rad2deg(bins)\n",
    "        widths = np.diff(bins)\n",
    "        fig.add_trace(\n",
    "            go.Barpolar(\n",
    "                r=radii,\n",
    "                theta=bins_degree,\n",
    "            ),\n",
    "            col=1,\n",
    "            row=1,\n",
    "        )\n",
    "        \n",
    "        # output\n",
    "        radii, bins = np.histogram(output, bins=25)\n",
    "        bins_degree = np.rad2deg(bins)\n",
    "        widths = np.diff(bins)\n",
    "        fig.add_trace(\n",
    "            go.Barpolar(\n",
    "                r=radii,\n",
    "                theta=bins_degree,\n",
    "            ),\n",
    "            col=2,\n",
    "            row=1,\n",
    "        )\n",
    "        fig.update_layout(\n",
    "            {\n",
    "                \"height\": 500,\n",
    "                \"width\": 1000,\n",
    "            },\n",
    "        )\n",
    "\n",
    "        # BytesIO\n",
    "        buf = io.BytesIO()\n",
    "        fig.write_image(buf)\n",
    "        buf.seek(0)\n",
    "        \n",
    "        # tensorflow\n",
    "        image = tf.image.decode_png(buf.getvalue(), 4) # 4 is due to RGBA colors.\n",
    "        image = tf.expand_dims(image, 0)\n",
    "        with tf.name_scope(\"User Provided Plotting Functions\"):\n",
    "            tf.summary.image(f\"Polar Plot\", image, step=self.steps_counter)"
   ]
  },
  {
   "cell_type": "markdown",
   "id": "197c4f32",
   "metadata": {},
   "source": [
    "### Adding the callback to EncoderMap\n",
    "\n",
    "Before starting the training we will simply append use the `add_callback()` method of the `EncoderMap` instance."
   ]
  },
  {
   "cell_type": "code",
   "execution_count": null,
   "id": "9de68504",
   "metadata": {},
   "outputs": [],
   "source": [
    "parameters = em.Parameters(\n",
    "tensorboard=True,\n",
    "n_steps=100,\n",
    "periodicity=2*np.pi,\n",
    "main_path=em.misc.run_path('runs/custom_images')\n",
    ")"
   ]
  },
  {
   "cell_type": "code",
   "execution_count": null,
   "id": "7ae87297",
   "metadata": {},
   "outputs": [],
   "source": [
    "e_map = em.EncoderMap(parameters, dihedrals)\n",
    "e_map.add_images_to_tensorboard(dihedrals, image_step=1, additional_fns=[free_energy_tensorboard])\n",
    "\n",
    "# add the new callback\n",
    "e_map.add_callback(PolarCoordinatesCallback)"
   ]
  },
  {
   "cell_type": "code",
   "execution_count": null,
   "id": "3a1ab2f4",
   "metadata": {},
   "outputs": [],
   "source": [
    "history = e_map.train()"
   ]
  },
  {
   "cell_type": "markdown",
   "id": "5dd97bac-9d60-49b0-97e8-4da17500b059",
   "metadata": {},
   "source": [
    "### Output\n",
    "\n",
    "The output from Tensorboard could look something like this:\n",
    "\n",
    "<img src=\"custom_images_2.png\" width=\"800\">"
   ]
  },
  {
   "cell_type": "markdown",
   "id": "6c5ce6d0",
   "metadata": {},
   "source": [
    "We can clearly see our polar histogram function. Furthermore, we can see, that at training step 10 the EncoderMap network was not yet able to reproduce the input dihedral distribution.\n",
    "\n",
    "## Conclusion\n",
    "\n",
    "Using the tools provided in this notebook, you will be able to customize EncoderMap to your liking. Using images to visualize the output of the neural network is a much better visual aid, than just looking at graphs of raw data."
   ]
  }
 ],
 "metadata": {
  "emap": "run",
  "kernelspec": {
   "display_name": "Python 3 (ipykernel)",
   "language": "python",
   "name": "python3"
  },
  "language_info": {
   "codemirror_mode": {
    "name": "ipython",
    "version": 3
   },
   "file_extension": ".py",
   "mimetype": "text/x-python",
   "name": "python",
   "nbconvert_exporter": "python",
   "pygments_lexer": "ipython3",
   "version": "3.10.12"
  }
 },
 "nbformat": 4,
 "nbformat_minor": 5
}
