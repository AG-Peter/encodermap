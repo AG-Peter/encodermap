{
 "cells": [
  {
   "cell_type": "markdown",
   "id": "16cc3741",
   "metadata": {},
   "source": [
    "# Logging Custom Images\n",
    "\n",
    "Run this notebook on Google Colab:\n",
    "\n",
    "[![Open in Colab](https://colab.research.google.com/assets/colab-badge.svg)](https://colab.research.google.com/github/AG-Peter/encodermap/blob/main/tutorials/notebooks_customization/writing_custom_images_to_tensorboard.ipynb)\n",
    "\n",
    "Find the documentation of EncoderMap:\n",
    "\n",
    "https://ag-peter.github.io/encodermap\n",
    "\n",
    "### For Google colab only:\n",
    "\n",
    "If you're on Google colab, please uncomment these lines and install EncoderMap."
   ]
  },
  {
   "cell_type": "code",
   "execution_count": null,
   "id": "daa31ab5",
   "metadata": {
    "ExecuteTime": {
     "end_time": "2023-02-01T11:17:14.382556Z",
     "start_time": "2023-02-01T11:17:14.379844Z"
    }
   },
   "outputs": [],
   "source": [
    "# !wget https://raw.githubusercontent.com/AG-Peter/encodermap/main/tutorials/install_encodermap_google_colab.sh\n",
    "# !sudo install_encodermap_google_colab.sh"
   ]
  },
  {
   "cell_type": "markdown",
   "id": "032d11e1",
   "metadata": {},
   "source": [
    "## Primer\n",
    "\n",
    "\n",
    "In this tutorial we will learn how to write custom images to Tensorboard. This can be done in two ways:\n",
    "\n",
    "- Providing `encodermap.EncoderMap.add_images_to_tensorboard` with addtional functions that return a stringIO buffer object and use the latent space of the Autoencoder.\n",
    "- Writing custom callbacks and adding them to EncoderMap.\n",
    "\n",
    "As usual, we will start to import some packages. Along the usual packages we import the built-in package `io`."
   ]
  },
  {
   "cell_type": "code",
   "execution_count": null,
   "id": "1e7ec075",
   "metadata": {
    "ExecuteTime": {
     "end_time": "2023-02-01T11:18:07.977599Z",
     "start_time": "2023-02-01T11:18:01.860828Z"
    }
   },
   "outputs": [],
   "source": [
    "import numpy as np\n",
    "import encodermap as em\n",
    "import tensorflow as tf\n",
    "import matplotlib.pyplot as plt\n",
    "import matplotlib as mpl\n",
    "import matplotlib\n",
    "import pandas as pd\n",
    "\n",
    "import io\n",
    "\n",
    "%matplotlib inline"
   ]
  },
  {
   "cell_type": "markdown",
   "id": "5ad5afb8",
   "metadata": {},
   "source": [
    "We will use `io` to write a png-file to a buffer (not to disk) and provide that puffer to Tensorboard for visualization. But first, let us think about what to plot."
   ]
  },
  {
   "cell_type": "markdown",
   "id": "41613662",
   "metadata": {},
   "source": [
    "## Logging via a custom function.\n",
    "\n",
    "**Idea:** Plot the inverted-log density of the low-dimensional/bottleneck/latent-space which correlates to the system's free energy surface (not quite, but let's assume it does).\n",
    "\n",
    "First let's start plotting such a graph in pure matploltib. As example data we will use a 2D Gaussian. We know what to expect from a hypothetical free energy landscape of such a point distribution. Low free energies in the middle, where the density is high and high free energies at the fringes, where the points are less dense."
   ]
  },
  {
   "cell_type": "code",
   "execution_count": null,
   "id": "67414160",
   "metadata": {
    "ExecuteTime": {
     "end_time": "2023-02-01T11:18:12.143609Z",
     "start_time": "2023-02-01T11:18:11.963357Z"
    }
   },
   "outputs": [],
   "source": [
    "xy_data = np.vstack([np.random.normal(size=20000), np.random.normal(size=20000)]).T\n",
    "plt.close('all')\n",
    "plt.scatter(*xy_data.T)"
   ]
  },
  {
   "cell_type": "markdown",
   "id": "47fc8e4e",
   "metadata": {},
   "source": [
    "### Matplotlib implementation"
   ]
  },
  {
   "cell_type": "code",
   "execution_count": null,
   "id": "fba76511",
   "metadata": {
    "ExecuteTime": {
     "end_time": "2023-02-01T11:19:01.487860Z",
     "start_time": "2023-02-01T11:19:01.145026Z"
    }
   },
   "outputs": [],
   "source": [
    "def to_free_energy(xy, bins=100):\n",
    "    \"\"\"Adapted from pyemma.plots.plot_free_energy()\"\"\"\n",
    "    \n",
    "    # create histogram\n",
    "    H, xedges, yedges = np.histogram2d(*xy.T, bins=bins)\n",
    "    x = 0.5 * (xedges[:-1] + xedges[1:])\n",
    "    y = 0.5 * (yedges[:-1] + yedges[1:])\n",
    "    \n",
    "    # to density\n",
    "    density = H / float(H.sum())\n",
    "    \n",
    "    # to free energy\n",
    "    F = np.inf * np.ones(shape=H.shape)\n",
    "    nonzero = density.nonzero()\n",
    "    F[nonzero] = - np.log(density[nonzero])\n",
    "    # shift so no zeros happen\n",
    "    F[nonzero] -= np.min(F[nonzero])\n",
    "    return x, y, F\n",
    "\n",
    "plt.close('all')\n",
    "    \n",
    "fig, ax = plt.subplots()\n",
    "\n",
    "mappable = plt.contourf(*to_free_energy(xy_data), cmap='turbo', levels=100)\n",
    "cax = fig.colorbar(mappable, ax=ax)\n",
    "cax.set_label(\"free energy / kT\")"
   ]
  },
  {
   "cell_type": "markdown",
   "id": "4dda4f7b",
   "metadata": {},
   "source": [
    "### Provide this function to EncoderMap\n",
    "\n",
    "We need to make some adjustments to be able to see similar images in tensorboard. First: Everything needs to be contained in a single function, that takes the low-dimensional output of the encoder as input. Second: The function needs to return a tensorflow image.\n",
    "\n",
    "Some other lines we have to add:\n",
    "- `matplotlib.use('Agg')`. Overwrites the current matplotlib backend. So the images created during training are not rendered in the notebook.\n",
    "- buf = io.BytesIO(). Raw bytecode buffer. These are the actual bytes that would have ended up on your disk, if you would have written the png to it."
   ]
  },
  {
   "cell_type": "code",
   "execution_count": null,
   "id": "554e9f5b",
   "metadata": {
    "ExecuteTime": {
     "end_time": "2023-02-01T11:19:53.539126Z",
     "start_time": "2023-02-01T11:19:53.530328Z"
    }
   },
   "outputs": [],
   "source": [
    "def free_energy_tensorboard(lowd):\n",
    "    plt.close('all')\n",
    "    matplotlib.use('Agg')  # overwrites current backend of notebook\n",
    "    \n",
    "    # calculate free energy\n",
    "    H, xedges, yedges = np.histogram2d(*lowd.T, bins=50)\n",
    "    x = 0.5 * (xedges[:-1] + xedges[1:])\n",
    "    y = 0.5 * (yedges[:-1] + yedges[1:])\n",
    "    \n",
    "    # to density\n",
    "    density = H / float(H.sum())\n",
    "    \n",
    "    # to free energy\n",
    "    F = np.inf * np.ones(shape=H.shape)\n",
    "    nonzero = density.nonzero()\n",
    "    F[nonzero] = - np.log(density[nonzero])\n",
    "    # shift so no zeros happen\n",
    "    F[nonzero] -= np.min(F[nonzero])\n",
    "    \n",
    "    # actual plotting\n",
    "    fig, ax = plt.subplots()\n",
    "    mappable = plt.contourf(x, y, F, cmap='turbo', levels=100)\n",
    "    cax = fig.colorbar(mappable, ax=ax)\n",
    "    cax.set_label(\"free energy / kT\")\n",
    "    \n",
    "    # BytesIO\n",
    "    buf = io.BytesIO()\n",
    "    plt.savefig(buf, format='png')\n",
    "    buf.seek(0)\n",
    "    \n",
    "    # tensorflow\n",
    "    image = tf.image.decode_png(buf.getvalue(), 4) # 4 is due to RGBA colors.\n",
    "    image = tf.expand_dims(image, 0)\n",
    "    return image"
   ]
  },
  {
   "cell_type": "markdown",
   "id": "dda93548",
   "metadata": {},
   "source": [
    "This function will return a tf.Tensor, that we can now log in tensorboard."
   ]
  },
  {
   "cell_type": "code",
   "execution_count": null,
   "id": "8d4cc07a",
   "metadata": {
    "ExecuteTime": {
     "end_time": "2023-02-01T11:19:54.549513Z",
     "start_time": "2023-02-01T11:19:54.130946Z"
    }
   },
   "outputs": [],
   "source": [
    "free_energy_tensorboard(xy_data)"
   ]
  },
  {
   "cell_type": "markdown",
   "id": "f411f3d4",
   "metadata": {},
   "source": [
    "### Train EncoderMap with our new function.\n",
    "\n",
    "First get the input data"
   ]
  },
  {
   "cell_type": "code",
   "execution_count": null,
   "id": "acf79afb",
   "metadata": {},
   "outputs": [],
   "source": [
    "df = pd.read_csv('asp7.csv')\n",
    "dihedrals = df.iloc[:,:-1].values.astype(np.float32)\n",
    "cluster_ids = df.iloc[:,-1].values\n",
    "print(dihedrals.shape, cluster_ids.shape)\n",
    "print(df.shape)"
   ]
  },
  {
   "cell_type": "markdown",
   "id": "61e5e9e3",
   "metadata": {},
   "source": [
    "Cerate the parameters."
   ]
  },
  {
   "cell_type": "code",
   "execution_count": null,
   "id": "1e551670",
   "metadata": {},
   "outputs": [],
   "source": [
    "parameters = em.Parameters(\n",
    "tensorboard=True,\n",
    "periodicity=2*np.pi,\n",
    "n_steps=100,\n",
    "main_path=em.misc.run_path('runs/custom_images')\n",
    ")"
   ]
  },
  {
   "cell_type": "markdown",
   "id": "ae80e333",
   "metadata": {},
   "source": [
    "When calling the method `add_images_to_tensorboard()` we can provide a list of additional functions. That way we can add as much custom functions as we like. In this case, we only add the new `free_energy_tensorboard` function."
   ]
  },
  {
   "cell_type": "code",
   "execution_count": null,
   "id": "1b3ff4e7",
   "metadata": {
    "ExecuteTime": {
     "end_time": "2023-02-01T11:21:16.803917Z",
     "start_time": "2023-02-01T11:21:13.723339Z"
    }
   },
   "outputs": [],
   "source": [
    "e_map = em.EncoderMap(parameters, dihedrals)\n",
    "e_map.add_images_to_tensorboard(dihedrals, image_step=1, additional_fns=[free_energy_tensorboard])"
   ]
  },
  {
   "cell_type": "code",
   "execution_count": null,
   "id": "a374f66f",
   "metadata": {
    "ExecuteTime": {
     "end_time": "2023-02-01T11:21:16.804953Z",
     "start_time": "2023-02-01T11:21:16.804943Z"
    }
   },
   "outputs": [],
   "source": [
    "e_map.train()"
   ]
  },
  {
   "cell_type": "markdown",
   "id": "389150dc",
   "metadata": {},
   "source": [
    "### Output\n",
    "\n",
    "Start tensorboard locally via:\n",
    "\n",
    "```bash\n",
    "$ tensorboard --logdir . --reload_multifile True\n",
    "```\n",
    "\n",
    "If you're on Google colab, you can use tensorboard by loading the tensorboard extension:"
   ]
  },
  {
   "cell_type": "code",
   "execution_count": null,
   "id": "2ff35903",
   "metadata": {
    "ExecuteTime": {
     "end_time": "2023-02-01T11:43:48.133023Z",
     "start_time": "2023-02-01T11:43:48.128109Z"
    }
   },
   "outputs": [],
   "source": [
    "# %load_ext tensorboard\n",
    "# %tensorboard --logdir ."
   ]
  },
  {
   "cell_type": "markdown",
   "id": "f8353f26",
   "metadata": {},
   "source": [
    "Here's what Tensorboard should display:\n",
    "\n",
    "<img src=\"custom_images_1.png\" width=\"800\">\n",
    "\n",
    "After training we can use the `to_free_energy()` to plot the latent space after the training is finished."
   ]
  },
  {
   "cell_type": "code",
   "execution_count": null,
   "id": "a8580a28",
   "metadata": {},
   "outputs": [],
   "source": [
    "def to_free_energy(xy, bins=100):\n",
    "    \"\"\"Adapted from pyemma.plots.plot_free_energy()\"\"\"\n",
    "    \n",
    "    # create histogram\n",
    "    H, xedges, yedges = np.histogram2d(*xy.T, bins=bins)\n",
    "    x = 0.5 * (xedges[:-1] + xedges[1:])\n",
    "    y = 0.5 * (yedges[:-1] + yedges[1:])\n",
    "    \n",
    "    # to density\n",
    "    density = H / float(H.sum())\n",
    "    \n",
    "    # to free energy\n",
    "    F = np.inf * np.ones(shape=H.shape)\n",
    "    nonzero = density.nonzero()\n",
    "    F[nonzero] = - np.log(density[nonzero])\n",
    "    # shift so no zeros happen\n",
    "    F[nonzero] -= np.min(F[nonzero])\n",
    "    return x, y, F\n",
    "\n",
    "%matplotlib notebook\n",
    "\n",
    "plt.close('all')\n",
    "    \n",
    "fig, ax = plt.subplots()\n",
    "\n",
    "mappable = plt.contourf(*to_free_energy(e_map.encode(dihedrals)), cmap='turbo', levels=100)\n",
    "cax = fig.colorbar(mappable, ax=ax)\n",
    "cax.set_label(\"free energy / kT\")"
   ]
  },
  {
   "cell_type": "markdown",
   "id": "f893a365",
   "metadata": {},
   "source": [
    "## Writing custom callbacks\n",
    "\n",
    "Writing custom callbacks gives us much more freedom. We can use all kinds of data, that can be provided at the instantiation of a callback. We can also write the images to drive, and so on. We will use `tf.keras.callbacks.Callback` subclassing to feed the dihedral angles of Asp7 trhough the Autoencoder (encode and decode) and use the output dihedral angles to plot a polar histogram."
   ]
  },
  {
   "cell_type": "markdown",
   "id": "62f6a55e",
   "metadata": {},
   "source": [
    "### Matplotlib\n",
    "\n",
    "We'll use the input dihedrals to develop our plot."
   ]
  },
  {
   "cell_type": "code",
   "execution_count": null,
   "id": "84baf727",
   "metadata": {},
   "outputs": [],
   "source": [
    "%matplotlib notebook\n",
    "\n",
    "plt.close('all')\n",
    "\n",
    "fig = plt.figure()\n",
    "ax = fig.add_subplot(111, projection='polar')\n",
    "\n",
    "radii, bins = np.histogram(dihedrals, bins=25)\n",
    "widths = np.diff(bins)\n",
    "\n",
    "patches = ax.bar(bins[:-1], radii, align='edge', width=widths, edgecolor='k', fill=True)\n",
    "\n",
    "plt.show()"
   ]
  },
  {
   "cell_type": "markdown",
   "id": "9ef5e77a",
   "metadata": {},
   "source": [
    "### Subclassing a keras callback\n",
    "\n",
    "Subcalssing a keras callback gives us access to these methods:\n",
    "\n",
    "```python\n",
    "class CustomCallback(keras.callbacks.Callback):\n",
    "    def on_train_begin(self, logs=None):\n",
    "        keys = list(logs.keys())\n",
    "        print(\"Starting training; got log keys: {}\".format(keys))\n",
    "\n",
    "    def on_train_end(self, logs=None):\n",
    "        keys = list(logs.keys())\n",
    "        print(\"Stop training; got log keys: {}\".format(keys))\n",
    "\n",
    "    def on_epoch_begin(self, epoch, logs=None):\n",
    "        keys = list(logs.keys())\n",
    "        print(\"Start epoch {} of training; got log keys: {}\".format(epoch, keys))\n",
    "\n",
    "    def on_epoch_end(self, epoch, logs=None):\n",
    "        keys = list(logs.keys())\n",
    "        print(\"End epoch {} of training; got log keys: {}\".format(epoch, keys))\n",
    "\n",
    "    def on_train_batch_begin(self, batch, logs=None):\n",
    "        keys = list(logs.keys())\n",
    "        print(\"...Training: start of batch {}; got log keys: {}\".format(batch, keys))\n",
    "\n",
    "    def on_train_batch_end(self, batch, logs=None):\n",
    "        keys = list(logs.keys())\n",
    "        print(\"...Training: end of batch {}; got log keys: {}\".format(batch, keys))\n",
    "```\n",
    "\n",
    "Additionally, the callback contains the model as an instance variable `self.model`. So let's create our own callback and overwrite the parent class' `on_epoch_end()` method to use for plotting purposes.\n",
    "\n",
    "The method `_polar_plotting()` will follow the same scheme we used for the free energy, i.e. it will return a tensorflow image."
   ]
  },
  {
   "cell_type": "code",
   "execution_count": null,
   "id": "61352305",
   "metadata": {},
   "outputs": [],
   "source": [
    "class PolarHistogramCallback(tf.keras.callbacks.Callback):\n",
    "    def __init__(self, inp_data):\n",
    "        super().__init__()\n",
    "        self.inp_data = inp_data\n",
    "        \n",
    "    def on_epoch_end(self, epoch, logs={}):\n",
    "        highd = self.model(self.inp_data)\n",
    "        image = self._polar_plotting(highd)\n",
    "        with tf.name_scope(\"User Provided Plotting Functions\"):\n",
    "            tf.summary.image(f\"Polar Plot at epoch {epoch}\", image, step=epoch)\n",
    "        \n",
    "    def _polar_plotting(self, highd):\n",
    "        plt.close('all')\n",
    "        matplotlib.use('Agg')  # overwrites current backend of notebook\n",
    "\n",
    "        # create figure\n",
    "        fig = plt.figure()\n",
    "        ax = fig.add_subplot(111, projection='polar')\n",
    "\n",
    "        # histogram\n",
    "        radii, bins = np.histogram(highd, bins=25)\n",
    "        widths = np.diff(bins)\n",
    "\n",
    "        # plot the patches\n",
    "        patches = ax.bar(bins[:-1], radii, align='edge', width=widths, edgecolor='k', fill=True)\n",
    "        \n",
    "        # BytesIO\n",
    "        buf = io.BytesIO()\n",
    "        plt.savefig(buf, format='png')\n",
    "        buf.seek(0)\n",
    "\n",
    "        # tensorflow\n",
    "        image = tf.image.decode_png(buf.getvalue(), 4) # 4 is due to RGBA colors.\n",
    "        image = tf.expand_dims(image, 0)\n",
    "        return image"
   ]
  },
  {
   "cell_type": "markdown",
   "id": "197c4f32",
   "metadata": {},
   "source": [
    "### Adding the callback to EncoderMap\n",
    "\n",
    "Before starting the training we will simply append **an instance** of our callback to the `EncoderMap` class' own callbacks list. We don't even have to call the `add_images_to_tensorboard()` method.\n",
    "\n",
    "If we wanted to only create an image every n, or so, epochs, we could provide `em.Parameters` to the `__init__()` method of our new callback and add a line like so:\n",
    "\n",
    "```python\n",
    "if epoch % self.parameters.n_summary_step == 0:\n",
    "    create_image()\n",
    "    ....\n",
    "```"
   ]
  },
  {
   "cell_type": "code",
   "execution_count": null,
   "id": "9de68504",
   "metadata": {},
   "outputs": [],
   "source": [
    "parameters = em.Parameters(\n",
    "tensorboard=True,\n",
    "n_steps=100,\n",
    "periodicity=2*np.pi,\n",
    "main_path=em.misc.run_path('runs/custom_images')\n",
    ")"
   ]
  },
  {
   "cell_type": "code",
   "execution_count": null,
   "id": "7ae87297",
   "metadata": {},
   "outputs": [],
   "source": [
    "e_map = em.EncoderMap(parameters, dihedrals)\n",
    "e_map.add_images_to_tensorboard(dihedrals, image_step=1, additional_fns=[free_energy_tensorboard])\n",
    "\n",
    "# add the new callback\n",
    "callback = PolarHistogramCallback(dihedrals)\n",
    "e_map.callbacks.append(callback)"
   ]
  },
  {
   "cell_type": "code",
   "execution_count": null,
   "id": "3a1ab2f4",
   "metadata": {},
   "outputs": [],
   "source": [
    "e_map.train()"
   ]
  },
  {
   "cell_type": "markdown",
   "id": "489c4e03",
   "metadata": {},
   "source": [
    "### Output\n",
    "\n",
    "The output from Tensorboard could look something like this:\n",
    "\n",
    "<img src=\"custom_images_2.png\" width=\"800\">"
   ]
  },
  {
   "cell_type": "code",
   "execution_count": null,
   "id": "83aa0e94",
   "metadata": {},
   "outputs": [],
   "source": [
    "%matplotlib notebook\n",
    "\n",
    "plt.close('all')\n",
    "\n",
    "fig = plt.figure()\n",
    "ax = fig.add_subplot(111, projection='polar')\n",
    "\n",
    "radii, bins = np.histogram(e_map.model(dihedrals), bins=25)\n",
    "widths = np.diff(bins)\n",
    "\n",
    "patches = ax.bar(bins[:-1], radii, align='edge', width=widths, edgecolor='k', fill=True)\n",
    "\n",
    "plt.show()"
   ]
  },
  {
   "cell_type": "markdown",
   "id": "6c5ce6d0",
   "metadata": {},
   "source": [
    "## Conclusion\n",
    "\n",
    "Using the tools provided in this notebook, you will be able to customize EncoderMap to your liking. Using images to visualize the output of the neural network is a much better visual aid, than just looking at graphs of raw data."
   ]
  }
 ],
 "metadata": {
  "kernelspec": {
   "display_name": "py39_tf2",
   "language": "python",
   "name": "myenv"
  },
  "language_info": {
   "codemirror_mode": {
    "name": "ipython",
    "version": 3
   },
   "file_extension": ".py",
   "mimetype": "text/x-python",
   "name": "python",
   "nbconvert_exporter": "python",
   "pygments_lexer": "ipython3",
   "version": "3.9.6"
  },
  "latex_envs": {
   "LaTeX_envs_menu_present": true,
   "autoclose": false,
   "autocomplete": true,
   "bibliofile": "biblio.bib",
   "cite_by": "apalike",
   "current_citInitial": 1,
   "eqLabelWithNumbers": true,
   "eqNumInitial": 1,
   "hotkeys": {
    "equation": "Ctrl-E",
    "itemize": "Ctrl-I"
   },
   "labels_anchors": false,
   "latex_user_defs": false,
   "report_style_numbering": false,
   "user_envs_cfg": false
  },
  "toc": {
   "base_numbering": 1,
   "nav_menu": {},
   "number_sections": true,
   "sideBar": true,
   "skip_h1_title": false,
   "title_cell": "Table of Contents",
   "title_sidebar": "Contents",
   "toc_cell": false,
   "toc_position": {
    "height": "calc(100% - 180px)",
    "left": "10px",
    "top": "150px",
    "width": "273.594px"
   },
   "toc_section_display": true,
   "toc_window_display": true
  }
 },
 "nbformat": 4,
 "nbformat_minor": 5
}
