{
 "cells": [
  {
   "cell_type": "markdown",
   "metadata": {},
   "source": [
    "# Welcome\n",
    "\n",
    "To start this tutorial I want to quote Daniel M. Zuckerman:\n",
    "\n",
    "\"The trajectory ensemble is everything you’ve always wanted, and more.  Really, it is.  Trajectory ensembles unlock fundamental ideas in statistical mechanics, including connections between equilibrium and non-equilibrium phenomena.  Simple sketches of these objects immediately yield important equations without a lot of math.  Give me the trajectory-ensemble pictures over fancy formalism any day.  It’s harder to make a mistake with a picture than a complicated equation.\"\n",
    "\n",
    "Read more here: http://statisticalbiophysicsblog.org/?p=92\n",
    "\n",
    "This idea and many more went into the creation of our new EncoderMap package. I have some exciting new ideas and concepts to show you so let us jump straight in with trajectory ensembles.\n",
    "\n",
    "As computational chemists most of the time, we don't work with single trajectories. Most modern python-packages have this feature built-in. They allow to load multiple files and combine them into one data stream. However, they all fall short when it comes to ensembles of different topologies. But oftentimes we want to directly compare a mutation on a protein with its wild type. A mutation might introduce additional atoms which will divide the WT and mutant in all analysis pipelines. Calculations are made for every protein separately and then combined to make some sense.\n",
    "\n",
    "With the new framework of EncoderMap this is still possible. But what's even better you can now just give a list of trajectories, topologies and EncoderMap will put them through the same pipeline.\n",
    "\n",
    "In this tutorial you will be introduced to two new classes in EndoerMap. These two classes are the `SingleTraj` and `TrajEnsemble` class. They are meant to work with large **trajectory ensembles** and be easy on your system's resources (i.e. use less RAM). These classes only point to the files on disk, until the data is needed, at which point, the data is loaded into RAM and kept there for later use.\n",
    "\n",
    "Most MD workflows don't use all coordinates but extract a subset of internal coordinates. So-called collective variables (CVs). The two new classes keep track of your CVs and corresponding trajectory frames, so that you can simply grab a single frame from a large, possibly fragmented database of simulations.\n",
    "\n",
    "\n",
    "In this tutorial you will be introduced to these two new classes and see how they work. You will learn how:\n",
    "- To instantiate the classes from different trajectory formats.\n",
    "- See how you can slice and subsample single trajectories.\n",
    "- Load a set of trajectories with **different topologies** and group them by a common string.\n",
    "- Use a subsample of the whole trajectory ensemble.\n",
    "- Load and save high-dimensional and low-dimensional CVs for your trajectory ensemble.\n",
    "- Keep track where individual frames come from."
   ]
  },
  {
   "cell_type": "markdown",
   "metadata": {},
   "source": [
    "# Imports\n",
    "\n",
    "First let us import the packages we are working with."
   ]
  },
  {
   "cell_type": "code",
   "execution_count": null,
   "metadata": {
    "ExecuteTime": {
     "end_time": "2021-02-24T10:25:03.026647Z",
     "start_time": "2021-02-24T10:24:54.672760Z"
    }
   },
   "outputs": [],
   "source": [
    "import encodermap as em\n",
    "import numpy as np\n",
    "import mdtraj as md\n",
    "import MDAnalysis as mda\n",
    "import matplotlib as mpl\n",
    "import matplotlib.pyplot as plt\n",
    "\n",
    "import glob\n",
    "import os\n",
    "\n",
    "# if you have nglview set up you can also import it\n",
    "import nglview as ngl\n",
    "\n",
    "# autoreload and matplotlib backend\n",
    "%matplotlib notebook\n",
    "%load_ext autoreload\n",
    "%autoreload 2"
   ]
  },
  {
   "cell_type": "markdown",
   "metadata": {},
   "source": [
    "# New classes for working with trajs and their CVs\n",
    "\n",
    "## The new `SingleTraj` class\n",
    "\n",
    "The `SingleTraj` class is meant as a single container to hold a trajectories xyz coordinates, its topology, its high-dimensional CVs and its low-dimensional representation. Here are some examples of what you can do with it."
   ]
  },
  {
   "cell_type": "markdown",
   "metadata": {},
   "source": [
    "### Initialize.\n",
    "\n",
    "The `SingleTraj` class can be initialized in many ways. Most of the input is just piped to mdtraj. The three most common are:\n",
    "\n",
    "- From a trajectory file and a topology file\n",
    "- From a h5 trajectory file (faster for random accesses, i.e. clustering)\n",
    "- From an existing mdtraj trajectory."
   ]
  },
  {
   "cell_type": "code",
   "execution_count": null,
   "metadata": {
    "ExecuteTime": {
     "end_time": "2021-02-24T10:25:03.301025Z",
     "start_time": "2021-02-24T10:25:03.028349Z"
    }
   },
   "outputs": [],
   "source": [
    "traj1 = em.SingleTraj(\"tests/data/1am7_corrected.xtc\", \"tests/data/1am7_protein.pdb\")\n",
    "traj2 = em.SingleTraj(\"tests/data/traj.h5\")\n",
    "_ = md.load(\"tests/data/1am7_corrected.xtc\", top=\"tests/data/1am7_protein.pdb\")\n",
    "traj3 = em.SingleTraj(_)"
   ]
  },
  {
   "cell_type": "code",
   "execution_count": null,
   "metadata": {
    "ExecuteTime": {
     "end_time": "2021-02-24T10:25:05.509647Z",
     "start_time": "2021-02-24T10:25:05.130590Z"
    }
   },
   "outputs": [],
   "source": [
    "print(traj1, '\\n', traj2, '\\n', traj3)"
   ]
  },
  {
   "cell_type": "markdown",
   "metadata": {},
   "source": [
    "**If you initialized the traj from files you get some extra options like the basename**"
   ]
  },
  {
   "cell_type": "code",
   "execution_count": null,
   "metadata": {
    "ExecuteTime": {
     "end_time": "2021-02-24T10:25:08.287742Z",
     "start_time": "2021-02-24T10:25:08.211452Z"
    }
   },
   "outputs": [],
   "source": [
    "print(traj1.basename, traj1.traj_file, traj1.top_file)\n",
    "print(traj2.basename, traj2.traj_file, traj2.top_file)"
   ]
  },
  {
   "cell_type": "markdown",
   "metadata": {},
   "source": [
    "### The topology is always there\n",
    "\n",
    "The topology of a `SingleTraj` class is always accessible through its `top` argument. Getting the topology does not require much resources as most trajectory formats save it in a separate file (.gro, .pdb, ...), or as a separate quickly-accessible datafield (.h5)."
   ]
  },
  {
   "cell_type": "code",
   "execution_count": null,
   "metadata": {
    "ExecuteTime": {
     "end_time": "2021-02-14T23:40:41.063104Z",
     "start_time": "2021-02-14T23:40:40.267003Z"
    }
   },
   "outputs": [],
   "source": [
    "for traj in [traj1, traj2, traj3]:\n",
    "    print(traj.top.to_fasta())"
   ]
  },
  {
   "cell_type": "markdown",
   "metadata": {},
   "source": [
    "### On demand loading"
   ]
  },
  {
   "cell_type": "markdown",
   "metadata": {},
   "source": [
    "**Difference between traj, trajectory and top, topology**\n",
    "\n",
    "traj and top always give mdtraj.Trajectory and mdtraj.Topology, respectively. They are loaded \"on demand\" and return the corresponding mdtraj object. After they are loaded, they are deleted again and the SingleTraj class is garbage collected.\n",
    "\n",
    "trajectory and topology can be `False` and represent the current *backend* of the TrajEnsemble object.\n",
    "\n",
    "This method saves RAM."
   ]
  },
  {
   "cell_type": "code",
   "execution_count": null,
   "metadata": {
    "ExecuteTime": {
     "end_time": "2021-02-14T23:40:41.793444Z",
     "start_time": "2021-02-14T23:40:41.701832Z"
    }
   },
   "outputs": [],
   "source": [
    "print(traj2.topology)\n",
    "print(traj2.top)\n",
    "print(traj2.topology)"
   ]
  },
  {
   "cell_type": "code",
   "execution_count": null,
   "metadata": {
    "ExecuteTime": {
     "end_time": "2021-02-14T23:40:42.070495Z",
     "start_time": "2021-02-14T23:40:41.873813Z"
    }
   },
   "outputs": [],
   "source": [
    "print(traj1.trajectory)\n",
    "print(traj1.traj)\n",
    "print(traj1.trajectory)"
   ]
  },
  {
   "cell_type": "markdown",
   "metadata": {},
   "source": [
    "Directly accessing attributes of the mdtraj.Trajectory will load it from disk and return the attributes"
   ]
  },
  {
   "cell_type": "code",
   "execution_count": null,
   "metadata": {
    "ExecuteTime": {
     "end_time": "2021-02-14T23:40:43.374308Z",
     "start_time": "2021-02-14T23:40:43.165911Z"
    }
   },
   "outputs": [],
   "source": [
    "if 'xy' not in traj1.__dict__:\n",
    "    print(\"No xyz data here\")\n",
    "print(traj1.xyz[0,0])"
   ]
  },
  {
   "cell_type": "markdown",
   "metadata": {},
   "source": [
    "**Loading can be forced**"
   ]
  },
  {
   "cell_type": "code",
   "execution_count": null,
   "metadata": {
    "ExecuteTime": {
     "end_time": "2021-02-14T23:40:43.958484Z",
     "start_time": "2021-02-14T23:40:43.879590Z"
    }
   },
   "outputs": [],
   "source": [
    "traj1.load_traj()\n",
    "print(traj1.topology)\n",
    "traj1.unload()\n",
    "print(traj1.topology)"
   ]
  },
  {
   "cell_type": "markdown",
   "metadata": {},
   "source": [
    "### Take a look with nglview"
   ]
  },
  {
   "cell_type": "code",
   "execution_count": null,
   "metadata": {
    "ExecuteTime": {
     "end_time": "2021-02-14T23:40:44.438922Z",
     "start_time": "2021-02-14T23:40:44.260737Z"
    }
   },
   "outputs": [],
   "source": [
    "view = traj2.show_traj()\n",
    "view"
   ]
  },
  {
   "cell_type": "markdown",
   "metadata": {},
   "source": [
    "### Class attributes\n",
    "\n",
    "**len** of the class is special, as it also reflects the loading state. If the current backend is 'no_load', len(em.SingleTraj) is 0."
   ]
  },
  {
   "cell_type": "code",
   "execution_count": null,
   "metadata": {
    "ExecuteTime": {
     "end_time": "2021-02-14T23:40:49.731850Z",
     "start_time": "2021-02-14T23:40:49.621376Z"
    }
   },
   "outputs": [],
   "source": [
    "traj1.load_traj()\n",
    "print(traj1.n_frames)\n",
    "print(traj1.n_atoms)\n",
    "print(traj1.basename)\n",
    "print(len(traj1), len(traj2), len(traj3))"
   ]
  },
  {
   "cell_type": "markdown",
   "metadata": {},
   "source": [
    "### Duplication of mdtraj\n",
    "\n",
    "Some methods and attributes are duplicated from mdtraj. This allows us to call some mdtraj functions on the SingleTraj object."
   ]
  },
  {
   "cell_type": "code",
   "execution_count": null,
   "metadata": {
    "ExecuteTime": {
     "end_time": "2021-02-14T23:40:50.915583Z",
     "start_time": "2021-02-14T23:40:50.837365Z"
    }
   },
   "outputs": [],
   "source": [
    "selection = traj1.top.select('name CA')\n",
    "print(selection[:5])\n",
    "dssp = md.compute_dssp(traj1.traj)\n",
    "print(dssp[0, :5].tolist())"
   ]
  },
  {
   "cell_type": "code",
   "execution_count": null,
   "metadata": {
    "ExecuteTime": {
     "end_time": "2021-02-14T23:40:51.438107Z",
     "start_time": "2021-02-14T23:40:51.401613Z"
    }
   },
   "outputs": [],
   "source": [
    "md.compute_center_of_mass(traj1.traj)[0]"
   ]
  },
  {
   "cell_type": "markdown",
   "metadata": {},
   "source": [
    "### Indexing\n",
    "\n",
    "By indexing the SingleTraj class you get another instance of the SingleTraj class containing only one frame."
   ]
  },
  {
   "cell_type": "code",
   "execution_count": null,
   "metadata": {
    "ExecuteTime": {
     "end_time": "2021-02-24T10:25:59.043670Z",
     "start_time": "2021-02-24T10:25:58.168297Z"
    }
   },
   "outputs": [],
   "source": [
    "frame = traj1[0]\n",
    "print(len(traj1))\n",
    "print(frame)\n",
    "print(len(frame))"
   ]
  },
  {
   "cell_type": "markdown",
   "metadata": {},
   "source": [
    "If the traj has currently not been loaded (backend = 'no_load') the frame number will be stored, until the traj is loaded."
   ]
  },
  {
   "cell_type": "code",
   "execution_count": null,
   "metadata": {
    "ExecuteTime": {
     "end_time": "2021-02-15T08:58:59.651558Z",
     "start_time": "2021-02-15T08:58:59.581550Z"
    }
   },
   "outputs": [],
   "source": [
    "traj1.unload()\n",
    "frame = traj1[1]\n",
    "print(frame)"
   ]
  },
  {
   "cell_type": "code",
   "execution_count": null,
   "metadata": {
    "ExecuteTime": {
     "end_time": "2021-02-15T08:59:00.863623Z",
     "start_time": "2021-02-15T08:59:00.678417Z"
    }
   },
   "outputs": [],
   "source": [
    "frame.load_traj()\n",
    "print(frame)"
   ]
  },
  {
   "cell_type": "markdown",
   "metadata": {},
   "source": [
    "### Advanced slicing\n",
    "\n",
    "You can also give a numpy array, a list or even a slice into the slicing."
   ]
  },
  {
   "cell_type": "code",
   "execution_count": null,
   "metadata": {
    "ExecuteTime": {
     "end_time": "2021-02-15T08:59:02.247011Z",
     "start_time": "2021-02-15T08:59:01.967827Z"
    }
   },
   "outputs": [],
   "source": [
    "traj1 = em.SingleTraj(\"tests/data/1am7_corrected.xtc\", \"tests/data/1am7_protein.pdb\")\n",
    "traj1.unload()\n",
    "subsample = traj1[::2]\n",
    "print(traj1.n_frames)\n",
    "print(subsample)\n",
    "print(subsample.n_frames)"
   ]
  },
  {
   "cell_type": "code",
   "execution_count": null,
   "metadata": {
    "ExecuteTime": {
     "end_time": "2021-02-15T08:59:03.257360Z",
     "start_time": "2021-02-15T08:59:02.918718Z"
    }
   },
   "outputs": [],
   "source": [
    "traj1.unload()\n",
    "subsample = traj1[[0, 1, 5, 6]]\n",
    "print(traj1.n_frames)\n",
    "print(subsample)\n",
    "print(subsample.n_frames)"
   ]
  },
  {
   "cell_type": "code",
   "execution_count": null,
   "metadata": {
    "ExecuteTime": {
     "end_time": "2021-02-15T08:59:12.975684Z",
     "start_time": "2021-02-15T08:59:12.705376Z"
    }
   },
   "outputs": [],
   "source": [
    "traj1.unload()\n",
    "subsample = traj1[5:46:3]\n",
    "print(traj1.n_frames)\n",
    "print(subsample)\n",
    "print(subsample.n_frames)"
   ]
  },
  {
   "cell_type": "markdown",
   "metadata": {
    "ExecuteTime": {
     "end_time": "2020-08-24T10:03:23.048619Z",
     "start_time": "2020-08-24T10:03:22.989465Z"
    }
   },
   "source": [
    "### Advanced slicing with HDF5\n",
    "\n",
    "The HDF5 file format (ending wiht .h5) allows us to directly extract frames and accelerate loading."
   ]
  },
  {
   "cell_type": "code",
   "execution_count": null,
   "metadata": {
    "ExecuteTime": {
     "end_time": "2021-02-15T08:59:14.744686Z",
     "start_time": "2021-02-15T08:59:14.642971Z"
    }
   },
   "outputs": [],
   "source": [
    "traj2.unload()\n",
    "subsample = traj2[5:46:3]\n",
    "print(traj2.n_frames)\n",
    "print(subsample)\n",
    "print(subsample.n_frames)"
   ]
  },
  {
   "cell_type": "code",
   "execution_count": null,
   "metadata": {
    "ExecuteTime": {
     "end_time": "2021-02-15T08:59:16.064515Z",
     "start_time": "2021-02-15T08:59:15.803460Z"
    }
   },
   "outputs": [],
   "source": [
    "subsample.load_traj()\n",
    "print(subsample.traj)"
   ]
  },
  {
   "cell_type": "code",
   "execution_count": null,
   "metadata": {
    "ExecuteTime": {
     "end_time": "2021-02-15T08:59:16.134491Z",
     "start_time": "2021-02-15T08:59:16.067153Z"
    }
   },
   "outputs": [],
   "source": [
    "traj2.unload()\n",
    "subsample = traj2[::3].traj\n",
    "print(traj2.n_frames)\n",
    "print(subsample)\n",
    "print(subsample.n_frames)"
   ]
  },
  {
   "cell_type": "code",
   "execution_count": null,
   "metadata": {
    "ExecuteTime": {
     "end_time": "2021-02-15T08:59:17.138037Z",
     "start_time": "2021-02-15T08:59:16.986478Z"
    }
   },
   "outputs": [],
   "source": [
    "traj2.unload()\n",
    "subsample = traj2[[0, 1, 5, 6]].traj\n",
    "print(subsample)\n",
    "print(subsample.n_frames)"
   ]
  },
  {
   "cell_type": "markdown",
   "metadata": {},
   "source": [
    "### Stacking, joining and adding\n",
    "\n",
    "There are three operations to concatenate two `SingleTraj` objects.\n",
    "\n",
    "- Adding (`traj1 + traj2`) adds trajectories along the 'trajectory-axis' and returns an `TrajEnsemble` (more on that later).\n",
    "- Stacking returns a `SingleTraj` with atoms stacked along the 'atom-axis'. For this method, the trajs need to have the same number of atoms. This method returns an mdtraj Trajectory, because `SingleTraj` can't handle multiple file sources (yet?).\n",
    "- Joining returns a `SingleTraj` with atoms stacked along the 'time-axis'. For this method, the trajs need to have the same topologies. This method returns an mdtraj Trajectory, because `SingleTraj` can't handle multiple file sources (yet?)."
   ]
  },
  {
   "cell_type": "code",
   "execution_count": null,
   "metadata": {
    "ExecuteTime": {
     "end_time": "2021-02-15T10:03:04.645403Z",
     "start_time": "2021-02-15T10:03:04.542104Z"
    }
   },
   "outputs": [],
   "source": [
    "traj1.traj"
   ]
  },
  {
   "cell_type": "code",
   "execution_count": null,
   "metadata": {
    "ExecuteTime": {
     "end_time": "2021-02-15T11:14:47.080382Z",
     "start_time": "2021-02-15T11:14:45.695053Z"
    }
   },
   "outputs": [],
   "source": [
    "traj1 = em.SingleTraj(\"tests/data/1am7_corrected.xtc\", \"tests/data/1am7_protein.pdb\")\n",
    "traj2 = em.SingleTraj(\"tests/data/traj.h5\")\n",
    "new = traj1 + traj2\n",
    "print(new, '\\n')\n",
    "\n",
    "if traj1.n_frames > traj2.n_frames:\n",
    "    traj1 = traj1[np.arange(traj2.n_frames)]\n",
    "else:\n",
    "    traj2 = traj1[np.arange(traj1.n_frames)]\n",
    "new = traj1.stack(traj2)\n",
    "print(new, '\\n')\n",
    "\n",
    "\n",
    "traj1 = em.SingleTraj(\"tests/data/1am7_corrected.xtc\", \"tests/data/1am7_protein.pdb\")[:5]\n",
    "traj2 = em.SingleTraj(\"tests/data/1am7_corrected.xtc\", \"tests/data/1am7_protein.pdb\")[:-5]\n",
    "new = traj1.join(traj2)\n",
    "print(new)"
   ]
  },
  {
   "cell_type": "markdown",
   "metadata": {},
   "source": [
    "### Superposing\n",
    "\n",
    "Similar to mdtraj `SingleTrajs` can be superposed."
   ]
  },
  {
   "cell_type": "code",
   "execution_count": null,
   "metadata": {
    "ExecuteTime": {
     "end_time": "2021-02-15T11:22:17.000457Z",
     "start_time": "2021-02-15T11:22:16.386826Z"
    }
   },
   "outputs": [],
   "source": [
    "traj1 = em.SingleTraj(\"tests/data/1am7_corrected.xtc\", \"tests/data/1am7_protein.pdb\")[0]\n",
    "traj2 = em.SingleTraj(\"tests/data/1am7_corrected.xtc\", \"tests/data/1am7_protein.pdb\")[-2:-1]\n",
    "\n",
    "superposed = traj1.superpose(traj2)\n",
    "\n",
    "view = superposed.show_traj()\n",
    "view"
   ]
  },
  {
   "cell_type": "markdown",
   "metadata": {},
   "source": [
    "### Equality"
   ]
  },
  {
   "cell_type": "code",
   "execution_count": null,
   "metadata": {
    "ExecuteTime": {
     "end_time": "2021-02-15T11:55:08.912147Z",
     "start_time": "2021-02-15T11:55:08.393200Z"
    }
   },
   "outputs": [],
   "source": [
    "traj1 = em.SingleTraj(\"tests/data/1am7_corrected.xtc\", \"tests/data/1am7_protein.pdb\")\n",
    "traj2 = em.SingleTraj(\"tests/data/1am7_corrected.xtc\", \"tests/data/1am7_protein.pdb\")\n",
    "\n",
    "print(traj1 == traj2)"
   ]
  },
  {
   "cell_type": "markdown",
   "metadata": {},
   "source": [
    "### Inside a context manager\n",
    "\n",
    "Inside a context manager the traj is loaded and upon exit, the traj is unloaded."
   ]
  },
  {
   "cell_type": "code",
   "execution_count": null,
   "metadata": {
    "ExecuteTime": {
     "end_time": "2021-02-15T11:50:39.349791Z",
     "start_time": "2021-02-15T11:50:39.152303Z"
    }
   },
   "outputs": [],
   "source": [
    "traj1 = em.SingleTraj(\"tests/data/1am7_corrected.xtc\", \"tests/data/1am7_protein.pdb\")\n",
    "\n",
    "with traj1 as t:\n",
    "    print(\"inside context\")\n",
    "    print(t.backend)\n",
    "    print(t.basename)\n",
    "    print(t.trajectory)\n",
    "    \n",
    "print(\"\\noutside context\")\n",
    "print(traj1.backend)\n",
    "print(traj1.basename)\n",
    "print(traj1.trajectory)"
   ]
  },
  {
   "cell_type": "markdown",
   "metadata": {},
   "source": [
    "### Reversed"
   ]
  },
  {
   "cell_type": "code",
   "execution_count": null,
   "metadata": {
    "ExecuteTime": {
     "end_time": "2021-02-15T11:36:11.005463Z",
     "start_time": "2021-02-15T11:36:10.723453Z"
    }
   },
   "outputs": [],
   "source": [
    "traj1 = reversed(em.SingleTraj(\"tests/data/1am7_corrected.xtc\", \"tests/data/1am7_protein.pdb\"))\n",
    "print(traj1.time[:5])"
   ]
  },
  {
   "cell_type": "markdown",
   "metadata": {},
   "source": [
    "### Iteration\n",
    "\n",
    "To make iteration work and know, where to stop, the trajectory is loaded into memory."
   ]
  },
  {
   "cell_type": "code",
   "execution_count": null,
   "metadata": {},
   "outputs": [],
   "source": [
    "for o, name in zip(out, ['name1', 'name2']):\n",
    "    "
   ]
  },
  {
   "cell_type": "code",
   "execution_count": null,
   "metadata": {
    "ExecuteTime": {
     "end_time": "2021-02-15T15:16:34.895002Z",
     "start_time": "2021-02-15T15:16:34.430074Z"
    }
   },
   "outputs": [],
   "source": [
    "traj1 = em.SingleTraj(\"tests/data/1am7_corrected.xtc\", \"tests/data/1am7_protein.pdb\")\n",
    "traj1.load_CV(traj1.xyz[:,:,0], 'z_coordinate')\n",
    "\n",
    "for i, frame in enumerate(traj1):\n",
    "    print(frame)\n",
    "    print(frame.z_coordinate)\n",
    "    if i == 3:\n",
    "        break"
   ]
  },
  {
   "cell_type": "markdown",
   "metadata": {},
   "source": [
    "### Save\n",
    "\n",
    "Th HDF5 file format is especially useful, when saving trajs, as it also offers the possibility to directly save CVs into the same file."
   ]
  },
  {
   "cell_type": "code",
   "execution_count": null,
   "metadata": {
    "ExecuteTime": {
     "end_time": "2021-02-15T14:44:25.596553Z",
     "start_time": "2021-02-15T14:44:25.115262Z"
    }
   },
   "outputs": [],
   "source": [
    "traj1 = em.SingleTraj(\"tests/data/1am7_corrected.xtc\", \"tests/data/1am7_protein.pdb\")\n",
    "traj1.load_CV(traj1.xyz[:,:,:2], 'x_and_y_coordinate')\n",
    "print(traj1.x_and_y_coordinate.shape)\n",
    "traj1.save(\"tests/data/1am7_corrected_with_CVs.h5\", overwrite=True)"
   ]
  },
  {
   "cell_type": "code",
   "execution_count": null,
   "metadata": {
    "ExecuteTime": {
     "end_time": "2021-02-15T14:44:26.346522Z",
     "start_time": "2021-02-15T14:44:26.249919Z"
    }
   },
   "outputs": [],
   "source": [
    "test = em.SingleTraj(\"tests/data/1am7_corrected_with_CVs.h5\")\n",
    "test.x_and_y_coordinate.shape"
   ]
  },
  {
   "cell_type": "markdown",
   "metadata": {},
   "source": [
    "## The new `TrajEnsemble` class.\n",
    "\n",
    "This class is meant to keep track of many trajectories. Internally the TrajEnsemble class contains a list of SingleTraj classes."
   ]
  },
  {
   "cell_type": "markdown",
   "metadata": {},
   "source": [
    "### Initalize\n",
    "\n",
    "As input for the TrajEnsemble class lists of traj and top files are provided. These files might also possible have different topologies (number of atoms, bonds). In that case the `common_str` argument is used to group the trajectory files and topology files into sub-units with identical topology.\n",
    "\n",
    "**Make sure that the `common_str` argument is a substring of the trajectory and topology files.**\n",
    "\n",
    "**In contrast to the `SingleTraj` class here, the trajectories are loaded to ensure that all lists and arrays are of the correct size.**"
   ]
  },
  {
   "cell_type": "code",
   "execution_count": null,
   "metadata": {
    "ExecuteTime": {
     "end_time": "2021-02-15T22:33:56.539519Z",
     "start_time": "2021-02-15T22:33:51.467141Z"
    }
   },
   "outputs": [],
   "source": [
    "# traj = em.SingleTraj(\"https://files.rcsb.org/view/1YUG.pdb\")\n",
    "# np.save(\"development/1YUG_x_and_y_coordinate.npy\", traj.xyz[:,:,:2])\n",
    "# traj = em.SingleTraj(\"https://files.rcsb.org/view/1YUF.pdb\")\n",
    "# np.save(\"development/1YUF_x_and_y_coordinate.npy\", traj.xyz[:,:,:2])"
   ]
  },
  {
   "cell_type": "code",
   "execution_count": null,
   "metadata": {},
   "outputs": [],
   "source": [
    "import encodermap as em\n"
   ]
  },
  {
   "cell_type": "code",
   "execution_count": null,
   "metadata": {
    "ExecuteTime": {
     "end_time": "2021-02-15T22:50:32.481739Z",
     "start_time": "2021-02-15T22:50:30.344437Z"
    }
   },
   "outputs": [],
   "source": [
    "# traj1 = \"https://files.rcsb.org/view/1YUG.pdb\"\n",
    "# traj2 = \"https://files.rcsb.org/view/1YUF.pdb\"\n",
    "# trajs = em.TrajEnsemble([traj1, traj2])\n",
    "\n",
    "trajs.load_CV('x_and_y_coordinate', directory='development/')\n",
    "print(trajs.)"
   ]
  },
  {
   "cell_type": "code",
   "execution_count": null,
   "metadata": {},
   "outputs": [],
   "source": [
    "import shutil\n",
    "shutil.copyfile(\"tests/data/1am7_protein.pdb\", \"tests/data/1am7_protein.pdb\")"
   ]
  },
  {
   "cell_type": "code",
   "execution_count": null,
   "metadata": {},
   "outputs": [],
   "source": [
    "trajs = glob.glob('tests/data/')\n",
    "print(len(trajs)) # prints the number pf objects in list\n",
    "\n",
    "ref_pdbs = glob.glob('/home/kevin/projects/expansion_elephant/example_files/*.pdb')\n",
    "print(len(ref_pdbs))"
   ]
  },
  {
   "cell_type": "markdown",
   "metadata": {},
   "source": [
    "# Loading arbitrary CVs"
   ]
  },
  {
   "cell_type": "markdown",
   "metadata": {},
   "source": [
    "## Getting highd Info\n",
    "\n",
    "The `loading` submodule is heavily leaned on PyEMMA's featurization. That's the way to extract HighD Data"
   ]
  },
  {
   "cell_type": "code",
   "execution_count": null,
   "metadata": {
    "ExecuteTime": {
     "end_time": "2020-08-24T11:23:00.827911Z",
     "start_time": "2020-08-24T11:23:00.746773Z"
    }
   },
   "outputs": [],
   "source": [
    "traj = em.SingleTraj(\"tests/data/1am7_corrected.xtc\", \"tests/data/1am7_protein.pdb\")"
   ]
  },
  {
   "cell_type": "markdown",
   "metadata": {},
   "source": [
    "Initialize a encodermap Featurizer. In contrast to PyEMMA Encodermap can work with mutliple trajectories with arbitrary topologies (more on that in the TrajEnsemble class)."
   ]
  },
  {
   "cell_type": "code",
   "execution_count": null,
   "metadata": {
    "ExecuteTime": {
     "end_time": "2020-08-24T11:25:31.116070Z",
     "start_time": "2020-08-24T11:25:30.885124Z"
    }
   },
   "outputs": [],
   "source": [
    "feat = em.loading.Featurizer(traj.reference)"
   ]
  },
  {
   "cell_type": "markdown",
   "metadata": {},
   "source": [
    "Add some info and describe."
   ]
  },
  {
   "cell_type": "code",
   "execution_count": null,
   "metadata": {
    "ExecuteTime": {
     "end_time": "2020-08-24T11:33:16.907268Z",
     "start_time": "2020-08-24T11:33:15.704966Z"
    }
   },
   "outputs": [],
   "source": [
    "feat.add_backbone_torsions()\n",
    "feat.describe()[:5]"
   ]
  },
  {
   "cell_type": "markdown",
   "metadata": {},
   "source": [
    "Load. This is heavily parallelized, thanks to PyEMMA."
   ]
  },
  {
   "cell_type": "code",
   "execution_count": null,
   "metadata": {
    "ExecuteTime": {
     "end_time": "2020-08-24T11:31:39.642587Z",
     "start_time": "2020-08-24T11:31:39.266492Z"
    }
   },
   "outputs": [],
   "source": [
    "highd = em.loading.load(traj, feat)"
   ]
  },
  {
   "cell_type": "markdown",
   "metadata": {},
   "source": [
    "Set the highd data. Note how now the frame info will be known, because the Trajectory has been opened once and the frames are in the highD data."
   ]
  },
  {
   "cell_type": "code",
   "execution_count": null,
   "metadata": {
    "ExecuteTime": {
     "end_time": "2020-08-24T11:36:32.431773Z",
     "start_time": "2020-08-24T11:36:31.785711Z"
    }
   },
   "outputs": [],
   "source": [
    "traj.set_highd(highd)"
   ]
  },
  {
   "cell_type": "code",
   "execution_count": null,
   "metadata": {
    "ExecuteTime": {
     "end_time": "2020-08-24T11:36:43.772803Z",
     "start_time": "2020-08-24T11:36:43.680428Z"
    }
   },
   "outputs": [],
   "source": [
    "import pandas as pd\n",
    "pd.options.display.max_rows = 5\n",
    "traj.df"
   ]
  },
  {
   "cell_type": "code",
   "execution_count": null,
   "metadata": {},
   "outputs": [],
   "source": [
    "# %% Test the different ways to save a CV\n",
    "# numpy\n",
    "traj = em.SingleTraj('tests/data/1am7_corrected.xtc', 'tests/data/1am7_protein.pdb')\n",
    "traj.load_CV(\"central_cartesians_test.npy\")\n",
    "traj.central_cartesians_test\n",
    "\n",
    "# %% Numpy\n",
    "np_array = np.squeeze(data['central_cartesians'].values)\n",
    "traj = em.SingleTraj('tests/data/1am7_corrected.xtc', 'tests/data/1am7_protein.pdb')\n",
    "traj.load_CV(np_array, 'central_cartesians')\n",
    "traj.central_cartesians\n",
    "\n",
    "# %% xarray\n",
    "traj = em.SingleTraj('tests/data/1am7_corrected.xtc', 'tests/data/1am7_protein.pdb')\n",
    "traj.load_CV(data['central_cartesians'])\n",
    "traj.central_cartesians\n",
    "\n",
    "# %% Feature\n",
    "traj = em.SingleTraj('tests/data/1am7_corrected.xtc', 'tests/data/1am7_protein.pdb')\n",
    "backbone_torsions = em.loading.features.CentralTorsions(traj.top)\n",
    "traj.load_CV(backbone_torsions)\n",
    "\n",
    "# %% Featurizer\n",
    "traj = em.SingleTraj('tests/data/1am7_corrected.xtc', 'tests/data/1am7_protein.pdb')\n",
    "backbone_torsions = em.loading.features.CentralTorsions(traj.top)\n",
    "feat = em.Featurizer(traj)\n",
    "feat.add_list_of_feats()\n",
    "traj.load_CV(feat)\n",
    "print(traj.CVs)"
   ]
  }
 ],
 "metadata": {
  "kernelspec": {
   "display_name": "Python 3 (ipykernel)",
   "language": "python",
   "name": "python3"
  },
  "language_info": {
   "codemirror_mode": {
    "name": "ipython",
    "version": 3
   },
   "file_extension": ".py",
   "mimetype": "text/x-python",
   "name": "python",
   "nbconvert_exporter": "python",
   "pygments_lexer": "ipython3",
   "version": "3.9.6"
  },
  "latex_envs": {
   "LaTeX_envs_menu_present": true,
   "autoclose": false,
   "autocomplete": true,
   "bibliofile": "biblio.bib",
   "cite_by": "apalike",
   "current_citInitial": 1,
   "eqLabelWithNumbers": true,
   "eqNumInitial": 1,
   "hotkeys": {
    "equation": "Ctrl-E",
    "itemize": "Ctrl-I"
   },
   "labels_anchors": false,
   "latex_user_defs": false,
   "report_style_numbering": false,
   "user_envs_cfg": false
  },
  "toc": {
   "base_numbering": 1,
   "nav_menu": {},
   "number_sections": true,
   "sideBar": true,
   "skip_h1_title": false,
   "title_cell": "Table of Contents",
   "title_sidebar": "Contents",
   "toc_cell": false,
   "toc_position": {},
   "toc_section_display": true,
   "toc_window_display": true
  }
 },
 "nbformat": 4,
 "nbformat_minor": 2
}
